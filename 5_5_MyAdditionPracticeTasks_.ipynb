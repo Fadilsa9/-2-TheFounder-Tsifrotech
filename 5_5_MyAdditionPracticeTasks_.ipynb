{
  "nbformat": 4,
  "nbformat_minor": 0,
  "metadata": {
    "colab": {
      "provenance": [],
      "authorship_tag": "ABX9TyM/36f0KMIzK++7hpYNeXuw"
    },
    "kernelspec": {
      "name": "python3",
      "display_name": "Python 3"
    },
    "language_info": {
      "name": "python"
    }
  },
  "cells": [
    {
      "cell_type": "code",
      "source": [
        "import numpy as np\n",
        "\n",
        "\n",
        "class Neuron:\n",
        "    def __init__ (self, w):\n",
        "        self.w = w\n",
        "\n",
        "    def у(self, x) :\n",
        "        s = np.dot(self.w, x) # Сумматор вычисляется как матричное умножение вектора весов на входной вектор\n",
        "        return s\n",
        "\n",
        "# Суммируем входы\n",
        "# Задаем входной вектор\n",
        "Xi = np.array([2, 3]) # Преобразуем входной список в входной вектор\n",
        "\n",
        "# Задаем вектор весов\n",
        "Wi = np.array([1, 1]) # Получаем вектор весов\n",
        "n = Neuron(Wi) # Создание объекта из класса Neuron\n",
        "print('S = ', n.у(Xi))"
      ],
      "metadata": {
        "id": "nwZ6qU1qchGj",
        "colab": {
          "base_uri": "https://localhost:8080/"
        },
        "outputId": "e4108395-83e4-4821-e220-9a0c21ffae75"
      },
      "execution_count": 1,
      "outputs": [
        {
          "output_type": "stream",
          "name": "stdout",
          "text": [
            "S =  5\n"
          ]
        }
      ]
    },
    {
      "cell_type": "code",
      "source": [],
      "metadata": {
        "id": "4lwn6pKicfKK"
      },
      "execution_count": null,
      "outputs": []
    },
    {
      "cell_type": "code",
      "source": [],
      "metadata": {
        "id": "5wFCnaesU9Ze"
      },
      "execution_count": null,
      "outputs": []
    },
    {
      "cell_type": "code",
      "source": [],
      "metadata": {
        "id": "7bAvW28FU_ea"
      },
      "execution_count": null,
      "outputs": []
    },
    {
      "cell_type": "code",
      "source": [],
      "metadata": {
        "id": "sVhEqD-jU_lr"
      },
      "execution_count": null,
      "outputs": []
    }
  ]
}