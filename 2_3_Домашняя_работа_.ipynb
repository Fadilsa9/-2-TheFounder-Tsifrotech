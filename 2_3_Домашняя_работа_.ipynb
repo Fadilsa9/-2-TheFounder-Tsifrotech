{
  "nbformat": 4,
  "nbformat_minor": 0,
  "metadata": {
    "colab": {
      "provenance": [],
      "authorship_tag": "ABX9TyOn03O+ro/kYqOPSlOkpVmn",
      "include_colab_link": true
    },
    "kernelspec": {
      "name": "python3",
      "display_name": "Python 3"
    },
    "language_info": {
      "name": "python"
    }
  },
  "cells": [
    {
      "cell_type": "markdown",
      "metadata": {
        "id": "view-in-github",
        "colab_type": "text"
      },
      "source": [
        "<a href=\"https://colab.research.google.com/github/Fadilsa9/TSIFROTECH-The-Founder/blob/main/2_3_%D0%94%D0%BE%D0%BC%D0%B0%D1%88%D0%BD%D1%8F%D1%8F_%D1%80%D0%B0%D0%B1%D0%BE%D1%82%D0%B0_.ipynb\" target=\"_parent\"><img src=\"https://colab.research.google.com/assets/colab-badge.svg\" alt=\"Open In Colab\"/></a>"
      ]
    },
    {
      "cell_type": "markdown",
      "source": [
        "## Задача 1. Приветствие."
      ],
      "metadata": {
        "id": "ZzjUAyrL6jgO"
      }
    },
    {
      "cell_type": "markdown",
      "source": [
        "**Условие.** Напишите программу, запрашивающую у пользователя его имя. В ответ\n",
        "на ввод на экране должно появиться приветствие с обращением по имени,\n",
        "введенному с клавиатуры ранее.\n"
      ],
      "metadata": {
        "id": "M4OAOB6s6mU7"
      }
    },
    {
      "cell_type": "code",
      "source": [
        "#Напишите свое решение\n",
        "\n",
        "privet = input(\"What's your name? \")\n",
        "print('Hello',privet, \", you're welcome\")"
      ],
      "metadata": {
        "id": "C2W-ZDOF6mzF",
        "colab": {
          "base_uri": "https://localhost:8080/"
        },
        "outputId": "3f284794-4d38-4b73-a611-35b6a8ff5a95"
      },
      "execution_count": null,
      "outputs": [
        {
          "output_type": "stream",
          "name": "stdout",
          "text": [
            "What's your name? TheFounder\n",
            "Hello TheFounder , you're welcome\n"
          ]
        }
      ]
    },
    {
      "cell_type": "markdown",
      "source": [
        "## Задача 2. Сувениры и безделушки."
      ],
      "metadata": {
        "id": "UG8mwj2-eALV"
      }
    },
    {
      "cell_type": "markdown",
      "source": [
        "**Условие.** Интернет-магазин занимается продажей различных сувениров и безделушек. Каждый сувенир весит 75 г, а безделушка – 112 г. Напишите программу, запрашивающую у пользователя количество тех и других покупок,\n",
        "после чего выведите на экран общий вес посылки.\n"
      ],
      "metadata": {
        "id": "ay2EfeBreALW"
      }
    },
    {
      "cell_type": "code",
      "source": [
        "#Напишите свое решение\n",
        "\n",
        "cyviner = int(input('Сколько сувениров у вас есть? '))\n",
        "bezdelyshka = int(input('Cколько безделушек у вас есть? '))\n",
        "\n",
        "total = (cyviner * 75) + (bezdelyshka * 112)\n",
        "\n",
        "print(total, 'гр')"
      ],
      "metadata": {
        "id": "WY-KRVHyeALX",
        "colab": {
          "base_uri": "https://localhost:8080/"
        },
        "outputId": "40604a44-6fcf-4253-d5aa-0a8b95d44a84"
      },
      "execution_count": null,
      "outputs": [
        {
          "output_type": "stream",
          "name": "stdout",
          "text": [
            "Сколько сувениров у вас есть? 2\n",
            "Cколько безделушек у вас есть? 3\n",
            "486 гр\n"
          ]
        }
      ]
    },
    {
      "cell_type": "markdown",
      "source": [
        "## Задача 3. Сложные проценты"
      ],
      "metadata": {
        "id": "v2IXqDTVeBfM"
      }
    },
    {
      "cell_type": "markdown",
      "source": [
        "**Условие.** Представьте, что вы открыли в банке сберегательный счет под 4 % годовых. Проценты банк рассчитывает в конце года и добавляет к сумме счета.\n",
        "Напишите программу, которая запрашивает у пользователя сумму первоначального депозита, после чего рассчитывает и выводит на экран сумму\n",
        "на счету в конце первого, второго и третьего годов. Все суммы должны\n",
        "быть округлены до двух знаков после запятой.\n",
        "\n"
      ],
      "metadata": {
        "id": "rGE3sh2ueBfN"
      }
    },
    {
      "cell_type": "code",
      "source": [
        "#Напишите свое решение\n",
        "\n",
        "sum = float(input('Ваш первоначальный депозит (в рублях): '))\n",
        "\n",
        "year1 = sum + sum/4\n",
        "year2 = year1 + year1/4\n",
        "year3 = year2 + year2/4\n",
        "\n",
        "print(f\"\\nСумма на счету первого года: {year1:.2f} ₽\")\n",
        "print(f\"Сумма на счету второго года: {year2:.2f} ₽\")\n",
        "print(f\"Сумма на счету третього года: {year3:.2f} ₽\")"
      ],
      "metadata": {
        "id": "0DYIIu98eBfN",
        "colab": {
          "base_uri": "https://localhost:8080/"
        },
        "outputId": "b64427c3-cbe5-4f05-855d-fb61dc59d240"
      },
      "execution_count": null,
      "outputs": [
        {
          "output_type": "stream",
          "name": "stdout",
          "text": [
            "Ваш первоначальный депозит (в рублях): 1000\n",
            "\n",
            "Сумма на счету первого года: 1250.00 ₽\n",
            "Сумма на счету второго года: 1562.50 ₽\n",
            "Сумма на счету третього года: 1953.12 ₽\n"
          ]
        }
      ]
    },
    {
      "cell_type": "markdown",
      "source": [
        "## Задача 4. Арифметика"
      ],
      "metadata": {
        "id": "d9y6YzAvuW4l"
      }
    },
    {
      "cell_type": "markdown",
      "source": [
        "**Условие.** Создайте программу, которая запрашивает у пользователя два целых числа a и b, после чего выводит на экран результаты следующих математических операций:\n",
        "* сумма a и b;\n",
        "* разница между a и b; ( \"разница между a и b\" означает \"a минус b\" )\n",
        "* произведение a и b; (\"Произведение a и b\" означает умножение a на b.)\n",
        "* частное от деления a на b;\n",
        "* остаток от деления a на b;\n",
        "* десятичный логарифм числа a;\n",
        "* результат возведения числа a в степень b."
      ],
      "metadata": {
        "id": "ZeZZ2IrUuW4m"
      }
    },
    {
      "cell_type": "code",
      "source": [
        "#Напишите свое решение\n",
        "\n",
        "a = int(input('Введите число a: '))\n",
        "b = int(input('Введите число b: '))\n",
        "\n",
        "print(f'\\nСумма а и b: {a+b}')\n",
        "print(f'разница между a и b: {a-b}')\n",
        "print(f'произведение a и b: {a*b}')\n",
        "print(f'остаток от деления a на b: {a%b}')\n",
        "\n",
        "import math\n",
        "a_log10 = math.log10(a)\n",
        "print(f'десятичный логарифм числа a: {a_log10}')\n",
        "\n",
        "print(f'результат возведения числа a в степень b: {a**b}')"
      ],
      "metadata": {
        "id": "gCbjinmpuW4m",
        "colab": {
          "base_uri": "https://localhost:8080/"
        },
        "outputId": "c204f50e-c43d-473f-fcae-ee7cd3196028"
      },
      "execution_count": null,
      "outputs": [
        {
          "output_type": "stream",
          "name": "stdout",
          "text": [
            "Введите число a: 10\n",
            "Введите число b: 9\n",
            "\n",
            "Сумма а и b: 19\n",
            "разница между a и b: 1\n",
            "произведение a и b: 90\n",
            "остаток от деления a на b: 1\n",
            "десятичный логарифм числа a: 1.0\n",
            "результат возведения числа a в степень b: 1000000000\n"
          ]
        }
      ]
    }
  ]
}