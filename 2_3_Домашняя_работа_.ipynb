{
  "nbformat": 4,
  "nbformat_minor": 0,
  "metadata": {
    "colab": {
      "provenance": [],
      "authorship_tag": "ABX9TyMcZ79rL8HSZ0vgKPa6zVL/",
      "include_colab_link": true
    },
    "kernelspec": {
      "name": "python3",
      "display_name": "Python 3"
    },
    "language_info": {
      "name": "python"
    }
  },
  "cells": [
    {
      "cell_type": "markdown",
      "metadata": {
        "id": "view-in-github",
        "colab_type": "text"
      },
      "source": [
        "<a href=\"https://colab.research.google.com/github/Fadilsa9/TSIFROTECH-The-Founder/blob/main/2_3_%D0%94%D0%BE%D0%BC%D0%B0%D1%88%D0%BD%D1%8F%D1%8F_%D1%80%D0%B0%D0%B1%D0%BE%D1%82%D0%B0_.ipynb\" target=\"_parent\"><img src=\"https://colab.research.google.com/assets/colab-badge.svg\" alt=\"Open In Colab\"/></a>"
      ]
    },
    {
      "cell_type": "markdown",
      "source": [
        "## Задача 1. Приветствие."
      ],
      "metadata": {
        "id": "ZzjUAyrL6jgO"
      }
    },
    {
      "cell_type": "markdown",
      "source": [
        "**Условие.** Напишите программу, запрашивающую у пользователя его имя. В ответ\n",
        "на ввод на экране должно появиться приветствие с обращением по имени,\n",
        "введенному с клавиатуры ранее.\n"
      ],
      "metadata": {
        "id": "M4OAOB6s6mU7"
      }
    },
    {
      "cell_type": "code",
      "source": [
        "#Напишите свое решение\n",
        "\n",
        "privet = input(\"What's your name? \")\n",
        "print('Hello',privet, \", you're welcome\")"
      ],
      "metadata": {
        "id": "C2W-ZDOF6mzF",
        "colab": {
          "base_uri": "https://localhost:8080/"
        },
        "outputId": "3f284794-4d38-4b73-a611-35b6a8ff5a95"
      },
      "execution_count": null,
      "outputs": [
        {
          "output_type": "stream",
          "name": "stdout",
          "text": [
            "What's your name? TheFounder\n",
            "Hello TheFounder , you're welcome\n"
          ]
        }
      ]
    },
    {
      "cell_type": "markdown",
      "source": [
        "## Задача 2. Сувениры и безделушки."
      ],
      "metadata": {
        "id": "UG8mwj2-eALV"
      }
    },
    {
      "cell_type": "markdown",
      "source": [
        "**Условие.** Интернет-магазин занимается продажей различных сувениров и безделушек. Каждый сувенир весит 75 г, а безделушка – 112 г. Напишите программу, запрашивающую у пользователя количество тех и других покупок,\n",
        "после чего выведите на экран общий вес посылки.\n"
      ],
      "metadata": {
        "id": "ay2EfeBreALW"
      }
    },
    {
      "cell_type": "code",
      "source": [
        "#Напишите свое решение\n",
        "\n",
        "cyviner = int(input('Сколько сувениров у вас есть? '))\n",
        "bezdelyshka = int(input('Cколько безделушек у вас есть? '))\n",
        "\n",
        "total = (cyviner * 75) + (bezdelyshka * 112)\n",
        "\n",
        "print(total, 'гр')"
      ],
      "metadata": {
        "id": "WY-KRVHyeALX",
        "colab": {
          "base_uri": "https://localhost:8080/"
        },
        "outputId": "40604a44-6fcf-4253-d5aa-0a8b95d44a84"
      },
      "execution_count": null,
      "outputs": [
        {
          "output_type": "stream",
          "name": "stdout",
          "text": [
            "Сколько сувениров у вас есть? 2\n",
            "Cколько безделушек у вас есть? 3\n",
            "486 гр\n"
          ]
        }
      ]
    }
  ]
}