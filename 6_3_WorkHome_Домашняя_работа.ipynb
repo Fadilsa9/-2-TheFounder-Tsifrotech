{
  "nbformat": 4,
  "nbformat_minor": 0,
  "metadata": {
    "colab": {
      "provenance": []
    },
    "kernelspec": {
      "name": "python3",
      "display_name": "Python 3"
    },
    "language_info": {
      "name": "python"
    }
  },
  "cells": [
    {
      "cell_type": "markdown",
      "source": [
        "**Навигация по уроку**\n",
        "\n",
        "1. Введение в Data Science\n",
        "2. Поиск, сбор и первичная обработка данных\n",
        "3. Домашняя работа"
      ],
      "metadata": {
        "id": "8LIWrmOPjBO6"
      }
    },
    {
      "cell_type": "markdown",
      "source": [
        "## Задача 1. Книги без буквы E."
      ],
      "metadata": {
        "id": "ZzjUAyrL6jgO"
      }
    },
    {
      "cell_type": "markdown",
      "source": [
        "**Условие.** В истории литературы известен случай написания романа объемом около\n",
        "50 тыс. слов, в котором ни разу не была употреблена самая популярная\n",
        "в английском алфавите буква E. Название его – «Gadsby».\n",
        "Напишите программу, которая будет считывать список слов из файла и собирать статистику о том, в каком проценте слов используется каждая буква алфавита. Выведите результат для всех 26 букв английского алфавита и отдельно отметьте букву, которая встречалась в словах наиболее редко. В  вашей программе должны игнорироваться знаки препинания и регистр символов.\n"
      ],
      "metadata": {
        "id": "M4OAOB6s6mU7"
      }
    },
    {
      "cell_type": "markdown",
      "source": [
        "**Подсказки.**\n",
        "1. Переведите все слова в верхний регистр:\n",
        "```\n",
        "word = word.upper().rstrip() # upper - переводит строку в верхний регистр\n",
        "```\n",
        "2. Создайте словарь со счетчиком слов, содержащий каждую букву\n",
        "```\n",
        "# Для каждой буквы инициализируем счетчик нулем\n",
        "counts = {}\n",
        "for ch in \"ABCDEFGHIJKLMNOPQRSTUVWXYZ\":\n",
        "       counts[ch] = 0\n",
        "```\n",
        "3. Наиболее редко используемые буквы можно найти следующим образом:\n",
        "```\n",
        "smallest_count = min(counts.values()) # min - возвращает наименьшее число в списке\n",
        "```"
      ],
      "metadata": {
        "id": "1X5QIF1nryYd"
      }
    },
    {
      "cell_type": "code",
      "source": [
        "# Убедиться, что файл загружен правильно:\n",
        "import os\n",
        "print(os.listdir())"
      ],
      "metadata": {
        "colab": {
          "base_uri": "https://localhost:8080/"
        },
        "id": "vtIMqZaIQENT",
        "outputId": "2bf0f47f-ae57-419a-ff78-ba7ce7713415"
      },
      "execution_count": 6,
      "outputs": [
        {
          "output_type": "stream",
          "name": "stdout",
          "text": [
            "['.config', 'sample_data']\n"
          ]
        }
      ]
    },
    {
      "cell_type": "code",
      "source": [
        "# загрузить файл\n",
        "from google.colab import files\n",
        "uploaded = files.upload()"
      ],
      "metadata": {
        "colab": {
          "base_uri": "https://localhost:8080/",
          "height": 73
        },
        "id": "O7bIZH3pQPkd",
        "outputId": "6abbb9b2-3038-42bf-cb90-92b61f8d685f"
      },
      "execution_count": 8,
      "outputs": [
        {
          "output_type": "display_data",
          "data": {
            "text/plain": [
              "<IPython.core.display.HTML object>"
            ],
            "text/html": [
              "\n",
              "     <input type=\"file\" id=\"files-81f7ac60-b85e-4de5-9cea-735b40aadfb2\" name=\"files[]\" multiple disabled\n",
              "        style=\"border:none\" />\n",
              "     <output id=\"result-81f7ac60-b85e-4de5-9cea-735b40aadfb2\">\n",
              "      Upload widget is only available when the cell has been executed in the\n",
              "      current browser session. Please rerun this cell to enable.\n",
              "      </output>\n",
              "      <script>// Copyright 2017 Google LLC\n",
              "//\n",
              "// Licensed under the Apache License, Version 2.0 (the \"License\");\n",
              "// you may not use this file except in compliance with the License.\n",
              "// You may obtain a copy of the License at\n",
              "//\n",
              "//      http://www.apache.org/licenses/LICENSE-2.0\n",
              "//\n",
              "// Unless required by applicable law or agreed to in writing, software\n",
              "// distributed under the License is distributed on an \"AS IS\" BASIS,\n",
              "// WITHOUT WARRANTIES OR CONDITIONS OF ANY KIND, either express or implied.\n",
              "// See the License for the specific language governing permissions and\n",
              "// limitations under the License.\n",
              "\n",
              "/**\n",
              " * @fileoverview Helpers for google.colab Python module.\n",
              " */\n",
              "(function(scope) {\n",
              "function span(text, styleAttributes = {}) {\n",
              "  const element = document.createElement('span');\n",
              "  element.textContent = text;\n",
              "  for (const key of Object.keys(styleAttributes)) {\n",
              "    element.style[key] = styleAttributes[key];\n",
              "  }\n",
              "  return element;\n",
              "}\n",
              "\n",
              "// Max number of bytes which will be uploaded at a time.\n",
              "const MAX_PAYLOAD_SIZE = 100 * 1024;\n",
              "\n",
              "function _uploadFiles(inputId, outputId) {\n",
              "  const steps = uploadFilesStep(inputId, outputId);\n",
              "  const outputElement = document.getElementById(outputId);\n",
              "  // Cache steps on the outputElement to make it available for the next call\n",
              "  // to uploadFilesContinue from Python.\n",
              "  outputElement.steps = steps;\n",
              "\n",
              "  return _uploadFilesContinue(outputId);\n",
              "}\n",
              "\n",
              "// This is roughly an async generator (not supported in the browser yet),\n",
              "// where there are multiple asynchronous steps and the Python side is going\n",
              "// to poll for completion of each step.\n",
              "// This uses a Promise to block the python side on completion of each step,\n",
              "// then passes the result of the previous step as the input to the next step.\n",
              "function _uploadFilesContinue(outputId) {\n",
              "  const outputElement = document.getElementById(outputId);\n",
              "  const steps = outputElement.steps;\n",
              "\n",
              "  const next = steps.next(outputElement.lastPromiseValue);\n",
              "  return Promise.resolve(next.value.promise).then((value) => {\n",
              "    // Cache the last promise value to make it available to the next\n",
              "    // step of the generator.\n",
              "    outputElement.lastPromiseValue = value;\n",
              "    return next.value.response;\n",
              "  });\n",
              "}\n",
              "\n",
              "/**\n",
              " * Generator function which is called between each async step of the upload\n",
              " * process.\n",
              " * @param {string} inputId Element ID of the input file picker element.\n",
              " * @param {string} outputId Element ID of the output display.\n",
              " * @return {!Iterable<!Object>} Iterable of next steps.\n",
              " */\n",
              "function* uploadFilesStep(inputId, outputId) {\n",
              "  const inputElement = document.getElementById(inputId);\n",
              "  inputElement.disabled = false;\n",
              "\n",
              "  const outputElement = document.getElementById(outputId);\n",
              "  outputElement.innerHTML = '';\n",
              "\n",
              "  const pickedPromise = new Promise((resolve) => {\n",
              "    inputElement.addEventListener('change', (e) => {\n",
              "      resolve(e.target.files);\n",
              "    });\n",
              "  });\n",
              "\n",
              "  const cancel = document.createElement('button');\n",
              "  inputElement.parentElement.appendChild(cancel);\n",
              "  cancel.textContent = 'Cancel upload';\n",
              "  const cancelPromise = new Promise((resolve) => {\n",
              "    cancel.onclick = () => {\n",
              "      resolve(null);\n",
              "    };\n",
              "  });\n",
              "\n",
              "  // Wait for the user to pick the files.\n",
              "  const files = yield {\n",
              "    promise: Promise.race([pickedPromise, cancelPromise]),\n",
              "    response: {\n",
              "      action: 'starting',\n",
              "    }\n",
              "  };\n",
              "\n",
              "  cancel.remove();\n",
              "\n",
              "  // Disable the input element since further picks are not allowed.\n",
              "  inputElement.disabled = true;\n",
              "\n",
              "  if (!files) {\n",
              "    return {\n",
              "      response: {\n",
              "        action: 'complete',\n",
              "      }\n",
              "    };\n",
              "  }\n",
              "\n",
              "  for (const file of files) {\n",
              "    const li = document.createElement('li');\n",
              "    li.append(span(file.name, {fontWeight: 'bold'}));\n",
              "    li.append(span(\n",
              "        `(${file.type || 'n/a'}) - ${file.size} bytes, ` +\n",
              "        `last modified: ${\n",
              "            file.lastModifiedDate ? file.lastModifiedDate.toLocaleDateString() :\n",
              "                                    'n/a'} - `));\n",
              "    const percent = span('0% done');\n",
              "    li.appendChild(percent);\n",
              "\n",
              "    outputElement.appendChild(li);\n",
              "\n",
              "    const fileDataPromise = new Promise((resolve) => {\n",
              "      const reader = new FileReader();\n",
              "      reader.onload = (e) => {\n",
              "        resolve(e.target.result);\n",
              "      };\n",
              "      reader.readAsArrayBuffer(file);\n",
              "    });\n",
              "    // Wait for the data to be ready.\n",
              "    let fileData = yield {\n",
              "      promise: fileDataPromise,\n",
              "      response: {\n",
              "        action: 'continue',\n",
              "      }\n",
              "    };\n",
              "\n",
              "    // Use a chunked sending to avoid message size limits. See b/62115660.\n",
              "    let position = 0;\n",
              "    do {\n",
              "      const length = Math.min(fileData.byteLength - position, MAX_PAYLOAD_SIZE);\n",
              "      const chunk = new Uint8Array(fileData, position, length);\n",
              "      position += length;\n",
              "\n",
              "      const base64 = btoa(String.fromCharCode.apply(null, chunk));\n",
              "      yield {\n",
              "        response: {\n",
              "          action: 'append',\n",
              "          file: file.name,\n",
              "          data: base64,\n",
              "        },\n",
              "      };\n",
              "\n",
              "      let percentDone = fileData.byteLength === 0 ?\n",
              "          100 :\n",
              "          Math.round((position / fileData.byteLength) * 100);\n",
              "      percent.textContent = `${percentDone}% done`;\n",
              "\n",
              "    } while (position < fileData.byteLength);\n",
              "  }\n",
              "\n",
              "  // All done.\n",
              "  yield {\n",
              "    response: {\n",
              "      action: 'complete',\n",
              "    }\n",
              "  };\n",
              "}\n",
              "\n",
              "scope.google = scope.google || {};\n",
              "scope.google.colab = scope.google.colab || {};\n",
              "scope.google.colab._files = {\n",
              "  _uploadFiles,\n",
              "  _uploadFilesContinue,\n",
              "};\n",
              "})(self);\n",
              "</script> "
            ]
          },
          "metadata": {}
        },
        {
          "output_type": "stream",
          "name": "stdout",
          "text": [
            "Saving HelloAlina.txt to HelloAlina.txt\n"
          ]
        }
      ]
    },
    {
      "cell_type": "code",
      "source": [
        "# просмотреть содержимое файла\n",
        "with open('HelloAlina.txt', 'r') as file:\n",
        "    content = file.read()\n",
        "    print(content)"
      ],
      "metadata": {
        "colab": {
          "base_uri": "https://localhost:8080/"
        },
        "id": "W5FMuC3BReQq",
        "outputId": "24190ac6-f2d9-4b5f-c168-5709ff066ec2"
      },
      "execution_count": 10,
      "outputs": [
        {
          "output_type": "stream",
          "name": "stdout",
          "text": [
            "Hello Alina\n",
            "Alina is a nice curator\n",
            "She is a Python programmer\n",
            "This is the sixth lecture\n",
            "It is a test\n",
            "We are learning ML, it’s my dream job\n",
            "The Founder is a great course\n"
          ]
        }
      ]
    },
    {
      "cell_type": "code",
      "source": [
        "import string\n",
        "\n",
        "# чтениеее слов из файла\n",
        "def read_words_from_file(filename):\n",
        "    with open(filename, 'r') as file:\n",
        "        words = file.read().split()  # Чтение содержимого файла и разделение на слова\n",
        "    return words\n",
        "\n",
        "# Подсчет статистики букв\n",
        "def calculate_letter_statistics(words):\n",
        "    # Преобразование букв в верхний регистр и удаление знаков препинания\n",
        "    words = [word.upper().strip(string.punctuation) for word in words]\n",
        "\n",
        "    # создание словаря для подсчета\n",
        "    counts = {ch: 0 for ch in string.ascii_uppercase}\n",
        "\n",
        "    # Подсчет частоты букв\n",
        "    for word in words:\n",
        "        unique_letters = set(word)  # Уникальные буквы в слове\n",
        "        for letter in unique_letters:\n",
        "            if letter in counts:  # Если буква из английского алфавита\n",
        "                counts[letter] += 1\n",
        "\n",
        "    # подсчет процентов\n",
        "    total_words = len(words)\n",
        "    percentages = {ch: (counts[ch] / total_words) * 100 for ch in counts}\n",
        "\n",
        "    return counts, percentages\n",
        "\n",
        "# Поиск наименее используемой буквы\n",
        "def find_least_used_letter(counts):\n",
        "    smallest_count = min(counts.values())\n",
        "    least_used_letters = [ch for ch, count in counts.items() if count == smallest_count]\n",
        "    return least_used_letters\n",
        "\n",
        "# основная программа\n",
        "def main():\n",
        "    filename = \"HelloAlina.txt\"  # Имя текстового файла\n",
        "    words = read_words_from_file(filename)\n",
        "    counts, percentages = calculate_letter_statistics(words)\n",
        "\n",
        "    # Вывод результатов\n",
        "    print(\"Процентное соотношение использования каждой буквы:\")\n",
        "    for letter, percentage in percentages.items():\n",
        "        print(f\"{letter}: {percentage:.2f}%\")\n",
        "\n",
        "    least_used_letters = find_least_used_letter(counts)\n",
        "    print(\"\\nНаименее используемые буквы:\")\n",
        "    print(\", \".join(least_used_letters))\n",
        "\n",
        "# запуск программы\n",
        "if __name__ == \"__main__\":\n",
        "    main()\n"
      ],
      "metadata": {
        "colab": {
          "base_uri": "https://localhost:8080/"
        },
        "id": "yAr0vY2bNtil",
        "outputId": "64945067-d2c9-4d2e-eb2b-0b1eccc580e1"
      },
      "execution_count": 11,
      "outputs": [
        {
          "output_type": "stream",
          "name": "stdout",
          "text": [
            "Процентное соотношение использования каждой буквы:\n",
            "A: 34.29%\n",
            "B: 2.86%\n",
            "C: 11.43%\n",
            "D: 5.71%\n",
            "E: 42.86%\n",
            "F: 2.86%\n",
            "G: 8.57%\n",
            "H: 20.00%\n",
            "I: 37.14%\n",
            "J: 2.86%\n",
            "K: 0.00%\n",
            "L: 17.14%\n",
            "M: 11.43%\n",
            "N: 17.14%\n",
            "O: 20.00%\n",
            "P: 5.71%\n",
            "Q: 0.00%\n",
            "R: 25.71%\n",
            "S: 31.43%\n",
            "T: 31.43%\n",
            "U: 11.43%\n",
            "V: 0.00%\n",
            "W: 2.86%\n",
            "X: 2.86%\n",
            "Y: 5.71%\n",
            "Z: 0.00%\n",
            "\n",
            "Наименее используемые буквы:\n",
            "K, Q, V, Z\n"
          ]
        }
      ]
    },
    {
      "cell_type": "markdown",
      "source": [
        "## Задание 2. Веб-скрейпинг ИИ новостей"
      ],
      "metadata": {
        "id": "m5K8F02cbJ3c"
      }
    },
    {
      "cell_type": "markdown",
      "source": [
        "**Описание задания.** Используя пример веб-скрейпинга практической части урока, проведите скрейпинг сайта с новостями из сферы ИИ (https://2051.vision/category/ii/), выведите на экран заголовки новостей."
      ],
      "metadata": {
        "id": "LPb3n5UqbRAD"
      }
    },
    {
      "cell_type": "code",
      "source": [
        "import requests\n",
        "from bs4 import BeautifulSoup\n",
        "\n",
        "# загрузить страницу\n",
        "url = \"https://2051.vision/category/ii/\"\n",
        "response = requests.get(url)\n",
        "\n",
        "# проверка успешности загрузки\n",
        "if response.status_code == 200:\n",
        "    # Анализ страницы с помощью BeautifulSoup\n",
        "    soup = BeautifulSoup(response.text, 'html.parser')\n",
        "\n",
        "    # Поиск заголовков новостей\n",
        "    # заголовки находятся внутри тега <h3> с этим классом class_=\"entry-title td-module-title\"\n",
        "    headlines = soup.find_all('h3', class_=\"entry-title td-module-title\")\n",
        "\n",
        "    # пееечать заголовков\n",
        "    print(\"\\n😻😻😻 Заголовки новостей по искусственному интеллекту 😻😻😻:\\n\")\n",
        "    for i, headline in enumerate(headlines, start=1):\n",
        "        print(f\"{i}. {headline.text.strip()}\")\n",
        "else:\n",
        "    print(f\"Не удалось загрузить страницу. Код состояния: {response.status_code}\")"
      ],
      "metadata": {
        "id": "E2UFxRjFi_aW",
        "colab": {
          "base_uri": "https://localhost:8080/"
        },
        "outputId": "d8ad26a8-4c11-453e-fe00-f4bf64e2acf8"
      },
      "execution_count": 13,
      "outputs": [
        {
          "output_type": "stream",
          "name": "stdout",
          "text": [
            "\n",
            "😻😻😻 Заголовки новостей по искусственному интеллекту 😻😻😻:\n",
            "\n",
            "1. ИИ приведет человечество к катастрофе? Дело в экологии, а не сверхразуме\n",
            "2. ИИ приведет человечество к процветанию?\n",
            "3. Врет и не краснеет: o1 от OpenAI поймали на лжи и манипуляциях\n",
            "4. OpenAI выпустила ИИ для решения действительно сложных проблем\n",
            "5. Adobe представила ИИ для генерации видео\n",
            "6. ИИскусство: новые возможности или хождение по кругу?\n",
            "7. Google научила ИИ диагностировать болезни по звукам дыхания\n",
            "8. Нейросеть восстановит второй том «Мертвых душ»\n",
            "9. В НИИ бетона разрабатывают нейросеть для обнаружения дефектов в строящихся зданиях.\n",
            "10. GPT-4o запретили петь и эротично стонать\n",
            "11. Количество зарегистрированных в РФ дронов выросло на 25%\n",
            "12. New Glenn требует жертв? Blue Origin уволит 10 % сотрудников\n",
            "13. Корейцы ищут средства на постройку гибридно-электрического аэротакси\n",
            "14. Airbus внедрит двухъярусные кресла?\n"
          ]
        }
      ]
    }
  ]
}