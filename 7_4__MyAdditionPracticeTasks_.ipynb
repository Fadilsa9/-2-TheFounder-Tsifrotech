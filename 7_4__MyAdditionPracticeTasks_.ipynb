{
  "nbformat": 4,
  "nbformat_minor": 0,
  "metadata": {
    "colab": {
      "provenance": [],
      "authorship_tag": "ABX9TyPQrYn5sKNGizgn4vkTA394"
    },
    "kernelspec": {
      "name": "python3",
      "display_name": "Python 3"
    },
    "language_info": {
      "name": "python"
    }
  },
  "cells": [
    {
      "cell_type": "markdown",
      "source": [
        "Tasks"
      ],
      "metadata": {
        "id": "l05wjDFUTcMW"
      }
    },
    {
      "cell_type": "code",
      "source": [
        "import numpy as np\n",
        "\n",
        "# Create an array with shape (3, 4)\n",
        "data = np.arange(12).reshape(3, 4)\n",
        "print(\"data:\\n\", data)\n",
        "print(\"Minimum value:\", data.min())       # Minimum value\n",
        "print(\"Sum of all values:\", data.sum())   # Sum of all values\n",
        "print(\"Mean value:\", data.mean())         # Mean value\n",
        "print(\"Standard deviation:\", data.std())   # Standard deviation\n",
        "print(\"Maximum value:\", data.max())       # Maximum value\n",
        "\n",
        "print(\"Sum of each row:\", data.sum(axis=1))   # Sum along axis 1 - result for each row\n",
        "print(\"Sum of each column:\", data.sum(axis=0)) # Sum along axis 0 - result for each column\n",
        "\n",
        "print(\"Standard deviation of each row:\", data.std(axis=1))   # Standard deviation of each row\n",
        "print(\"Standard deviation of each column:\", data.std(axis=0)) # Standard deviation of each column\n",
        "\n",
        "print(\"Index of the maximum element of each row:\", data.argmax(axis=1))   # Index of the maximum element in each row\n",
        "print(\"Index of the maximum element of each column:\", data.argmax(axis=0)) # Index of the maximum element in each column\n",
        "\n",
        "print(\"Maximum element of each row:\", data.max(axis=1))   # Maximum element in each row\n",
        "print(\"Maximum element of each column:\", data.max(axis=0)) # Maximum element in each column\n"
      ],
      "metadata": {
        "colab": {
          "base_uri": "https://localhost:8080/"
        },
        "id": "dzKhnaTPmLFB",
        "outputId": "73711da7-cb70-4150-b53c-e6609541dc4e"
      },
      "execution_count": null,
      "outputs": [
        {
          "output_type": "stream",
          "name": "stdout",
          "text": [
            "data:\n",
            " [[ 0  1  2  3]\n",
            " [ 4  5  6  7]\n",
            " [ 8  9 10 11]]\n",
            "Minimum value: 0\n",
            "Sum of all values: 66\n",
            "Mean value: 5.5\n",
            "Standard deviation: 3.452052529534663\n",
            "Maximum value: 11\n",
            "Sum of each row: [ 6 22 38]\n",
            "Sum of each column: [12 15 18 21]\n",
            "Standard deviation of each row: [1.11803399 1.11803399 1.11803399]\n",
            "Standard deviation of each column: [3.26598632 3.26598632 3.26598632 3.26598632]\n",
            "Index of the maximum element of each row: [3 3 3]\n",
            "Index of the maximum element of each column: [2 2 2 2]\n",
            "Maximum element of each row: [ 3  7 11]\n",
            "Maximum element of each column: [ 8  9 10 11]\n"
          ]
        }
      ]
    },
    {
      "cell_type": "code",
      "source": [
        "# Матричные операции\n",
        "\n",
        "# Create another array A1\n",
        "A1 = np.arange(9).reshape(3, 3)\n",
        "print(\"A1:\\n\", A1)\n",
        "print(\"Transposed A:\\n\", A1.T)  # Transpose\n",
        "\n",
        "# Create an array A2\n",
        "A2 = np.ones(9).reshape(3, 3)\n",
        "print(\"A1 @ A2:\\n\", A1 @ A2)  # Matrix multiplication\n",
        "\n",
        "print(\"Dot product:\\n\", A1.dot(A2))  # Dot product\n",
        "print(\"Diagonal of the matrix:\\n\", A1.diagonal())  # Diagonal of the matrix"
      ],
      "metadata": {
        "colab": {
          "base_uri": "https://localhost:8080/"
        },
        "id": "2iPAkkVHUh6M",
        "outputId": "1f8a6093-751a-418d-a71e-5fccd10aa0f7"
      },
      "execution_count": 4,
      "outputs": [
        {
          "output_type": "stream",
          "name": "stdout",
          "text": [
            "A1:\n",
            " [[0 1 2]\n",
            " [3 4 5]\n",
            " [6 7 8]]\n",
            "Transposed A:\n",
            " [[0 3 6]\n",
            " [1 4 7]\n",
            " [2 5 8]]\n",
            "A1 @ A2:\n",
            " [[ 3.  3.  3.]\n",
            " [12. 12. 12.]\n",
            " [21. 21. 21.]]\n",
            "Dot product:\n",
            " [[ 3.  3.  3.]\n",
            " [12. 12. 12.]\n",
            " [21. 21. 21.]]\n",
            "Diagonal of the matrix:\n",
            " [0 4 8]\n"
          ]
        }
      ]
    },
    {
      "cell_type": "code",
      "source": [
        "print(\"Data type:\", A1.dtype)\n",
        "print(\"Number of elements:\", A1.size)\n",
        "print(\"Memory occupied:\", A1.nbytes)\n",
        "\n",
        "# Create an array with int8 type\n",
        "C = np.arange(9, dtype=np.int8).reshape(3, 3)\n",
        "print(\"Data type:\", C.dtype)\n",
        "print(\"Number of elements:\", C.size)\n",
        "print(\"Memory occupied:\", C.nbytes)"
      ],
      "metadata": {
        "colab": {
          "base_uri": "https://localhost:8080/"
        },
        "id": "WUniuRnjVQFL",
        "outputId": "3f8af776-2295-4cab-eb0e-7a33663eb585"
      },
      "execution_count": 5,
      "outputs": [
        {
          "output_type": "stream",
          "name": "stdout",
          "text": [
            "Data type: int64\n",
            "Number of elements: 9\n",
            "Memory occupied: 72\n",
            "Data type: int8\n",
            "Number of elements: 9\n",
            "Memory occupied: 9\n"
          ]
        }
      ]
    },
    {
      "cell_type": "code",
      "source": [
        "import numpy as np\n",
        "\n",
        "# إنشاء مصفوفة A1\n",
        "A1 = np.array([[1, 2, 3],\n",
        "                [4, 5, 6],\n",
        "                [7, 8, 9]])\n",
        "\n",
        "# إنشاء مصفوفة A2\n",
        "A2 = np.array([[1, 1, 1],\n",
        "                [1, 1, 1],\n",
        "                [1, 1, 1]])\n",
        "\n",
        "print(\"A1:\\n\", A1)\n",
        "print(\"A2:\\n\", A2)\n",
        "print(f\"A1 {A1.shape} + A2 {A2.shape} = A3 {(A1 + A2).shape}:\\n\", A1 + A2)"
      ],
      "metadata": {
        "colab": {
          "base_uri": "https://localhost:8080/"
        },
        "id": "9_XlFr-sW5EN",
        "outputId": "456fc3cb-2508-401a-9b72-abe22cb92459"
      },
      "execution_count": 7,
      "outputs": [
        {
          "output_type": "stream",
          "name": "stdout",
          "text": [
            "A1:\n",
            " [[1 2 3]\n",
            " [4 5 6]\n",
            " [7 8 9]]\n",
            "A2:\n",
            " [[1 1 1]\n",
            " [1 1 1]\n",
            " [1 1 1]]\n",
            "A1 (3, 3) + A2 (3, 3) = A3 (3, 3):\n",
            " [[ 2  3  4]\n",
            " [ 5  6  7]\n",
            " [ 8  9 10]]\n"
          ]
        }
      ]
    },
    {
      "cell_type": "code",
      "source": [
        "A2 = np.array([1, 1, 1])\n",
        "print(\"A1:\\n\", A1)\n",
        "print(\"A2:\\n\", A2)\n",
        "print(f\"A1 {A1.shape} + A2 {A2.shape} = A3 {(A1 + A2).shape}:\\n\", A1 + A2)"
      ],
      "metadata": {
        "colab": {
          "base_uri": "https://localhost:8080/"
        },
        "id": "wiKf3z1JW4mm",
        "outputId": "78845a94-5756-42ac-d0d5-032445a773ba"
      },
      "execution_count": 8,
      "outputs": [
        {
          "output_type": "stream",
          "name": "stdout",
          "text": [
            "A1:\n",
            " [[1 2 3]\n",
            " [4 5 6]\n",
            " [7 8 9]]\n",
            "A2:\n",
            " [1 1 1]\n",
            "A1 (3, 3) + A2 (3,) = A3 (3, 3):\n",
            " [[ 2  3  4]\n",
            " [ 5  6  7]\n",
            " [ 8  9 10]]\n"
          ]
        }
      ]
    },
    {
      "cell_type": "code",
      "source": [
        "A2 = 1\n",
        "print(\"A1:\\n\", A1)\n",
        "print(\"A2:\\n\", A2)\n",
        "print(f\"A1 {A1.shape} + A2 (int) = A3 {(A1 + A2).shape}:\\n\", A1 + A2)"
      ],
      "metadata": {
        "colab": {
          "base_uri": "https://localhost:8080/"
        },
        "id": "YD2OmEquW4ds",
        "outputId": "afc48a1d-24be-4941-f7d9-bf5c8485b835"
      },
      "execution_count": 9,
      "outputs": [
        {
          "output_type": "stream",
          "name": "stdout",
          "text": [
            "A1:\n",
            " [[1 2 3]\n",
            " [4 5 6]\n",
            " [7 8 9]]\n",
            "A2:\n",
            " 1\n",
            "A1 (3, 3) + A2 (int) = A3 (3, 3):\n",
            " [[ 2  3  4]\n",
            " [ 5  6  7]\n",
            " [ 8  9 10]]\n"
          ]
        }
      ]
    },
    {
      "cell_type": "code",
      "source": [
        "A1 = np.arange(10).reshape(2, 1, 5)\n",
        "A2 = np.arange(14).reshape(2, 7, 1)\n",
        "print(\"A1:\\n\", A1)\n",
        "print(\"A2:\\n\", A2)\n",
        "print(f\"A1 {A1.shape} + A2 {A2.shape} = A3 {(A1 + A2).shape}:\\n\", A1 + A2)\n",
        "\n",
        "# Result\n",
        "# A1:\n",
        "#  [[[0 1 2 3 4]]\n",
        "#\n",
        "#  [[5 6 7 8 9]]]\n",
        "# A2:\n",
        "#  [[[ 0]\n",
        "#   [ 1]\n",
        "#   [ 2]\n",
        "#   [ 3]\n",
        "#   [ 4]\n",
        "#   [ 5]\n",
        "#   [ 6]]\n",
        "#\n",
        "#  [[ 7]\n",
        "#   [ 8]\n",
        "#   [ 9]\n",
        "#   [10]\n",
        "#   [11]\n",
        "#   [12]\n",
        "#   [13]]]\n",
        "# A1 (2, 1, 5) + A2 (2, 7, 1) = A3 (2, 7, 5):\n",
        "#  [[[ 0  1  2  3  4]\n",
        "#   [ 1  2  3  4  5]\n",
        "#   [ 2  3  4  5  6]\n",
        "#   [ 3  4  5  6  7]\n",
        "#   [ 4  5  6  7  8]\n",
        "#   [ 5  6  7  8  9]\n",
        "#   [ 6  7  8  9 10]]\n",
        "#\n",
        "#  [[12 13 14 15 16]\n",
        "#   [13 14 15 16 17]\n",
        "#   [14 15 16 17 18]\n",
        "#   [15 16 17 18 19]\n",
        "#   [16 17 18 19 20]\n",
        "#   [17 18 19 20 21]\n",
        "#   [18 19 20 21 22]]]\n"
      ],
      "metadata": {
        "colab": {
          "base_uri": "https://localhost:8080/"
        },
        "id": "el0FVyT_W4VW",
        "outputId": "1051d236-e9ce-4f1f-ad7b-f4ca02b4ede2"
      },
      "execution_count": 10,
      "outputs": [
        {
          "output_type": "stream",
          "name": "stdout",
          "text": [
            "A1:\n",
            " [[[0 1 2 3 4]]\n",
            "\n",
            " [[5 6 7 8 9]]]\n",
            "A2:\n",
            " [[[ 0]\n",
            "  [ 1]\n",
            "  [ 2]\n",
            "  [ 3]\n",
            "  [ 4]\n",
            "  [ 5]\n",
            "  [ 6]]\n",
            "\n",
            " [[ 7]\n",
            "  [ 8]\n",
            "  [ 9]\n",
            "  [10]\n",
            "  [11]\n",
            "  [12]\n",
            "  [13]]]\n",
            "A1 (2, 1, 5) + A2 (2, 7, 1) = A3 (2, 7, 5):\n",
            " [[[ 0  1  2  3  4]\n",
            "  [ 1  2  3  4  5]\n",
            "  [ 2  3  4  5  6]\n",
            "  [ 3  4  5  6  7]\n",
            "  [ 4  5  6  7  8]\n",
            "  [ 5  6  7  8  9]\n",
            "  [ 6  7  8  9 10]]\n",
            "\n",
            " [[12 13 14 15 16]\n",
            "  [13 14 15 16 17]\n",
            "  [14 15 16 17 18]\n",
            "  [15 16 17 18 19]\n",
            "  [16 17 18 19 20]\n",
            "  [17 18 19 20 21]\n",
            "  [18 19 20 21 22]]]\n"
          ]
        }
      ]
    },
    {
      "cell_type": "code",
      "source": [],
      "metadata": {
        "id": "KtufaG12W4Mo"
      },
      "execution_count": null,
      "outputs": []
    },
    {
      "cell_type": "code",
      "source": [],
      "metadata": {
        "id": "hmMtgo7SW4BO"
      },
      "execution_count": null,
      "outputs": []
    },
    {
      "cell_type": "code",
      "source": [
        "import numpy as np\n",
        "\n",
        "array1 = np.array([4, 8, 9])\n",
        "array2 = np.array([1, 2, 3])\n",
        "\n",
        "print(\"Element-wise multiplication:\", array1 * array2)\n",
        "print(\"Element-wise addition:\", array1 + array2)\n",
        "print(\"Element-wise subtraction:\", array1 - array2)"
      ],
      "metadata": {
        "id": "A354wBMi1Z0N",
        "outputId": "9411d491-cbec-4985-b3bf-6de901ea7411",
        "colab": {
          "base_uri": "https://localhost:8080/"
        }
      },
      "execution_count": null,
      "outputs": [
        {
          "output_type": "stream",
          "name": "stdout",
          "text": [
            "Element-wise multiplication: [ 4 16 27]\n",
            "Element-wise addition: [ 5 10 12]\n",
            "Element-wise subtraction: [3 6 6]\n",
            "Element-wise division: [4. 4. 3.]\n"
          ]
        }
      ]
    },
    {
      "cell_type": "code",
      "source": [
        "import numpy as np"
      ],
      "metadata": {
        "id": "cmxtQrhZt96i"
      },
      "execution_count": null,
      "outputs": []
    },
    {
      "cell_type": "code",
      "execution_count": null,
      "metadata": {
        "id": "HKNJc7yvoJ6S",
        "colab": {
          "base_uri": "https://localhost:8080/"
        },
        "outputId": "b0940284-ce9c-4219-fdb0-5b0d86b8febd"
      },
      "outputs": [
        {
          "output_type": "stream",
          "name": "stdout",
          "text": [
            "[1. 1. 1.]\n"
          ]
        }
      ],
      "source": [
        "array4 = np.empty(3)\n",
        "print(array4)"
      ]
    },
    {
      "cell_type": "code",
      "source": [
        "array5 = np.arange(5)\n",
        "print(array5)"
      ],
      "metadata": {
        "colab": {
          "base_uri": "https://localhost:8080/"
        },
        "id": "jKiwJAgXtjRO",
        "outputId": "91cac6f8-dbc9-4c9f-cfaf-1a4a9f36563c"
      },
      "execution_count": null,
      "outputs": [
        {
          "output_type": "stream",
          "name": "stdout",
          "text": [
            "[0 1 2 3 4]\n"
          ]
        }
      ]
    },
    {
      "cell_type": "code",
      "source": [
        "array5 = np.arange(3)\n",
        "print(array5)"
      ],
      "metadata": {
        "colab": {
          "base_uri": "https://localhost:8080/"
        },
        "id": "CtED9yjZt4Md",
        "outputId": "2095f321-c9f4-4492-8c12-0df02897892e"
      },
      "execution_count": 3,
      "outputs": [
        {
          "output_type": "stream",
          "name": "stdout",
          "text": [
            "[0 1 2]\n"
          ]
        }
      ]
    },
    {
      "cell_type": "code",
      "source": [
        "array_zeros = np.zeros((3, 3))\n",
        "print(array_zeros)\n",
        "\n",
        "array_ones = np.ones((2, 2))\n",
        "print(\"\\n\", array_ones)\n",
        "\n",
        "array_empty = np.empty((4, 4))\n",
        "print(\"\\n\", array_empty)\n"
      ],
      "metadata": {
        "colab": {
          "base_uri": "https://localhost:8080/"
        },
        "id": "zrMdByKyvmoR",
        "outputId": "4b8a4379-30a3-44ea-f3ca-5ed0af72d753"
      },
      "execution_count": null,
      "outputs": [
        {
          "output_type": "stream",
          "name": "stdout",
          "text": [
            "[[0. 0. 0.]\n",
            " [0. 0. 0.]\n",
            " [0. 0. 0.]]\n",
            "\n",
            " [[1. 1.]\n",
            " [1. 1.]]\n",
            "\n",
            " [[2.95592934e-316 0.00000000e+000 2.41907520e-312 2.37663529e-312]\n",
            " [2.22809558e-312 2.46151512e-312 6.79038654e-313 2.35541533e-312]\n",
            " [2.46151512e-312 6.79038654e-313 2.35541533e-312 6.79038654e-313]\n",
            " [2.14321575e-312 2.22809558e-312 2.14321575e-312 0.00000000e+000]]\n"
          ]
        }
      ]
    },
    {
      "cell_type": "code",
      "source": [
        "large_array_empty = np.empty((1000, 1000))\n",
        "large_array_empty"
      ],
      "metadata": {
        "colab": {
          "base_uri": "https://localhost:8080/"
        },
        "id": "mgce0B0Yvmt3",
        "outputId": "b98e6644-8056-4bc8-a09d-ed4a84113b53"
      },
      "execution_count": null,
      "outputs": [
        {
          "output_type": "execute_result",
          "data": {
            "text/plain": [
              "array([[0., 0., 0., ..., 0., 0., 0.],\n",
              "       [0., 0., 0., ..., 0., 0., 0.],\n",
              "       [0., 0., 0., ..., 0., 0., 0.],\n",
              "       ...,\n",
              "       [0., 0., 0., ..., 0., 0., 0.],\n",
              "       [0., 0., 0., ..., 0., 0., 0.],\n",
              "       [0., 0., 0., ..., 0., 0., 0.]])"
            ]
          },
          "metadata": {},
          "execution_count": 14
        }
      ]
    },
    {
      "cell_type": "code",
      "source": [
        "import numpy as np\n",
        "\n",
        "oned = np.arange(21)\n",
        "\n",
        "print(\"نوع البيانات:\", oned.dtype)\n",
        "print(\"عدد العناصر:\", oned.size)\n",
        "print(\"حجم الذاكرة:\", oned.nbytes)\n",
        "print(\"شكل المصفوفة:\", oned.shape)\n",
        "print(\"عدد الأبعاد:\", oned.ndim)"
      ],
      "metadata": {
        "colab": {
          "base_uri": "https://localhost:8080/"
        },
        "id": "B7zKWI0mvm1K",
        "outputId": "91d2c226-0a10-46da-b611-9a428c8e302f"
      },
      "execution_count": null,
      "outputs": [
        {
          "output_type": "stream",
          "name": "stdout",
          "text": [
            "نوع البيانات: int64\n",
            "عدد العناصر: 21\n",
            "حجم الذاكرة: 168\n",
            "شكل المصفوفة: (21,)\n",
            "عدد الأبعاد: 1\n"
          ]
        }
      ]
    },
    {
      "cell_type": "code",
      "source": [
        "matrix = np.array([[1, 2, 3, 4],\n",
        "                   [5, 6, 7, 8],\n",
        "                   [9, 10, 11, 12],\n",
        "                   [13, 14, 15, 16]])\n",
        "\n",
        "print(matrix, \"\\n\")\n",
        "print(\"شكل:\", matrix.shape)\n",
        "print(\"عدد الأبعاد:\", matrix.ndim)\n"
      ],
      "metadata": {
        "colab": {
          "base_uri": "https://localhost:8080/"
        },
        "id": "f119_bfxvm4b",
        "outputId": "108ee293-45e2-4e5a-f3de-479418bddbe4"
      },
      "execution_count": null,
      "outputs": [
        {
          "output_type": "stream",
          "name": "stdout",
          "text": [
            "[[ 1  2  3  4]\n",
            " [ 5  6  7  8]\n",
            " [ 9 10 11 12]\n",
            " [13 14 15 16]] \n",
            "\n",
            "شكل: (4, 4)\n",
            "عدد الأبعاد: 2\n"
          ]
        }
      ]
    },
    {
      "cell_type": "code",
      "source": [
        "reshaped_1d = matrix.reshape(16)\n",
        "print(reshaped_1d, \"\\n\")\n",
        "\n",
        "reshaped_2d = matrix.reshape(2, 8)\n",
        "print(reshaped_2d, \"\\n\")\n",
        "\n",
        "new_array = matrix.reshape(2, 2, 2, 2)\n",
        "print(new_array, \"\\n\")\n",
        "print(\"شكل:\", new_array.shape, \"\\n\")\n",
        "print(\"عدد الأبعاد:\", new_array.ndim, \"\\n\")\n"
      ],
      "metadata": {
        "colab": {
          "base_uri": "https://localhost:8080/"
        },
        "id": "y9Vg3FjVvnFm",
        "outputId": "0e317608-4b5b-4bca-eb1d-11a7225b8930"
      },
      "execution_count": null,
      "outputs": [
        {
          "output_type": "stream",
          "name": "stdout",
          "text": [
            "[ 1  2  3  4  5  6  7  8  9 10 11 12 13 14 15 16] \n",
            "\n",
            "[[ 1  2  3  4  5  6  7  8]\n",
            " [ 9 10 11 12 13 14 15 16]] \n",
            "\n",
            "[[[[ 1  2]\n",
            "   [ 3  4]]\n",
            "\n",
            "  [[ 5  6]\n",
            "   [ 7  8]]]\n",
            "\n",
            "\n",
            " [[[ 9 10]\n",
            "   [11 12]]\n",
            "\n",
            "  [[13 14]\n",
            "   [15 16]]]] \n",
            "\n",
            "شكل: (2, 2, 2, 2) \n",
            "\n",
            "عدد الأبعاد: 4 \n",
            "\n"
          ]
        }
      ]
    },
    {
      "cell_type": "code",
      "source": [
        "import numpy as np\n",
        "\n",
        "one = np.arange(10)\n",
        "print(\"عنصر المصفوفة 1D بالفهرس 3 (بدءًا من 0):\", one[3])\n",
        "print(\"آخر عنصر في المصفوفة 1D (أو الأول من النهاية):\", one[-1])\n",
        "print(\"تقطيع عناصر المصفوفة 1D (من 3 إلى 8 غير شامل):\", one[3:8])\n"
      ],
      "metadata": {
        "colab": {
          "base_uri": "https://localhost:8080/"
        },
        "id": "ePyvOvynvnJn",
        "outputId": "72bba325-2dc6-41f4-b359-b9b996dd11ff"
      },
      "execution_count": null,
      "outputs": [
        {
          "output_type": "stream",
          "name": "stdout",
          "text": [
            "عنصر المصفوفة 1D بالفهرس 3 (بدءًا من 0): 3\n",
            "آخر عنصر في المصفوفة 1D (أو الأول من النهاية): 9\n",
            "تقطيع عناصر المصفوفة 1D (من 3 إلى 8 غير شامل): [3 4 5 6 7]\n"
          ]
        }
      ]
    },
    {
      "cell_type": "code",
      "source": [
        "two = np.arange(21).reshape(3, 7)  # إنشاء مصفوفة 3 × 7\n",
        "print(\"الحصول على الصف الثاني:\", two[2])  # العد يبدأ من الصفر\n",
        "print(\"الحصول على العنصر في الصف 2 والعمود 4:\", two[2, 4])  # العد يبدأ من الصفر\n",
        "print(\"الحصول على الصفين 0 و 1:\", two[0:2])  # نطاقات في بايثون تشمل القيمة الابتدائية ولا تشمل النهاية\n",
        "print(\"الحصول على العمود 5 من جميع الصفوف:\", two[:, 5])\n",
        "print(\"الحصول على آخر ثلاثة أعمدة من الصفين 1 و 2:\", two[1:3, -3:])"
      ],
      "metadata": {
        "colab": {
          "base_uri": "https://localhost:8080/"
        },
        "id": "NEQJ6RGrvnPh",
        "outputId": "0339ac0b-5127-4f7a-a61a-177def958ff8"
      },
      "execution_count": null,
      "outputs": [
        {
          "output_type": "stream",
          "name": "stdout",
          "text": [
            "الحصول على الصف الثاني: [14 15 16 17 18 19 20]\n",
            "الحصول على العنصر في الصف 2 والعمود 4: 18\n",
            "الحصول على الصفين 0 و 1: [[ 0  1  2  3  4  5  6]\n",
            " [ 7  8  9 10 11 12 13]]\n",
            "الحصول على العمود 5 من جميع الصفوف: [ 5 12 19]\n",
            "الحصول على آخر ثلاثة أعمدة من الصفين 1 و 2: [[11 12 13]\n",
            " [18 19 20]]\n"
          ]
        }
      ]
    },
    {
      "cell_type": "code",
      "source": [
        "two[0, 0] = 33\n",
        "print(two)\n",
        "\n",
        "two[1:, :3] = 0\n",
        "print(two)"
      ],
      "metadata": {
        "colab": {
          "base_uri": "https://localhost:8080/"
        },
        "id": "73knv8lSvnS0",
        "outputId": "46f1d4e9-2784-4032-d023-42cc9040a6d4"
      },
      "execution_count": null,
      "outputs": [
        {
          "output_type": "stream",
          "name": "stdout",
          "text": [
            "[[33  1  2  3  4  5  6]\n",
            " [ 7  8  9 10 11 12 13]\n",
            " [14 15 16 17 18 19 20]]\n",
            "[[33  1  2  3  4  5  6]\n",
            " [ 0  0  0 10 11 12 13]\n",
            " [ 0  0  0 17 18 19 20]]\n"
          ]
        }
      ]
    },
    {
      "cell_type": "code",
      "source": [
        "list1 = [1, 2, 3]\n",
        "list2 = [4, 5, 6]\n",
        "result = [a + b for a, b in zip(list1, list2)]\n",
        "print(result)  # [5, 7, 9]"
      ],
      "metadata": {
        "id": "sb_smsMKvnW_",
        "colab": {
          "base_uri": "https://localhost:8080/"
        },
        "outputId": "c0335d6e-fb73-4ec0-b7a0-a6aa58ea7f8e"
      },
      "execution_count": 1,
      "outputs": [
        {
          "output_type": "stream",
          "name": "stdout",
          "text": [
            "[5, 7, 9]\n"
          ]
        }
      ]
    },
    {
      "cell_type": "code",
      "source": [
        "import numpy as np\n",
        "\n",
        "array1 = np.array([1, 2, 3])\n",
        "array2 = np.array([4, 5, 6])\n",
        "result = array1 + array2\n",
        "print(result)  # [5 7 9]"
      ],
      "metadata": {
        "id": "leKMafkTvnqD",
        "colab": {
          "base_uri": "https://localhost:8080/"
        },
        "outputId": "20fd13b2-5f15-4c48-b8cd-a10ddff80155"
      },
      "execution_count": 2,
      "outputs": [
        {
          "output_type": "stream",
          "name": "stdout",
          "text": [
            "[5 7 9]\n"
          ]
        }
      ]
    },
    {
      "cell_type": "code",
      "source": [
        "# الطرح\n",
        "result_sub = array1 - array2  # [-3 -3 -3]\n",
        "print(result_sub)\n",
        "\n",
        "# الضرب\n",
        "result_mul = array1 * array2  # [ 4 10 18]\n",
        "print(result_mul\n",
        "      )\n",
        "# القسمة\n",
        "result_div = array1 / array2  # [0.25 0.4 0.5]\n",
        "print(result_div)"
      ],
      "metadata": {
        "colab": {
          "base_uri": "https://localhost:8080/"
        },
        "id": "cKlbtC_Lnns-",
        "outputId": "7baa367d-7438-40b9-a98d-b1d263a748c5"
      },
      "execution_count": 8,
      "outputs": [
        {
          "output_type": "stream",
          "name": "stdout",
          "text": [
            "[-3 -3 -3]\n",
            "[ 4 10 18]\n",
            "[0.25 0.4  0.5 ]\n"
          ]
        }
      ]
    },
    {
      "cell_type": "code",
      "source": [
        "bool_array1 = np.array([True, False, True])\n",
        "bool_array2 = np.array([False, False, True])\n",
        "result_logical = bool_array1 & bool_array2  # [False False  True]\n",
        "result_logical"
      ],
      "metadata": {
        "colab": {
          "base_uri": "https://localhost:8080/"
        },
        "id": "H7orQa_znn14",
        "outputId": "2d4535e7-398c-4d8b-f3f9-b5e7cbdd344a"
      },
      "execution_count": 10,
      "outputs": [
        {
          "output_type": "execute_result",
          "data": {
            "text/plain": [
              "array([False, False,  True])"
            ]
          },
          "metadata": {},
          "execution_count": 10
        }
      ]
    },
    {
      "cell_type": "code",
      "source": [
        "import numpy as np\n",
        "\n",
        "# Create an array A with shape (4, 6)\n",
        "a = np.arange(24).reshape(4, 6)\n",
        "print(\"Array A:\\n\", a)\n",
        "\n",
        "# Create a view B from A\n",
        "b = a[:2, 3:]\n",
        "print(\"Array B:\\n\", b)\n",
        "\n",
        "# Modify an element in B\n",
        "b[1, 2] = -1\n",
        "print(\"Array B after modification:\\n\", b)\n",
        "print(\"Array A after modification:\\n\", a)"
      ],
      "metadata": {
        "colab": {
          "base_uri": "https://localhost:8080/"
        },
        "id": "eO6cxYMinn-F",
        "outputId": "fbcf6e8b-b5ac-4f4f-afbf-c5b13bb29d08"
      },
      "execution_count": 1,
      "outputs": [
        {
          "output_type": "stream",
          "name": "stdout",
          "text": [
            "Array A:\n",
            " [[ 0  1  2  3  4  5]\n",
            " [ 6  7  8  9 10 11]\n",
            " [12 13 14 15 16 17]\n",
            " [18 19 20 21 22 23]]\n",
            "Array B:\n",
            " [[ 3  4  5]\n",
            " [ 9 10 11]]\n",
            "Array B after modification:\n",
            " [[ 3  4  5]\n",
            " [ 9 10 -1]]\n",
            "Array A after modification:\n",
            " [[ 0  1  2  3  4  5]\n",
            " [ 6  7  8  9 10 -1]\n",
            " [12 13 14 15 16 17]\n",
            " [18 19 20 21 22 23]]\n"
          ]
        }
      ]
    },
    {
      "cell_type": "code",
      "source": [
        "# Create a copy of B\n",
        "b = a[:2, 3:].copy()  # Make a copy\n",
        "print(\"Array B (copy):\\n\", b)\n",
        "\n",
        "# Modify an element in the copy\n",
        "b[1, 2] = -1\n",
        "print(\"Array B after modification (copy):\\n\", b)\n",
        "print(\"Array A after modification (copy):\\n\", a)"
      ],
      "metadata": {
        "colab": {
          "base_uri": "https://localhost:8080/"
        },
        "id": "eh4Q0QQUnoFs",
        "outputId": "82df89cb-7c49-4d98-805a-699f5c4c9b03"
      },
      "execution_count": 2,
      "outputs": [
        {
          "output_type": "stream",
          "name": "stdout",
          "text": [
            "Array B (copy):\n",
            " [[ 3  4  5]\n",
            " [ 9 10 -1]]\n",
            "Array B after modification (copy):\n",
            " [[ 3  4  5]\n",
            " [ 9 10 -1]]\n",
            "Array A after modification (copy):\n",
            " [[ 0  1  2  3  4  5]\n",
            " [ 6  7  8  9 10 -1]\n",
            " [12 13 14 15 16 17]\n",
            " [18 19 20 21 22 23]]\n"
          ]
        }
      ]
    },
    {
      "cell_type": "code",
      "source": [],
      "metadata": {
        "id": "iB9CQYfXmLLt"
      },
      "execution_count": null,
      "outputs": []
    },
    {
      "cell_type": "code",
      "source": [],
      "metadata": {
        "id": "jTFsjP-LmLRp"
      },
      "execution_count": null,
      "outputs": []
    },
    {
      "cell_type": "code",
      "source": [],
      "metadata": {
        "id": "p4w5yAYmnoOi"
      },
      "execution_count": null,
      "outputs": []
    },
    {
      "cell_type": "code",
      "source": [],
      "metadata": {
        "id": "tcCU_OeInovE"
      },
      "execution_count": null,
      "outputs": []
    },
    {
      "cell_type": "code",
      "source": [],
      "metadata": {
        "id": "Fj-vH2n-no7j"
      },
      "execution_count": null,
      "outputs": []
    }
  ]
}