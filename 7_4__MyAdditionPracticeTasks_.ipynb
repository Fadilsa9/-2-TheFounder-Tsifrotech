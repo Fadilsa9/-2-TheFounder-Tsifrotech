{
  "nbformat": 4,
  "nbformat_minor": 0,
  "metadata": {
    "colab": {
      "provenance": [],
      "authorship_tag": "ABX9TyOxg++v8ldLe32HDkkW/J7r"
    },
    "kernelspec": {
      "name": "python3",
      "display_name": "Python 3"
    },
    "language_info": {
      "name": "python"
    }
  },
  "cells": [
    {
      "cell_type": "code",
      "source": [
        "from requests import get\n",
        "response = get(\"https://storage.yandexcloud.net/academy.ai/the_movies_dataset.zip\")"
      ],
      "metadata": {
        "id": "3pZekzeVDQC4"
      },
      "execution_count": null,
      "outputs": []
    },
    {
      "cell_type": "code",
      "source": [
        "with open('the_movies_dataset.zip', 'wb') as f:\n",
        "    f.write(response.content)"
      ],
      "metadata": {
        "id": "UEiaDfw9DPr4"
      },
      "execution_count": null,
      "outputs": []
    },
    {
      "cell_type": "code",
      "source": [
        "# streaming التدفق\n",
        "with open('the_movies_dataset.zip', 'wb') as f:\n",
        "    for chunk in response.iter_content(chunk_size=8192):\n",
        "        f.write(chunk)"
      ],
      "metadata": {
        "id": "h78HDIuYFzEm"
      },
      "execution_count": null,
      "outputs": []
    },
    {
      "cell_type": "code",
      "source": [
        "# كود لفك ضغط الملف\n",
        "!unzip -qo \"the_movies_dataset.zip\" -d ./the_movies_dataset"
      ],
      "metadata": {
        "id": "-dZrptOdFy7h"
      },
      "execution_count": null,
      "outputs": []
    },
    {
      "cell_type": "code",
      "source": [
        "FILE_PATH = './the_movies_dataset'"
      ],
      "metadata": {
        "id": "qk4YQJOdKhct"
      },
      "execution_count": null,
      "outputs": []
    },
    {
      "cell_type": "code",
      "source": [
        "import os\n",
        "os.listdir(FILE_PATH)"
      ],
      "metadata": {
        "colab": {
          "base_uri": "https://localhost:8080/"
        },
        "id": "hv_wAuPyFykT",
        "outputId": "c4f88a92-7bea-49b3-ee64-8c905fde46a1"
      },
      "execution_count": null,
      "outputs": [
        {
          "output_type": "execute_result",
          "data": {
            "text/plain": [
              "['keywords.csv',\n",
              " 'ratings_small.csv',\n",
              " 'ratings.csv',\n",
              " 'credits.csv',\n",
              " 'links_small.csv',\n",
              " 'links.csv',\n",
              " 'movies_metadata.csv']"
            ]
          },
          "metadata": {},
          "execution_count": 17
        }
      ]
    },
    {
      "cell_type": "code",
      "source": [
        "import warnings\n",
        "warnings.filterwarnings('ignore')"
      ],
      "metadata": {
        "id": "EYVhhUmiMEUp"
      },
      "execution_count": null,
      "outputs": []
    },
    {
      "cell_type": "code",
      "source": [
        "import pandas as pd\n",
        "import numpy as np"
      ],
      "metadata": {
        "id": "N8ul3yKzIjE-"
      },
      "execution_count": null,
      "outputs": []
    },
    {
      "cell_type": "code",
      "source": [
        "df = pd.read_csv(f'{FILE_PATH}/movies_metadata.csv')\n",
        "df.head()"
      ],
      "metadata": {
        "colab": {
          "base_uri": "https://localhost:8080/",
          "height": 707
        },
        "id": "PKcXWD_tK_Iu",
        "outputId": "373110bf-462e-4cde-d0c8-49a3b7da02f2"
      },
      "execution_count": null,
      "outputs": [
        {
          "output_type": "execute_result",
          "data": {
            "text/plain": [
              "   adult                              belongs_to_collection    budget  \\\n",
              "0  False  {'id': 10194, 'name': 'Toy Story Collection', ...  30000000   \n",
              "1  False                                                NaN  65000000   \n",
              "2  False  {'id': 119050, 'name': 'Grumpy Old Men Collect...         0   \n",
              "3  False                                                NaN  16000000   \n",
              "4  False  {'id': 96871, 'name': 'Father of the Bride Col...         0   \n",
              "\n",
              "                                              genres  \\\n",
              "0  [{'id': 16, 'name': 'Animation'}, {'id': 35, '...   \n",
              "1  [{'id': 12, 'name': 'Adventure'}, {'id': 14, '...   \n",
              "2  [{'id': 10749, 'name': 'Romance'}, {'id': 35, ...   \n",
              "3  [{'id': 35, 'name': 'Comedy'}, {'id': 18, 'nam...   \n",
              "4                     [{'id': 35, 'name': 'Comedy'}]   \n",
              "\n",
              "                               homepage     id    imdb_id original_language  \\\n",
              "0  http://toystory.disney.com/toy-story    862  tt0114709                en   \n",
              "1                                   NaN   8844  tt0113497                en   \n",
              "2                                   NaN  15602  tt0113228                en   \n",
              "3                                   NaN  31357  tt0114885                en   \n",
              "4                                   NaN  11862  tt0113041                en   \n",
              "\n",
              "                original_title  \\\n",
              "0                    Toy Story   \n",
              "1                      Jumanji   \n",
              "2             Grumpier Old Men   \n",
              "3            Waiting to Exhale   \n",
              "4  Father of the Bride Part II   \n",
              "\n",
              "                                            overview  ... release_date  \\\n",
              "0  Led by Woody, Andy's toys live happily in his ...  ...   1995-10-30   \n",
              "1  When siblings Judy and Peter discover an encha...  ...   1995-12-15   \n",
              "2  A family wedding reignites the ancient feud be...  ...   1995-12-22   \n",
              "3  Cheated on, mistreated and stepped on, the wom...  ...   1995-12-22   \n",
              "4  Just when George Banks has recovered from his ...  ...   1995-02-10   \n",
              "\n",
              "       revenue runtime                                   spoken_languages  \\\n",
              "0  373554033.0    81.0           [{'iso_639_1': 'en', 'name': 'English'}]   \n",
              "1  262797249.0   104.0  [{'iso_639_1': 'en', 'name': 'English'}, {'iso...   \n",
              "2          0.0   101.0           [{'iso_639_1': 'en', 'name': 'English'}]   \n",
              "3   81452156.0   127.0           [{'iso_639_1': 'en', 'name': 'English'}]   \n",
              "4   76578911.0   106.0           [{'iso_639_1': 'en', 'name': 'English'}]   \n",
              "\n",
              "     status                                            tagline  \\\n",
              "0  Released                                                NaN   \n",
              "1  Released          Roll the dice and unleash the excitement!   \n",
              "2  Released  Still Yelling. Still Fighting. Still Ready for...   \n",
              "3  Released  Friends are the people who let you be yourself...   \n",
              "4  Released  Just When His World Is Back To Normal... He's ...   \n",
              "\n",
              "                         title  video vote_average vote_count  \n",
              "0                    Toy Story  False          7.7     5415.0  \n",
              "1                      Jumanji  False          6.9     2413.0  \n",
              "2             Grumpier Old Men  False          6.5       92.0  \n",
              "3            Waiting to Exhale  False          6.1       34.0  \n",
              "4  Father of the Bride Part II  False          5.7      173.0  \n",
              "\n",
              "[5 rows x 24 columns]"
            ],
            "text/html": [
              "\n",
              "  <div id=\"df-4668aa59-199d-4ce4-90ef-dff121a06688\" class=\"colab-df-container\">\n",
              "    <div>\n",
              "<style scoped>\n",
              "    .dataframe tbody tr th:only-of-type {\n",
              "        vertical-align: middle;\n",
              "    }\n",
              "\n",
              "    .dataframe tbody tr th {\n",
              "        vertical-align: top;\n",
              "    }\n",
              "\n",
              "    .dataframe thead th {\n",
              "        text-align: right;\n",
              "    }\n",
              "</style>\n",
              "<table border=\"1\" class=\"dataframe\">\n",
              "  <thead>\n",
              "    <tr style=\"text-align: right;\">\n",
              "      <th></th>\n",
              "      <th>adult</th>\n",
              "      <th>belongs_to_collection</th>\n",
              "      <th>budget</th>\n",
              "      <th>genres</th>\n",
              "      <th>homepage</th>\n",
              "      <th>id</th>\n",
              "      <th>imdb_id</th>\n",
              "      <th>original_language</th>\n",
              "      <th>original_title</th>\n",
              "      <th>overview</th>\n",
              "      <th>...</th>\n",
              "      <th>release_date</th>\n",
              "      <th>revenue</th>\n",
              "      <th>runtime</th>\n",
              "      <th>spoken_languages</th>\n",
              "      <th>status</th>\n",
              "      <th>tagline</th>\n",
              "      <th>title</th>\n",
              "      <th>video</th>\n",
              "      <th>vote_average</th>\n",
              "      <th>vote_count</th>\n",
              "    </tr>\n",
              "  </thead>\n",
              "  <tbody>\n",
              "    <tr>\n",
              "      <th>0</th>\n",
              "      <td>False</td>\n",
              "      <td>{'id': 10194, 'name': 'Toy Story Collection', ...</td>\n",
              "      <td>30000000</td>\n",
              "      <td>[{'id': 16, 'name': 'Animation'}, {'id': 35, '...</td>\n",
              "      <td>http://toystory.disney.com/toy-story</td>\n",
              "      <td>862</td>\n",
              "      <td>tt0114709</td>\n",
              "      <td>en</td>\n",
              "      <td>Toy Story</td>\n",
              "      <td>Led by Woody, Andy's toys live happily in his ...</td>\n",
              "      <td>...</td>\n",
              "      <td>1995-10-30</td>\n",
              "      <td>373554033.0</td>\n",
              "      <td>81.0</td>\n",
              "      <td>[{'iso_639_1': 'en', 'name': 'English'}]</td>\n",
              "      <td>Released</td>\n",
              "      <td>NaN</td>\n",
              "      <td>Toy Story</td>\n",
              "      <td>False</td>\n",
              "      <td>7.7</td>\n",
              "      <td>5415.0</td>\n",
              "    </tr>\n",
              "    <tr>\n",
              "      <th>1</th>\n",
              "      <td>False</td>\n",
              "      <td>NaN</td>\n",
              "      <td>65000000</td>\n",
              "      <td>[{'id': 12, 'name': 'Adventure'}, {'id': 14, '...</td>\n",
              "      <td>NaN</td>\n",
              "      <td>8844</td>\n",
              "      <td>tt0113497</td>\n",
              "      <td>en</td>\n",
              "      <td>Jumanji</td>\n",
              "      <td>When siblings Judy and Peter discover an encha...</td>\n",
              "      <td>...</td>\n",
              "      <td>1995-12-15</td>\n",
              "      <td>262797249.0</td>\n",
              "      <td>104.0</td>\n",
              "      <td>[{'iso_639_1': 'en', 'name': 'English'}, {'iso...</td>\n",
              "      <td>Released</td>\n",
              "      <td>Roll the dice and unleash the excitement!</td>\n",
              "      <td>Jumanji</td>\n",
              "      <td>False</td>\n",
              "      <td>6.9</td>\n",
              "      <td>2413.0</td>\n",
              "    </tr>\n",
              "    <tr>\n",
              "      <th>2</th>\n",
              "      <td>False</td>\n",
              "      <td>{'id': 119050, 'name': 'Grumpy Old Men Collect...</td>\n",
              "      <td>0</td>\n",
              "      <td>[{'id': 10749, 'name': 'Romance'}, {'id': 35, ...</td>\n",
              "      <td>NaN</td>\n",
              "      <td>15602</td>\n",
              "      <td>tt0113228</td>\n",
              "      <td>en</td>\n",
              "      <td>Grumpier Old Men</td>\n",
              "      <td>A family wedding reignites the ancient feud be...</td>\n",
              "      <td>...</td>\n",
              "      <td>1995-12-22</td>\n",
              "      <td>0.0</td>\n",
              "      <td>101.0</td>\n",
              "      <td>[{'iso_639_1': 'en', 'name': 'English'}]</td>\n",
              "      <td>Released</td>\n",
              "      <td>Still Yelling. Still Fighting. Still Ready for...</td>\n",
              "      <td>Grumpier Old Men</td>\n",
              "      <td>False</td>\n",
              "      <td>6.5</td>\n",
              "      <td>92.0</td>\n",
              "    </tr>\n",
              "    <tr>\n",
              "      <th>3</th>\n",
              "      <td>False</td>\n",
              "      <td>NaN</td>\n",
              "      <td>16000000</td>\n",
              "      <td>[{'id': 35, 'name': 'Comedy'}, {'id': 18, 'nam...</td>\n",
              "      <td>NaN</td>\n",
              "      <td>31357</td>\n",
              "      <td>tt0114885</td>\n",
              "      <td>en</td>\n",
              "      <td>Waiting to Exhale</td>\n",
              "      <td>Cheated on, mistreated and stepped on, the wom...</td>\n",
              "      <td>...</td>\n",
              "      <td>1995-12-22</td>\n",
              "      <td>81452156.0</td>\n",
              "      <td>127.0</td>\n",
              "      <td>[{'iso_639_1': 'en', 'name': 'English'}]</td>\n",
              "      <td>Released</td>\n",
              "      <td>Friends are the people who let you be yourself...</td>\n",
              "      <td>Waiting to Exhale</td>\n",
              "      <td>False</td>\n",
              "      <td>6.1</td>\n",
              "      <td>34.0</td>\n",
              "    </tr>\n",
              "    <tr>\n",
              "      <th>4</th>\n",
              "      <td>False</td>\n",
              "      <td>{'id': 96871, 'name': 'Father of the Bride Col...</td>\n",
              "      <td>0</td>\n",
              "      <td>[{'id': 35, 'name': 'Comedy'}]</td>\n",
              "      <td>NaN</td>\n",
              "      <td>11862</td>\n",
              "      <td>tt0113041</td>\n",
              "      <td>en</td>\n",
              "      <td>Father of the Bride Part II</td>\n",
              "      <td>Just when George Banks has recovered from his ...</td>\n",
              "      <td>...</td>\n",
              "      <td>1995-02-10</td>\n",
              "      <td>76578911.0</td>\n",
              "      <td>106.0</td>\n",
              "      <td>[{'iso_639_1': 'en', 'name': 'English'}]</td>\n",
              "      <td>Released</td>\n",
              "      <td>Just When His World Is Back To Normal... He's ...</td>\n",
              "      <td>Father of the Bride Part II</td>\n",
              "      <td>False</td>\n",
              "      <td>5.7</td>\n",
              "      <td>173.0</td>\n",
              "    </tr>\n",
              "  </tbody>\n",
              "</table>\n",
              "<p>5 rows × 24 columns</p>\n",
              "</div>\n",
              "    <div class=\"colab-df-buttons\">\n",
              "\n",
              "  <div class=\"colab-df-container\">\n",
              "    <button class=\"colab-df-convert\" onclick=\"convertToInteractive('df-4668aa59-199d-4ce4-90ef-dff121a06688')\"\n",
              "            title=\"Convert this dataframe to an interactive table.\"\n",
              "            style=\"display:none;\">\n",
              "\n",
              "  <svg xmlns=\"http://www.w3.org/2000/svg\" height=\"24px\" viewBox=\"0 -960 960 960\">\n",
              "    <path d=\"M120-120v-720h720v720H120Zm60-500h600v-160H180v160Zm220 220h160v-160H400v160Zm0 220h160v-160H400v160ZM180-400h160v-160H180v160Zm440 0h160v-160H620v160ZM180-180h160v-160H180v160Zm440 0h160v-160H620v160Z\"/>\n",
              "  </svg>\n",
              "    </button>\n",
              "\n",
              "  <style>\n",
              "    .colab-df-container {\n",
              "      display:flex;\n",
              "      gap: 12px;\n",
              "    }\n",
              "\n",
              "    .colab-df-convert {\n",
              "      background-color: #E8F0FE;\n",
              "      border: none;\n",
              "      border-radius: 50%;\n",
              "      cursor: pointer;\n",
              "      display: none;\n",
              "      fill: #1967D2;\n",
              "      height: 32px;\n",
              "      padding: 0 0 0 0;\n",
              "      width: 32px;\n",
              "    }\n",
              "\n",
              "    .colab-df-convert:hover {\n",
              "      background-color: #E2EBFA;\n",
              "      box-shadow: 0px 1px 2px rgba(60, 64, 67, 0.3), 0px 1px 3px 1px rgba(60, 64, 67, 0.15);\n",
              "      fill: #174EA6;\n",
              "    }\n",
              "\n",
              "    .colab-df-buttons div {\n",
              "      margin-bottom: 4px;\n",
              "    }\n",
              "\n",
              "    [theme=dark] .colab-df-convert {\n",
              "      background-color: #3B4455;\n",
              "      fill: #D2E3FC;\n",
              "    }\n",
              "\n",
              "    [theme=dark] .colab-df-convert:hover {\n",
              "      background-color: #434B5C;\n",
              "      box-shadow: 0px 1px 3px 1px rgba(0, 0, 0, 0.15);\n",
              "      filter: drop-shadow(0px 1px 2px rgba(0, 0, 0, 0.3));\n",
              "      fill: #FFFFFF;\n",
              "    }\n",
              "  </style>\n",
              "\n",
              "    <script>\n",
              "      const buttonEl =\n",
              "        document.querySelector('#df-4668aa59-199d-4ce4-90ef-dff121a06688 button.colab-df-convert');\n",
              "      buttonEl.style.display =\n",
              "        google.colab.kernel.accessAllowed ? 'block' : 'none';\n",
              "\n",
              "      async function convertToInteractive(key) {\n",
              "        const element = document.querySelector('#df-4668aa59-199d-4ce4-90ef-dff121a06688');\n",
              "        const dataTable =\n",
              "          await google.colab.kernel.invokeFunction('convertToInteractive',\n",
              "                                                    [key], {});\n",
              "        if (!dataTable) return;\n",
              "\n",
              "        const docLinkHtml = 'Like what you see? Visit the ' +\n",
              "          '<a target=\"_blank\" href=https://colab.research.google.com/notebooks/data_table.ipynb>data table notebook</a>'\n",
              "          + ' to learn more about interactive tables.';\n",
              "        element.innerHTML = '';\n",
              "        dataTable['output_type'] = 'display_data';\n",
              "        await google.colab.output.renderOutput(dataTable, element);\n",
              "        const docLink = document.createElement('div');\n",
              "        docLink.innerHTML = docLinkHtml;\n",
              "        element.appendChild(docLink);\n",
              "      }\n",
              "    </script>\n",
              "  </div>\n",
              "\n",
              "\n",
              "<div id=\"df-4ce05df8-e5ff-4de5-84f6-fdba20f3522c\">\n",
              "  <button class=\"colab-df-quickchart\" onclick=\"quickchart('df-4ce05df8-e5ff-4de5-84f6-fdba20f3522c')\"\n",
              "            title=\"Suggest charts\"\n",
              "            style=\"display:none;\">\n",
              "\n",
              "<svg xmlns=\"http://www.w3.org/2000/svg\" height=\"24px\"viewBox=\"0 0 24 24\"\n",
              "     width=\"24px\">\n",
              "    <g>\n",
              "        <path d=\"M19 3H5c-1.1 0-2 .9-2 2v14c0 1.1.9 2 2 2h14c1.1 0 2-.9 2-2V5c0-1.1-.9-2-2-2zM9 17H7v-7h2v7zm4 0h-2V7h2v10zm4 0h-2v-4h2v4z\"/>\n",
              "    </g>\n",
              "</svg>\n",
              "  </button>\n",
              "\n",
              "<style>\n",
              "  .colab-df-quickchart {\n",
              "      --bg-color: #E8F0FE;\n",
              "      --fill-color: #1967D2;\n",
              "      --hover-bg-color: #E2EBFA;\n",
              "      --hover-fill-color: #174EA6;\n",
              "      --disabled-fill-color: #AAA;\n",
              "      --disabled-bg-color: #DDD;\n",
              "  }\n",
              "\n",
              "  [theme=dark] .colab-df-quickchart {\n",
              "      --bg-color: #3B4455;\n",
              "      --fill-color: #D2E3FC;\n",
              "      --hover-bg-color: #434B5C;\n",
              "      --hover-fill-color: #FFFFFF;\n",
              "      --disabled-bg-color: #3B4455;\n",
              "      --disabled-fill-color: #666;\n",
              "  }\n",
              "\n",
              "  .colab-df-quickchart {\n",
              "    background-color: var(--bg-color);\n",
              "    border: none;\n",
              "    border-radius: 50%;\n",
              "    cursor: pointer;\n",
              "    display: none;\n",
              "    fill: var(--fill-color);\n",
              "    height: 32px;\n",
              "    padding: 0;\n",
              "    width: 32px;\n",
              "  }\n",
              "\n",
              "  .colab-df-quickchart:hover {\n",
              "    background-color: var(--hover-bg-color);\n",
              "    box-shadow: 0 1px 2px rgba(60, 64, 67, 0.3), 0 1px 3px 1px rgba(60, 64, 67, 0.15);\n",
              "    fill: var(--button-hover-fill-color);\n",
              "  }\n",
              "\n",
              "  .colab-df-quickchart-complete:disabled,\n",
              "  .colab-df-quickchart-complete:disabled:hover {\n",
              "    background-color: var(--disabled-bg-color);\n",
              "    fill: var(--disabled-fill-color);\n",
              "    box-shadow: none;\n",
              "  }\n",
              "\n",
              "  .colab-df-spinner {\n",
              "    border: 2px solid var(--fill-color);\n",
              "    border-color: transparent;\n",
              "    border-bottom-color: var(--fill-color);\n",
              "    animation:\n",
              "      spin 1s steps(1) infinite;\n",
              "  }\n",
              "\n",
              "  @keyframes spin {\n",
              "    0% {\n",
              "      border-color: transparent;\n",
              "      border-bottom-color: var(--fill-color);\n",
              "      border-left-color: var(--fill-color);\n",
              "    }\n",
              "    20% {\n",
              "      border-color: transparent;\n",
              "      border-left-color: var(--fill-color);\n",
              "      border-top-color: var(--fill-color);\n",
              "    }\n",
              "    30% {\n",
              "      border-color: transparent;\n",
              "      border-left-color: var(--fill-color);\n",
              "      border-top-color: var(--fill-color);\n",
              "      border-right-color: var(--fill-color);\n",
              "    }\n",
              "    40% {\n",
              "      border-color: transparent;\n",
              "      border-right-color: var(--fill-color);\n",
              "      border-top-color: var(--fill-color);\n",
              "    }\n",
              "    60% {\n",
              "      border-color: transparent;\n",
              "      border-right-color: var(--fill-color);\n",
              "    }\n",
              "    80% {\n",
              "      border-color: transparent;\n",
              "      border-right-color: var(--fill-color);\n",
              "      border-bottom-color: var(--fill-color);\n",
              "    }\n",
              "    90% {\n",
              "      border-color: transparent;\n",
              "      border-bottom-color: var(--fill-color);\n",
              "    }\n",
              "  }\n",
              "</style>\n",
              "\n",
              "  <script>\n",
              "    async function quickchart(key) {\n",
              "      const quickchartButtonEl =\n",
              "        document.querySelector('#' + key + ' button');\n",
              "      quickchartButtonEl.disabled = true;  // To prevent multiple clicks.\n",
              "      quickchartButtonEl.classList.add('colab-df-spinner');\n",
              "      try {\n",
              "        const charts = await google.colab.kernel.invokeFunction(\n",
              "            'suggestCharts', [key], {});\n",
              "      } catch (error) {\n",
              "        console.error('Error during call to suggestCharts:', error);\n",
              "      }\n",
              "      quickchartButtonEl.classList.remove('colab-df-spinner');\n",
              "      quickchartButtonEl.classList.add('colab-df-quickchart-complete');\n",
              "    }\n",
              "    (() => {\n",
              "      let quickchartButtonEl =\n",
              "        document.querySelector('#df-4ce05df8-e5ff-4de5-84f6-fdba20f3522c button');\n",
              "      quickchartButtonEl.style.display =\n",
              "        google.colab.kernel.accessAllowed ? 'block' : 'none';\n",
              "    })();\n",
              "  </script>\n",
              "</div>\n",
              "    </div>\n",
              "  </div>\n"
            ],
            "application/vnd.google.colaboratory.intrinsic+json": {
              "type": "dataframe",
              "variable_name": "df"
            }
          },
          "metadata": {},
          "execution_count": 20
        }
      ]
    },
    {
      "cell_type": "code",
      "source": [
        "from google.colab import drive\n",
        "drive.mount('/content/drive')"
      ],
      "metadata": {
        "colab": {
          "base_uri": "https://localhost:8080/"
        },
        "id": "FxSBSh_u0DEY",
        "outputId": "cd3698b0-0719-4379-d932-e50705f994e3"
      },
      "execution_count": null,
      "outputs": [
        {
          "output_type": "stream",
          "name": "stdout",
          "text": [
            "Mounted at /content/drive\n"
          ]
        }
      ]
    },
    {
      "cell_type": "code",
      "source": [
        "df.columns"
      ],
      "metadata": {
        "colab": {
          "base_uri": "https://localhost:8080/"
        },
        "id": "hqwWrji6K_RE",
        "outputId": "225d8480-38f3-4f36-8700-c8b94fe09b4b"
      },
      "execution_count": null,
      "outputs": [
        {
          "output_type": "execute_result",
          "data": {
            "text/plain": [
              "Index(['adult', 'belongs_to_collection', 'budget', 'genres', 'homepage', 'id',\n",
              "       'imdb_id', 'original_language', 'original_title', 'overview',\n",
              "       'popularity', 'poster_path', 'production_companies',\n",
              "       'production_countries', 'release_date', 'revenue', 'runtime',\n",
              "       'spoken_languages', 'status', 'tagline', 'title', 'video',\n",
              "       'vote_average', 'vote_count'],\n",
              "      dtype='object')"
            ]
          },
          "metadata": {},
          "execution_count": 23
        }
      ]
    },
    {
      "cell_type": "code",
      "source": [
        "df.shape"
      ],
      "metadata": {
        "id": "zKJb4cjTK_Zx"
      },
      "execution_count": null,
      "outputs": []
    },
    {
      "cell_type": "code",
      "source": [
        "df.info()"
      ],
      "metadata": {
        "id": "zRt7tslHN3zq"
      },
      "execution_count": null,
      "outputs": []
    },
    {
      "cell_type": "code",
      "source": [
        "# Удалим из датафрейма избыточные данные (Remove unnecessary data from the dataframe)\n",
        "df = df.drop(['imdb_id'], axis=1)  # حذف عمود imdb_id\n",
        "df = df.drop(['adult'], axis=1)     # حذف عمود adult\n",
        "df = df.drop(['belongs_to_collection'], axis=1)  # حذف عمود belongs_to_collection\n",
        "df = df.drop(['homepage'], axis=1)  # حذف عمود homepage\n",
        "df = df.drop(['video'], axis=1)     # حذف عمود video\n",
        "df = df.drop(['poster_path'], axis=1)  # حذف عمود poster_path\n",
        "df = df.drop(['production_companies'], axis=1)  # حذف عمود production_companies"
      ],
      "metadata": {
        "id": "hcLe0VKmN3_u"
      },
      "execution_count": null,
      "outputs": []
    },
    {
      "cell_type": "code",
      "source": [
        "df.info()"
      ],
      "metadata": {
        "id": "D_CD9Ga3N4Gv"
      },
      "execution_count": null,
      "outputs": []
    },
    {
      "cell_type": "code",
      "source": [
        "df[df['revenue'] == 0].shape"
      ],
      "metadata": {
        "id": "c4DzRFMkN4LK"
      },
      "execution_count": null,
      "outputs": []
    },
    {
      "cell_type": "code",
      "source": [
        "df['revenue'] = df[\"revenue\"].replace(0, np.nan)"
      ],
      "metadata": {
        "id": "ZUYvQpQyPQ4r"
      },
      "execution_count": null,
      "outputs": []
    },
    {
      "cell_type": "code",
      "source": [
        "df[df['revenue'] == 0].shape"
      ],
      "metadata": {
        "id": "WRxGL_X0PRAv"
      },
      "execution_count": null,
      "outputs": []
    },
    {
      "cell_type": "code",
      "source": [
        "# التحقق من أنواع البيانات في الأعمده المختلفه\n",
        "print(df.budget.dtypes)\n",
        "print(df.revenue.dtypes)"
      ],
      "metadata": {
        "id": "eApOv6YmN4Qj"
      },
      "execution_count": null,
      "outputs": []
    },
    {
      "cell_type": "code",
      "source": [
        "# تنظيف عمود الميزانيه\n",
        "df['budget'] = pd.to_numeric(df['budget'], errors='coerce')\n",
        "df['budget'] = df['budget'].replace(0, np.nan)\n",
        "df[df['budget'].isnull()].shape"
      ],
      "metadata": {
        "id": "5NaGDPoVIjMG"
      },
      "execution_count": null,
      "outputs": []
    },
    {
      "cell_type": "code",
      "source": [
        "df[['title', 'release_date']].head()"
      ],
      "metadata": {
        "id": "UOW-fjZS_KHt"
      },
      "execution_count": null,
      "outputs": []
    },
    {
      "cell_type": "code",
      "source": [],
      "metadata": {
        "id": "kJXLMWyV_KVg"
      },
      "execution_count": null,
      "outputs": []
    },
    {
      "cell_type": "code",
      "source": [],
      "metadata": {
        "id": "6Tw_256AQ5ka"
      },
      "execution_count": null,
      "outputs": []
    },
    {
      "cell_type": "code",
      "source": [],
      "metadata": {
        "id": "MX-mucYTQ5ti"
      },
      "execution_count": null,
      "outputs": []
    },
    {
      "cell_type": "code",
      "source": [
        "#################################################################"
      ],
      "metadata": {
        "id": "OQinSxQlDPbS"
      },
      "execution_count": null,
      "outputs": []
    },
    {
      "cell_type": "code",
      "source": [
        "import pandas as pd\n",
        "movies_df = pd.read_csv(\"movies_metadata.csv\")\n",
        "print(movies_df)"
      ],
      "metadata": {
        "colab": {
          "base_uri": "https://localhost:8080/",
          "height": 339
        },
        "id": "kG7w8j8qCqg8",
        "outputId": "a18e4db7-7c32-4224-e3b2-bece18bade07"
      },
      "execution_count": null,
      "outputs": [
        {
          "output_type": "error",
          "ename": "FileNotFoundError",
          "evalue": "[Errno 2] No such file or directory: 'movies_metadata.csv'",
          "traceback": [
            "\u001b[0;31m---------------------------------------------------------------------------\u001b[0m",
            "\u001b[0;31mFileNotFoundError\u001b[0m                         Traceback (most recent call last)",
            "\u001b[0;32m<ipython-input-1-34c408de3549>\u001b[0m in \u001b[0;36m<cell line: 0>\u001b[0;34m()\u001b[0m\n\u001b[1;32m      1\u001b[0m \u001b[0;32mimport\u001b[0m \u001b[0mpandas\u001b[0m \u001b[0;32mas\u001b[0m \u001b[0mpd\u001b[0m\u001b[0;34m\u001b[0m\u001b[0;34m\u001b[0m\u001b[0m\n\u001b[0;32m----> 2\u001b[0;31m \u001b[0mmovies_df\u001b[0m \u001b[0;34m=\u001b[0m \u001b[0mpd\u001b[0m\u001b[0;34m.\u001b[0m\u001b[0mread_csv\u001b[0m\u001b[0;34m(\u001b[0m\u001b[0;34m\"movies_metadata.csv\"\u001b[0m\u001b[0;34m)\u001b[0m\u001b[0;34m\u001b[0m\u001b[0;34m\u001b[0m\u001b[0m\n\u001b[0m\u001b[1;32m      3\u001b[0m \u001b[0mprint\u001b[0m\u001b[0;34m(\u001b[0m\u001b[0mmovies_df\u001b[0m\u001b[0;34m)\u001b[0m\u001b[0;34m\u001b[0m\u001b[0;34m\u001b[0m\u001b[0m\n",
            "\u001b[0;32m/usr/local/lib/python3.11/dist-packages/pandas/io/parsers/readers.py\u001b[0m in \u001b[0;36mread_csv\u001b[0;34m(filepath_or_buffer, sep, delimiter, header, names, index_col, usecols, dtype, engine, converters, true_values, false_values, skipinitialspace, skiprows, skipfooter, nrows, na_values, keep_default_na, na_filter, verbose, skip_blank_lines, parse_dates, infer_datetime_format, keep_date_col, date_parser, date_format, dayfirst, cache_dates, iterator, chunksize, compression, thousands, decimal, lineterminator, quotechar, quoting, doublequote, escapechar, comment, encoding, encoding_errors, dialect, on_bad_lines, delim_whitespace, low_memory, memory_map, float_precision, storage_options, dtype_backend)\u001b[0m\n\u001b[1;32m   1024\u001b[0m     \u001b[0mkwds\u001b[0m\u001b[0;34m.\u001b[0m\u001b[0mupdate\u001b[0m\u001b[0;34m(\u001b[0m\u001b[0mkwds_defaults\u001b[0m\u001b[0;34m)\u001b[0m\u001b[0;34m\u001b[0m\u001b[0;34m\u001b[0m\u001b[0m\n\u001b[1;32m   1025\u001b[0m \u001b[0;34m\u001b[0m\u001b[0m\n\u001b[0;32m-> 1026\u001b[0;31m     \u001b[0;32mreturn\u001b[0m \u001b[0m_read\u001b[0m\u001b[0;34m(\u001b[0m\u001b[0mfilepath_or_buffer\u001b[0m\u001b[0;34m,\u001b[0m \u001b[0mkwds\u001b[0m\u001b[0;34m)\u001b[0m\u001b[0;34m\u001b[0m\u001b[0;34m\u001b[0m\u001b[0m\n\u001b[0m\u001b[1;32m   1027\u001b[0m \u001b[0;34m\u001b[0m\u001b[0m\n\u001b[1;32m   1028\u001b[0m \u001b[0;34m\u001b[0m\u001b[0m\n",
            "\u001b[0;32m/usr/local/lib/python3.11/dist-packages/pandas/io/parsers/readers.py\u001b[0m in \u001b[0;36m_read\u001b[0;34m(filepath_or_buffer, kwds)\u001b[0m\n\u001b[1;32m    618\u001b[0m \u001b[0;34m\u001b[0m\u001b[0m\n\u001b[1;32m    619\u001b[0m     \u001b[0;31m# Create the parser.\u001b[0m\u001b[0;34m\u001b[0m\u001b[0;34m\u001b[0m\u001b[0m\n\u001b[0;32m--> 620\u001b[0;31m     \u001b[0mparser\u001b[0m \u001b[0;34m=\u001b[0m \u001b[0mTextFileReader\u001b[0m\u001b[0;34m(\u001b[0m\u001b[0mfilepath_or_buffer\u001b[0m\u001b[0;34m,\u001b[0m \u001b[0;34m**\u001b[0m\u001b[0mkwds\u001b[0m\u001b[0;34m)\u001b[0m\u001b[0;34m\u001b[0m\u001b[0;34m\u001b[0m\u001b[0m\n\u001b[0m\u001b[1;32m    621\u001b[0m \u001b[0;34m\u001b[0m\u001b[0m\n\u001b[1;32m    622\u001b[0m     \u001b[0;32mif\u001b[0m \u001b[0mchunksize\u001b[0m \u001b[0;32mor\u001b[0m \u001b[0miterator\u001b[0m\u001b[0;34m:\u001b[0m\u001b[0;34m\u001b[0m\u001b[0;34m\u001b[0m\u001b[0m\n",
            "\u001b[0;32m/usr/local/lib/python3.11/dist-packages/pandas/io/parsers/readers.py\u001b[0m in \u001b[0;36m__init__\u001b[0;34m(self, f, engine, **kwds)\u001b[0m\n\u001b[1;32m   1618\u001b[0m \u001b[0;34m\u001b[0m\u001b[0m\n\u001b[1;32m   1619\u001b[0m         \u001b[0mself\u001b[0m\u001b[0;34m.\u001b[0m\u001b[0mhandles\u001b[0m\u001b[0;34m:\u001b[0m \u001b[0mIOHandles\u001b[0m \u001b[0;34m|\u001b[0m \u001b[0;32mNone\u001b[0m \u001b[0;34m=\u001b[0m \u001b[0;32mNone\u001b[0m\u001b[0;34m\u001b[0m\u001b[0;34m\u001b[0m\u001b[0m\n\u001b[0;32m-> 1620\u001b[0;31m         \u001b[0mself\u001b[0m\u001b[0;34m.\u001b[0m\u001b[0m_engine\u001b[0m \u001b[0;34m=\u001b[0m \u001b[0mself\u001b[0m\u001b[0;34m.\u001b[0m\u001b[0m_make_engine\u001b[0m\u001b[0;34m(\u001b[0m\u001b[0mf\u001b[0m\u001b[0;34m,\u001b[0m \u001b[0mself\u001b[0m\u001b[0;34m.\u001b[0m\u001b[0mengine\u001b[0m\u001b[0;34m)\u001b[0m\u001b[0;34m\u001b[0m\u001b[0;34m\u001b[0m\u001b[0m\n\u001b[0m\u001b[1;32m   1621\u001b[0m \u001b[0;34m\u001b[0m\u001b[0m\n\u001b[1;32m   1622\u001b[0m     \u001b[0;32mdef\u001b[0m \u001b[0mclose\u001b[0m\u001b[0;34m(\u001b[0m\u001b[0mself\u001b[0m\u001b[0;34m)\u001b[0m \u001b[0;34m->\u001b[0m \u001b[0;32mNone\u001b[0m\u001b[0;34m:\u001b[0m\u001b[0;34m\u001b[0m\u001b[0;34m\u001b[0m\u001b[0m\n",
            "\u001b[0;32m/usr/local/lib/python3.11/dist-packages/pandas/io/parsers/readers.py\u001b[0m in \u001b[0;36m_make_engine\u001b[0;34m(self, f, engine)\u001b[0m\n\u001b[1;32m   1878\u001b[0m                 \u001b[0;32mif\u001b[0m \u001b[0;34m\"b\"\u001b[0m \u001b[0;32mnot\u001b[0m \u001b[0;32min\u001b[0m \u001b[0mmode\u001b[0m\u001b[0;34m:\u001b[0m\u001b[0;34m\u001b[0m\u001b[0;34m\u001b[0m\u001b[0m\n\u001b[1;32m   1879\u001b[0m                     \u001b[0mmode\u001b[0m \u001b[0;34m+=\u001b[0m \u001b[0;34m\"b\"\u001b[0m\u001b[0;34m\u001b[0m\u001b[0;34m\u001b[0m\u001b[0m\n\u001b[0;32m-> 1880\u001b[0;31m             self.handles = get_handle(\n\u001b[0m\u001b[1;32m   1881\u001b[0m                 \u001b[0mf\u001b[0m\u001b[0;34m,\u001b[0m\u001b[0;34m\u001b[0m\u001b[0;34m\u001b[0m\u001b[0m\n\u001b[1;32m   1882\u001b[0m                 \u001b[0mmode\u001b[0m\u001b[0;34m,\u001b[0m\u001b[0;34m\u001b[0m\u001b[0;34m\u001b[0m\u001b[0m\n",
            "\u001b[0;32m/usr/local/lib/python3.11/dist-packages/pandas/io/common.py\u001b[0m in \u001b[0;36mget_handle\u001b[0;34m(path_or_buf, mode, encoding, compression, memory_map, is_text, errors, storage_options)\u001b[0m\n\u001b[1;32m    871\u001b[0m         \u001b[0;32mif\u001b[0m \u001b[0mioargs\u001b[0m\u001b[0;34m.\u001b[0m\u001b[0mencoding\u001b[0m \u001b[0;32mand\u001b[0m \u001b[0;34m\"b\"\u001b[0m \u001b[0;32mnot\u001b[0m \u001b[0;32min\u001b[0m \u001b[0mioargs\u001b[0m\u001b[0;34m.\u001b[0m\u001b[0mmode\u001b[0m\u001b[0;34m:\u001b[0m\u001b[0;34m\u001b[0m\u001b[0;34m\u001b[0m\u001b[0m\n\u001b[1;32m    872\u001b[0m             \u001b[0;31m# Encoding\u001b[0m\u001b[0;34m\u001b[0m\u001b[0;34m\u001b[0m\u001b[0m\n\u001b[0;32m--> 873\u001b[0;31m             handle = open(\n\u001b[0m\u001b[1;32m    874\u001b[0m                 \u001b[0mhandle\u001b[0m\u001b[0;34m,\u001b[0m\u001b[0;34m\u001b[0m\u001b[0;34m\u001b[0m\u001b[0m\n\u001b[1;32m    875\u001b[0m                 \u001b[0mioargs\u001b[0m\u001b[0;34m.\u001b[0m\u001b[0mmode\u001b[0m\u001b[0;34m,\u001b[0m\u001b[0;34m\u001b[0m\u001b[0;34m\u001b[0m\u001b[0m\n",
            "\u001b[0;31mFileNotFoundError\u001b[0m: [Errno 2] No such file or directory: 'movies_metadata.csv'"
          ]
        }
      ]
    },
    {
      "cell_type": "code",
      "source": [
        "import numpy as np\n",
        "\n",
        "# إنشاء مصفوفة أربع أبعاد\n",
        "array_4d = np.random.rand(2, 3, 4, 5)  # مصفوفة عشوائية بأبعاد 2x3x4x5\n",
        "print(array_4d)\n",
        "\n",
        "# طباعة عدد الأبعاد\n",
        "print(\"عدد الأبعاد للمصفوفة الرباعية:\", array_4d.ndim)  # الناتج: 4\n"
      ],
      "metadata": {
        "id": "_aYOE8x2Cqc1",
        "colab": {
          "base_uri": "https://localhost:8080/"
        },
        "outputId": "1c4e5104-644f-4f32-df4b-53f84e6a0925"
      },
      "execution_count": 2,
      "outputs": [
        {
          "output_type": "stream",
          "name": "stdout",
          "text": [
            "[[[[0.51548727 0.44151687 0.97987455 0.65539908 0.87045459]\n",
            "   [0.78297805 0.74866186 0.3538946  0.01615849 0.19220731]\n",
            "   [0.79989514 0.13752006 0.28519591 0.16351003 0.53617363]\n",
            "   [0.99791405 0.8870867  0.38735856 0.79986874 0.7481462 ]]\n",
            "\n",
            "  [[0.52655575 0.76327605 0.40980978 0.32235604 0.76105832]\n",
            "   [0.54546204 0.47355624 0.48504322 0.43537334 0.79603552]\n",
            "   [0.52492698 0.01316877 0.81616747 0.51162786 0.12873773]\n",
            "   [0.76719509 0.17882003 0.48525826 0.17958362 0.80157039]]\n",
            "\n",
            "  [[0.43251685 0.54116964 0.64841836 0.65439584 0.80984086]\n",
            "   [0.9289121  0.47502642 0.25586109 0.76032002 0.83647745]\n",
            "   [0.4291941  0.95810015 0.03994905 0.17247639 0.25461041]\n",
            "   [0.01414985 0.85165053 0.23134298 0.57453338 0.61808476]]]\n",
            "\n",
            "\n",
            " [[[0.82674288 0.21962677 0.62130383 0.29653423 0.19123646]\n",
            "   [0.73301991 0.59084251 0.14138613 0.72950031 0.69807635]\n",
            "   [0.64892802 0.54839427 0.62519265 0.41042907 0.95355696]\n",
            "   [0.96198827 0.0342963  0.77202885 0.01605886 0.95421001]]\n",
            "\n",
            "  [[0.33432968 0.2093172  0.0423778  0.15283417 0.69653227]\n",
            "   [0.46362477 0.14545792 0.37607914 0.8776827  0.8683383 ]\n",
            "   [0.37592776 0.48042983 0.04184914 0.1203023  0.39642774]\n",
            "   [0.38951545 0.28891368 0.29763295 0.74205586 0.37435471]]\n",
            "\n",
            "  [[0.45303073 0.75512003 0.47883752 0.94448272 0.17645838]\n",
            "   [0.24457602 0.82820159 0.97358624 0.60503289 0.49995808]\n",
            "   [0.74460946 0.80455294 0.73847453 0.93865594 0.98061059]\n",
            "   [0.26036621 0.17931088 0.37813233 0.96308502 0.39382889]]]]\n",
            "عدد الأبعاد للمصفوفة الرباعية: 4\n"
          ]
        }
      ]
    },
    {
      "cell_type": "code",
      "source": [
        "# operations on NumPy arrays\n",
        "\n",
        "import numpy as np\n",
        "\n",
        "array1 = np.array([4, 8, 9])\n",
        "array2 = np.array([1, 2, 3])\n",
        "\n",
        "print('Elements-wise multiplication:', array1 * array2)\n",
        "print('Elements-wise addition:', array1 + array2)\n",
        "print('Elements-wise subtraction:', array1 - array2)\n",
        "print('Elements-wise divition:', array1 / array2)"
      ],
      "metadata": {
        "id": "UcdOuIR9CqZV",
        "colab": {
          "base_uri": "https://localhost:8080/"
        },
        "outputId": "933fd9cc-fe32-4dc6-b0f0-2ca53c01ce07"
      },
      "execution_count": 2,
      "outputs": [
        {
          "output_type": "stream",
          "name": "stdout",
          "text": [
            "Elements-wise multiplication: [ 4 16 27]\n",
            "Elements-wise addition: [ 5 10 12]\n",
            "Elements-wise subtraction: [3 6 6]\n",
            "Elements-wise divition: [4. 4. 3.]\n"
          ]
        }
      ]
    },
    {
      "cell_type": "code",
      "source": [
        "import numpy as np\n",
        "\n",
        "a = np.arange(24).reshape(4,6)\n",
        "print(\"Массив A:\\n\", a)\n",
        "\n",
        "b = a[:2, 3:]\n",
        "print(\"\\nМассив B:\\n\", b)\n",
        "\n",
        "\n",
        "b[1,2] = -1\n",
        "print(\"\\nМассив B:\\n\", b)\n",
        "print(\"Массив A:\\n\", a)"
      ],
      "metadata": {
        "id": "CqweCpsvCqRf",
        "colab": {
          "base_uri": "https://localhost:8080/"
        },
        "outputId": "b7904441-3f7f-4674-9256-514dc3c2723f"
      },
      "execution_count": 1,
      "outputs": [
        {
          "output_type": "stream",
          "name": "stdout",
          "text": [
            "Массив A:\n",
            " [[ 0  1  2  3  4  5]\n",
            " [ 6  7  8  9 10 11]\n",
            " [12 13 14 15 16 17]\n",
            " [18 19 20 21 22 23]]\n",
            "\n",
            "Массив B:\n",
            " [[ 3  4  5]\n",
            " [ 9 10 11]]\n",
            "\n",
            "Массив B:\n",
            " [[ 3  4  5]\n",
            " [ 9 10 -1]]\n",
            "Массив A:\n",
            " [[ 0  1  2  3  4  5]\n",
            " [ 6  7  8  9 10 -1]\n",
            " [12 13 14 15 16 17]\n",
            " [18 19 20 21 22 23]]\n"
          ]
        }
      ]
    },
    {
      "cell_type": "code",
      "source": [
        "import numpy as np\n",
        "\n",
        "# Create an array A with shape (4, 6)\n",
        "a = np.arange(24).reshape(4, 6)\n",
        "print(\"Array A:\\n\", a)\n",
        "\n",
        "# Create a view B from A\n",
        "b = a[:2, 3:]\n",
        "print(\"Array B:\\n\", b)\n",
        "\n",
        "# Modify an element in B\n",
        "b[1, 2] = -1\n",
        "print(\"Array B after modification:\\n\", b)\n",
        "print(\"Array A after modification:\\n\", a)"
      ],
      "metadata": {
        "id": "3dWeev8ACqHV",
        "colab": {
          "base_uri": "https://localhost:8080/"
        },
        "outputId": "d738e865-ce27-4f9a-e30e-8e7616ab03be"
      },
      "execution_count": 4,
      "outputs": [
        {
          "output_type": "stream",
          "name": "stdout",
          "text": [
            "Array A:\n",
            " [[ 0  1  2  3  4  5]\n",
            " [ 6  7  8  9 10 11]\n",
            " [12 13 14 15 16 17]\n",
            " [18 19 20 21 22 23]]\n",
            "Array B:\n",
            " [[ 3  4  5]\n",
            " [ 9 10 11]]\n",
            "Array B after modification:\n",
            " [[ 3  4  5]\n",
            " [ 9 10 -1]]\n",
            "Array A after modification:\n",
            " [[ 0  1  2  3  4  5]\n",
            " [ 6  7  8  9 10 -1]\n",
            " [12 13 14 15 16 17]\n",
            " [18 19 20 21 22 23]]\n"
          ]
        }
      ]
    },
    {
      "cell_type": "code",
      "source": [
        "# Create a copy of B\n",
        "b = a[:2, 3:].copy()  # Make a copy\n",
        "print(\"Array B (copy):\\n\", b)\n",
        "\n",
        "# Modify an element in the copy\n",
        "b[1, 2] = -1\n",
        "print(\"Array B after modification (copy):\\n\", b)\n",
        "print(\"Array A after modification (copy):\\n\", a)"
      ],
      "metadata": {
        "id": "OCQg7CISCqBY",
        "colab": {
          "base_uri": "https://localhost:8080/"
        },
        "outputId": "49b8d570-c07b-44ff-8d1f-008924cce578"
      },
      "execution_count": 5,
      "outputs": [
        {
          "output_type": "stream",
          "name": "stdout",
          "text": [
            "Array B (copy):\n",
            " [[ 3  4  5]\n",
            " [ 9 10 -1]]\n",
            "Array B after modification (copy):\n",
            " [[ 3  4  5]\n",
            " [ 9 10 -1]]\n",
            "Array A after modification (copy):\n",
            " [[ 0  1  2  3  4  5]\n",
            " [ 6  7  8  9 10 -1]\n",
            " [12 13 14 15 16 17]\n",
            " [18 19 20 21 22 23]]\n"
          ]
        }
      ]
    },
    {
      "cell_type": "code",
      "source": [],
      "metadata": {
        "id": "dWAoXA4Sevqe"
      },
      "execution_count": null,
      "outputs": []
    },
    {
      "cell_type": "code",
      "source": [],
      "metadata": {
        "id": "Mktd9_42evyf"
      },
      "execution_count": null,
      "outputs": []
    },
    {
      "cell_type": "code",
      "source": [],
      "metadata": {
        "id": "vX-_fcDgev6J"
      },
      "execution_count": null,
      "outputs": []
    },
    {
      "cell_type": "code",
      "source": [],
      "metadata": {
        "id": "urS_cTqlev_X"
      },
      "execution_count": null,
      "outputs": []
    },
    {
      "cell_type": "code",
      "source": [],
      "metadata": {
        "id": "ufN829cSewEC"
      },
      "execution_count": null,
      "outputs": []
    },
    {
      "cell_type": "code",
      "source": [],
      "metadata": {
        "id": "l9JMclDOewSk"
      },
      "execution_count": null,
      "outputs": []
    },
    {
      "cell_type": "code",
      "source": [
        "x = list()\n",
        "print(dir(x))\n"
      ],
      "metadata": {
        "id": "xj7giG4JCp6J",
        "colab": {
          "base_uri": "https://localhost:8080/"
        },
        "outputId": "b116cb0f-fbae-4680-ae08-f09ea52c54ab"
      },
      "execution_count": 6,
      "outputs": [
        {
          "output_type": "stream",
          "name": "stdout",
          "text": [
            "['__add__', '__class__', '__class_getitem__', '__contains__', '__delattr__', '__delitem__', '__dir__', '__doc__', '__eq__', '__format__', '__ge__', '__getattribute__', '__getitem__', '__getstate__', '__gt__', '__hash__', '__iadd__', '__imul__', '__init__', '__init_subclass__', '__iter__', '__le__', '__len__', '__lt__', '__mul__', '__ne__', '__new__', '__reduce__', '__reduce_ex__', '__repr__', '__reversed__', '__rmul__', '__setattr__', '__setitem__', '__sizeof__', '__str__', '__subclasshook__', 'append', 'clear', 'copy', 'count', 'extend', 'index', 'insert', 'pop', 'remove', 'reverse', 'sort']\n"
          ]
        }
      ]
    },
    {
      "cell_type": "code",
      "source": [
        "# إنشاء مصفوفة 2D عشوائية (4 صفوف و3 أعمدة)\n",
        "random_matrix = np.random.rand(4, 3)\n",
        "\n",
        "print(random_matrix.ndim)\n",
        "print(random_matrix)"
      ],
      "metadata": {
        "id": "7c3ffmtWCpuP",
        "colab": {
          "base_uri": "https://localhost:8080/"
        },
        "outputId": "3c12caa3-ab50-450d-f4eb-94b2ff4adb38"
      },
      "execution_count": 4,
      "outputs": [
        {
          "output_type": "stream",
          "name": "stdout",
          "text": [
            "2\n",
            "[[0.45063146 0.67819722 0.25550102]\n",
            " [0.73081589 0.75371149 0.41579516]\n",
            " [0.19087475 0.87527581 0.16718508]\n",
            " [0.0940034  0.39075416 0.93429159]]\n"
          ]
        }
      ]
    },
    {
      "cell_type": "code",
      "source": [
        "import numpy as np\n",
        "\n",
        "# إنشاء مصفوفة 2D (3 صفوف و4 أعمدة)\n",
        "matrix = np.array([[1, 2, 3, 4],\n",
        "                   [5, 6, 7, 8],\n",
        "                   [9, 10, 11, 12]])\n",
        "\n",
        "print(matrix.ndim)\n",
        "print(matrix)\n"
      ],
      "metadata": {
        "id": "dzw56-Z5Cpir",
        "colab": {
          "base_uri": "https://localhost:8080/"
        },
        "outputId": "533fcc34-c816-412b-f040-cbe91a382b7e"
      },
      "execution_count": 3,
      "outputs": [
        {
          "output_type": "stream",
          "name": "stdout",
          "text": [
            "2\n",
            "[[ 1  2  3  4]\n",
            " [ 5  6  7  8]\n",
            " [ 9 10 11 12]]\n"
          ]
        }
      ]
    },
    {
      "cell_type": "markdown",
      "source": [
        "Tasks"
      ],
      "metadata": {
        "id": "l05wjDFUTcMW"
      }
    },
    {
      "cell_type": "code",
      "source": [
        "import numpy as np\n",
        "\n",
        "# Create an array with shape (3, 4)\n",
        "data = np.arange(12).reshape(3, 4)\n",
        "print(\"data:\\n\", data)\n",
        "print(\"Minimum value:\", data.min())       # Minimum value\n",
        "print(\"Sum of all values:\", data.sum())   # Sum of all values\n",
        "print(\"Mean value:\", data.mean())         # Mean value\n",
        "print(\"Standard deviation:\", data.std())   # Standard deviation\n",
        "print(\"Maximum value:\", data.max())       # Maximum value\n",
        "\n",
        "print(\"Sum of each row:\", data.sum(axis=1))   # Sum along axis 1 - result for each row\n",
        "print(\"Sum of each column:\", data.sum(axis=0)) # Sum along axis 0 - result for each column\n",
        "\n",
        "print(\"Standard deviation of each row:\", data.std(axis=1))   # Standard deviation of each row\n",
        "print(\"Standard deviation of each column:\", data.std(axis=0)) # Standard deviation of each column\n",
        "\n",
        "print(\"Index of the maximum element of each row:\", data.argmax(axis=1))   # Index of the maximum element in each row\n",
        "print(\"Index of the maximum element of each column:\", data.argmax(axis=0)) # Index of the maximum element in each column\n",
        "\n",
        "print(\"Maximum element of each row:\", data.max(axis=1))   # Maximum element in each row\n",
        "print(\"Maximum element of each column:\", data.max(axis=0)) # Maximum element in each column\n"
      ],
      "metadata": {
        "colab": {
          "base_uri": "https://localhost:8080/"
        },
        "id": "dzKhnaTPmLFB",
        "outputId": "73711da7-cb70-4150-b53c-e6609541dc4e"
      },
      "execution_count": null,
      "outputs": [
        {
          "output_type": "stream",
          "name": "stdout",
          "text": [
            "data:\n",
            " [[ 0  1  2  3]\n",
            " [ 4  5  6  7]\n",
            " [ 8  9 10 11]]\n",
            "Minimum value: 0\n",
            "Sum of all values: 66\n",
            "Mean value: 5.5\n",
            "Standard deviation: 3.452052529534663\n",
            "Maximum value: 11\n",
            "Sum of each row: [ 6 22 38]\n",
            "Sum of each column: [12 15 18 21]\n",
            "Standard deviation of each row: [1.11803399 1.11803399 1.11803399]\n",
            "Standard deviation of each column: [3.26598632 3.26598632 3.26598632 3.26598632]\n",
            "Index of the maximum element of each row: [3 3 3]\n",
            "Index of the maximum element of each column: [2 2 2 2]\n",
            "Maximum element of each row: [ 3  7 11]\n",
            "Maximum element of each column: [ 8  9 10 11]\n"
          ]
        }
      ]
    },
    {
      "cell_type": "code",
      "source": [
        "# Матричные операции\n",
        "\n",
        "# Create another array A1\n",
        "A1 = np.arange(9).reshape(3, 3)\n",
        "print(\"A1:\\n\", A1)\n",
        "print(\"Transposed A:\\n\", A1.T)  # Transpose\n",
        "\n",
        "# Create an array A2\n",
        "A2 = np.ones(9).reshape(3, 3)\n",
        "print(\"A1 @ A2:\\n\", A1 @ A2)  # Matrix multiplication\n",
        "\n",
        "print(\"Dot product:\\n\", A1.dot(A2))  # Dot product\n",
        "print(\"Diagonal of the matrix:\\n\", A1.diagonal())  # Diagonal of the matrix"
      ],
      "metadata": {
        "colab": {
          "base_uri": "https://localhost:8080/"
        },
        "id": "2iPAkkVHUh6M",
        "outputId": "1f8a6093-751a-418d-a71e-5fccd10aa0f7"
      },
      "execution_count": null,
      "outputs": [
        {
          "output_type": "stream",
          "name": "stdout",
          "text": [
            "A1:\n",
            " [[0 1 2]\n",
            " [3 4 5]\n",
            " [6 7 8]]\n",
            "Transposed A:\n",
            " [[0 3 6]\n",
            " [1 4 7]\n",
            " [2 5 8]]\n",
            "A1 @ A2:\n",
            " [[ 3.  3.  3.]\n",
            " [12. 12. 12.]\n",
            " [21. 21. 21.]]\n",
            "Dot product:\n",
            " [[ 3.  3.  3.]\n",
            " [12. 12. 12.]\n",
            " [21. 21. 21.]]\n",
            "Diagonal of the matrix:\n",
            " [0 4 8]\n"
          ]
        }
      ]
    },
    {
      "cell_type": "code",
      "source": [
        "print(\"Data type:\", A1.dtype)\n",
        "print(\"Number of elements:\", A1.size)\n",
        "print(\"Memory occupied:\", A1.nbytes)\n",
        "\n",
        "# Create an array with int8 type\n",
        "C = np.arange(9, dtype=np.int8).reshape(3, 3)\n",
        "print(\"Data type:\", C.dtype)\n",
        "print(\"Number of elements:\", C.size)\n",
        "print(\"Memory occupied:\", C.nbytes)"
      ],
      "metadata": {
        "colab": {
          "base_uri": "https://localhost:8080/"
        },
        "id": "WUniuRnjVQFL",
        "outputId": "3f8af776-2295-4cab-eb0e-7a33663eb585"
      },
      "execution_count": null,
      "outputs": [
        {
          "output_type": "stream",
          "name": "stdout",
          "text": [
            "Data type: int64\n",
            "Number of elements: 9\n",
            "Memory occupied: 72\n",
            "Data type: int8\n",
            "Number of elements: 9\n",
            "Memory occupied: 9\n"
          ]
        }
      ]
    },
    {
      "cell_type": "code",
      "source": [
        "import numpy as np\n",
        "\n",
        "# إنشاء مصفوفة A1\n",
        "A1 = np.array([[1, 2, 3],\n",
        "                [4, 5, 6],\n",
        "                [7, 8, 9]])\n",
        "\n",
        "# إنشاء مصفوفة A2\n",
        "A2 = np.array([[1, 1, 1],\n",
        "                [1, 1, 1],\n",
        "                [1, 1, 1]])\n",
        "\n",
        "print(\"A1:\\n\", A1)\n",
        "print(\"A2:\\n\", A2)\n",
        "print(f\"A1 {A1.shape} + A2 {A2.shape} = A3 {(A1 + A2).shape}:\\n\", A1 + A2)"
      ],
      "metadata": {
        "colab": {
          "base_uri": "https://localhost:8080/"
        },
        "id": "9_XlFr-sW5EN",
        "outputId": "456fc3cb-2508-401a-9b72-abe22cb92459"
      },
      "execution_count": null,
      "outputs": [
        {
          "output_type": "stream",
          "name": "stdout",
          "text": [
            "A1:\n",
            " [[1 2 3]\n",
            " [4 5 6]\n",
            " [7 8 9]]\n",
            "A2:\n",
            " [[1 1 1]\n",
            " [1 1 1]\n",
            " [1 1 1]]\n",
            "A1 (3, 3) + A2 (3, 3) = A3 (3, 3):\n",
            " [[ 2  3  4]\n",
            " [ 5  6  7]\n",
            " [ 8  9 10]]\n"
          ]
        }
      ]
    },
    {
      "cell_type": "code",
      "source": [
        "A2 = np.array([1, 1, 1])\n",
        "print(\"A1:\\n\", A1)\n",
        "print(\"A2:\\n\", A2)\n",
        "print(f\"A1 {A1.shape} + A2 {A2.shape} = A3 {(A1 + A2).shape}:\\n\", A1 + A2)"
      ],
      "metadata": {
        "colab": {
          "base_uri": "https://localhost:8080/"
        },
        "id": "wiKf3z1JW4mm",
        "outputId": "78845a94-5756-42ac-d0d5-032445a773ba"
      },
      "execution_count": null,
      "outputs": [
        {
          "output_type": "stream",
          "name": "stdout",
          "text": [
            "A1:\n",
            " [[1 2 3]\n",
            " [4 5 6]\n",
            " [7 8 9]]\n",
            "A2:\n",
            " [1 1 1]\n",
            "A1 (3, 3) + A2 (3,) = A3 (3, 3):\n",
            " [[ 2  3  4]\n",
            " [ 5  6  7]\n",
            " [ 8  9 10]]\n"
          ]
        }
      ]
    },
    {
      "cell_type": "code",
      "source": [
        "A2 = 1\n",
        "print(\"A1:\\n\", A1)\n",
        "print(\"A2:\\n\", A2)\n",
        "print(f\"A1 {A1.shape} + A2 (int) = A3 {(A1 + A2).shape}:\\n\", A1 + A2)"
      ],
      "metadata": {
        "colab": {
          "base_uri": "https://localhost:8080/"
        },
        "id": "YD2OmEquW4ds",
        "outputId": "afc48a1d-24be-4941-f7d9-bf5c8485b835"
      },
      "execution_count": null,
      "outputs": [
        {
          "output_type": "stream",
          "name": "stdout",
          "text": [
            "A1:\n",
            " [[1 2 3]\n",
            " [4 5 6]\n",
            " [7 8 9]]\n",
            "A2:\n",
            " 1\n",
            "A1 (3, 3) + A2 (int) = A3 (3, 3):\n",
            " [[ 2  3  4]\n",
            " [ 5  6  7]\n",
            " [ 8  9 10]]\n"
          ]
        }
      ]
    },
    {
      "cell_type": "code",
      "source": [
        "A1 = np.arange(10).reshape(2, 1, 5)\n",
        "A2 = np.arange(14).reshape(2, 7, 1)\n",
        "print(\"A1:\\n\", A1)\n",
        "print(\"A2:\\n\", A2)\n",
        "print(f\"A1 {A1.shape} + A2 {A2.shape} = A3 {(A1 + A2).shape}:\\n\", A1 + A2)\n",
        "\n",
        "# Result\n",
        "# A1:\n",
        "#  [[[0 1 2 3 4]]\n",
        "#\n",
        "#  [[5 6 7 8 9]]]\n",
        "# A2:\n",
        "#  [[[ 0]\n",
        "#   [ 1]\n",
        "#   [ 2]\n",
        "#   [ 3]\n",
        "#   [ 4]\n",
        "#   [ 5]\n",
        "#   [ 6]]\n",
        "#\n",
        "#  [[ 7]\n",
        "#   [ 8]\n",
        "#   [ 9]\n",
        "#   [10]\n",
        "#   [11]\n",
        "#   [12]\n",
        "#   [13]]]\n",
        "# A1 (2, 1, 5) + A2 (2, 7, 1) = A3 (2, 7, 5):\n",
        "#  [[[ 0  1  2  3  4]\n",
        "#   [ 1  2  3  4  5]\n",
        "#   [ 2  3  4  5  6]\n",
        "#   [ 3  4  5  6  7]\n",
        "#   [ 4  5  6  7  8]\n",
        "#   [ 5  6  7  8  9]\n",
        "#   [ 6  7  8  9 10]]\n",
        "#\n",
        "#  [[12 13 14 15 16]\n",
        "#   [13 14 15 16 17]\n",
        "#   [14 15 16 17 18]\n",
        "#   [15 16 17 18 19]\n",
        "#   [16 17 18 19 20]\n",
        "#   [17 18 19 20 21]\n",
        "#   [18 19 20 21 22]]]\n"
      ],
      "metadata": {
        "colab": {
          "base_uri": "https://localhost:8080/"
        },
        "id": "el0FVyT_W4VW",
        "outputId": "1051d236-e9ce-4f1f-ad7b-f4ca02b4ede2"
      },
      "execution_count": null,
      "outputs": [
        {
          "output_type": "stream",
          "name": "stdout",
          "text": [
            "A1:\n",
            " [[[0 1 2 3 4]]\n",
            "\n",
            " [[5 6 7 8 9]]]\n",
            "A2:\n",
            " [[[ 0]\n",
            "  [ 1]\n",
            "  [ 2]\n",
            "  [ 3]\n",
            "  [ 4]\n",
            "  [ 5]\n",
            "  [ 6]]\n",
            "\n",
            " [[ 7]\n",
            "  [ 8]\n",
            "  [ 9]\n",
            "  [10]\n",
            "  [11]\n",
            "  [12]\n",
            "  [13]]]\n",
            "A1 (2, 1, 5) + A2 (2, 7, 1) = A3 (2, 7, 5):\n",
            " [[[ 0  1  2  3  4]\n",
            "  [ 1  2  3  4  5]\n",
            "  [ 2  3  4  5  6]\n",
            "  [ 3  4  5  6  7]\n",
            "  [ 4  5  6  7  8]\n",
            "  [ 5  6  7  8  9]\n",
            "  [ 6  7  8  9 10]]\n",
            "\n",
            " [[12 13 14 15 16]\n",
            "  [13 14 15 16 17]\n",
            "  [14 15 16 17 18]\n",
            "  [15 16 17 18 19]\n",
            "  [16 17 18 19 20]\n",
            "  [17 18 19 20 21]\n",
            "  [18 19 20 21 22]]]\n"
          ]
        }
      ]
    },
    {
      "cell_type": "code",
      "source": [],
      "metadata": {
        "id": "KtufaG12W4Mo"
      },
      "execution_count": null,
      "outputs": []
    },
    {
      "cell_type": "code",
      "source": [],
      "metadata": {
        "id": "hmMtgo7SW4BO"
      },
      "execution_count": null,
      "outputs": []
    },
    {
      "cell_type": "code",
      "source": [
        "import numpy as np\n",
        "\n",
        "array1 = np.array([4, 8, 9])\n",
        "array2 = np.array([1, 2, 3])\n",
        "\n",
        "print(\"Element-wise multiplication:\", array1 * array2)\n",
        "print(\"Element-wise addition:\", array1 + array2)\n",
        "print(\"Element-wise subtraction:\", array1 - array2)"
      ],
      "metadata": {
        "id": "A354wBMi1Z0N",
        "outputId": "9411d491-cbec-4985-b3bf-6de901ea7411",
        "colab": {
          "base_uri": "https://localhost:8080/"
        }
      },
      "execution_count": null,
      "outputs": [
        {
          "output_type": "stream",
          "name": "stdout",
          "text": [
            "Element-wise multiplication: [ 4 16 27]\n",
            "Element-wise addition: [ 5 10 12]\n",
            "Element-wise subtraction: [3 6 6]\n",
            "Element-wise division: [4. 4. 3.]\n"
          ]
        }
      ]
    },
    {
      "cell_type": "code",
      "source": [
        "import numpy as np"
      ],
      "metadata": {
        "id": "cmxtQrhZt96i"
      },
      "execution_count": null,
      "outputs": []
    },
    {
      "cell_type": "code",
      "execution_count": null,
      "metadata": {
        "id": "HKNJc7yvoJ6S",
        "colab": {
          "base_uri": "https://localhost:8080/"
        },
        "outputId": "b0940284-ce9c-4219-fdb0-5b0d86b8febd"
      },
      "outputs": [
        {
          "output_type": "stream",
          "name": "stdout",
          "text": [
            "[1. 1. 1.]\n"
          ]
        }
      ],
      "source": [
        "array4 = np.empty(3)\n",
        "print(array4)"
      ]
    },
    {
      "cell_type": "code",
      "source": [
        "array5 = np.arange(5)\n",
        "print(array5)"
      ],
      "metadata": {
        "colab": {
          "base_uri": "https://localhost:8080/"
        },
        "id": "jKiwJAgXtjRO",
        "outputId": "91cac6f8-dbc9-4c9f-cfaf-1a4a9f36563c"
      },
      "execution_count": null,
      "outputs": [
        {
          "output_type": "stream",
          "name": "stdout",
          "text": [
            "[0 1 2 3 4]\n"
          ]
        }
      ]
    },
    {
      "cell_type": "code",
      "source": [
        "array5 = np.arange(3)\n",
        "print(array5)"
      ],
      "metadata": {
        "colab": {
          "base_uri": "https://localhost:8080/"
        },
        "id": "CtED9yjZt4Md",
        "outputId": "2095f321-c9f4-4492-8c12-0df02897892e"
      },
      "execution_count": null,
      "outputs": [
        {
          "output_type": "stream",
          "name": "stdout",
          "text": [
            "[0 1 2]\n"
          ]
        }
      ]
    },
    {
      "cell_type": "code",
      "source": [
        "array_zeros = np.zeros((3, 3))\n",
        "print(array_zeros)\n",
        "\n",
        "array_ones = np.ones((2, 2))\n",
        "print(\"\\n\", array_ones)\n",
        "\n",
        "array_empty = np.empty((4, 4))\n",
        "print(\"\\n\", array_empty)\n"
      ],
      "metadata": {
        "colab": {
          "base_uri": "https://localhost:8080/"
        },
        "id": "zrMdByKyvmoR",
        "outputId": "4b8a4379-30a3-44ea-f3ca-5ed0af72d753"
      },
      "execution_count": null,
      "outputs": [
        {
          "output_type": "stream",
          "name": "stdout",
          "text": [
            "[[0. 0. 0.]\n",
            " [0. 0. 0.]\n",
            " [0. 0. 0.]]\n",
            "\n",
            " [[1. 1.]\n",
            " [1. 1.]]\n",
            "\n",
            " [[2.95592934e-316 0.00000000e+000 2.41907520e-312 2.37663529e-312]\n",
            " [2.22809558e-312 2.46151512e-312 6.79038654e-313 2.35541533e-312]\n",
            " [2.46151512e-312 6.79038654e-313 2.35541533e-312 6.79038654e-313]\n",
            " [2.14321575e-312 2.22809558e-312 2.14321575e-312 0.00000000e+000]]\n"
          ]
        }
      ]
    },
    {
      "cell_type": "code",
      "source": [
        "large_array_empty = np.empty((1000, 1000))\n",
        "large_array_empty"
      ],
      "metadata": {
        "colab": {
          "base_uri": "https://localhost:8080/"
        },
        "id": "mgce0B0Yvmt3",
        "outputId": "b98e6644-8056-4bc8-a09d-ed4a84113b53"
      },
      "execution_count": null,
      "outputs": [
        {
          "output_type": "execute_result",
          "data": {
            "text/plain": [
              "array([[0., 0., 0., ..., 0., 0., 0.],\n",
              "       [0., 0., 0., ..., 0., 0., 0.],\n",
              "       [0., 0., 0., ..., 0., 0., 0.],\n",
              "       ...,\n",
              "       [0., 0., 0., ..., 0., 0., 0.],\n",
              "       [0., 0., 0., ..., 0., 0., 0.],\n",
              "       [0., 0., 0., ..., 0., 0., 0.]])"
            ]
          },
          "metadata": {},
          "execution_count": 14
        }
      ]
    },
    {
      "cell_type": "code",
      "source": [
        "import numpy as np\n",
        "\n",
        "oned = np.arange(21)\n",
        "\n",
        "print(\"نوع البيانات:\", oned.dtype)\n",
        "print(\"عدد العناصر:\", oned.size)\n",
        "print(\"حجم الذاكرة:\", oned.nbytes)\n",
        "print(\"شكل المصفوفة:\", oned.shape)\n",
        "print(\"عدد الأبعاد:\", oned.ndim)"
      ],
      "metadata": {
        "colab": {
          "base_uri": "https://localhost:8080/"
        },
        "id": "B7zKWI0mvm1K",
        "outputId": "91d2c226-0a10-46da-b611-9a428c8e302f"
      },
      "execution_count": null,
      "outputs": [
        {
          "output_type": "stream",
          "name": "stdout",
          "text": [
            "نوع البيانات: int64\n",
            "عدد العناصر: 21\n",
            "حجم الذاكرة: 168\n",
            "شكل المصفوفة: (21,)\n",
            "عدد الأبعاد: 1\n"
          ]
        }
      ]
    },
    {
      "cell_type": "code",
      "source": [
        "matrix = np.array([[1, 2, 3, 4],\n",
        "                   [5, 6, 7, 8],\n",
        "                   [9, 10, 11, 12],\n",
        "                   [13, 14, 15, 16]])\n",
        "\n",
        "print(matrix, \"\\n\")\n",
        "print(\"شكل:\", matrix.shape)\n",
        "print(\"عدد الأبعاد:\", matrix.ndim)\n"
      ],
      "metadata": {
        "colab": {
          "base_uri": "https://localhost:8080/"
        },
        "id": "f119_bfxvm4b",
        "outputId": "108ee293-45e2-4e5a-f3de-479418bddbe4"
      },
      "execution_count": null,
      "outputs": [
        {
          "output_type": "stream",
          "name": "stdout",
          "text": [
            "[[ 1  2  3  4]\n",
            " [ 5  6  7  8]\n",
            " [ 9 10 11 12]\n",
            " [13 14 15 16]] \n",
            "\n",
            "شكل: (4, 4)\n",
            "عدد الأبعاد: 2\n"
          ]
        }
      ]
    },
    {
      "cell_type": "code",
      "source": [
        "reshaped_1d = matrix.reshape(16)\n",
        "print(reshaped_1d, \"\\n\")\n",
        "\n",
        "reshaped_2d = matrix.reshape(2, 8)\n",
        "print(reshaped_2d, \"\\n\")\n",
        "\n",
        "new_array = matrix.reshape(2, 2, 2, 2)\n",
        "print(new_array, \"\\n\")\n",
        "print(\"شكل:\", new_array.shape, \"\\n\")\n",
        "print(\"عدد الأبعاد:\", new_array.ndim, \"\\n\")\n"
      ],
      "metadata": {
        "colab": {
          "base_uri": "https://localhost:8080/"
        },
        "id": "y9Vg3FjVvnFm",
        "outputId": "0e317608-4b5b-4bca-eb1d-11a7225b8930"
      },
      "execution_count": null,
      "outputs": [
        {
          "output_type": "stream",
          "name": "stdout",
          "text": [
            "[ 1  2  3  4  5  6  7  8  9 10 11 12 13 14 15 16] \n",
            "\n",
            "[[ 1  2  3  4  5  6  7  8]\n",
            " [ 9 10 11 12 13 14 15 16]] \n",
            "\n",
            "[[[[ 1  2]\n",
            "   [ 3  4]]\n",
            "\n",
            "  [[ 5  6]\n",
            "   [ 7  8]]]\n",
            "\n",
            "\n",
            " [[[ 9 10]\n",
            "   [11 12]]\n",
            "\n",
            "  [[13 14]\n",
            "   [15 16]]]] \n",
            "\n",
            "شكل: (2, 2, 2, 2) \n",
            "\n",
            "عدد الأبعاد: 4 \n",
            "\n"
          ]
        }
      ]
    },
    {
      "cell_type": "code",
      "source": [
        "import numpy as np\n",
        "\n",
        "one = np.arange(10)\n",
        "print(\"عنصر المصفوفة 1D بالفهرس 3 (بدءًا من 0):\", one[3])\n",
        "print(\"آخر عنصر في المصفوفة 1D (أو الأول من النهاية):\", one[-1])\n",
        "print(\"تقطيع عناصر المصفوفة 1D (من 3 إلى 8 غير شامل):\", one[3:8])\n"
      ],
      "metadata": {
        "colab": {
          "base_uri": "https://localhost:8080/"
        },
        "id": "ePyvOvynvnJn",
        "outputId": "72bba325-2dc6-41f4-b359-b9b996dd11ff"
      },
      "execution_count": null,
      "outputs": [
        {
          "output_type": "stream",
          "name": "stdout",
          "text": [
            "عنصر المصفوفة 1D بالفهرس 3 (بدءًا من 0): 3\n",
            "آخر عنصر في المصفوفة 1D (أو الأول من النهاية): 9\n",
            "تقطيع عناصر المصفوفة 1D (من 3 إلى 8 غير شامل): [3 4 5 6 7]\n"
          ]
        }
      ]
    },
    {
      "cell_type": "code",
      "source": [
        "two = np.arange(21).reshape(3, 7)  # إنشاء مصفوفة 3 × 7\n",
        "print(\"الحصول على الصف الثاني:\", two[2])  # العد يبدأ من الصفر\n",
        "print(\"الحصول على العنصر في الصف 2 والعمود 4:\", two[2, 4])  # العد يبدأ من الصفر\n",
        "print(\"الحصول على الصفين 0 و 1:\", two[0:2])  # نطاقات في بايثون تشمل القيمة الابتدائية ولا تشمل النهاية\n",
        "print(\"الحصول على العمود 5 من جميع الصفوف:\", two[:, 5])\n",
        "print(\"الحصول على آخر ثلاثة أعمدة من الصفين 1 و 2:\", two[1:3, -3:])"
      ],
      "metadata": {
        "colab": {
          "base_uri": "https://localhost:8080/"
        },
        "id": "NEQJ6RGrvnPh",
        "outputId": "0339ac0b-5127-4f7a-a61a-177def958ff8"
      },
      "execution_count": null,
      "outputs": [
        {
          "output_type": "stream",
          "name": "stdout",
          "text": [
            "الحصول على الصف الثاني: [14 15 16 17 18 19 20]\n",
            "الحصول على العنصر في الصف 2 والعمود 4: 18\n",
            "الحصول على الصفين 0 و 1: [[ 0  1  2  3  4  5  6]\n",
            " [ 7  8  9 10 11 12 13]]\n",
            "الحصول على العمود 5 من جميع الصفوف: [ 5 12 19]\n",
            "الحصول على آخر ثلاثة أعمدة من الصفين 1 و 2: [[11 12 13]\n",
            " [18 19 20]]\n"
          ]
        }
      ]
    },
    {
      "cell_type": "code",
      "source": [
        "two[0, 0] = 33\n",
        "print(two)\n",
        "\n",
        "two[1:, :3] = 0\n",
        "print(two)"
      ],
      "metadata": {
        "colab": {
          "base_uri": "https://localhost:8080/"
        },
        "id": "73knv8lSvnS0",
        "outputId": "46f1d4e9-2784-4032-d023-42cc9040a6d4"
      },
      "execution_count": null,
      "outputs": [
        {
          "output_type": "stream",
          "name": "stdout",
          "text": [
            "[[33  1  2  3  4  5  6]\n",
            " [ 7  8  9 10 11 12 13]\n",
            " [14 15 16 17 18 19 20]]\n",
            "[[33  1  2  3  4  5  6]\n",
            " [ 0  0  0 10 11 12 13]\n",
            " [ 0  0  0 17 18 19 20]]\n"
          ]
        }
      ]
    },
    {
      "cell_type": "code",
      "source": [
        "list1 = [1, 2, 3]\n",
        "list2 = [4, 5, 6]\n",
        "result = [a + b for a, b in zip(list1, list2)]\n",
        "print(result)  # [5, 7, 9]"
      ],
      "metadata": {
        "id": "sb_smsMKvnW_",
        "colab": {
          "base_uri": "https://localhost:8080/"
        },
        "outputId": "c0335d6e-fb73-4ec0-b7a0-a6aa58ea7f8e"
      },
      "execution_count": null,
      "outputs": [
        {
          "output_type": "stream",
          "name": "stdout",
          "text": [
            "[5, 7, 9]\n"
          ]
        }
      ]
    },
    {
      "cell_type": "code",
      "source": [
        "import numpy as np\n",
        "\n",
        "array1 = np.array([1, 2, 3])\n",
        "array2 = np.array([4, 5, 6])\n",
        "result = array1 + array2\n",
        "print(result)  # [5 7 9]"
      ],
      "metadata": {
        "id": "leKMafkTvnqD",
        "colab": {
          "base_uri": "https://localhost:8080/"
        },
        "outputId": "20fd13b2-5f15-4c48-b8cd-a10ddff80155"
      },
      "execution_count": null,
      "outputs": [
        {
          "output_type": "stream",
          "name": "stdout",
          "text": [
            "[5 7 9]\n"
          ]
        }
      ]
    },
    {
      "cell_type": "code",
      "source": [
        "# الطرح\n",
        "result_sub = array1 - array2  # [-3 -3 -3]\n",
        "print(result_sub)\n",
        "\n",
        "# الضرب\n",
        "result_mul = array1 * array2  # [ 4 10 18]\n",
        "print(result_mul\n",
        "      )\n",
        "# القسمة\n",
        "result_div = array1 / array2  # [0.25 0.4 0.5]\n",
        "print(result_div)"
      ],
      "metadata": {
        "colab": {
          "base_uri": "https://localhost:8080/"
        },
        "id": "cKlbtC_Lnns-",
        "outputId": "7baa367d-7438-40b9-a98d-b1d263a748c5"
      },
      "execution_count": null,
      "outputs": [
        {
          "output_type": "stream",
          "name": "stdout",
          "text": [
            "[-3 -3 -3]\n",
            "[ 4 10 18]\n",
            "[0.25 0.4  0.5 ]\n"
          ]
        }
      ]
    },
    {
      "cell_type": "code",
      "source": [
        "bool_array1 = np.array([True, False, True])\n",
        "bool_array2 = np.array([False, False, True])\n",
        "result_logical = bool_array1 & bool_array2  # [False False  True]\n",
        "result_logical"
      ],
      "metadata": {
        "colab": {
          "base_uri": "https://localhost:8080/"
        },
        "id": "H7orQa_znn14",
        "outputId": "2d4535e7-398c-4d8b-f3f9-b5e7cbdd344a"
      },
      "execution_count": null,
      "outputs": [
        {
          "output_type": "execute_result",
          "data": {
            "text/plain": [
              "array([False, False,  True])"
            ]
          },
          "metadata": {},
          "execution_count": 10
        }
      ]
    },
    {
      "cell_type": "code",
      "source": [
        "import numpy as np\n",
        "\n",
        "# Create an array A with shape (4, 6)\n",
        "a = np.arange(24).reshape(4, 6)\n",
        "print(\"Array A:\\n\", a)\n",
        "\n",
        "# Create a view B from A\n",
        "b = a[:2, 3:]\n",
        "print(\"Array B:\\n\", b)\n",
        "\n",
        "# Modify an element in B\n",
        "b[1, 2] = -1\n",
        "print(\"Array B after modification:\\n\", b)\n",
        "print(\"Array A after modification:\\n\", a)"
      ],
      "metadata": {
        "colab": {
          "base_uri": "https://localhost:8080/"
        },
        "id": "eO6cxYMinn-F",
        "outputId": "fbcf6e8b-b5ac-4f4f-afbf-c5b13bb29d08"
      },
      "execution_count": null,
      "outputs": [
        {
          "output_type": "stream",
          "name": "stdout",
          "text": [
            "Array A:\n",
            " [[ 0  1  2  3  4  5]\n",
            " [ 6  7  8  9 10 11]\n",
            " [12 13 14 15 16 17]\n",
            " [18 19 20 21 22 23]]\n",
            "Array B:\n",
            " [[ 3  4  5]\n",
            " [ 9 10 11]]\n",
            "Array B after modification:\n",
            " [[ 3  4  5]\n",
            " [ 9 10 -1]]\n",
            "Array A after modification:\n",
            " [[ 0  1  2  3  4  5]\n",
            " [ 6  7  8  9 10 -1]\n",
            " [12 13 14 15 16 17]\n",
            " [18 19 20 21 22 23]]\n"
          ]
        }
      ]
    },
    {
      "cell_type": "code",
      "source": [
        "# Create a copy of B\n",
        "b = a[:2, 3:].copy()  # Make a copy\n",
        "print(\"Array B (copy):\\n\", b)\n",
        "\n",
        "# Modify an element in the copy\n",
        "b[1, 2] = -1\n",
        "print(\"Array B after modification (copy):\\n\", b)\n",
        "print(\"Array A after modification (copy):\\n\", a)"
      ],
      "metadata": {
        "colab": {
          "base_uri": "https://localhost:8080/"
        },
        "id": "eh4Q0QQUnoFs",
        "outputId": "82df89cb-7c49-4d98-805a-699f5c4c9b03"
      },
      "execution_count": null,
      "outputs": [
        {
          "output_type": "stream",
          "name": "stdout",
          "text": [
            "Array B (copy):\n",
            " [[ 3  4  5]\n",
            " [ 9 10 -1]]\n",
            "Array B after modification (copy):\n",
            " [[ 3  4  5]\n",
            " [ 9 10 -1]]\n",
            "Array A after modification (copy):\n",
            " [[ 0  1  2  3  4  5]\n",
            " [ 6  7  8  9 10 -1]\n",
            " [12 13 14 15 16 17]\n",
            " [18 19 20 21 22 23]]\n"
          ]
        }
      ]
    },
    {
      "cell_type": "code",
      "source": [],
      "metadata": {
        "id": "iB9CQYfXmLLt"
      },
      "execution_count": null,
      "outputs": []
    },
    {
      "cell_type": "code",
      "source": [],
      "metadata": {
        "id": "jTFsjP-LmLRp"
      },
      "execution_count": null,
      "outputs": []
    },
    {
      "cell_type": "code",
      "source": [],
      "metadata": {
        "id": "p4w5yAYmnoOi"
      },
      "execution_count": null,
      "outputs": []
    },
    {
      "cell_type": "code",
      "source": [],
      "metadata": {
        "id": "tcCU_OeInovE"
      },
      "execution_count": null,
      "outputs": []
    },
    {
      "cell_type": "code",
      "source": [],
      "metadata": {
        "id": "Fj-vH2n-no7j"
      },
      "execution_count": null,
      "outputs": []
    }
  ]
}