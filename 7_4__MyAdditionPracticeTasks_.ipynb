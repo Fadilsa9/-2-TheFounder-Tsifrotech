{
  "nbformat": 4,
  "nbformat_minor": 0,
  "metadata": {
    "colab": {
      "provenance": [],
      "authorship_tag": "ABX9TyN3HLzbjYYWidVAGXI1RhyV"
    },
    "kernelspec": {
      "name": "python3",
      "display_name": "Python 3"
    },
    "language_info": {
      "name": "python"
    }
  },
  "cells": [
    {
      "cell_type": "code",
      "source": [
        "import numpy as np"
      ],
      "metadata": {
        "id": "cmxtQrhZt96i"
      },
      "execution_count": 6,
      "outputs": []
    },
    {
      "cell_type": "code",
      "execution_count": 8,
      "metadata": {
        "id": "HKNJc7yvoJ6S",
        "colab": {
          "base_uri": "https://localhost:8080/"
        },
        "outputId": "b0940284-ce9c-4219-fdb0-5b0d86b8febd"
      },
      "outputs": [
        {
          "output_type": "stream",
          "name": "stdout",
          "text": [
            "[1. 1. 1.]\n"
          ]
        }
      ],
      "source": [
        "array4 = np.empty(3)\n",
        "print(array4)"
      ]
    },
    {
      "cell_type": "code",
      "source": [
        "array5 = np.arange(5)\n",
        "print(array5)"
      ],
      "metadata": {
        "colab": {
          "base_uri": "https://localhost:8080/"
        },
        "id": "jKiwJAgXtjRO",
        "outputId": "91cac6f8-dbc9-4c9f-cfaf-1a4a9f36563c"
      },
      "execution_count": 9,
      "outputs": [
        {
          "output_type": "stream",
          "name": "stdout",
          "text": [
            "[0 1 2 3 4]\n"
          ]
        }
      ]
    },
    {
      "cell_type": "code",
      "source": [
        "# مصفوفة من نطاق الأعداد\n",
        "array5 = np.arange(3)\n",
        "print(array5)\n",
        "# الناتج: array([0, 1, 2])\n"
      ],
      "metadata": {
        "colab": {
          "base_uri": "https://localhost:8080/"
        },
        "id": "CtED9yjZt4Md",
        "outputId": "d956756e-fd25-4fb0-9e7d-7fc8eb746f1d"
      },
      "execution_count": 7,
      "outputs": [
        {
          "output_type": "stream",
          "name": "stdout",
          "text": [
            "[0 1 2]\n"
          ]
        }
      ]
    },
    {
      "cell_type": "code",
      "source": [
        "# مصفوفة من الأصفار بعدد 3\n",
        "array_zeros = np.zeros((3, 3))  # مصفوفة 3x3 من الأصفار\n",
        "print(array_zeros)\n",
        "\n",
        "# مصفوفة من الواحدات بعدد 3\n",
        "array_ones = np.ones((2, 2))  # مصفوفة 2x2 من الواحدات\n",
        "print(\"\\n\", array_ones)\n",
        "\n",
        "# مصفوفة غير مهيأة\n",
        "array_empty = np.empty((4, 4))  # مصفوفة 4x4 غير مهيأة\n",
        "print(\"\\n\", array_empty)\n"
      ],
      "metadata": {
        "colab": {
          "base_uri": "https://localhost:8080/"
        },
        "id": "zrMdByKyvmoR",
        "outputId": "4b8a4379-30a3-44ea-f3ca-5ed0af72d753"
      },
      "execution_count": 13,
      "outputs": [
        {
          "output_type": "stream",
          "name": "stdout",
          "text": [
            "[[0. 0. 0.]\n",
            " [0. 0. 0.]\n",
            " [0. 0. 0.]]\n",
            "\n",
            " [[1. 1.]\n",
            " [1. 1.]]\n",
            "\n",
            " [[2.95592934e-316 0.00000000e+000 2.41907520e-312 2.37663529e-312]\n",
            " [2.22809558e-312 2.46151512e-312 6.79038654e-313 2.35541533e-312]\n",
            " [2.46151512e-312 6.79038654e-313 2.35541533e-312 6.79038654e-313]\n",
            " [2.14321575e-312 2.22809558e-312 2.14321575e-312 0.00000000e+000]]\n"
          ]
        }
      ]
    },
    {
      "cell_type": "code",
      "source": [
        "# إنشاء مصفوفة حجمها 1000x1000\n",
        "large_array_empty = np.empty((1000, 1000))  # مصفوفة كبيرة غير مهيأة\n",
        "large_array_empty"
      ],
      "metadata": {
        "colab": {
          "base_uri": "https://localhost:8080/"
        },
        "id": "mgce0B0Yvmt3",
        "outputId": "b98e6644-8056-4bc8-a09d-ed4a84113b53"
      },
      "execution_count": 14,
      "outputs": [
        {
          "output_type": "execute_result",
          "data": {
            "text/plain": [
              "array([[0., 0., 0., ..., 0., 0., 0.],\n",
              "       [0., 0., 0., ..., 0., 0., 0.],\n",
              "       [0., 0., 0., ..., 0., 0., 0.],\n",
              "       ...,\n",
              "       [0., 0., 0., ..., 0., 0., 0.],\n",
              "       [0., 0., 0., ..., 0., 0., 0.],\n",
              "       [0., 0., 0., ..., 0., 0., 0.]])"
            ]
          },
          "metadata": {},
          "execution_count": 14
        }
      ]
    },
    {
      "cell_type": "code",
      "source": [
        "import numpy as np\n",
        "\n",
        "oned = np.arange(21)\n",
        "\n",
        "print(\"نوع البيانات:\", oned.dtype)  # نوع البيانات\n",
        "print(\"عدد العناصر:\", oned.size)    # عدد العناصر\n",
        "print(\"حجم الذاكرة:\", oned.nbytes)   # حجم الذاكرة (بالبايت) المستخدم من قبل عناصر المصفوفة\n",
        "print(\"شكل المصفوفة:\", oned.shape)   # عدد العناصر في كل بُعد\n",
        "print(\"عدد الأبعاد:\", oned.ndim)      # عدد الأبعاد"
      ],
      "metadata": {
        "colab": {
          "base_uri": "https://localhost:8080/"
        },
        "id": "B7zKWI0mvm1K",
        "outputId": "91d2c226-0a10-46da-b611-9a428c8e302f"
      },
      "execution_count": 15,
      "outputs": [
        {
          "output_type": "stream",
          "name": "stdout",
          "text": [
            "نوع البيانات: int64\n",
            "عدد العناصر: 21\n",
            "حجم الذاكرة: 168\n",
            "شكل المصفوفة: (21,)\n",
            "عدد الأبعاد: 1\n"
          ]
        }
      ]
    },
    {
      "cell_type": "code",
      "source": [
        "matrix = np.array([[1, 2, 3, 4],\n",
        "                   [5, 6, 7, 8],\n",
        "                   [9, 10, 11, 12],\n",
        "                   [13, 14, 15, 16]])\n",
        "\n",
        "print(matrix, \"\\n\")\n",
        "print(\"شكل:\", matrix.shape)        # الشكل: (4, 4)\n",
        "print(\"عدد الأبعاد:\", matrix.ndim)  # عدد الأبعاد: 2\n"
      ],
      "metadata": {
        "colab": {
          "base_uri": "https://localhost:8080/"
        },
        "id": "f119_bfxvm4b",
        "outputId": "108ee293-45e2-4e5a-f3de-479418bddbe4"
      },
      "execution_count": 19,
      "outputs": [
        {
          "output_type": "stream",
          "name": "stdout",
          "text": [
            "[[ 1  2  3  4]\n",
            " [ 5  6  7  8]\n",
            " [ 9 10 11 12]\n",
            " [13 14 15 16]] \n",
            "\n",
            "شكل: (4, 4)\n",
            "عدد الأبعاد: 2\n"
          ]
        }
      ]
    },
    {
      "cell_type": "code",
      "source": [
        "# إعادة تشكيل المصفوفة إلى مصفوفة أحادية البعد\n",
        "reshaped_1d = matrix.reshape(16)\n",
        "print(reshaped_1d, \"\\n\")\n",
        "\n",
        "# إعادة تشكيل المصفوفة إلى مصفوفة ثنائية الأبعاد (2 × 8)\n",
        "reshaped_2d = matrix.reshape(2, 8)\n",
        "print(reshaped_2d, \"\\n\")\n",
        "\n",
        "# إعادة تشكيل المصفوفة إلى مصفوفة بأبعاد متعددة (2 × 2 × 2 × 2)\n",
        "new_array = matrix.reshape(2, 2, 2, 2)\n",
        "print(new_array, \"\\n\")\n",
        "print(\"شكل:\", new_array.shape, \"\\n\")      # الشكل: (2, 2, 2, 2)\n",
        "print(\"عدد الأبعاد:\", new_array.ndim, \"\\n\")  # عدد الأبعاد: 4\n"
      ],
      "metadata": {
        "colab": {
          "base_uri": "https://localhost:8080/"
        },
        "id": "y9Vg3FjVvnFm",
        "outputId": "0e317608-4b5b-4bca-eb1d-11a7225b8930"
      },
      "execution_count": 22,
      "outputs": [
        {
          "output_type": "stream",
          "name": "stdout",
          "text": [
            "[ 1  2  3  4  5  6  7  8  9 10 11 12 13 14 15 16] \n",
            "\n",
            "[[ 1  2  3  4  5  6  7  8]\n",
            " [ 9 10 11 12 13 14 15 16]] \n",
            "\n",
            "[[[[ 1  2]\n",
            "   [ 3  4]]\n",
            "\n",
            "  [[ 5  6]\n",
            "   [ 7  8]]]\n",
            "\n",
            "\n",
            " [[[ 9 10]\n",
            "   [11 12]]\n",
            "\n",
            "  [[13 14]\n",
            "   [15 16]]]] \n",
            "\n",
            "شكل: (2, 2, 2, 2) \n",
            "\n",
            "عدد الأبعاد: 4 \n",
            "\n"
          ]
        }
      ]
    },
    {
      "cell_type": "code",
      "source": [
        "import numpy as np\n",
        "\n",
        "one = np.arange(10)\n",
        "print(\"عنصر المصفوفة 1D بالفهرس 3 (بدءًا من 0):\", one[3])\n",
        "print(\"آخر عنصر في المصفوفة 1D (أو الأول من النهاية):\", one[-1])\n",
        "print(\"تقطيع عناصر المصفوفة 1D (من 3 إلى 8 غير شامل):\", one[3:8])\n"
      ],
      "metadata": {
        "colab": {
          "base_uri": "https://localhost:8080/"
        },
        "id": "ePyvOvynvnJn",
        "outputId": "72bba325-2dc6-41f4-b359-b9b996dd11ff"
      },
      "execution_count": 23,
      "outputs": [
        {
          "output_type": "stream",
          "name": "stdout",
          "text": [
            "عنصر المصفوفة 1D بالفهرس 3 (بدءًا من 0): 3\n",
            "آخر عنصر في المصفوفة 1D (أو الأول من النهاية): 9\n",
            "تقطيع عناصر المصفوفة 1D (من 3 إلى 8 غير شامل): [3 4 5 6 7]\n"
          ]
        }
      ]
    },
    {
      "cell_type": "code",
      "source": [
        "two = np.arange(21).reshape(3, 7)  # إنشاء مصفوفة 3 × 7\n",
        "print(\"الحصول على الصف الثاني:\", two[2])  # العد يبدأ من الصفر\n",
        "print(\"الحصول على العنصر في الصف 2 والعمود 4:\", two[2, 4])  # العد يبدأ من الصفر\n",
        "print(\"الحصول على الصفين 0 و 1:\", two[0:2])  # نطاقات في بايثون تشمل القيمة الابتدائية ولا تشمل النهاية\n",
        "print(\"الحصول على العمود 5 من جميع الصفوف:\", two[:, 5])\n",
        "print(\"الحصول على آخر ثلاثة أعمدة من الصفين 1 و 2:\", two[1:3, -3:])"
      ],
      "metadata": {
        "colab": {
          "base_uri": "https://localhost:8080/"
        },
        "id": "NEQJ6RGrvnPh",
        "outputId": "0339ac0b-5127-4f7a-a61a-177def958ff8"
      },
      "execution_count": 24,
      "outputs": [
        {
          "output_type": "stream",
          "name": "stdout",
          "text": [
            "الحصول على الصف الثاني: [14 15 16 17 18 19 20]\n",
            "الحصول على العنصر في الصف 2 والعمود 4: 18\n",
            "الحصول على الصفين 0 و 1: [[ 0  1  2  3  4  5  6]\n",
            " [ 7  8  9 10 11 12 13]]\n",
            "الحصول على العمود 5 من جميع الصفوف: [ 5 12 19]\n",
            "الحصول على آخر ثلاثة أعمدة من الصفين 1 و 2: [[11 12 13]\n",
            " [18 19 20]]\n"
          ]
        }
      ]
    },
    {
      "cell_type": "code",
      "source": [
        "# تحديث قيمة المصفوفة في الصف 0 والعمود 0\n",
        "two[0, 0] = 33\n",
        "print(two)\n",
        "\n",
        "# ملء الأعمدة الثلاثة الأولى بالأصفار، بدءًا من الصف 1\n",
        "two[1:, :3] = 0\n",
        "print(two)"
      ],
      "metadata": {
        "colab": {
          "base_uri": "https://localhost:8080/"
        },
        "id": "73knv8lSvnS0",
        "outputId": "46f1d4e9-2784-4032-d023-42cc9040a6d4"
      },
      "execution_count": 25,
      "outputs": [
        {
          "output_type": "stream",
          "name": "stdout",
          "text": [
            "[[33  1  2  3  4  5  6]\n",
            " [ 7  8  9 10 11 12 13]\n",
            " [14 15 16 17 18 19 20]]\n",
            "[[33  1  2  3  4  5  6]\n",
            " [ 0  0  0 10 11 12 13]\n",
            " [ 0  0  0 17 18 19 20]]\n"
          ]
        }
      ]
    },
    {
      "cell_type": "code",
      "source": [],
      "metadata": {
        "id": "sb_smsMKvnW_"
      },
      "execution_count": null,
      "outputs": []
    },
    {
      "cell_type": "code",
      "source": [],
      "metadata": {
        "id": "leKMafkTvnqD"
      },
      "execution_count": null,
      "outputs": []
    }
  ]
}