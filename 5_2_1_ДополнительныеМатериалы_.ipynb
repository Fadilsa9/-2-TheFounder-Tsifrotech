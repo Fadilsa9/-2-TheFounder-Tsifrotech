{
  "nbformat": 4,
  "nbformat_minor": 0,
  "metadata": {
    "colab": {
      "provenance": [],
      "authorship_tag": "ABX9TyMlzVO2oq8zZ5s/vVrUppE/"
    },
    "kernelspec": {
      "name": "python3",
      "display_name": "Python 3"
    },
    "language_info": {
      "name": "python"
    }
  },
  "cells": [
    {
      "cell_type": "code",
      "execution_count": null,
      "metadata": {
        "id": "oh7DJSvO2ShB"
      },
      "outputs": [],
      "source": []
    },
    {
      "cell_type": "markdown",
      "source": [
        "\n",
        "\n",
        "---\n",
        "\n",
        "\n",
        "**Дополнительные материалы к 5 уроку**\n",
        "\n",
        "\n",
        "---\n",
        "\n",
        "\n",
        "Материалы, которые помогут вам выполнить домашнюю работу\n",
        "\n",
        "Базовые понятия ИИ и его применение\n",
        "\n",
        "https://www.iso.org/ru/artificial-intelligence\n",
        "\n",
        "https://developers.sber.ru/help/ml/use-ai\n",
        "\n",
        "https://digital.gov.ru/uploaded/files/primeryi-primeneniya-tehnologij-iskusstvennogo-intellekta.pdf\n",
        "\n",
        "https://neerc.ifmo.ru/wiki/index.php?title=%D0%9E%D0%B1%D1%89%D0%B8%D0%B5_%D0%BF%D0%BE%D0%BD%D1%8F%D1%82%D0%B8%D1%8F#.D0.9F.D0.BE.D0.BD.D1.8F.D1.82.D0.B8.D0.B5_.D0.BC.D0.B0.D1.88.D0.B8.D0.BD.D0.BD.D0.BE.D0.B3.D0.BE_.D0.BE.D0.B1.D1.83.D1.87.D0.B5.D0.BD.D0.B8.D1.8F_.D0.B2_.D0.B8.D1.81.D0.BA.D1.83.D1.81.D1.81.D1.82.D0.B2.D0.B5.D0.BD.D0.BD.D0.BE.D0.BC_.D0.B8.D0.BD.D1.82.D0.B5.D0.BB.D0.BB.D0.B5.D0.BA.D1.82.D0.B5\n",
        "\n",
        "https://web.cs.hacettepe.edu.tr/~ilyas/Courses/VBM688/lec01_introductionToAI.pdf\n",
        "\n",
        "https://aws.amazon.com/ru/what-is/artificial-intelligence/ (открывать через защищенное соединение)\n",
        "\n",
        "Математическая модель нейрона\n",
        "\n",
        "https://link.springer.com/chapter/10.1007/978-3-030-89010-0_10\n",
        "\n",
        "https://basegroup.ru/community/articles/math\n",
        "\n",
        "https://python.plainenglish.io/neural-networks-a-mathematical-approach-part-1-3-22196e6d66c2\n",
        "\n",
        "http://www.machinelearning.ru/wiki/index.php?title=%D0%9C%D0%BE%D0%B4%D0%B5%D0%BB%D1%8C_%D0%9C%D0%B0%D0%BA%D0%9A%D0%B0%D0%BB%D0%BB%D0%BE%D0%BA%D0%B0-%D0%9F%D0%B8%D1%82%D1%82%D1%81%D0%B0\n",
        "\n",
        "https://studfile.net/preview/9796747/page:8/\n",
        "\n",
        "https://neerc.ifmo.ru/wiki/index.php?title=%D0%9D%D0%B5%D0%B9%D1%80%D0%BE%D0%BD%D0%BD%D1%8B%D0%B5_%D1%81%D0%B5%D1%82%D0%B8,_%D0%BF%D0%B5%D1%80%D1%86%D0%B5%D0%BF%D1%82%D1%80%D0%BE%D0%BD\n",
        "\n",
        "https://wiki.eecs.yorku.ca/course_archive/2011-12/F/4403/_media/ann_-_math_model.pdf\n",
        "\n",
        "https://en.wikipedia.org/wiki/Artificial_neuron\n",
        "\n",
        "http://celebisoftware.com/Tutorials/neural_networks/ch7_1.htm\n",
        "\n",
        "https://www.geeksforgeeks.org/implementing-models-of-artificial-neural-network/\n",
        "\n",
        "https://www.geeksforgeeks.org/neural-networks-a-beginners-guide/\n",
        "\n",
        "Функции активации\n",
        "\n",
        "https://www.doc.ic.ac.uk/~bkainz/teaching/DL/notes/activations.pdf\n",
        "\n",
        "https://github.com/siebenrock/activation-functions/blob/master/activation_functions.ipynb\n",
        "\n",
        "https://tariqueakhtar-39220.medium.com/python-implementation-of-activation-function-for-neural-network-cb38fe735c9e (открывать с vpn)\n",
        "\n",
        "https://www.nbshare.io/notebook/751082217/Activation-Functions-In-Python/\n",
        "\n",
        "https://arxiv.org/pdf/1811.03378\n",
        "\n",
        "https://neurohive.io/ru/osnovy-data-science/activation-functions/\n",
        "\n",
        "https://education.yandex.ru/handbook/ml/article/pervoe-znakomstvo-s-polnosvyaznymi-nejrosetyami\n",
        "\n",
        "https://neerc.ifmo.ru/wiki/index.php?title=%D0%9F%D1%80%D0%B0%D0%BA%D1%82%D0%B8%D0%BA%D0%B8_%D1%80%D0%B5%D0%B0%D0%BB%D0%B8%D0%B7%D0%B0%D1%86%D0%B8%D0%B8_%D0%BD%D0%B5%D0%B9%D1%80%D0%BE%D0%BD%D0%BD%D1%8B%D1%85_%D1%81%D0%B5%D1%82%D0%B5%D0%B9#.D0.A4.D1.83.D0.BD.D0.BA.D1.86.D0.B8.D0.B8_.D0.B0.D0.BA.D1.82.D0.B8.D0.B2.D0.B0.D1.86.D0.B8.D0.B8\n",
        "\n",
        "https://libeldoc.bsuir.by/bitstream/123456789/52657/1/Demeschenko_Funkcii.pdf\n",
        "\n",
        "http://sqi.cs.msu.ru/files/nnusage/2021_2022/lecture02.pdf\n",
        "\n",
        "https://www.geeksforgeeks.org/activation-functions-neural-networks/\n",
        "\n"
      ],
      "metadata": {
        "id": "nzyFi-7-2vVH"
      }
    },
    {
      "cell_type": "markdown",
      "source": [
        "### Поможет в выполнении домашнего задания\n",
        "\n"
      ],
      "metadata": {
        "id": "i3gyGZD9Q0JZ"
      }
    },
    {
      "cell_type": "markdown",
      "source": [
        "https://neurohive.io/ru/tutorial/prostaja-nejronnaja-set-python/\n",
        "\n"
      ],
      "metadata": {
        "id": "tQD_ZTPURAh7"
      }
    },
    {
      "cell_type": "code",
      "source": [
        "# https://monica.im/home/chat/Monica/monica?convId=conv%3Addbf0950-47fe-4042-bda5-59ec0d6264a9\n",
        "\n",
        "from numpy import exp, array, random, dot\n",
        "training_set_inputs = array([[0, 0, 1], [1, 1, 1], [1, 0, 1], [0, 1, 1]])\n",
        "training_set_outputs = array([[0, 1, 1, 0]]).T                                  # https://monica.im/home/chat/Monica/monica?convId=conv%3A6676ed28-facd-4f4d-9ed6-ceb026f0b3b9\n",
        "\n",
        "random.seed(1) # Установка начального значение генератор случайных чисел        # https://monica.im/home/chat/Monica/monica?convId=conv%3A37ea24eb-5465-421d-9501-4c0bef82d006\n",
        "synaptic_weights = 2 * random.random((3, 1)) - 1                                # https://monica.im/home/chat/Monica/monica?convId=conv%3Afc9cc876-d8e7-4b20-9d68-4ee3cc113aa5\n",
        "\n",
        "# Основной цикл обучения\n",
        "for iteration in range(10000):                                                  # range(1000) выполняет цикл 10000 раз\n",
        "\n",
        "    output = 1 / (1 + exp(-(dot(training_set_inputs, synaptic_weights))))       # Функция активации (тут используем Сигмоида, чтобы резултат был в виде процента)\n",
        "\n",
        "    # Обновление весов - تحديث الأوزان (weights) الخاصة بالوصلات بين الخلايا العصبية بناءً على الفرق بين المخرجات المتوقعة والمخرجات الفعلية. يتم ذلك باستخدام خوارزمية تُعرف باسم الانتشار العكسي (Backpropagation)\n",
        "    synaptic_weights += dot(training_set_inputs.T, (training_set_outputs - output) * output * (1 - output))\n",
        "\n",
        "print(1 / (1 + exp(-(dot(array([1, 0, 0]), synaptic_weights)))))"
      ],
      "metadata": {
        "colab": {
          "base_uri": "https://localhost:8080/"
        },
        "id": "WWcEpSd-0F3k",
        "outputId": "1ae5ee47-0bcd-4692-e0f5-83e96b8ef6f5"
      },
      "execution_count": null,
      "outputs": [
        {
          "output_type": "stream",
          "name": "stdout",
          "text": [
            "[0.99993704]\n"
          ]
        }
      ]
    },
    {
      "cell_type": "code",
      "source": [
        "import numpy as np\n",
        "\n",
        "# Входные данные для обучения\n",
        "training_set_inputs = np.array([[0, 0, 1], [1, 1, 1], [1, 0, 1], [0, 1, 1]])\n",
        "training_set_outputs = np.array([[0], [1], [1], [0]])\n",
        "\n",
        "# Установка начального значения генератора случайных чисел\n",
        "np.random.seed(1)\n",
        "\n",
        "# Инициализация весов\n",
        "synaptic_weights = 2 * np.random.random((3, 1)) - 1\n",
        "\n",
        "# Обучение нейронной сети\n",
        "for iteration in range(10000):\n",
        "    # Прямое распространение\n",
        "    output = 1 / (1 + np.exp(-(np.dot(training_set_inputs, synaptic_weights))))\n",
        "\n",
        "    # Обновление весов\n",
        "    synaptic_weights += np.dot(training_set_inputs.T, (training_set_outputs - output) * output * (1 - output))\n",
        "\n",
        "# Прогноз для нового входа\n",
        "print(1 / (1 + np.exp(-(np.dot(np.array([1, 0, 0]), synaptic_weights)))))"
      ],
      "metadata": {
        "colab": {
          "base_uri": "https://localhost:8080/"
        },
        "id": "t4_JmsJ_ShsP",
        "outputId": "0a698528-e649-4969-f9f1-f3b4084c2dac"
      },
      "execution_count": null,
      "outputs": [
        {
          "output_type": "stream",
          "name": "stdout",
          "text": [
            "[0.99993704]\n"
          ]
        }
      ]
    },
    {
      "cell_type": "markdown",
      "source": [
        "https://www.geeksforgeeks.org/single-neuron-neural-network-python/"
      ],
      "metadata": {
        "id": "jjniaBKcQ9wf"
      }
    },
    {
      "cell_type": "markdown",
      "source": [
        "На этом теоретическая часть урока завершена. Пора переходить к [домашней работе](https://colab.research.google.com/drive/19VE4qs0K7XjAfkcVbwmLpGR5yKKhXyYV)."
      ],
      "metadata": {
        "id": "z9Mf8Z8ri27S"
      }
    }
  ]
}