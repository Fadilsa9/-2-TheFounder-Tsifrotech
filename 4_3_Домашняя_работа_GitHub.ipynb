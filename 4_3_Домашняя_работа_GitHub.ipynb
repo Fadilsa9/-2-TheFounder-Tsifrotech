{
  "nbformat": 4,
  "nbformat_minor": 0,
  "metadata": {
    "colab": {
      "provenance": []
    },
    "kernelspec": {
      "name": "python3",
      "display_name": "Python 3"
    },
    "language_info": {
      "name": "python"
    }
  },
  "cells": [
    {
      "cell_type": "markdown",
      "source": [
        "**Навигация по уроку**\n",
        "\n",
        "1. Функции. Классы и объекты. Програмные модули\n",
        "2. Практика кода\n",
        "3. Домашняя работа"
      ],
      "metadata": {
        "id": "8LIWrmOPjBO6"
      }
    },
    {
      "cell_type": "markdown",
      "source": [
        "Для прохождения урока необходимо решить минимум 2 задачи. Желаем удачи!"
      ],
      "metadata": {
        "id": "XpMXr5-w9Csf"
      }
    },
    {
      "cell_type": "markdown",
      "source": [
        "## Задача 1. Случайный номерной знак"
      ],
      "metadata": {
        "id": "Bh5tu_5BH-rG"
      }
    },
    {
      "cell_type": "markdown",
      "source": [
        "**Условие.** Представьте, что в вашем регионе устаревшим является формат номерных автомобильных знаков из трех букв, следом за которыми идут три цифры(Например ABC123). Когда все номера такого шаблона закончились, было решено обновить формат, поставив в начало четыре цифры, а за ними три буквы(Например 1234ABC).\n",
        "Напишите функцию, которая будет генерировать случайный номерной знак. При этом номера в старом и новом форматах должны создаваться примерно с одинаковой вероятностью. В основной программе нужно сгенерировать и вывести на экран случайный номерной знак."
      ],
      "metadata": {
        "id": "pLn92q_iLp_k"
      }
    },
    {
      "cell_type": "code",
      "execution_count": null,
      "metadata": {
        "colab": {
          "base_uri": "https://localhost:8080/"
        },
        "id": "outCKtzxbuuK",
        "outputId": "e6a8d1e9-1cb5-4b64-c2c8-e6346d87f1ff"
      },
      "outputs": [
        {
          "output_type": "stream",
          "name": "stdout",
          "text": [
            "Случайный номерной знак: 2251BUC\n"
          ]
        }
      ],
      "source": [
        "### Задача 1. Случайный номерной знак\n",
        "\n",
        "\n",
        "import random\n",
        "\n",
        "def generate_license_plate():\n",
        "    if random.randint(0, 1) == 0:  # с равной вероятностью выбираем старый или новый формат\n",
        "        # старый формат ==> три буквы и три цифры (ABC123)\n",
        "        letters = ''.join(chr(random.randint(65, 90)) for _ in range(3))  #Генерируем три буквы (A-Z)\n",
        "        numbers = ''.join(str(random.randint(0, 9)) for _ in range(3))  #Генерируем три цифры (0-9)\n",
        "        return f\"{letters}{numbers}\"\n",
        "    else:\n",
        "        # новый формат ==> четыре цифры и три буквы (1234ABC)\n",
        "        numbers = ''.join(str(random.randint(0, 9)) for _ in range(4))  #Генерируем четыре цифры (0-9)\n",
        "        letters = ''.join(chr(random.randint(65, 90)) for _ in range(3))  #Генерируем три буквы (A-Z)\n",
        "        return f\"{numbers}{letters}\"\n",
        "\n",
        "print('Случайный номерной знак:', generate_license_plate())"
      ]
    },
    {
      "cell_type": "markdown",
      "source": [
        "## Задача 2. Шестнадцатеричные и десятичные числа"
      ],
      "metadata": {
        "id": "I4wpSF3IMHdX"
      }
    },
    {
      "cell_type": "markdown",
      "source": [
        "**Условие.** Напишите две функции с  именами hex2int и  int2hex для конвертации\n",
        "значений из шестнадцатеричной системы счисления (0, 1, 2, 3, 4, 5, 6, 7, 8, 9, A, B, C, D, E и F) в десятичную (по основанию 10) и обратно. Функция hex2int должна принимать на вход строку с единственным символом в  шестнадцатеричной системе и  преобразовывать его в  число от нуля до 15 в десятичной системе, тогда как функция int2hex будет выполнять обратное действие – принимать десятичное число из диапазона от 0 до 15 и возвращать шестнадцатеричный эквивалент. Обе функции должны принимать единственный параметр со входным значением и возвращать преобразованное число. Удостоверьтесь, что функция hex2int корректно обрабатывает буквы в верхнем и нижнем регистрах. Если введенное пользователем значение выходит за допустимые границы, вы должны вывести сообщение об ошибке."
      ],
      "metadata": {
        "id": "mYg_KnVwMStB"
      }
    },
    {
      "cell_type": "code",
      "source": [
        "### Задача 2. Шестнадцатеричные и десятичные числа\n",
        "\n",
        "\n",
        "def hex2int(hex_char):\n",
        "    hex_map = {\n",
        "        '0': 0, '1': 1, '2': 2, '3': 3, '4': 4, '5': 5, '6': 6, '7': 7,\n",
        "        '8': 8, '9': 9, 'A': 10, 'B': 11, 'C': 12, 'D': 13, 'E': 14, 'F': 15\n",
        "    }\n",
        "    hex_char = hex_char.upper()\n",
        "    if hex_char not in hex_map:\n",
        "        return \"Ошибкaaа: введите символ в диапазоне 0-9 или A-F.\"\n",
        "    return hex_map[hex_char]\n",
        "\n",
        "def int2hex(decimal_num):\n",
        "    hex_map = {\n",
        "        0: '0', 1: '1', 2: '2', 3: '3', 4: '4', 5: '5', 6: '6', 7: '7',\n",
        "        8: '8', 9: '9', 10: 'A', 11: 'B', 12: 'C', 13: 'D', 14: 'E', 15: 'F'\n",
        "    }\n",
        "    if decimal_num not in hex_map:\n",
        "        return \"Ошибкaaа: введите число в диапазоне от 0 до 15.\"\n",
        "    return hex_map[decimal_num]\n",
        "\n",
        "print(hex2int(\"f\"))\n",
        "print(int2hex(15))"
      ],
      "metadata": {
        "colab": {
          "base_uri": "https://localhost:8080/"
        },
        "id": "Pv3niVbvh8ox",
        "outputId": "1f1fab53-5760-4ad8-88b1-c795574be107"
      },
      "execution_count": null,
      "outputs": [
        {
          "output_type": "stream",
          "name": "stdout",
          "text": [
            "15\n",
            "F\n"
          ]
        }
      ]
    },
    {
      "cell_type": "markdown",
      "source": [
        "## Задача 3. Беспилотный автомобиль"
      ],
      "metadata": {
        "id": "RIOKyPjlMZA_"
      }
    },
    {
      "cell_type": "markdown",
      "source": [
        "**Условие.** Это творческая задача. Представьте, что вы проектируете беспилотный автомобиль. Вам необходимо продумать, какими свойствами он обладает и какие действия совершает. Создайте класс беспилотный автомобиль и сохраните его в виде программного модуля. Импортируете класс и инициализируйте новый объект.  "
      ],
      "metadata": {
        "id": "OlVQTKYrMZBA"
      }
    },
    {
      "cell_type": "code",
      "source": [
        "### Беспилотный автомобиль\n",
        "\n",
        "# Создание файла autopilot_car.py\n",
        "with open('autopilot_car.py', 'w') as f:\n",
        "    f.write(\"\"\"\n",
        "class AutopilotCar:\n",
        "    def __init__(self, model, color):\n",
        "        self.model = model\n",
        "        self.color = color\n",
        "        self.speed = 0\n",
        "\n",
        "    def accelerate(self, amount):\n",
        "        self.speed += amount\n",
        "        print(f\"{self.model} ускоряется до {self.speed} км/ч\")\n",
        "\n",
        "    def brake(self):\n",
        "        self.speed = 0\n",
        "        print(f\"{self.model} остановился\")\n",
        "\"\"\")\n",
        "\n",
        "# Импорт и инициализация\n",
        "from autopilot_car import AutopilotCar\n",
        "\n",
        "my_car = AutopilotCar(\"Tesla Model S\", \"красный\")\n",
        "my_car.accelerate(50)\n",
        "my_car.brake()\n"
      ],
      "metadata": {
        "colab": {
          "base_uri": "https://localhost:8080/"
        },
        "id": "17JwwTggxdVG",
        "outputId": "bc661cff-393b-4053-ea83-64e04189dc79"
      },
      "execution_count": 3,
      "outputs": [
        {
          "output_type": "stream",
          "name": "stdout",
          "text": [
            "Tesla Model S ускоряется до 50 км/ч\n",
            "Tesla Model S остановился\n"
          ]
        }
      ]
    }
  ]
}