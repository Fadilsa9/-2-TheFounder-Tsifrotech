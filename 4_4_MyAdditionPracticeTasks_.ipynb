{
  "nbformat": 4,
  "nbformat_minor": 0,
  "metadata": {
    "colab": {
      "provenance": [],
      "authorship_tag": "ABX9TyMI3XjL5ZxHFknM5xEbsfSq"
    },
    "kernelspec": {
      "name": "python3",
      "display_name": "Python 3"
    },
    "language_info": {
      "name": "python"
    }
  },
  "cells": [
    {
      "cell_type": "markdown",
      "source": [
        "FUNCTIONS"
      ],
      "metadata": {
        "id": "0hc9P0rBhzEU"
      }
    },
    {
      "cell_type": "code",
      "execution_count": null,
      "metadata": {
        "colab": {
          "base_uri": "https://localhost:8080/"
        },
        "id": "P2_6CmyV-Ukd",
        "outputId": "2cc9e19a-4356-4484-c80a-dfd0f2f66d64"
      },
      "outputs": [
        {
          "output_type": "stream",
          "name": "stdout",
          "text": [
            " *  *  *  *  *  * \n",
            " *              * \n",
            " *              * \n",
            " *              * \n",
            " *              * \n",
            " *              * \n",
            " *              * \n",
            " *  *  *  *  *  * \n"
          ]
        }
      ],
      "source": [
        "# Рисуем прямоугольник\n",
        "\n",
        "def drawRectangle(width, hight):\n",
        "    if width > 2 and hight > 2:\n",
        "        print(' * ' * width)\n",
        "        for i in range(hight - 2):\n",
        "            print(' * ' + '   ' * (width - 2) + ' * ')\n",
        "        print(' * ' * width)\n",
        "\n",
        "drawRectangle(6, 8)"
      ]
    },
    {
      "cell_type": "code",
      "source": [
        "def rectangle(width, hight):\n",
        "    if width > 2 and hight > 2:\n",
        "\n",
        "        # Рисуем верхнюю линию прямоугольника\n",
        "        print(' ~ ' * width)\n",
        "\n",
        "        # Рисуем стороны прямоугольника\n",
        "        for i in range(hight - 2):\n",
        "            print(' ~ ' + '   ' * (width - 2) + ' ~ ')\n",
        "\n",
        "        # Рисуем верхнюю линию прямоугольника\n",
        "        print(' ~ ' * width)\n",
        "\n",
        "rectangle(6, 8)"
      ],
      "metadata": {
        "colab": {
          "base_uri": "https://localhost:8080/"
        },
        "id": "jmCXr0UKL-HQ",
        "outputId": "7530aae4-c624-45e5-805d-432ba048b81e"
      },
      "execution_count": null,
      "outputs": [
        {
          "output_type": "stream",
          "name": "stdout",
          "text": [
            " ~  ~  ~  ~  ~  ~ \n",
            " ~              ~ \n",
            " ~              ~ \n",
            " ~              ~ \n",
            " ~              ~ \n",
            " ~              ~ \n",
            " ~              ~ \n",
            " ~  ~  ~  ~  ~  ~ \n"
          ]
        }
      ]
    },
    {
      "cell_type": "code",
      "source": [
        "# Вывод информации о пользователе\n",
        "\n",
        "# Создать функцию, которая принимает произвольное количество\n",
        "# именованных аргументов и выводит их в формате \"ключ: значение\".\n",
        "\n",
        "def info(**kwargs):\n",
        "  for key, value in kwargs.items():\n",
        "    print(f'{key}: {value}')\n",
        "\n",
        "# print(f'Fill your informations: ', name='Ahmed', city='Baghdad', job='System administrator', salary='1000$')\n",
        "info(name='Ahmed', city='Baghdad', job='System administrator', salary='1000$')\n"
      ],
      "metadata": {
        "id": "ZolXy6B0um2L",
        "colab": {
          "base_uri": "https://localhost:8080/"
        },
        "outputId": "1fcdb20f-d2e3-4ed5-b6df-bedab71a7651"
      },
      "execution_count": null,
      "outputs": [
        {
          "output_type": "stream",
          "name": "stdout",
          "text": [
            "name: Ahmed\n",
            "city: Baghdad\n",
            "job: System administrator\n",
            "salary: 1000$\n"
          ]
        }
      ]
    },
    {
      "cell_type": "markdown",
      "source": [
        "Смотрим является ли число простым"
      ],
      "metadata": {
        "id": "mVz74m_QFBlI"
      }
    },
    {
      "cell_type": "code",
      "source": [
        "# Функция проверяет, является ли число простым.В случае, если число простое - вернет True, иначе вернет False\n",
        "\n",
        "def isPrime(n):\n",
        "# 1-\n",
        "    if n <= 1:\n",
        "        return False\n",
        "    # Проверяем все числа от 2 до n, не включая его, на деленеие n на них без остатка\n",
        "# 2-\n",
        "    for i in range(2, n):\n",
        "      if n % i == 0:\n",
        "          return False\n",
        "# 3-\n",
        "    return True\n",
        "\n",
        "\n",
        "value = int(input(\"Введите целое число: \"))\n",
        "if isPrime(value):\n",
        "    # return f'{value} -простое число.'\n",
        "    print(value, 'is a prime number')\n",
        "else:\n",
        "    # return f'{value} -не является простое число'\n",
        "    print(value, 'is not a prime number')"
      ],
      "metadata": {
        "colab": {
          "base_uri": "https://localhost:8080/"
        },
        "id": "IW63uVYhQ9sG",
        "outputId": "4b262133-1e6d-46c3-93e5-bd434b9f0515"
      },
      "execution_count": null,
      "outputs": [
        {
          "output_type": "stream",
          "name": "stdout",
          "text": [
            "Введите целое число: 13\n",
            "13 is a prime number\n"
          ]
        }
      ]
    },
    {
      "cell_type": "code",
      "source": [
        "def intro(**kwargs):\n",
        "    print()\n",
        "    print('Тип данных kwargs: ', type(kwargs))\n",
        "    print(kwargs.items())\n",
        "    if 'firstname' in kwargs:\n",
        "        print('Имя:', kwargs['firstname'])\n",
        "    for key, value in kwargs.items():\n",
        "        print(\"{} is {}\".format(key, value))\n",
        "\n",
        "intro(firstname='Ahmed', lastname='Fadilsa', age=22)\n",
        "intro(name='Ali', job='coder', city='Baghdad', salary=5000)"
      ],
      "metadata": {
        "colab": {
          "base_uri": "https://localhost:8080/"
        },
        "id": "Ws14UnBmLW2M",
        "outputId": "b3dd80c1-268c-425a-f262-1979f19b86bb"
      },
      "execution_count": 15,
      "outputs": [
        {
          "output_type": "stream",
          "name": "stdout",
          "text": [
            "\n",
            "Тип данных kwargs:  <class 'dict'>\n",
            "dict_items([('firstname', 'Ahmed'), ('lastname', 'Fadilsa'), ('age', 22)])\n",
            "Имя: Ahmed\n",
            "firstname is Ahmed\n",
            "lastname is Fadilsa\n",
            "age is 22\n",
            "\n",
            "Тип данных kwargs:  <class 'dict'>\n",
            "dict_items([('name', 'Ali'), ('job', 'coder'), ('city', 'Baghdad'), ('salary', 5000)])\n",
            "name is Ali\n",
            "job is coder\n",
            "city is Baghdad\n",
            "salary is 5000\n"
          ]
        }
      ]
    },
    {
      "cell_type": "code",
      "source": [
        "def funDic(**kwargs):\n",
        "    print(kwargs.items())\n",
        "\n",
        "funDic(n1='One', n2='Two', n3='Three')"
      ],
      "metadata": {
        "colab": {
          "base_uri": "https://localhost:8080/"
        },
        "id": "amnelFgsTjlK",
        "outputId": "7b986c84-64de-4260-cfd9-9e46cd648727"
      },
      "execution_count": 14,
      "outputs": [
        {
          "output_type": "stream",
          "name": "stdout",
          "text": [
            "dict_items([('n1', 'One'), ('n2', 'Two'), ('n3', 'Three')])\n"
          ]
        }
      ]
    },
    {
      "cell_type": "code",
      "source": [
        "def fun(name, age):\n",
        "    # return name, age\n",
        "    print(name, age)\n",
        "\n",
        "# print(fun('Fadilsa', 22))\n",
        "value = fun('Fadilsa', 22)\n",
        "# print(value)"
      ],
      "metadata": {
        "colab": {
          "base_uri": "https://localhost:8080/"
        },
        "id": "piv2OMI2-nzA",
        "outputId": "8414c6b4-3b65-4a8b-d4c6-ae7ffdf7813b"
      },
      "execution_count": null,
      "outputs": [
        {
          "output_type": "stream",
          "name": "stdout",
          "text": [
            "Fadilsa 22\n"
          ]
        }
      ]
    },
    {
      "cell_type": "code",
      "source": [
        "def fun(lst):\n",
        "  lst.append(99)\n",
        "\n",
        "my_list = [1, 2, 3, 4, 5]\n",
        "fun(my_list)\n",
        "print(my_list)"
      ],
      "metadata": {
        "colab": {
          "base_uri": "https://localhost:8080/"
        },
        "id": "lfn2SxTz_VW2",
        "outputId": "db136a89-efca-4a4d-f61a-48b367963d44"
      },
      "execution_count": null,
      "outputs": [
        {
          "output_type": "stream",
          "name": "stdout",
          "text": [
            "[1, 2, 3, 4, 5, 99]\n"
          ]
        }
      ]
    },
    {
      "cell_type": "code",
      "source": [
        "numbers = [1, 2, 3, 4, 5]\n",
        "sq_nums = list(map(lambda x: x ** 2, numbers))\n",
        "print(sq_nums)"
      ],
      "metadata": {
        "colab": {
          "base_uri": "https://localhost:8080/"
        },
        "id": "tIx2YpRhfmND",
        "outputId": "30735175-5de9-42db-eb6d-a3e3ae5314c9"
      },
      "execution_count": 28,
      "outputs": [
        {
          "output_type": "stream",
          "name": "stdout",
          "text": [
            "[1, 4, 9, 16, 25]\n"
          ]
        }
      ]
    },
    {
      "cell_type": "code",
      "source": [
        "numsList = [1, 2, 3, 4, 5]\n",
        "x = list(map(lambda x: x ** 2, numsList))\n",
        "print(x)"
      ],
      "metadata": {
        "colab": {
          "base_uri": "https://localhost:8080/"
        },
        "id": "xigSkWtcgXgc",
        "outputId": "9432ded0-84cf-4d8f-ec13-2d5b4c53b873"
      },
      "execution_count": 29,
      "outputs": [
        {
          "output_type": "stream",
          "name": "stdout",
          "text": [
            "[1, 4, 9, 16, 25]\n"
          ]
        }
      ]
    },
    {
      "cell_type": "code",
      "source": [
        "seq = (1, 2, 3, 4, 5, 6, 7, 8, 9) # Обратите внимание, что мы передаем последовательности разной длины\n",
        "seq2 = (5, 6, 7, 8, 9, 0)\n",
        "res = map(lambda x, y: x * y, seq, seq2)\n",
        "print(res)\n",
        "print(list(res))"
      ],
      "metadata": {
        "colab": {
          "base_uri": "https://localhost:8080/"
        },
        "id": "BLx9Yq9Mhnq1",
        "outputId": "265850b0-68f7-48c8-d560-05df4a224135"
      },
      "execution_count": 32,
      "outputs": [
        {
          "output_type": "stream",
          "name": "stdout",
          "text": [
            "<map object at 0x79ad91155570>\n",
            "[5, 12, 21, 32, 45, 0]\n"
          ]
        }
      ]
    },
    {
      "cell_type": "code",
      "source": [
        "nums = [1, 2, 3, 4, 5, 8, 16] # Фильтруем четные числа\n",
        "filter_nums = filter(lambda x: x % 2 == 0, nums)\n",
        "print(list(filter_nums))"
      ],
      "metadata": {
        "colab": {
          "base_uri": "https://localhost:8080/"
        },
        "id": "iyFQebAniROq",
        "outputId": "5473633f-8745-485f-ea89-fa3bf49d6dfc"
      },
      "execution_count": 34,
      "outputs": [
        {
          "output_type": "stream",
          "name": "stdout",
          "text": [
            "[2, 4, 8, 16]\n"
          ]
        }
      ]
    },
    {
      "cell_type": "code",
      "source": [
        "from functools import reduce\n",
        "nums = [1, 2, 3, 4, 5]\n",
        "sum_nums = reduce(lambda x, y: x + y, nums)\n",
        "print('Sum of number:', sum_nums)"
      ],
      "metadata": {
        "colab": {
          "base_uri": "https://localhost:8080/"
        },
        "id": "I_-x9ZxCqp0p",
        "outputId": "bfbd5c92-bd71-4d42-8f19-d64447069d9c"
      },
      "execution_count": 37,
      "outputs": [
        {
          "output_type": "stream",
          "name": "stdout",
          "text": [
            "Sum of number: 15\n"
          ]
        }
      ]
    },
    {
      "cell_type": "code",
      "source": [
        "def powNums(a, b):\n",
        "    print(a ** b)\n",
        "\n",
        "powNums(2, 9)"
      ],
      "metadata": {
        "colab": {
          "base_uri": "https://localhost:8080/"
        },
        "id": "qDjj4TaGdDO7",
        "outputId": "d3b7925a-7416-4ecb-e6ce-18de6666180b"
      },
      "execution_count": 20,
      "outputs": [
        {
          "output_type": "stream",
          "name": "stdout",
          "text": [
            "512\n"
          ]
        }
      ]
    },
    {
      "cell_type": "code",
      "source": [
        "info = lambda name, age: name + age\n",
        "print(info('Fadilsa', ' 27'))"
      ],
      "metadata": {
        "colab": {
          "base_uri": "https://localhost:8080/"
        },
        "id": "7Kw2ow_beHF9",
        "outputId": "1b247c49-17c9-4bda-9d6f-af16321bb720"
      },
      "execution_count": 24,
      "outputs": [
        {
          "output_type": "stream",
          "name": "stdout",
          "text": [
            "Fadilsa 27\n"
          ]
        }
      ]
    },
    {
      "cell_type": "code",
      "source": [
        "powNums = lambda a, b: a ** b\n",
        "print(powNums(2, 9))"
      ],
      "metadata": {
        "colab": {
          "base_uri": "https://localhost:8080/"
        },
        "id": "05Q2P8F6dVLB",
        "outputId": "c91bf5b9-3634-4dfb-d33a-19e06c4dd9a1"
      },
      "execution_count": 19,
      "outputs": [
        {
          "output_type": "stream",
          "name": "stdout",
          "text": [
            "512\n"
          ]
        }
      ]
    },
    {
      "cell_type": "code",
      "source": [
        "n_list = [1, 2, 3, 4, 5]\n",
        "doubled = list(map(lambda x: x * 2, n_list))\n",
        "print('Doubled:', doubled)"
      ],
      "metadata": {
        "colab": {
          "base_uri": "https://localhost:8080/"
        },
        "id": "dNTYIJf3rxpF",
        "outputId": "af1075bd-14b1-4c5c-aba6-eb1271d617a8"
      },
      "execution_count": 39,
      "outputs": [
        {
          "output_type": "stream",
          "name": "stdout",
          "text": [
            "Doubled: [2, 4, 6, 8, 10]\n"
          ]
        }
      ]
    },
    {
      "cell_type": "code",
      "source": [
        "strings = [\"hello\", \"world\", \"python\"]\n",
        "upper_case_strings = list(map(lambda x: x.upper(), strings))\n",
        "print(upper_case_strings)"
      ],
      "metadata": {
        "colab": {
          "base_uri": "https://localhost:8080/"
        },
        "id": "t5sAMn_arxlA",
        "outputId": "40d595b0-2748-42eb-f53a-e3e3f602cbd7"
      },
      "execution_count": 44,
      "outputs": [
        {
          "output_type": "stream",
          "name": "stdout",
          "text": [
            "['HELLO', 'WORLD', 'PYTHON']\n"
          ]
        }
      ]
    },
    {
      "cell_type": "code",
      "source": [
        "words = [\"apple\", \"banana\", \"cherry\"]\n",
        "len_every_string = list(map(lambda x: len(x), words))\n",
        "print('Length:', len_every_string)"
      ],
      "metadata": {
        "colab": {
          "base_uri": "https://localhost:8080/"
        },
        "id": "PbtM1khtrxfh",
        "outputId": "98944335-6892-4481-811e-7dee38164a48"
      },
      "execution_count": 46,
      "outputs": [
        {
          "output_type": "stream",
          "name": "stdout",
          "text": [
            "Length: [5, 6, 6]\n"
          ]
        }
      ]
    },
    {
      "cell_type": "code",
      "source": [
        "numbers = [1, 2, 3, 4, 5]\n",
        "filter_greater_three = list(filter(lambda x: x > 3, numbers))\n",
        "print('This number greater than 3 =====>', filter_greater_three)"
      ],
      "metadata": {
        "colab": {
          "base_uri": "https://localhost:8080/"
        },
        "id": "IO-hHXqrrxZT",
        "outputId": "4f2651bd-2d12-4f81-bd4d-1279d9df9f6c"
      },
      "execution_count": 48,
      "outputs": [
        {
          "output_type": "stream",
          "name": "stdout",
          "text": [
            "This number greater than 3 =====> [4, 5]\n"
          ]
        }
      ]
    },
    {
      "cell_type": "code",
      "source": [
        "words = [\"apple\", \"banana\", \"cherry\", \"date\"]\n",
        "a_in_words = list(filter(lambda words: 'a' in words, words))\n",
        "print('There is `a` in this words:', a_in_words)"
      ],
      "metadata": {
        "colab": {
          "base_uri": "https://localhost:8080/"
        },
        "id": "0rbmBiyct2MZ",
        "outputId": "d6f4f72c-9503-4726-cb8f-f5604669a08f"
      },
      "execution_count": 57,
      "outputs": [
        {
          "output_type": "stream",
          "name": "stdout",
          "text": [
            "There is `a` in this words: ['apple', 'banana', 'date']\n"
          ]
        }
      ]
    },
    {
      "cell_type": "code",
      "source": [
        "numbers = [10, 15, 20, 25, 30]\n",
        "prime_nums = (list(filter(lambda x: x % 2 == 0, numbers)))\n",
        "print(prime_nums)"
      ],
      "metadata": {
        "colab": {
          "base_uri": "https://localhost:8080/"
        },
        "id": "pwmriQCdt2GD",
        "outputId": "920608b2-d6eb-442d-af71-f442dfb7b3a8"
      },
      "execution_count": 60,
      "outputs": [
        {
          "output_type": "stream",
          "name": "stdout",
          "text": [
            "[10, 20, 30]\n"
          ]
        }
      ]
    },
    {
      "cell_type": "code",
      "source": [],
      "metadata": {
        "id": "maf3DRyvt1_V"
      },
      "execution_count": null,
      "outputs": []
    },
    {
      "cell_type": "code",
      "source": [],
      "metadata": {
        "id": "oVyn7RUUt14E"
      },
      "execution_count": null,
      "outputs": []
    },
    {
      "cell_type": "code",
      "source": [],
      "metadata": {
        "id": "HYSi3oSqt1wZ"
      },
      "execution_count": null,
      "outputs": []
    },
    {
      "cell_type": "code",
      "source": [
        "print()\n",
        "print('Hiii')\n",
        "print()"
      ],
      "metadata": {
        "colab": {
          "base_uri": "https://localhost:8080/"
        },
        "id": "CvIT2S7UKzAB",
        "outputId": "82fb245e-7071-418a-dedf-8446a2338f26"
      },
      "execution_count": 1,
      "outputs": [
        {
          "output_type": "stream",
          "name": "stdout",
          "text": [
            "\n",
            "Hiii\n"
          ]
        }
      ]
    },
    {
      "cell_type": "code",
      "source": [
        "print('Hiii')"
      ],
      "metadata": {
        "colab": {
          "base_uri": "https://localhost:8080/"
        },
        "id": "myNpd6QHK7B_",
        "outputId": "4e980bb5-7da9-4b2c-ab28-c05b2a98827a"
      },
      "execution_count": 2,
      "outputs": [
        {
          "output_type": "stream",
          "name": "stdout",
          "text": [
            "Hiii\n"
          ]
        }
      ]
    },
    {
      "cell_type": "code",
      "source": [
        "def fun(num):\n",
        "  num += 10\n",
        "\n",
        "my_num"
      ],
      "metadata": {
        "id": "6hCdN4AKaWDS"
      },
      "execution_count": null,
      "outputs": []
    },
    {
      "cell_type": "code",
      "source": [
        "def info(**kwargs):\n",
        "    for key, value in kwargs.items():\n",
        "        print(f'{key}: {value}')\n",
        "\n",
        "info(key1='value1', key2='value2', key3='value3')"
      ],
      "metadata": {
        "colab": {
          "base_uri": "https://localhost:8080/"
        },
        "id": "SELYTfJw92CQ",
        "outputId": "08ec0ef5-3b1e-4dcd-a675-8fede2f062c7"
      },
      "execution_count": null,
      "outputs": [
        {
          "output_type": "stream",
          "name": "stdout",
          "text": [
            "key1: value1\n",
            "key2: value2\n",
            "key3: value3\n"
          ]
        }
      ]
    },
    {
      "cell_type": "code",
      "source": [
        "def info(**kwargs):\n",
        "    for key, value in kwargs.items():\n",
        "        print(key, value)\n",
        "\n",
        "info(name='Fadilsa', age=25, city='Baghdad')"
      ],
      "metadata": {
        "colab": {
          "base_uri": "https://localhost:8080/"
        },
        "id": "6jckgDez87SD",
        "outputId": "36d2b396-9e27-4bd2-b2fb-c2ce2bd42c03"
      },
      "execution_count": null,
      "outputs": [
        {
          "output_type": "stream",
          "name": "stdout",
          "text": [
            "name Fadilsa\n",
            "age 25\n",
            "city Baghdad\n"
          ]
        }
      ]
    },
    {
      "cell_type": "code",
      "source": [
        "def info(**kwargs):\n",
        "    for key, value in kwargs.items():\n",
        "        print(key, value)\n",
        "\n",
        "info(name='Ali', age='22', city='Baghdad')"
      ],
      "metadata": {
        "colab": {
          "base_uri": "https://localhost:8080/"
        },
        "id": "NxG5XX8L9iMo",
        "outputId": "f956f578-18a2-4aa2-91a5-28b81611185c"
      },
      "execution_count": null,
      "outputs": [
        {
          "output_type": "stream",
          "name": "stdout",
          "text": [
            "name Ali\n",
            "age 22\n",
            "city Baghdad\n"
          ]
        }
      ]
    },
    {
      "cell_type": "code",
      "source": [
        "def fun():\n",
        "  return 9\n",
        "\n",
        "n = fun()\n",
        "print(n)"
      ],
      "metadata": {
        "colab": {
          "base_uri": "https://localhost:8080/"
        },
        "id": "ytFvJjV9hwRY",
        "outputId": "74239a32-01f3-464d-ecb0-bc616d3ec500"
      },
      "execution_count": null,
      "outputs": [
        {
          "output_type": "stream",
          "name": "stdout",
          "text": [
            "9\n"
          ]
        }
      ]
    },
    {
      "cell_type": "code",
      "source": [
        "import this"
      ],
      "metadata": {
        "colab": {
          "base_uri": "https://localhost:8080/"
        },
        "id": "LRfvyE8AjRIW",
        "outputId": "0e82f62f-3f14-42df-e045-d6b79e45afa2"
      },
      "execution_count": null,
      "outputs": [
        {
          "output_type": "stream",
          "name": "stdout",
          "text": [
            "The Zen of Python, by Tim Peters\n",
            "\n",
            "Beautiful is better than ugly.\n",
            "Explicit is better than implicit.\n",
            "Simple is better than complex.\n",
            "Complex is better than complicated.\n",
            "Flat is better than nested.\n",
            "Sparse is better than dense.\n",
            "Readability counts.\n",
            "Special cases aren't special enough to break the rules.\n",
            "Although practicality beats purity.\n",
            "Errors should never pass silently.\n",
            "Unless explicitly silenced.\n",
            "In the face of ambiguity, refuse the temptation to guess.\n",
            "There should be one-- and preferably only one --obvious way to do it.\n",
            "Although that way may not be obvious at first unless you're Dutch.\n",
            "Now is better than never.\n",
            "Although never is often better than *right* now.\n",
            "If the implementation is hard to explain, it's a bad idea.\n",
            "If the implementation is easy to explain, it may be a good idea.\n",
            "Namespaces are one honking great idea -- let's do more of those!\n"
          ]
        }
      ]
    },
    {
      "cell_type": "code",
      "source": [
        "def funo():\n",
        "  print('hiiiiiiii')\n",
        "\n",
        "funo()\n",
        "funo()\n",
        "funo()\n",
        "funo()\n",
        "funo()\n"
      ],
      "metadata": {
        "colab": {
          "base_uri": "https://localhost:8080/"
        },
        "id": "psDQnDK8tK7k",
        "outputId": "63d71806-2848-4f1e-f3b2-782d9fcda342"
      },
      "execution_count": null,
      "outputs": [
        {
          "output_type": "stream",
          "name": "stdout",
          "text": [
            "hiiiiiiii\n",
            "hiiiiiiii\n",
            "hiiiiiiii\n",
            "hiiiiiiii\n",
            "hiiiiiiii\n"
          ]
        }
      ]
    },
    {
      "cell_type": "code",
      "source": [
        "def fun():\n",
        "  return 'hiiiiiiiiii'\n",
        "\n",
        "fun()"
      ],
      "metadata": {
        "colab": {
          "base_uri": "https://localhost:8080/",
          "height": 35
        },
        "id": "GK2tHtOatBup",
        "outputId": "7f62f172-529b-42dd-a980-a2b811233c46"
      },
      "execution_count": null,
      "outputs": [
        {
          "output_type": "execute_result",
          "data": {
            "text/plain": [
              "'hiiiiiiiiii'"
            ],
            "application/vnd.google.colaboratory.intrinsic+json": {
              "type": "string"
            }
          },
          "metadata": {},
          "execution_count": 8
        }
      ]
    },
    {
      "cell_type": "code",
      "source": [
        "def greet(name):\n",
        "  print(f'Hello, {name}')\n",
        "\n",
        "greet('Sara')\n",
        "greet('Ali')\n",
        "greet('Cat')\n",
        "greet('Son yoo')\n",
        "greet('Putin')\n",
        "greet('Saddam')\n",
        "greet('My love')\n"
      ],
      "metadata": {
        "colab": {
          "base_uri": "https://localhost:8080/"
        },
        "id": "r6UJEZk9unwe",
        "outputId": "00f18dcd-21f3-4c0b-d8ea-34e3799751e1"
      },
      "execution_count": null,
      "outputs": [
        {
          "output_type": "stream",
          "name": "stdout",
          "text": [
            "Hello, Sara\n",
            "Hello, Ali\n",
            "Hello, Cat\n",
            "Hello, Son yoo\n",
            "Hello, Putin\n",
            "Hello, Saddam\n",
            "Hello, My love\n"
          ]
        }
      ]
    },
    {
      "cell_type": "code",
      "source": [
        "def sum(x, y):\n",
        "  return x * y\n",
        "\n",
        "print(sum(1, 2))"
      ],
      "metadata": {
        "colab": {
          "base_uri": "https://localhost:8080/"
        },
        "id": "RNxgmOWaunVu",
        "outputId": "1ab123b4-6f16-45e8-a10a-5d9212354ccb"
      },
      "execution_count": null,
      "outputs": [
        {
          "output_type": "stream",
          "name": "stdout",
          "text": [
            "2\n"
          ]
        }
      ]
    },
    {
      "cell_type": "code",
      "source": [
        "def nums(a, b):\n",
        "  return f'hi {a}, my name is {b}'\n",
        "# nums('Saly', 'Fadil')\n",
        "nums(b='Fadil', a='Saly')"
      ],
      "metadata": {
        "colab": {
          "base_uri": "https://localhost:8080/",
          "height": 35
        },
        "id": "LQYtN2l3unSb",
        "outputId": "8adca9f3-dc67-4953-8ac7-e0e8f0119088"
      },
      "execution_count": null,
      "outputs": [
        {
          "output_type": "execute_result",
          "data": {
            "text/plain": [
              "'hi Saly, my name is Fadil'"
            ],
            "application/vnd.google.colaboratory.intrinsic+json": {
              "type": "string"
            }
          },
          "metadata": {},
          "execution_count": 21
        }
      ]
    },
    {
      "cell_type": "code",
      "source": [
        "def s(a='ss'):\n",
        "  return(f\"it's {a}\")\n",
        "# s()\n",
        "# s(a='aa')\n",
        "print(s(a='aa'))"
      ],
      "metadata": {
        "colab": {
          "base_uri": "https://localhost:8080/"
        },
        "id": "NZcM6ZIQunOo",
        "outputId": "4de59ae7-0b20-4f9a-bc29-481c2fb9511b"
      },
      "execution_count": null,
      "outputs": [
        {
          "output_type": "stream",
          "name": "stdout",
          "text": [
            "it's aa\n"
          ]
        }
      ]
    },
    {
      "cell_type": "code",
      "source": [
        "def fun(*args):\n",
        "  sum = 0\n",
        "  for i in args:\n",
        "    sum += i\n",
        "  return sum\n",
        "\n",
        "print(fun(1, 2, 3))"
      ],
      "metadata": {
        "id": "ugwPCpmMunKN",
        "colab": {
          "base_uri": "https://localhost:8080/"
        },
        "outputId": "fab577cd-bed3-47eb-903e-d2b9e784e222"
      },
      "execution_count": null,
      "outputs": [
        {
          "output_type": "stream",
          "name": "stdout",
          "text": [
            "6\n"
          ]
        }
      ]
    },
    {
      "cell_type": "code",
      "source": [
        "def funo(*args):\n",
        "  sum = 0\n",
        "  for i in args:\n",
        "    sum += i\n",
        "  return sum\n",
        "\n",
        "print(funo(1, 2, 3, 4, 5))\n"
      ],
      "metadata": {
        "colab": {
          "base_uri": "https://localhost:8080/"
        },
        "id": "sSlmJNGuYPEo",
        "outputId": "5e9e83b8-d984-4aaa-fa9b-bd3836ae65c5"
      },
      "execution_count": null,
      "outputs": [
        {
          "output_type": "stream",
          "name": "stdout",
          "text": [
            "15\n"
          ]
        }
      ]
    },
    {
      "cell_type": "code",
      "source": [
        "def func(*args):\n",
        "  total = 0\n",
        "  for i in args:\n",
        "    total += i\n",
        "  print(total)\n",
        "\n",
        "func(1, 2, 3)\n",
        "func(2, 4, 6)\n",
        "func(3, 6, 9)"
      ],
      "metadata": {
        "id": "z5SQiaUHunE7",
        "colab": {
          "base_uri": "https://localhost:8080/"
        },
        "outputId": "36ef7d4c-b7aa-4a9f-fb12-cfc25a41b71e"
      },
      "execution_count": null,
      "outputs": [
        {
          "output_type": "stream",
          "name": "stdout",
          "text": [
            "6\n",
            "12\n",
            "18\n"
          ]
        }
      ]
    },
    {
      "cell_type": "code",
      "source": [
        "def KeyWordsArgs(**kwargs):\n",
        "  for key, value in kwargs.items():\n",
        "    # print(key, value)\n",
        "    print(f\"{key}: {value}\")\n",
        "\n",
        "KeyWordsArgs(first=1, second=2)"
      ],
      "metadata": {
        "id": "T7OCUs9uum-c",
        "colab": {
          "base_uri": "https://localhost:8080/"
        },
        "outputId": "71d37c72-14ee-472a-8f82-9566099ae5b6"
      },
      "execution_count": null,
      "outputs": [
        {
          "output_type": "stream",
          "name": "stdout",
          "text": [
            "first: 1\n",
            "second: 2\n"
          ]
        }
      ]
    },
    {
      "cell_type": "code",
      "source": [
        "def fun(myfun):\n",
        "  print(f'this is my {myfun}')\n",
        "\n",
        "fun('function')"
      ],
      "metadata": {
        "id": "A84_167p5cT5",
        "colab": {
          "base_uri": "https://localhost:8080/"
        },
        "outputId": "57bd4699-d0ce-4b76-9d2e-65a0ab848855"
      },
      "execution_count": null,
      "outputs": [
        {
          "output_type": "stream",
          "name": "stdout",
          "text": [
            "this is my function\n"
          ]
        }
      ]
    },
    {
      "cell_type": "code",
      "source": [
        "def fun(myfun):\n",
        "  return f'this is my {myfun}'\n",
        "\n",
        "print(fun('function'))"
      ],
      "metadata": {
        "colab": {
          "base_uri": "https://localhost:8080/"
        },
        "id": "iCk5z6p46N_F",
        "outputId": "f6862e6c-1215-40d2-f63e-4eb029124f3d"
      },
      "execution_count": null,
      "outputs": [
        {
          "output_type": "stream",
          "name": "stdout",
          "text": [
            "this is my function\n"
          ]
        }
      ]
    },
    {
      "cell_type": "code",
      "source": [
        "def fun(myfun1, myfun2):\n",
        "  return f'these are my functions: {myfun1} and {myfun2}'\n",
        "\n",
        "fun('function one', 'function two')"
      ],
      "metadata": {
        "colab": {
          "base_uri": "https://localhost:8080/",
          "height": 35
        },
        "id": "icgSCM366g0C",
        "outputId": "bf947d1b-d237-45b3-d972-d71e73668306"
      },
      "execution_count": null,
      "outputs": [
        {
          "output_type": "execute_result",
          "data": {
            "text/plain": [
              "'these are my functions: function one and function two'"
            ],
            "application/vnd.google.colaboratory.intrinsic+json": {
              "type": "string"
            }
          },
          "metadata": {},
          "execution_count": 3
        }
      ]
    },
    {
      "cell_type": "code",
      "source": [
        "def sumNums(n1, n2, n3):\n",
        "  return f'Num1 + Num2 - Num3 == {n1 + n2 - n3}'\n",
        "\n",
        "# sumNums(10, 20, 3)\n",
        "print(sumNums(10, 20, 3))"
      ],
      "metadata": {
        "colab": {
          "base_uri": "https://localhost:8080/"
        },
        "id": "Jr3TsnaV6_eQ",
        "outputId": "7582fc39-06db-4d20-f883-bc85487d510f"
      },
      "execution_count": null,
      "outputs": [
        {
          "output_type": "stream",
          "name": "stdout",
          "text": [
            "Num1 + Num2 - Num3 == 27\n"
          ]
        }
      ]
    },
    {
      "cell_type": "code",
      "source": [
        "def funs(fun1, fun2, fun3):\n",
        "  return f'total: {fun1 + fun2 + fun3}'\n",
        "\n",
        "print(funs(fun1=2, fun2=5, fun3=2))"
      ],
      "metadata": {
        "colab": {
          "base_uri": "https://localhost:8080/"
        },
        "id": "QCEWPa999PA0",
        "outputId": "422c15e3-97db-45d3-e073-69a09acb3686"
      },
      "execution_count": null,
      "outputs": [
        {
          "output_type": "stream",
          "name": "stdout",
          "text": [
            "total: 9\n"
          ]
        }
      ]
    },
    {
      "cell_type": "code",
      "source": [
        "def funs(fun1, fun2='Fadilsa'):\n",
        "    return f'{fun1} and {fun2}'\n",
        "\n",
        "# print(funs(fun1='Ahmed'))\n",
        "print(funs('Ahmed'))"
      ],
      "metadata": {
        "colab": {
          "base_uri": "https://localhost:8080/"
        },
        "id": "bvPkWPzd9waU",
        "outputId": "520f8216-3b4b-4521-c805-e49fc84b216b"
      },
      "execution_count": null,
      "outputs": [
        {
          "output_type": "stream",
          "name": "stdout",
          "text": [
            "Ahmed and Fadilsa\n"
          ]
        }
      ]
    },
    {
      "cell_type": "code",
      "source": [
        "def funs(*args):\n",
        "  return args\n",
        "\n",
        "print(funs(1, 2, 3, 4, 5))"
      ],
      "metadata": {
        "colab": {
          "base_uri": "https://localhost:8080/"
        },
        "id": "d_0AcSLq_StI",
        "outputId": "e69c092d-d6b0-48fa-a56d-009e9b9fabae"
      },
      "execution_count": null,
      "outputs": [
        {
          "output_type": "stream",
          "name": "stdout",
          "text": [
            "(1, 2, 3, 4, 5)\n"
          ]
        }
      ]
    },
    {
      "cell_type": "code",
      "source": [
        "def fun(*args):\n",
        "  return args\n",
        "\n",
        "fun(1, 2, 3, 4, 5)"
      ],
      "metadata": {
        "colab": {
          "base_uri": "https://localhost:8080/"
        },
        "id": "U_SfjK48_iUG",
        "outputId": "79bf9147-d9db-44ec-ba9b-dd43d71c9565"
      },
      "execution_count": null,
      "outputs": [
        {
          "output_type": "execute_result",
          "data": {
            "text/plain": [
              "(1, 2, 3, 4, 5)"
            ]
          },
          "metadata": {},
          "execution_count": 16
        }
      ]
    },
    {
      "cell_type": "code",
      "source": [
        "def fun(*args):\n",
        "  return sum(args)\n",
        "\n",
        "# fun(1, 2, 3, 4, 5)\n",
        "# fun(f'{1, 2, 3, 4}')\n",
        "print('The sum of all nums:', fun(1, 2, 3, 4, 5))"
      ],
      "metadata": {
        "colab": {
          "base_uri": "https://localhost:8080/"
        },
        "id": "1-k8UejR_xF3",
        "outputId": "1ad3a1be-533a-491b-ea97-5e285eefffa2"
      },
      "execution_count": null,
      "outputs": [
        {
          "output_type": "stream",
          "name": "stdout",
          "text": [
            "The sum of all nums: 15\n"
          ]
        }
      ]
    },
    {
      "cell_type": "code",
      "source": [
        "def fun(**kwargs):\n",
        "  for key, value in kwargs.items():\n",
        "    print(f'{key} = {value}')\n",
        "\n",
        "fun(name='Ali', age=22, city='Baghdad')\n",
        "# fun(name('Ahmed', age=27, city='Izhevsk'))"
      ],
      "metadata": {
        "colab": {
          "base_uri": "https://localhost:8080/"
        },
        "id": "wSZY5WugFvJh",
        "outputId": "9f060153-bd89-4b5f-d6a0-f9b2177ee40b"
      },
      "execution_count": null,
      "outputs": [
        {
          "output_type": "stream",
          "name": "stdout",
          "text": [
            "name = Ali\n",
            "age = 22\n",
            "city = Baghdad\n"
          ]
        }
      ]
    }
  ]
}