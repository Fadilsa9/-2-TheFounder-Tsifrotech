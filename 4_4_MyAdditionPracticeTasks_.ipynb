{
  "nbformat": 4,
  "nbformat_minor": 0,
  "metadata": {
    "colab": {
      "provenance": [],
      "authorship_tag": "ABX9TyOCjxOy1Rl2XodolrWtoe4l"
    },
    "kernelspec": {
      "name": "python3",
      "display_name": "Python 3"
    },
    "language_info": {
      "name": "python"
    }
  },
  "cells": [
    {
      "cell_type": "markdown",
      "source": [
        "FUNCTIONS"
      ],
      "metadata": {
        "id": "0hc9P0rBhzEU"
      }
    },
    {
      "cell_type": "code",
      "execution_count": 2,
      "metadata": {
        "colab": {
          "base_uri": "https://localhost:8080/"
        },
        "id": "P2_6CmyV-Ukd",
        "outputId": "2cc9e19a-4356-4484-c80a-dfd0f2f66d64"
      },
      "outputs": [
        {
          "output_type": "stream",
          "name": "stdout",
          "text": [
            " *  *  *  *  *  * \n",
            " *              * \n",
            " *              * \n",
            " *              * \n",
            " *              * \n",
            " *              * \n",
            " *              * \n",
            " *  *  *  *  *  * \n"
          ]
        }
      ],
      "source": [
        "# Рисуем прямоугольник\n",
        "\n",
        "def drawRectangle(width, hight):\n",
        "    if width > 2 and hight > 2:\n",
        "        print(' * ' * width)\n",
        "        for i in range(hight - 2):\n",
        "            print(' * ' + '   ' * (width - 2) + ' * ')\n",
        "        print(' * ' * width)\n",
        "\n",
        "drawRectangle(6, 8)"
      ]
    },
    {
      "cell_type": "code",
      "source": [
        "def rectangle(width, hight):\n",
        "    if width > 2 and hight > 2:\n",
        "\n",
        "        # Рисуем верхнюю линию прямоугольника\n",
        "        print(' ~ ' * width)\n",
        "\n",
        "        # Рисуем стороны прямоугольника\n",
        "        for i in range(hight - 2):\n",
        "            print(' ~ ' + '   ' * (width - 2) + ' ~ ')\n",
        "\n",
        "        # Рисуем верхнюю линию прямоугольника\n",
        "        print(' ~ ' * width)\n",
        "\n",
        "rectangle(6, 8)"
      ],
      "metadata": {
        "colab": {
          "base_uri": "https://localhost:8080/"
        },
        "id": "jmCXr0UKL-HQ",
        "outputId": "7530aae4-c624-45e5-805d-432ba048b81e"
      },
      "execution_count": 4,
      "outputs": [
        {
          "output_type": "stream",
          "name": "stdout",
          "text": [
            " ~  ~  ~  ~  ~  ~ \n",
            " ~              ~ \n",
            " ~              ~ \n",
            " ~              ~ \n",
            " ~              ~ \n",
            " ~              ~ \n",
            " ~              ~ \n",
            " ~  ~  ~  ~  ~  ~ \n"
          ]
        }
      ]
    },
    {
      "cell_type": "code",
      "source": [
        "def fun():\n",
        "  return 9\n",
        "\n",
        "n = fun()\n",
        "print(n)"
      ],
      "metadata": {
        "colab": {
          "base_uri": "https://localhost:8080/"
        },
        "id": "ytFvJjV9hwRY",
        "outputId": "74239a32-01f3-464d-ecb0-bc616d3ec500"
      },
      "execution_count": 5,
      "outputs": [
        {
          "output_type": "stream",
          "name": "stdout",
          "text": [
            "9\n"
          ]
        }
      ]
    },
    {
      "cell_type": "code",
      "source": [
        "import this"
      ],
      "metadata": {
        "colab": {
          "base_uri": "https://localhost:8080/"
        },
        "id": "LRfvyE8AjRIW",
        "outputId": "0e82f62f-3f14-42df-e045-d6b79e45afa2"
      },
      "execution_count": 6,
      "outputs": [
        {
          "output_type": "stream",
          "name": "stdout",
          "text": [
            "The Zen of Python, by Tim Peters\n",
            "\n",
            "Beautiful is better than ugly.\n",
            "Explicit is better than implicit.\n",
            "Simple is better than complex.\n",
            "Complex is better than complicated.\n",
            "Flat is better than nested.\n",
            "Sparse is better than dense.\n",
            "Readability counts.\n",
            "Special cases aren't special enough to break the rules.\n",
            "Although practicality beats purity.\n",
            "Errors should never pass silently.\n",
            "Unless explicitly silenced.\n",
            "In the face of ambiguity, refuse the temptation to guess.\n",
            "There should be one-- and preferably only one --obvious way to do it.\n",
            "Although that way may not be obvious at first unless you're Dutch.\n",
            "Now is better than never.\n",
            "Although never is often better than *right* now.\n",
            "If the implementation is hard to explain, it's a bad idea.\n",
            "If the implementation is easy to explain, it may be a good idea.\n",
            "Namespaces are one honking great idea -- let's do more of those!\n"
          ]
        }
      ]
    },
    {
      "cell_type": "code",
      "source": [
        "def funo():\n",
        "  print('hiiiiiiii')\n",
        "\n",
        "funo()\n",
        "funo()\n",
        "funo()\n",
        "funo()\n",
        "funo()\n"
      ],
      "metadata": {
        "colab": {
          "base_uri": "https://localhost:8080/"
        },
        "id": "psDQnDK8tK7k",
        "outputId": "63d71806-2848-4f1e-f3b2-782d9fcda342"
      },
      "execution_count": 12,
      "outputs": [
        {
          "output_type": "stream",
          "name": "stdout",
          "text": [
            "hiiiiiiii\n",
            "hiiiiiiii\n",
            "hiiiiiiii\n",
            "hiiiiiiii\n",
            "hiiiiiiii\n"
          ]
        }
      ]
    },
    {
      "cell_type": "code",
      "source": [
        "def fun():\n",
        "  return 'hiiiiiiiiii'\n",
        "\n",
        "fun()"
      ],
      "metadata": {
        "colab": {
          "base_uri": "https://localhost:8080/",
          "height": 35
        },
        "id": "GK2tHtOatBup",
        "outputId": "7f62f172-529b-42dd-a980-a2b811233c46"
      },
      "execution_count": 8,
      "outputs": [
        {
          "output_type": "execute_result",
          "data": {
            "text/plain": [
              "'hiiiiiiiiii'"
            ],
            "application/vnd.google.colaboratory.intrinsic+json": {
              "type": "string"
            }
          },
          "metadata": {},
          "execution_count": 8
        }
      ]
    }
  ]
}