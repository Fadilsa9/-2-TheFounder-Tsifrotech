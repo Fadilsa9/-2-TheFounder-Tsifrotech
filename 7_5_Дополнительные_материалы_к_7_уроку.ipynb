{
  "nbformat": 4,
  "nbformat_minor": 0,
  "metadata": {
    "colab": {
      "provenance": [],
      "authorship_tag": "ABX9TyMbLG57MqcyWCTYskrQS7iK"
    },
    "kernelspec": {
      "name": "python3",
      "display_name": "Python 3"
    },
    "language_info": {
      "name": "python"
    }
  },
  "cells": [
    {
      "cell_type": "code",
      "execution_count": null,
      "metadata": {
        "id": "z_08llyGmZUL"
      },
      "outputs": [],
      "source": []
    },
    {
      "cell_type": "markdown",
      "source": [
        "\n",
        "NumPy\n",
        "\n",
        "https://numpy.org/install/\n",
        "\n",
        "https://numpy.org/doc/stable/user/quickstart.html\n",
        "\n",
        "https://numpy.org/doc/stable/user/absolute_beginners.html\n",
        "\n",
        "https://numpy.org/doc/1.18/numpy-user.pdf\n",
        "\n",
        "https://scipy-lectures.org/intro/numpy/index.html\n",
        "\n",
        "https://www.w3schools.com/python/numpy/default.asp\n",
        "\n",
        "https://www.datacamp.com/cheat-sheet/numpy-cheat-sheet-data-analysis-in-python\n",
        "\n",
        "https://www.geeksforgeeks.org/introduction-to-numpy/\n",
        "\n",
        "https://www.geeksforgeeks.org/python-numpy/?ref=lbp\n",
        "\n",
        "https://web.stanford.edu/~schmit/cme193/lec/lec5.pdf\n",
        "\n",
        "https://www.geeksforgeeks.org/numpy-tutorial/\n",
        "\n",
        "https://cs231n.github.io/python-numpy-tutorial/"
      ],
      "metadata": {
        "id": "pdCRsTQzmnXj"
      }
    },
    {
      "cell_type": "markdown",
      "source": [
        "\n",
        "Pandas\n",
        "\n",
        "https://pandas.pydata.org/docs/getting_started/index.html#getting-started\n",
        "https://www.w3schools.com/python/pandas/default.asp\n",
        "https://www.kaggle.com/learn/pandas\n",
        "https://s3.amazonaws.com/dq-blog-files/pandas-cheat-sheet.pdf\n",
        "https://www.kaggle.com/code/shivan118/pandas-100-tricks"
      ],
      "metadata": {
        "id": "2G8bBEYZm1EM"
      }
    },
    {
      "cell_type": "markdown",
      "source": [
        "Примеры использования библиотек\n",
        "\n"
      ],
      "metadata": {
        "id": "vPbX1Dnom44N"
      }
    },
    {
      "cell_type": "markdown",
      "source": [
        "NumPy\n",
        "\n",
        "https://numpy.org/numpy-tutorials/content/tutorial-svd.html\n",
        "https://numpy.org/numpy-tutorials/content/tutorial-deep-learning-on-mnist.html\n",
        "https://numpy.org/numpy-tutorials/content/tutorial-x-ray-image-processing.html\n",
        "https://www.geeksforgeeks.org/implementation-of-neural-network-from-scratch-using-numpy/?ref=lbp\n",
        "https://www.geeksforgeeks.org/analyzing-selling-price-of-used-cars-using-python/?ref=lbp\n",
        "https://www.kaggle.com/code/landlord/numpy-tutorial#Basic-Math"
      ],
      "metadata": {
        "id": "OQbdutYBm74N"
      }
    },
    {
      "cell_type": "markdown",
      "source": [
        "Pandas\n",
        "\n",
        "https://pandas.pydata.org/docs/getting_started/tutorials.html\n",
        "https://www.geeksforgeeks.org/python-pandas-dataframe/\n",
        "https://builtin.com/data-science/pandas\n",
        "https://www.webpages.uidaho.edu/~stevel/504/pandas%20dataframe%20notes.pdf\n",
        "https://medium.com/@pankaj_pandey/the-power-of-pandas-library-a-beginners-guide-970531fff3c2 (открывать через защищенное соединение)\n",
        "https://medium.com/@matthewghannoum/pandas-basics-everything-you-need-to-know-for-90-of-your-projects-972a964a1377 (открывать через защищенное соединение)"
      ],
      "metadata": {
        "id": "jhT9xUfGm_UT"
      }
    },
    {
      "cell_type": "markdown",
      "source": [
        "\n",
        "Поможет в выполнении домашнего задания\n",
        "\n",
        "https://www.kaggle.com/datasets/rounakbanik/the-movies-dataset\n",
        "https://www.kaggle.com/datasets/rounakbanik/the-movies-dataset/code?datasetId=3405&sortBy=voteCount\n",
        "https://www.kaggle.com/code/obayprogrammer/tmdb-movies-full-eda"
      ],
      "metadata": {
        "id": "GGg_Jik2nCJF"
      }
    }
  ]
}