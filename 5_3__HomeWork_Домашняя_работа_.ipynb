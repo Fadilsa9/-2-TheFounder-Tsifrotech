{
  "nbformat": 4,
  "nbformat_minor": 0,
  "metadata": {
    "colab": {
      "provenance": []
    },
    "kernelspec": {
      "name": "python3",
      "display_name": "Python 3"
    },
    "language_info": {
      "name": "python"
    }
  },
  "cells": [
    {
      "cell_type": "markdown",
      "source": [
        "## Задача 1. Класс Neuron"
      ],
      "metadata": {
        "id": "B5IghQAm20sG"
      }
    },
    {
      "cell_type": "markdown",
      "source": [
        "**Условие** Используя примеры из теоретической части 5.1 и 5.2, составьте класс Neuron модели нейрона, принимающего на вход от одного до 10 входных параметров. Запрещается пользоваться библиотекой numpy. На вход подается список. Матричное умножение реализуется с помощью циклов самостоятельно. Класс содержит методы для вычисления взвешенной суммы, а также содержит функции активации из урока."
      ],
      "metadata": {
        "id": "BxRUPNKFrxow"
      }
    },
    {
      "cell_type": "code",
      "source": [
        "class Neuron:\n",
        "    def __init__(self, weights, bias):\n",
        "        self.weights = weights\n",
        "        self.bias = bias\n",
        "\n",
        "    def weighted_sum(self, inputs):\n",
        "        result = 0\n",
        "        for i in range(len(inputs)):\n",
        "            result += self.weights[i] * inputs[i]\n",
        "        return result + self.bias\n",
        "\n",
        "    def sigmoid(self, x):\n",
        "        return 1 / (1 + (2.71828 ** -x))  #используется приближенное значение числа e\n",
        "\n",
        "    def activate(self, inputs):\n",
        "        sum_result = self.weighted_sum(inputs)  #сначала вычисляется взвешенная сумма\n",
        "        return self.sigmoid(sum_result)  #затем применяется сигмоидная функция\n",
        "\n",
        "if __name__ == \"__main__\":\n",
        "    neuron = Neuron(weights=[0.5, -0.2, 0.8], bias=0.1)\n",
        "\n",
        "    inputs = [1.0, 2.0, 3.0]\n",
        "\n",
        "    output = neuron.activate(inputs)\n",
        "    print(\"Результат активации:\", output)\n"
      ],
      "metadata": {
        "colab": {
          "base_uri": "https://localhost:8080/"
        },
        "id": "u3LOE827DIdu",
        "outputId": "93c8c393-5a2b-460c-d1aa-d6dad5cf254d"
      },
      "execution_count": 2,
      "outputs": [
        {
          "output_type": "stream",
          "name": "stdout",
          "text": [
            "Результат активации: 0.9308614671005278\n"
          ]
        }
      ]
    },
    {
      "cell_type": "markdown",
      "source": [
        "## Задача 2. Класс Neuron (продолжение)"
      ],
      "metadata": {
        "id": "BXPoR8av3AUx"
      }
    },
    {
      "cell_type": "markdown",
      "source": [
        "**Условие.** Используя класс Neuron из первой задачи, придумай свой пример задачи на принятие решения (по аналогии с задачей \"о рыбаке и рыбке\"), не менее 4 входных параметров, веса установить произвольно из логики задачи, произведи расчёт функций активаций, определённых в классе первой задачи."
      ],
      "metadata": {
        "id": "KLC5Gv3L3CP_"
      }
    },
    {
      "cell_type": "code",
      "source": [
        "#Напишите свое решение"
      ],
      "metadata": {
        "id": "yr-i4FFg3DAf"
      },
      "execution_count": null,
      "outputs": []
    },
    {
      "cell_type": "markdown",
      "source": [
        " **Прогнозирование успеха стартапа:**\n",
        "\n",
        "У нас есть стартап, и хотим оценить его шансы на успех. Для этого мы будем использовать нейрон, принимающий 4 входных параметра:\n",
        "\n",
        "Качество команды (оценка от 0 до 10).\n",
        "\n",
        "Идея проекта (оценка от 0 до 10).\n",
        "\n",
        "Размер инвестиций (в миллионах долларов, от 0 до 10).\n",
        "\n",
        "Конкуренция на рынке (оценка от 0 до 10, где 10 — высокая конкуренция).\n",
        "\n",
        "Вес каждого параметра будет отражать его значимость:\n",
        "\n",
        "Качество команды: 0.4\n",
        "\n",
        "Идея проекта: 0.3\n",
        "\n",
        "Размер инвестиций: 0.2\n",
        "\n",
        "Конкуренция на рынке: -0.1 (негативное влияние).\n",
        "\n",
        "И добавим смещение (bias), равное 1.0, чтобы учесть общий позитивный настрой."
      ],
      "metadata": {
        "id": "L6bmVMHz_L7c"
      }
    },
    {
      "cell_type": "code",
      "source": [
        "#использую класс Neuron из первой задачи\n",
        "class Neuron:\n",
        "    def __init__(self, weights, bias):\n",
        "        self.weights = weights\n",
        "        self.bias = bias\n",
        "\n",
        "    def weighted_sum(self, inputs):\n",
        "        result = 0\n",
        "        for i in range(len(inputs)):\n",
        "            result += self.weights[i] * inputs[i]\n",
        "        return result + self.bias\n",
        "\n",
        "    def sigmoid(self, x):\n",
        "        #Сигмоида: 1 / (1 + exp(-x))\n",
        "        return 1 / (1 + (2.71828 ** -x))\n",
        "\n",
        "    def activate(self, inputs):\n",
        "        #применяю функцию активации (сигмоида) к взвешенной сумме.\n",
        "        sum_result = self.weighted_sum(inputs)\n",
        "        return self.sigmoid(sum_result)\n",
        "\n",
        "weights = [0.4, 0.3, 0.2, -0.1]\n",
        "bias = 1.0\n",
        "neuron = Neuron(weights, bias)\n",
        "\n",
        "inputs = [8, 7, 5, 6]  # качество команды, идея, инвестиции, конкуренция\n",
        "\n",
        "output = neuron.activate(inputs)\n",
        "print(\"Вероятность успеха стартапа:\", output)\n"
      ],
      "metadata": {
        "id": "mgyNUWr_-2TG"
      },
      "execution_count": null,
      "outputs": []
    }
  ]
}