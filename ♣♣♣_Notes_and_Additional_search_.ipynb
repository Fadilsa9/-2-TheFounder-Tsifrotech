{
  "nbformat": 4,
  "nbformat_minor": 0,
  "metadata": {
    "colab": {
      "provenance": [],
      "authorship_tag": "ABX9TyNTm8FG/EXcqNFpKrdIVEid"
    },
    "kernelspec": {
      "name": "python3",
      "display_name": "Python 3"
    },
    "language_info": {
      "name": "python"
    }
  },
  "cells": [
    {
      "cell_type": "code",
      "source": [
        "IQD\n",
        "$\n",
        "₽"
      ],
      "metadata": {
        "id": "-57CyHMg2_UL"
      },
      "execution_count": null,
      "outputs": []
    },
    {
      "cell_type": "markdown",
      "source": [
        "Functions:\n",
        "\n",
        "https://monica.im/home/chat/Monica/monica?convId=conv%3A568f695b-3d7a-48de-a18a-b29a8c57b269\n",
        "\n",
        "https://www.geeksforgeeks.org/python-functions/"
      ],
      "metadata": {
        "id": "ErErBAD3nj38"
      }
    },
    {
      "cell_type": "code",
      "source": [
        "return  # returns only the last parameter\n",
        "print   # returns all parameters"
      ],
      "metadata": {
        "id": "FZUd3ZTE_v4X"
      },
      "execution_count": null,
      "outputs": []
    },
    {
      "cell_type": "markdown",
      "source": [
        "map() https://monica.im/home/chat/Monica/monica?convId=conv%3A5b300eea-9252-4905-9de0-8ae1b0c4b1a7"
      ],
      "metadata": {
        "id": "353ZefnIc6Ag"
      }
    },
    {
      "cell_type": "code",
      "source": [
        "range()    #https://www.w3schools.com/python/ref_func_range.asp\n",
        "\n",
        "len()      #https://www.w3schools.com/python/ref_func_len.asp\n",
        "\n",
        "lambda     #https://monica.im/home/chat/Monica/monica?convId=conv%3Ae09046fb-bee5-4937-9ff3-251e499a5dcb\n",
        "\n",
        "Как в питоне упорядочить по убыванию?   #https://monica.im/home/memo/9c9261c9-66ff-4161-8250-eecbf530450b\n",
        "\n",
        "Python string formatting:  #https://www.w3schools.com/python/python_string_formatting.asp\n",
        "\n",
        ".items()   #https://monica.im/home/chat/Monica/monica?convId=conv%3Abbc6a27e-ff9b-4d40-8a94-9bf7e9cc5c9b"
      ],
      "metadata": {
        "id": "x7cYfDTadkWg"
      },
      "execution_count": null,
      "outputs": []
    },
    {
      "cell_type": "code",
      "source": [
        "# Программа Python для нахождения частного и остатка\n",
        "# Python program to find the quotient and remainder\n",
        "# برنامج بايثون لإيجاد حاصل القسمة والباقي\n",
        "# حاصل القسمه والباقي\n",
        "\n",
        "# //  quotient   частного  حاصل القسمه\n",
        "# %   remainder  остаток    الباقي"
      ],
      "metadata": {
        "id": "rNlPC4OiQ5Mh"
      },
      "execution_count": null,
      "outputs": []
    },
    {
      "cell_type": "code",
      "source": [
        "# десятичный логарифм  #https://monica.im/home/chat/Monica/monica?convId=conv%3A83bd688e-6be3-4c01-9a4c-233ffbae8a70\n",
        "# //                   #https://monica.im/home/chat/Monica/monica?convId=conv%3Afef0b057-25bc-4330-a2b1-51f647d96884"
      ],
      "metadata": {
        "id": "liqotdo-SZGO"
      },
      "execution_count": null,
      "outputs": []
    },
    {
      "cell_type": "markdown",
      "source": [
        "divmod()  https://www.geeksforgeeks.org/divmod-python-application/"
      ],
      "metadata": {
        "id": "rk0olVWV7ATf"
      }
    },
    {
      "cell_type": "code",
      "source": [
        "# простые числа ارقام اوليه prime numbers\n",
        "# четные числа  ارقام زوجيه even numbers"
      ],
      "metadata": {
        "id": "z7vpKZ4PpVhG"
      },
      "execution_count": null,
      "outputs": []
    },
    {
      "cell_type": "code",
      "source": [
        "Как менять str на int в python  #https://monica.im/home/chat/Monica/monica?convId=conv%3A8bdb88f5-24a4-4bf9-91a2-9376c2ef0ed7"
      ],
      "metadata": {
        "id": "MIa8rXgQXzI-"
      },
      "execution_count": null,
      "outputs": []
    },
    {
      "cell_type": "code",
      "source": [
        "# The pass Statement\n",
        "# if statements cannot be empty, but if you for some reason have an if statement with no content, put in the pass statement to avoid getting an error.\n",
        "\n",
        "# Example\n",
        "a = 33\n",
        "b = 200\n",
        "\n",
        "if b > a:\n",
        "  pass"
      ],
      "metadata": {
        "id": "hQGdcaHvTf-K"
      },
      "execution_count": null,
      "outputs": []
    },
    {
      "cell_type": "code",
      "source": [
        "# функцию ord(), которая возвращает код символа из таблицы кодировки:\n",
        "\n",
        "print(ord(\"A\"))"
      ],
      "metadata": {
        "colab": {
          "base_uri": "https://localhost:8080/"
        },
        "id": "a19rPatdUSxa",
        "outputId": "b1b80439-23ac-42c9-cea2-f612cb8fbbb6"
      },
      "execution_count": 2,
      "outputs": [
        {
          "output_type": "stream",
          "name": "stdout",
          "text": [
            "65\n"
          ]
        }
      ]
    },
    {
      "cell_type": "code",
      "source": [
        "print(chr(65))"
      ],
      "metadata": {
        "colab": {
          "base_uri": "https://localhost:8080/"
        },
        "id": "HSwpsrnuU4ug",
        "outputId": "121a5d9e-6903-4b5e-f733-e6b27c87e7b2"
      },
      "execution_count": 1,
      "outputs": [
        {
          "output_type": "stream",
          "name": "stdout",
          "text": [
            "A\n"
          ]
        }
      ]
    },
    {
      "cell_type": "code",
      "source": [
        "# match https://monica.im/home/chat/Monica/monica?convId=conv%3A038f0bab-475b-41d8-995f-bf8e1f99644f"
      ],
      "metadata": {
        "id": "JzW4c4I7WkPk"
      },
      "execution_count": null,
      "outputs": []
    },
    {
      "cell_type": "code",
      "source": [
        "# max\n",
        "# min\n",
        "\n",
        "a = 1\n",
        "b = 2\n",
        "c = 3\n",
        "\n",
        "print(max(a, b, c))\n",
        "print(min(a, b, c))\n",
        "print(max(1, 2, 3))\n",
        "print(min(1, 2, 3))"
      ],
      "metadata": {
        "colab": {
          "base_uri": "https://localhost:8080/"
        },
        "id": "VzHzuKqCXkPz",
        "outputId": "d4abb0e0-484c-47dc-e35a-169465a49c5b"
      },
      "execution_count": null,
      "outputs": [
        {
          "output_type": "stream",
          "name": "stdout",
          "text": [
            "3\n",
            "1\n",
            "3\n",
            "1\n"
          ]
        }
      ]
    },
    {
      "cell_type": "code",
      "source": [
        "# x.isalpha()\n",
        "\n",
        "s = 'a great play'\n",
        "\n",
        "for i in s:\n",
        "  if i.isalpha():\n",
        "    print(i, end=', ')"
      ],
      "metadata": {
        "colab": {
          "base_uri": "https://localhost:8080/"
        },
        "id": "_TAVbLZLG1nH",
        "outputId": "379c381d-1f34-44a1-8178-478f72395942"
      },
      "execution_count": 2,
      "outputs": [
        {
          "output_type": "stream",
          "name": "stdout",
          "text": [
            "a, g, r, e, a, t, p, l, a, y, "
          ]
        }
      ]
    },
    {
      "cell_type": "code",
      "source": [
        "# x.isdigit()\n",
        "\n",
        "s = 'a great play'\n",
        "\n",
        "for i in s:\n",
        "  if i.isdigit():\n",
        "    print(i)\n",
        "    continue\n",
        "  print('WMWMWMWMWMWMWMWMWMWMWMWM (*_*) WMWMWMWMWMWMWMWMWMWMWMWM')"
      ],
      "metadata": {
        "colab": {
          "base_uri": "https://localhost:8080/"
        },
        "id": "bQ1VWtlLHPEW",
        "outputId": "2f3741a1-653c-4455-9fb0-9c14777cfe15"
      },
      "execution_count": 10,
      "outputs": [
        {
          "output_type": "stream",
          "name": "stdout",
          "text": [
            "WMWMWMWMWMWMWMWMWMWMWMWM (*_*) WMWMWMWMWMWMWMWMWMWMWMWM\n",
            "WMWMWMWMWMWMWMWMWMWMWMWM (*_*) WMWMWMWMWMWMWMWMWMWMWMWM\n",
            "WMWMWMWMWMWMWMWMWMWMWMWM (*_*) WMWMWMWMWMWMWMWMWMWMWMWM\n",
            "WMWMWMWMWMWMWMWMWMWMWMWM (*_*) WMWMWMWMWMWMWMWMWMWMWMWM\n",
            "WMWMWMWMWMWMWMWMWMWMWMWM (*_*) WMWMWMWMWMWMWMWMWMWMWMWM\n",
            "WMWMWMWMWMWMWMWMWMWMWMWM (*_*) WMWMWMWMWMWMWMWMWMWMWMWM\n",
            "WMWMWMWMWMWMWMWMWMWMWMWM (*_*) WMWMWMWMWMWMWMWMWMWMWMWM\n",
            "WMWMWMWMWMWMWMWMWMWMWMWM (*_*) WMWMWMWMWMWMWMWMWMWMWMWM\n",
            "WMWMWMWMWMWMWMWMWMWMWMWM (*_*) WMWMWMWMWMWMWMWMWMWMWMWM\n",
            "WMWMWMWMWMWMWMWMWMWMWMWM (*_*) WMWMWMWMWMWMWMWMWMWMWMWM\n",
            "WMWMWMWMWMWMWMWMWMWMWMWM (*_*) WMWMWMWMWMWMWMWMWMWMWMWM\n",
            "WMWMWMWMWMWMWMWMWMWMWMWM (*_*) WMWMWMWMWMWMWMWMWMWMWMWM\n"
          ]
        }
      ]
    }
  ]
}