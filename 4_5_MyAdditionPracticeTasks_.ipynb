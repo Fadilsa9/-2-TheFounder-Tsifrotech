{
  "nbformat": 4,
  "nbformat_minor": 0,
  "metadata": {
    "colab": {
      "provenance": [],
      "authorship_tag": "ABX9TyPj1Tr8EMv2VQkzNvzgqPLx"
    },
    "kernelspec": {
      "name": "python3",
      "display_name": "Python 3"
    },
    "language_info": {
      "name": "python"
    }
  },
  "cells": [
    {
      "cell_type": "markdown",
      "source": [
        "FUNCTIONS, CLASSES AND OBJECTS. SOFTWARE MODELS"
      ],
      "metadata": {
        "id": "0hc9P0rBhzEU"
      }
    },
    {
      "cell_type": "code",
      "execution_count": null,
      "metadata": {
        "colab": {
          "base_uri": "https://localhost:8080/"
        },
        "id": "P2_6CmyV-Ukd",
        "outputId": "2cc9e19a-4356-4484-c80a-dfd0f2f66d64"
      },
      "outputs": [
        {
          "output_type": "stream",
          "name": "stdout",
          "text": [
            " *  *  *  *  *  * \n",
            " *              * \n",
            " *              * \n",
            " *              * \n",
            " *              * \n",
            " *              * \n",
            " *              * \n",
            " *  *  *  *  *  * \n"
          ]
        }
      ],
      "source": [
        "# Рисуем прямоугольник\n",
        "\n",
        "def drawRectangle(width, hight):\n",
        "    if width > 2 and hight > 2:\n",
        "        print(' * ' * width)\n",
        "        for i in range(hight - 2):\n",
        "            print(' * ' + '   ' * (width - 2) + ' * ')\n",
        "        print(' * ' * width)\n",
        "\n",
        "drawRectangle(6, 8)"
      ]
    },
    {
      "cell_type": "code",
      "source": [
        "def rectangle(width, hight):\n",
        "    if width > 2 and hight > 2:\n",
        "\n",
        "        # Рисуем верхнюю линию прямоугольника\n",
        "        print(' $ ' * width)\n",
        "\n",
        "        # Рисуем стороны прямоугольника\n",
        "        for i in range(hight - 2):\n",
        "            print(' $ ' + '   ' * (width - 2) + ' $ ')\n",
        "\n",
        "        # Рисуем верхнюю линию прямоугольника\n",
        "        print(' $ ' * width)\n",
        "\n",
        "rectangle(6, 8)"
      ],
      "metadata": {
        "colab": {
          "base_uri": "https://localhost:8080/"
        },
        "id": "jmCXr0UKL-HQ",
        "outputId": "336e9acd-5fc9-4680-fde5-794b6695ef80"
      },
      "execution_count": null,
      "outputs": [
        {
          "output_type": "stream",
          "name": "stdout",
          "text": [
            " $  $  $  $  $  $ \n",
            " $              $ \n",
            " $              $ \n",
            " $              $ \n",
            " $              $ \n",
            " $              $ \n",
            " $              $ \n",
            " $  $  $  $  $  $ \n"
          ]
        }
      ]
    },
    {
      "cell_type": "code",
      "source": [
        "# Вывод информации о пользователе\n",
        "\n",
        "# Создать функцию, которая принимает произвольное количество\n",
        "# именованных аргументов и выводит их в формате \"ключ: значение\".\n",
        "\n",
        "def info(**kwargs):\n",
        "  for key, value in kwargs.items():\n",
        "    print(f'{key}: {value}')\n",
        "\n",
        "# print(f'Fill your informations: ', name='Ahmed', city='Baghdad', job='System administrator', salary='1000$')\n",
        "info(name='Ahmed', city='Baghdad', job='System administrator', salary='1000$')\n"
      ],
      "metadata": {
        "id": "ZolXy6B0um2L",
        "colab": {
          "base_uri": "https://localhost:8080/"
        },
        "outputId": "1fcdb20f-d2e3-4ed5-b6df-bedab71a7651"
      },
      "execution_count": null,
      "outputs": [
        {
          "output_type": "stream",
          "name": "stdout",
          "text": [
            "name: Ahmed\n",
            "city: Baghdad\n",
            "job: System administrator\n",
            "salary: 1000$\n"
          ]
        }
      ]
    },
    {
      "cell_type": "markdown",
      "source": [
        "Смотрим является ли число простым"
      ],
      "metadata": {
        "id": "mVz74m_QFBlI"
      }
    },
    {
      "cell_type": "code",
      "source": [
        "# Функция проверяет, является ли число простым.В случае, если число простое - вернет True, иначе вернет False\n",
        "\n",
        "def isPrime(n):\n",
        "# 1-\n",
        "    if n <= 1:\n",
        "        return False\n",
        "    # Проверяем все числа от 2 до n, не включая его, на деленеие n на них без остатка\n",
        "# 2-\n",
        "    for i in range(2, n):\n",
        "      if n % i == 0:\n",
        "          return False\n",
        "# 3-\n",
        "    return True\n",
        "\n",
        "\n",
        "value = int(input(\"Введите целое число: \"))\n",
        "if isPrime(value):\n",
        "    # return f'{value} -простое число.'\n",
        "    print(value, 'is a prime number')\n",
        "else:\n",
        "    # return f'{value} -не является простое число'\n",
        "    print(value, 'is not a prime number')"
      ],
      "metadata": {
        "colab": {
          "base_uri": "https://localhost:8080/"
        },
        "id": "IW63uVYhQ9sG",
        "outputId": "4b262133-1e6d-46c3-93e5-bd434b9f0515"
      },
      "execution_count": null,
      "outputs": [
        {
          "output_type": "stream",
          "name": "stdout",
          "text": [
            "Введите целое число: 13\n",
            "13 is a prime number\n"
          ]
        }
      ]
    },
    {
      "cell_type": "code",
      "source": [
        "def intro(**kwargs):\n",
        "    print()\n",
        "    print('Тип данных kwargs: ', type(kwargs))\n",
        "    print(kwargs.items())\n",
        "    if 'firstname' in kwargs:\n",
        "        print('Имя:', kwargs['firstname'])\n",
        "    for key, value in kwargs.items():\n",
        "        print(\"{} is {}\".format(key, value))\n",
        "\n",
        "intro(firstname='Ahmed', lastname='Fadilsa', age=22)\n",
        "intro(name='Ali', job='coder', city='Baghdad', salary=5000)"
      ],
      "metadata": {
        "colab": {
          "base_uri": "https://localhost:8080/"
        },
        "id": "Ws14UnBmLW2M",
        "outputId": "b3dd80c1-268c-425a-f262-1979f19b86bb"
      },
      "execution_count": null,
      "outputs": [
        {
          "output_type": "stream",
          "name": "stdout",
          "text": [
            "\n",
            "Тип данных kwargs:  <class 'dict'>\n",
            "dict_items([('firstname', 'Ahmed'), ('lastname', 'Fadilsa'), ('age', 22)])\n",
            "Имя: Ahmed\n",
            "firstname is Ahmed\n",
            "lastname is Fadilsa\n",
            "age is 22\n",
            "\n",
            "Тип данных kwargs:  <class 'dict'>\n",
            "dict_items([('name', 'Ali'), ('job', 'coder'), ('city', 'Baghdad'), ('salary', 5000)])\n",
            "name is Ali\n",
            "job is coder\n",
            "city is Baghdad\n",
            "salary is 5000\n"
          ]
        }
      ]
    },
    {
      "cell_type": "markdown",
      "source": [
        "Проверка пароля на надежность"
      ],
      "metadata": {
        "id": "vAflBMCB0UVf"
      }
    },
    {
      "cell_type": "code",
      "source": [
        "def checkPassword(password):\n",
        "    has_upper = False\n",
        "    has_lower = False\n",
        "    has_num = False\n",
        "\n",
        "    for ch in password:\n",
        "        if ch >= \"A\" and ch <= \"Z\":\n",
        "            has_upper = True\n",
        "        if ch >= \"a\" and ch <= \"z\":\n",
        "            has_lower = True\n",
        "        if has_num >= \"0\" and has_num <= \"9\":\n",
        "            has_num = True\n",
        "\n",
        "    if len(password) >= 8 and has_upper and has_lower and has_num:\n",
        "        return True\n",
        "    else:\n",
        "        return False"
      ],
      "metadata": {
        "id": "4KHM8_wX0UBH"
      },
      "execution_count": null,
      "outputs": []
    },
    {
      "cell_type": "code",
      "source": [
        "def main():\n",
        "\n",
        "    p = input(\"Введите пароль: \")\n",
        "    if checkPassword(p):\n",
        "        print(\"Это надежный пароль!\")\n",
        "    else:\n",
        "        print(\"Это ненадежный пароль!\")\n",
        "\n",
        "if __name__ == \"__main__\":\n",
        "    main()"
      ],
      "metadata": {
        "colab": {
          "base_uri": "https://localhost:8080/"
        },
        "id": "jEdYzbJm3Yk8",
        "outputId": "2ab605b5-88b3-4840-d3f9-d05c074b2b59"
      },
      "execution_count": null,
      "outputs": [
        {
          "output_type": "stream",
          "name": "stdout",
          "text": [
            "Введите пароль: 99sSs$$$$*$*$$$$xXxXx\n",
            "Это надежный пароль!\n"
          ]
        }
      ]
    },
    {
      "cell_type": "markdown",
      "source": [
        "Упражнение 3. Автомобиль"
      ],
      "metadata": {
        "id": "EUDz8sK18oY5"
      }
    },
    {
      "cell_type": "markdown",
      "source": [
        "**Условие.** Создайте класс автомобиль и сохраните его в виде программного модуля. Импортируете класс и инициализируйте новый объект. Минимальный набор атрибутов: \"марка\", \"вес\", \"мощность\". Объявите методы: \"движение вперед\", \"поворот направо\", \"поворот налево\", \"тормоз\", \"посигналить\"."
      ],
      "metadata": {
        "id": "HLGag-8I3gwj"
      }
    },
    {
      "cell_type": "code",
      "source": [
        "%%writefile"
      ],
      "metadata": {
        "id": "8g07V5Vb3YtR"
      },
      "execution_count": null,
      "outputs": []
    },
    {
      "cell_type": "code",
      "source": [
        "class Car():\n",
        "    Name_Class = 'Cars'\n",
        "\n",
        "    # Attributes\n",
        "    def __init__ (self, mark, wight, power):\n",
        "        self.mark = mark\n",
        "        self.wight = wight\n",
        "        self.power = power\n",
        "\n",
        "    # Methods\n",
        "    def move_forward(self):\n",
        "        print(\"It's moving forward.\")\n",
        "    def turn_right(self):\n",
        "        print(\"It's turning right.\")\n",
        "    def turn_left(self):\n",
        "        print(\"It's turning left.\")\n",
        "    def brake(self):\n",
        "        print(\"It's braking.\")\n",
        "    def honk(self):\n",
        "        print(\"It's honking.\")\n",
        "\n",
        "#------\n",
        "my_car = Car('BMW', '5 ton', '16 horses')\n",
        "print(my_car.Name_Class)\n",
        "print(my_car.mark)\n",
        "print(my_car.wight)\n",
        "print(my_car.power)"
      ],
      "metadata": {
        "id": "hyjJhl3_3Y01",
        "colab": {
          "base_uri": "https://localhost:8080/"
        },
        "outputId": "37cdf815-6e02-4a6d-a169-67e9129162d7"
      },
      "execution_count": null,
      "outputs": [
        {
          "output_type": "stream",
          "name": "stdout",
          "text": [
            "Cars\n",
            "BMW\n",
            "5 ton\n",
            "16 horses\n"
          ]
        }
      ]
    },
    {
      "cell_type": "code",
      "source": [
        "def funDic(**kwargs):\n",
        "    print(kwargs.items())\n",
        "\n",
        "funDic(n1='One', n2='Two', n3='Three')"
      ],
      "metadata": {
        "colab": {
          "base_uri": "https://localhost:8080/"
        },
        "id": "amnelFgsTjlK",
        "outputId": "7b986c84-64de-4260-cfd9-9e46cd648727"
      },
      "execution_count": null,
      "outputs": [
        {
          "output_type": "stream",
          "name": "stdout",
          "text": [
            "dict_items([('n1', 'One'), ('n2', 'Two'), ('n3', 'Three')])\n"
          ]
        }
      ]
    },
    {
      "cell_type": "code",
      "source": [
        "def fun(name, age):\n",
        "    # return name, age\n",
        "    print(name, age)\n",
        "\n",
        "# print(fun('Fadilsa', 22))\n",
        "value = fun('Fadilsa', 22)\n",
        "# print(value)"
      ],
      "metadata": {
        "colab": {
          "base_uri": "https://localhost:8080/"
        },
        "id": "piv2OMI2-nzA",
        "outputId": "8414c6b4-3b65-4a8b-d4c6-ae7ffdf7813b"
      },
      "execution_count": null,
      "outputs": [
        {
          "output_type": "stream",
          "name": "stdout",
          "text": [
            "Fadilsa 22\n"
          ]
        }
      ]
    },
    {
      "cell_type": "code",
      "source": [
        "def fun(lst):\n",
        "  lst.append(99)\n",
        "\n",
        "my_list = [1, 2, 3, 4, 5]\n",
        "fun(my_list)\n",
        "print(my_list)"
      ],
      "metadata": {
        "colab": {
          "base_uri": "https://localhost:8080/"
        },
        "id": "lfn2SxTz_VW2",
        "outputId": "db136a89-efca-4a4d-f61a-48b367963d44"
      },
      "execution_count": null,
      "outputs": [
        {
          "output_type": "stream",
          "name": "stdout",
          "text": [
            "[1, 2, 3, 4, 5, 99]\n"
          ]
        }
      ]
    },
    {
      "cell_type": "code",
      "source": [
        "numbers = [1, 2, 3, 4, 5]\n",
        "sq_nums = list(map(lambda x: x ** 2, numbers))\n",
        "print(sq_nums)"
      ],
      "metadata": {
        "colab": {
          "base_uri": "https://localhost:8080/"
        },
        "id": "tIx2YpRhfmND",
        "outputId": "30735175-5de9-42db-eb6d-a3e3ae5314c9"
      },
      "execution_count": null,
      "outputs": [
        {
          "output_type": "stream",
          "name": "stdout",
          "text": [
            "[1, 4, 9, 16, 25]\n"
          ]
        }
      ]
    },
    {
      "cell_type": "code",
      "source": [
        "numsList = [1, 2, 3, 4, 5]\n",
        "x = list(map(lambda x: x ** 2, numsList))\n",
        "print(x)"
      ],
      "metadata": {
        "colab": {
          "base_uri": "https://localhost:8080/"
        },
        "id": "xigSkWtcgXgc",
        "outputId": "9432ded0-84cf-4d8f-ec13-2d5b4c53b873"
      },
      "execution_count": null,
      "outputs": [
        {
          "output_type": "stream",
          "name": "stdout",
          "text": [
            "[1, 4, 9, 16, 25]\n"
          ]
        }
      ]
    },
    {
      "cell_type": "code",
      "source": [
        "seq = (1, 2, 3, 4, 5, 6, 7, 8, 9) # Обратите внимание, что мы передаем последовательности разной длины\n",
        "seq2 = (5, 6, 7, 8, 9, 0)\n",
        "res = map(lambda x, y: x * y, seq, seq2)\n",
        "print(res)\n",
        "print(list(res))"
      ],
      "metadata": {
        "colab": {
          "base_uri": "https://localhost:8080/"
        },
        "id": "BLx9Yq9Mhnq1",
        "outputId": "265850b0-68f7-48c8-d560-05df4a224135"
      },
      "execution_count": null,
      "outputs": [
        {
          "output_type": "stream",
          "name": "stdout",
          "text": [
            "<map object at 0x79ad91155570>\n",
            "[5, 12, 21, 32, 45, 0]\n"
          ]
        }
      ]
    },
    {
      "cell_type": "code",
      "source": [
        "nums = [1, 2, 3, 4, 5, 8, 16] # Фильтруем четные числа\n",
        "filter_nums = filter(lambda x: x % 2 == 0, nums)\n",
        "print(list(filter_nums))"
      ],
      "metadata": {
        "colab": {
          "base_uri": "https://localhost:8080/"
        },
        "id": "iyFQebAniROq",
        "outputId": "5473633f-8745-485f-ea89-fa3bf49d6dfc"
      },
      "execution_count": null,
      "outputs": [
        {
          "output_type": "stream",
          "name": "stdout",
          "text": [
            "[2, 4, 8, 16]\n"
          ]
        }
      ]
    },
    {
      "cell_type": "code",
      "source": [
        "from functools import reduce\n",
        "nums = [1, 2, 3, 4, 5]\n",
        "sum_nums = reduce(lambda x, y: x + y, nums)\n",
        "print('Sum of number:', sum_nums)"
      ],
      "metadata": {
        "colab": {
          "base_uri": "https://localhost:8080/"
        },
        "id": "I_-x9ZxCqp0p",
        "outputId": "bfbd5c92-bd71-4d42-8f19-d64447069d9c"
      },
      "execution_count": null,
      "outputs": [
        {
          "output_type": "stream",
          "name": "stdout",
          "text": [
            "Sum of number: 15\n"
          ]
        }
      ]
    },
    {
      "cell_type": "code",
      "source": [
        "# Функция, возвращающая другую функцию\n",
        "\n",
        "def nums(n):\n",
        "    return lambda x: x * n\n",
        "\n",
        "double = nums(9)\n",
        "triple = nums(11)\n",
        "\n",
        "print(double(2))\n",
        "print(triple(3))"
      ],
      "metadata": {
        "colab": {
          "base_uri": "https://localhost:8080/"
        },
        "id": "uZMP37r7W8SJ",
        "outputId": "bd41dafb-7fc4-4420-eb44-1316c60ca3b7"
      },
      "execution_count": null,
      "outputs": [
        {
          "output_type": "stream",
          "name": "stdout",
          "text": [
            "18\n",
            "33\n"
          ]
        }
      ]
    },
    {
      "cell_type": "code",
      "source": [
        "# class person:\n",
        "#     # Атрибут класса\n",
        "#     personType = \"wise man\"\n",
        "\n",
        "#     # Метод __init__ используется для инициализации объектов\n",
        "#     def __init__(self, name, age):\n",
        "#         self.name = name  # Атрибут объекта\n",
        "#         self.age = age    # Атрибут объекта\n",
        "\n",
        "#     # Метод класса\n",
        "#     def greet(self):\n",
        "#         return f\"Hi, my name is {self.name} and I am {self.age} years old\"\n",
        "\n",
        "#     person1 = person('Fadilsa', 27)\n",
        "#     person2 = person('Ali', 22)\n",
        "\n",
        "#     print(person1.name)\n",
        "#     print(person2.greet())"
      ],
      "metadata": {
        "id": "0faCbfmNW-_b"
      },
      "execution_count": null,
      "outputs": []
    },
    {
      "cell_type": "code",
      "source": [
        "class person:\n",
        "    # attribute\n",
        "    personType = \"wise man\"\n",
        "\n",
        "    # metod to make object\n",
        "    def __init__(self, name, age):\n",
        "        self.name = name  # attribute\n",
        "        self.age = age    # attribute\n",
        "\n",
        "    # class method\n",
        "    def greet(self):\n",
        "        return f\"Hi, my name is {self.name} and I am {self.age} years old\"\n",
        "\n",
        "    # make object\n",
        "    person1 = person('ahmed', 27)\n",
        "    person2 = person('fadilsa', 70)\n",
        "\n",
        "    print(person1.name)\n",
        "    print(person2.greet())"
      ],
      "metadata": {
        "id": "qviTciP9W_E6",
        "colab": {
          "base_uri": "https://localhost:8080/"
        },
        "outputId": "01d99ed7-b4fc-4295-eb4f-ecccf0248a33"
      },
      "execution_count": null,
      "outputs": [
        {
          "output_type": "stream",
          "name": "stdout",
          "text": [
            "ahmed\n",
            "Hi, my name is fadilsa and I am 70 years old\n"
          ]
        }
      ]
    },
    {
      "cell_type": "code",
      "source": [
        "class MathOperations:\n",
        "\n",
        "    def add(self, a, b):\n",
        "        return a + b\n",
        "\n",
        "    @classmethod\n",
        "    def multiplay(cls, a, b):\n",
        "        return a * b\n",
        "\n",
        "    @staticmethod\n",
        "    def subtract(a, b):\n",
        "        return a - b\n",
        "\n",
        "\n",
        "math = MathOperations()\n",
        "print(math.add(3, 5))\n",
        "print(math.multiplay(3, 4))\n",
        "print(math.subtract(5, 3))"
      ],
      "metadata": {
        "id": "R8ZNt3bqW_Jn",
        "colab": {
          "base_uri": "https://localhost:8080/"
        },
        "outputId": "8b1e9603-91d7-487a-a298-fe95cff55930"
      },
      "execution_count": null,
      "outputs": [
        {
          "output_type": "stream",
          "name": "stdout",
          "text": [
            "8\n",
            "12\n",
            "2\n"
          ]
        }
      ]
    },
    {
      "cell_type": "code",
      "source": [
        "class Cat:\n",
        "    Name_Class = 'Кошки'\n",
        "\n",
        "    # Атрубуты\n",
        "    def __init__ (self, wool_color, eyes_color, name):\n",
        "        self.wool_color = wool_color\n",
        "        self.eyes_color = eyes_color\n",
        "        self.name = name\n",
        "\n",
        "    # Методы\n",
        "    def purr(self):\n",
        "        print('Myyyr')\n",
        "    def hiss(self):\n",
        "        print('Shhh')\n",
        "    def scrabble(self):\n",
        "        print('Tsap-Tsarap')\n",
        "\n",
        "my_cat = Cat('Белая', 'Зеленые', 'Мурка')\n",
        "print(\"Наименование класса - \", my_cat.Name_Class)\n",
        "print(\"Вот наша кошка:\")\n",
        "print(\"Цвет шерсти - \", my_cat.wool_color)\n",
        "print(\"Цвет глаз - \", my_cat.eyes_color)\n",
        "print(\"Кличка - \", my_cat.name)"
      ],
      "metadata": {
        "id": "rwauBKa4W_Nz",
        "colab": {
          "base_uri": "https://localhost:8080/"
        },
        "outputId": "850d79eb-ea3f-47f6-a603-b8248a5a62f8"
      },
      "execution_count": null,
      "outputs": [
        {
          "output_type": "stream",
          "name": "stdout",
          "text": [
            "Наименование класса -  Кошки\n",
            "Вот наша кошка:\n",
            "Цвет шерсти -  Белая\n",
            "Цвет глаз -  Зеленые\n",
            "Кличка -  Мурка\n"
          ]
        }
      ]
    },
    {
      "cell_type": "code",
      "source": [
        "### Класс\n",
        "class Cat:\n",
        "    Name_Class = 'Кошки'\n",
        "\n",
        "    ### Атрибуты\n",
        "    # Действия, которые надо выполнять при создании объекта \"Кошка\"\n",
        "    def __init__ (self, wool_color, eyes_color, name):\n",
        "        self.wool_color = wool_color\n",
        "        self.eyes_color = eyes_color\n",
        "        self.name = name\n",
        "\n",
        "    ### Методы\n",
        "    # Мурлыкать\n",
        "    def purr(self):\n",
        "        print(\"Myppp!\")\n",
        "\n",
        "    # Шипеть\n",
        "    def hiss (self) :\n",
        "        print(\"Шшшш!\")\n",
        "\n",
        "    # Царапаться\n",
        "    def scrabble(self):\n",
        "        print(\"Цап-царап!\")\n",
        "\n",
        "### Объект\n",
        "my_cat = Cat('Белая', 'Зеленые', 'Мурка')\n",
        "\n",
        "print(\"Наименование класса - \", my_cat.Name_Class)\n",
        "print(\"Вот наша кошка:\")\n",
        "print(\"Цвет шерсти - \", my_cat.wool_color)\n",
        "print(\"Цвет глаз - \", my_cat.eyes_color)\n",
        "print(\"Кличка - \", my_cat.name)"
      ],
      "metadata": {
        "colab": {
          "base_uri": "https://localhost:8080/"
        },
        "id": "b6un65sfzejQ",
        "outputId": "9ebfff50-932e-48a9-ebd3-5b57ec7a8cb4"
      },
      "execution_count": null,
      "outputs": [
        {
          "output_type": "stream",
          "name": "stdout",
          "text": [
            "Наименование класса -  Кошки\n",
            "Вот наша кошка:\n",
            "Цвет шерсти -  Белая\n",
            "Цвет глаз -  Зеленые\n",
            "Кличка -  Мурка\n"
          ]
        }
      ]
    },
    {
      "cell_type": "code",
      "source": [
        "import random\n",
        "\n",
        "def generate_password():\n",
        "    password_length = random.randint(7, 10)\n",
        "    password = ''.join(chr(random.randint(33, 126)) for _ in range(password_length))\n",
        "    return password\n",
        "\n",
        "if __name__ == \"__main__\":\n",
        "    print('RANDOMPASSWORD:', generate_password())"
      ],
      "metadata": {
        "id": "RJdkKHyszerb",
        "colab": {
          "base_uri": "https://localhost:8080/"
        },
        "outputId": "e461f0fd-54e2-4d77-ce1f-f846938faa37"
      },
      "execution_count": null,
      "outputs": [
        {
          "output_type": "stream",
          "name": "stdout",
          "text": [
            "RANDOM PASSWORD: j^Q\"|LEI\n"
          ]
        }
      ]
    },
    {
      "cell_type": "markdown",
      "source": [
        "\n",
        "\n",
        "---\n",
        "\n"
      ],
      "metadata": {
        "id": "ak4RGOml3btI"
      }
    },
    {
      "cell_type": "code",
      "source": [
        "from random import randint\n",
        "\n",
        "def randomPassword():\n",
        "    randomLength = randint(7, 10)\n",
        "\n",
        "    result = \"\"\n",
        "    for i in range(randomLength):\n",
        "        randomChar = chr(randint(33, 126))\n",
        "        result = result + randomChar\n",
        "\n",
        "    return result\n",
        "\n",
        "def main():\n",
        "    print('Random Password =====>>>', randomPassword())\n",
        "\n",
        "if __name__ == \"__main__\":\n",
        "    main()"
      ],
      "metadata": {
        "id": "FLBem1DqzfFg",
        "colab": {
          "base_uri": "https://localhost:8080/"
        },
        "outputId": "92efe027-9f19-4a31-b446-5b5793262d15"
      },
      "execution_count": null,
      "outputs": [
        {
          "output_type": "stream",
          "name": "stdout",
          "text": [
            "Random Password =====>>> !2$5I<*&g\n"
          ]
        }
      ]
    },
    {
      "cell_type": "code",
      "source": [
        "from random import randint\n",
        "\n",
        "def randomPassword():\n",
        "    randomLength = randint(7, 10)\n",
        "    result = \"\"\n",
        "\n",
        "    for i in range(randomLength):\n",
        "        randomChar = chr(randint(33, 126))"
      ],
      "metadata": {
        "id": "XBnSIVNRpAy2"
      },
      "execution_count": null,
      "outputs": []
    },
    {
      "cell_type": "markdown",
      "source": [
        "\n",
        "\n",
        "---\n",
        "\n"
      ],
      "metadata": {
        "id": "FyAtCg_H3f5b"
      }
    },
    {
      "cell_type": "code",
      "source": [
        "def factorial(n):\n",
        "    # Базовый случай\n",
        "    if n == 0:\n",
        "        return 1\n",
        "    # Рекурсивный случай\n",
        "    else:\n",
        "        return n * factorial(n - 1)\n",
        "\n",
        "# Пример вызова\n",
        "print(factorial(5))  # Вывод: 120"
      ],
      "metadata": {
        "id": "nh6N9liVzfM1",
        "colab": {
          "base_uri": "https://localhost:8080/"
        },
        "outputId": "4ee5c873-610f-4f2a-87c6-d2671efd8219"
      },
      "execution_count": null,
      "outputs": [
        {
          "output_type": "stream",
          "name": "stdout",
          "text": [
            "120\n"
          ]
        }
      ]
    },
    {
      "cell_type": "code",
      "source": [
        "import random\n",
        "\n",
        "def generate_password():\n",
        "    passwordLength = random.randint(7, 10)\n",
        "\n",
        "    password = \"\".join(chr(random.randint(33, 126)) for _ in range(passwordLength))\n",
        "    return password\n",
        "\n",
        "if __name__ == \"__main__\":\n",
        "    print(\"Random password ===================>>>>>\", generate_password())\n",
        "    print(\"Random password ===================>>>>>\", generate_password())\n",
        "    print(\"Random password ===================>>>>>\", generate_password())\n",
        "    print(\"Random password ===================>>>>>\", generate_password())\n",
        "    print(\"Random password ===================>>>>>\", generate_password())\n",
        "    print(\"Random password ===================>>>>>\", generate_password())\n",
        "    print(\"Random password ===================>>>>>\", generate_password())\n",
        "    print(\"Random password ===================>>>>>\", generate_password())\n",
        "    print(\"Random password ===================>>>>>\", generate_password())\n",
        "    print(\"Random password ===================>>>>>\", generate_password())\n",
        "    print(\"Random password ===================>>>>>\", generate_password())\n",
        "    print(\"Random password ===================>>>>>\", generate_password())\n",
        "    print(\"Random password ===================>>>>>\", generate_password())\n",
        "\n"
      ],
      "metadata": {
        "id": "E7Nyczv8v5V0",
        "colab": {
          "base_uri": "https://localhost:8080/"
        },
        "outputId": "1efaad1d-edbe-45eb-ca84-04054aefdb59"
      },
      "execution_count": null,
      "outputs": [
        {
          "output_type": "stream",
          "name": "stdout",
          "text": [
            "Random password ===================>>>>> ?.]$7\"n\n",
            "Random password ===================>>>>> aoJ<u.6X\n",
            "Random password ===================>>>>> S]wk`TZ2I\n",
            "Random password ===================>>>>> a!XWGs@\n",
            "Random password ===================>>>>> 3?w4^Tl9+~\n",
            "Random password ===================>>>>> '@f.~+o5(\n",
            "Random password ===================>>>>> c'%\"@C~\n",
            "Random password ===================>>>>> )W}qx>o$\n",
            "Random password ===================>>>>> <]!6y]@\n",
            "Random password ===================>>>>> D[l<Zwp/BC\n",
            "Random password ===================>>>>> :H,75kn6vE\n",
            "Random password ===================>>>>> e\\.7eZt\n",
            "Random password ===================>>>>> /5:~JH)1\n"
          ]
        }
      ]
    },
    {
      "cell_type": "code",
      "source": [
        "# @title Необходимые функции\n",
        "!pip install jax==0.4.23 jaxlib==0.4.23\n",
        "!pip -q install diffusers\n",
        "!pip -q install transformers scipy ftfy accelerate\n",
        "!pip -q install \"ipywidgets>=7,<8\"\n",
        "import torch\n",
        "from diffusers import StableDiffusionPipeline\n",
        "from PIL import Image\n",
        "\n",
        "from google.colab import output\n",
        "output.enable_custom_widget_manager()\n",
        "\n",
        "stableDiffusion = StableDiffusionPipeline.from_pretrained(\"CompVis/stable-diffusion-v1-4\", revision=\"fp16\", torch_dtype=torch.float16)\n",
        "stableDiffusion = stableDiffusion.to(\"cuda\")\n",
        "\n",
        "\n",
        "def createImagesStableDiffusion(prompt='', rows=2, cols=2, iteration=20):\n",
        "  # Запускаем генерацию\n",
        "  images =  stableDiffusion([prompt] * (rows*cols), num_inference_steps=iteration).images\n",
        "  w, h = images[0].size\n",
        "  grid = Image.new('RGB', size=(cols*w, rows*h))\n",
        "  grid_w, grid_h = grid.size\n",
        "\n",
        "  for i, img in enumerate(images):\n",
        "      grid.paste(img, box=(i%cols*w, i//cols*h))\n",
        "  display(grid)"
      ],
      "metadata": {
        "colab": {
          "base_uri": "https://localhost:8080/",
          "height": 1000
        },
        "id": "tlNoY-kUVJpH",
        "outputId": "5fb83c91-af01-4f0e-868e-b84e15096c6b"
      },
      "execution_count": null,
      "outputs": [
        {
          "output_type": "stream",
          "name": "stdout",
          "text": [
            "Collecting jax==0.4.23\n",
            "  Downloading jax-0.4.23-py3-none-any.whl.metadata (24 kB)\n",
            "Collecting jaxlib==0.4.23\n",
            "  Downloading jaxlib-0.4.23-cp311-cp311-manylinux2014_x86_64.whl.metadata (2.1 kB)\n",
            "Requirement already satisfied: ml-dtypes>=0.2.0 in /usr/local/lib/python3.11/dist-packages (from jax==0.4.23) (0.4.1)\n",
            "Requirement already satisfied: numpy>=1.22 in /usr/local/lib/python3.11/dist-packages (from jax==0.4.23) (1.26.4)\n",
            "Requirement already satisfied: opt-einsum in /usr/local/lib/python3.11/dist-packages (from jax==0.4.23) (3.4.0)\n",
            "Requirement already satisfied: scipy>=1.9 in /usr/local/lib/python3.11/dist-packages (from jax==0.4.23) (1.13.1)\n",
            "Downloading jax-0.4.23-py3-none-any.whl (1.7 MB)\n",
            "\u001b[2K   \u001b[90m━━━━━━━━━━━━━━━━━━━━━━━━━━━━━━━━━━━━━━━━\u001b[0m \u001b[32m1.7/1.7 MB\u001b[0m \u001b[31m29.4 MB/s\u001b[0m eta \u001b[36m0:00:00\u001b[0m\n",
            "\u001b[?25hDownloading jaxlib-0.4.23-cp311-cp311-manylinux2014_x86_64.whl (77.2 MB)\n",
            "\u001b[2K   \u001b[90m━━━━━━━━━━━━━━━━━━━━━━━━━━━━━━━━━━━━━━━━\u001b[0m \u001b[32m77.2/77.2 MB\u001b[0m \u001b[31m7.9 MB/s\u001b[0m eta \u001b[36m0:00:00\u001b[0m\n",
            "\u001b[?25hInstalling collected packages: jaxlib, jax\n",
            "  Attempting uninstall: jaxlib\n",
            "    Found existing installation: jaxlib 0.4.33\n",
            "    Uninstalling jaxlib-0.4.33:\n",
            "      Successfully uninstalled jaxlib-0.4.33\n",
            "  Attempting uninstall: jax\n",
            "    Found existing installation: jax 0.4.33\n",
            "    Uninstalling jax-0.4.33:\n",
            "      Successfully uninstalled jax-0.4.33\n",
            "\u001b[31mERROR: pip's dependency resolver does not currently take into account all the packages that are installed. This behaviour is the source of the following dependency conflicts.\n",
            "orbax-checkpoint 0.6.4 requires jax>=0.4.26, but you have jax 0.4.23 which is incompatible.\n",
            "flax 0.10.2 requires jax>=0.4.27, but you have jax 0.4.23 which is incompatible.\n",
            "optax 0.2.4 requires jax>=0.4.27, but you have jax 0.4.23 which is incompatible.\n",
            "optax 0.2.4 requires jaxlib>=0.4.27, but you have jaxlib 0.4.23 which is incompatible.\n",
            "chex 0.1.88 requires jax>=0.4.27, but you have jax 0.4.23 which is incompatible.\n",
            "chex 0.1.88 requires jaxlib>=0.4.27, but you have jaxlib 0.4.23 which is incompatible.\u001b[0m\u001b[31m\n",
            "\u001b[0mSuccessfully installed jax-0.4.23 jaxlib-0.4.23\n",
            "\u001b[2K   \u001b[90m━━━━━━━━━━━━━━━━━━━━━━━━━━━━━━━━━━━━━━━━\u001b[0m \u001b[32m44.8/44.8 kB\u001b[0m \u001b[31m2.3 MB/s\u001b[0m eta \u001b[36m0:00:00\u001b[0m\n",
            "\u001b[2K   \u001b[90m━━━━━━━━━━━━━━━━━━━━━━━━━━━━━━━━━━━━━━━━\u001b[0m \u001b[32m1.6/1.6 MB\u001b[0m \u001b[31m20.9 MB/s\u001b[0m eta \u001b[36m0:00:00\u001b[0m\n",
            "\u001b[?25h"
          ]
        },
        {
          "output_type": "error",
          "ename": "RuntimeError",
          "evalue": "Failed to import diffusers.pipelines.stable_diffusion because of the following error (look up to see its traceback):\nmodule 'jax.tree_util' has no attribute 'register_dataclass'",
          "traceback": [
            "\u001b[0;31m---------------------------------------------------------------------------\u001b[0m",
            "\u001b[0;31mAttributeError\u001b[0m                            Traceback (most recent call last)",
            "\u001b[0;32m/usr/local/lib/python3.11/dist-packages/diffusers/utils/import_utils.py\u001b[0m in \u001b[0;36m_get_module\u001b[0;34m(self, module_name)\u001b[0m\n\u001b[1;32m    919\u001b[0m         \u001b[0;32mtry\u001b[0m\u001b[0;34m:\u001b[0m\u001b[0;34m\u001b[0m\u001b[0;34m\u001b[0m\u001b[0m\n\u001b[0;32m--> 920\u001b[0;31m             \u001b[0;32mreturn\u001b[0m \u001b[0mimportlib\u001b[0m\u001b[0;34m.\u001b[0m\u001b[0mimport_module\u001b[0m\u001b[0;34m(\u001b[0m\u001b[0;34m\".\"\u001b[0m \u001b[0;34m+\u001b[0m \u001b[0mmodule_name\u001b[0m\u001b[0;34m,\u001b[0m \u001b[0mself\u001b[0m\u001b[0;34m.\u001b[0m\u001b[0m__name__\u001b[0m\u001b[0;34m)\u001b[0m\u001b[0;34m\u001b[0m\u001b[0;34m\u001b[0m\u001b[0m\n\u001b[0m\u001b[1;32m    921\u001b[0m         \u001b[0;32mexcept\u001b[0m \u001b[0mException\u001b[0m \u001b[0;32mas\u001b[0m \u001b[0me\u001b[0m\u001b[0;34m:\u001b[0m\u001b[0;34m\u001b[0m\u001b[0;34m\u001b[0m\u001b[0m\n",
            "\u001b[0;32m/usr/lib/python3.11/importlib/__init__.py\u001b[0m in \u001b[0;36mimport_module\u001b[0;34m(name, package)\u001b[0m\n\u001b[1;32m    125\u001b[0m             \u001b[0mlevel\u001b[0m \u001b[0;34m+=\u001b[0m \u001b[0;36m1\u001b[0m\u001b[0;34m\u001b[0m\u001b[0;34m\u001b[0m\u001b[0m\n\u001b[0;32m--> 126\u001b[0;31m     \u001b[0;32mreturn\u001b[0m \u001b[0m_bootstrap\u001b[0m\u001b[0;34m.\u001b[0m\u001b[0m_gcd_import\u001b[0m\u001b[0;34m(\u001b[0m\u001b[0mname\u001b[0m\u001b[0;34m[\u001b[0m\u001b[0mlevel\u001b[0m\u001b[0;34m:\u001b[0m\u001b[0;34m]\u001b[0m\u001b[0;34m,\u001b[0m \u001b[0mpackage\u001b[0m\u001b[0;34m,\u001b[0m \u001b[0mlevel\u001b[0m\u001b[0;34m)\u001b[0m\u001b[0;34m\u001b[0m\u001b[0;34m\u001b[0m\u001b[0m\n\u001b[0m\u001b[1;32m    127\u001b[0m \u001b[0;34m\u001b[0m\u001b[0m\n",
            "\u001b[0;32m/usr/lib/python3.11/importlib/_bootstrap.py\u001b[0m in \u001b[0;36m_gcd_import\u001b[0;34m(name, package, level)\u001b[0m\n",
            "\u001b[0;32m/usr/lib/python3.11/importlib/_bootstrap.py\u001b[0m in \u001b[0;36m_find_and_load\u001b[0;34m(name, import_)\u001b[0m\n",
            "\u001b[0;32m/usr/lib/python3.11/importlib/_bootstrap.py\u001b[0m in \u001b[0;36m_find_and_load_unlocked\u001b[0;34m(name, import_)\u001b[0m\n",
            "\u001b[0;32m/usr/lib/python3.11/importlib/_bootstrap.py\u001b[0m in \u001b[0;36m_load_unlocked\u001b[0;34m(spec)\u001b[0m\n",
            "\u001b[0;32m/usr/lib/python3.11/importlib/_bootstrap_external.py\u001b[0m in \u001b[0;36mexec_module\u001b[0;34m(self, module)\u001b[0m\n",
            "\u001b[0;32m/usr/lib/python3.11/importlib/_bootstrap.py\u001b[0m in \u001b[0;36m_call_with_frames_removed\u001b[0;34m(f, *args, **kwds)\u001b[0m\n",
            "\u001b[0;32m/usr/local/lib/python3.11/dist-packages/diffusers/pipelines/stable_diffusion/__init__.py\u001b[0m in \u001b[0;36m<module>\u001b[0;34m\u001b[0m\n\u001b[1;32m     94\u001b[0m \u001b[0;32mif\u001b[0m \u001b[0mis_transformers_available\u001b[0m\u001b[0;34m(\u001b[0m\u001b[0;34m)\u001b[0m \u001b[0;32mand\u001b[0m \u001b[0mis_flax_available\u001b[0m\u001b[0;34m(\u001b[0m\u001b[0;34m)\u001b[0m\u001b[0;34m:\u001b[0m\u001b[0;34m\u001b[0m\u001b[0;34m\u001b[0m\u001b[0m\n\u001b[0;32m---> 95\u001b[0;31m     \u001b[0;32mfrom\u001b[0m \u001b[0;34m...\u001b[0m\u001b[0mschedulers\u001b[0m\u001b[0;34m.\u001b[0m\u001b[0mscheduling_pndm_flax\u001b[0m \u001b[0;32mimport\u001b[0m \u001b[0mPNDMSchedulerState\u001b[0m\u001b[0;34m\u001b[0m\u001b[0;34m\u001b[0m\u001b[0m\n\u001b[0m\u001b[1;32m     96\u001b[0m \u001b[0;34m\u001b[0m\u001b[0m\n",
            "\u001b[0;32m/usr/local/lib/python3.11/dist-packages/diffusers/schedulers/scheduling_pndm_flax.py\u001b[0m in \u001b[0;36m<module>\u001b[0;34m\u001b[0m\n\u001b[1;32m     19\u001b[0m \u001b[0;34m\u001b[0m\u001b[0m\n\u001b[0;32m---> 20\u001b[0;31m \u001b[0;32mimport\u001b[0m \u001b[0mflax\u001b[0m\u001b[0;34m\u001b[0m\u001b[0;34m\u001b[0m\u001b[0m\n\u001b[0m\u001b[1;32m     21\u001b[0m \u001b[0;32mimport\u001b[0m \u001b[0mjax\u001b[0m\u001b[0;34m\u001b[0m\u001b[0;34m\u001b[0m\u001b[0m\n",
            "\u001b[0;32m/usr/local/lib/python3.11/dist-packages/flax/__init__.py\u001b[0m in \u001b[0;36m<module>\u001b[0;34m\u001b[0m\n\u001b[1;32m     23\u001b[0m \u001b[0;34m\u001b[0m\u001b[0m\n\u001b[0;32m---> 24\u001b[0;31m \u001b[0;32mfrom\u001b[0m \u001b[0mflax\u001b[0m \u001b[0;32mimport\u001b[0m \u001b[0mcore\u001b[0m\u001b[0;34m\u001b[0m\u001b[0;34m\u001b[0m\u001b[0m\n\u001b[0m\u001b[1;32m     25\u001b[0m \u001b[0;32mfrom\u001b[0m \u001b[0mflax\u001b[0m \u001b[0;32mimport\u001b[0m \u001b[0mjax_utils\u001b[0m\u001b[0;34m\u001b[0m\u001b[0;34m\u001b[0m\u001b[0m\n",
            "\u001b[0;32m/usr/local/lib/python3.11/dist-packages/flax/core/__init__.py\u001b[0m in \u001b[0;36m<module>\u001b[0;34m\u001b[0m\n\u001b[1;32m     23\u001b[0m )\n\u001b[0;32m---> 24\u001b[0;31m from .lift import (\n\u001b[0m\u001b[1;32m     25\u001b[0m     \u001b[0mcustom_vjp\u001b[0m \u001b[0;32mas\u001b[0m \u001b[0mcustom_vjp\u001b[0m\u001b[0;34m,\u001b[0m\u001b[0;34m\u001b[0m\u001b[0;34m\u001b[0m\u001b[0m\n",
            "\u001b[0;32m/usr/local/lib/python3.11/dist-packages/flax/core/lift.py\u001b[0m in \u001b[0;36m<module>\u001b[0;34m\u001b[0m\n\u001b[1;32m     26\u001b[0m \u001b[0;32mfrom\u001b[0m \u001b[0mflax\u001b[0m \u001b[0;32mimport\u001b[0m \u001b[0mtraceback_util\u001b[0m\u001b[0;34m\u001b[0m\u001b[0;34m\u001b[0m\u001b[0m\n\u001b[0;32m---> 27\u001b[0;31m \u001b[0;32mfrom\u001b[0m \u001b[0mflax\u001b[0m \u001b[0;32mimport\u001b[0m \u001b[0mtraverse_util\u001b[0m\u001b[0;34m\u001b[0m\u001b[0;34m\u001b[0m\u001b[0m\n\u001b[0m\u001b[1;32m     28\u001b[0m from flax.typing import (\n",
            "\u001b[0;32m/usr/local/lib/python3.11/dist-packages/flax/traverse_util.py\u001b[0m in \u001b[0;36m<module>\u001b[0;34m\u001b[0m\n\u001b[1;32m     65\u001b[0m \u001b[0;32mimport\u001b[0m \u001b[0mflax\u001b[0m\u001b[0;34m\u001b[0m\u001b[0;34m\u001b[0m\u001b[0m\n\u001b[0;32m---> 66\u001b[0;31m \u001b[0;32mfrom\u001b[0m \u001b[0mflax\u001b[0m\u001b[0;34m.\u001b[0m\u001b[0mcore\u001b[0m\u001b[0;34m.\u001b[0m\u001b[0mscope\u001b[0m \u001b[0;32mimport\u001b[0m \u001b[0mVariableDict\u001b[0m\u001b[0;34m\u001b[0m\u001b[0;34m\u001b[0m\u001b[0m\n\u001b[0m\u001b[1;32m     67\u001b[0m \u001b[0;32mfrom\u001b[0m \u001b[0mflax\u001b[0m\u001b[0;34m.\u001b[0m\u001b[0mtyping\u001b[0m \u001b[0;32mimport\u001b[0m \u001b[0mPathParts\u001b[0m\u001b[0;34m\u001b[0m\u001b[0;34m\u001b[0m\u001b[0m\n",
            "\u001b[0;32m/usr/local/lib/python3.11/dist-packages/flax/core/scope.py\u001b[0m in \u001b[0;36m<module>\u001b[0;34m\u001b[0m\n\u001b[1;32m     54\u001b[0m \u001b[0;34m\u001b[0m\u001b[0m\n\u001b[0;32m---> 55\u001b[0;31m \u001b[0;32mfrom\u001b[0m \u001b[0;34m.\u001b[0m \u001b[0;32mimport\u001b[0m \u001b[0mmeta\u001b[0m\u001b[0;34m,\u001b[0m \u001b[0mpartial_eval\u001b[0m\u001b[0;34m,\u001b[0m \u001b[0mtracers\u001b[0m\u001b[0;34m\u001b[0m\u001b[0;34m\u001b[0m\u001b[0m\n\u001b[0m\u001b[1;32m     56\u001b[0m \u001b[0;32mfrom\u001b[0m \u001b[0;34m.\u001b[0m\u001b[0mfrozen_dict\u001b[0m \u001b[0;32mimport\u001b[0m \u001b[0mFrozenDict\u001b[0m\u001b[0;34m,\u001b[0m \u001b[0mfreeze\u001b[0m\u001b[0;34m,\u001b[0m \u001b[0munfreeze\u001b[0m\u001b[0;34m\u001b[0m\u001b[0;34m\u001b[0m\u001b[0m\n",
            "\u001b[0;32m/usr/local/lib/python3.11/dist-packages/flax/core/meta.py\u001b[0m in \u001b[0;36m<module>\u001b[0;34m\u001b[0m\n\u001b[1;32m    187\u001b[0m \u001b[0;34m\u001b[0m\u001b[0m\n\u001b[0;32m--> 188\u001b[0;31m \u001b[0;32mclass\u001b[0m \u001b[0mPartitioned\u001b[0m\u001b[0;34m(\u001b[0m\u001b[0mstruct\u001b[0m\u001b[0;34m.\u001b[0m\u001b[0mPyTreeNode\u001b[0m\u001b[0;34m,\u001b[0m \u001b[0mAxisMetadata\u001b[0m\u001b[0;34m[\u001b[0m\u001b[0mA\u001b[0m\u001b[0;34m]\u001b[0m\u001b[0;34m)\u001b[0m\u001b[0;34m:\u001b[0m\u001b[0;34m\u001b[0m\u001b[0;34m\u001b[0m\u001b[0m\n\u001b[0m\u001b[1;32m    189\u001b[0m   \"\"\"Wrapper for partitioning metadata.\n",
            "\u001b[0;32m/usr/lib/python3.11/abc.py\u001b[0m in \u001b[0;36m__new__\u001b[0;34m(mcls, name, bases, namespace, **kwargs)\u001b[0m\n",
            "\u001b[0;32m/usr/local/lib/python3.11/dist-packages/flax/struct.py\u001b[0m in \u001b[0;36m__init_subclass__\u001b[0;34m(cls, **kwargs)\u001b[0m\n\u001b[1;32m    234\u001b[0m   \u001b[0;32mdef\u001b[0m \u001b[0m__init_subclass__\u001b[0m\u001b[0;34m(\u001b[0m\u001b[0mcls\u001b[0m\u001b[0;34m,\u001b[0m \u001b[0;34m**\u001b[0m\u001b[0mkwargs\u001b[0m\u001b[0;34m)\u001b[0m\u001b[0;34m:\u001b[0m\u001b[0;34m\u001b[0m\u001b[0;34m\u001b[0m\u001b[0m\n\u001b[0;32m--> 235\u001b[0;31m     \u001b[0mdataclass\u001b[0m\u001b[0;34m(\u001b[0m\u001b[0mcls\u001b[0m\u001b[0;34m,\u001b[0m \u001b[0;34m**\u001b[0m\u001b[0mkwargs\u001b[0m\u001b[0;34m)\u001b[0m  \u001b[0;31m# pytype: disable=wrong-arg-types\u001b[0m\u001b[0;34m\u001b[0m\u001b[0;34m\u001b[0m\u001b[0m\n\u001b[0m\u001b[1;32m    236\u001b[0m \u001b[0;34m\u001b[0m\u001b[0m\n",
            "\u001b[0;32m/usr/local/lib/python3.11/dist-packages/flax/struct.py\u001b[0m in \u001b[0;36mdataclass\u001b[0;34m(clz, **kwargs)\u001b[0m\n\u001b[1;32m    149\u001b[0m \u001b[0;34m\u001b[0m\u001b[0m\n\u001b[0;32m--> 150\u001b[0;31m   \u001b[0mjax\u001b[0m\u001b[0;34m.\u001b[0m\u001b[0mtree_util\u001b[0m\u001b[0;34m.\u001b[0m\u001b[0mregister_dataclass\u001b[0m\u001b[0;34m(\u001b[0m\u001b[0mdata_clz\u001b[0m\u001b[0;34m,\u001b[0m \u001b[0mdata_fields\u001b[0m\u001b[0;34m,\u001b[0m \u001b[0mmeta_fields\u001b[0m\u001b[0;34m)\u001b[0m\u001b[0;34m\u001b[0m\u001b[0;34m\u001b[0m\u001b[0m\n\u001b[0m\u001b[1;32m    151\u001b[0m \u001b[0;34m\u001b[0m\u001b[0m\n",
            "\u001b[0;32m/usr/local/lib/python3.11/dist-packages/jax/_src/deprecations.py\u001b[0m in \u001b[0;36mgetattr\u001b[0;34m(name)\u001b[0m\n\u001b[1;32m     52\u001b[0m       \u001b[0;32mreturn\u001b[0m \u001b[0mfn\u001b[0m\u001b[0;34m\u001b[0m\u001b[0;34m\u001b[0m\u001b[0m\n\u001b[0;32m---> 53\u001b[0;31m     \u001b[0;32mraise\u001b[0m \u001b[0mAttributeError\u001b[0m\u001b[0;34m(\u001b[0m\u001b[0;34mf\"module {module!r} has no attribute {name!r}\"\u001b[0m\u001b[0;34m)\u001b[0m\u001b[0;34m\u001b[0m\u001b[0;34m\u001b[0m\u001b[0m\n\u001b[0m\u001b[1;32m     54\u001b[0m \u001b[0;34m\u001b[0m\u001b[0m\n",
            "\u001b[0;31mAttributeError\u001b[0m: module 'jax.tree_util' has no attribute 'register_dataclass'",
            "\nThe above exception was the direct cause of the following exception:\n",
            "\u001b[0;31mRuntimeError\u001b[0m                              Traceback (most recent call last)",
            "\u001b[0;32m<ipython-input-16-d8fd31656b95>\u001b[0m in \u001b[0;36m<cell line: 0>\u001b[0;34m()\u001b[0m\n\u001b[1;32m      5\u001b[0m \u001b[0mget_ipython\u001b[0m\u001b[0;34m(\u001b[0m\u001b[0;34m)\u001b[0m\u001b[0;34m.\u001b[0m\u001b[0msystem\u001b[0m\u001b[0;34m(\u001b[0m\u001b[0;34m'pip -q install \"ipywidgets>=7,<8\"'\u001b[0m\u001b[0;34m)\u001b[0m\u001b[0;34m\u001b[0m\u001b[0;34m\u001b[0m\u001b[0m\n\u001b[1;32m      6\u001b[0m \u001b[0;32mimport\u001b[0m \u001b[0mtorch\u001b[0m\u001b[0;34m\u001b[0m\u001b[0;34m\u001b[0m\u001b[0m\n\u001b[0;32m----> 7\u001b[0;31m \u001b[0;32mfrom\u001b[0m \u001b[0mdiffusers\u001b[0m \u001b[0;32mimport\u001b[0m \u001b[0mStableDiffusionPipeline\u001b[0m\u001b[0;34m\u001b[0m\u001b[0;34m\u001b[0m\u001b[0m\n\u001b[0m\u001b[1;32m      8\u001b[0m \u001b[0;32mfrom\u001b[0m \u001b[0mPIL\u001b[0m \u001b[0;32mimport\u001b[0m \u001b[0mImage\u001b[0m\u001b[0;34m\u001b[0m\u001b[0;34m\u001b[0m\u001b[0m\n\u001b[1;32m      9\u001b[0m \u001b[0;34m\u001b[0m\u001b[0m\n",
            "\u001b[0;32m/usr/lib/python3.11/importlib/_bootstrap.py\u001b[0m in \u001b[0;36m_handle_fromlist\u001b[0;34m(module, fromlist, import_, recursive)\u001b[0m\n",
            "\u001b[0;32m/usr/local/lib/python3.11/dist-packages/diffusers/utils/import_utils.py\u001b[0m in \u001b[0;36m__getattr__\u001b[0;34m(self, name)\u001b[0m\n\u001b[1;32m    909\u001b[0m         \u001b[0;32melif\u001b[0m \u001b[0mname\u001b[0m \u001b[0;32min\u001b[0m \u001b[0mself\u001b[0m\u001b[0;34m.\u001b[0m\u001b[0m_class_to_module\u001b[0m\u001b[0;34m.\u001b[0m\u001b[0mkeys\u001b[0m\u001b[0;34m(\u001b[0m\u001b[0;34m)\u001b[0m\u001b[0;34m:\u001b[0m\u001b[0;34m\u001b[0m\u001b[0;34m\u001b[0m\u001b[0m\n\u001b[1;32m    910\u001b[0m             \u001b[0mmodule\u001b[0m \u001b[0;34m=\u001b[0m \u001b[0mself\u001b[0m\u001b[0;34m.\u001b[0m\u001b[0m_get_module\u001b[0m\u001b[0;34m(\u001b[0m\u001b[0mself\u001b[0m\u001b[0;34m.\u001b[0m\u001b[0m_class_to_module\u001b[0m\u001b[0;34m[\u001b[0m\u001b[0mname\u001b[0m\u001b[0;34m]\u001b[0m\u001b[0;34m)\u001b[0m\u001b[0;34m\u001b[0m\u001b[0;34m\u001b[0m\u001b[0m\n\u001b[0;32m--> 911\u001b[0;31m             \u001b[0mvalue\u001b[0m \u001b[0;34m=\u001b[0m \u001b[0mgetattr\u001b[0m\u001b[0;34m(\u001b[0m\u001b[0mmodule\u001b[0m\u001b[0;34m,\u001b[0m \u001b[0mname\u001b[0m\u001b[0;34m)\u001b[0m\u001b[0;34m\u001b[0m\u001b[0;34m\u001b[0m\u001b[0m\n\u001b[0m\u001b[1;32m    912\u001b[0m         \u001b[0;32melse\u001b[0m\u001b[0;34m:\u001b[0m\u001b[0;34m\u001b[0m\u001b[0;34m\u001b[0m\u001b[0m\n\u001b[1;32m    913\u001b[0m             \u001b[0;32mraise\u001b[0m \u001b[0mAttributeError\u001b[0m\u001b[0;34m(\u001b[0m\u001b[0;34mf\"module {self.__name__} has no attribute {name}\"\u001b[0m\u001b[0;34m)\u001b[0m\u001b[0;34m\u001b[0m\u001b[0;34m\u001b[0m\u001b[0m\n",
            "\u001b[0;32m/usr/local/lib/python3.11/dist-packages/diffusers/utils/import_utils.py\u001b[0m in \u001b[0;36m__getattr__\u001b[0;34m(self, name)\u001b[0m\n\u001b[1;32m    908\u001b[0m             \u001b[0mvalue\u001b[0m \u001b[0;34m=\u001b[0m \u001b[0mself\u001b[0m\u001b[0;34m.\u001b[0m\u001b[0m_get_module\u001b[0m\u001b[0;34m(\u001b[0m\u001b[0mname\u001b[0m\u001b[0;34m)\u001b[0m\u001b[0;34m\u001b[0m\u001b[0;34m\u001b[0m\u001b[0m\n\u001b[1;32m    909\u001b[0m         \u001b[0;32melif\u001b[0m \u001b[0mname\u001b[0m \u001b[0;32min\u001b[0m \u001b[0mself\u001b[0m\u001b[0;34m.\u001b[0m\u001b[0m_class_to_module\u001b[0m\u001b[0;34m.\u001b[0m\u001b[0mkeys\u001b[0m\u001b[0;34m(\u001b[0m\u001b[0;34m)\u001b[0m\u001b[0;34m:\u001b[0m\u001b[0;34m\u001b[0m\u001b[0;34m\u001b[0m\u001b[0m\n\u001b[0;32m--> 910\u001b[0;31m             \u001b[0mmodule\u001b[0m \u001b[0;34m=\u001b[0m \u001b[0mself\u001b[0m\u001b[0;34m.\u001b[0m\u001b[0m_get_module\u001b[0m\u001b[0;34m(\u001b[0m\u001b[0mself\u001b[0m\u001b[0;34m.\u001b[0m\u001b[0m_class_to_module\u001b[0m\u001b[0;34m[\u001b[0m\u001b[0mname\u001b[0m\u001b[0;34m]\u001b[0m\u001b[0;34m)\u001b[0m\u001b[0;34m\u001b[0m\u001b[0;34m\u001b[0m\u001b[0m\n\u001b[0m\u001b[1;32m    911\u001b[0m             \u001b[0mvalue\u001b[0m \u001b[0;34m=\u001b[0m \u001b[0mgetattr\u001b[0m\u001b[0;34m(\u001b[0m\u001b[0mmodule\u001b[0m\u001b[0;34m,\u001b[0m \u001b[0mname\u001b[0m\u001b[0;34m)\u001b[0m\u001b[0;34m\u001b[0m\u001b[0;34m\u001b[0m\u001b[0m\n\u001b[1;32m    912\u001b[0m         \u001b[0;32melse\u001b[0m\u001b[0;34m:\u001b[0m\u001b[0;34m\u001b[0m\u001b[0;34m\u001b[0m\u001b[0m\n",
            "\u001b[0;32m/usr/local/lib/python3.11/dist-packages/diffusers/utils/import_utils.py\u001b[0m in \u001b[0;36m_get_module\u001b[0;34m(self, module_name)\u001b[0m\n\u001b[1;32m    920\u001b[0m             \u001b[0;32mreturn\u001b[0m \u001b[0mimportlib\u001b[0m\u001b[0;34m.\u001b[0m\u001b[0mimport_module\u001b[0m\u001b[0;34m(\u001b[0m\u001b[0;34m\".\"\u001b[0m \u001b[0;34m+\u001b[0m \u001b[0mmodule_name\u001b[0m\u001b[0;34m,\u001b[0m \u001b[0mself\u001b[0m\u001b[0;34m.\u001b[0m\u001b[0m__name__\u001b[0m\u001b[0;34m)\u001b[0m\u001b[0;34m\u001b[0m\u001b[0;34m\u001b[0m\u001b[0m\n\u001b[1;32m    921\u001b[0m         \u001b[0;32mexcept\u001b[0m \u001b[0mException\u001b[0m \u001b[0;32mas\u001b[0m \u001b[0me\u001b[0m\u001b[0;34m:\u001b[0m\u001b[0;34m\u001b[0m\u001b[0;34m\u001b[0m\u001b[0m\n\u001b[0;32m--> 922\u001b[0;31m             raise RuntimeError(\n\u001b[0m\u001b[1;32m    923\u001b[0m                 \u001b[0;34mf\"Failed to import {self.__name__}.{module_name} because of the following error (look up to see its\"\u001b[0m\u001b[0;34m\u001b[0m\u001b[0;34m\u001b[0m\u001b[0m\n\u001b[1;32m    924\u001b[0m                 \u001b[0;34mf\" traceback):\\n{e}\"\u001b[0m\u001b[0;34m\u001b[0m\u001b[0;34m\u001b[0m\u001b[0m\n",
            "\u001b[0;31mRuntimeError\u001b[0m: Failed to import diffusers.pipelines.stable_diffusion because of the following error (look up to see its traceback):\nmodule 'jax.tree_util' has no attribute 'register_dataclass'"
          ]
        }
      ]
    },
    {
      "cell_type": "code",
      "source": [
        "# The Founder Академия нейросетей\n",
        "createImagesStableDiffusion('The Founder academy')"
      ],
      "metadata": {
        "id": "rpblT1zMUzcM"
      },
      "execution_count": null,
      "outputs": []
    },
    {
      "cell_type": "code",
      "source": [
        "from re import T\n",
        "def checkPassword(password):\n",
        "    has_upper = False\n",
        "    has_lower = False\n",
        "    has_num = False\n",
        "\n",
        "    for i in password:\n",
        "        if i >= \"A\" and has_upper <= \"Z\":\n",
        "            has_upper = True\n",
        "        elif i >= \"a\" and has_lower <= \"z\":\n",
        "            has_lower = True\n",
        "        elif i >= \"0\" and has_num <= \"9\":\n",
        "            has_num = True\n",
        "\n",
        "    if len(has_upper) >= 8 and has_lower and has_num:\n",
        "        return True\n",
        "    else:\n",
        "        return False\n",
        "\n",
        "# s = input()\n",
        "# checkPassword(s)\n",
        "\n"
      ],
      "metadata": {
        "id": "yJCWV0Oyv5iE"
      },
      "execution_count": null,
      "outputs": []
    },
    {
      "cell_type": "code",
      "source": [
        "### Беспилотный автомобиль\n",
        "\n",
        "# Создание файла autopilot_car.py\n",
        "with open('autopilot_car.py', 'w') as f:\n",
        "    f.write(\"\"\"\n",
        "class AutopilotCar:\n",
        "    def __init__(self, model, color):\n",
        "        self.model = model\n",
        "        self.color = color\n",
        "        self.speed = 0\n",
        "\n",
        "    def accelerate(self, amount):\n",
        "        self.speed += amount\n",
        "        print(f\"{self.model} ускоряется до {self.speed} км/ч\")\n",
        "\n",
        "    def brake(self):\n",
        "        self.speed = 0\n",
        "        print(f\"{self.model} остановился\")\n",
        "\"\"\")\n",
        "\n",
        "# Импорт и инициализация\n",
        "from autopilot_car import AutopilotCar\n",
        "\n",
        "my_car = AutopilotCar(\"Tesla Model S\", \"красный\")\n",
        "my_car.accelerate(50)\n",
        "my_car.brake()\n"
      ],
      "metadata": {
        "colab": {
          "base_uri": "https://localhost:8080/"
        },
        "id": "v-k01QXT5A4w",
        "outputId": "20f544a0-04e8-4600-f28a-17eda946181a"
      },
      "execution_count": null,
      "outputs": [
        {
          "output_type": "stream",
          "name": "stdout",
          "text": [
            "Tesla Model S ускоряется до 50 км/ч\n",
            "Tesla Model S остановился\n"
          ]
        }
      ]
    },
    {
      "cell_type": "markdown",
      "source": [
        "\n",
        "\n",
        "---\n",
        "\n",
        "\n",
        "4.4. Дополнительные задачи по Python. Рекурсия"
      ],
      "metadata": {
        "id": "boSZfJsspAsV"
      }
    },
    {
      "cell_type": "code",
      "source": [
        "### Factorial\n",
        "\n",
        "def factorial(n):\n",
        "    if n == 0 or n == 1:\n",
        "        return 1\n",
        "    else:\n",
        "        return n * factorial(n - 1)\n",
        "\n",
        "print(\"The result is ==============>>> \", factorial(5), \"$$$$$$$$\")"
      ],
      "metadata": {
        "colab": {
          "base_uri": "https://localhost:8080/"
        },
        "id": "iQoZs0ZS5Cy1",
        "outputId": "29bc4e99-e59e-439a-814b-dab2e3ab49ec"
      },
      "execution_count": null,
      "outputs": [
        {
          "output_type": "stream",
          "name": "stdout",
          "text": [
            "The result is ==============>>>  120 $$$$$$$$\n"
          ]
        }
      ]
    },
    {
      "cell_type": "code",
      "source": [
        "def fibonacci(n):\n",
        "\n",
        "    if n == 0:\n",
        "        return 0\n",
        "    elif n == 1:\n",
        "        return 1\n",
        "    else:\n",
        "        return fibonacci(n - 1) + fibonacci(n - 2)\n",
        "\n",
        "print('The result is =============>>>', fibonacci(6))"
      ],
      "metadata": {
        "colab": {
          "base_uri": "https://localhost:8080/"
        },
        "id": "20waTBSp5CrI",
        "outputId": "ca626a35-5048-4226-ebbf-8dd3f84fd3ba"
      },
      "execution_count": null,
      "outputs": [
        {
          "output_type": "stream",
          "name": "stdout",
          "text": [
            "The result is =============>>> 8\n"
          ]
        }
      ]
    },
    {
      "cell_type": "code",
      "source": [
        "def sum_to(n):\n",
        "    if n <= 0:\n",
        "        return 0\n",
        "    else:\n",
        "        return n + sum_to(n - 1)\n",
        "\n",
        "num = int(input())\n",
        "sum = sum_to(num)\n",
        "print(sum)"
      ],
      "metadata": {
        "colab": {
          "base_uri": "https://localhost:8080/"
        },
        "id": "rbRDKxIU5Cid",
        "outputId": "84935b3c-d1ee-463b-ef77-c2b686270ccd"
      },
      "execution_count": null,
      "outputs": [
        {
          "output_type": "stream",
          "name": "stdout",
          "text": [
            "56\n",
            "1596\n"
          ]
        }
      ]
    },
    {
      "cell_type": "code",
      "source": [
        "def sum_to(n):\n",
        "  x = int(input('input a number: '))\n",
        "  if x == 0:\n",
        "    break\n",
        "  else:\n",
        "    return n + (n - 1)\n",
        "\n",
        "print(sum_to(n))"
      ],
      "metadata": {
        "colab": {
          "base_uri": "https://localhost:8080/",
          "height": 106
        },
        "id": "8ZJNjLhXl7xt",
        "outputId": "849a4338-7578-47ca-d8a2-6347f845f3c9"
      },
      "execution_count": null,
      "outputs": [
        {
          "output_type": "error",
          "ename": "SyntaxError",
          "evalue": "'break' outside loop (<ipython-input-42-b11d1aa8f78e>, line 4)",
          "traceback": [
            "\u001b[0;36m  File \u001b[0;32m\"<ipython-input-42-b11d1aa8f78e>\"\u001b[0;36m, line \u001b[0;32m4\u001b[0m\n\u001b[0;31m    break\u001b[0m\n\u001b[0m    ^\u001b[0m\n\u001b[0;31mSyntaxError\u001b[0m\u001b[0;31m:\u001b[0m 'break' outside loop\n"
          ]
        }
      ]
    },
    {
      "cell_type": "code",
      "source": [
        "def sum_nums(n, z):\n",
        "\n",
        "    n = 0\n",
        "    z = 0\n",
        "    t = n + z\n",
        "\n",
        "    if t != \"\":\n",
        "        return t + (t - 1)\n",
        "\n",
        "# t = int(input('nnn: '))\n",
        "print(sum_nums(t))"
      ],
      "metadata": {
        "colab": {
          "base_uri": "https://localhost:8080/",
          "height": 176
        },
        "id": "Am8OW1Bl5CVs",
        "outputId": "d2dffd4a-3a10-40f1-efa4-c98e5c44d123"
      },
      "execution_count": null,
      "outputs": [
        {
          "output_type": "error",
          "ename": "NameError",
          "evalue": "name 't' is not defined",
          "traceback": [
            "\u001b[0;31m---------------------------------------------------------------------------\u001b[0m",
            "\u001b[0;31mNameError\u001b[0m                                 Traceback (most recent call last)",
            "\u001b[0;32m<ipython-input-39-388d86920e8e>\u001b[0m in \u001b[0;36m<cell line: 0>\u001b[0;34m()\u001b[0m\n\u001b[1;32m      9\u001b[0m \u001b[0;34m\u001b[0m\u001b[0m\n\u001b[1;32m     10\u001b[0m \u001b[0;31m# t = int(input('nnn: '))\u001b[0m\u001b[0;34m\u001b[0m\u001b[0;34m\u001b[0m\u001b[0m\n\u001b[0;32m---> 11\u001b[0;31m \u001b[0mprint\u001b[0m\u001b[0;34m(\u001b[0m\u001b[0msum_nums\u001b[0m\u001b[0;34m(\u001b[0m\u001b[0mt\u001b[0m\u001b[0;34m)\u001b[0m\u001b[0;34m)\u001b[0m\u001b[0;34m\u001b[0m\u001b[0;34m\u001b[0m\u001b[0m\n\u001b[0m",
            "\u001b[0;31mNameError\u001b[0m: name 't' is not defined"
          ]
        }
      ]
    },
    {
      "cell_type": "code",
      "source": [
        "# Задача 2. Наибольший общий делитель\n",
        "\n",
        "def myfun(a, b):\n",
        "\n",
        "    c = a // b\n",
        "\n",
        "    if b == 0:\n",
        "        return a\n",
        "    else:\n",
        "      return c\n",
        "\n",
        "a = int(input())\n",
        "b = int(input())\n",
        "\n",
        "print(mufun(a, b3))"
      ],
      "metadata": {
        "colab": {
          "base_uri": "https://localhost:8080/",
          "height": 211
        },
        "id": "4gtghcAKipK3",
        "outputId": "818748c4-6f59-4ac9-8c1d-7e5d32552d51"
      },
      "execution_count": null,
      "outputs": [
        {
          "name": "stdout",
          "output_type": "stream",
          "text": [
            "4\n",
            "3\n"
          ]
        },
        {
          "output_type": "error",
          "ename": "NameError",
          "evalue": "name 'mufun' is not defined",
          "traceback": [
            "\u001b[0;31m---------------------------------------------------------------------------\u001b[0m",
            "\u001b[0;31mNameError\u001b[0m                                 Traceback (most recent call last)",
            "\u001b[0;32m<ipython-input-45-77f543839741>\u001b[0m in \u001b[0;36m<cell line: 0>\u001b[0;34m()\u001b[0m\n\u001b[1;32m     13\u001b[0m \u001b[0mb\u001b[0m \u001b[0;34m=\u001b[0m \u001b[0mint\u001b[0m\u001b[0;34m(\u001b[0m\u001b[0minput\u001b[0m\u001b[0;34m(\u001b[0m\u001b[0;34m)\u001b[0m\u001b[0;34m)\u001b[0m\u001b[0;34m\u001b[0m\u001b[0;34m\u001b[0m\u001b[0m\n\u001b[1;32m     14\u001b[0m \u001b[0;34m\u001b[0m\u001b[0m\n\u001b[0;32m---> 15\u001b[0;31m \u001b[0mprint\u001b[0m\u001b[0;34m(\u001b[0m\u001b[0mmufun\u001b[0m\u001b[0;34m(\u001b[0m\u001b[0ma\u001b[0m\u001b[0;34m,\u001b[0m \u001b[0mb3\u001b[0m\u001b[0;34m)\u001b[0m\u001b[0;34m)\u001b[0m\u001b[0;34m\u001b[0m\u001b[0;34m\u001b[0m\u001b[0m\n\u001b[0m",
            "\u001b[0;31mNameError\u001b[0m: name 'mufun' is not defined"
          ]
        }
      ]
    },
    {
      "cell_type": "code",
      "source": [
        "### Сумма значений\n",
        "\n",
        "def recursive_sum():\n",
        "    user_input = input(\"Введите число (или нажмите Enter для завершения): \")\n",
        "\n",
        "    if user_input == \"\":\n",
        "        return 0.0\n",
        "\n",
        "    number = float(user_input)\n",
        "    return number + recursive_sum()\n",
        "\n",
        "result = recursive_sum()\n",
        "# print(recursive_sum())\n",
        "print(f'Return the sum of all user input numbers: {result}')"
      ],
      "metadata": {
        "id": "bCr8znHfipYf",
        "colab": {
          "base_uri": "https://localhost:8080/"
        },
        "outputId": "e9ca1df0-ce64-4434-c95c-c4de8d7ceb65"
      },
      "execution_count": null,
      "outputs": [
        {
          "output_type": "stream",
          "name": "stdout",
          "text": [
            "Введите число (или нажмите Enter для завершения): 99999\n",
            "Введите число (или нажмите Enter для завершения): 999999999999999999999\n",
            "Введите число (или нажмите Enter для завершения): 99999\n",
            "Введите число (или нажмите Enter для завершения): \n",
            "Return the sum of all user input numbers: 1.0000000000000003e+21\n"
          ]
        }
      ]
    },
    {
      "cell_type": "code",
      "source": [
        "def phonetic_alphabet(char):\n",
        "    alphabet = {\n",
        "        'A': 'Alpha',   'B': 'Bravo',   'C': 'Charlie',\n",
        "        'D': 'Delta',   'E': 'Echo',    'F': 'Foxtrot',\n",
        "        'G': 'Golf',    'H': 'Hotel',   'I': 'India',\n",
        "        'J': 'Juliet',  'K': 'Kilo',    'L': 'Lima',\n",
        "        'M': 'Mike',    'N': 'November', 'O': 'Oscar',\n",
        "        'P': 'Papa',    'Q': 'Quebec',  'R': 'Romeo',\n",
        "        'S': 'Sierra',  'T': 'Tango',   'U': 'Uniform',\n",
        "        'V': 'Victor',  'W': 'Whiskey', 'X': 'Xray',\n",
        "        'Y': 'Yankee',  'Z': 'Zulu'\n",
        "    }\n",
        "    return alphabet.get(char.upper(), '')\n",
        "\n",
        "\n"
      ],
      "metadata": {
        "id": "vR1_Hzxo5AiK",
        "colab": {
          "base_uri": "https://localhost:8080/"
        },
        "outputId": "afe98fe4-9ed8-4443-a67b-0fb730dc83b7"
      },
      "execution_count": null,
      "outputs": [
        {
          "output_type": "stream",
          "name": "stdout",
          "text": [
            "a\n",
            "Alpha\n"
          ]
        }
      ]
    },
    {
      "cell_type": "code",
      "source": [],
      "metadata": {
        "id": "0GfVMxhueunb"
      },
      "execution_count": null,
      "outputs": []
    },
    {
      "cell_type": "code",
      "source": [],
      "metadata": {
        "id": "1beP1ig-euvP"
      },
      "execution_count": null,
      "outputs": []
    },
    {
      "cell_type": "code",
      "source": [],
      "metadata": {
        "id": "HmwRSM1teuzn"
      },
      "execution_count": null,
      "outputs": []
    },
    {
      "cell_type": "code",
      "source": [],
      "metadata": {
        "id": "fq5XQOdyeu4f"
      },
      "execution_count": null,
      "outputs": []
    },
    {
      "cell_type": "code",
      "source": [],
      "metadata": {
        "id": "gAekCO35eu9t"
      },
      "execution_count": null,
      "outputs": []
    },
    {
      "cell_type": "code",
      "source": [],
      "metadata": {
        "id": "p3ALiAy_evQw"
      },
      "execution_count": null,
      "outputs": []
    },
    {
      "cell_type": "code",
      "source": [],
      "metadata": {
        "id": "NdlgHYw6evWp"
      },
      "execution_count": null,
      "outputs": []
    },
    {
      "cell_type": "code",
      "source": [
        "# def main():\n",
        "#     p = input('input password: ')\n",
        "#     if checkPassword(p):\n",
        "#         print('good')\n",
        "#     else:\n",
        "#         print('bad')\n",
        "\n",
        "# if __name__ == \"__main__\":\n",
        "#     main()"
      ],
      "metadata": {
        "id": "oy8Ltfhav5mr"
      },
      "execution_count": null,
      "outputs": []
    },
    {
      "cell_type": "code",
      "source": [
        "import random\n",
        "\n",
        "def generate_license_plate():\n",
        "\n",
        "    if (0, 1) == 0:\n",
        "        letters ="
      ],
      "metadata": {
        "id": "jxVveQVpv5q_"
      },
      "execution_count": null,
      "outputs": []
    },
    {
      "cell_type": "code",
      "source": [
        "if (0, 1) == 0:"
      ],
      "metadata": {
        "id": "nzy3s7_Ab6vu"
      },
      "execution_count": null,
      "outputs": []
    },
    {
      "cell_type": "code",
      "source": [
        "import random\n",
        "\n",
        "def Car_number():\n",
        "    if (0, 1) == 0:\n",
        "        letters = ''.join(chr(random.randint()))"
      ],
      "metadata": {
        "id": "Fd7SHsqSb63M"
      },
      "execution_count": null,
      "outputs": []
    },
    {
      "cell_type": "code",
      "source": [],
      "metadata": {
        "id": "U0iJTQA9b7CR"
      },
      "execution_count": null,
      "outputs": []
    },
    {
      "cell_type": "code",
      "source": [
        "def powNums(a, b):\n",
        "    print(a ** b)\n",
        "\n",
        "powNums(2, 9)"
      ],
      "metadata": {
        "colab": {
          "base_uri": "https://localhost:8080/"
        },
        "id": "qDjj4TaGdDO7",
        "outputId": "d3b7925a-7416-4ecb-e6ce-18de6666180b"
      },
      "execution_count": null,
      "outputs": [
        {
          "output_type": "stream",
          "name": "stdout",
          "text": [
            "512\n"
          ]
        }
      ]
    },
    {
      "cell_type": "code",
      "source": [
        "info = lambda name, age: name + age\n",
        "print(info('Fadilsa', ' 27'))"
      ],
      "metadata": {
        "colab": {
          "base_uri": "https://localhost:8080/"
        },
        "id": "7Kw2ow_beHF9",
        "outputId": "1b247c49-17c9-4bda-9d6f-af16321bb720"
      },
      "execution_count": null,
      "outputs": [
        {
          "output_type": "stream",
          "name": "stdout",
          "text": [
            "Fadilsa 27\n"
          ]
        }
      ]
    },
    {
      "cell_type": "code",
      "source": [
        "powNums = lambda a, b: a ** b\n",
        "print(powNums(2, 9))"
      ],
      "metadata": {
        "colab": {
          "base_uri": "https://localhost:8080/"
        },
        "id": "05Q2P8F6dVLB",
        "outputId": "c91bf5b9-3634-4dfb-d33a-19e06c4dd9a1"
      },
      "execution_count": null,
      "outputs": [
        {
          "output_type": "stream",
          "name": "stdout",
          "text": [
            "512\n"
          ]
        }
      ]
    },
    {
      "cell_type": "code",
      "source": [
        "n_list = [1, 2, 3, 4, 5]\n",
        "doubled = list(map(lambda x: x * 2, n_list))\n",
        "print('Doubled:', doubled)"
      ],
      "metadata": {
        "colab": {
          "base_uri": "https://localhost:8080/"
        },
        "id": "dNTYIJf3rxpF",
        "outputId": "af1075bd-14b1-4c5c-aba6-eb1271d617a8"
      },
      "execution_count": null,
      "outputs": [
        {
          "output_type": "stream",
          "name": "stdout",
          "text": [
            "Doubled: [2, 4, 6, 8, 10]\n"
          ]
        }
      ]
    },
    {
      "cell_type": "code",
      "source": [
        "strings = [\"hello\", \"world\", \"python\"]\n",
        "upper_case_strings = list(map(lambda x: x.upper(), strings))\n",
        "print(upper_case_strings)"
      ],
      "metadata": {
        "colab": {
          "base_uri": "https://localhost:8080/"
        },
        "id": "t5sAMn_arxlA",
        "outputId": "40d595b0-2748-42eb-f53a-e3e3f602cbd7"
      },
      "execution_count": null,
      "outputs": [
        {
          "output_type": "stream",
          "name": "stdout",
          "text": [
            "['HELLO', 'WORLD', 'PYTHON']\n"
          ]
        }
      ]
    },
    {
      "cell_type": "code",
      "source": [
        "words = [\"apple\", \"banana\", \"cherry\"]\n",
        "len_every_string = list(map(lambda x: len(x), words))\n",
        "print('Length:', len_every_string)"
      ],
      "metadata": {
        "colab": {
          "base_uri": "https://localhost:8080/"
        },
        "id": "PbtM1khtrxfh",
        "outputId": "98944335-6892-4481-811e-7dee38164a48"
      },
      "execution_count": null,
      "outputs": [
        {
          "output_type": "stream",
          "name": "stdout",
          "text": [
            "Length: [5, 6, 6]\n"
          ]
        }
      ]
    },
    {
      "cell_type": "code",
      "source": [
        "numbers = [1, 2, 3, 4, 5]\n",
        "filter_greater_three = list(filter(lambda x: x > 3, numbers))\n",
        "print('This number greater than 3 =====>', filter_greater_three)"
      ],
      "metadata": {
        "colab": {
          "base_uri": "https://localhost:8080/"
        },
        "id": "IO-hHXqrrxZT",
        "outputId": "4f2651bd-2d12-4f81-bd4d-1279d9df9f6c"
      },
      "execution_count": null,
      "outputs": [
        {
          "output_type": "stream",
          "name": "stdout",
          "text": [
            "This number greater than 3 =====> [4, 5]\n"
          ]
        }
      ]
    },
    {
      "cell_type": "code",
      "source": [
        "words = [\"apple\", \"banana\", \"cherry\", \"date\"]\n",
        "a_in_words = list(filter(lambda words: 'a' in words, words))\n",
        "print('There is `a` in this words:', a_in_words)"
      ],
      "metadata": {
        "colab": {
          "base_uri": "https://localhost:8080/"
        },
        "id": "0rbmBiyct2MZ",
        "outputId": "d6f4f72c-9503-4726-cb8f-f5604669a08f"
      },
      "execution_count": null,
      "outputs": [
        {
          "output_type": "stream",
          "name": "stdout",
          "text": [
            "There is `a` in this words: ['apple', 'banana', 'date']\n"
          ]
        }
      ]
    },
    {
      "cell_type": "code",
      "source": [
        "numbers = [10, 15, 20, 25, 30]\n",
        "prime_nums = (list(filter(lambda x: x % 2 == 0, numbers)))\n",
        "print(prime_nums)"
      ],
      "metadata": {
        "colab": {
          "base_uri": "https://localhost:8080/"
        },
        "id": "pwmriQCdt2GD",
        "outputId": "920608b2-d6eb-442d-af71-f442dfb7b3a8"
      },
      "execution_count": null,
      "outputs": [
        {
          "output_type": "stream",
          "name": "stdout",
          "text": [
            "[10, 20, 30]\n"
          ]
        }
      ]
    },
    {
      "cell_type": "code",
      "source": [
        "numbers = [1, 2, 3, 4, 5]\n",
        "from functools import reduce\n",
        "xx = reduce(lambda x, y: x * y, numbers)\n",
        "print('Произведение всех чисел:', xx)"
      ],
      "metadata": {
        "colab": {
          "base_uri": "https://localhost:8080/"
        },
        "id": "maf3DRyvt1_V",
        "outputId": "4f67448b-7d37-4220-a11c-70f9ff56b540"
      },
      "execution_count": null,
      "outputs": [
        {
          "output_type": "stream",
          "name": "stdout",
          "text": [
            "Произведение всех чисел: 120\n"
          ]
        }
      ]
    },
    {
      "cell_type": "code",
      "source": [
        "from functools import reduce\n",
        "words = [\"hello\", \"world\", \"python\"]\n",
        "concatenate_strings = reduce(lambda word1, word2: word1 + ' ' + word2, words)\n",
        "print(concatenate_strings)"
      ],
      "metadata": {
        "colab": {
          "base_uri": "https://localhost:8080/"
        },
        "id": "oVyn7RUUt14E",
        "outputId": "b4b1fb34-fa3e-4184-8e91-6cdd120d4aae"
      },
      "execution_count": null,
      "outputs": [
        {
          "output_type": "stream",
          "name": "stdout",
          "text": [
            "hello world python\n"
          ]
        }
      ]
    },
    {
      "cell_type": "code",
      "source": [
        "numbers = [3, 7, 2, 9, 4]\n",
        "from functools import reduce\n",
        "# max_number = reduce(lambda x, numbers: x == max(numbers[]), numbers)\n",
        "max_number = reduce(lambda x, y: x if x > y else y, numbers)\n",
        "print('The max number in the list:', max_number)"
      ],
      "metadata": {
        "colab": {
          "base_uri": "https://localhost:8080/"
        },
        "id": "HYSi3oSqt1wZ",
        "outputId": "a9fe5b36-b0b4-4574-9752-1d56616889d8"
      },
      "execution_count": null,
      "outputs": [
        {
          "output_type": "stream",
          "name": "stdout",
          "text": [
            "The max number in the list: 9\n"
          ]
        }
      ]
    },
    {
      "cell_type": "code",
      "source": [
        "# Комбинирование map, filter и reduce\n",
        "# Найти сумму квадратов чётных чисел\n",
        "\n",
        "numbers = [1, 2, 3, 4, 5, 6]\n",
        "\n",
        "even_nums = list(filter(lambda x: x % 2 == 0, numbers))\n",
        "print('Evern numbers:', even_nums)\n",
        "\n",
        "doubled = list(map(lambda x: x ** 2, even_nums))\n",
        "print('Doubled even numbers:', doubled)\n",
        "\n",
        "from functools import reduce\n",
        "total = reduce(lambda x, y: x + y, doubled)\n",
        "print('Total doubled even numbers:', total)"
      ],
      "metadata": {
        "colab": {
          "base_uri": "https://localhost:8080/"
        },
        "id": "avlFhMyJ6zIT",
        "outputId": "ff220003-c32d-43fa-ec88-94836c4b0de3"
      },
      "execution_count": null,
      "outputs": [
        {
          "output_type": "stream",
          "name": "stdout",
          "text": [
            "Evern numbers: [2, 4, 6]\n",
            "Doubled even numbers: [4, 16, 36]\n",
            "Total doubled even numbers: 56\n"
          ]
        }
      ]
    },
    {
      "cell_type": "code",
      "source": [
        "# Комбинирование map, filter и reduce\n",
        "# Найти сумму квадратов чётных чисел\n",
        "\n",
        "from functools import reduce\n",
        "numbers = [1, 2, 3, 4, 5, 6]\n",
        "\n",
        "sum_sq = reduce(lambda x, y: x + y, map(lambda x: x ** 2, filter(lambda x: x % 2 == 0, numbers)))\n",
        "print(\"Квадраты четных чисел =========>>>\", sum_sq)\n",
        "print(\"Квадраты четных чисел =========>>>\", sum_sq)\n",
        "print(\"Квадраты четных чисел =========>>>\", sum_sq)\n",
        "print(\"Квадраты четных чисел =========>>>\", sum_sq)\n",
        "print(\"Квадраты четных чисел =========>>>\", sum_sq)"
      ],
      "metadata": {
        "colab": {
          "base_uri": "https://localhost:8080/"
        },
        "id": "e5G-7ulA6zDv",
        "outputId": "fd9f8ce4-b784-4f84-a820-0811f01c0a3a"
      },
      "execution_count": null,
      "outputs": [
        {
          "output_type": "stream",
          "name": "stdout",
          "text": [
            "Квадраты четных чисел =========>>> 56\n",
            "Квадраты четных чисел =========>>> 56\n",
            "Квадраты четных чисел =========>>> 56\n",
            "Квадраты четных чисел =========>>> 56\n",
            "Квадраты четных чисел =========>>> 56\n"
          ]
        }
      ]
    },
    {
      "cell_type": "code",
      "source": [
        "# Найти произведение чисел больше 10\n",
        "\n",
        "from functools import reduce\n",
        "numbers = [5, 10, 15, 20, 25]\n",
        "\n",
        "xx = reduce(lambda x, y: x * y, filter(lambda x: x > 10, numbers))\n",
        "print('Result ==========>>>', xx)"
      ],
      "metadata": {
        "colab": {
          "base_uri": "https://localhost:8080/"
        },
        "id": "VDRyEEL06y_h",
        "outputId": "3a113ab2-c67b-43d9-dba1-efc3166341ae"
      },
      "execution_count": null,
      "outputs": [
        {
          "output_type": "stream",
          "name": "stdout",
          "text": [
            "Result ==========>>> 7500\n"
          ]
        }
      ]
    },
    {
      "cell_type": "code",
      "source": [
        "print()\n",
        "print('Hiii')\n",
        "print()"
      ],
      "metadata": {
        "colab": {
          "base_uri": "https://localhost:8080/"
        },
        "id": "CvIT2S7UKzAB",
        "outputId": "82fb245e-7071-418a-dedf-8446a2338f26"
      },
      "execution_count": null,
      "outputs": [
        {
          "output_type": "stream",
          "name": "stdout",
          "text": [
            "\n",
            "Hiii\n"
          ]
        }
      ]
    },
    {
      "cell_type": "code",
      "source": [
        "print('Hiii')"
      ],
      "metadata": {
        "colab": {
          "base_uri": "https://localhost:8080/"
        },
        "id": "myNpd6QHK7B_",
        "outputId": "4e980bb5-7da9-4b2c-ab28-c05b2a98827a"
      },
      "execution_count": null,
      "outputs": [
        {
          "output_type": "stream",
          "name": "stdout",
          "text": [
            "Hiii\n"
          ]
        }
      ]
    },
    {
      "cell_type": "code",
      "source": [
        "def fun(num):\n",
        "  num += 10\n",
        "\n",
        "my_num"
      ],
      "metadata": {
        "id": "6hCdN4AKaWDS"
      },
      "execution_count": null,
      "outputs": []
    },
    {
      "cell_type": "code",
      "source": [
        "def info(**kwargs):\n",
        "    for key, value in kwargs.items():\n",
        "        print(f'{key}: {value}')\n",
        "\n",
        "info(key1='value1', key2='value2', key3='value3')"
      ],
      "metadata": {
        "colab": {
          "base_uri": "https://localhost:8080/"
        },
        "id": "SELYTfJw92CQ",
        "outputId": "08ec0ef5-3b1e-4dcd-a675-8fede2f062c7"
      },
      "execution_count": null,
      "outputs": [
        {
          "output_type": "stream",
          "name": "stdout",
          "text": [
            "key1: value1\n",
            "key2: value2\n",
            "key3: value3\n"
          ]
        }
      ]
    },
    {
      "cell_type": "code",
      "source": [
        "def info(**kwargs):\n",
        "    for key, value in kwargs.items():\n",
        "        print(key, value)\n",
        "\n",
        "info(name='Fadilsa', age=25, city='Baghdad')"
      ],
      "metadata": {
        "colab": {
          "base_uri": "https://localhost:8080/"
        },
        "id": "6jckgDez87SD",
        "outputId": "36d2b396-9e27-4bd2-b2fb-c2ce2bd42c03"
      },
      "execution_count": null,
      "outputs": [
        {
          "output_type": "stream",
          "name": "stdout",
          "text": [
            "name Fadilsa\n",
            "age 25\n",
            "city Baghdad\n"
          ]
        }
      ]
    },
    {
      "cell_type": "code",
      "source": [
        "def info(**kwargs):\n",
        "    for key, value in kwargs.items():\n",
        "        print(key, value)\n",
        "\n",
        "info(name='Ali', age='22', city='Baghdad')"
      ],
      "metadata": {
        "colab": {
          "base_uri": "https://localhost:8080/"
        },
        "id": "NxG5XX8L9iMo",
        "outputId": "f956f578-18a2-4aa2-91a5-28b81611185c"
      },
      "execution_count": null,
      "outputs": [
        {
          "output_type": "stream",
          "name": "stdout",
          "text": [
            "name Ali\n",
            "age 22\n",
            "city Baghdad\n"
          ]
        }
      ]
    },
    {
      "cell_type": "code",
      "source": [
        "def fun():\n",
        "  return 9\n",
        "\n",
        "n = fun()\n",
        "print(n)"
      ],
      "metadata": {
        "colab": {
          "base_uri": "https://localhost:8080/"
        },
        "id": "ytFvJjV9hwRY",
        "outputId": "74239a32-01f3-464d-ecb0-bc616d3ec500"
      },
      "execution_count": null,
      "outputs": [
        {
          "output_type": "stream",
          "name": "stdout",
          "text": [
            "9\n"
          ]
        }
      ]
    },
    {
      "cell_type": "code",
      "source": [
        "import this"
      ],
      "metadata": {
        "colab": {
          "base_uri": "https://localhost:8080/"
        },
        "id": "LRfvyE8AjRIW",
        "outputId": "0e82f62f-3f14-42df-e045-d6b79e45afa2"
      },
      "execution_count": null,
      "outputs": [
        {
          "output_type": "stream",
          "name": "stdout",
          "text": [
            "The Zen of Python, by Tim Peters\n",
            "\n",
            "Beautiful is better than ugly.\n",
            "Explicit is better than implicit.\n",
            "Simple is better than complex.\n",
            "Complex is better than complicated.\n",
            "Flat is better than nested.\n",
            "Sparse is better than dense.\n",
            "Readability counts.\n",
            "Special cases aren't special enough to break the rules.\n",
            "Although practicality beats purity.\n",
            "Errors should never pass silently.\n",
            "Unless explicitly silenced.\n",
            "In the face of ambiguity, refuse the temptation to guess.\n",
            "There should be one-- and preferably only one --obvious way to do it.\n",
            "Although that way may not be obvious at first unless you're Dutch.\n",
            "Now is better than never.\n",
            "Although never is often better than *right* now.\n",
            "If the implementation is hard to explain, it's a bad idea.\n",
            "If the implementation is easy to explain, it may be a good idea.\n",
            "Namespaces are one honking great idea -- let's do more of those!\n"
          ]
        }
      ]
    },
    {
      "cell_type": "code",
      "source": [
        "def funo():\n",
        "  print('hiiiiiiii')\n",
        "\n",
        "funo()\n",
        "funo()\n",
        "funo()\n",
        "funo()\n",
        "funo()\n"
      ],
      "metadata": {
        "colab": {
          "base_uri": "https://localhost:8080/"
        },
        "id": "psDQnDK8tK7k",
        "outputId": "63d71806-2848-4f1e-f3b2-782d9fcda342"
      },
      "execution_count": null,
      "outputs": [
        {
          "output_type": "stream",
          "name": "stdout",
          "text": [
            "hiiiiiiii\n",
            "hiiiiiiii\n",
            "hiiiiiiii\n",
            "hiiiiiiii\n",
            "hiiiiiiii\n"
          ]
        }
      ]
    },
    {
      "cell_type": "code",
      "source": [
        "def fun():\n",
        "  return 'hiiiiiiiiii'\n",
        "\n",
        "fun()"
      ],
      "metadata": {
        "colab": {
          "base_uri": "https://localhost:8080/",
          "height": 35
        },
        "id": "GK2tHtOatBup",
        "outputId": "7f62f172-529b-42dd-a980-a2b811233c46"
      },
      "execution_count": null,
      "outputs": [
        {
          "output_type": "execute_result",
          "data": {
            "text/plain": [
              "'hiiiiiiiiii'"
            ],
            "application/vnd.google.colaboratory.intrinsic+json": {
              "type": "string"
            }
          },
          "metadata": {},
          "execution_count": 8
        }
      ]
    },
    {
      "cell_type": "code",
      "source": [
        "def greet(name):\n",
        "  print(f'Hello, {name}')\n",
        "\n",
        "greet('Sara')\n",
        "greet('Ali')\n",
        "greet('Cat')\n",
        "greet('Son yoo')\n",
        "greet('Putin')\n",
        "greet('Saddam')\n",
        "greet('My love')\n"
      ],
      "metadata": {
        "colab": {
          "base_uri": "https://localhost:8080/"
        },
        "id": "r6UJEZk9unwe",
        "outputId": "00f18dcd-21f3-4c0b-d8ea-34e3799751e1"
      },
      "execution_count": null,
      "outputs": [
        {
          "output_type": "stream",
          "name": "stdout",
          "text": [
            "Hello, Sara\n",
            "Hello, Ali\n",
            "Hello, Cat\n",
            "Hello, Son yoo\n",
            "Hello, Putin\n",
            "Hello, Saddam\n",
            "Hello, My love\n"
          ]
        }
      ]
    },
    {
      "cell_type": "code",
      "source": [
        "def sum(x, y):\n",
        "  return x * y\n",
        "\n",
        "print(sum(1, 2))"
      ],
      "metadata": {
        "colab": {
          "base_uri": "https://localhost:8080/"
        },
        "id": "RNxgmOWaunVu",
        "outputId": "1ab123b4-6f16-45e8-a10a-5d9212354ccb"
      },
      "execution_count": null,
      "outputs": [
        {
          "output_type": "stream",
          "name": "stdout",
          "text": [
            "2\n"
          ]
        }
      ]
    },
    {
      "cell_type": "code",
      "source": [
        "def nums(a, b):\n",
        "  return f'hi {a}, my name is {b}'\n",
        "# nums('Saly', 'Fadil')\n",
        "nums(b='Fadil', a='Saly')"
      ],
      "metadata": {
        "colab": {
          "base_uri": "https://localhost:8080/",
          "height": 35
        },
        "id": "LQYtN2l3unSb",
        "outputId": "8adca9f3-dc67-4953-8ac7-e0e8f0119088"
      },
      "execution_count": null,
      "outputs": [
        {
          "output_type": "execute_result",
          "data": {
            "text/plain": [
              "'hi Saly, my name is Fadil'"
            ],
            "application/vnd.google.colaboratory.intrinsic+json": {
              "type": "string"
            }
          },
          "metadata": {},
          "execution_count": 21
        }
      ]
    },
    {
      "cell_type": "code",
      "source": [
        "def s(a='ss'):\n",
        "  return(f\"it's {a}\")\n",
        "# s()\n",
        "# s(a='aa')\n",
        "print(s(a='aa'))"
      ],
      "metadata": {
        "colab": {
          "base_uri": "https://localhost:8080/"
        },
        "id": "NZcM6ZIQunOo",
        "outputId": "4de59ae7-0b20-4f9a-bc29-481c2fb9511b"
      },
      "execution_count": null,
      "outputs": [
        {
          "output_type": "stream",
          "name": "stdout",
          "text": [
            "it's aa\n"
          ]
        }
      ]
    },
    {
      "cell_type": "code",
      "source": [
        "def fun(*args):\n",
        "  sum = 0\n",
        "  for i in args:\n",
        "    sum += i\n",
        "  return sum\n",
        "\n",
        "print(fun(1, 2, 3))"
      ],
      "metadata": {
        "id": "ugwPCpmMunKN",
        "colab": {
          "base_uri": "https://localhost:8080/"
        },
        "outputId": "fab577cd-bed3-47eb-903e-d2b9e784e222"
      },
      "execution_count": null,
      "outputs": [
        {
          "output_type": "stream",
          "name": "stdout",
          "text": [
            "6\n"
          ]
        }
      ]
    },
    {
      "cell_type": "code",
      "source": [
        "def funo(*args):\n",
        "  sum = 0\n",
        "  for i in args:\n",
        "    sum += i\n",
        "  return sum\n",
        "\n",
        "print(funo(1, 2, 3, 4, 5))\n"
      ],
      "metadata": {
        "colab": {
          "base_uri": "https://localhost:8080/"
        },
        "id": "sSlmJNGuYPEo",
        "outputId": "5e9e83b8-d984-4aaa-fa9b-bd3836ae65c5"
      },
      "execution_count": null,
      "outputs": [
        {
          "output_type": "stream",
          "name": "stdout",
          "text": [
            "15\n"
          ]
        }
      ]
    },
    {
      "cell_type": "code",
      "source": [
        "def func(*args):\n",
        "  total = 0\n",
        "  for i in args:\n",
        "    total += i\n",
        "  print(total)\n",
        "\n",
        "func(1, 2, 3)\n",
        "func(2, 4, 6)\n",
        "func(3, 6, 9)"
      ],
      "metadata": {
        "id": "z5SQiaUHunE7",
        "colab": {
          "base_uri": "https://localhost:8080/"
        },
        "outputId": "36ef7d4c-b7aa-4a9f-fb12-cfc25a41b71e"
      },
      "execution_count": null,
      "outputs": [
        {
          "output_type": "stream",
          "name": "stdout",
          "text": [
            "6\n",
            "12\n",
            "18\n"
          ]
        }
      ]
    },
    {
      "cell_type": "code",
      "source": [
        "def KeyWordsArgs(**kwargs):\n",
        "  for key, value in kwargs.items():\n",
        "    # print(key, value)\n",
        "    print(f\"{key}: {value}\")\n",
        "\n",
        "KeyWordsArgs(first=1, second=2)"
      ],
      "metadata": {
        "id": "T7OCUs9uum-c",
        "colab": {
          "base_uri": "https://localhost:8080/"
        },
        "outputId": "71d37c72-14ee-472a-8f82-9566099ae5b6"
      },
      "execution_count": null,
      "outputs": [
        {
          "output_type": "stream",
          "name": "stdout",
          "text": [
            "first: 1\n",
            "second: 2\n"
          ]
        }
      ]
    },
    {
      "cell_type": "code",
      "source": [
        "def fun(myfun):\n",
        "  print(f'this is my {myfun}')\n",
        "\n",
        "fun('function')"
      ],
      "metadata": {
        "id": "A84_167p5cT5",
        "colab": {
          "base_uri": "https://localhost:8080/"
        },
        "outputId": "57bd4699-d0ce-4b76-9d2e-65a0ab848855"
      },
      "execution_count": null,
      "outputs": [
        {
          "output_type": "stream",
          "name": "stdout",
          "text": [
            "this is my function\n"
          ]
        }
      ]
    },
    {
      "cell_type": "code",
      "source": [
        "def fun(myfun):\n",
        "  return f'this is my {myfun}'\n",
        "\n",
        "print(fun('function'))"
      ],
      "metadata": {
        "colab": {
          "base_uri": "https://localhost:8080/"
        },
        "id": "iCk5z6p46N_F",
        "outputId": "f6862e6c-1215-40d2-f63e-4eb029124f3d"
      },
      "execution_count": null,
      "outputs": [
        {
          "output_type": "stream",
          "name": "stdout",
          "text": [
            "this is my function\n"
          ]
        }
      ]
    },
    {
      "cell_type": "code",
      "source": [
        "def fun(myfun1, myfun2):\n",
        "  return f'these are my functions: {myfun1} and {myfun2}'\n",
        "\n",
        "fun('function one', 'function two')"
      ],
      "metadata": {
        "colab": {
          "base_uri": "https://localhost:8080/",
          "height": 35
        },
        "id": "icgSCM366g0C",
        "outputId": "bf947d1b-d237-45b3-d972-d71e73668306"
      },
      "execution_count": null,
      "outputs": [
        {
          "output_type": "execute_result",
          "data": {
            "text/plain": [
              "'these are my functions: function one and function two'"
            ],
            "application/vnd.google.colaboratory.intrinsic+json": {
              "type": "string"
            }
          },
          "metadata": {},
          "execution_count": 3
        }
      ]
    },
    {
      "cell_type": "code",
      "source": [
        "def sumNums(n1, n2, n3):\n",
        "  return f'Num1 + Num2 - Num3 == {n1 + n2 - n3}'\n",
        "\n",
        "# sumNums(10, 20, 3)\n",
        "print(sumNums(10, 20, 3))"
      ],
      "metadata": {
        "colab": {
          "base_uri": "https://localhost:8080/"
        },
        "id": "Jr3TsnaV6_eQ",
        "outputId": "7582fc39-06db-4d20-f883-bc85487d510f"
      },
      "execution_count": null,
      "outputs": [
        {
          "output_type": "stream",
          "name": "stdout",
          "text": [
            "Num1 + Num2 - Num3 == 27\n"
          ]
        }
      ]
    },
    {
      "cell_type": "code",
      "source": [
        "def funs(fun1, fun2, fun3):\n",
        "  return f'total: {fun1 + fun2 + fun3}'\n",
        "\n",
        "print(funs(fun1=2, fun2=5, fun3=2))"
      ],
      "metadata": {
        "colab": {
          "base_uri": "https://localhost:8080/"
        },
        "id": "QCEWPa999PA0",
        "outputId": "422c15e3-97db-45d3-e073-69a09acb3686"
      },
      "execution_count": null,
      "outputs": [
        {
          "output_type": "stream",
          "name": "stdout",
          "text": [
            "total: 9\n"
          ]
        }
      ]
    },
    {
      "cell_type": "code",
      "source": [
        "def funs(fun1, fun2='Fadilsa'):\n",
        "    return f'{fun1} and {fun2}'\n",
        "\n",
        "# print(funs(fun1='Ahmed'))\n",
        "print(funs('Ahmed'))"
      ],
      "metadata": {
        "colab": {
          "base_uri": "https://localhost:8080/"
        },
        "id": "bvPkWPzd9waU",
        "outputId": "520f8216-3b4b-4521-c805-e49fc84b216b"
      },
      "execution_count": null,
      "outputs": [
        {
          "output_type": "stream",
          "name": "stdout",
          "text": [
            "Ahmed and Fadilsa\n"
          ]
        }
      ]
    },
    {
      "cell_type": "code",
      "source": [
        "def funs(*args):\n",
        "  return args\n",
        "\n",
        "print(funs(1, 2, 3, 4, 5))"
      ],
      "metadata": {
        "colab": {
          "base_uri": "https://localhost:8080/"
        },
        "id": "d_0AcSLq_StI",
        "outputId": "e69c092d-d6b0-48fa-a56d-009e9b9fabae"
      },
      "execution_count": null,
      "outputs": [
        {
          "output_type": "stream",
          "name": "stdout",
          "text": [
            "(1, 2, 3, 4, 5)\n"
          ]
        }
      ]
    },
    {
      "cell_type": "code",
      "source": [
        "def fun(*args):\n",
        "  return args\n",
        "\n",
        "fun(1, 2, 3, 4, 5)"
      ],
      "metadata": {
        "colab": {
          "base_uri": "https://localhost:8080/"
        },
        "id": "U_SfjK48_iUG",
        "outputId": "79bf9147-d9db-44ec-ba9b-dd43d71c9565"
      },
      "execution_count": null,
      "outputs": [
        {
          "output_type": "execute_result",
          "data": {
            "text/plain": [
              "(1, 2, 3, 4, 5)"
            ]
          },
          "metadata": {},
          "execution_count": 16
        }
      ]
    },
    {
      "cell_type": "code",
      "source": [
        "def fun(*args):\n",
        "  return sum(args)\n",
        "\n",
        "# fun(1, 2, 3, 4, 5)\n",
        "# fun(f'{1, 2, 3, 4}')\n",
        "print('The sum of all nums:', fun(1, 2, 3, 4, 5))"
      ],
      "metadata": {
        "colab": {
          "base_uri": "https://localhost:8080/"
        },
        "id": "1-k8UejR_xF3",
        "outputId": "1ad3a1be-533a-491b-ea97-5e285eefffa2"
      },
      "execution_count": null,
      "outputs": [
        {
          "output_type": "stream",
          "name": "stdout",
          "text": [
            "The sum of all nums: 15\n"
          ]
        }
      ]
    },
    {
      "cell_type": "code",
      "source": [
        "def fun(**kwargs):\n",
        "  for key, value in kwargs.items():\n",
        "    print(f'{key} = {value}')\n",
        "\n",
        "fun(name='Ali', age=22, city='Baghdad')\n",
        "# fun(name('Ahmed', age=27, city='Izhevsk'))"
      ],
      "metadata": {
        "colab": {
          "base_uri": "https://localhost:8080/"
        },
        "id": "wSZY5WugFvJh",
        "outputId": "9f060153-bd89-4b5f-d6a0-f9b2177ee40b"
      },
      "execution_count": null,
      "outputs": [
        {
          "output_type": "stream",
          "name": "stdout",
          "text": [
            "name = Ali\n",
            "age = 22\n",
            "city = Baghdad\n"
          ]
        }
      ]
    },
    {
      "cell_type": "markdown",
      "source": [
        "CLASSES AND OBJECTS"
      ],
      "metadata": {
        "id": "cYYOGmr0AcWc"
      }
    },
    {
      "cell_type": "code",
      "source": [
        "class cat:\n",
        "  pass"
      ],
      "metadata": {
        "id": "kbmQKq3nAY7D"
      },
      "execution_count": null,
      "outputs": []
    },
    {
      "cell_type": "code",
      "source": [
        "class cat:\n",
        "\n",
        "    # class methods\n",
        "    def sh(self):\n",
        "        print('shikhhh')\n",
        "    def ss(self):\n",
        "        print('sssss')\n",
        "    def ikh(self):\n",
        "        print('ikhhh')"
      ],
      "metadata": {
        "colab": {
          "base_uri": "https://localhost:8080/"
        },
        "id": "-vhDnmqmC7fD",
        "outputId": "bf615789-4003-4831-e00a-b3d3e25fad26"
      },
      "execution_count": null,
      "outputs": [
        {
          "output_type": "execute_result",
          "data": {
            "text/plain": [
              "__main__.cat"
            ]
          },
          "metadata": {},
          "execution_count": 3
        }
      ]
    },
    {
      "cell_type": "code",
      "source": [],
      "metadata": {
        "id": "OyR1c-rbC7nV"
      },
      "execution_count": null,
      "outputs": []
    },
    {
      "cell_type": "code",
      "source": [
        "def MyFunction():\n",
        "  print('Hello World!')\n",
        "  # MyFunction()\n",
        "\n",
        "MyFunction()\n",
        "MyFunction()\n",
        "MyFunction()\n",
        "MyFunction()\n",
        "MyFunction()\n",
        "MyFunction()\n",
        "MyFunction()\n",
        "MyFunction()"
      ],
      "metadata": {
        "colab": {
          "base_uri": "https://localhost:8080/"
        },
        "id": "OzvzK53741-l",
        "outputId": "f9ed67e1-72d8-4c62-b3de-414eecd4b518"
      },
      "execution_count": null,
      "outputs": [
        {
          "output_type": "stream",
          "name": "stdout",
          "text": [
            "Hello World!\n",
            "Hello World!\n",
            "Hello World!\n",
            "Hello World!\n",
            "Hello World!\n",
            "Hello World!\n",
            "Hello World!\n",
            "Hello World!\n"
          ]
        }
      ]
    },
    {
      "cell_type": "code",
      "source": [
        "class Cat:\n",
        "  def meow(self):\n",
        "    print('Meooow!')\n",
        "\n",
        "my_cat = Cat()\n",
        "my_cat.meow()"
      ],
      "metadata": {
        "colab": {
          "base_uri": "https://localhost:8080/"
        },
        "id": "kFHxnpd_42Bw",
        "outputId": "0609beb3-7996-46b2-9658-3a84d379d1ff"
      },
      "execution_count": null,
      "outputs": [
        {
          "output_type": "stream",
          "name": "stdout",
          "text": [
            "Meooow!\n"
          ]
        }
      ]
    },
    {
      "cell_type": "code",
      "source": [],
      "metadata": {
        "id": "hGliqN068UIf"
      },
      "execution_count": null,
      "outputs": []
    },
    {
      "cell_type": "code",
      "source": [
        "def greet(name):\n",
        "  print(name)"
      ],
      "metadata": {
        "id": "w4IZC3Ho42FB"
      },
      "execution_count": null,
      "outputs": []
    },
    {
      "cell_type": "code",
      "source": [
        "# import my_module\n",
        "# my_module.greet('Fadilsa')"
      ],
      "metadata": {
        "id": "fFugZY8G44G0"
      },
      "execution_count": null,
      "outputs": []
    },
    {
      "cell_type": "code",
      "source": [
        "def greet(name):\n",
        "  print(f'Hello {name}')\n",
        "greet('Ali')"
      ],
      "metadata": {
        "id": "a0sCN2f-44Kl",
        "colab": {
          "base_uri": "https://localhost:8080/"
        },
        "outputId": "be3c470e-9556-48b2-b0fe-2207fb246030"
      },
      "execution_count": 1,
      "outputs": [
        {
          "output_type": "stream",
          "name": "stdout",
          "text": [
            "Hello Ali\n"
          ]
        }
      ]
    },
    {
      "cell_type": "code",
      "source": [
        "def city(name):\n",
        "    print(f'My city is {name}')\n",
        "city('Baghdad')"
      ],
      "metadata": {
        "id": "8TEjo8ZY44N9",
        "colab": {
          "base_uri": "https://localhost:8080/"
        },
        "outputId": "4ad70589-b602-4049-fd72-d9bb74ea945f"
      },
      "execution_count": 2,
      "outputs": [
        {
          "output_type": "stream",
          "name": "stdout",
          "text": [
            "My city is Baghdad\n"
          ]
        }
      ]
    },
    {
      "cell_type": "code",
      "source": [
        "def nums(a, b):\n",
        "    t = a + b\n",
        "    print(t)\n",
        "nums(2, 7)"
      ],
      "metadata": {
        "id": "WYjhveY6C7tb",
        "colab": {
          "base_uri": "https://localhost:8080/"
        },
        "outputId": "6ce99bd8-7854-41bb-de83-aa0a9b739266"
      },
      "execution_count": 3,
      "outputs": [
        {
          "output_type": "stream",
          "name": "stdout",
          "text": [
            "9\n"
          ]
        }
      ]
    },
    {
      "cell_type": "code",
      "source": [
        "def name(first, last):\n",
        "    print(f'My full name is {first} {last}')\n",
        "name('Ahmed', 'Fadilsa')"
      ],
      "metadata": {
        "id": "W6x8QsLKC7zg",
        "colab": {
          "base_uri": "https://localhost:8080/"
        },
        "outputId": "84e63186-7056-4249-bdb3-28bd4bcd9561"
      },
      "execution_count": 5,
      "outputs": [
        {
          "output_type": "stream",
          "name": "stdout",
          "text": [
            "My full name is Ahmed Fadilsa\n"
          ]
        }
      ]
    },
    {
      "cell_type": "code",
      "source": [
        "def greet(name='Fadilsa'):\n",
        "    print(f'Hello', name)\n",
        "\n",
        "greet()"
      ],
      "metadata": {
        "colab": {
          "base_uri": "https://localhost:8080/"
        },
        "id": "NZ6qepBy390M",
        "outputId": "b54b0a49-cc54-479c-aa09-caebcf3c11c4"
      },
      "execution_count": 6,
      "outputs": [
        {
          "output_type": "stream",
          "name": "stdout",
          "text": [
            "Hello Fadilsa\n"
          ]
        }
      ]
    },
    {
      "cell_type": "code",
      "source": [
        "def data(name, age):\n",
        "  print(f'name: {name}, age: {age}')\n",
        "data('Ahmed', 27)\n",
        "data(name='Ahmed', age=27)"
      ],
      "metadata": {
        "colab": {
          "base_uri": "https://localhost:8080/"
        },
        "id": "3jqmCEu5PAtZ",
        "outputId": "67f8b600-15b8-4154-dd10-8f1ca58d744f"
      },
      "execution_count": 8,
      "outputs": [
        {
          "output_type": "stream",
          "name": "stdout",
          "text": [
            "name: Ahmed, age: 27\n",
            "name: Ahmed, age: 27\n"
          ]
        }
      ]
    },
    {
      "cell_type": "code",
      "source": [
        "def data(name, age):\n",
        "  print(f'name: {name}, age: {age}')\n",
        "data(name='Ahmed', age=27)"
      ],
      "metadata": {
        "colab": {
          "base_uri": "https://localhost:8080/"
        },
        "id": "wvHsB3pOPAyH",
        "outputId": "c66e149a-e1b6-4a47-f5a4-b3249129500d"
      },
      "execution_count": 9,
      "outputs": [
        {
          "output_type": "stream",
          "name": "stdout",
          "text": [
            "name: Ahmed, age: 27\n"
          ]
        }
      ]
    },
    {
      "cell_type": "code",
      "source": [
        "def nums(*args):\n",
        "    t = sum(args)\n",
        "    print(t)\n",
        "nums(1, 2, 3, 4, 5)"
      ],
      "metadata": {
        "colab": {
          "base_uri": "https://localhost:8080/"
        },
        "id": "kI7CqCFKPBd7",
        "outputId": "4ca01741-7269-4c4e-9d89-0d09eee28188"
      },
      "execution_count": 10,
      "outputs": [
        {
          "output_type": "stream",
          "name": "stdout",
          "text": [
            "15\n"
          ]
        }
      ]
    },
    {
      "cell_type": "code",
      "source": [
        "# def nums(**kwargs):\n",
        "#     total = sum(kwargs)\n",
        "#     print(total)\n",
        "# nums(one=1, two=2, three=3)"
      ],
      "metadata": {
        "id": "HEfeVGYmQzm4"
      },
      "execution_count": 14,
      "outputs": []
    },
    {
      "cell_type": "code",
      "source": [
        "def data(**kwargs):\n",
        "    for key, value in kwargs.items():\n",
        "        print(f'{key}: {value}')\n",
        "\n",
        "data(name='Ahmed', age=20, city='Baghdad')"
      ],
      "metadata": {
        "colab": {
          "base_uri": "https://localhost:8080/"
        },
        "id": "BLeN1O0QQztG",
        "outputId": "3ccc921b-7dca-414d-9f0e-08710b2415da"
      },
      "execution_count": 15,
      "outputs": [
        {
          "output_type": "stream",
          "name": "stdout",
          "text": [
            "name: Ahmed\n",
            "age: 20\n",
            "city: Baghdad\n"
          ]
        }
      ]
    },
    {
      "cell_type": "code",
      "source": [
        "def employees(**kwargs):\n",
        "    for key, value in kwargs.items():\n",
        "        print(f'{key}: {value}')\n",
        "employees(Company1='IT', Company2='Cars', Company3='Banks', Company5='Homes', Company4='Armies')"
      ],
      "metadata": {
        "colab": {
          "base_uri": "https://localhost:8080/"
        },
        "id": "HN-uHcZwQzx7",
        "outputId": "13e8835d-c023-47ea-f08f-e393ac90390a"
      },
      "execution_count": 18,
      "outputs": [
        {
          "output_type": "stream",
          "name": "stdout",
          "text": [
            "Company1: IT\n",
            "Company2: Cars\n",
            "Company3: Banks\n",
            "Company5: Homes\n",
            "Company4: Armies\n"
          ]
        }
      ]
    },
    {
      "cell_type": "code",
      "source": [
        "def name():\n",
        "  return 'Fadilsa'\n",
        "text = name()\n",
        "print(text)"
      ],
      "metadata": {
        "colab": {
          "base_uri": "https://localhost:8080/"
        },
        "id": "3c21IEG8Qz3s",
        "outputId": "24a02cc6-ecc9-40bd-c6fb-410bb4f00f9e"
      },
      "execution_count": 1,
      "outputs": [
        {
          "output_type": "stream",
          "name": "stdout",
          "text": [
            "Fadilsa\n"
          ]
        }
      ]
    },
    {
      "cell_type": "code",
      "source": [
        "def number9():\n",
        "  return 9\n",
        "\n",
        "num = number9()\n",
        "print(num)"
      ],
      "metadata": {
        "colab": {
          "base_uri": "https://localhost:8080/"
        },
        "id": "kyglD6y_ZvC4",
        "outputId": "0053d160-ed69-4e4b-83e4-c6c7b67521d7"
      },
      "execution_count": 2,
      "outputs": [
        {
          "output_type": "stream",
          "name": "stdout",
          "text": [
            "9\n"
          ]
        }
      ]
    },
    {
      "cell_type": "code",
      "source": [
        "def nums(a, b):\n",
        "  return a * b\n",
        "\n",
        "value = nums(2, 9)\n",
        "print(value)"
      ],
      "metadata": {
        "colab": {
          "base_uri": "https://localhost:8080/"
        },
        "id": "yNXzq-xYZvKp",
        "outputId": "04efc803-0041-43a1-cabd-87e2dc22729b"
      },
      "execution_count": 5,
      "outputs": [
        {
          "output_type": "stream",
          "name": "stdout",
          "text": [
            "18\n"
          ]
        }
      ]
    },
    {
      "cell_type": "code",
      "source": [
        "def add_nums(x, y):\n",
        "  return x + y\n",
        "\n",
        "value = add_nums(5, 9)\n",
        "print(value)"
      ],
      "metadata": {
        "colab": {
          "base_uri": "https://localhost:8080/"
        },
        "id": "JkAk6ZxsZs_i",
        "outputId": "e3c862e8-08b0-40a2-8c6b-a8fe9ca32623"
      },
      "execution_count": 6,
      "outputs": [
        {
          "output_type": "stream",
          "name": "stdout",
          "text": [
            "14\n"
          ]
        }
      ]
    },
    {
      "cell_type": "code",
      "source": [
        "def check_num(num):\n",
        "  if num < 0:\n",
        "    return\n",
        "  print(f'The number is: {num}')\n",
        "\n",
        "check_num(9)\n",
        "check_num(-3)\n",
        "check_num(0)"
      ],
      "metadata": {
        "colab": {
          "base_uri": "https://localhost:8080/"
        },
        "id": "tpLl73VoZtD7",
        "outputId": "3f676ba5-d62b-41b4-ac12-3f0dc42f8aaf"
      },
      "execution_count": 9,
      "outputs": [
        {
          "output_type": "stream",
          "name": "stdout",
          "text": [
            "The number is: 9\n",
            "The number is: 0\n"
          ]
        }
      ]
    },
    {
      "cell_type": "code",
      "source": [
        "def check_num(num):\n",
        "  if num % 2 == 0:\n",
        "    return 'زوجي'\n",
        "  return \"فردي\"\n",
        "\n",
        "check_num(9)\n",
        "check_num(82)"
      ],
      "metadata": {
        "colab": {
          "base_uri": "https://localhost:8080/",
          "height": 35
        },
        "id": "BQascJ7oQz8c",
        "outputId": "99096162-38ba-4c4e-c59d-4464d1da8f43"
      },
      "execution_count": 11,
      "outputs": [
        {
          "output_type": "execute_result",
          "data": {
            "text/plain": [
              "'زوجي'"
            ],
            "application/vnd.google.colaboratory.intrinsic+json": {
              "type": "string"
            }
          },
          "metadata": {},
          "execution_count": 11
        }
      ]
    },
    {
      "cell_type": "code",
      "source": [
        "def isPrime(n):\n",
        "  if n <= 1:\n",
        "    return False\n",
        "  for i in range(2, n):\n",
        "     if n % i == 0:\n",
        "         return False\n",
        "  return True\n",
        "\n",
        "# isPrime(8)\n",
        "# isPrime(9)\n",
        "\n",
        "# num = isPrime(5)\n",
        "# print(num)\n",
        "\n",
        "# num = isPrime(9)\n",
        "# print(num)"
      ],
      "metadata": {
        "id": "O-xbupzgPBiq"
      },
      "execution_count": 46,
      "outputs": []
    },
    {
      "cell_type": "code",
      "source": [
        "value = int(input('Enter any number: '))\n",
        "if isPrime(value):\n",
        "  print(f'{value} is a prime number')\n",
        "else:\n",
        "  print(f'{value} is not a prime number')"
      ],
      "metadata": {
        "colab": {
          "base_uri": "https://localhost:8080/"
        },
        "id": "fRx089fT0Dbc",
        "outputId": "a19f1ea4-fef7-41a7-d755-3bcd58a06584"
      },
      "execution_count": 49,
      "outputs": [
        {
          "output_type": "stream",
          "name": "stdout",
          "text": [
            "Enter any number: 7\n",
            "7 is a prime number\n"
          ]
        }
      ]
    },
    {
      "cell_type": "code",
      "source": [
        "def sumN(*nums):\n",
        "  total = 0\n",
        "  for n in nums:\n",
        "    total += n\n",
        "  print(total)\n",
        "\n",
        "sumN(1, 2, 3)"
      ],
      "metadata": {
        "colab": {
          "base_uri": "https://localhost:8080/"
        },
        "id": "PRyOiBGL0DgA",
        "outputId": "c8def9e4-5aad-4ec1-d590-bd9ee5699c56"
      },
      "execution_count": 50,
      "outputs": [
        {
          "output_type": "stream",
          "name": "stdout",
          "text": [
            "6\n"
          ]
        }
      ]
    },
    {
      "cell_type": "code",
      "source": [
        "import this"
      ],
      "metadata": {
        "colab": {
          "base_uri": "https://localhost:8080/"
        },
        "id": "qpMdWFKD0DlU",
        "outputId": "4066aa2c-e4b6-4705-a8ab-72b847eebd84"
      },
      "execution_count": 51,
      "outputs": [
        {
          "output_type": "stream",
          "name": "stdout",
          "text": [
            "The Zen of Python, by Tim Peters\n",
            "\n",
            "Beautiful is better than ugly.\n",
            "Explicit is better than implicit.\n",
            "Simple is better than complex.\n",
            "Complex is better than complicated.\n",
            "Flat is better than nested.\n",
            "Sparse is better than dense.\n",
            "Readability counts.\n",
            "Special cases aren't special enough to break the rules.\n",
            "Although practicality beats purity.\n",
            "Errors should never pass silently.\n",
            "Unless explicitly silenced.\n",
            "In the face of ambiguity, refuse the temptation to guess.\n",
            "There should be one-- and preferably only one --obvious way to do it.\n",
            "Although that way may not be obvious at first unless you're Dutch.\n",
            "Now is better than never.\n",
            "Although never is often better than *right* now.\n",
            "If the implementation is hard to explain, it's a bad idea.\n",
            "If the implementation is easy to explain, it may be a good idea.\n",
            "Namespaces are one honking great idea -- let's do more of those!\n"
          ]
        }
      ]
    },
    {
      "cell_type": "code",
      "source": [],
      "metadata": {
        "id": "fZb5blv70Dpy"
      },
      "execution_count": null,
      "outputs": []
    },
    {
      "cell_type": "code",
      "source": [],
      "metadata": {
        "id": "ceX0xx0_0Duj"
      },
      "execution_count": null,
      "outputs": []
    }
  ]
}