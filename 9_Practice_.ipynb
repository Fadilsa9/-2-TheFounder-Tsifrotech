{
  "nbformat": 4,
  "nbformat_minor": 0,
  "metadata": {
    "colab": {
      "provenance": [],
      "authorship_tag": "ABX9TyMZBJJbKhemikGJyZPHC4Xr"
    },
    "kernelspec": {
      "name": "python3",
      "display_name": "Python 3"
    },
    "language_info": {
      "name": "python"
    }
  },
  "cells": [
    {
      "cell_type": "code",
      "execution_count": null,
      "metadata": {
        "colab": {
          "base_uri": "https://localhost:8080/"
        },
        "id": "QPjgPyitWMHF",
        "outputId": "169a0fd3-8a61-4b33-f3fc-5888bf514de6"
      },
      "outputs": [
        {
          "output_type": "stream",
          "name": "stdout",
          "text": [
            "Requirement already satisfied: scikit-learn in /usr/local/lib/python3.11/dist-packages (1.6.1)\n",
            "Requirement already satisfied: numpy>=1.19.5 in /usr/local/lib/python3.11/dist-packages (from scikit-learn) (2.0.2)\n",
            "Requirement already satisfied: scipy>=1.6.0 in /usr/local/lib/python3.11/dist-packages (from scikit-learn) (1.15.3)\n",
            "Requirement already satisfied: joblib>=1.2.0 in /usr/local/lib/python3.11/dist-packages (from scikit-learn) (1.5.1)\n",
            "Requirement already satisfied: threadpoolctl>=3.1.0 in /usr/local/lib/python3.11/dist-packages (from scikit-learn) (3.6.0)\n",
            "🔮 التنبؤ النهائي: [1]\n",
            "📊 الاحتمالات لكل فئة [سليم، مريض]: [[0.02876787 0.97123213]]\n"
          ]
        }
      ],
      "source": [
        "# ✅ تثبيت مكتبة scikit-learn (مكتبة تعلم الآلة الكلاسيكية)\n",
        "# نستخدم هذه المكتبة لأنها تحتوي على خوارزميات جاهزة مثل الانحدار، الشجرة، SVM...\n",
        "!pip install scikit-learn\n",
        "\n",
        "# ✅ استيراد المكتبات الضرورية\n",
        "import numpy as np  # للتعامل مع المصفوفات والأرقام\n",
        "import matplotlib.pyplot as plt  # لعرض الرسومات البيانية لاحقاً (اختياري)\n",
        "from sklearn.linear_model import LogisticRegression  # استيراد خوارزمية الانحدار اللوجستي من مكتبة scikit-learn\n",
        "\n",
        "# ✅ إعداد البيانات الطبية (أعراض المرضى مشفّرة بأرقام، مع النتيجة)\n",
        "# كل صف يمثل مريضًا، والأرقام تمثل الخصائص/الأعراض\n",
        "X = np.array([\n",
        "    [1, 2],   # مريض 1: لديه الأعراض 1 و2\n",
        "    [2, 3],   # مريض 2: لديه الأعراض 2 و3\n",
        "    [3, 4],   # مريض 3: لديه الأعراض 3 و4\n",
        "    [4, 5],   # مريض 4: لديه الأعراض 4 و5\n",
        "    [5, 6]    # مريض 5: لديه الأعراض 5 و6\n",
        "])\n",
        "\n",
        "# القيم المستهدفة: 0 = سليم، 1 = مريض\n",
        "y = np.array([\n",
        "    0,  # المريض الأول سليم\n",
        "    0,  # المريض الثاني سليم\n",
        "    0,  # المريض الثالث سليم\n",
        "    1,  # المريض الرابع مريض\n",
        "    1   # المريض الخامس مريض\n",
        "])\n",
        "\n",
        "# ✅ إنشاء النموذج (Object) من خوارزمية Logistic Regression\n",
        "model = LogisticRegression()\n",
        "\n",
        "# ✅ تدريب النموذج على البيانات\n",
        "model.fit(X, y)\n",
        "# هذا السطر يجعل النموذج يتعلّم العلاقة بين الأعراض (X) والنتيجة (y)\n",
        "\n",
        "# ✅ اختبار النموذج على مريض جديد\n",
        "# هذا المريض لديه أعراض: 6 و7\n",
        "new_observation = np.array([[6, 7]])\n",
        "\n",
        "# ✅ التنبؤ النهائي: هل المريض مريض (1) أم سليم (0)؟\n",
        "prediction = model.predict(new_observation)\n",
        "\n",
        "# ✅ طباعة النتيجة\n",
        "print(\"🔮 التنبؤ النهائي:\", prediction)\n",
        "\n",
        "# ✅ طباعة احتمالات كل فئة (سليم أو مريض)\n",
        "# يعرض احتمالية انتماء العينة لكل صنف (0 أو 1)\n",
        "probabilities = model.predict_proba(new_observation)\n",
        "print(\"📊 الاحتمالات لكل فئة [سليم، مريض]:\", probabilities)\n"
      ]
    }
  ]
}