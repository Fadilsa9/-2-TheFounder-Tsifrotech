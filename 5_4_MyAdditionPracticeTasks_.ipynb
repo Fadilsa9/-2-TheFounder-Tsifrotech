{
  "nbformat": 4,
  "nbformat_minor": 0,
  "metadata": {
    "colab": {
      "provenance": [],
      "authorship_tag": "ABX9TyN7281Sp+8hXXRYNG6FG8su"
    },
    "kernelspec": {
      "name": "python3",
      "display_name": "Python 3"
    },
    "language_info": {
      "name": "python"
    }
  },
  "cells": [
    {
      "cell_type": "markdown",
      "source": [
        "Код реализует нейрон, который вычисляет взвешенную сумму входного вектора."
      ],
      "metadata": {
        "id": "U37HYJiWdMVl"
      }
    },
    {
      "cell_type": "code",
      "source": [
        "import numpy as np\n",
        "\n",
        "class Neuron:\n",
        "    def __init__ (self, w):\n",
        "        self.w = w\n",
        "\n",
        "    def y(self, x):\n",
        "        s = np.dot(self.w, x)\n",
        "        return s\n",
        "\n",
        "# Задаем входный вектор\n",
        "Xi = np.array([1, 0, 0, 1])\n",
        "\n",
        "# Задаем вектор весов\n",
        "Wi = np.array([5, 4, 1, 1])\n",
        "n = Neuron(Wi)\n",
        "print('s = ', n.y(Xi))"
      ],
      "metadata": {
        "colab": {
          "base_uri": "https://localhost:8080/"
        },
        "id": "kLiYKocldOI4",
        "outputId": "096f1e3d-35db-4929-98e8-c40ce84b79e8"
      },
      "execution_count": null,
      "outputs": [
        {
          "output_type": "stream",
          "name": "stdout",
          "text": [
            "s =  6\n"
          ]
        }
      ]
    },
    {
      "cell_type": "code",
      "source": [
        "import numpy as np\n",
        "\n",
        "class Neuron:\n",
        "    def __init__ (self, w):\n",
        "        self.w = w\n",
        "\n",
        "    def onestep(self, x):  # Функция активации\n",
        "        if x >= 0:\n",
        "            return 1\n",
        "        else:\n",
        "            return 0\n",
        "\n",
        "    def y(self, x):\n",
        "        s = np.dot(self.w, x)   # s = np.dot(Wi, Xi) = 5*1 + 4*0 + 1*0 + 1*1 = 6\n",
        "\n",
        "        return s\n",
        "\n",
        "\n",
        "bias = 5\n",
        "\n",
        "Xi = np.array([1, 0, 0, 1])\n",
        "Wi = np.array([5, 4, 1, 1])\n",
        "\n",
        "n = Neuron(Wi)\n",
        "S = n.y(Xi) - bias\n",
        "\n",
        "print(S)\n",
        "print(n.onestep(S))   # Y = n.onestep(S) = onestep(1) = 1"
      ],
      "metadata": {
        "id": "B8RN3m6vs1tl",
        "colab": {
          "base_uri": "https://localhost:8080/"
        },
        "outputId": "f5f0b3c6-333a-4c67-cee7-3bcfb20967fa"
      },
      "execution_count": null,
      "outputs": [
        {
          "output_type": "stream",
          "name": "stdout",
          "text": [
            "1\n",
            "1\n"
          ]
        }
      ]
    },
    {
      "cell_type": "code",
      "source": [
        "import numpy as np  # Импортируем библиотеку NumPy для работы с массивами и математическими операциями\n",
        "\n",
        "class Neuron:\n",
        "    def __init__(self, w):\n",
        "        self.w = w  # Инициализируем объект нейрона с вектором весов w\n",
        "\n",
        "    def onestep(self, x):  # Функция активации, которая принимает входное значение x\n",
        "        if x >= 0:  # Проверяем, больше ли x или равно нулю\n",
        "            return 1  # Если да, возвращаем 1 (нейрон сработал)\n",
        "        else:\n",
        "            return 0  # Если нет, возвращаем 0 (нейрон не сработал)\n",
        "\n",
        "    def у(self, x):  # Метод для вычисления взвешенной суммы входов\n",
        "        s = np.dot(self.w, x)  # Вычисляем скалярное произведение векторов весов и входного вектора\n",
        "        return s  # Возвращаем взвешенную сумму\n",
        "\n",
        "bias = 5  # Устанавливаем порог срабатывания нейрона\n",
        "\n",
        "# Задаем входной вектор\n",
        "Xi = np.array([1, 0, 0, 1])  # Входной вектор, представляющий значения входов нейрона\n",
        "# Задаем вектор весов\n",
        "Wi = np.array([5, 4, 1, 1])  # Вектор весов, который будет применяться к входам\n",
        "\n",
        "n = Neuron(Wi)  # Создаем экземпляр нейрона с заданными весами\n",
        "S = n.у(Xi) - bias  # Вычисляем взвешенную сумму входов и вычитаем порог (bias)\n",
        "\n",
        "print('S =', S)  # Выводим взвешенную сумму S\n",
        "print('Y =', n.onestep(S))  # Применяем функцию активации к S и выводим результат Y\n"
      ],
      "metadata": {
        "id": "u_PRGO5RCUsi",
        "colab": {
          "base_uri": "https://localhost:8080/"
        },
        "outputId": "26b225cb-60a6-4fdc-de45-c0b3a53d5e87"
      },
      "execution_count": null,
      "outputs": [
        {
          "output_type": "stream",
          "name": "stdout",
          "text": [
            "S = 1\n",
            "Y = 1\n"
          ]
        }
      ]
    },
    {
      "cell_type": "code",
      "source": [
        "#@title Сигмоида с параметром a\n",
        "import matplotlib.pyplot as plt\n",
        "import numpy as np\n",
        "\n",
        "x = np.linspace(-5, 5, 100)\n",
        "\n",
        "def sigmoid(alpha):\n",
        "    return 1 / ( 1 + np.exp(-alpha * x) )\n",
        "\n",
        "dpi = 80\n",
        "fig, ax = plt.subplots(dpi = dpi, figsize=(512 / dpi, 384 / dpi))\n",
        "ax.set_title(\"Сигмоида с параметром a\", fontsize=16)\n",
        "ax.set_xlabel(\"S\", fontsize=14)\n",
        "ax.set_ylabel(\"Y\", fontsize=14)\n",
        "\n",
        "plt.plot(x, sigmoid(0.5), 'r-')\n",
        "plt.plot(x, sigmoid(1.0), 'g-')\n",
        "plt.plot(x, sigmoid(2.0), 'b-')\n",
        "\n",
        "plt.legend(['a = 0.5', 'a = 1.0', 'a = 2.0'], loc = 'upper left')\n",
        "plt.show()"
      ],
      "metadata": {
        "colab": {
          "base_uri": "https://localhost:8080/",
          "height": 386
        },
        "id": "vqgupiDmbxOS",
        "outputId": "d7c243e5-2fd0-4852-b19e-a4aa6e04fae9"
      },
      "execution_count": null,
      "outputs": [
        {
          "output_type": "display_data",
          "data": {
            "text/plain": [
              "<Figure size 512x384 with 1 Axes>"
            ],
            "image/png": "[encoded data removed]"
          },
          "metadata": {}
        }
      ]
    },
    {
      "cell_type": "code",
      "source": [
        "import numpy as np\n",
        "x = np.linspace(-5, 5, 100)\n",
        "print(x)"
      ],
      "metadata": {
        "colab": {
          "base_uri": "https://localhost:8080/"
        },
        "id": "Q245OoEYqIBV",
        "outputId": "b4e60d92-d134-4d46-80e7-9dd81965f6ee"
      },
      "execution_count": null,
      "outputs": [
        {
          "output_type": "stream",
          "name": "stdout",
          "text": [
            "[-5.         -4.8989899  -4.7979798  -4.6969697  -4.5959596  -4.49494949\n",
            " -4.39393939 -4.29292929 -4.19191919 -4.09090909 -3.98989899 -3.88888889\n",
            " -3.78787879 -3.68686869 -3.58585859 -3.48484848 -3.38383838 -3.28282828\n",
            " -3.18181818 -3.08080808 -2.97979798 -2.87878788 -2.77777778 -2.67676768\n",
            " -2.57575758 -2.47474747 -2.37373737 -2.27272727 -2.17171717 -2.07070707\n",
            " -1.96969697 -1.86868687 -1.76767677 -1.66666667 -1.56565657 -1.46464646\n",
            " -1.36363636 -1.26262626 -1.16161616 -1.06060606 -0.95959596 -0.85858586\n",
            " -0.75757576 -0.65656566 -0.55555556 -0.45454545 -0.35353535 -0.25252525\n",
            " -0.15151515 -0.05050505  0.05050505  0.15151515  0.25252525  0.35353535\n",
            "  0.45454545  0.55555556  0.65656566  0.75757576  0.85858586  0.95959596\n",
            "  1.06060606  1.16161616  1.26262626  1.36363636  1.46464646  1.56565657\n",
            "  1.66666667  1.76767677  1.86868687  1.96969697  2.07070707  2.17171717\n",
            "  2.27272727  2.37373737  2.47474747  2.57575758  2.67676768  2.77777778\n",
            "  2.87878788  2.97979798  3.08080808  3.18181818  3.28282828  3.38383838\n",
            "  3.48484848  3.58585859  3.68686869  3.78787879  3.88888889  3.98989899\n",
            "  4.09090909  4.19191919  4.29292929  4.39393939  4.49494949  4.5959596\n",
            "  4.6969697   4.7979798   4.8989899   5.        ]\n"
          ]
        }
      ]
    },
    {
      "cell_type": "code",
      "source": [
        "import numpy\n",
        "import matplotlib.pyplot as plt\n",
        "\n",
        "s = numpy.linspace(-1, 1, 21)\n",
        "print(s)"
      ],
      "metadata": {
        "colab": {
          "base_uri": "https://localhost:8080/"
        },
        "id": "7SPZnsQAddpp",
        "outputId": "6abe2ef6-e762-4d25-be5e-f6ff70d1cce1"
      },
      "execution_count": null,
      "outputs": [
        {
          "output_type": "stream",
          "name": "stdout",
          "text": [
            "[-1.  -0.9 -0.8 -0.7 -0.6 -0.5 -0.4 -0.3 -0.2 -0.1  0.   0.1  0.2  0.3\n",
            "  0.4  0.5  0.6  0.7  0.8  0.9  1. ]\n"
          ]
        }
      ]
    },
    {
      "cell_type": "code",
      "source": [
        "import numpy as np\n",
        "\n",
        "class Neuron:\n",
        "\n",
        "    def __init__ (self, w):\n",
        "        self.w = w\n",
        "\n",
        "    def y(self, x):\n",
        "        s = np.dot(self.w, x)\n",
        "        return s\n",
        "\n",
        "Xi = np.array([2, 3])\n",
        "Wi = np.array([1, 1])\n",
        "\n",
        "n = Neuron(Wi)\n",
        "print(n.y(Xi))"
      ],
      "metadata": {
        "id": "nwZ6qU1qchGj",
        "colab": {
          "base_uri": "https://localhost:8080/"
        },
        "outputId": "9c5d7595-779b-4d2d-ee2d-dcbb81ec2f59"
      },
      "execution_count": null,
      "outputs": [
        {
          "output_type": "stream",
          "name": "stdout",
          "text": [
            "5\n"
          ]
        }
      ]
    },
    {
      "cell_type": "code",
      "source": [
        "import numpy as np\n",
        "\n",
        "A = np.array([[1, 2], [3, 4]])\n",
        "B = np.array([[5, 6], [7, 8]])\n",
        "\n",
        "result = np.dot(A, B)\n",
        "print(result)"
      ],
      "metadata": {
        "id": "4lwn6pKicfKK",
        "colab": {
          "base_uri": "https://localhost:8080/"
        },
        "outputId": "729d6114-5b55-47b5-e85b-9b30e361b4ed"
      },
      "execution_count": null,
      "outputs": [
        {
          "output_type": "stream",
          "name": "stdout",
          "text": [
            "[[19 22]\n",
            " [43 50]]\n"
          ]
        }
      ]
    },
    {
      "cell_type": "code",
      "source": [
        "import numpy as np\n",
        "\n",
        "# Входные данные для обучения\n",
        "training_set_inputs = np.array([[0, 0, 1], [1, 1, 1], [1, 0, 1], [0, 1, 1]])\n",
        "training_set_outputs = np.array([[0], [1], [1], [0]])\n",
        "\n",
        "# Установка начального значения генератора случайных чисел\n",
        "np.random.seed(1)\n",
        "\n",
        "# Инициализация весов\n",
        "synaptic_weights = 2 * np.random.random((3, 1)) - 1\n",
        "\n",
        "# Обучение нейронной сети\n",
        "for iteration in range(10000):  # Используем range вместо xrange\n",
        "    # Прямое распространение\n",
        "    output = 1 / (1 + np.exp(-(np.dot(training_set_inputs, synaptic_weights))))\n",
        "\n",
        "    # Обновление весов\n",
        "    synaptic_weights += np.dot(training_set_inputs.T, (training_set_outputs - output) * output * (1 - output))\n",
        "\n",
        "# Прогноз для нового входа\n",
        "print(1 / (1 + np.exp(-(np.dot(np.array([1, 0, 0]), synaptic_weights)))))\n"
      ],
      "metadata": {
        "id": "5wFCnaesU9Ze",
        "colab": {
          "base_uri": "https://localhost:8080/"
        },
        "outputId": "ab3b51a2-9309-4862-9fd6-5c5d1b851fcb"
      },
      "execution_count": 1,
      "outputs": [
        {
          "output_type": "stream",
          "name": "stdout",
          "text": [
            "[0.99993704]\n"
          ]
        }
      ]
    },
    {
      "cell_type": "code",
      "source": [
        "import numpy as np\n",
        "\n",
        "# Создаем двумерный массив (матрицу)\n",
        "matrix = np.array([[1, 2, 3],\n",
        "                   [4, 5, 6]])\n",
        "\n",
        "print(\"Исходная матрица:\")\n",
        "print(matrix)\n",
        "\n",
        "# Транспонируем матрицу\n",
        "transposed_matrix = matrix.T\n",
        "\n",
        "print(\"\\nТранспонированная матрица:\")\n",
        "print(transposed_matrix)\n"
      ],
      "metadata": {
        "id": "7bAvW28FU_ea",
        "colab": {
          "base_uri": "https://localhost:8080/"
        },
        "outputId": "4629071d-c5a0-443d-a507-87c44b8f539a"
      },
      "execution_count": 2,
      "outputs": [
        {
          "output_type": "stream",
          "name": "stdout",
          "text": [
            "Исходная матрица:\n",
            "[[1 2 3]\n",
            " [4 5 6]]\n",
            "\n",
            "Транспонированная матрица:\n",
            "[[1 4]\n",
            " [2 5]\n",
            " [3 6]]\n"
          ]
        }
      ]
    },
    {
      "cell_type": "code",
      "source": [
        "import numpy as np\n",
        "\n",
        "# Создаем одномерный массив (вектор)\n",
        "vector = np.array([1, 2, 3])\n",
        "\n",
        "print(\"Исходный вектор:\")\n",
        "print(vector)\n",
        "\n",
        "# Транспонируем вектор\n",
        "transposed_vector = vector.T  # В случае одномерного массива, .T не изменит его форму\n",
        "\n",
        "print(\"\\nТранспонированный вектор:\")\n",
        "print(transposed_vector)  # Он останется таким же\n"
      ],
      "metadata": {
        "id": "sVhEqD-jU_lr",
        "colab": {
          "base_uri": "https://localhost:8080/"
        },
        "outputId": "dcb6290a-b946-4f27-84d0-a0ddd8af0780"
      },
      "execution_count": 3,
      "outputs": [
        {
          "output_type": "stream",
          "name": "stdout",
          "text": [
            "Исходный вектор:\n",
            "[1 2 3]\n",
            "\n",
            "Транспонированный вектор:\n",
            "[1 2 3]\n"
          ]
        }
      ]
    }
  ]
}