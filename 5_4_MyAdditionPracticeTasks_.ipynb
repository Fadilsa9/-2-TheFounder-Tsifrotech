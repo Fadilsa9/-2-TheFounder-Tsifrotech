{
  "nbformat": 4,
  "nbformat_minor": 0,
  "metadata": {
    "colab": {
      "provenance": [],
      "authorship_tag": "ABX9TyMAiHOXU8yrgpjpTLmsS3El"
    },
    "kernelspec": {
      "name": "python3",
      "display_name": "Python 3"
    },
    "language_info": {
      "name": "python"
    }
  },
  "cells": [
    {
      "cell_type": "markdown",
      "source": [
        "Код реализует нейрон, который вычисляет взвешенную сумму входного вектора."
      ],
      "metadata": {
        "id": "U37HYJiWdMVl"
      }
    },
    {
      "cell_type": "code",
      "source": [
        "import numpy as np\n",
        "\n",
        "class Neuron:\n",
        "    def __init__ (self, w):\n",
        "        self.w = w\n",
        "\n",
        "    def y(self, x):\n",
        "        s = np.dot(self.w, x)\n",
        "        return s\n",
        "\n",
        "# Задаем входный вектор\n",
        "Xi = np.array([1, 0, 0, 1])\n",
        "\n",
        "# Задаем вектор весов\n",
        "Wi = np.array([5, 4, 1, 1])\n",
        "n = Neuron(Wi)\n",
        "print('s = ', n.y(Xi))"
      ],
      "metadata": {
        "colab": {
          "base_uri": "https://localhost:8080/"
        },
        "id": "kLiYKocldOI4",
        "outputId": "096f1e3d-35db-4929-98e8-c40ce84b79e8"
      },
      "execution_count": null,
      "outputs": [
        {
          "output_type": "stream",
          "name": "stdout",
          "text": [
            "s =  6\n"
          ]
        }
      ]
    },
    {
      "cell_type": "code",
      "source": [
        "import numpy as np\n",
        "\n",
        "class Neuron:\n",
        "    def __init__ (self, w):\n",
        "        self.w = w\n",
        "\n",
        "    def onestep(self, x):  # Функция активации\n",
        "        if x >= 0:\n",
        "            return 1\n",
        "        else:\n",
        "            return 0\n",
        "\n",
        "    def y(self, x):\n",
        "        s = np.dot(self.w, x)\n",
        "        return s\n",
        "\n",
        "\n",
        "bias = 5\n",
        "\n",
        "Xi = np.array([1, 0, 0, 1])\n",
        "Wi = np.array([5, 4, 1, 1])\n",
        "\n",
        "n = Neuron(Wi)\n",
        "S = n.y(Xi) - bias\n",
        "\n",
        "print(S)\n",
        "print(n.onestep(S))"
      ],
      "metadata": {
        "id": "B8RN3m6vs1tl",
        "colab": {
          "base_uri": "https://localhost:8080/"
        },
        "outputId": "f5f0b3c6-333a-4c67-cee7-3bcfb20967fa"
      },
      "execution_count": null,
      "outputs": [
        {
          "output_type": "stream",
          "name": "stdout",
          "text": [
            "1\n",
            "1\n"
          ]
        }
      ]
    },
    {
      "cell_type": "code",
      "source": [
        "import numpy as np\n",
        "\n",
        "class Neuron:\n",
        "\n",
        "    def __init__ (self, w):\n",
        "        self.w = w\n",
        "\n",
        "    def y(self, x):\n",
        "        s = np.dot(self.w, x)\n",
        "        return s\n",
        "\n",
        "Xi = np.array([2, 3])\n",
        "Wi = np.array([1, 1])\n",
        "\n",
        "n = Neuron(Wi)\n",
        "print(n.y(Xi))"
      ],
      "metadata": {
        "id": "nwZ6qU1qchGj",
        "colab": {
          "base_uri": "https://localhost:8080/"
        },
        "outputId": "9c5d7595-779b-4d2d-ee2d-dcbb81ec2f59"
      },
      "execution_count": null,
      "outputs": [
        {
          "output_type": "stream",
          "name": "stdout",
          "text": [
            "5\n"
          ]
        }
      ]
    },
    {
      "cell_type": "code",
      "source": [
        "import numpy as np\n",
        "\n",
        "A = np.array([[1, 2], [3, 4]])\n",
        "B = np.array([[5, 6], [7, 8]])\n",
        "\n",
        "result = np.dot(A, B)\n",
        "print(result)"
      ],
      "metadata": {
        "id": "4lwn6pKicfKK",
        "colab": {
          "base_uri": "https://localhost:8080/"
        },
        "outputId": "729d6114-5b55-47b5-e85b-9b30e361b4ed"
      },
      "execution_count": null,
      "outputs": [
        {
          "output_type": "stream",
          "name": "stdout",
          "text": [
            "[[19 22]\n",
            " [43 50]]\n"
          ]
        }
      ]
    },
    {
      "cell_type": "code",
      "source": [],
      "metadata": {
        "id": "5wFCnaesU9Ze"
      },
      "execution_count": null,
      "outputs": []
    },
    {
      "cell_type": "code",
      "source": [],
      "metadata": {
        "id": "7bAvW28FU_ea"
      },
      "execution_count": null,
      "outputs": []
    },
    {
      "cell_type": "code",
      "source": [],
      "metadata": {
        "id": "sVhEqD-jU_lr"
      },
      "execution_count": null,
      "outputs": []
    }
  ]
}