{
  "nbformat": 4,
  "nbformat_minor": 0,
  "metadata": {
    "colab": {
      "provenance": [],
      "include_colab_link": true
    },
    "kernelspec": {
      "name": "python3",
      "display_name": "Python 3"
    },
    "language_info": {
      "name": "python"
    }
  },
  "cells": [
    {
      "cell_type": "markdown",
      "metadata": {
        "id": "view-in-github",
        "colab_type": "text"
      },
      "source": [
        "<a href=\"https://colab.research.google.com/github/Fadilsa9/TSIFROTECH-The-Founder-ALL/blob/main/2_3_%D0%94%D0%BE%D0%BC%D0%B0%D1%88%D0%BD%D1%8F%D1%8F_%D1%80%D0%B0%D0%B1%D0%BE%D1%82%D0%B0.ipynb\" target=\"_parent\"><img src=\"https://colab.research.google.com/assets/colab-badge.svg\" alt=\"Open In Colab\"/></a>"
      ]
    },
    {
      "cell_type": "markdown",
      "source": [
        "**Навигация по уроку**\n",
        "\n",
        "1. [Введение в Python. Синтаксис](https://colab.research.google.com/drive/1YBLgd6tZYlkhwpnEc4IM8tVnewLUnlUO#scrollTo=yqZjRAldfz_L)\n",
        "2. [Практика кода](https://colab.research.google.com/drive/1m-Ph90c-9S_gZchdG1ARoY2YjMTryKkl#scrollTo=UdxWiGmA63K2)\n",
        "3. Домашняя работа"
      ],
      "metadata": {
        "id": "ARGgA85EgS0p"
      }
    },
    {
      "cell_type": "markdown",
      "source": [
        "Материалы, которые помогут вам выполнить домашню работу\n",
        "\n",
        "Functions:\n",
        "\n",
        "https://monica.im/home/chat/Monica/monica?convId=conv%3A568f695b-3d7a-48de-a18a-b29a8c57b269\n",
        "\n",
        "https://www.geeksforgeeks.org/python-functions/\n",
        "\n",
        "Код стайл в Python\n",
        "\n",
        "https://monica.im/home/chat/Monica/monica?convId=conv%3A7446216b-46cb-4fff-8124-4790483b3007\n",
        "\n",
        "https://monica.im/home/chat/Monica/monica?convId=conv%3Af3b6dd22-5282-491a-9c67-d7f20f3f080c\n",
        "\n",
        "https://github.com/netology-code/codestyle/tree/master/python\n",
        "\n",
        "https://cs.brown.edu/courses/cs004/CS4_Python_Style_Guide.pdf\n",
        "\n",
        "https://course.ccs.neu.edu/ds2000sp22/style_guide.pdf\n",
        "\n",
        "https://www.tarantool.io/ru/doc/latest/dev_guide/python_style_guide/\n",
        "\n",
        "https://monica.im/home/chat/Monica/monica?convId=conv%3A2c7ac9c5-1e9e-40a0-a8af-29154cf31948\n",
        "\n",
        "https://monica.im/home/chat/Monica/monica?convId=conv%3A2064e931-f2dc-40be-93bb-660bec2fb027\n",
        "\n",
        "https://proglib.io/p/3-principa-napisaniya-chistogo-koda-na-python-2022-12-26\n",
        "\n",
        "https://peps.python.org/pep-0008/\n",
        "\n",
        "https://google.github.io/styleguide/pyguide.html\n",
        "\n",
        "Переменные\n",
        "\n",
        "https://informatics.msk.ru/mod/book/view.php?id=42166&chapterid=839\n",
        "https://www.geeksforgeeks.org/python-variables/\n",
        "https://www.geeksforgeeks.org/global-local-variables-python/\n",
        "https://www.w3schools.com/python/python_variables.asp\n",
        "https://cs.stanford.edu/people/nick/py/python-var.html\n",
        "\n",
        "Ввод и вывод\n",
        "\n",
        "https://ravesli.com/input-output-python/ (открывать с vpn)\n",
        "\n",
        "https://monica.im/home/chat/Monica/monica?convId=conv%3Af45498b6-b2e0-49ef-a38d-e2f82846eb7b\n",
        "\n",
        "https://informatics.msk.ru/mod/book/view.php?id=42166&chapterid=844\n",
        "\n",
        "https://metanit.com/python/tutorial/2.14.php\n",
        "\n",
        "https://www.geeksforgeeks.org/input-and-output-in-python/\n",
        "\n",
        "https://education.yandex.ru/handbook/python/article/vvod-i-vyvod-dannykh-operatsii-s-chislami-strokami-formatirovaniye\n",
        "\n",
        "https://tproger.ru/articles/kak-rabotaet-funkciya-print-v-python\n",
        "\n",
        "Математические операции\n",
        "\n",
        "https://informatics.msk.ru/mod/book/view.php?id=42166&chapterid=842\n",
        "\n",
        "https://www.geeksforgeeks.org/python-arithmetic-operators/\n",
        "\n",
        "https://mooc.nspu.ru/pluginfile.php/33754/mod_resource/content/0/%D0%A2%D0%B5%D0%BE%D1%80%D0%B8%D1%8F.pdf\n",
        "\n",
        "https://pymanual.github.io/operations.html\n",
        "\n",
        "https://education.yandex.ru/handbook/python/article/moduli-math-i-numpy\n",
        "\n",
        "https://ravesli.com/operators-python/\n",
        "(открывать с vpn)\n",
        "\n",
        "https://cs.stanford.edu/people/nick/py/python-math.html\n",
        "\n",
        "https://www.halvorsen.blog/documents/programming/python/resources/powerpoints/Mathematics%20in%20Python.pdf\n",
        "\n",
        "Типы данных\n",
        "\n",
        "https://www.geeksforgeeks.org/python-data-types/\n",
        "\n",
        "https://www.w3schools.com/python/python_datatypes.asp\n",
        "\n",
        "https://tproger.ru/translations/python-data-types\n",
        "\n",
        "https://informatics.msk.ru/mod/book/view.php?id=42166&chapterid=840\n",
        "\n",
        "https://proglib.io/p/samouchitel-po-python-dlya-nachinayushchih-chast-3-tipy-dannyh-preobrazovanie-i-bazovye-operacii-2022-10-14\n",
        "\n",
        "https://isip.piconepress.com/courses/temple/ece_3822/resources/tutorials/python/python_variable_types.pdf\n",
        "\n",
        "Форматирование строк\n",
        "\n",
        "https://pythoner.name/formatted-output\n",
        "\n",
        "https://www.geeksforgeeks.org/string-formatting-in-python/\n",
        "\n",
        "https://pyneng.readthedocs.io/ru/latest/book/04_data_structures/string_format.html\n",
        "\n",
        "https://www.w3schools.com/python/ref_string_format.asp\n",
        "\n",
        "https://www.digitalocean.com/community/tutorials/how-to-use-string-formatters-in-python-3\n",
        "\n",
        "Поможет в выполнении задачи 5\n",
        "\n",
        "https://www.geeksforgeeks.org/python-program-to-find-the-quotient-and-remainder-of-two-numbers/\n",
        "\n",
        "https://silvertests.ru/GuideView.aspx?id=32160\n"
      ],
      "metadata": {
        "id": "TtzGLnrqGUJg"
      }
    },
    {
      "cell_type": "markdown",
      "source": [
        "В домашней работе необходимо, используя знания теоретической части занятия и полученные практические навыки, решить, представленные ниже задачи. Для этого необходимо скопировать Блокнот (см. раздел 1.1.), решить в нем все задач, открыть общий доступ к Блокноту ((см. раздел 1.1.) и отправить ссылку на Блокнот куратору на проверку. Для прохождения урока необходимо решить минимум 2 задачи. Желаем удачи!"
      ],
      "metadata": {
        "id": "EdiQPIVgklWr"
      }
    },
    {
      "cell_type": "markdown",
      "source": [
        "## Задача 1. Приветствие."
      ],
      "metadata": {
        "id": "ZzjUAyrL6jgO"
      }
    },
    {
      "cell_type": "markdown",
      "source": [
        "**Условие.** Напишите программу, запрашивающую у пользователя его имя. В ответ\n",
        "на ввод на экране должно появиться приветствие с обращением по имени,\n",
        "введенному с клавиатуры ранее.\n"
      ],
      "metadata": {
        "id": "M4OAOB6s6mU7"
      }
    },
    {
      "cell_type": "code",
      "source": [
        "#Напишите свое решение\n",
        "\n",
        "privet = input(\"What's your name? \")\n",
        "print('Hello',privet, \", you're welcome\")"
      ],
      "metadata": {
        "id": "C2W-ZDOF6mzF",
        "colab": {
          "base_uri": "https://localhost:8080/"
        },
        "outputId": "3f284794-4d38-4b73-a611-35b6a8ff5a95"
      },
      "execution_count": null,
      "outputs": [
        {
          "output_type": "stream",
          "name": "stdout",
          "text": [
            "What's your name? TheFounder\n",
            "Hello TheFounder , you're welcome\n"
          ]
        }
      ]
    },
    {
      "cell_type": "markdown",
      "source": [
        "## Задача 2. Сувениры и безделушки."
      ],
      "metadata": {
        "id": "UG8mwj2-eALV"
      }
    },
    {
      "cell_type": "markdown",
      "source": [
        "**Условие.** Интернет-магазин занимается продажей различных сувениров и безделушек. Каждый сувенир весит 75 г, а безделушка – 112 г. Напишите программу, запрашивающую у пользователя количество тех и других покупок,\n",
        "после чего выведите на экран общий вес посылки.\n"
      ],
      "metadata": {
        "id": "ay2EfeBreALW"
      }
    },
    {
      "cell_type": "code",
      "source": [
        "#Напишите свое решение\n",
        "\n",
        "cyviner = int(input('Сколько сувениров у вас есть? '))\n",
        "bezdelyshka = int(input('Cколько безделушек у вас есть? '))\n",
        "\n",
        "# g = int('гр')\n",
        "# g = 'гр'\n",
        "# total = (cyviner * 75 + int('гр')) + (bezdelyshka * 112 + int('гр')) #==> https://monica.im/home/chat/Monica/monica?convId=conv%3A0e9f8557-ac0a-44d8-b583-b14257d9e741\n",
        "\n",
        "total = (cyviner * 75) + (bezdelyshka * 112)\n",
        "\n",
        "print(total, 'гр')"
      ],
      "metadata": {
        "id": "WY-KRVHyeALX",
        "colab": {
          "base_uri": "https://localhost:8080/"
        },
        "outputId": "40604a44-6fcf-4253-d5aa-0a8b95d44a84"
      },
      "execution_count": null,
      "outputs": [
        {
          "output_type": "stream",
          "name": "stdout",
          "text": [
            "Сколько сувениров у вас есть? 2\n",
            "Cколько безделушек у вас есть? 3\n",
            "486 гр\n"
          ]
        }
      ]
    },
    {
      "cell_type": "code",
      "source": [],
      "metadata": {
        "id": "dKdmcZTgbcdA"
      },
      "execution_count": null,
      "outputs": []
    },
    {
      "cell_type": "markdown",
      "source": [
        "## Задача 3. Сложные проценты"
      ],
      "metadata": {
        "id": "v2IXqDTVeBfM"
      }
    },
    {
      "cell_type": "markdown",
      "source": [
        "**Условие.** Представьте, что вы открыли в банке сберегательный счет под 4 % годовых. Проценты банк рассчитывает в конце года и добавляет к сумме счета.\n",
        "Напишите программу, которая запрашивает у пользователя сумму первоначального депозита, после чего рассчитывает и выводит на экран сумму\n",
        "на счету в конце первого, второго и третьего годов. Все суммы должны\n",
        "быть округлены до двух знаков после запятой.\n",
        "\n"
      ],
      "metadata": {
        "id": "rGE3sh2ueBfN"
      }
    },
    {
      "cell_type": "code",
      "source": [
        "#Напишите свое решение\n",
        "# https://monica.im/home/chat/Monica/monica?convId=conv%3Ac8d4fd1c-16e2-403a-95c8-68d63567b54b\n",
        "\n",
        "sum = float(input('Ваш первоначальный депозит (в рублях): '))\n",
        "\n",
        "year1 = sum + sum/4\n",
        "year2 = year1 + year1/4\n",
        "year3 = year2 + year2/4\n",
        "\n",
        "print(f\"\\nСумма на счету первого года: {year1:.2f} ₽\")\n",
        "print(f\"Сумма на счету второго года: {year2:.2f} ₽\")\n",
        "print(f\"Сумма на счету третього года: {year3:.2f} ₽\")"
      ],
      "metadata": {
        "id": "0DYIIu98eBfN",
        "colab": {
          "base_uri": "https://localhost:8080/"
        },
        "outputId": "b64427c3-cbe5-4f05-855d-fb61dc59d240"
      },
      "execution_count": null,
      "outputs": [
        {
          "output_type": "stream",
          "name": "stdout",
          "text": [
            "Ваш первоначальный депозит (в рублях): 1000\n",
            "\n",
            "Сумма на счету первого года: 1250.00 ₽\n",
            "Сумма на счету второго года: 1562.50 ₽\n",
            "Сумма на счету третього года: 1953.12 ₽\n"
          ]
        }
      ]
    },
    {
      "cell_type": "markdown",
      "source": [
        "Ответ куратора: Отличное начало, однако формула для расчета процентов немного отличается от той, которую вы использовали. В вашем решении проценты считаются неправильно, так как они начисляются на исходную сумму, а не на накопленную. Правильный расчет сложных процентов учитывает начисленные ранее проценты.\n",
        "\n",
        "Правильная формула для начисления сложных процентов выглядит так:\n",
        "\n",
        "A=P⋅(1+r)n\n",
        "\n",
        "где:\n",
        "\n",
        "A — итоговая сумма на счете,\n",
        "\n",
        "P — начальная сумма вклада,\n",
        "\n",
        "r — годовая процентная ставка (в десятичной форме),\n",
        "\n",
        "n — количество лет.\n",
        "\n",
        "Таким образом, чтобы рассчитать сумму на счету в конце каждого года, необходимо учитывать проценты, начисленные за предыдущие годы."
      ],
      "metadata": {
        "id": "COYoQrc55dLm"
      }
    },
    {
      "cell_type": "code",
      "source": [
        "# Мое второе решение\n",
        "\n",
        "P = float(input('Ваш первоначальный депозит (в рублях): '))\n",
        "\n",
        "A1 = P * (1 + 0.4) * 1\n",
        "A2 = P * (1 + 0.4) * 2\n",
        "A3 = P * (1 + 0.4) * 3\n",
        "\n",
        "print(f'Сумма на счету в конце первого года: {A1:.2f}')\n",
        "print(f'Сумма на счету в конце первого года: {A2:.2f}')\n",
        "print(f'Сумма на счету в конце первого года: {A3:.2f}')"
      ],
      "metadata": {
        "colab": {
          "base_uri": "https://localhost:8080/"
        },
        "id": "Tz3VUIBf5iGo",
        "outputId": "42ead486-bf14-4094-dd2d-09fef486ed97"
      },
      "execution_count": 3,
      "outputs": [
        {
          "output_type": "stream",
          "name": "stdout",
          "text": [
            "Ваш первоначальный депозит (в рублях): 20\n",
            "Сумма на счету в конце первого года: 28.00\n",
            "Сумма на счету в конце первого года: 56.00\n",
            "Сумма на счету в конце первого года: 84.00\n"
          ]
        }
      ]
    },
    {
      "cell_type": "markdown",
      "source": [
        "## Задача 4. Арифметика"
      ],
      "metadata": {
        "id": "d9y6YzAvuW4l"
      }
    },
    {
      "cell_type": "markdown",
      "source": [
        "**Условие.** Создайте программу, которая запрашивает у пользователя два целых числа a и b, после чего выводит на экран результаты следующих математических операций:\n",
        "* сумма a и b;\n",
        "* разница между a и b; ( \"разница между a и b\" означает \"a минус b\" )\n",
        "* произведение a и b; (\"Произведение a и b\" означает умножение a на b.)\n",
        "* частное от деления a на b;\n",
        "* остаток от деления a на b;\n",
        "* десятичный логарифм числа a;\n",
        "* результат возведения числа a в степень b."
      ],
      "metadata": {
        "id": "ZeZZ2IrUuW4m"
      }
    },
    {
      "cell_type": "code",
      "source": [
        "#Напишите свое решение\n",
        "\n",
        "a = int(input('Введите число a: '))\n",
        "b = int(input('Введите число b: '))\n",
        "\n",
        "print(f'\\nСумма а и b: {a+b}')\n",
        "print(f'разница между a и b: {a-b}')\n",
        "print(f'произведение a и b: {a*b}')\n",
        "print(f'остаток от деления a на b: {a%b}')\n",
        "\n",
        "import math\n",
        "a_log10 = math.log10(a)\n",
        "print(f'десятичный логарифм числа a: {a_log10}')  #https://monica.im/home/chat/Monica/monica?convId=conv%3A83bd688e-6be3-4c01-9a4c-233ffbae8a70\n",
        "\n",
        "print(f'результат возведения числа a в степень b: {a**b}')"
      ],
      "metadata": {
        "id": "gCbjinmpuW4m",
        "colab": {
          "base_uri": "https://localhost:8080/"
        },
        "outputId": "c204f50e-c43d-473f-fcae-ee7cd3196028"
      },
      "execution_count": null,
      "outputs": [
        {
          "output_type": "stream",
          "name": "stdout",
          "text": [
            "Введите число a: 10\n",
            "Введите число b: 9\n",
            "\n",
            "Сумма а и b: 19\n",
            "разница между a и b: 1\n",
            "произведение a и b: 90\n",
            "остаток от деления a на b: 1\n",
            "десятичный логарифм числа a: 1.0\n",
            "результат возведения числа a в степень b: 1000000000\n"
          ]
        }
      ]
    },
    {
      "cell_type": "markdown",
      "source": [
        "## Задача 5. Размен"
      ],
      "metadata": {
        "id": "EcSSCSnpeBto"
      }
    },
    {
      "cell_type": "markdown",
      "source": [
        "**Условие.** Представьте, что вы пишете программное обеспечение для автоматической кассы в  магазине самообслуживания. Одной из функций, заложенных в кассу, должен быть расчет сдачи в случае оплаты покупателем наличными.\n",
        "Напишите программу, которая будет запрашивать у пользователя сумму сдачи в копейках. После этого она должна рассчитать и вывести на экран, сколько и каких монет потребуется для выдачи указанной суммы, при условии что должно быть задействовано минимально возможное количество монет. Допустим, у нас есть в распоряжении монеты достоинством в 1, 5, 10, 50 копеек, а также в 1, 2 и 5 рублей.\n"
      ],
      "metadata": {
        "id": "VfX5FQQreBtp"
      }
    },
    {
      "cell_type": "markdown",
      "source": [
        "https://monica.im/home/chat/Monica/monica?convId=conv%3A45f50104-f9af-4401-b02b-fb17e9bda9ef"
      ],
      "metadata": {
        "id": "i5c5UFBtZZON"
      }
    },
    {
      "cell_type": "code",
      "source": [
        "the_rest = int(input(\"Введите сумму сдачи в копейках: \"))\n",
        "\n",
        "maneti_v_kopekakh = [1, 5, 10, 50, 100, 200, 500]\n",
        "maneti_v_kopekakh.sort(reverse=True) # https://monica.im/home/chat/Monica/monica?convId=conv%3Ab38c05dc-4651-4497-8c73-8389c586b360\n",
        "# print(maneti_v_kopekakh)\n",
        "\n",
        "proverit = the_rest/500\n",
        "print(proverit)"
      ],
      "metadata": {
        "colab": {
          "base_uri": "https://localhost:8080/"
        },
        "id": "AjgXNQb6RXct",
        "outputId": "2d95e97d-26da-445e-8365-05fd4e34323e"
      },
      "execution_count": null,
      "outputs": [
        {
          "output_type": "stream",
          "name": "stdout",
          "text": [
            "Введите сумму сдачи в копейках: 500\n",
            "1.0\n"
          ]
        }
      ]
    },
    {
      "cell_type": "code",
      "source": [
        "# Напишите свое решение\n",
        "# https://monica.im/home/chat/Monica/monica?convId=conv%3A56dec8d6-0447-43ef-b271-395976920b95\n",
        "\n",
        "\n",
        "def calculate_change(change):\n",
        "    # Доступные монеты в копейках\n",
        "    coins = [500, 200, 100, 50, 10, 5, 1]  # 5 рублей, 2 рубля, 1 рубль, 50 копеек, 10 копеек, 5 копеек, 1 копейка\n",
        "    coin_count = {}\n",
        "\n",
        "    for coin in coins:\n",
        "        if change >= coin:\n",
        "            count = change // coin  # Количество монет данного достоинства\n",
        "            coin_count[coin] = count\n",
        "            change -= count * coin  # Уменьшаем сумму сдачи\n",
        "\n",
        "    return coin_count\n",
        "\n",
        "# Запрос суммы сдачи у пользователя\n",
        "change_input = int(input(\"Введите сумму сдачи в копейках: \"))\n",
        "change_output = calculate_change(change_input)\n",
        "\n",
        "# Вывод результата\n",
        "print(\"Для выдачи сдачи потребуется:\")\n",
        "for coin, count in change_output.items():\n",
        "    if coin >= 100:\n",
        "        print(f\"{count} монет(а) по {coin // 100} рубля(ей)\")\n",
        "    else:\n",
        "        print(f\"{count} монет(а) по {coin} копеек\")"
      ],
      "metadata": {
        "colab": {
          "base_uri": "https://localhost:8080/"
        },
        "id": "HBex1gVo2Gia",
        "outputId": "b7b96585-b25a-4430-cd2f-a4a298e64a8f"
      },
      "execution_count": null,
      "outputs": [
        {
          "output_type": "stream",
          "name": "stdout",
          "text": [
            "Введите сумму сдачи в копейках: 753\n",
            "Для выдачи сдачи потребуется:\n",
            "1 монет(а) по 5 рубля(ей)\n",
            "1 монет(а) по 2 рубля(ей)\n",
            "1 монет(а) по 50 копеек\n",
            "3 монет(а) по 1 копеек\n"
          ]
        }
      ]
    },
    {
      "cell_type": "code",
      "source": [
        "\n",
        "the_rest = int(input(\"Введите сумму сдачи в копейках: \"))\n",
        "if ss from [0.1, 0.5, 0.10, 0.50, 1, 2, 5]:\n",
        "  print(divmod(the_rest, ss))\n",
        "\n",
        "# ruble = 1\n",
        "# kopecks = (0.1, 0.5, 0.10, 0.50)\n",
        "# ruble = kopecks\n",
        "# print(ruble)\n",
        "\n",
        "# print('Ваша сдача: ', divmod(a, b))"
      ],
      "metadata": {
        "id": "4ecMH2bjeBtp",
        "colab": {
          "base_uri": "https://localhost:8080/",
          "height": 106
        },
        "outputId": "09634781-041e-4640-f0d1-cce4c5536d62"
      },
      "execution_count": null,
      "outputs": [
        {
          "output_type": "error",
          "ename": "SyntaxError",
          "evalue": "invalid syntax (<ipython-input-4-85fd7da6cd80>, line 4)",
          "traceback": [
            "\u001b[0;36m  File \u001b[0;32m\"<ipython-input-4-85fd7da6cd80>\"\u001b[0;36m, line \u001b[0;32m4\u001b[0m\n\u001b[0;31m    s = s from [0.1, 0.5, 0.10, 0.50, 1, 2, 5]\u001b[0m\n\u001b[0m          ^\u001b[0m\n\u001b[0;31mSyntaxError\u001b[0m\u001b[0;31m:\u001b[0m invalid syntax\n"
          ]
        }
      ]
    },
    {
      "cell_type": "markdown",
      "source": [
        "## Задача 6. Вчерашний хлеб"
      ],
      "metadata": {
        "id": "26soP3cfeB8i"
      }
    },
    {
      "cell_type": "markdown",
      "source": [
        "**Условие.** Пекарня продает хлеб по 49 рублей за буханку. Скидка на вчерашний хлеб составляет 60 %. Напишите программу, которая будет запрашивать у пользователя количество приобретенных вчерашних буханок хлеба. В вывод на экран должны быть включены обычная цена за буханку, цена со скидкой и общая стоимость приобретенного хлеба. Все значения должны быть выведены на отдельных строках с соответствующими описаниями. Используйте для вывода формат с двумя знаками после запятой и 5-ю знакоместами.\n"
      ],
      "metadata": {
        "id": "t-cYNmWQeB8i"
      }
    },
    {
      "cell_type": "code",
      "source": [
        "#Напишите свое решение"
      ],
      "metadata": {
        "id": "R2-WoQoveB8j"
      },
      "execution_count": null,
      "outputs": []
    }
  ]
}