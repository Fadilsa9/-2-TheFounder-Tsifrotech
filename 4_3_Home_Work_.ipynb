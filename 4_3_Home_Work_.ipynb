{
  "nbformat": 4,
  "nbformat_minor": 0,
  "metadata": {
    "colab": {
      "provenance": [],
      "authorship_tag": "ABX9TyO5hXrcvoGC2JBEd14gbx2I"
    },
    "kernelspec": {
      "name": "python3",
      "display_name": "Python 3"
    },
    "language_info": {
      "name": "python"
    }
  },
  "cells": [
    {
      "cell_type": "code",
      "execution_count": null,
      "metadata": {
        "colab": {
          "base_uri": "https://localhost:8080/"
        },
        "id": "outCKtzxbuuK",
        "outputId": "e6a8d1e9-1cb5-4b64-c2c8-e6346d87f1ff"
      },
      "outputs": [
        {
          "output_type": "stream",
          "name": "stdout",
          "text": [
            "Случайный номерной знак: 2251BUC\n"
          ]
        }
      ],
      "source": [
        "### Задача 1. Случайный номерной знак\n",
        "\n",
        "\n",
        "import random\n",
        "\n",
        "def generate_license_plate():\n",
        "    if random.randint(0, 1) == 0:  # с равной вероятностью выбираем старый или новый формат\n",
        "        # старый формат ==> три буквы и три цифры (ABC123)\n",
        "        letters = ''.join(chr(random.randint(65, 90)) for _ in range(3))  #Генерируем три буквы (A-Z)\n",
        "        numbers = ''.join(str(random.randint(0, 9)) for _ in range(3))  #Генерируем три цифры (0-9)\n",
        "        return f\"{letters}{numbers}\"\n",
        "    else:\n",
        "        # новый формат ==> четыре цифры и три буквы (1234ABC)\n",
        "        numbers = ''.join(str(random.randint(0, 9)) for _ in range(4))  #Генерируем четыре цифры (0-9)\n",
        "        letters = ''.join(chr(random.randint(65, 90)) for _ in range(3))  #Генерируем три буквы (A-Z)\n",
        "        return f\"{numbers}{letters}\"\n",
        "\n",
        "print('Случайный номерной знак:', generate_license_plate())"
      ]
    },
    {
      "cell_type": "code",
      "source": [
        "### Задача 2. Шестнадцатеричные и десятичные числа\n",
        "\n",
        "\n",
        "def hex2int(hex_char):\n",
        "    hex_map = {\n",
        "        '0': 0, '1': 1, '2': 2, '3': 3, '4': 4, '5': 5, '6': 6, '7': 7,\n",
        "        '8': 8, '9': 9, 'A': 10, 'B': 11, 'C': 12, 'D': 13, 'E': 14, 'F': 15\n",
        "    }\n",
        "    hex_char = hex_char.upper()\n",
        "    if hex_char not in hex_map:\n",
        "        return \"Ошибкaaа: введите символ в диапазоне 0-9 или A-F.\"\n",
        "    return hex_map[hex_char]\n",
        "\n",
        "def int2hex(decimal_num):\n",
        "    hex_map = {\n",
        "        0: '0', 1: '1', 2: '2', 3: '3', 4: '4', 5: '5', 6: '6', 7: '7',\n",
        "        8: '8', 9: '9', 10: 'A', 11: 'B', 12: 'C', 13: 'D', 14: 'E', 15: 'F'\n",
        "    }\n",
        "    if decimal_num not in hex_map:\n",
        "        return \"Ошибкaaа: введите число в диапазоне от 0 до 15.\"\n",
        "    return hex_map[decimal_num]\n",
        "\n",
        "print(hex2int(\"f\"))\n",
        "print(int2hex(15))"
      ],
      "metadata": {
        "colab": {
          "base_uri": "https://localhost:8080/"
        },
        "id": "Pv3niVbvh8ox",
        "outputId": "1f1fab53-5760-4ad8-88b1-c795574be107"
      },
      "execution_count": null,
      "outputs": [
        {
          "output_type": "stream",
          "name": "stdout",
          "text": [
            "15\n",
            "F\n"
          ]
        }
      ]
    },
    {
      "cell_type": "code",
      "source": [
        "### Задача 3. Беспилотный автомобиль\n",
        "\n",
        "print(\"And the end of my brain( I'm falling asleep already(*_*)\")"
      ],
      "metadata": {
        "id": "FHjs6RL0eErh"
      },
      "execution_count": null,
      "outputs": []
    }
  ]
}