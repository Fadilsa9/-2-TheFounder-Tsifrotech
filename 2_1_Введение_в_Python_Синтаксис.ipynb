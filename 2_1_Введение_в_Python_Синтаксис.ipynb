{
  "nbformat": 4,
  "nbformat_minor": 0,
  "metadata": {
    "colab": {
      "provenance": [],
      "include_colab_link": true
    },
    "kernelspec": {
      "name": "python3",
      "display_name": "Python 3"
    },
    "language_info": {
      "name": "python"
    }
  },
  "cells": [
    {
      "cell_type": "markdown",
      "metadata": {
        "id": "view-in-github",
        "colab_type": "text"
      },
      "source": [
        "<a href=\"https://colab.research.google.com/github/Fadilsa9/TSIFROTECH-The-Founder/blob/main/2_1_%D0%92%D0%B2%D0%B5%D0%B4%D0%B5%D0%BD%D0%B8%D0%B5_%D0%B2_Python_%D0%A1%D0%B8%D0%BD%D1%82%D0%B0%D0%BA%D1%81%D0%B8%D1%81.ipynb\" target=\"_parent\"><img src=\"https://colab.research.google.com/assets/colab-badge.svg\" alt=\"Open In Colab\"/></a>"
      ]
    },
    {
      "cell_type": "markdown",
      "source": [
        "**Навигация по уроку**\n",
        "\n",
        "1. Введение в Python. Синтаксис\n",
        "2. [Практика кода](https://colab.research.google.com/drive/1m-Ph90c-9S_gZchdG1ARoY2YjMTryKkl#scrollTo=UdxWiGmA63K2)\n",
        "3. [Домашняя работа](https://colab.research.google.com/drive/1ax3hMc4XQ_nAsYvd5xWa9KMYDNBlsIBv#scrollTo=ZzjUAyrL6jgO)"
      ],
      "metadata": {
        "id": "yqZjRAldfz_L"
      }
    },
    {
      "cell_type": "markdown",
      "metadata": {
        "id": "meQ04nr_GGST"
      },
      "source": [
        "**В данном уроке мы рассмотрим:**\n",
        "\n",
        "1.   Почему программисты использую Python?\n",
        "2.   Изучим как Python выполняет команды\n",
        "2.   Рассмотрим какие задачи можно решать с его помощью\n",
        "3.   Познакомимся с синтаксисом и напишем первую программу\n",
        "4.   Изучим простые функции, типы данных и научимся работать со строками\n",
        "\n",
        "\n"
      ]
    },
    {
      "cell_type": "markdown",
      "source": [
        "## Введение в python"
      ],
      "metadata": {
        "id": "cqA-09MBmH23"
      }
    },
    {
      "cell_type": "markdown",
      "source": [
        "### Почему мы используем Python?\n"
      ],
      "metadata": {
        "id": "p-kwmSl-upFF"
      }
    },
    {
      "cell_type": "markdown",
      "source": [
        "Это вполне справедливый вопрос, учитывая что разработчикам в наши дни доступно большое число языков программирования. Многие из них, в той или иной форме поддерживают работу с машинным обучением. Выбор инструментов разработки чаще всего основан на личных предпочтениях и уникальных ограничениях. У каждого языка есть свои преимущества. Рассмотрим, какие преимущества нам дает Python.\n"
      ],
      "metadata": {
        "id": "nzd3rnzBvu5U"
      }
    },
    {
      "cell_type": "markdown",
      "source": [
        "**Преимущества Python:**\n",
        "\n",
        "\n",
        "1.   **Качество программного обеспечения.** Ориентация Python на читабельности, согласованности и качестве программного обеспечения отличает его от других инструментов в мире языков написания сценариев. Код Python по замыслу должен\n",
        "быть читабельным, а потому многократно используемым и сопровождаемым —\n",
        "в гораздо большей степени, чем традиционные языки написания сценариев.\n",
        "Согласованность кода Python облегчает его понимание, даже если он написан\n",
        "не вами. Вдобавок Python располагает развитой поддержкой механизмов многократного применения ПО, таких как объектно-ориентированное и функциональное программирование.\n",
        "2.   **Продуктивность труда разработчиков. Экономия ресурсов.** Python повышает продуктивность труда разработчиков во много раз по сравне­нию с компилируемыми и статически типизированными языками вроде С, С++ и Java. Код Python довольно емкий и компактный. Программа на Python обычно в три раза меньше эквивалентного кода С++ или Java. В итоге приходится меньше набирать на клавиатуре, меньше отлаживать и меньше впоследствии сопровождать. Кроме того, программы Python запускаются немедленно, без длительных шагов ком­пиляции и связывания, требующихся в ряде других инструментов, что дополни­тельно увеличивает скорость работы программистов.\n",
        "3.  **Переносимость программ.** Большинство программ Python функционирует без изменений на всех платформах. Например, перенос кода Python между Linux и Windows, как правило, сводится к копированию кода сценария между машинами. Более того, Python предлагает многочисленные варианты для написания кода графи­ческих пользовательских интерфейсов, программ доступа к базам данных, веб­систем и т.д. Даже интерфейсы операционных систем, включая запуск программ и обработку каталогов, являются в Python насколько возможно переносимыми.\n",
        "4.  **Поддержка библиотек (модулей).** Вместе с Python поставляется большая коллекция предварительно собранной и переносимой функциональности, которая называется стандартной библиоте­кой. Стандартная библиотека поддерживает множество решений программных задач прикладного уровня. Вдобавок Python можно расширять библиотеками собственной разработки и созданных сторонними разработчиками. С большим количеством сторонних библиотек мы познакомимся в рамках курса, в том числе и для ИИ.\n",
        "5.  **Интеграция компонентов.** В сценариях Python можно легко взаимодействовать с другими частями прило­жения, используя различные механизмы интеграции. Такая интеграция позво­ляет применять Python в качестве инструмента для настройки и расширения про­дуктов. В настоящее время из кода Python можно обращаться к библиотекам С и С++, его можно вызывать из программ С и С++, интегрировать с компонентами Java и .NET, взаимодействовать с фреймворками вроде СОМ и Silverlight, сопря­гаться с устройствами через последовательные порты и взаимодействовать че­рез сети с помощью интерфейсов, подобных SOAP, XМL-RPC и СОRВА. Он не является автономным инструментом.\n",
        "6.  **Легкость программирования.** Легкость использования Python и наличие встроенного инструментального на­бора позволяет сделать процесс программирования в большей степени приятным, нежели рутинным. Этот позитивный бонус положительно сказывается на продуктивности работы.\n",
        "\n",
        "\n"
      ],
      "metadata": {
        "id": "frR3YE-Yw9kC"
      }
    },
    {
      "cell_type": "markdown",
      "source": [
        "### Как Python выполняет команды?"
      ],
      "metadata": {
        "id": "tWdIl0B344Fi"
      }
    },
    {
      "cell_type": "markdown",
      "source": [
        "Python представляет собой программный пакет, который содержит интерпретатор.\n",
        "\n",
        "**Интерпретатор** — это разновидность программы, которая выполняет другие программы.\n",
        "\n",
        "Когда вы пишете программу на Python, интерпретатор Python читает ее и приводит в исполнение содержащиеся в ней инструкции (команды). Фактически интерпретатор является уровнем программной логики между вашим кодом и оборудованием компьютера.\n",
        "\n",
        "В результате установки Python на машине создается несколько компонентов — минимум интерпретатор и библиотека поддержки. В зависимости от способа применения интерпретатор Python может принимать форму исполняемой программы или\n",
        "набора библиотек, связанных с другой программой. В зависимости от используемой\n",
        "разновидности Python сам интерпретатор может быть реализован в виде программы\n",
        "С, набора классов Java или чего-нибудь другого. Независимо от формы, код Python, который вы пишете, всегда должен выполняться интерпретатором. Поэтому для работы с Python необходимо установить на своем компьютере интерпретатор Python. Также вы можете запускать интерпретатор удаленно на web-сервере, как мы это будем делать в Google Colaboratory.\n",
        "\n"
      ],
      "metadata": {
        "id": "raGM-zyB5Bmm"
      }
    },
    {
      "cell_type": "markdown",
      "source": [
        "#### Для любопытных"
      ],
      "metadata": {
        "id": "ivCL_mQoD13e"
      }
    },
    {
      "cell_type": "markdown",
      "source": [
        "Краткое описание в предыдущем разделе довольно стандартно для языков написания сценариев и обычно это все, что нужно знать большинству программистов на\n",
        "Python. Вы помещаете код в текстовые файлы и запускаете через интерпретатор. Или помещаете код в кодовую ячейку блокнота и выполняете.\n",
        "Однако когда вы сообщаете Python о запуске, \"за кулисами\" происходит нечто большее. Хотя знание внутреннего устройства Python не является обязательным требованием для программирования на Python, базовое понимание структуры исполняющей среды Python может помочь уловить общую картину выполнения программ.\n",
        "Когда вы даете Python четкие команды в виде сценария, то перед\n",
        "тем, как ваш код начнет вычисления, Python предпринимает несколько шагов. В частности, первым делом он осуществляет компиляцию *исходного кода* (сценария) в то, что называется \"байт-кодом\", и направляет его так называемой \"виртуальной машине\"."
      ],
      "metadata": {
        "id": "69WB9xsJD6Zu"
      }
    },
    {
      "cell_type": "markdown",
      "source": [
        "![image.png](data:image/png;base64,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)"
      ],
      "metadata": {
        "id": "XjrWLUJQbnSC"
      }
    },
    {
      "cell_type": "markdown",
      "source": [
        "После запуска программы Python компилирует ваш исходный код (операторы внутри файла) в формат, известный как байт-код. Компиляция является просто шагом трансляции, а байт-код — это низкоуровневое и независимое от платформы представление исходного кода. Грубо говоря, Python транслирует каждый оператор исходного кода в группу инструкций байт-кода, разбивая их на отдельные шаги. Такая трансляция в байт-код происходит со скоростью выполнения — байт-код способен выполняться быстрее, чем первоначальные операторы исходного кода из текстового файла.\n",
        "Начиная с версии Python 3.2 файлы байт-кода .рус сохраняются в\n",
        "подкаталоге по имени **__ pycache__**, расположенном в каталоге, где находятся файлы\n",
        "исходного кода. Во время следующего запуска программы Python загрузит файлы .рус и пропустит шаг компиляции при условии, что вы не изменяли\n",
        "исходный код и работаете с той же версией Python."
      ],
      "metadata": {
        "id": "E7Tqin-ycBmr"
      }
    },
    {
      "cell_type": "markdown",
      "source": [
        "После того как программа скомпилирована в байт-код (или байт-код был загружен из существующих файлов .рус), она отправляется на выполнение виртуальной машине Python (Python Virtual Machine — PVM). Машина PVM — всего лишь большой закодированный цикл, который проходит по инструкциям вашего байт-кода, друг за другом, и выполняет его операции."
      ],
      "metadata": {
        "id": "Q7upCBqDkJ0Z"
      }
    },
    {
      "cell_type": "markdown",
      "source": [
        "### Какие задачи можно решать с помощью Python?\n"
      ],
      "metadata": {
        "id": "vGxHRr3AeS9p"
      }
    },
    {
      "cell_type": "markdown",
      "source": [
        "Python очень удобен при решении реальных задач, поэтому активно применяется в разнообразных областях в качестве инструмента для снабжения сценариями других компонентов и реализации автономных программ. Python - универсальный язык и его возможности практически безграничны. Его можно использовать как для разработки веб-сайтов и игровых программ, так и для управления роботами и космическими аппаратами.\n",
        "\n",
        "Пройдемся крупными мазками по областям применения Python:\n",
        "\n",
        "\n",
        "1.   **Системное программирование.** Встроенные интерфейсы Python для служб операционных систем делают его идеальным средством написания инструментов и утилит для администрирования систем. Программы Python могут производить поиск в файлах и каталогах, запускать другие программы, организовывать параллельную обработку с помощью процессов и потоков и т.д. Стандартная библиотека Python поддерживает все стандартные инструменты ОС (операционной системы): переменные среды, файлы, сокеты, конвейеры, процессы, многопоточность и многое другое. Вдобавок основная масса системных интерфейсов Python спроектирована так, чтобы быть переносимыми между платформами.\n",
        "\n",
        "2.   **Графические пользовательские интерфейсы.** Простота и быстрота разработки в Python также делают его подходящим вариантом для программирования настольных графических пользовательских интерфейсов. В состав Python входит стандартный объектно-ориентированный интерфейс к Tk GUI\n",
        "API под названием tkinter, который позволяет программам Python реализовывать переносимые графические пользовательские интерфейсы в неизменном виде в средах Microsoft Windows, X Window (в Unix и Linux) и Mac OS (Classic и OS X).\n",
        "Существует множество альтернативных библиотек и пакетов расширений позволяющих создавать графические интерфейсы, как для десктопных приложений, так и для веб-интерфейсов и мобильных приложений. В данном курсе мы познакомимся с фреймворком Kivy, с помощью которого мы перенесем свой код на мобильные устройства Android и IOS.\n",
        "\n",
        "3.   **Написание web-сценариев.** В состав Python входят стандартные модули для работы с сетями. С помощью Python можно создавать сложные клиент-серверные сценарии, которые могут взаимодействовать через сокеты, извлекать информацию из форм, передавать файлы посредством FTP, разбирать и генерировать документы, парсить сайты, работать с протоколами электронной почты и другими сетевыми протоколами. Библиотеки Python делают решение таких задач удивительно простым.\n",
        "Веб-разработка значительно упрощается благодаря таких мощных фреймворков как *Django, Flask, aioHTTP, fastAPI, TurboGears, web2py, Tornado*. С их помощью создаются сложные и высоконагруженные веб-сайты.\n",
        "Многие наиболее успешные технологические компании выбирают Python для создания бэкенда своих продуктов: *Instagram, Google, Spotify, Netflex, Uber, Dropbox, Pinterest* и многие другие.\n",
        "\n",
        "4.  **Интеграция компонентов.** Способность Python расширяться и встраиваться в системы С и C++ делает его удобным в качестве гибкого связующего языка для сценарного описания поведения других систем и компонентов. Например, *бэкэнд* (внутренняя часть сервиса) всем известного *ZOOM*, представляет собой \"клубок\" взаимосвязанного кода на C++, C, Python и Lua. И язык Python является связывающим звеном, в подобных системах.   \n",
        "\n",
        "5.  **Программирование для баз данных.** Python поддерживает интерфейсы ко всем распространенным системам реляционных баз данных — MySQL, PostgreSQL, SQLite, Sybase, Oracle, Informix, ODBC и т.д.\n",
        "Также стандартный модуль Python pickle предлагает простую схему хранения объектов в файлах, их восстановление в объекты. Это практически незаменимый инструмент для машинного обучения, когда на время необходимо сохранить все переменные и веса обученных моделей, а спустя время продолжить процесс обучения.\n",
        "Помимо реляционных баз данных, в Python реализует интерфейс к MongoDB, высокопроизводительной, с открытым кодом, отличной от SQL документной базе данных в стиле JSON. Данные в MongoDB хранятся в структурах, очень похожих на собственные списки и словари Python, текст которых может анализироваться и создаваться с помощью стандартного библиотечного модуля Python по имени json.\n",
        "Есть также системы, предлагающие более специализированные способы хранения\n",
        "данных, в том числе Арр Engine от Google, которая моделирует данные с помощью классов Python и обеспечивает всестороннюю масштабируемость, а также облачные базы данных стандарта S3.\n",
        "\n",
        "6.  **Быстрое прототипирование.** Для программ Python компоненты, написанные на Python и С, выглядят одинаковыми. В итоге становится возможным прототипирование систем изначально на Python с последующим переносом избранных компонентов в компилируемые языки типа С или C++ для поставки. В отличие от ряда инструментов прототипирования Python не требует полного переписывания после того, как прототип был сформирован. Ради облегчения сопровождения и использования те части системы, которым не требуется эффективность языков вроде C++, могут оставаться реализованными на Python.\n",
        "\n",
        "7.  **Численное и научное программирование.** Python широко применяется в численном программировании — области, которая традиционно не считалась сферой действия языков написания сценариев, но стала одним из самых быстрорастущих направлений использования Python. В первую очередь, это произошло благодаря появлению  высокопроизводительной библиотеки численного программирования *NumPy*. Она включает в себя такие инструменты, как объекты массивов, интерфейсы к стандартным математическим библиотекам и многое другое. Библиотека Pandas фактически стала главным инструментом в DataScience (наука о данных) для обработки и анализа табличных данных, а Matplotlib зарекомендовал себя как основный инструмент визуализации данных. Для более сложных научных вычислений Python предлагает SciPy. Причем многие библиотеки, или их компоненты, используемые Python, написаны на низкоуровневом языке С с целью повышения производительности.\n",
        "\n",
        "8.  **Прикладные задачи.** Кратко перечислим какие еще задачи прикладного характера и с помощью каких библиотек можно решать в Python:\n",
        "* программирование игр и создание мультимедиа-содержимого с помощью pygame,\n",
        "cgkit, pyglet, РуSoy, PandaBD и т.п.;\n",
        "* взаимодействие через последовательные порты в Windows, Linux и других средах с помощью расширения РуSerial;\n",
        "* обработка изображений посредством PIL/Pillow, PyOpenGL, Blender, Maya и т.д.;\n",
        "* программирование контроллеров для роботов с применением инструментального набора PyRo;\n",
        "* обработка естественного языка с помощью пакета NLTK;\n",
        "* программирование плат Raspberry Pi и Arduino;\n",
        "* мобильные вычисления посредством переносимых версий Python для платформ\n",
        "Google Android и Apple iOS;\n",
        "* программирование функций и макросов для электронных таблиц Excel с использованием дополнений PyXLL или DataNitro;\n",
        "* обработка меток содержимого медиафайлов и метаданных с помощью PyMedia,\n",
        "ID3, PIL/Pillow и т.д.;\n",
        "* программирование искусственного интеллекта с применением библиотек Keras, PyTorch и т.д.\n",
        "* программирование экспертных систем посредством PyCLIPS, Pyke, Pyrolog и\n",
        "pyDatalog;\n",
        "* мониторинг сети с использованием системы zenoss, написанной и настраиваемой\n",
        "с помощью Python;\n",
        "* проектирование и моделирование, подкрепленное сценариями Python, с использованием PythonCAD, PythonOCC, FreeCAD и т.д.;\n",
        "* обработка и генерация документов посредством ReportLab, Sphinx, Cheetah, PyPDF\n",
        "и т.д.;\n",
        "* визуализация данных с применением Mayavi, matplotlib, VTK, VPython и т.д.;\n",
        "* разбор XML, JSON, CSV файлов с помощью библиотечного пакета xml и модулей xmlrpclib, json и csv, соответственно;\n",
        "* глубинный анализ данных.\n",
        "\n",
        "\n"
      ],
      "metadata": {
        "id": "0hoI-JetefzZ"
      }
    },
    {
      "cell_type": "markdown",
      "source": [
        "## Первая программа"
      ],
      "metadata": {
        "id": "18ifit2QdphH"
      }
    },
    {
      "cell_type": "markdown",
      "source": [
        "Приведем пример простой программы на Python (запустите ячейку с кодом, как это сделать вы узнали на первом уроке):\n"
      ],
      "metadata": {
        "id": "IK90NaPvCmHt"
      }
    },
    {
      "cell_type": "code",
      "source": [
        "print(\"Hello, world!\")"
      ],
      "metadata": {
        "colab": {
          "base_uri": "https://localhost:8080/"
        },
        "id": "AzT8N-qKCjas",
        "outputId": "45f42816-dfcf-4d99-ce27-76547413cb80"
      },
      "execution_count": null,
      "outputs": [
        {
          "output_type": "stream",
          "name": "stdout",
          "text": [
            "Hello, world!\n"
          ]
        }
      ]
    },
    {
      "cell_type": "markdown",
      "source": [
        "Данная программа выводит на экран текст Hello, world! с помощью функции print(). В круглых скобках передаются аргументы функции — та информация, которую мы хотим передать функции. Текстовая строчка, которую мы хотим напечатать, заключается в двойные или одинарные кавычки.\n",
        "\n",
        "Функции print() в качестве аргумента можно передавать не только строки, но и числа, и арифметические выражения. Например:\n"
      ],
      "metadata": {
        "id": "8vZffpHVmKny"
      }
    },
    {
      "cell_type": "code",
      "source": [
        "print(2 + 2 * 2)"
      ],
      "metadata": {
        "colab": {
          "base_uri": "https://localhost:8080/"
        },
        "id": "l5y8RU_sC_02",
        "outputId": "5a579944-f3a1-4aa8-bfa5-967c771890a9"
      },
      "execution_count": null,
      "outputs": [
        {
          "output_type": "stream",
          "name": "stdout",
          "text": [
            "6\n"
          ]
        }
      ]
    },
    {
      "cell_type": "markdown",
      "source": [
        "## Синтаксис Python"
      ],
      "metadata": {
        "id": "onJax6SRiGwn"
      }
    },
    {
      "cell_type": "markdown",
      "source": [
        "### Переменные"
      ],
      "metadata": {
        "id": "Cfs-ISFEnaay"
      }
    },
    {
      "cell_type": "markdown",
      "source": [
        "Компьютерные программы пишут на языках программирования, имеющих определенные правила синтаксиса, которые необходимо строго соблюдать. Если этого не делать, компьютер будет выдавать ошибки, вместо того чтобы следовать инструкциям. За долгое время было создано великое множество языков программирования, каждый из которых обладает своим синтаксисом. Знакомство с любым языком программирования начинается с изучения его синтаксиса. Изучением синтаксиса языка Python мы и займемся в этом блоке.\n",
        "\n",
        "\n"
      ],
      "metadata": {
        "id": "-q4lcTVriVrc"
      }
    },
    {
      "cell_type": "markdown",
      "source": [
        "**Переменной** (variable) в языках программирования принято называть именованную область памяти, которая хранит значение. В Python имя переменной должно начинаться с буквы или символа подчеркивания, после чего могут следовать любые сочетания букв, цифр и символов подчеркивания. При этом имена переменных являются регистрозависимыми, то есть имена count, Count и COUNT будут ссылаться на разные переменные.\n",
        "\n",
        "Создание переменной происходит в  момент выполнения операции присваивания значения. При этом имя переменной, которой мы присваиваем значение, должно располагаться слева от знака присваивания (=), а само значение – справа.\n",
        "\n",
        "Например, в следующем ячейке будет создана переменная x, которой будет присвоено значение 8:"
      ],
      "metadata": {
        "id": "fONNMvQdjIqT"
      }
    },
    {
      "cell_type": "code",
      "source": [
        "x = 8"
      ],
      "metadata": {
        "id": "4nhE9aiQkAbr"
      },
      "execution_count": null,
      "outputs": []
    },
    {
      "cell_type": "markdown",
      "source": [
        "Cправа от знака присваивания может находиться не только простое значение, но и выражение любой степени сложности – с использованием скобок, математических операторов, чисел и и других переменных, созданных на более ранних этапах."
      ],
      "metadata": {
        "id": "AO15--8ykO0b"
      }
    },
    {
      "cell_type": "markdown",
      "source": [
        "Самыми распространенными математическими операторами, представленными в языке Python, являются:\n",
        "\n",
        "*   сложение (+)\n",
        "*   вычитание (−)\n",
        "*   умножение (*)\n",
        "*   деление (/)\n",
        "*   возведение в степень (**)\n",
        "\n",
        "Также к простым операторам относятся деление без остатка (//) и вычисление остатка от деления (%).\n",
        "\n",
        "Первый возвращает целую часть от полученного в результате деления частного, а второй – остаток."
      ],
      "metadata": {
        "id": "5pF_GU9nkIPZ"
      }
    },
    {
      "cell_type": "code",
      "source": [
        "print(\"5 + 3 =\", 5 + 3)                 # Сложение\n",
        "print(\"5 - 3 =\", 5 - 3)                 # Вычитание\n",
        "print(\"5 * 3 =\", 5 * 3)                 # Умножение\n",
        "print(\"10 / 3 =\", 10 / 3)               # Деление\n",
        "print(\"2 ** 3 =\", 2 ** 3)               # Возведение в степень\n",
        "print(\"4 ** (1/2) =\", 4 ** (1/2))      # А так можно извлекать корень\n",
        "print(\"10 // 3 =\", 10 // 3)             # Целочисленное деление\n",
        "print(\"10 % 3 =\", 10 % 3)               # Остаток от деления"
      ],
      "metadata": {
        "colab": {
          "base_uri": "https://localhost:8080/"
        },
        "id": "Nix92IH8Xd_D",
        "outputId": "96e1c861-b070-4aa1-a8fd-e626fb5cf9e3"
      },
      "execution_count": null,
      "outputs": [
        {
          "output_type": "stream",
          "name": "stdout",
          "text": [
            "5 + 3 = 8\n",
            "5 - 3 = 2\n",
            "5 * 3 = 15\n",
            "10 / 3 = 3.3333333333333335\n",
            "2 ** 3 = 8\n",
            "4 ** (1/2) = 2.0\n",
            "10 // 3 = 3\n",
            "10 % 3 = 1\n"
          ]
        }
      ]
    },
    {
      "cell_type": "markdown",
      "source": [
        "Есть также унарный вариант операции (-), то есть операция с одним аргументом. Она возвращает число, противоположное данному. Например:\n"
      ],
      "metadata": {
        "id": "7JvrOAJMXdUn"
      }
    },
    {
      "cell_type": "code",
      "source": [
        "-9\n"
      ],
      "metadata": {
        "colab": {
          "base_uri": "https://localhost:8080/"
        },
        "id": "ez8NdHaZ3wH-",
        "outputId": "cad4c0dd-e9dc-4f8c-cdea-a38a7d9e6cfa"
      },
      "execution_count": null,
      "outputs": [
        {
          "output_type": "execute_result",
          "data": {
            "text/plain": [
              "-9"
            ]
          },
          "metadata": {},
          "execution_count": 6
        }
      ]
    },
    {
      "cell_type": "code",
      "source": [
        "# Вот несколько простых примеров унарной операции отрицания (-):\n",
        "\n",
        "# 1. Если \\( x = 5 \\), то \\( -x = -5 \\).\n",
        "# 2. Если \\( y = -3 \\), то \\( -y = 3 \\).\n",
        "# 3. Если \\( z = 0 \\), то \\( -z = 0 \\).\n",
        "\n",
        "# Эти примеры показывают, как унарная операция меняет знак числа."
      ],
      "metadata": {
        "id": "xOG_6tfnQN-m"
      },
      "execution_count": null,
      "outputs": []
    },
    {
      "cell_type": "code",
      "source": [
        "m = 5\n",
        "-m"
      ],
      "metadata": {
        "colab": {
          "base_uri": "https://localhost:8080/"
        },
        "id": "rqdr9bnTQZo0",
        "outputId": "02ee68fb-60c8-41b5-fb6b-209f79c7e467"
      },
      "execution_count": null,
      "outputs": [
        {
          "output_type": "execute_result",
          "data": {
            "text/plain": [
              "-5"
            ]
          },
          "metadata": {},
          "execution_count": 7
        }
      ]
    },
    {
      "cell_type": "code",
      "source": [],
      "metadata": {
        "id": "VtNNfO8SQrYA"
      },
      "execution_count": null,
      "outputs": []
    },
    {
      "cell_type": "markdown",
      "source": [
        "\n",
        "В следующем примере переменной y присваивается результат возведения переменной x в квадрат, к которому прибавлена единица:"
      ],
      "metadata": {
        "id": "xmgG4bbA352P"
      }
    },
    {
      "cell_type": "markdown",
      "source": [
        "**!!! Если в ячейке выше вы забыли выполнить ячейку, с присвоением *x*, то интерпретатор python вызовет исключение (вернет ошибку).**"
      ],
      "metadata": {
        "id": "x783fsEClwXU"
      }
    },
    {
      "cell_type": "code",
      "source": [
        "y = 1 + x ** 2\n",
        "y"
      ],
      "metadata": {
        "colab": {
          "base_uri": "https://localhost:8080/"
        },
        "id": "-Pu4O3T7lnfm",
        "outputId": "cecc83ab-9d32-4aea-8276-8adc6257e4ae"
      },
      "execution_count": null,
      "outputs": [
        {
          "output_type": "execute_result",
          "data": {
            "text/plain": [
              "65"
            ]
          },
          "metadata": {},
          "execution_count": 8
        }
      ]
    },
    {
      "cell_type": "markdown",
      "source": [
        "В Python соблюдается строгий порядок выполнения математических\n",
        "операций. Поскольку переменной x ранее уже было присвоено значение\n",
        "8, а  оператор возведения в  степень имеет более высокий приоритет по\n",
        "сравнению с оператором сложения, переменная y получит значение 65.\n",
        "Одна и та же переменная может находиться как слева, так и справа от\n",
        "оператора присваивания, как показано ниже:\n"
      ],
      "metadata": {
        "id": "hUfHiS_-lhDN"
      }
    },
    {
      "cell_type": "code",
      "source": [
        "y = y - 6\n",
        "y"
      ],
      "metadata": {
        "colab": {
          "base_uri": "https://localhost:8080/"
        },
        "id": "dHtD6Grbm0cu",
        "outputId": "6c178f98-2e48-476e-e977-1ec31bb67f71"
      },
      "execution_count": null,
      "outputs": [
        {
          "output_type": "execute_result",
          "data": {
            "text/plain": [
              "59"
            ]
          },
          "metadata": {},
          "execution_count": 9
        }
      ]
    },
    {
      "cell_type": "markdown",
      "source": [
        "\n",
        "Хотя изначально может показаться, что это выражение не имеет смысла, фактически в Python оно вычисляется так же точно, как и любое другое.\n",
        "Сначала будет вычислено значение выражения, стоящего справа от знака равенства, а  затем оно будет присвоено переменной, указанной слева.\n",
        "В нашем конкретном случае на первом шаге значение переменной y, равное 65, будет уменьшено на 6, в результате чего будет получено значение 59. Оно и будет записано в ту же переменную y, заменив собой прежнее значение 65. После этого обращение к  переменной y будет возвращать значение 59 до тех пор, пока ей не будет присвоено новое значение."
      ],
      "metadata": {
        "id": "Z4X-CeX3m1BX"
      }
    },
    {
      "cell_type": "code",
      "source": [
        "y"
      ],
      "metadata": {
        "colab": {
          "base_uri": "https://localhost:8080/"
        },
        "id": "qlWJ-SWwnIiu",
        "outputId": "47b1025b-0255-43cc-b263-32adb7543e30"
      },
      "execution_count": null,
      "outputs": [
        {
          "output_type": "execute_result",
          "data": {
            "text/plain": [
              "59"
            ]
          },
          "metadata": {},
          "execution_count": 10
        }
      ]
    },
    {
      "cell_type": "markdown",
      "source": [
        "### Функции ввода и вывода"
      ],
      "metadata": {
        "id": "Jwpyrq34oYTN"
      }
    },
    {
      "cell_type": "markdown",
      "source": [
        "#### **print()**"
      ],
      "metadata": {
        "id": "fLTLUaHFFCc5"
      }
    },
    {
      "cell_type": "markdown",
      "source": [
        "Как вы могли заметить выше, чтобы получить вывод на экран переменной, мы ее просто указывали последней командой в кодовой ячейке. Однако, для вывода значений переменных на экран существуют специальные команды вывода.\n",
        "\n",
        "Вывести значение на экран можно при помощи функции *print()*. Она может быть вызвана c одним аргументом, представляющим значение, которое необходимо вывести на экран.\n",
        "\n",
        "В следующем фрагменте кода на экран будут последовательно выведены *56*, текст *Добро пожаловать на курс!* и текущее содержимое переменной x. При этом переменная x может характеризоваться строковым типом данных, числовым или любым другим, о которых мы пока не упоминали. Каждое значение\n",
        "будет выведено на отдельной строке.\n",
        "\n",
        "\n",
        "\n"
      ],
      "metadata": {
        "id": "M9JL5m30ofed"
      }
    },
    {
      "cell_type": "code",
      "source": [
        "print(56)\n",
        "print(\"Добро пожаловать на курс!\")\n",
        "print(x)"
      ],
      "metadata": {
        "colab": {
          "base_uri": "https://localhost:8080/"
        },
        "id": "xlrP-N9tpNbm",
        "outputId": "19cba684-734d-4a96-9d42-d721391d8e19"
      },
      "execution_count": null,
      "outputs": [
        {
          "output_type": "stream",
          "name": "stdout",
          "text": [
            "56\n",
            "Добро пожаловать на курс!\n",
            "8\n"
          ]
        }
      ]
    },
    {
      "cell_type": "markdown",
      "source": [
        "Функции print сразу можно передавать несколько аргументов для их последовательного вывода на экран. Все аргументы функции при этом должны быть разделены запятыми, как показано ниже.\n",
        "\n"
      ],
      "metadata": {
        "id": "G4Xz5_4-pN8l"
      }
    },
    {
      "cell_type": "code",
      "source": [
        "# Добавим комментарий, что бы вы не забывали, что их можно использовать в кодовых строках, для описания того, что делает ваш код\n",
        "print(\"Ранее мы определили переменную x, которая равна: \", x, \"и y, которая равна: \", y)"
      ],
      "metadata": {
        "colab": {
          "base_uri": "https://localhost:8080/"
        },
        "id": "09RyWVdgCP-R",
        "outputId": "68151068-847e-4144-ee19-d717ddbc05e4"
      },
      "execution_count": null,
      "outputs": [
        {
          "output_type": "stream",
          "name": "stdout",
          "text": [
            "Ранее мы определили переменную x, которая равна:  8 и y, которая равна:  59\n"
          ]
        }
      ]
    },
    {
      "cell_type": "markdown",
      "source": [
        "Все переданные аргументы будут выведены на одной строке. При этом аргументы, заключенные в кавычки, будут автоматически восприниматься как строковые и  выводиться как есть. Остальные аргументы в  этом списке – это переменные. При выводе на экран переменной мы будем видеть ее текущее значение.\n",
        "\n",
        "Также стоит отметить, что все аргументы на экране будут отделяться друг от друга пробелами. Помимо строковых констант и  переменных, переданные в  функцию *print* аргументы могут представлять собой сложные выражения, включающие в себя скобки, математические операторы и вызовы других функций.\n",
        "\n",
        "Рассмотрим пример:"
      ],
      "metadata": {
        "id": "LsRoZeioCIGJ"
      }
    },
    {
      "cell_type": "code",
      "source": [
        "print(\"x =\", x, \"умножаем на у =\", y, \"и получаем\", x * y)"
      ],
      "metadata": {
        "colab": {
          "base_uri": "https://localhost:8080/"
        },
        "id": "gHwa8pzXDnCt",
        "outputId": "0cff5601-1db8-42e7-c6a3-ad5b8af3c3a1"
      },
      "execution_count": null,
      "outputs": [
        {
          "output_type": "stream",
          "name": "stdout",
          "text": [
            "x = 8 умножаем на у = 59 и получаем 472\n"
          ]
        }
      ]
    },
    {
      "cell_type": "markdown",
      "source": [
        "Выражение x * y было автоматически вычислено и результат выведен на экран."
      ],
      "metadata": {
        "id": "ANRTooHFEEvU"
      }
    },
    {
      "cell_type": "markdown",
      "source": [
        "У функции *print()* есть также дополнительные параметры.\n",
        "\n",
        "Первый параметр. `sep=' '`. По умолчанию аргументы функции *print()* при выводе разделены пробелом, но вы можете указать любой другой символ:"
      ],
      "metadata": {
        "id": "R7jvlgxUBQw8"
      }
    },
    {
      "cell_type": "code",
      "source": [
        "print(45, 54, 3, 45, sep=' | ')"
      ],
      "metadata": {
        "colab": {
          "base_uri": "https://localhost:8080/"
        },
        "id": "4llpIw8UCkij",
        "outputId": "b6c92e13-e7e2-4e64-87db-0cb5d07515b6"
      },
      "execution_count": null,
      "outputs": [
        {
          "output_type": "stream",
          "name": "stdout",
          "text": [
            "45 | 54 | 3 | 45\n"
          ]
        }
      ]
    },
    {
      "cell_type": "markdown",
      "source": [
        "Второй параметр `end='\\n'` определяет символ или последовательность символов, которыми будет заканчиваться строка. По умолчанию это перенос каретки или строки `\\n`. Этот служебный символ можно сравнить с нажатием клавиши *Enter* после ввода строки.\n",
        "\n",
        "Пример выше можно реализовать с помощью нескольких вызовов функции *print()* с параметром `end=' | '`:\n"
      ],
      "metadata": {
        "id": "eSVrS_EBCuh9"
      }
    },
    {
      "cell_type": "code",
      "source": [
        "print(45, end=' | ')\n",
        "print(54, end=' | ')\n",
        "print(3, end=' | ')\n",
        "print(45)\n"
      ],
      "metadata": {
        "colab": {
          "base_uri": "https://localhost:8080/"
        },
        "id": "niMrDQJTETXl",
        "outputId": "62344a74-5498-4423-b8f0-f28e1e8a50e4"
      },
      "execution_count": null,
      "outputs": [
        {
          "output_type": "stream",
          "name": "stdout",
          "text": [
            "45 | 54 | 3 | 45\n"
          ]
        }
      ]
    },
    {
      "cell_type": "markdown",
      "source": [
        "\n",
        "\n",
        "Здесь важно внести ясность в употреблении понятий аргументы и параметры, когда мы говорим о функциях. Программисты часто сами путают эти понятия и свободно употребляют оба выражения. Но в академическом плане нам с вами важно понять разницу:\n",
        "\n",
        "> **Параметром функции** называется переменная в функции, которая будет содержать передаваемое снаружи входное значение.\n",
        "\n",
        "> **Аргументом** называют фактическую переменную или выражение, значение которого используется как входное значение при вызове функции.\n",
        "\n",
        "Т.е. функции мы передаем **аргументы**, а внутри функции, используем **параметры**. Когда мы говорим о параметрах функции, то рассматриваем внутреннее устройство функции, когда говорим об аргументах, то нам важно само передаваемое значение.\n"
      ],
      "metadata": {
        "id": "FoFTXTbNHOO-"
      }
    },
    {
      "cell_type": "markdown",
      "source": [
        "![9lg1H.png](data:image/png;base64,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)"
      ],
      "metadata": {
        "id": "8tUflW2am2XI"
      }
    },
    {
      "cell_type": "markdown",
      "source": [
        "#### **input()**"
      ],
      "metadata": {
        "id": "fyuqSXP1E4kJ"
      }
    },
    {
      "cell_type": "markdown",
      "source": [
        "Программы, написанные на Python, могут читать ввод с клавиатуры при помощи функции *input*. Вызов этой функции предписывает программе остановить выполнение и  ждать завершения пользовательского ввода с  клавиатуры. После нажатия пользователем клавиши *Enter* символы, введенные им ранее, возвращаются функцией *input*, и выполнение программы продолжается. Обычно возвращенное функцией *input* значение записывается в переменную при помощи оператора присваивания, чтобы впоследствии его можно было использовать.\n",
        "\n",
        "Например, следующее выражение считывает ввод пользователя с клавиатуры и записывает результат в переменную a."
      ],
      "metadata": {
        "id": "VeVMh11lFLMe"
      }
    },
    {
      "cell_type": "code",
      "source": [
        "a = input()\n",
        "print('вы ввели:', a)"
      ],
      "metadata": {
        "colab": {
          "base_uri": "https://localhost:8080/"
        },
        "id": "I4mwLHvoFglp",
        "outputId": "5200c54b-c82b-485d-803c-0952befe38f5"
      },
      "execution_count": null,
      "outputs": [
        {
          "output_type": "stream",
          "name": "stdout",
          "text": [
            "9\n",
            "вы ввели: 9\n"
          ]
        }
      ]
    },
    {
      "cell_type": "markdown",
      "source": [
        "Функция *input* всегда возвращает значение строкового типа (string), что\n",
        "в компьютерной терминологии означает последовательность символов.\n",
        "Если вы запрашивали у пользователя его имя, марку машины или породу собаки, то\n",
        "будет логично сохранить введенное значение в переменной как строку.\n",
        "Если же речь идет о возрасте, температуре или стоимости товара, то текстовое значение, введенное пользователем, лучше будет конвертировать в  число.\n",
        "\n",
        "Программист, следуя логике, должен определить, будет это число целым или с плавающей запятой (то есть с десятичными знаками после запятой).\n",
        "\n",
        "Преобразование значения в  целочисленный тип осуществляется путем вызова функции int(), тогда как перевод в числовой тип с плавающей запятой можно выполнить при помощи функции float().\n",
        "Функции приведения типа принято использовать непосредственно в том же выражении, где запрашивается ввод с клавиатуры. Например, в сле­дующем примере у пользователя запрашивается название товара, количество и цена за штуку. Каждое введенное значение сохраняется в соответствующей переменной, при этом непосредственно перед сохранением оно преобразуется в нужный тип: имя остается строковым, количество товаров становится целочисленным, а цена – числовым типом с плавающей запятой."
      ],
      "metadata": {
        "id": "zZ6wADhVGEP0"
      }
    },
    {
      "cell_type": "code",
      "source": [
        "name = input(\"Наименование товара: \")\n",
        "quantity = int(input(\"Сколько единиц товара вы желаете приобрести? \"))\n",
        "price = float(input(\"Какова цена за единицу? \"))"
      ],
      "metadata": {
        "colab": {
          "base_uri": "https://localhost:8080/"
        },
        "id": "0XZ_MwLhGeD7",
        "outputId": "1ddb9f76-dcb2-490b-b685-d263133f43f0"
      },
      "execution_count": null,
      "outputs": [
        {
          "name": "stdout",
          "output_type": "stream",
          "text": [
            "Наименование товара: bread\n",
            "Сколько единиц товара вы желаете приобрести? 9\n",
            "Какова цена за единицу? 1.5\n"
          ]
        }
      ]
    },
    {
      "cell_type": "markdown",
      "source": [
        "При каждом вызове функции *input* мы передавали ей аргумент в виде вопроса. Этот аргумент является необязательным и при наличии будет показываться на экране непосредственно перед вводом с клавиатуры. Тип этого аргумента должен быть строковым. Такие значения заключаются в  кавычки, чтобы анализатор Python понимал, что необходимо воспринимать их как строковые, а не пытаться искать подходящие имена функций или переменных.\n",
        "\n",
        "Математические операции допустимо производить как с целочисленными значениями, так и с числами с плавающей запятой. Например, в следующем выражении мы пытаемся вычислить общую сумму приобретаемых товаров, записывая результат в новую переменную:"
      ],
      "metadata": {
        "id": "3H2L8nz119tx"
      }
    },
    {
      "cell_type": "code",
      "source": [
        "total = quantity * price\n",
        "print(\"Общая стоимость покупки составила:\", total)"
      ],
      "metadata": {
        "colab": {
          "base_uri": "https://localhost:8080/"
        },
        "id": "fzJ9UWMI1UsE",
        "outputId": "1d7cde25-ecb9-477a-df42-dba776054c60"
      },
      "execution_count": null,
      "outputs": [
        {
          "output_type": "stream",
          "name": "stdout",
          "text": [
            "Общая стоимость покупки составила: 13.5\n"
          ]
        }
      ]
    },
    {
      "cell_type": "markdown",
      "source": [
        "**!!! Это выражение успешно выполнится только в том случае, если составляющие его переменные quantity и  price были заранее преобразованы\n",
        "в  числовой тип при помощи функций int и  float. Попытка выполнить\n",
        "операцию умножения без предварительного преобразования переменных\n",
        "в числовой тип повлечет за собой ошибку программы.**"
      ],
      "metadata": {
        "id": "_DlzVyPS22bp"
      }
    },
    {
      "cell_type": "markdown",
      "source": [
        "### Если нужно больше функций"
      ],
      "metadata": {
        "id": "Jgd-1wq78JY6"
      }
    },
    {
      "cell_type": "markdown",
      "source": [
        "Некоторые функции, такие как *input* и *print*, используются в программах\n",
        "на Python достаточно часто, другие – реже. В  результате было решено наиболее популярные функции сделать доступными всем по умолчанию, а остальные разбить на модули, которые разработчики смогут подключать к своим программам по мере необходимости. К примеру, специфические математические функции собраны в  отдельном модуле с  именем *math*.\n",
        "\n",
        "Импортировать их в свою программу можно, написав соответствующую\n",
        "инструкцию, показанную ниже:"
      ],
      "metadata": {
        "id": "ovBXjynU8SOV"
      }
    },
    {
      "cell_type": "code",
      "source": [
        "import math"
      ],
      "metadata": {
        "id": "7MfQy50a8gAJ"
      },
      "execution_count": null,
      "outputs": []
    },
    {
      "cell_type": "markdown",
      "source": [
        "В модуле *math* содержится огромное количество математических функций, такие как *sqrt*, *ceil*, *sin*, *cos* и другие. Чтобы воспользоваться функцией из\n",
        "загруженного модуля, необходимо перед ней указать имя этого модуля\n",
        "с  разделяющей их точкой. Например, в  следующем выражении выполняется извлечение квадратного корня из переменной *y* (которая должна быть объявлена заранее) путем вызова функции *sqrt* из модуля *math*, и результат сохраняется в новой переменной *z*:"
      ],
      "metadata": {
        "id": "Wna-gEOB8i8b"
      }
    },
    {
      "cell_type": "code",
      "source": [
        "z = math.sqrt(y)\n",
        "z"
      ],
      "metadata": {
        "colab": {
          "base_uri": "https://localhost:8080/"
        },
        "id": "qrcoEN7c87dm",
        "outputId": "2c07441a-fa71-4107-8c11-ff8d650b99b4"
      },
      "execution_count": null,
      "outputs": [
        {
          "output_type": "execute_result",
          "data": {
            "text/plain": [
              "7.681145747868608"
            ]
          },
          "metadata": {},
          "execution_count": 18
        }
      ]
    },
    {
      "cell_type": "markdown",
      "source": [
        "Также распространенными модулями в языке Python являются random, time, sys и многие другие. Больше информации о модулях и содержащихся в них функциях можно найти на просторах интернета."
      ],
      "metadata": {
        "id": "B-FVNIsn9H69"
      }
    },
    {
      "cell_type": "markdown",
      "source": [
        "### Типы данных"
      ],
      "metadata": {
        "id": "eLXhE2ZXYZoc"
      }
    },
    {
      "cell_type": "markdown",
      "source": [
        "Язык Python поддерживает множество **типов данных**, среди основных обычно выделяют:\n",
        "\n",
        "*   **Целые числа (int):** 4, -45, 0, 3434\n",
        "*   **Вещественные или числа с плавающей точкой (float):** 1.27, -0.36\n",
        "*   **Строки (str):** \"Привет, всем!\"\n",
        "*   **Логический тип (bool):** True или False (истина / ложь)"
      ],
      "metadata": {
        "id": "WQ0D8hi0YmM7"
      }
    },
    {
      "cell_type": "markdown",
      "source": [
        "Выяснить тип переменной можно с помощью функции **type()**:"
      ],
      "metadata": {
        "id": "1wl0WzCqbJRl"
      }
    },
    {
      "cell_type": "code",
      "source": [
        "a = 5\n",
        "b = 7.32\n",
        "c = \"Привет!\"\n",
        "d = False\n",
        "\n",
        "print(type(a))\n",
        "print(type(b))\n",
        "print(type(c))\n",
        "print(type(d))"
      ],
      "metadata": {
        "colab": {
          "base_uri": "https://localhost:8080/"
        },
        "id": "PIXVuUbzbaZt",
        "outputId": "e84d9cfb-e84d-4147-e42f-6c7085d0338a"
      },
      "execution_count": null,
      "outputs": [
        {
          "output_type": "stream",
          "name": "stdout",
          "text": [
            "<class 'int'>\n",
            "<class 'float'>\n",
            "<class 'str'>\n",
            "<class 'bool'>\n"
          ]
        }
      ]
    },
    {
      "cell_type": "markdown",
      "source": [
        "Как вы уже знаете, значения одного типа можно приводить к другому типу данных, используя следующие функции приведения типов:\n",
        "\n",
        "*   int() – приведение к целому типу;\n",
        "*   float() – приведение к числу с плавающей точкой;\n",
        "*   bool() – приведение к булеву (логическму) типу;\n",
        "*   str()– приведение к строковому типу.\n",
        "\n",
        "\n"
      ],
      "metadata": {
        "id": "zxBfybd5cHuZ"
      }
    },
    {
      "cell_type": "code",
      "source": [
        "a = 5\n",
        "print(a, type(a)) # целое число\n",
        "print((1/3), type(a / 3))  # деление привело к автоматическому приведению типов\n",
        "print(int(a / 3), type(int(a / 3))) # Приведение к целому числу путем отбрасывания десятичной части\n",
        "print(str(5))"
      ],
      "metadata": {
        "colab": {
          "base_uri": "https://localhost:8080/",
          "height": 87
        },
        "id": "uJjnIZiNdWf7",
        "outputId": "070d7dac-a446-4f82-eaaa-2e38e4243e64"
      },
      "execution_count": null,
      "outputs": [
        {
          "output_type": "stream",
          "name": "stdout",
          "text": [
            "5 <class 'int'>\n",
            "0.3333333333333333 <class 'float'>\n",
            "1 <class 'int'>\n"
          ]
        },
        {
          "output_type": "execute_result",
          "data": {
            "text/plain": [
              "'5'"
            ],
            "application/vnd.google.colaboratory.intrinsic+json": {
              "type": "string"
            }
          },
          "metadata": {},
          "execution_count": 20
        }
      ]
    },
    {
      "cell_type": "markdown",
      "source": [
        "### Работа со строками"
      ],
      "metadata": {
        "id": "Qr63Lm5N-x3c"
      }
    },
    {
      "cell_type": "markdown",
      "source": [
        "#### Форматирование строк\n"
      ],
      "metadata": {
        "id": "qEtN5ret_D4d"
      }
    },
    {
      "cell_type": "markdown",
      "source": [
        "Python предлагает несколько вариантов выполнения форматирования строк, а именно использование форматирующего оператора (%), функции format, шаблонных строк и f-строк. В курсе мы будем применять несколько вариантов форматирования, но чаще f-строки и форматирующий оператор (%).\n",
        "\n",
        "**Когда нам нужно прибегать к форматированию?**\n",
        "\n",
        "Например, в результате выполнения математической операции мы получили число с большим количеством знаков после запятой. И хотя в  некоторых программах критически важно выводить результирующие числа с полной точностью, зачастую бывает необходимо округлить их до определенного количества знаков после запятой. Бывает также, что совокупность целых чисел нужно вывести на экран в виде столбцов. Конструкции форматирования в  Python позволяют решить эти и  многие другие задачи.\n"
      ],
      "metadata": {
        "id": "a1Pk24rG_MOD"
      }
    },
    {
      "cell_type": "markdown",
      "source": [
        "Рассмотрим вариант форматирования с помощью **форматирующего оператора (%) и спецификатора формата**:"
      ],
      "metadata": {
        "id": "VGwX2Bp9Ku3w"
      }
    },
    {
      "cell_type": "code",
      "source": [
        "print(\"%.2f\" % 58.7896)"
      ],
      "metadata": {
        "id": "3TxMGcIhoeYl",
        "colab": {
          "base_uri": "https://localhost:8080/"
        },
        "outputId": "cdf34602-4f5c-4cd5-9ee3-ca4e324cd935"
      },
      "execution_count": null,
      "outputs": [
        {
          "output_type": "stream",
          "name": "stdout",
          "text": [
            "58.79\n"
          ]
        }
      ]
    },
    {
      "cell_type": "markdown",
      "source": [
        "Звучит страшно, но на самом деле все довольно просто. `.2f` - это спецификатор формата, показывающий как мы хотим отформатировать строку. После формирования правильного спецификатора к нему слева добавляют символ процента (%), что придает ему законченный и корректный вид.\n",
        "\n",
        "После создания спецификатора его можно использовать для форматирования значений. Строка, содержащая спецификатор, должна располагаться слева от форматирующего оператора (%), а  значение, которое требуется отформатировать, – справа. При выполнении оператора значение, указанное справа от него, вставляется в  строку слева (на место спецификатора с использованием указанных правил форматирования), в результате чего формируется итоговая строка. При этом все оставшиеся части строки, за исключением спецификатора, остаются неизменными.\n",
        "\n",
        "Допустимо осуществлять форматирование сразу нескольких значений в одной строке, разместив более одного спецификатора в тексте слева от форматирующего оператора. В этом случае значения для форматирования справа от форматирующего оператора необходимо перечислить через запятую и заключить их в круглые скобки.\n",
        "Форматирование строк зачастую выполняется в рамках функции *print()*.\n",
        "\n",
        "Рассмотрим примеры форматирования строк:"
      ],
      "metadata": {
        "id": "Q7JGHAdXLvEh"
      }
    },
    {
      "cell_type": "code",
      "source": [
        "# https://monica.im/home/chat/Monica/monica?convId=conv%3A5790317a-89c0-4964-8406-f1189e5c5458\n",
        "# https://monica.im/home/chat/Monica/monica?convId=conv%3A0a3e4510-e3c5-4576-9c0a-257790c90b1e\n",
        "\n",
        "a = 56.45\n",
        "b = -9.15\n",
        "с = \"Пирожок!\"\n",
        "\n",
        "\n",
        "print(\"Целое число: %d\" % a)\n",
        "print(\"Число с плавающей точкой: %f\" % a)\n",
        "print(\"Несколько форматов в одной строке: %d и %.2f\"  % (a, b))\n",
        "\n",
        "# Значения из переменных a и b отображаются в формате целого числа, занимающего минимум восемь знакомест.\n",
        "# При этом были добавлены ведущие пробелы. При преобразовании значения переменной a в целочисленный тип его дробная часть была отброшена (а не округлена)\n",
        "print(\"Целые числа с 8-ю знакоместами: %8i%8i\"  % (a, b))\n",
        "\n",
        "print(\"Число с плавающей точкой с 4-мя десятичными знаками: %.4f\" % a)\n",
        "\n",
        "print(\"Формат строки с 10-ю знакоместами: %10s\" % с)\n",
        "\n",
        "# Если слово длиннее числа знакомест, то применяется число знакомест равное длине слова\n",
        "print(\"Формат строки с 4-ю знакоместами: %4s\" % с)\n",
        "\n",
        "print(\"%s съел %d пирожков!\" % ('Николай', a / 5))"
      ],
      "metadata": {
        "colab": {
          "base_uri": "https://localhost:8080/"
        },
        "id": "Rr7-ao6ZLjZH",
        "outputId": "32ca9140-70db-4e25-eb0a-0d313009e35f"
      },
      "execution_count": null,
      "outputs": [
        {
          "output_type": "stream",
          "name": "stdout",
          "text": [
            "Целое число: 56\n",
            "Число с плавающей точкой: 56.450000\n",
            "Несколько форматов в одной строке: 56 и -9.15\n",
            "Целые числа с 8-ю знакоместами:       56      -9\n",
            "Число с плавающей точкой с 4-мя десятичными знаками: 56.4500\n",
            "Формат строки с 10-ю знакоместами:   Пирожок!\n",
            "Формат строки с 4-ю знакоместами: Пирожок!\n",
            "Николай съел 11 пирожков!\n"
          ]
        }
      ]
    },
    {
      "cell_type": "markdown",
      "source": [
        "#### Строковые операции"
      ],
      "metadata": {
        "id": "3VR27xfWSlUx"
      }
    },
    {
      "cell_type": "markdown",
      "source": [
        "Так же, как с числами, в Python можно манипулировать со строками при помощи специальных операторов и передавать их в функции в качестве аргументов. Самые распространенные операции, которые приходится выполнять со строковыми значениями, – это их конкатенация, определение длины строки и  извлечение определенных символов и  подстрок.\n"
      ],
      "metadata": {
        "id": "wByMfn3cSpt7"
      }
    },
    {
      "cell_type": "markdown",
      "source": [
        "Строки в Python можно конкатенировать при помощи оператора **сложения (+)**. В результате строка, стоящая справа от оператора конкатенации, будет добавлена в конец строки, стоящей слева, с образованием нового строкового значения.\n",
        "\n",
        "Например, в представленном ниже фрагменте кода запрашивается информация об имени и фамилии у пользователя, после чего собирается новое строковое значение, состоящее из фамилии и имени, разделенных пробелом. Полученный результат выводится на экран:"
      ],
      "metadata": {
        "id": "JXHig36QSyxS"
      }
    },
    {
      "cell_type": "code",
      "source": [
        "# Запрашиваем у пользователя имя и фамилию\n",
        "first = input(\"Введите имя: \")\n",
        "last = input(\"Введите фамилию: \")\n",
        "\n",
        "# Конкатенируем строки\n",
        "both = last + \" \" + first\n",
        "\n",
        "# Отображаем результат\n",
        "print(both)"
      ],
      "metadata": {
        "colab": {
          "base_uri": "https://localhost:8080/"
        },
        "id": "zLKAesbfTJPE",
        "outputId": "1e7f294f-a5c0-490a-94ff-ca3fc7bd2122"
      },
      "execution_count": null,
      "outputs": [
        {
          "output_type": "stream",
          "name": "stdout",
          "text": [
            "Введите имя: Иван\n",
            "Введите фамилию: Иванов\n",
            "Иванов Иван\n"
          ]
        }
      ]
    },
    {
      "cell_type": "markdown",
      "source": [
        "Количество символов в строке называется длиной строки. Это всегда положительное значение числового типа, и получить его можно при помощи функции *len()*.\n",
        "\n",
        "На вход функция требует единственный строковый аргумент и  возвращает его длину:\n"
      ],
      "metadata": {
        "id": "LTTS58a5TTlA"
      }
    },
    {
      "cell_type": "code",
      "source": [
        "num_chars = len(both)\n",
        "print(\"Имя и фамилия занимают %s символов\" % num_chars)"
      ],
      "metadata": {
        "colab": {
          "base_uri": "https://localhost:8080/"
        },
        "id": "aLbfVgKTTm7c",
        "outputId": "9f0261d5-10a4-454f-ba0c-19fa611d9e5b"
      },
      "execution_count": null,
      "outputs": [
        {
          "output_type": "stream",
          "name": "stdout",
          "text": [
            "Имя и фамилия занимают 11 символов\n"
          ]
        }
      ]
    },
    {
      "cell_type": "markdown",
      "source": [
        "Каждый символ в строке имеет свой уникальный индекс. Первый символ обладает индексом 0, а последний – индексом, равным длине строки минус один. Получить доступ к символу в строке по индексу можно, поместив его значение в квадратные скобки непосредственно после строковой переменной.\n",
        "\n",
        "В следующей программе демонстрируется отображение на экране фамилии и инициалов человека:"
      ],
      "metadata": {
        "id": "V9Qrrkp1Tnd4"
      }
    },
    {
      "cell_type": "code",
      "source": [
        "# Запрашиваем имя пользователя\n",
        "first = input(\"Введите имя: \")\n",
        "middle = input(\"Введите отчество: \")\n",
        "last = input(\"Введите фамилию: \")\n",
        "\n",
        "# Выводим инициалы\n",
        "print(\"Ваши данные для подписи: %s %s. %s.\" % (last, first[0], middle[0] ))\n"
      ],
      "metadata": {
        "colab": {
          "base_uri": "https://localhost:8080/"
        },
        "id": "v_O-KD7tUIGl",
        "outputId": "e7617eb6-0976-4790-eef6-fd8c9d6057b6"
      },
      "execution_count": null,
      "outputs": [
        {
          "output_type": "stream",
          "name": "stdout",
          "text": [
            "Введите имя: Иван\n",
            "Введите отчество: Иванович\n",
            "Введите фамилию: Иванов\n",
            "Ваши данные для подписи: Иванов И. И.\n"
          ]
        }
      ]
    },
    {
      "cell_type": "markdown",
      "source": [
        "Получить из строки несколько символов, стоящих подряд, можно, указав два индекса в квадратных скобках, разделенных двоеточием. Эта операция по-другому называется выполнением среза строки. Использование срезов позволяет эффективно извлекать подстроки из строковых переменных:"
      ],
      "metadata": {
        "id": "QRXzHhZLUIeU"
      }
    },
    {
      "cell_type": "code",
      "source": [
        "txt = 'Здравствуйте, я Ваша тетя!'\n",
        "\n",
        "# Делаем срез с нулевой позиции до 2-й. Символ второй позиции не берется.\n",
        "print(txt[0:2])\n",
        "# Делаем срез с нулевой позиции до 12-й. Символ 12 позиции не берется.\n",
        "print(txt[0:12])\n",
        "\n",
        "# Отступ можно делать с конца, используя знак (-)\n",
        "# Убираем последний символ\n",
        "print(txt[0:-1])\n",
        "\n",
        "# Выбираем нужное нам слово с конца\n",
        "print(txt[-5:-1])"
      ],
      "metadata": {
        "colab": {
          "base_uri": "https://localhost:8080/"
        },
        "id": "JXMuA0OOVYpQ",
        "outputId": "01fa3fc6-b62d-4f47-dd12-e21406317fe0"
      },
      "execution_count": null,
      "outputs": [
        {
          "output_type": "stream",
          "name": "stdout",
          "text": [
            "Зд\n",
            "Здравствуйте\n",
            "Здравствуйте, я Ваша тетя\n",
            "тетя\n"
          ]
        }
      ]
    },
    {
      "cell_type": "markdown",
      "source": [
        "А также строки можно умножать. Умножение строки на целое число приводит к ее повторению:"
      ],
      "metadata": {
        "id": "Pp9S7K9Mc9GZ"
      }
    },
    {
      "cell_type": "code",
      "source": [
        "text = 'привет'\n",
        "print(text * 4)    # Умножение строки на целое число - это повторение  строки несколько раз (конкатенация)"
      ],
      "metadata": {
        "colab": {
          "base_uri": "https://localhost:8080/"
        },
        "id": "ObENPTQ1c587",
        "outputId": "202bcaed-d322-4e4e-b63c-df477b1aa898"
      },
      "execution_count": null,
      "outputs": [
        {
          "output_type": "stream",
          "name": "stdout",
          "text": [
            "приветприветприветпривет\n"
          ]
        }
      ]
    },
    {
      "cell_type": "markdown",
      "source": [
        "На этом знакомство с синтаксисом языка Python завершено и пора перейти к [практической части](https://colab.research.google.com/drive/1m-Ph90c-9S_gZchdG1ARoY2YjMTryKkl#scrollTo=UdxWiGmA63K2) урока."
      ],
      "metadata": {
        "id": "Abc83fAqQGdz"
      }
    }
  ]
}