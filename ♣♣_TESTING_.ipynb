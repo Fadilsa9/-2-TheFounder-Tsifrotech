{
  "nbformat": 4,
  "nbformat_minor": 0,
  "metadata": {
    "colab": {
      "provenance": [],
      "authorship_tag": "ABX9TyOVErC0s4veJkmgx4xxr3ay",
      "include_colab_link": true
    },
    "kernelspec": {
      "name": "python3",
      "display_name": "Python 3"
    },
    "language_info": {
      "name": "python"
    }
  },
  "cells": [
    {
      "cell_type": "markdown",
      "metadata": {
        "id": "view-in-github",
        "colab_type": "text"
      },
      "source": [
        "<a href=\"https://colab.research.google.com/github/Fadilsa9/TSIFROTECH-The-Founder/blob/main/%E2%99%A3%E2%99%A3_TESTING_.ipynb\" target=\"_parent\"><img src=\"https://colab.research.google.com/assets/colab-badge.svg\" alt=\"Open In Colab\"/></a>"
      ]
    },
    {
      "cell_type": "code",
      "source": [
        "x = 8"
      ],
      "metadata": {
        "id": "n_W3GtOjX_sx"
      },
      "execution_count": null,
      "outputs": []
    },
    {
      "cell_type": "code",
      "source": [
        "y = 2"
      ],
      "metadata": {
        "id": "jEd5Bb0DYAnf"
      },
      "execution_count": null,
      "outputs": []
    },
    {
      "cell_type": "code",
      "execution_count": null,
      "metadata": {
        "colab": {
          "base_uri": "https://localhost:8080/"
        },
        "id": "FfJaimDuXscG",
        "outputId": "e6a4e68e-ada0-4824-8638-9f7a6916dbca"
      },
      "outputs": [
        {
          "output_type": "stream",
          "name": "stdout",
          "text": [
            "x = 8 ymnogaem na y = 2 i palyhaem  16\n"
          ]
        }
      ],
      "source": [
        "print('x =', x, 'ymnogaem na y =', y, 'i palyhaem ', x * y)"
      ]
    },
    {
      "cell_type": "code",
      "source": [
        "print(1, 2, 3, 4, 5, sep = ' | ')"
      ],
      "metadata": {
        "colab": {
          "base_uri": "https://localhost:8080/"
        },
        "id": "NqYndbMHYxb4",
        "outputId": "b25a14e8-87b4-471a-e734-c5f01c6427c6"
      },
      "execution_count": null,
      "outputs": [
        {
          "output_type": "stream",
          "name": "stdout",
          "text": [
            "1 | 2 | 3 | 4 | 5\n"
          ]
        }
      ]
    },
    {
      "cell_type": "code",
      "source": [
        "print(1, 2, 3, 4, 5, sep = ' | \\n')"
      ],
      "metadata": {
        "colab": {
          "base_uri": "https://localhost:8080/"
        },
        "id": "czEW70S7Z7Zo",
        "outputId": "c678dafa-5ecc-48c9-84c1-8a9ef0cb6fe4"
      },
      "execution_count": null,
      "outputs": [
        {
          "output_type": "stream",
          "name": "stdout",
          "text": [
            "1 | \n",
            "2 | \n",
            "3 | \n",
            "4 | \n",
            "5\n"
          ]
        }
      ]
    },
    {
      "cell_type": "code",
      "source": [
        "print(1, 2, 3, 4, 5, end = ' | ')\n"
      ],
      "metadata": {
        "colab": {
          "base_uri": "https://localhost:8080/"
        },
        "id": "5ci5jAVkaPUH",
        "outputId": "95e219e5-80d2-4dcc-be10-0a513f58ffd6"
      },
      "execution_count": null,
      "outputs": [
        {
          "output_type": "stream",
          "name": "stdout",
          "text": [
            "1 2 3 4 5 | "
          ]
        }
      ]
    },
    {
      "cell_type": "code",
      "source": [
        "print(22, end = ' | ')"
      ],
      "metadata": {
        "colab": {
          "base_uri": "https://localhost:8080/"
        },
        "id": "6lrNObXSacNC",
        "outputId": "820867e9-cd7e-471a-93eb-0b3266cff533"
      },
      "execution_count": null,
      "outputs": [
        {
          "output_type": "stream",
          "name": "stdout",
          "text": [
            "22 | "
          ]
        }
      ]
    },
    {
      "cell_type": "code",
      "source": [
        "print(33, end = ' () () ')"
      ],
      "metadata": {
        "colab": {
          "base_uri": "https://localhost:8080/"
        },
        "id": "jEwzgUUkamso",
        "outputId": "7fca6f60-888f-4751-895c-94d7f76c2224"
      },
      "execution_count": null,
      "outputs": [
        {
          "output_type": "stream",
          "name": "stdout",
          "text": [
            "33 () () "
          ]
        }
      ]
    },
    {
      "cell_type": "code",
      "source": [
        "z = input()\n",
        "print('you entered:', z)"
      ],
      "metadata": {
        "colab": {
          "base_uri": "https://localhost:8080/"
        },
        "id": "0r3WF1Ebuakf",
        "outputId": "11ec3676-9123-4a98-aae7-795d27135ac0"
      },
      "execution_count": null,
      "outputs": [
        {
          "output_type": "stream",
          "name": "stdout",
          "text": [
            "8\n",
            "you entered: 8\n"
          ]
        }
      ]
    },
    {
      "cell_type": "code",
      "source": [
        "i = input('how are u?')\n",
        "ii = int(input('how old are u?'))\n",
        "iii = float(input('how much your salary?'))"
      ],
      "metadata": {
        "colab": {
          "base_uri": "https://localhost:8080/"
        },
        "id": "Cvm4NoLr1ILm",
        "outputId": "6b9f1cd0-ccd6-4dc2-9e05-e6b6ada17269"
      },
      "execution_count": null,
      "outputs": [
        {
          "name": "stdout",
          "output_type": "stream",
          "text": [
            "how are u?fine\n",
            "how old are u?88\n",
            "how much your salary?8\n"
          ]
        }
      ]
    },
    {
      "cell_type": "code",
      "source": [
        "name = input('Наименование товара: ')\n",
        "quantity = int(input('Сколько единец товара вы желаете приобрести? '))\n",
        "price = float(input('Какова цена за единицу? '))"
      ],
      "metadata": {
        "colab": {
          "base_uri": "https://localhost:8080/"
        },
        "id": "-Wa1asMO23Io",
        "outputId": "6ea5eb33-5ffe-43c6-b6ce-1ab69e32f3dd"
      },
      "execution_count": null,
      "outputs": [
        {
          "name": "stdout",
          "output_type": "stream",
          "text": [
            "Наименование товара: ss\n",
            "Сколько единец товара вы желаете приобрести? 9\n",
            "Какова цена за единицу? 98\n"
          ]
        }
      ]
    },
    {
      "cell_type": "code",
      "source": [
        "total = quantity * price\n",
        "print('Общая стоимость покупки составила:', total)"
      ],
      "metadata": {
        "colab": {
          "base_uri": "https://localhost:8080/"
        },
        "id": "ZVDVoIbf3o-P",
        "outputId": "a13756b3-a734-41e6-cc45-63be393e0a04"
      },
      "execution_count": null,
      "outputs": [
        {
          "output_type": "stream",
          "name": "stdout",
          "text": [
            "Общая стоимость покупки составила: 882.0\n"
          ]
        }
      ]
    },
    {
      "cell_type": "code",
      "source": [
        "a = 78.99\n",
        "b = -34.27\n",
        "c = 'БургерКинг'\n",
        "\n",
        "print(\"1 целое число: %d\" % a)\n",
        "print('2 чисор с плавающей точкой: %f' % b)\n",
        "print('3 несколько форматов в одной строке: %d and %.9f' % (a, b))\n",
        "print(\"4 целые числа с 8-ю знакоместами: %12i      and %12i\" % (a, b))\n",
        "print('5 %i %i' % (a, b))\n",
        "print('6 %i %10i' % (a, b))\n",
        "print(\"7 it's a big number: %.33f\" % a)\n",
        "print('8 sssssss %.22d' % a)\n",
        "print('9 формат строки с 10-ю знакоместями: %44s' % c)\n",
        "print('10 этот человек который его зовут %s сидел в %d бургеркингов' % ('Ahmed', 9))"
      ],
      "metadata": {
        "colab": {
          "base_uri": "https://localhost:8080/"
        },
        "id": "8epbqrMoaJcY",
        "outputId": "3b9bc567-f42f-4a6e-d560-bac42c8a18fc"
      },
      "execution_count": null,
      "outputs": [
        {
          "output_type": "stream",
          "name": "stdout",
          "text": [
            "1 целое число: 78\n",
            "2 чисор с плавающей точкой: -34.270000\n",
            "3 несколько форматов в одной строке: 78 and -34.270000000\n",
            "4 целые числа с 8-ю знакоместами:           78      and          -34\n",
            "5 78 -34\n",
            "6 78        -34\n",
            "7 it's a big number: 78.989999999999994884092302527278662\n",
            "8 sssssss 0000000000000000000078\n",
            "9 формат строки с 10-ю знакоместями:                                   БургерКинг\n",
            "10 этот человек который его зовут Ahmed сидел в 9 бургеркингов\n"
          ]
        }
      ]
    },
    {
      "cell_type": "code",
      "source": [
        "firstName = input('Введите имя: ')\n",
        "lastName = input('Введите фамилию: ')\n",
        "\n",
        "fullName = firstName + ' ' + lastName\n",
        "\n",
        "print(fullName)"
      ],
      "metadata": {
        "colab": {
          "base_uri": "https://localhost:8080/"
        },
        "id": "VI-MUnL-am8P",
        "outputId": "ba79f2f5-358e-4b1a-cbe1-87d42a6c3895"
      },
      "execution_count": null,
      "outputs": [
        {
          "output_type": "stream",
          "name": "stdout",
          "text": [
            "Введите имя: Ahmed\n",
            "Введите фамилию: Fadilsa\n",
            "Ahmed Fadilsa\n"
          ]
        }
      ]
    },
    {
      "cell_type": "code",
      "source": [
        "q1 = input('How are the work? ')\n",
        "q2 = input('Where are u now? ')\n",
        "q3 = input('How much u need? ')\n",
        "\n",
        "# print(q1 + '\\n' + q2 + '\\n' + q3)\n",
        "\n",
        "all_answers = q1 + ' ' + q2 + ' ' + q3"
      ],
      "metadata": {
        "colab": {
          "base_uri": "https://localhost:8080/"
        },
        "id": "vVGGh8Fby8_T",
        "outputId": "00d6dece-3baa-4f9c-df42-70a55b6ceca2"
      },
      "execution_count": null,
      "outputs": [
        {
          "name": "stdout",
          "output_type": "stream",
          "text": [
            "How are the work? I'm fine\n",
            "Where are u now? At work\n",
            "How much u need? Two thousnd\n"
          ]
        }
      ]
    },
    {
      "cell_type": "code",
      "source": [
        "print(len(all_answers))"
      ],
      "metadata": {
        "colab": {
          "base_uri": "https://localhost:8080/"
        },
        "id": "9ndIOwkC1AMc",
        "outputId": "62297813-daea-4857-88b9-57285a366f38"
      },
      "execution_count": null,
      "outputs": [
        {
          "output_type": "stream",
          "name": "stdout",
          "text": [
            "28\n"
          ]
        }
      ]
    },
    {
      "cell_type": "code",
      "source": [
        "# theNumOfAllChars = len(all_answers)\n",
        "# print('all charecters of %s , %s and %d are ' % len(all_answers))"
      ],
      "metadata": {
        "id": "owUK3TK_3JUQ"
      },
      "execution_count": 1,
      "outputs": []
    },
    {
      "cell_type": "code",
      "source": [
        "firstName = input('type your first name: ')\n",
        "middleName = input('type your middle name: ')\n",
        "lastName = input('type your last name: ')\n",
        "\n",
        "print('your information to instegration: %s %s. %s.' % (lastName, firstName[0], middleName[0]))"
      ],
      "metadata": {
        "colab": {
          "base_uri": "https://localhost:8080/"
        },
        "id": "xKvtEPUilHJ5",
        "outputId": "e15f154a-9d9e-44f0-e021-9464f9edb2c3"
      },
      "execution_count": 2,
      "outputs": [
        {
          "output_type": "stream",
          "name": "stdout",
          "text": [
            "type your first name: Ahmed\n",
            "type your middle name: Fadil\n",
            "type your last name: Mahmood\n",
            "your information to instegration: Mahmood A. F.\n"
          ]
        }
      ]
    },
    {
      "cell_type": "code",
      "source": [
        "line = \"hi, i'm your assistant\"\n",
        "\n",
        "print(line[0:2])\n",
        "print(line[:])\n",
        "print(line[:-1])"
      ],
      "metadata": {
        "colab": {
          "base_uri": "https://localhost:8080/"
        },
        "id": "IQO-KynSopRa",
        "outputId": "f9a5fbd3-9900-4816-9368-c645d6613f7e"
      },
      "execution_count": 6,
      "outputs": [
        {
          "output_type": "stream",
          "name": "stdout",
          "text": [
            "hi\n",
            "hi, i'm your assistant\n",
            "hi, i'm your assistan\n"
          ]
        }
      ]
    },
    {
      "cell_type": "code",
      "source": [
        "text = 'HelloWorld  '\n",
        "print(text * 3)"
      ],
      "metadata": {
        "colab": {
          "base_uri": "https://localhost:8080/"
        },
        "id": "dioglnqcpnte",
        "outputId": "dd51a003-7cf1-40ab-dd4b-4d7461e1b2ce"
      },
      "execution_count": 11,
      "outputs": [
        {
          "output_type": "stream",
          "name": "stdout",
          "text": [
            "HelloWorld  HelloWorld  HelloWorld  \n"
          ]
        }
      ]
    }
  ]
}