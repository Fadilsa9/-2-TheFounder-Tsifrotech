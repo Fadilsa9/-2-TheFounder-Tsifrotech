{
  "cells": [
    {
      "cell_type": "markdown",
      "metadata": {
        "id": "ty7sEDzSgFu9"
      },
      "source": [
        "У пользователя запрашивается число, и в результате программа сообщает, является ли это число положительным четным, положительным нечетным, отрицательным или нулём."
      ]
    },
    {
      "cell_type": "code",
      "execution_count": null,
      "metadata": {
        "colab": {
          "base_uri": "https://localhost:8080/"
        },
        "id": "hZffUZEnhRni",
        "outputId": "e7a23e89-41d1-45c0-f822-424a636714cf"
      },
      "outputs": [
        {
          "name": "stdout",
          "output_type": "stream",
          "text": [
            "Введите число: 99\n",
            "Это нечетное положительное число\n"
          ]
        }
      ],
      "source": [
        "num = float(input(\"Введите число: \"))\n",
        "\n",
        "if num > 0:\n",
        "  # Определяем четное или не четное число\n",
        "  adjective = \" \"\n",
        "  if num % 2 == 0:\n",
        "    adjective = \"четное\"\n",
        "  else:\n",
        "    adjective = \"нечетное\"\n",
        "  res = \"Это \" + adjective + \" положительное число\"\n",
        "elif  num < 0:\n",
        "  res = \"Введено отрицательное число\"\n",
        "else:\n",
        "  res = \"Введен ноль\"\n",
        "\n",
        "print(res)"
      ]
    },
    {
      "cell_type": "markdown",
      "metadata": {
        "id": "RR108DeEp39F"
      },
      "source": [
        "Здесь ползователь будет вводить число, и получать сообщение, положительное или отрициательное число он ввел, до тех пор, пока не введет нель."
      ]
    },
    {
      "cell_type": "code",
      "execution_count": null,
      "metadata": {
        "colab": {
          "base_uri": "https://localhost:8080/"
        },
        "id": "FbErBTdAo-LS",
        "outputId": "50d7d509-45ad-43ee-cac7-cbe449d5f522"
      },
      "outputs": [
        {
          "name": "stdout",
          "output_type": "stream",
          "text": [
            "Inter a number (0 to exit) 99\n",
            "This is a positive number\n",
            "Inter a number (0 to exit) -99\n",
            "This is a negative number\n",
            "Inter a number (0 to exit) 0\n"
          ]
        }
      ],
      "source": [
        "num = int(input(\"Inter a number (0 to exit) \"))\n",
        "\n",
        "while num != 0:\n",
        "    if num > 0:\n",
        "        print(\"This is a positive number\")\n",
        "    else:\n",
        "        print(\"This is a negative number\")\n",
        "\n",
        "    num = int(input(\"Inter a number (0 to exit) \"))"
      ]
    },
    {
      "cell_type": "markdown",
      "metadata": {
        "id": "7a58hLJpfjOW"
      },
      "source": [
        "Используем цикл for совместно с функцией range для вывода на экран всех значений, кратных трем, от нуля и до введенного пользователем числа, включая его:"
      ]
    },
    {
      "cell_type": "code",
      "execution_count": null,
      "metadata": {
        "colab": {
          "base_uri": "https://localhost:8080/"
        },
        "id": "r_Zgac61fBlu",
        "outputId": "cc2d4334-8835-4f98-b04b-ece50aa74417"
      },
      "outputs": [
        {
          "name": "stdout",
          "output_type": "stream",
          "text": [
            "Введите целое число: 21\n",
            "Все числа, кратные трем до 21 :\n",
            "3\n",
            "6\n",
            "9\n",
            "12\n",
            "15\n",
            "18\n",
            "21\n"
          ]
        }
      ],
      "source": [
        "limit = int(input(\"Введите целое число: \"))\n",
        "print(\"Все числа, кратные трем до\", limit, \":\")\n",
        "\n",
        "for i in range(3, limit + 1, 3):\n",
        "    print(i)"
      ]
    },
    {
      "cell_type": "markdown",
      "metadata": {
        "id": "tfaUQIYozKJY"
      },
      "source": [
        "В следующем фрагменте кода цикл for вложен в тело цикла while для повторения фразы, введенной пользователем, определенное количество раз, пока им не будет введена пустая строка."
      ]
    },
    {
      "cell_type": "code",
      "execution_count": null,
      "metadata": {
        "colab": {
          "base_uri": "https://localhost:8080/"
        },
        "id": "7kJImf4YzBIa",
        "outputId": "379781d5-61a1-4cc5-ac39-53c8ac8e94d4"
      },
      "outputs": [
        {
          "name": "stdout",
          "output_type": "stream",
          "text": [
            "Введите сообщение, или оставьте его пустым для выхода: Baghdad\n",
            "Сколько раз повторить сообщение? нажмите 0 для выхода 3\n",
            "Baghdad\n",
            "Baghdad\n",
            "Baghdad\n",
            "Введите сообщение, или оставьте его пустым для выхода: Iraq\n",
            "Сколько раз повторить сообщение? нажмите 0 для выхода 0\n"
          ]
        }
      ],
      "source": [
        "message = input(\"Введите сообщение, или оставьте его пустым для выхода: \")\n",
        "\n",
        "while message != \"\":\n",
        "    nm = int(input(\"Сколько раз повторить сообщение? нажмите 0 для выхода \"))\n",
        "\n",
        "    if nm < 0:\n",
        "        print(\"Число повторений должно быть положительним\")\n",
        "        continue\n",
        "    elif nm == 0:\n",
        "        break\n",
        "\n",
        "    for i in range(nm):\n",
        "        print(message)\n",
        "\n",
        "    message = input(\"Введите сообщение, или оставьте его пустым для выхода: \")"
      ]
    },
    {
      "cell_type": "markdown",
      "metadata": {
        "id": "kBgXpcYr6tqT"
      },
      "source": [
        "В следующем фрагменте кода цикл for используется для суммирования элементов из списка:"
      ]
    },
    {
      "cell_type": "code",
      "execution_count": null,
      "metadata": {
        "colab": {
          "base_uri": "https://localhost:8080/"
        },
        "id": "wR404p196tJ0",
        "outputId": "6aea2741-8187-4066-8534-10422151c362"
      },
      "outputs": [
        {
          "name": "stdout",
          "output_type": "stream",
          "text": [
            "Сумма элиментов списка list_nums =  45\n"
          ]
        }
      ],
      "source": [
        "# Инициализируем переменные list_nums and sum\n",
        "list_nums = [1, 2, 3, 4, 5, 6, 7, 8, 9]\n",
        "sum = 0\n",
        "\n",
        "# Сумируем значения в списке\n",
        "for value in list_nums:\n",
        "    sum = sum + value\n",
        "\n",
        "print(\"Сумма элиментов списка list_nums = \", sum)"
      ]
    },
    {
      "cell_type": "markdown",
      "metadata": {
        "id": "CNadF_JdM4EH"
      },
      "source": [
        " Нужно определить позицию элемента списка с наибольшим значением, для этого нам необходимо сделать перебор по индексам, пропустив нулевой индекс:"
      ]
    },
    {
      "cell_type": "code",
      "execution_count": null,
      "metadata": {
        "colab": {
          "base_uri": "https://localhost:8080/"
        },
        "id": "1cjh-4K1Muog",
        "outputId": "ac4a11ba-efd6-419c-ee9a-d6345be184c7"
      },
      "outputs": [
        {
          "name": "stdout",
          "output_type": "stream",
          "text": [
            "The largest position is 3 in the index 2\n"
          ]
        }
      ],
      "source": [
        "# Инициализируем переменные data и largest_pos\n",
        "data = [2, 1, 3, 1.5]\n",
        "largest_pos = 0\n",
        "\n",
        "for i in range(1, len(data)):\n",
        "    if data[i] > data[largest_pos]:\n",
        "        largest_pos = i\n",
        "\n",
        "print('The largest position is', data[largest_pos], 'in the index', largest_pos)"
      ]
    },
    {
      "cell_type": "markdown",
      "metadata": {
        "id": "bN3_OOhBZCbY"
      },
      "source": [
        "Поиск наименьшего значения"
      ]
    },
    {
      "cell_type": "code",
      "execution_count": null,
      "metadata": {
        "colab": {
          "base_uri": "https://localhost:8080/"
        },
        "id": "5fWJPH_eZCHE",
        "outputId": "3e8b9285-fb79-4809-90d6-7a0a6d13acda"
      },
      "outputs": [
        {
          "name": "stdout",
          "output_type": "stream",
          "text": [
            "The smallest position is 2.18 at the index 2\n"
          ]
        }
      ],
      "source": [
        "# Инициализируем переменные data и smallest_pos\n",
        "\n",
        "data = [5.67, 4.32, 2.18, 3.99]\n",
        "smallest_pos = 0\n",
        "\n",
        "for i in range(1, len(data)):\n",
        "    if data[i] < data[smallest_pos]:\n",
        "        smallest_pos = i\n",
        "\n",
        "print('The smallest position is', data[smallest_pos], 'at the index', smallest_pos)"
      ]
    },
    {
      "cell_type": "markdown",
      "metadata": {
        "id": "9iNDePLycLAW"
      },
      "source": [
        "Поиск максимальной длины стракой"
      ]
    },
    {
      "cell_type": "code",
      "execution_count": null,
      "metadata": {
        "colab": {
          "base_uri": "https://localhost:8080/"
        },
        "id": "84GFP9z6cXt3",
        "outputId": "cc270916-2aac-41dc-c369-fd05e6f8b027"
      },
      "outputs": [
        {
          "name": "stdout",
          "output_type": "stream",
          "text": [
            "The maximum lingth of line is 10 at the index 3\n"
          ]
        }
      ],
      "source": [
        "# Инициализируем переменные data и longest_pos\n",
        "data = [\"apple\", \"banana\", \"kiwi\", \"strawberry\"]\n",
        "longest_pos = 0\n",
        "\n",
        "for i in range(1, len(data)):\n",
        "    if len(data[i]) > len(data[largest_pos]):\n",
        "        longest_pos = i\n",
        "\n",
        "print('The maximum length of line is', len(data[longest_pos]), 'at the index', longest_pos)"
      ]
    },
    {
      "cell_type": "markdown",
      "metadata": {
        "id": "ZP4qwJ5nd1DA"
      },
      "source": [
        "Поиск наибольшего числа в списке целых чисел"
      ]
    },
    {
      "cell_type": "code",
      "execution_count": null,
      "metadata": {
        "colab": {
          "base_uri": "https://localhost:8080/"
        },
        "id": "TEuUyxaKd1-5",
        "outputId": "adf3e003-93e0-4a62-ef5d-65b9322f1ef2"
      },
      "outputs": [
        {
          "name": "stdout",
          "output_type": "stream",
          "text": [
            "The largest number in the list is 30 at the index 3\n"
          ]
        }
      ],
      "source": [
        "# Инициализируем переменные data и largest_pos\n",
        "data = [10, 20, 5, 30]\n",
        "largest_pos = 0\n",
        "\n",
        "for i in range(1, len(data)):\n",
        "    if data[i] > data[largest_pos]:\n",
        "        largest_pos = i\n",
        "\n",
        "print('The largest number in the list is', data[largest_pos], 'at the index', largest_pos)"
      ]
    },
    {
      "cell_type": "markdown",
      "metadata": {
        "id": "GNxkmID4odrG"
      },
      "source": [
        "Let's make the same, using while"
      ]
    },
    {
      "cell_type": "code",
      "execution_count": null,
      "metadata": {
        "colab": {
          "base_uri": "https://localhost:8080/"
        },
        "id": "Esa7Q9BqiGY9",
        "outputId": "34584051-024f-4339-b230-1525c963316c"
      },
      "outputs": [
        {
          "name": "stdout",
          "output_type": "stream",
          "text": [
            "The largest value is 3.14 at the index 2\n"
          ]
        }
      ],
      "source": [
        "# Инициализируем переменные data и largest_pos\n",
        "data = [1.62, 1.41, 3.14, 2.71]\n",
        "largest_pos = 0\n",
        "i = 1\n",
        "\n",
        "# Находим позицию элемента с наибольшим значением\n",
        "while i < len(data):\n",
        "    if data[i] > data[largest_pos]:\n",
        "        largest_pos = i\n",
        "    i = i + 1\n",
        "\n",
        "print('The largest value is', data[largest_pos], 'at the index', largest_pos)"
      ]
    },
    {
      "cell_type": "markdown",
      "metadata": {
        "id": "974XEKUax2c3"
      },
      "source": [
        "Some tasks using dictionaries"
      ]
    },
    {
      "cell_type": "code",
      "execution_count": null,
      "metadata": {
        "colab": {
          "base_uri": "https://localhost:8080/"
        },
        "id": "9AmF7NkJyMgV",
        "outputId": "644515ce-841e-48a1-ea6c-de97b87230fd"
      },
      "outputs": [
        {
          "name": "stdout",
          "output_type": "stream",
          "text": [
            "The total of mix values = 11\n"
          ]
        }
      ],
      "source": [
        "mix = {\"fly\": 5, \"cutlet\": 6}\n",
        "total = 0\n",
        "\n",
        "for x in mix.values():\n",
        "    total = total + x\n",
        "\n",
        "print(\"The total of mix values =\", total)"
      ]
    },
    {
      "cell_type": "code",
      "execution_count": null,
      "metadata": {
        "colab": {
          "base_uri": "https://localhost:8080/"
        },
        "id": "KMhdJMw06tRV",
        "outputId": "2719a0bd-41f0-48b9-e149-600287595d35"
      },
      "outputs": [
        {
          "name": "stdout",
          "output_type": "stream",
          "text": [
            "['red', 'apple', 'carrot']\n",
            "['color', 'fruit', 'vegetable']\n",
            "['red', 'blue', 'green', 'orange']\n"
          ]
        }
      ],
      "source": [
        "# Сортировка словаря на основе функции len\n",
        "l1 = {'carrot': 'vegetable', 'red': 'color', 'apple': 'fruit'}\n",
        "\n",
        "print(sorted(l1, key=len))\n",
        "print(sorted(l1.values(), key=len))\n",
        "\n",
        "l1 = ['blue', 'green', 'red', 'orange']\n",
        "print(sorted(l1, key=len))"
      ]
    },
    {
      "cell_type": "code",
      "execution_count": null,
      "metadata": {
        "colab": {
          "base_uri": "https://localhost:8080/"
        },
        "id": "-1-hO9JZ9ObZ",
        "outputId": "7013bccf-d7d8-4d73-f1c1-7da57a68dd7f"
      },
      "outputs": [
        {
          "name": "stdout",
          "output_type": "stream",
          "text": [
            "Inter your age (or a space to exit): 2\n",
            "Inter your age (or a space to exit): 12\n",
            "Inter your age (or a space to exit): 64\n",
            "Inter your age (or a space to exit): 99\n",
            "Inter your age (or a space to exit): \n",
            "550.0\n"
          ]
        }
      ],
      "source": [
        "BABY_PRICE = 0.00\n",
        "CHILD_PEICE = 140\n",
        "ADULT_PRICE = 230\n",
        "SENIOR_PRICE = 180\n",
        "\n",
        "BABY_LIMIT = 2\n",
        "CHILD_LIMIT = 12\n",
        "ADULT_LIMIT = 64\n",
        "\n",
        "total = 0\n",
        "\n",
        "line = input('Inter your age (or a space to exit): ')\n",
        "\n",
        "while line != \"\":\n",
        "    age = int(line)\n",
        "\n",
        "    if age <= BABY_LIMIT:\n",
        "      total = total + BABY_PRICE\n",
        "    elif age <= CHILD_LIMIT:\n",
        "      total = total + CHILD_PEICE\n",
        "    elif age <= ADULT_LIMIT:\n",
        "      total = total + ADULT_PRICE\n",
        "    else:\n",
        "      total = total + SENIOR_PRICE\n",
        "\n",
        "    line = input('Inter your age (or a space to exit): ')\n",
        "\n",
        "print(total)"
      ]
    },
    {
      "cell_type": "markdown",
      "metadata": {
        "id": "NOGq93YXyROh"
      },
      "source": [
        " Билеты в зоопарк"
      ]
    },
    {
      "cell_type": "code",
      "execution_count": null,
      "metadata": {
        "colab": {
          "base_uri": "https://localhost:8080/"
        },
        "id": "1PBPl1pJyUPY",
        "outputId": "9db2bbe8-26f5-4f48-ddb3-e8690b5fec9d"
      },
      "outputs": [
        {
          "name": "stdout",
          "output_type": "stream",
          "text": [
            "Введите возраст посетителя (или пустая строка для оканчания ввода): 2\n",
            "Введите возраст посетителя (или пустая строка для оканчания ввода): 12\n",
            "Введите возраст посетителя (или пустая строка для оканчания ввода): 64\n",
            "Введите возраст посетителя (или пустая строка для оканчания ввода): 99\n",
            "Введите возраст посетителя (или пустая строка для оканчания ввода): \n",
            "The total price of visitors:  550.0 ₽\n",
            "The total price for this group of visitors is 550.00 rubles\n"
          ]
        }
      ],
      "source": [
        "BABY_PRICE = 0.00\n",
        "CHILD_PEICE = 140\n",
        "ADULT_PRICE = 230\n",
        "SENIOR_PRICE = 180\n",
        "\n",
        "BABY_LIMIT = 2\n",
        "CHILD_LIMIT = 12\n",
        "ADULT_LIMIT = 64\n",
        "\n",
        "total = 0\n",
        "\n",
        "age_line = input(\"Введите возраст посетителя (или пустая строка для оканчания ввода): \")\n",
        "while age_line != \"\":\n",
        "    age = int(age_line)\n",
        "\n",
        "    if age <= BABY_LIMIT:\n",
        "      total = total + BABY_PRICE\n",
        "    elif age <= CHILD_LIMIT:\n",
        "      total = total + CHILD_PEICE\n",
        "    elif age <= ADULT_LIMIT:\n",
        "      total = total + ADULT_PRICE\n",
        "    else:\n",
        "      total = total + SENIOR_PRICE\n",
        "\n",
        "    age_line = input(\"Введите возраст посетителя (или пустая строка для оканчания ввода): \")\n",
        "\n",
        "print(\"The total price of visitors: \", total, \"₽\")\n",
        "print(\"The total price for this group of visitors is %.2f rubles\" % total)"
      ]
    },
    {
      "cell_type": "code",
      "execution_count": null,
      "metadata": {
        "colab": {
          "base_uri": "https://localhost:8080/"
        },
        "id": "Y6HPcoB1E-S4",
        "outputId": "a75f77fa-a60d-4ba3-cb84-1945101d85ed"
      },
      "outputs": [
        {
          "name": "stdout",
          "output_type": "stream",
          "text": [
            "Input ints nums (or 0 to exit): 9\n",
            "Input ints nums (or 0 to exit): 8\n",
            "Input ints nums (or 0 to exit): 7\n",
            "Input ints nums (or 0 to exit): 0\n",
            "7\n",
            "8\n",
            "9\n"
          ]
        }
      ],
      "source": [
        "## Порядок сортировки\n",
        "\n",
        "nums = []\n",
        "\n",
        "ints = int(input(\"Input ints nums (or 0 to exit): \"))\n",
        "\n",
        "while ints != 0:\n",
        "    nums.append(ints)\n",
        "    ints = int(input(\"Input ints nums (or 0 to exit): \"))\n",
        "\n",
        "nums.sort()\n",
        "\n",
        "for ints in nums:\n",
        "    print(ints)\n",
        "\n"
      ]
    },
    {
      "cell_type": "code",
      "execution_count": null,
      "metadata": {
        "colab": {
          "base_uri": "https://localhost:8080/"
        },
        "id": "ZJUB5NTFHQcQ",
        "outputId": "d8d7022a-32e4-4fb0-c962-434534d0d44d"
      },
      "outputs": [
        {
          "name": "stdout",
          "output_type": "stream",
          "text": [
            "[11, 17, 30, 43, 10, 2]\n"
          ]
        }
      ],
      "source": [
        "# Случайные лотерейные номера\n",
        "\n",
        "import random\n",
        "\n",
        "# Задаем диапазон\n",
        "n = 49  # Максимальное число\n",
        "k = 6   # Количество случайных чисел\n",
        "\n",
        "# Генерируем случайные числа без дубликатов\n",
        "random_numbers = random.sample(range(1, n + 1), k)\n",
        "\n",
        "print(random_numbers)\n"
      ]
    },
    {
      "cell_type": "markdown",
      "metadata": {
        "id": "6R_vbXN6SaAJ"
      },
      "source": [
        "random.sample()"
      ]
    },
    {
      "cell_type": "code",
      "execution_count": null,
      "metadata": {
        "colab": {
          "base_uri": "https://localhost:8080/"
        },
        "id": "EPZi8A5sPc8-",
        "outputId": "5d6fa46e-bdb1-48c1-8bc5-d0df990f899e"
      },
      "outputs": [
        {
          "name": "stdout",
          "output_type": "stream",
          "text": [
            "[1, 5, 4]\n"
          ]
        }
      ],
      "source": [
        "import random\n",
        "\n",
        "listt = [1, 2, 3, 4, 5]\n",
        "print(random.sample(listt, 3)) # []"
      ]
    },
    {
      "cell_type": "markdown",
      "metadata": {
        "id": "Wtf0UM8yS-8a"
      },
      "source": [
        "Выбор случайных элементов из строки"
      ]
    },
    {
      "cell_type": "code",
      "execution_count": null,
      "metadata": {
        "colab": {
          "base_uri": "https://localhost:8080/"
        },
        "id": "azQKtHbUS5JU",
        "outputId": "ea2c659a-0ab8-4fdf-c777-a2bf86d6f52f"
      },
      "outputs": [
        {
          "name": "stdout",
          "output_type": "stream",
          "text": [
            "['h', 'y', 'e', 'a', 'd', 'F', 'o', 'A', ' ']\n"
          ]
        }
      ],
      "source": [
        "my_string = \"Ahmed Fadil yoo\"\n",
        "\n",
        "some_elemnts = random.sample(my_string, 9) # []\n",
        "print(some_elemnts)"
      ]
    },
    {
      "cell_type": "code",
      "execution_count": null,
      "metadata": {
        "colab": {
          "base_uri": "https://localhost:8080/"
        },
        "id": "m29-XKIaTjIi",
        "outputId": "a6f7c74d-5bb2-41ae-b885-05e90eb7192a"
      },
      "outputs": [
        {
          "name": "stdout",
          "output_type": "stream",
          "text": [
            "[10, 20, 30]\n"
          ]
        },
        {
          "name": "stderr",
          "output_type": "stream",
          "text": [
            "<ipython-input-6-3bc90c3a0f49>:7: DeprecationWarning: Sampling from a set deprecated\n",
            "since Python 3.9 and will be removed in a subsequent version.\n",
            "  sample_nums = random.sample(my_set, 3)\n"
          ]
        }
      ],
      "source": [
        "# Выбор из множство\n",
        "\n",
        "import random\n",
        "\n",
        "my_set = {10, 20, 30, 40, 50}\n",
        "\n",
        "sample_nums = random.sample(my_set, 3)\n",
        "print(sample_nums)"
      ]
    },
    {
      "cell_type": "markdown",
      "metadata": {
        "id": "AgDoiWfGe7q-"
      },
      "source": [
        "random.randrange()"
      ]
    },
    {
      "cell_type": "code",
      "execution_count": null,
      "metadata": {
        "colab": {
          "base_uri": "https://localhost:8080/"
        },
        "id": "HuDv6jckfAcG",
        "outputId": "09c281fc-2405-49f2-edbf-612b0014d12e"
      },
      "outputs": [
        {
          "name": "stdout",
          "output_type": "stream",
          "text": [
            "25\n"
          ]
        }
      ],
      "source": [
        "import random\n",
        "\n",
        "random_nums = random.randrange(1, 27, 3)\n",
        "print(random_nums)"
      ]
    },
    {
      "cell_type": "code",
      "execution_count": null,
      "metadata": {
        "colab": {
          "base_uri": "https://localhost:8080/"
        },
        "id": "LXbytszljan2",
        "outputId": "2b25e03d-1d0f-4495-ad41-ad8716962919"
      },
      "outputs": [
        {
          "name": "stdout",
          "output_type": "stream",
          "text": [
            "Номера вашего билета:  7 12 14 16 37 42\n"
          ]
        }
      ],
      "source": [
        "# Решение\n",
        "#@title Решение\n",
        "##\n",
        "# Собираем уникальные случайные номера для лотерейного билета\n",
        "#\n",
        "from random import randrange\n",
        "MIN_NUM = 1\n",
        "MAX_NUM = 49\n",
        "NUM_NUMS = 6\n",
        "\n",
        "# Используем список для хранения номеров лотерейного билета\n",
        "ticket_nums = []\n",
        "\n",
        "# Генерируем NUM_NUMS случайных, но уникальных значений\n",
        "for i in range(NUM_NUMS):\n",
        "    # Генерируем номер, которого еще нет в списке\n",
        "    rand = randrange(MIN_NUM, MAX_NUM + 1)\n",
        "    while rand in ticket_nums:\n",
        "        # Будем перегенерировать число, пока оно есть в списке\n",
        "        rand = randrange(MIN_NUM, MAX_NUM + 1)\n",
        "    ticket_nums.append(rand)\n",
        "\n",
        "# Сортируем номера по возрастанию и отображаем их\n",
        "ticket_nums.sort()\n",
        "# print(\"Номера вашего билета: \", end=\"\")\n",
        "# for n in ticket_nums:\n",
        "#     print(n, end=\" \")\n",
        "# print()\n",
        "\n",
        "print(\"Номера вашего билета: \", *ticket_nums)"
      ]
    },
    {
      "cell_type": "code",
      "execution_count": null,
      "metadata": {
        "id": "rFeMq3uKn77C"
      },
      "outputs": [],
      "source": [
        "# Решение (более элегантное с применением множеств)\n",
        "\n",
        "# Собираем уникальные случайные номера для лотерейного билета\n",
        "from random import randrange\n",
        "MIN_NUM = 1\n",
        "MAX_NUM = 49\n",
        "NUM_NUMS = 6\n",
        "\n",
        "# Используем список для хранения номеров лотерейного билета\n",
        "ticket_nums = set()\n",
        "\n",
        "# Генерируем NUM_NUMS случайных, но уникальных значений\n",
        "while len(ticket_nums) < NUM_NUMS:\n",
        "    # Генерируем номер, которого еще нет в списке\n",
        "    ticket_nums.add(randrange(MIN_NUM, MAX_NUM + 1))\n",
        "\n",
        "# Сортируем номера по возрастанию и отображаем их\n",
        "ticket_nums = sorted(ticket_nums)\n",
        "\n",
        "print(\"Номера вашего билета: \", end=\"\")\n",
        "for n in ticket_nums:\n",
        "    print(n, end=\" \")\n"
      ]
    },
    {
      "cell_type": "code",
      "execution_count": null,
      "metadata": {
        "colab": {
          "base_uri": "https://localhost:8080/"
        },
        "id": "CzMoHOGj33Rt",
        "outputId": "55105e43-d8a6-4bab-fd47-5f015d015b15"
      },
      "outputs": [
        {
          "name": "stdout",
          "output_type": "stream",
          "text": [
            "Номера вашего билета: 6 9 13 19 25 42 "
          ]
        }
      ],
      "source": [
        "#@title Решение (более элегантное с применением множеств)\n",
        "##\n",
        "# Собираем уникальные случайные номера для лотерейного билета\n",
        "#\n",
        "from random import randrange\n",
        "MIN_NUM = 1\n",
        "MAX_NUM = 49\n",
        "NUM_NUMS = 6\n",
        "\n",
        "# Используем список для хранения номеров лотерейного билета\n",
        "ticket_nums = set()\n",
        "# Генерируем NUM_NUMS случайных, но уникальных значений\n",
        "while len(ticket_nums) < NUM_NUMS:\n",
        "    # Генерируем номер, которого еще нет в списке\n",
        "    ticket_nums.add(randrange(MIN_NUM, MAX_NUM + 1))\n",
        "\n",
        "# Сортируем номера по возрастанию и отображаем их\n",
        "ticket_nums = sorted(ticket_nums)\n",
        "\n",
        "print(\"Номера вашего билета: \", end=\"\")\n",
        "for n in ticket_nums:\n",
        "    print(n, end=\" \")"
      ]
    },
    {
      "cell_type": "code",
      "execution_count": null,
      "metadata": {
        "colab": {
          "base_uri": "https://localhost:8080/"
        },
        "id": "r-IRiqRS7WAS",
        "outputId": "3b7ad02d-7797-48a7-cf26-abb9aed002c4"
      },
      "outputs": [
        {
          "name": "stdout",
          "output_type": "stream",
          "text": [
            "Inter a string: Russian Federation \n",
            "Unique letters are  13\n"
          ]
        }
      ],
      "source": [
        "# Уникальные символы\n",
        "\n",
        "s = input(\"Inter a string: \")\n",
        "\n",
        "dic_s = {}\n",
        "\n",
        "for i in s:\n",
        "  dic_s[i] = True\n",
        "\n",
        "print(\"Unique letters are \", len(dic_s))"
      ]
    },
    {
      "cell_type": "code",
      "execution_count": null,
      "metadata": {
        "colab": {
          "base_uri": "https://localhost:8080/"
        },
        "id": "pI-7oQJBFcKV",
        "outputId": "05470705-7809-43d8-ebfa-aaec3a2ab117"
      },
      "outputs": [
        {
          "name": "stdout",
          "output_type": "stream",
          "text": [
            "Inter a string of letters, as a word: Hello\n",
            "4\n"
          ]
        }
      ],
      "source": [
        "s = input(\"Inter a string of letters, as a word: \")\n",
        "\n",
        "dic = {}\n",
        "\n",
        "for i in s:\n",
        "  dic[i] = True\n",
        "\n",
        "print(len(dic))"
      ]
    },
    {
      "cell_type": "code",
      "execution_count": null,
      "metadata": {
        "colab": {
          "base_uri": "https://localhost:8080/"
        },
        "id": "QvNhLl8Azei1",
        "outputId": "a92e56be-940d-47d4-cdd2-daa7f3774a47"
      },
      "outputs": [
        {
          "name": "stdout",
          "output_type": "stream",
          "text": [
            "999\n"
          ]
        }
      ],
      "source": [
        "if 3 < 5:\n",
        "  print(999)"
      ]
    },
    {
      "cell_type": "code",
      "execution_count": null,
      "metadata": {
        "id": "eTaSnpWl1hXu"
      },
      "outputs": [],
      "source": [
        "if not 3:\n",
        "  print(999)"
      ]
    },
    {
      "cell_type": "code",
      "execution_count": null,
      "metadata": {
        "colab": {
          "base_uri": "https://localhost:8080/"
        },
        "id": "IjJ0yQ8r0hME",
        "outputId": "040b1c05-3a61-4031-bba8-7a827c818134"
      },
      "outputs": [
        {
          "name": "stdout",
          "output_type": "stream",
          "text": [
            "999\n"
          ]
        }
      ],
      "source": [
        "s = False\n",
        "if not s:\n",
        "  print(999)"
      ]
    },
    {
      "cell_type": "code",
      "execution_count": null,
      "metadata": {
        "id": "oAqeaMBY1vpJ"
      },
      "outputs": [],
      "source": [
        "message = \"Hi there\"\n",
        "a = 0\n",
        "\n",
        "if a:\n",
        "  print(message)"
      ]
    },
    {
      "cell_type": "code",
      "execution_count": null,
      "metadata": {
        "colab": {
          "base_uri": "https://localhost:8080/"
        },
        "id": "3wQ92Zn22BSM",
        "outputId": "d247fba9-8113-4f2a-95ab-84a71ec31e6f"
      },
      "outputs": [
        {
          "name": "stdout",
          "output_type": "stream",
          "text": [
            "Hi there\n"
          ]
        }
      ],
      "source": [
        "b = -1\n",
        "if b:\n",
        "  print(message)"
      ]
    },
    {
      "cell_type": "code",
      "execution_count": null,
      "metadata": {
        "colab": {
          "base_uri": "https://localhost:8080/"
        },
        "id": "dLcZFo7q2SlH",
        "outputId": "eab183e6-dbea-4609-9824-38da7a336928"
      },
      "outputs": [
        {
          "name": "stdout",
          "output_type": "stream",
          "text": [
            "Hi there\n"
          ]
        }
      ],
      "source": [
        "x = 1\n",
        "if x:\n",
        "  print(message)"
      ]
    },
    {
      "cell_type": "code",
      "execution_count": null,
      "metadata": {
        "colab": {
          "base_uri": "https://localhost:8080/",
          "height": 35
        },
        "id": "1OvW5NMX4AMt",
        "outputId": "dc8b1b29-2d43-4c2b-8959-4c3f6b883220"
      },
      "outputs": [
        {
          "data": {
            "application/vnd.google.colaboratory.intrinsic+json": {
              "type": "string"
            },
            "text/plain": [
              "'AHMED'"
            ]
          },
          "execution_count": 9,
          "metadata": {},
          "output_type": "execute_result"
        }
      ],
      "source": [
        "def my_name(name):\n",
        "  if len(name) < 6:\n",
        "    return name.upper()\n",
        "  else:\n",
        "    return name.lower()\n",
        "\n",
        "name = \"Ahmed\"\n",
        "my_name(name)"
      ]
    },
    {
      "cell_type": "code",
      "execution_count": null,
      "metadata": {
        "colab": {
          "base_uri": "https://localhost:8080/"
        },
        "id": "0QMcCzRNA_pT",
        "outputId": "a00ec685-510f-40c1-db37-fb97f75f93c5"
      },
      "outputs": [
        {
          "name": "stdout",
          "output_type": "stream",
          "text": [
            "Greater than zero\n",
            "Alos greater than 9\n"
          ]
        }
      ],
      "source": [
        "def num_info(num):\n",
        "    if num > 0:\n",
        "        print(\"Greater than zero\")\n",
        "        if num > 9:\n",
        "            print(\"Alos greater than 9\")\n",
        "    num = 15\n",
        "\n",
        "num_info(num)\n",
        "\n",
        "# num = 15\n",
        "# num_info(15)"
      ]
    },
    {
      "cell_type": "code",
      "execution_count": null,
      "metadata": {
        "colab": {
          "base_uri": "https://localhost:8080/"
        },
        "id": "9JNPdvGNCZtu",
        "outputId": "fff89b3e-19c1-4306-f8c9-a3cd642884a7"
      },
      "outputs": [
        {
          "name": "stdout",
          "output_type": "stream",
          "text": [
            "True\n",
            "True\n",
            "False\n"
          ]
        }
      ],
      "source": [
        "a = True\n",
        "b = [1, 2, 3]\n",
        "\n",
        "\n",
        "if a and b:\n",
        "  print(True)\n",
        "\n",
        "\n",
        "if a is True:\n",
        "  print(True)\n",
        "\n",
        "\n",
        "if b is True:\n",
        "  print(True)\n",
        "else:\n",
        "  print(False) # False, because b does not contain the actual value of True"
      ]
    },
    {
      "cell_type": "code",
      "execution_count": null,
      "metadata": {
        "colab": {
          "base_uri": "https://localhost:8080/"
        },
        "id": "sZH6XwuqFH-2",
        "outputId": "719af63d-c51f-4545-d7a8-a478792249bc"
      },
      "outputs": [
        {
          "name": "stdout",
          "output_type": "stream",
          "text": [
            "Negative\n"
          ]
        }
      ],
      "source": [
        "n = -9\n",
        "\n",
        "x = \"Positive\" if n >= 0 else \"Negative\"\n",
        "print(x)"
      ]
    },
    {
      "cell_type": "code",
      "execution_count": null,
      "metadata": {
        "colab": {
          "base_uri": "https://localhost:8080/"
        },
        "id": "219YOX3TP6VK",
        "outputId": "c5521e99-7bd5-4691-cd1b-1cc7847e0cf5"
      },
      "outputs": [
        {
          "name": "stdout",
          "output_type": "stream",
          "text": [
            "There is an abject\n"
          ]
        }
      ],
      "source": [
        "if n:\n",
        "  print(\"There is an abject\")"
      ]
    },
    {
      "cell_type": "code",
      "execution_count": null,
      "metadata": {
        "colab": {
          "base_uri": "https://localhost:8080/"
        },
        "id": "u9YcWdlvFeqk",
        "outputId": "a54afff7-e0d0-41c4-af1e-e9f405c0b51d"
      },
      "outputs": [
        {
          "name": "stdout",
          "output_type": "stream",
          "text": [
            "We take this professional programmer\n"
          ]
        }
      ],
      "source": [
        "age = 27\n",
        "experience = 6\n",
        "\n",
        "if age >= 20 and experience >= 5:\n",
        "  print(\"We take this professional programmer\")\n",
        "else:\n",
        "  print(\"We don't take this programmer\")"
      ]
    },
    {
      "cell_type": "code",
      "execution_count": null,
      "metadata": {
        "colab": {
          "base_uri": "https://localhost:8080/"
        },
        "id": "QC4ezbQuKJFL",
        "outputId": "3ff9cf32-a476-4412-8483-356efa0e19c8"
      },
      "outputs": [
        {
          "name": "stdout",
          "output_type": "stream",
          "text": [
            "Hiiiiiiiiiiii\n"
          ]
        }
      ],
      "source": [
        "if 30 <= age >= 27:\n",
        "    print(\"Hello\")\n",
        "else:\n",
        "    print(\"Hiiiiiiiiiiii\")"
      ]
    },
    {
      "cell_type": "code",
      "execution_count": null,
      "metadata": {
        "colab": {
          "base_uri": "https://localhost:8080/"
        },
        "id": "j1x5v-nsL_em",
        "outputId": "a0687046-f2f0-49fb-d75c-689441952e5c"
      },
      "outputs": [
        {
          "name": "stdout",
          "output_type": "stream",
          "text": [
            "30\n",
            "x is greater than 27\n"
          ]
        }
      ],
      "source": [
        "x = int(input())\n",
        "\n",
        "if x >= 27:\n",
        "  if x > 27:\n",
        "    print(\"x is greater than 27\")\n",
        "  else:\n",
        "    print(\"x is equal to 27\")\n",
        "else:\n",
        "  print(\"x is less than 27\")"
      ]
    },
    {
      "cell_type": "code",
      "execution_count": null,
      "metadata": {
        "colab": {
          "base_uri": "https://localhost:8080/"
        },
        "id": "BP5h4iKyOqkh",
        "outputId": "003c6a10-a63d-4ec6-ec17-1a7582757a1a"
      },
      "outputs": [
        {
          "name": "stdout",
          "output_type": "stream",
          "text": [
            "5\n",
            "6\n",
            "Первая четверть\n"
          ]
        }
      ],
      "source": [
        "# Код определяющий четверть координатной плоскости\n",
        "\n",
        "x = int(input())\n",
        "y = int(input())\n",
        "if x > 0 and y > 0:\n",
        "    print(\"Первая четверть\")\n",
        "elif x > 0 and y < 0:\n",
        "    print(\"Четвертая четверть\")\n",
        "elif y > 0:\n",
        "    print(\"Вторая четверть\")\n",
        "else:\n",
        "    print(\"Третья четверть\")"
      ]
    },
    {
      "cell_type": "code",
      "execution_count": null,
      "metadata": {
        "colab": {
          "base_uri": "https://localhost:8080/"
        },
        "id": "54aW2gPgQpwr",
        "outputId": "37105945-f4e3-49cb-e415-dae9c6b87ac3"
      },
      "outputs": [
        {
          "data": {
            "text/plain": [
              "True"
            ]
          },
          "execution_count": 38,
          "metadata": {},
          "output_type": "execute_result"
        }
      ],
      "source": [
        "alist = [1, 2, 3, 4, 5]\n",
        "\n",
        "True if len(alist) > 4 else False"
      ]
    },
    {
      "cell_type": "code",
      "execution_count": null,
      "metadata": {
        "colab": {
          "base_uri": "https://localhost:8080/"
        },
        "id": "ugrN6ugxRtJ6",
        "outputId": "ca82be32-3c0b-4e57-c3d9-c8967a404423"
      },
      "outputs": [
        {
          "name": "stdout",
          "output_type": "stream",
          "text": [
            "27\n",
            "Вы не угадали\n"
          ]
        }
      ],
      "source": [
        "# Угадайка\n",
        "\n",
        "x = 9\n",
        "y = int(input())\n",
        "\n",
        "if x == y:\n",
        "  print(\"Вы угадали\")\n",
        "else:\n",
        "  print(\"Вы не угадали\")"
      ]
    },
    {
      "cell_type": "code",
      "execution_count": null,
      "metadata": {
        "colab": {
          "base_uri": "https://localhost:8080/"
        },
        "id": "VVOFwKc3SgKK",
        "outputId": "a7ddae82-3793-457b-ef1c-9f788452844a"
      },
      "outputs": [
        {
          "name": "stdout",
          "output_type": "stream",
          "text": [
            "B\n"
          ]
        }
      ],
      "source": [
        "a = 9\n",
        "b = 10\n",
        "\n",
        "print(\"A\") if a > b else print(\"=\") if a == b else print(\"B\")"
      ]
    },
    {
      "cell_type": "code",
      "execution_count": null,
      "metadata": {
        "id": "rnxspp8ITo9d"
      },
      "outputs": [],
      "source": [
        "if a > b:\n",
        "  pass"
      ]
    },
    {
      "cell_type": "code",
      "execution_count": null,
      "metadata": {
        "colab": {
          "base_uri": "https://localhost:8080/"
        },
        "id": "BpJ6RlO5ULyi",
        "outputId": "50042029-09de-4fdb-d749-f6d19a67c291"
      },
      "outputs": [
        {
          "name": "stdout",
          "output_type": "stream",
          "text": [
            "65\n"
          ]
        }
      ],
      "source": [
        "print(ord(\"A\"))"
      ]
    },
    {
      "cell_type": "code",
      "execution_count": null,
      "metadata": {
        "colab": {
          "base_uri": "https://localhost:8080/"
        },
        "id": "dJiNtGctUbLG",
        "outputId": "af46c464-00bd-481c-f422-4e13dfff29d8"
      },
      "outputs": [
        {
          "name": "stdout",
          "output_type": "stream",
          "text": [
            "A\n"
          ]
        }
      ],
      "source": [
        "print(chr(65))"
      ]
    },
    {
      "cell_type": "code",
      "execution_count": null,
      "metadata": {
        "colab": {
          "base_uri": "https://localhost:8080/"
        },
        "id": "zWPdinG0VLk8",
        "outputId": "e58ffd65-0f1f-4f32-ee40-81cc546f508b"
      },
      "outputs": [
        {
          "name": "stdout",
          "output_type": "stream",
          "text": [
            "Yellow\n",
            "Another color\n"
          ]
        }
      ],
      "source": [
        "color = input()\n",
        "\n",
        "match color:\n",
        "    case \"red\" | \"green\":\n",
        "      print(1)\n",
        "    case \"white\" | \"black\":\n",
        "      print(2)\n",
        "    case _:\n",
        "      print(\"Another color\")"
      ]
    },
    {
      "cell_type": "code",
      "execution_count": null,
      "metadata": {
        "colab": {
          "base_uri": "https://localhost:8080/"
        },
        "id": "VzHzuKqCXkPz",
        "outputId": "d4abb0e0-484c-47dc-e35a-169465a49c5b"
      },
      "outputs": [
        {
          "name": "stdout",
          "output_type": "stream",
          "text": [
            "3\n",
            "1\n",
            "3\n",
            "1\n"
          ]
        }
      ],
      "source": [
        "a = 1\n",
        "b = 2\n",
        "c = 3\n",
        "\n",
        "print(max(a, b, c))\n",
        "print(min(a, b, c))\n",
        "print(max(1, 2, 3))\n",
        "print(min(1, 2, 3))"
      ]
    },
    {
      "cell_type": "code",
      "execution_count": null,
      "metadata": {
        "colab": {
          "base_uri": "https://localhost:8080/"
        },
        "id": "JjO_Sjlrhe3_",
        "outputId": "5f831e55-2e87-42c9-ebe3-1dd6a14075eb"
      },
      "outputs": [
        {
          "name": "stdout",
          "output_type": "stream",
          "text": [
            "Inter your passowrd: abcdef\n",
            "You entered a wrong passowrd\n",
            "Inter your passowrd: right passowrd\n",
            "The passowrd is correct, login is allowed\n"
          ]
        }
      ],
      "source": [
        "# RIGHT AND WRONG PASSOWRDS\n",
        "\n",
        "saved_pwd = \"right passowrd\"\n",
        "pwd = input(\"Inter your passowrd: \")\n",
        "\n",
        "while pwd != saved_pwd:\n",
        "    print(\"You entered a wrong passowrd\")\n",
        "    pwd = input(\"Inter your passowrd: \")\n",
        "\n",
        "print(\"The passowrd is correct, login is allowed\")"
      ]
    },
    {
      "cell_type": "code",
      "execution_count": null,
      "metadata": {
        "colab": {
          "base_uri": "https://localhost:8080/"
        },
        "id": "Y8tqbjeAjQyh",
        "outputId": "b4140bc6-10f7-4753-ac3c-ba3c11e644b7"
      },
      "outputs": [
        {
          "name": "stdout",
          "output_type": "stream",
          "text": [
            "inter your passowrd: abcdef\n",
            "inter your passowrd: 12345\n",
            "inter your passowrd: right passowrd\n",
            "The passowrd is corredt, login is allowed\n"
          ]
        }
      ],
      "source": [
        "saved_passowrd = \"right passowrd\"\n",
        "\n",
        "while input(\"inter your passowrd: \") != saved_passowrd:\n",
        "    pass\n",
        "\n",
        "print(\"The passowrd is corredt, login is allowed\")"
      ]
    },
    {
      "cell_type": "code",
      "execution_count": null,
      "metadata": {
        "colab": {
          "base_uri": "https://localhost:8080/"
        },
        "id": "IfORPeU4lWar",
        "outputId": "e6f33630-3e3b-47ed-cc74-100222ee7681"
      },
      "outputs": [
        {
          "name": "stdout",
          "output_type": "stream",
          "text": [
            "Ahmed\n",
            "Hi Ahmed\n",
            "Fadil\n",
            "Hi Fadil\n",
            "Finish\n",
            "Good bye\n"
          ]
        }
      ],
      "source": [
        "name = input()\n",
        "\n",
        "while name != \"Finish\":\n",
        "  print(\"Hi\", name)\n",
        "  name = input()\n",
        "\n",
        "print(\"Good bye\")"
      ]
    },
    {
      "cell_type": "code",
      "execution_count": null,
      "metadata": {
        "colab": {
          "base_uri": "https://localhost:8080/"
        },
        "id": "5gXp0nxTmhxS",
        "outputId": "4cb9d455-445e-4984-8dfa-5b5ae72df856"
      },
      "outputs": [
        {
          "name": "stdout",
          "output_type": "stream",
          "text": [
            "Inter a name: ahmed\n",
            "Hi ahmed\n",
            "Inter a name: fadilsa\n",
            "Hi fadilsa\n",
            "Inter a name: stop\n",
            "bye\n"
          ]
        }
      ],
      "source": [
        "while (name := input(\"Inter a name: \")) != \"stop\":\n",
        "  print(\"Hi\", name)\n",
        "\n",
        "print(\"bye\")"
      ]
    },
    {
      "cell_type": "code",
      "execution_count": null,
      "metadata": {
        "colab": {
          "base_uri": "https://localhost:8080/"
        },
        "id": "WltQw-xT3snh",
        "outputId": "09636071-336f-4c05-fd77-6f1b500debf3"
      },
      "outputs": [
        {
          "name": "stdout",
          "output_type": "stream",
          "text": [
            "Inter a number: 9\n",
            "0\n",
            "1\n",
            "2\n",
            "3\n",
            "4\n",
            "5\n",
            "6\n",
            "7\n",
            "8\n"
          ]
        }
      ],
      "source": [
        "n = int(input(\"Inter a number: \"))\n",
        "for i in range(n):\n",
        "  print(i)"
      ]
    },
    {
      "cell_type": "code",
      "execution_count": null,
      "metadata": {
        "colab": {
          "base_uri": "https://localhost:8080/"
        },
        "id": "RmCODjc94clC",
        "outputId": "3a29c630-ee76-447d-8fbc-de0a8cce2db8"
      },
      "outputs": [
        {
          "name": "stdout",
          "output_type": "stream",
          "text": [
            "inter the start of the range: 2\n",
            "inter the end of the range: 9\n",
            "2\n",
            "3\n",
            "4\n",
            "5\n",
            "6\n",
            "7\n",
            "8\n",
            "9\n"
          ]
        }
      ],
      "source": [
        "x = int(input(\"inter the start of the range: \"))\n",
        "y = int(input(\"inter the end of the range: \"))\n",
        "\n",
        "for i in range(x, y + 1):\n",
        "    print(i)"
      ]
    },
    {
      "cell_type": "code",
      "execution_count": null,
      "metadata": {
        "colab": {
          "base_uri": "https://localhost:8080/"
        },
        "id": "eTt7-91Y5gJt",
        "outputId": "e41edeed-bb3b-4c0c-8c67-31a0adda95fc"
      },
      "outputs": [
        {
          "name": "stdout",
          "output_type": "stream",
          "text": [
            "2\n",
            "5\n",
            "8\n"
          ]
        }
      ],
      "source": [
        "for i in range(x, y, 3):\n",
        "  print(i)"
      ]
    },
    {
      "cell_type": "code",
      "execution_count": null,
      "metadata": {
        "colab": {
          "base_uri": "https://localhost:8080/"
        },
        "id": "a0noeoiX5wsd",
        "outputId": "3eeaea20-889b-4732-8901-bdfa84678944"
      },
      "outputs": [
        {
          "name": "stdout",
          "output_type": "stream",
          "text": [
            "inter a number: 9\n",
            "9\n",
            "8\n",
            "7\n",
            "6\n",
            "5\n",
            "4\n",
            "3\n",
            "2\n",
            "1\n",
            "0\n"
          ]
        }
      ],
      "source": [
        "w = int(input(\"inter a number: \"))\n",
        "for i in range(w, -1, -1):\n",
        "  print(i)"
      ]
    },
    {
      "cell_type": "code",
      "execution_count": null,
      "metadata": {
        "colab": {
          "base_uri": "https://localhost:8080/"
        },
        "id": "GOrNrgiX8joI",
        "outputId": "f360c739-2868-41b1-b6bb-72878cd0f358"
      },
      "outputs": [
        {
          "name": "stdout",
          "output_type": "stream",
          "text": [
            "10\n",
            "9\n",
            "8\n",
            "7\n",
            "6\n",
            "5\n",
            "4\n",
            "3\n",
            "2\n"
          ]
        }
      ],
      "source": [
        "# r = int(input(\"Inter a num: \"))\n",
        "for i in range(10, 1, -1):\n",
        "  print(i)"
      ]
    },
    {
      "cell_type": "code",
      "execution_count": null,
      "metadata": {
        "colab": {
          "base_uri": "https://localhost:8080/"
        },
        "id": "BdAzJyLL-GmM",
        "outputId": "63f79887-3e9c-480a-c692-a41e1440e156"
      },
      "outputs": [
        {
          "name": "stdout",
          "output_type": "stream",
          "text": [
            "1-th color of rainbow is red\n",
            "2-th color of rainbow is orange\n",
            "3-th color of rainbow is yellow\n",
            "4-th color of rainbow is green\n",
            "5-th color of rainbow is cyan\n",
            "6-th color of rainbow is blue\n",
            "7-th color of rainbow is violet\n"
          ]
        }
      ],
      "source": [
        "i = 1\n",
        "for color in 'red', 'orange', 'yellow', 'green', 'cyan', 'blue', 'violet':\n",
        "    print(i,'-th color of rainbow is ', color, sep = '')\n",
        "    i += 1"
      ]
    },
    {
      "cell_type": "code",
      "execution_count": null,
      "metadata": {
        "colab": {
          "base_uri": "https://localhost:8080/"
        },
        "id": "888-FMY0-ZFh",
        "outputId": "6aa58acc-d843-4e81-c7d1-8d709cfbcead"
      },
      "outputs": [
        {
          "name": "stdout",
          "output_type": "stream",
          "text": [
            "0 aa\n",
            "1 bb\n",
            "2 cc\n",
            "3 dd\n",
            "4 ee\n"
          ]
        }
      ],
      "source": [
        "n = 0\n",
        "l = ['aa', 'bb', 'cc', 'dd', 'ee']\n",
        "\n",
        "for letters in l:\n",
        "    print(n, letters)\n",
        "    n += 1"
      ]
    },
    {
      "cell_type": "code",
      "execution_count": null,
      "metadata": {
        "colab": {
          "base_uri": "https://localhost:8080/"
        },
        "id": "Syz7dQs--_p3",
        "outputId": "c919f309-afec-4e5c-889a-1d692bbd6257"
      },
      "outputs": [
        {
          "name": "stdout",
          "output_type": "stream",
          "text": [
            "10 =========*=*=*=*=*=*=*=*=*=========> one\n",
            "20 =========*=*=*=*=*=*=*=*=*=========> two\n",
            "30 =========*=*=*=*=*=*=*=*=*=========> three\n",
            "40 =========*=*=*=*=*=*=*=*=*=========> four\n",
            "50 =========*=*=*=*=*=*=*=*=*=========> five\n"
          ]
        }
      ],
      "source": [
        "nums = 10\n",
        "for i in 'one', 'two', 'three', 'four', 'five':\n",
        "    print(f\"{nums} =========*=*=*=*=*=*=*=*=*=========> {i}\")\n",
        "    nums += 10"
      ]
    },
    {
      "cell_type": "code",
      "execution_count": null,
      "metadata": {
        "colab": {
          "base_uri": "https://localhost:8080/"
        },
        "id": "rekTaRWaBSNL",
        "outputId": "f9c87938-3fab-4887-ff91-f4f89c7add71"
      },
      "outputs": [
        {
          "name": "stdout",
          "output_type": "stream",
          "text": [
            "Python is the most using language in DATA SCIENCE\n",
            "Python is the most using language in DATA SCIENCE\n",
            "Python is the most using language in DATA SCIENCE\n",
            "Python is the most using language in DATA SCIENCE\n",
            "Python is the most using language in DATA SCIENCE\n",
            "Python is the most using language in DATA SCIENCE\n",
            "Python is the most using language in DATA SCIENCE\n",
            "Python is the most using language in DATA SCIENCE\n",
            "Python is the most using language in DATA SCIENCE\n"
          ]
        }
      ],
      "source": [
        "for i in range(9):\n",
        "    print(\"Python is the most using language in DATA SCIENCE\")"
      ]
    },
    {
      "cell_type": "code",
      "execution_count": null,
      "metadata": {
        "colab": {
          "base_uri": "https://localhost:8080/"
        },
        "id": "21hjzOPuCD0e",
        "outputId": "e24a835d-2d7e-47e5-9484-416ecd55c6d4"
      },
      "outputs": [
        {
          "name": "stdout",
          "output_type": "stream",
          "text": [
            "P y t h o n   i s   t h e   m o s t   u s i n g   l a n g u a g e   i n   D A T A   S C I E N C E "
          ]
        }
      ],
      "source": [
        "for i in \"Python is the most using language in DATA SCIENCE\":\n",
        "    print(i, end=\" \")"
      ]
    },
    {
      "cell_type": "code",
      "execution_count": null,
      "metadata": {
        "colab": {
          "base_uri": "https://localhost:8080/"
        },
        "id": "b9CD1UsJCpWL",
        "outputId": "a264f14f-68f2-4b7e-d79e-29bd2b8f9939"
      },
      "outputs": [
        {
          "name": "stdout",
          "output_type": "stream",
          "text": [
            "\n",
            "\n",
            "1 =========>>> a\n",
            "1 =========>>> b\n",
            "1 =========>>> c\n",
            "1 =========>>> d\n",
            "1 =========>>> e\n",
            "\n",
            "\n",
            "2 =========>>> a\n",
            "2 =========>>> b\n",
            "2 =========>>> c\n",
            "2 =========>>> d\n",
            "2 =========>>> e\n",
            "\n",
            "\n",
            "3 =========>>> a\n",
            "3 =========>>> b\n",
            "3 =========>>> c\n",
            "3 =========>>> d\n",
            "3 =========>>> e\n",
            "\n",
            "\n",
            "4 =========>>> a\n",
            "4 =========>>> b\n",
            "4 =========>>> c\n",
            "4 =========>>> d\n",
            "4 =========>>> e\n",
            "\n",
            "\n",
            "5 =========>>> a\n",
            "5 =========>>> b\n",
            "5 =========>>> c\n",
            "5 =========>>> d\n",
            "5 =========>>> e\n"
          ]
        }
      ],
      "source": [
        "a1 = ['1', '2', '3', '4', '5']\n",
        "a2 = [' =========>>> a', ' =========>>> b', ' =========>>> c', ' =========>>> d', ' =========>>> e']\n",
        "\n",
        "for i in a1:\n",
        "  print(\"\\n\")\n",
        "  for s in a2:\n",
        "    print(i + s)"
      ]
    },
    {
      "cell_type": "code",
      "execution_count": null,
      "metadata": {
        "id": "TQgh7vkJGGXX"
      },
      "outputs": [],
      "source": [
        "ss = 'a great play'\n",
        "\n",
        "for i in ss:\n",
        "    if not i.isalpha():\n",
        "      break\n",
        "      print(i, end=', ')"
      ]
    },
    {
      "cell_type": "code",
      "execution_count": null,
      "metadata": {
        "colab": {
          "base_uri": "https://localhost:8080/"
        },
        "id": "l_QA945EHmRd",
        "outputId": "d5fdc855-9544-49eb-9ef6-93673259865c"
      },
      "outputs": [
        {
          "name": "stdout",
          "output_type": "stream",
          "text": [
            "ss\n"
          ]
        }
      ],
      "source": [
        "st = '32ey.5yhsf$h%owe82038e-3q0dwaefsfdgfhyfWfd9fG'\n",
        "for i in st:\n",
        "    if i.isdigit() and int(i) > 8:\n",
        "        print('ss')"
      ]
    },
    {
      "cell_type": "code",
      "execution_count": null,
      "metadata": {
        "colab": {
          "base_uri": "https://localhost:8080/"
        },
        "id": "7euOBiRLnDC4",
        "outputId": "9e119f19-1275-4ede-d7a7-8bbc5eeeb039"
      },
      "outputs": [
        {
          "name": "stdout",
          "output_type": "stream",
          "text": [
            "apple\n",
            "banana\n",
            "cherry\n"
          ]
        }
      ],
      "source": [
        "fruits = ['apple', 'banana', 'cherry']\n",
        "\n",
        "for i in fruits:\n",
        "  print(i)"
      ]
    },
    {
      "cell_type": "code",
      "execution_count": null,
      "metadata": {
        "colab": {
          "base_uri": "https://localhost:8080/"
        },
        "id": "mvJjzJPknRAy",
        "outputId": "8771db6c-816a-4616-d3d4-77546333f498"
      },
      "outputs": [
        {
          "name": "stdout",
          "output_type": "stream",
          "text": [
            "0 1 2 3 4 5 6 7 8 "
          ]
        }
      ],
      "source": [
        "for i in range(9):\n",
        "  print(i, end=' ')"
      ]
    },
    {
      "cell_type": "code",
      "execution_count": null,
      "metadata": {
        "colab": {
          "base_uri": "https://localhost:8080/"
        },
        "id": "ebffOKdjnacA",
        "outputId": "e844dc90-9d9a-498a-dabf-85b245c61876"
      },
      "outputs": [
        {
          "name": "stdout",
          "output_type": "stream",
          "text": [
            "Fadilsa"
          ]
        }
      ],
      "source": [
        "for i in 'Fadilsa':\n",
        "  print(i, end='')"
      ]
    },
    {
      "cell_type": "code",
      "execution_count": null,
      "metadata": {
        "colab": {
          "base_uri": "https://localhost:8080/"
        },
        "id": "PMV6jyUXnpvW",
        "outputId": "17241324-5c8b-4928-ebd1-95f0818ad961"
      },
      "outputs": [
        {
          "name": "stdout",
          "output_type": "stream",
          "text": [
            "First\n",
            "Second\n",
            "Third\n"
          ]
        }
      ],
      "source": [
        "dic = {'First': 111, 'Second': 222, 'Third': 333}\n",
        "\n",
        "for i in dic:\n",
        "  print(i)"
      ]
    },
    {
      "cell_type": "code",
      "execution_count": null,
      "metadata": {
        "colab": {
          "base_uri": "https://localhost:8080/"
        },
        "id": "LOLYLxBuocUM",
        "outputId": "c8e8a7ad-3def-4724-83b5-2bf621a2aea5"
      },
      "outputs": [
        {
          "name": "stdout",
          "output_type": "stream",
          "text": [
            "0 1 2 3 4 5 6 7 8 9 "
          ]
        }
      ],
      "source": [
        "num = 0\n",
        "\n",
        "while num < 10:\n",
        "    print(num, end=' ')\n",
        "    num += 1"
      ]
    },
    {
      "cell_type": "code",
      "execution_count": null,
      "metadata": {
        "colab": {
          "base_uri": "https://localhost:8080/"
        },
        "id": "HF_y9bSupJdD",
        "outputId": "fcff095e-3bf2-4022-f49c-cdc710876638"
      },
      "outputs": [
        {
          "name": "stdout",
          "output_type": "stream",
          "text": [
            "Этот цикл без конечный!\n"
          ]
        }
      ],
      "source": [
        "while True:\n",
        "    print('Этот цикл без конечный!')\n",
        "    break # Прерывем цикл"
      ]
    },
    {
      "cell_type": "code",
      "execution_count": null,
      "metadata": {
        "colab": {
          "base_uri": "https://localhost:8080/"
        },
        "id": "tG6jfYzGpnz5",
        "outputId": "b39d3ddc-48d3-4e63-fceb-b57711d9ca6a"
      },
      "outputs": [
        {
          "name": "stdout",
          "output_type": "stream",
          "text": [
            "1\n",
            "3\n",
            "5\n",
            "7\n",
            "9\n"
          ]
        }
      ],
      "source": [
        "i = 0\n",
        "\n",
        "while i < 10:\n",
        "  i += 1\n",
        "  if i % 2 == 0:\n",
        "      continue\n",
        "  print(i)"
      ]
    },
    {
      "cell_type": "code",
      "execution_count": null,
      "metadata": {
        "colab": {
          "base_uri": "https://localhost:8080/"
        },
        "id": "HTq1WX1lrDH7",
        "outputId": "255c7368-1f2c-422b-bc83-2ef84396e607"
      },
      "outputs": [
        {
          "name": "stdout",
          "output_type": "stream",
          "text": [
            "0\n",
            "1\n",
            "2\n",
            "3\n",
            "4\n",
            "5\n",
            "6\n"
          ]
        }
      ],
      "source": [
        "for i in range(10):\n",
        "    if i == 7:\n",
        "        break\n",
        "    print(i)"
      ]
    },
    {
      "cell_type": "code",
      "execution_count": null,
      "metadata": {
        "colab": {
          "base_uri": "https://localhost:8080/"
        },
        "id": "Js1zUBODrUMy",
        "outputId": "abdcf477-d80e-40aa-ba17-0fb72f467a0b"
      },
      "outputs": [
        {
          "name": "stdout",
          "output_type": "stream",
          "text": [
            "0\n",
            "1\n",
            "2\n",
            "3\n",
            "4\n",
            "6\n",
            "7\n",
            "8\n",
            "9\n"
          ]
        }
      ],
      "source": [
        "for i in range(10):\n",
        "    if i == 5:\n",
        "        continue\n",
        "    print(i)"
      ]
    },
    {
      "cell_type": "code",
      "execution_count": null,
      "metadata": {
        "colab": {
          "base_uri": "https://localhost:8080/"
        },
        "id": "zCMpmcVYrpRT",
        "outputId": "3cdd9b07-f6c2-4f9b-9bf3-6d5b8e047964"
      },
      "outputs": [
        {
          "name": "stdout",
          "output_type": "stream",
          "text": [
            "0\n",
            "1\n",
            "2\n",
            "3\n",
            "4\n",
            "5\n",
            "6\n",
            "7\n",
            "8\n",
            "Цикл завершен без прерывания\n"
          ]
        }
      ],
      "source": [
        "for i in range(9):\n",
        "    print(i)\n",
        "else:\n",
        "    print('Цикл завершен без прерывания')"
      ]
    },
    {
      "cell_type": "code",
      "execution_count": null,
      "metadata": {
        "colab": {
          "base_uri": "https://localhost:8080/"
        },
        "id": "JoE6EejfsSl1",
        "outputId": "649d1681-26c8-4816-8c75-516415fd51d7"
      },
      "outputs": [
        {
          "name": "stdout",
          "output_type": "stream",
          "text": [
            "0\n",
            "1\n",
            "2\n",
            "3\n",
            "4\n"
          ]
        }
      ],
      "source": [
        "for i in range(9):\n",
        "    if i == 5:\n",
        "        break\n",
        "    print(i)\n",
        "else:\n",
        "    print('Цикл завершен без прерывания')"
      ]
    },
    {
      "cell_type": "code",
      "execution_count": null,
      "metadata": {
        "colab": {
          "base_uri": "https://localhost:8080/"
        },
        "id": "STaArkJEs86b",
        "outputId": "22b387c2-9647-4670-fda1-18e5c934008e"
      },
      "outputs": [
        {
          "name": "stdout",
          "output_type": "stream",
          "text": [
            "0 * 0 = 0\n",
            "0 * 1 = 0\n",
            "0 * 2 = 0\n",
            "0 * 3 = 0\n",
            "0 * 4 = 0\n",
            "---------\n",
            "1 * 0 = 0\n",
            "1 * 1 = 1\n",
            "1 * 2 = 2\n",
            "1 * 3 = 3\n",
            "1 * 4 = 4\n",
            "---------\n",
            "2 * 0 = 0\n",
            "2 * 1 = 2\n",
            "2 * 2 = 4\n",
            "2 * 3 = 6\n",
            "2 * 4 = 8\n",
            "---------\n",
            "3 * 0 = 0\n",
            "3 * 1 = 3\n",
            "3 * 2 = 6\n",
            "3 * 3 = 9\n",
            "3 * 4 = 12\n",
            "---------\n",
            "4 * 0 = 0\n",
            "4 * 1 = 4\n",
            "4 * 2 = 8\n",
            "4 * 3 = 12\n",
            "4 * 4 = 16\n",
            "---------\n"
          ]
        }
      ],
      "source": [
        "for i in range(0, 5):\n",
        "    for j in range(0, 5):\n",
        "        print(f'{i} * {j} = {i * j}')\n",
        "    print('---------')"
      ]
    },
    {
      "cell_type": "markdown",
      "metadata": {
        "id": "Mim2lvCRuneH"
      },
      "source": [
        "Практическое задание\n",
        "Попробуйте написать программу, которая находит сумму всех чисел от 1 до 100, используя оба типа циклов."
      ]
    },
    {
      "cell_type": "code",
      "execution_count": null,
      "metadata": {
        "colab": {
          "base_uri": "https://localhost:8080/"
        },
        "id": "hSnE68GIumtS",
        "outputId": "1ec10174-d43b-4e1c-e6d7-2ac8ef70dfdb"
      },
      "outputs": [
        {
          "name": "stdout",
          "output_type": "stream",
          "text": [
            "1 2 3 4 5 6 7 8 9 10 11 12 13 14 15 16 17 18 19 20 21 22 23 24 25 26 27 28 29 30 31 32 33 34 35 36 37 38 39 40 41 42 43 44 45 46 47 48 49 50 51 52 53 54 55 56 57 58 59 60 61 62 63 64 65 66 67 68 69 70 71 72 73 74 75 76 77 78 79 80 81 82 83 84 85 86 87 88 89 90 91 92 93 94 95 96 97 98 99 100 \n",
            " 5050\n"
          ]
        }
      ],
      "source": [
        "total = 0\n",
        "for i in range(1, 100 + 1):\n",
        "    print(i, end=' ')\n",
        "    # total = total + i\n",
        "    total += i\n",
        "print('\\n', total)"
      ]
    },
    {
      "cell_type": "code",
      "execution_count": null,
      "metadata": {
        "colab": {
          "base_uri": "https://localhost:8080/"
        },
        "id": "2zslKD_OvFad",
        "outputId": "d5c72922-18c8-47dc-a3b4-38117f8ef56a"
      },
      "outputs": [
        {
          "name": "stdout",
          "output_type": "stream",
          "text": [
            "1 2 3 4 5 6 7 8 9 10 11 12 13 14 15 16 17 18 19 20 21 22 23 24 25 26 27 28 29 30 31 32 33 34 35 36 37 38 39 40 41 42 43 44 45 46 47 48 49 50 51 52 53 54 55 56 57 58 59 60 61 62 63 64 65 66 67 68 69 70 71 72 73 74 75 76 77 78 79 80 81 82 83 84 85 86 87 88 89 90 91 92 93 94 95 96 97 98 99 100 \n",
            " 5050\n"
          ]
        }
      ],
      "source": [
        "total = 0\n",
        "i = 1\n",
        "while i < 101:\n",
        "    print(i, end=' ')\n",
        "    total += i\n",
        "    i += 1\n",
        "print('\\n', total)"
      ]
    },
    {
      "cell_type": "code",
      "execution_count": null,
      "metadata": {
        "colab": {
          "base_uri": "https://localhost:8080/"
        },
        "id": "SWrU1DsbH8PG",
        "outputId": "9db8b763-2daf-415a-e296-8ff52acddfd0"
      },
      "outputs": [
        {
          "name": "stdout",
          "output_type": "stream",
          "text": [
            "5050\n"
          ]
        }
      ],
      "source": [
        "total = 0\n",
        "for i in range(1, 101):\n",
        "    total = total + i\n",
        "\n",
        "print(total)"
      ]
    },
    {
      "cell_type": "code",
      "execution_count": null,
      "metadata": {
        "colab": {
          "base_uri": "https://localhost:8080/"
        },
        "id": "HQKud0YVJ8Yx",
        "outputId": "287f83bf-0040-49e7-b3e6-5ce3dfcb745f"
      },
      "outputs": [
        {
          "data": {
            "text/plain": [
              "['apple',\n",
              " 'Watermelon',\n",
              " 'pear',\n",
              " 'banana',\n",
              " 'kiwi',\n",
              " 'apple',\n",
              " 'banana',\n",
              " 'cherry',\n",
              " 'H']"
            ]
          },
          "execution_count": 86,
          "metadata": {},
          "output_type": "execute_result"
        }
      ],
      "source": [
        "fruits = ['orange', 'apple', 'pear', 'banana', 'kiwi', 'apple', 'banana']\n",
        "fruits.count('banana')\n",
        "fruits.append('cherry')\n",
        "fruits.extend('Hi')\n",
        "fruits.insert(2, 'Watermelon')\n",
        "fruits.remove('orange')\n",
        "fruits.pop()\n",
        "# fruits.clear()\n",
        "\n",
        "fruits"
      ]
    },
    {
      "cell_type": "code",
      "execution_count": null,
      "metadata": {
        "colab": {
          "base_uri": "https://localhost:8080/"
        },
        "id": "GO3hOiJ5MM9x",
        "outputId": "39d7dbf7-c806-457d-ac1c-18866d11957b"
      },
      "outputs": [
        {
          "data": {
            "text/plain": [
              "2"
            ]
          },
          "execution_count": 88,
          "metadata": {},
          "output_type": "execute_result"
        }
      ],
      "source": [
        "fruits.index('pear')"
      ]
    },
    {
      "cell_type": "code",
      "execution_count": null,
      "metadata": {
        "colab": {
          "base_uri": "https://localhost:8080/"
        },
        "id": "3z_VF3ANMTMT",
        "outputId": "e059892c-c6cf-43b5-ebb7-5847fbbbc029"
      },
      "outputs": [
        {
          "data": {
            "text/plain": [
              "2"
            ]
          },
          "execution_count": 89,
          "metadata": {},
          "output_type": "execute_result"
        }
      ],
      "source": [
        "fruits.count('banana')"
      ]
    },
    {
      "cell_type": "code",
      "execution_count": null,
      "metadata": {
        "id": "g_xVcmquMYfN"
      },
      "outputs": [],
      "source": [
        "fruits.sort()"
      ]
    },
    {
      "cell_type": "code",
      "execution_count": null,
      "metadata": {
        "colab": {
          "base_uri": "https://localhost:8080/"
        },
        "id": "q-oTHZSANBjn",
        "outputId": "adbbee6b-3ee7-483f-f0cf-c6a0f337b61d"
      },
      "outputs": [
        {
          "name": "stdout",
          "output_type": "stream",
          "text": [
            "inter a string: Hello\n",
            "inter index of an element: 3\n",
            "l\n"
          ]
        }
      ],
      "source": [
        "text = input('inter a string: ')\n",
        "num = int(input('inter index of an element: '))\n",
        "\n",
        "if num < len(text):\n",
        "  print(text[num])\n",
        "else:\n",
        "  print('this index out of the range')"
      ]
    },
    {
      "cell_type": "code",
      "execution_count": null,
      "metadata": {
        "colab": {
          "base_uri": "https://localhost:8080/"
        },
        "id": "4hlGA8HKOPN0",
        "outputId": "b5c3fda5-3c48-4245-8c6c-1b148aec3878"
      },
      "outputs": [
        {
          "name": "stdout",
          "output_type": "stream",
          "text": [
            "o\n"
          ]
        }
      ],
      "source": [
        "s = 'hello'\n",
        "print(s[len(s) - 1])"
      ]
    },
    {
      "cell_type": "code",
      "execution_count": null,
      "metadata": {
        "colab": {
          "base_uri": "https://localhost:8080/"
        },
        "id": "TzdUgMOpkTZT",
        "outputId": "3511354a-a4c5-41b9-a98e-f864b7294caa"
      },
      "outputs": [
        {
          "name": "stdout",
          "output_type": "stream",
          "text": [
            "d\n"
          ]
        }
      ],
      "source": [
        "my_name = 'Ahmed'\n",
        "# print(f'The last letter of my name is {my_name[len(my_name) - 1]}')\n",
        "# print(my_name[4])\n",
        "print(my_name[-1])"
      ]
    },
    {
      "cell_type": "code",
      "execution_count": null,
      "metadata": {
        "colab": {
          "base_uri": "https://localhost:8080/"
        },
        "id": "zxLk4-_9lenF",
        "outputId": "4827202a-6496-4c7f-feb3-845edc01e323"
      },
      "outputs": [
        {
          "name": "stdout",
          "output_type": "stream",
          "text": [
            "Python\n",
            "P\n",
            "y\n",
            "t\n",
            "h\n",
            "o\n",
            "n\n"
          ]
        }
      ],
      "source": [
        "text = input()\n",
        "for i in range(len(text)):\n",
        "  print(text[i])\n",
        "  # print(text[0], text[1], text[2], text[3], text[4])\n",
        "  # print(text[1])\n",
        "  # print(text[2])\n",
        "  # print(text[3])\n",
        "  # print(text[4])"
      ]
    },
    {
      "cell_type": "code",
      "execution_count": null,
      "metadata": {
        "colab": {
          "base_uri": "https://localhost:8080/"
        },
        "id": "3po5NqBhq-2J",
        "outputId": "bb992087-40fe-4cf0-ec98-0dd8efc7ff79"
      },
      "outputs": [
        {
          "name": "stdout",
          "output_type": "stream",
          "text": [
            "python\n",
            "0 p\n",
            "1 y\n",
            "2 t\n",
            "3 h\n",
            "4 o\n",
            "5 n\n"
          ]
        }
      ],
      "source": [
        "text = input()\n",
        "for i, l in enumerate(text):\n",
        "  print(i, l)"
      ]
    },
    {
      "cell_type": "code",
      "execution_count": null,
      "metadata": {
        "colab": {
          "base_uri": "https://localhost:8080/"
        },
        "id": "gkYvaWG4rO9L",
        "outputId": "52923922-271e-4dca-cd9c-4bd7bef4d980"
      },
      "outputs": [
        {
          "name": "stdout",
          "output_type": "stream",
          "text": [
            "0 p\n",
            "1 y\n",
            "2 t\n",
            "3 h\n",
            "4 o\n",
            "5 n\n"
          ]
        }
      ],
      "source": [
        "s = 'python'\n",
        "for i, l in enumerate(s):\n",
        "  print(i, l)"
      ]
    },
    {
      "cell_type": "code",
      "execution_count": null,
      "metadata": {
        "colab": {
          "base_uri": "https://localhost:8080/"
        },
        "id": "Lg1EZSSsskzU",
        "outputId": "9f43a16a-e0ef-48c0-90ab-aa56383b9b61"
      },
      "outputs": [
        {
          "name": "stdout",
          "output_type": "stream",
          "text": [
            "1\n",
            "2\n",
            "3\n",
            "4\n",
            "5\n",
            "[1, 2, 3, 4, 5]\n"
          ]
        }
      ],
      "source": [
        "nums = []\n",
        "for i in range(5):\n",
        "  nums.append(int(input()))\n",
        "print(nums)"
      ]
    },
    {
      "cell_type": "code",
      "execution_count": null,
      "metadata": {
        "colab": {
          "base_uri": "https://localhost:8080/"
        },
        "id": "UCwRDu0hwn9K",
        "outputId": "86616dd4-9840-4efa-cda4-8b33f4d79267"
      },
      "outputs": [
        {
          "name": "stdout",
          "output_type": "stream",
          "text": [
            "[5, 4, 2, 3, 1]\n"
          ]
        }
      ],
      "source": [
        "l = [1, 3, 2, 4, 5]\n",
        "l.reverse()\n",
        "print(l)"
      ]
    },
    {
      "cell_type": "code",
      "execution_count": null,
      "metadata": {
        "colab": {
          "base_uri": "https://localhost:8080/"
        },
        "id": "FGN8dOw3w0AC",
        "outputId": "ad44957c-a8f1-4cad-cefe-a5bb0558477e"
      },
      "outputs": [
        {
          "name": "stdout",
          "output_type": "stream",
          "text": [
            "[1, 2, 3, 4, 5]\n"
          ]
        }
      ],
      "source": [
        "l.sort()\n",
        "print(l)"
      ]
    },
    {
      "cell_type": "code",
      "execution_count": null,
      "metadata": {
        "colab": {
          "base_uri": "https://localhost:8080/"
        },
        "id": "8mk3s5Mbyhxv",
        "outputId": "05b4be00-04ae-4a08-bef8-0c42e713d466"
      },
      "outputs": [
        {
          "name": "stdout",
          "output_type": "stream",
          "text": [
            "Hello Joseph\n",
            "Hello Glenn\n",
            "Hello Sally\n",
            "\n",
            "Good Bye\n"
          ]
        }
      ],
      "source": [
        "friends = ['Joseph', 'Glenn', 'Sally']\n",
        "for friend in friends:\n",
        "    print('Hello', friend)\n",
        "\n",
        "print('\\nGood Bye')"
      ]
    },
    {
      "cell_type": "code",
      "execution_count": null,
      "metadata": {
        "colab": {
          "base_uri": "https://localhost:8080/"
        },
        "id": "y1iFMVzX0jmN",
        "outputId": "9d79034e-747e-4d9e-fa5d-b1dda9955363"
      },
      "outputs": [
        {
          "name": "stdout",
          "output_type": "stream",
          "text": [
            "Hello Joseph\n",
            "Hello Glenn\n",
            "Hello Sally\n",
            "\n",
            "Finish\n"
          ]
        }
      ],
      "source": [
        "for i in range(len(friends)):\n",
        "    friend = friends[i]\n",
        "    print('Hello', friend)\n",
        "\n",
        "print('\\nFinish')"
      ]
    },
    {
      "cell_type": "code",
      "execution_count": null,
      "metadata": {
        "colab": {
          "base_uri": "https://localhost:8080/"
        },
        "id": "8ojkSMMCzzLI",
        "outputId": "4b89c6c3-0cea-410b-d511-3414d0183a50"
      },
      "outputs": [
        {
          "name": "stdout",
          "output_type": "stream",
          "text": [
            "Glenn\n"
          ]
        }
      ],
      "source": [
        "print(friends[1])"
      ]
    },
    {
      "cell_type": "code",
      "execution_count": null,
      "metadata": {
        "colab": {
          "base_uri": "https://localhost:8080/"
        },
        "id": "lIeTSVdA0A77",
        "outputId": "e0a10f3a-6802-4821-e47c-4c35737a6c2b"
      },
      "outputs": [
        {
          "name": "stdout",
          "output_type": "stream",
          "text": [
            "range(0, 3)\n"
          ]
        }
      ],
      "source": [
        "print(range(len(friends)))"
      ]
    },
    {
      "cell_type": "code",
      "execution_count": null,
      "metadata": {
        "colab": {
          "base_uri": "https://localhost:8080/"
        },
        "id": "cfVEDHAc0Eh8",
        "outputId": "153820b7-4f13-44e2-9dd1-e5466b80dc20"
      },
      "outputs": [
        {
          "name": "stdout",
          "output_type": "stream",
          "text": [
            "range(0, 3)\n"
          ]
        }
      ],
      "source": [
        "print(range(len(friends)))"
      ]
    },
    {
      "cell_type": "code",
      "execution_count": null,
      "metadata": {
        "colab": {
          "base_uri": "https://localhost:8080/"
        },
        "id": "GJPGMtq24nI1",
        "outputId": "00b55e57-1a6a-4d25-9ecf-37b765cddb0a"
      },
      "outputs": [
        {
          "data": {
            "text/plain": [
              "False"
            ]
          },
          "execution_count": 43,
          "metadata": {},
          "output_type": "execute_result"
        }
      ],
      "source": [
        "l = [1, 2, 3, 4, 5]\n",
        "3 in l\n",
        "3 not in l\n",
        "33 in l"
      ]
    },
    {
      "cell_type": "code",
      "execution_count": null,
      "metadata": {
        "colab": {
          "base_uri": "https://localhost:8080/"
        },
        "id": "0ChAG_1U48kr",
        "outputId": "4ae6fb4f-8c93-4540-d831-982801dbf108"
      },
      "outputs": [
        {
          "data": {
            "text/plain": [
              "25.666666666666668"
            ]
          },
          "execution_count": 49,
          "metadata": {},
          "output_type": "execute_result"
        }
      ],
      "source": [
        "nums = [3, 41, 12, 9, 74, 15]\n",
        "\n",
        "sum(nums)\n",
        "min(nums)\n",
        "max(nums)\n",
        "len(nums)\n",
        "sum(nums)\n",
        "sum(nums)/len(nums)"
      ]
    },
    {
      "cell_type": "code",
      "execution_count": null,
      "metadata": {
        "colab": {
          "base_uri": "https://localhost:8080/"
        },
        "id": "34oiAxq07chu",
        "outputId": "15ec1cbb-6fc7-48ca-ba65-53851a8e7ad0"
      },
      "outputs": [
        {
          "name": "stdout",
          "output_type": "stream",
          "text": [
            "inter a number: 99\n",
            "inter a number: 99\n",
            "inter a number: done\n",
            "99.0\n"
          ]
        }
      ],
      "source": [
        "total = 0\n",
        "count = 0\n",
        "\n",
        "while True:\n",
        "  inp = input('inter a number: ')\n",
        "  if inp == 'done':\n",
        "    break\n",
        "  value = float(inp)\n",
        "  total = total + value\n",
        "  count += 1\n",
        "\n",
        "average = total / count\n",
        "print(average)"
      ]
    },
    {
      "cell_type": "markdown",
      "metadata": {
        "id": "1F9zyf4sFAiD"
      },
      "source": [
        "dir()"
      ]
    },
    {
      "cell_type": "code",
      "execution_count": null,
      "metadata": {
        "colab": {
          "base_uri": "https://localhost:8080/"
        },
        "id": "hX8Fxu1X8WVH",
        "outputId": "28f22ed8-8b9a-4525-f6c4-e1d0c98ef9b4"
      },
      "outputs": [
        {
          "data": {
            "text/plain": [
              "['__add__',\n",
              " '__class__',\n",
              " '__class_getitem__',\n",
              " '__contains__',\n",
              " '__delattr__',\n",
              " '__delitem__',\n",
              " '__dir__',\n",
              " '__doc__',\n",
              " '__eq__',\n",
              " '__format__',\n",
              " '__ge__',\n",
              " '__getattribute__',\n",
              " '__getitem__',\n",
              " '__gt__',\n",
              " '__hash__',\n",
              " '__iadd__',\n",
              " '__imul__',\n",
              " '__init__',\n",
              " '__init_subclass__',\n",
              " '__iter__',\n",
              " '__le__',\n",
              " '__len__',\n",
              " '__lt__',\n",
              " '__mul__',\n",
              " '__ne__',\n",
              " '__new__',\n",
              " '__reduce__',\n",
              " '__reduce_ex__',\n",
              " '__repr__',\n",
              " '__reversed__',\n",
              " '__rmul__',\n",
              " '__setattr__',\n",
              " '__setitem__',\n",
              " '__sizeof__',\n",
              " '__str__',\n",
              " '__subclasshook__',\n",
              " 'append',\n",
              " 'clear',\n",
              " 'copy',\n",
              " 'count',\n",
              " 'extend',\n",
              " 'index',\n",
              " 'insert',\n",
              " 'pop',\n",
              " 'remove',\n",
              " 'reverse',\n",
              " 'sort']"
            ]
          },
          "execution_count": 1,
          "metadata": {},
          "output_type": "execute_result"
        }
      ],
      "source": [
        "x = list()\n",
        "dir(x)"
      ]
    },
    {
      "cell_type": "code",
      "execution_count": null,
      "metadata": {
        "colab": {
          "base_uri": "https://localhost:8080/"
        },
        "id": "c8mAQGnu8Wyc",
        "outputId": "eab039c4-fd32-4153-be28-219a8a48d35b"
      },
      "outputs": [
        {
          "data": {
            "text/plain": [
              "['__and__',\n",
              " '__class__',\n",
              " '__class_getitem__',\n",
              " '__contains__',\n",
              " '__delattr__',\n",
              " '__dir__',\n",
              " '__doc__',\n",
              " '__eq__',\n",
              " '__format__',\n",
              " '__ge__',\n",
              " '__getattribute__',\n",
              " '__gt__',\n",
              " '__hash__',\n",
              " '__iand__',\n",
              " '__init__',\n",
              " '__init_subclass__',\n",
              " '__ior__',\n",
              " '__isub__',\n",
              " '__iter__',\n",
              " '__ixor__',\n",
              " '__le__',\n",
              " '__len__',\n",
              " '__lt__',\n",
              " '__ne__',\n",
              " '__new__',\n",
              " '__or__',\n",
              " '__rand__',\n",
              " '__reduce__',\n",
              " '__reduce_ex__',\n",
              " '__repr__',\n",
              " '__ror__',\n",
              " '__rsub__',\n",
              " '__rxor__',\n",
              " '__setattr__',\n",
              " '__sizeof__',\n",
              " '__str__',\n",
              " '__sub__',\n",
              " '__subclasshook__',\n",
              " '__xor__',\n",
              " 'add',\n",
              " 'clear',\n",
              " 'copy',\n",
              " 'difference',\n",
              " 'difference_update',\n",
              " 'discard',\n",
              " 'intersection',\n",
              " 'intersection_update',\n",
              " 'isdisjoint',\n",
              " 'issubset',\n",
              " 'issuperset',\n",
              " 'pop',\n",
              " 'remove',\n",
              " 'symmetric_difference',\n",
              " 'symmetric_difference_update',\n",
              " 'union',\n",
              " 'update']"
            ]
          },
          "execution_count": 2,
          "metadata": {},
          "output_type": "execute_result"
        }
      ],
      "source": [
        "y = set()\n",
        "dir(y)"
      ]
    },
    {
      "cell_type": "code",
      "execution_count": null,
      "metadata": {
        "colab": {
          "base_uri": "https://localhost:8080/"
        },
        "id": "ofPOIDcv8W-J",
        "outputId": "b2f37419-c443-4d3f-c8bc-e10c9bf74f18"
      },
      "outputs": [
        {
          "data": {
            "text/plain": [
              "['__class__',\n",
              " '__class_getitem__',\n",
              " '__contains__',\n",
              " '__delattr__',\n",
              " '__delitem__',\n",
              " '__dir__',\n",
              " '__doc__',\n",
              " '__eq__',\n",
              " '__format__',\n",
              " '__ge__',\n",
              " '__getattribute__',\n",
              " '__getitem__',\n",
              " '__gt__',\n",
              " '__hash__',\n",
              " '__init__',\n",
              " '__init_subclass__',\n",
              " '__ior__',\n",
              " '__iter__',\n",
              " '__le__',\n",
              " '__len__',\n",
              " '__lt__',\n",
              " '__ne__',\n",
              " '__new__',\n",
              " '__or__',\n",
              " '__reduce__',\n",
              " '__reduce_ex__',\n",
              " '__repr__',\n",
              " '__reversed__',\n",
              " '__ror__',\n",
              " '__setattr__',\n",
              " '__setitem__',\n",
              " '__sizeof__',\n",
              " '__str__',\n",
              " '__subclasshook__',\n",
              " 'clear',\n",
              " 'copy',\n",
              " 'fromkeys',\n",
              " 'get',\n",
              " 'items',\n",
              " 'keys',\n",
              " 'pop',\n",
              " 'popitem',\n",
              " 'setdefault',\n",
              " 'update',\n",
              " 'values']"
            ]
          },
          "execution_count": 3,
          "metadata": {},
          "output_type": "execute_result"
        }
      ],
      "source": [
        "d = dict()\n",
        "dir(d)"
      ]
    },
    {
      "cell_type": "code",
      "execution_count": null,
      "metadata": {
        "colab": {
          "base_uri": "https://localhost:8080/"
        },
        "id": "rKSHt0KS-QVl",
        "outputId": "51eb203f-1bdf-408f-9f73-ef309e17769a"
      },
      "outputs": [
        {
          "data": {
            "text/plain": [
              "['__add__',\n",
              " '__class__',\n",
              " '__class_getitem__',\n",
              " '__contains__',\n",
              " '__delattr__',\n",
              " '__dir__',\n",
              " '__doc__',\n",
              " '__eq__',\n",
              " '__format__',\n",
              " '__ge__',\n",
              " '__getattribute__',\n",
              " '__getitem__',\n",
              " '__getnewargs__',\n",
              " '__gt__',\n",
              " '__hash__',\n",
              " '__init__',\n",
              " '__init_subclass__',\n",
              " '__iter__',\n",
              " '__le__',\n",
              " '__len__',\n",
              " '__lt__',\n",
              " '__mul__',\n",
              " '__ne__',\n",
              " '__new__',\n",
              " '__reduce__',\n",
              " '__reduce_ex__',\n",
              " '__repr__',\n",
              " '__rmul__',\n",
              " '__setattr__',\n",
              " '__sizeof__',\n",
              " '__str__',\n",
              " '__subclasshook__',\n",
              " 'count',\n",
              " 'index']"
            ]
          },
          "execution_count": 4,
          "metadata": {},
          "output_type": "execute_result"
        }
      ],
      "source": [
        "z = tuple()\n",
        "dir(z)"
      ]
    },
    {
      "cell_type": "code",
      "execution_count": null,
      "metadata": {
        "id": "Yph69copFY_N"
      },
      "outputs": [],
      "source": []
    },
    {
      "cell_type": "markdown",
      "metadata": {
        "id": "d8TYiBMtFTLS"
      },
      "source": [
        "AVERAGE"
      ]
    },
    {
      "cell_type": "code",
      "execution_count": null,
      "metadata": {
        "colab": {
          "base_uri": "https://localhost:8080/"
        },
        "id": "2GQSfNIsFE_c",
        "outputId": "4040aff0-5a34-4620-b220-b13c59187994"
      },
      "outputs": [
        {
          "name": "stdout",
          "output_type": "stream",
          "text": [
            "Inter a num (0 to exit): 6\n",
            "Inter a num (0 to exit): 6\n",
            "Inter a num (0 to exit): 6\n",
            "Inter a num (0 to exit): 0\n",
            "Average: 6.0\n"
          ]
        }
      ],
      "source": [
        "total = 0\n",
        "count = 0\n",
        "\n",
        "while True:\n",
        "  num = float(input('Inter a num (0 to exit): '))\n",
        "  if num == 0:\n",
        "    break\n",
        "  total = total + num\n",
        "  count += 1\n",
        "\n",
        "average = total / count\n",
        "print('Average:', average)"
      ]
    },
    {
      "cell_type": "code",
      "execution_count": null,
      "metadata": {
        "colab": {
          "base_uri": "https://localhost:8080/"
        },
        "id": "3fkG3-t_GauX",
        "outputId": "79a4e8c0-9207-46a0-b4ae-75195ec5a8f6"
      },
      "outputs": [
        {
          "name": "stdout",
          "output_type": "stream",
          "text": [
            "6\n",
            "6\n",
            "6\n",
            "0\n",
            "6.0\n"
          ]
        }
      ],
      "source": [
        "total = []\n",
        "\n",
        "while True:\n",
        "  num = float(input())\n",
        "  if num == 0:\n",
        "    break\n",
        "  total.append(num)\n",
        "\n",
        "average = sum(total) / len(total)\n",
        "print(average)"
      ]
    },
    {
      "cell_type": "code",
      "execution_count": null,
      "metadata": {
        "colab": {
          "base_uri": "https://localhost:8080/"
        },
        "id": "7RxqDyduIral",
        "outputId": "d54f05e9-24d6-44be-8966-de1a563ebf92"
      },
      "outputs": [
        {
          "name": "stdout",
          "output_type": "stream",
          "text": [
            "['with', 'python', 'code']\n"
          ]
        }
      ],
      "source": [
        "string_line = 'with python code'\n",
        "\n",
        "x = string_line.split()\n",
        "print(x)"
      ]
    },
    {
      "cell_type": "code",
      "execution_count": null,
      "metadata": {
        "colab": {
          "base_uri": "https://localhost:8080/"
        },
        "id": "F_mgwD2bJjev",
        "outputId": "ea0dbfbe-6be3-4914-8ccf-370412fb3b28"
      },
      "outputs": [
        {
          "name": "stdout",
          "output_type": "stream",
          "text": [
            "aaaaaaa\n"
          ]
        }
      ],
      "source": [
        "if not string_line.startswith('with'):\n",
        "  print('sssssss')\n",
        "else:\n",
        "  print('aaaaaaa')"
      ]
    },
    {
      "cell_type": "code",
      "execution_count": null,
      "metadata": {
        "colab": {
          "base_uri": "https://localhost:8080/"
        },
        "id": "qZdYOhScIrTH",
        "outputId": "e1c7b620-f270-4721-815c-45d2df736e82"
      },
      "outputs": [
        {
          "name": "stdout",
          "output_type": "stream",
          "text": [
            "python\n"
          ]
        }
      ],
      "source": [
        "print(x[1])"
      ]
    },
    {
      "cell_type": "code",
      "execution_count": null,
      "metadata": {
        "colab": {
          "base_uri": "https://localhost:8080/"
        },
        "id": "4hUgWGzVIrI5",
        "outputId": "ec423165-3f12-49b5-f963-8a1b2b70d8bf"
      },
      "outputs": [
        {
          "name": "stdout",
          "output_type": "stream",
          "text": [
            "3\n"
          ]
        }
      ],
      "source": [
        "print(len(x))"
      ]
    },
    {
      "cell_type": "code",
      "execution_count": null,
      "metadata": {
        "colab": {
          "base_uri": "https://localhost:8080/"
        },
        "id": "L8x3f0nAIrBF",
        "outputId": "51415ce8-dd21-4aa2-ecb0-ee848712cd9a"
      },
      "outputs": [
        {
          "name": "stdout",
          "output_type": "stream",
          "text": [
            "with\n",
            "python\n",
            "code\n"
          ]
        }
      ],
      "source": [
        "for i in x:\n",
        "  print(i)"
      ]
    },
    {
      "cell_type": "code",
      "execution_count": null,
      "metadata": {
        "colab": {
          "base_uri": "https://localhost:8080/"
        },
        "id": "XgJlbWwCIq4u",
        "outputId": "a0ccc54f-0301-4a6d-c5ab-8a819dd2026b"
      },
      "outputs": [
        {
          "name": "stdout",
          "output_type": "stream",
          "text": [
            "['with', 'python', 'code']\n",
            "['with', 'python', 'code']\n",
            "['with', 'python', 'code']\n"
          ]
        }
      ],
      "source": [
        "for i in x:\n",
        "  print(x)"
      ]
    },
    {
      "cell_type": "code",
      "execution_count": null,
      "metadata": {
        "colab": {
          "base_uri": "https://localhost:8080/"
        },
        "id": "K0Md-az-PH4O",
        "outputId": "a697db94-785f-413e-a54a-e4a125e2c1c7"
      },
      "outputs": [
        {
          "data": {
            "text/plain": [
              "2"
            ]
          },
          "execution_count": 47,
          "metadata": {},
          "output_type": "execute_result"
        }
      ],
      "source": [
        "d = {'a': 1, 'c': 2, 'b': 3}\n",
        "d['c']"
      ]
    },
    {
      "cell_type": "code",
      "execution_count": null,
      "metadata": {
        "colab": {
          "base_uri": "https://localhost:8080/"
        },
        "id": "sf8_QZNDVrwt",
        "outputId": "f1f3c723-77d2-4e72-fce6-f30ee4e0c0ff"
      },
      "outputs": [
        {
          "data": {
            "text/plain": [
              "False"
            ]
          },
          "execution_count": 51,
          "metadata": {},
          "output_type": "execute_result"
        }
      ],
      "source": [
        "'a' in d\n",
        "'a' not in d"
      ]
    },
    {
      "cell_type": "code",
      "execution_count": null,
      "metadata": {
        "colab": {
          "base_uri": "https://localhost:8080/"
        },
        "id": "vXKHWLSJPclc",
        "outputId": "a637e9ba-b2f2-4c35-a4a7-cee4e37a8d58"
      },
      "outputs": [
        {
          "data": {
            "text/plain": [
              "{'a': 1, 'c': 2, 'b': 3, 'd': 4}"
            ]
          },
          "execution_count": 44,
          "metadata": {},
          "output_type": "execute_result"
        }
      ],
      "source": [
        "d['d'] = 4\n",
        "d"
      ]
    },
    {
      "cell_type": "code",
      "execution_count": null,
      "metadata": {
        "colab": {
          "base_uri": "https://localhost:8080/"
        },
        "id": "EaRkNBi2Pl8r",
        "outputId": "c74532c5-e6a4-499c-ecec-8c9d2acac97e"
      },
      "outputs": [
        {
          "data": {
            "text/plain": [
              "{'a': 1, 'c': 2, 'b': 3}"
            ]
          },
          "execution_count": 45,
          "metadata": {},
          "output_type": "execute_result"
        }
      ],
      "source": [
        "d['d'] = 44\n",
        "del d['d']\n",
        "sorted(d)\n",
        "d"
      ]
    },
    {
      "cell_type": "code",
      "execution_count": null,
      "metadata": {
        "id": "ozPg4MQOVif-"
      },
      "outputs": [],
      "source": [
        "# ['a'] in d"
      ]
    },
    {
      "cell_type": "code",
      "execution_count": null,
      "metadata": {
        "colab": {
          "base_uri": "https://localhost:8080/"
        },
        "id": "x8zFS-FkWs3O",
        "outputId": "3e4076e8-5535-45c6-8253-ef940cfc9fb5"
      },
      "outputs": [
        {
          "data": {
            "text/plain": [
              "{2: 4, 4: 16, 6: 36}"
            ]
          },
          "execution_count": 53,
          "metadata": {},
          "output_type": "execute_result"
        }
      ],
      "source": [
        "{x: x**2 for x in [2, 4, 6]}"
      ]
    },
    {
      "cell_type": "code",
      "execution_count": null,
      "metadata": {
        "colab": {
          "base_uri": "https://localhost:8080/"
        },
        "id": "ihpvw-lvXGXt",
        "outputId": "9ac77167-4232-452e-f8ed-9711687a6c6c"
      },
      "outputs": [
        {
          "name": "stdout",
          "output_type": "stream",
          "text": [
            "gallahad the pure\n",
            "robin the brave\n"
          ]
        }
      ],
      "source": [
        "knights = {'gallahad': 'the pure', 'robin': 'the brave'}\n",
        "\n",
        "for a, b in knights.items():\n",
        "  print(a, b)"
      ]
    },
    {
      "cell_type": "code",
      "execution_count": null,
      "metadata": {
        "colab": {
          "base_uri": "https://localhost:8080/"
        },
        "id": "o_J9G7HeYaJW",
        "outputId": "9aad26f8-62a9-4f2e-aa86-0e815cbfb094"
      },
      "outputs": [
        {
          "name": "stdout",
          "output_type": "stream",
          "text": [
            "What is your name?  It is lancelot.\n",
            "What is your quest?  It is the holy grail.\n",
            "What is your favorite color?  It is blue.\n"
          ]
        }
      ],
      "source": [
        "questions = ['name', 'quest', 'favorite color']\n",
        "answers = ['lancelot', 'the holy grail', 'blue']\n",
        "for q, a in zip(questions, answers):\n",
        "    print('What is your {0}?  It is {1}.'.format(q, a))\n",
        "    # print(f'What is your {questions}?  It is {answers}.')"
      ]
    },
    {
      "cell_type": "code",
      "execution_count": null,
      "metadata": {
        "colab": {
          "base_uri": "https://localhost:8080/"
        },
        "id": "1SBNK3acakjr",
        "outputId": "5303155f-4f03-48ef-8c8f-8ebe6a45b613"
      },
      "outputs": [
        {
          "name": "stdout",
          "output_type": "stream",
          "text": [
            "a = 1, b = 2, and also c = 3\n"
          ]
        }
      ],
      "source": [
        "a = 1\n",
        "b = 2\n",
        "c = 3\n",
        "\n",
        "dd = 'a = {}, b = {}, and also c = {}'\n",
        "print(dd.format(a, b, c))"
      ]
    },
    {
      "cell_type": "code",
      "execution_count": null,
      "metadata": {
        "colab": {
          "base_uri": "https://localhost:8080/"
        },
        "id": "hHeYMuaia9Gv",
        "outputId": "d5236dfa-ddf2-4175-e681-fd7b45f39ff2"
      },
      "outputs": [
        {
          "name": "stdout",
          "output_type": "stream",
          "text": [
            "All my family are 9 person\n"
          ]
        }
      ],
      "source": [
        "parents = 2\n",
        "i = 1\n",
        "brothers = 4\n",
        "sisters = 2\n",
        "\n",
        "all = f'All my family are {parents + i + brothers + sisters} person'\n",
        "print(all)"
      ]
    },
    {
      "cell_type": "code",
      "execution_count": null,
      "metadata": {
        "colab": {
          "base_uri": "https://localhost:8080/"
        },
        "id": "3khnMghKcCEY",
        "outputId": "4b4d616d-96af-4251-e2ce-e7607b2439ef"
      },
      "outputs": [
        {
          "name": "stdout",
          "output_type": "stream",
          "text": [
            "5\n",
            "4\n",
            "3\n",
            "2\n",
            "1\n"
          ]
        }
      ],
      "source": [
        "for i in reversed(range(1, 6)):\n",
        "  print(i)"
      ]
    },
    {
      "cell_type": "code",
      "execution_count": null,
      "metadata": {
        "id": "eFpCdZrVcP8E"
      },
      "outputs": [],
      "source": [
        "# print(sorted(i))"
      ]
    },
    {
      "cell_type": "code",
      "execution_count": null,
      "metadata": {
        "colab": {
          "base_uri": "https://localhost:8080/"
        },
        "id": "yeYm6--8c9sP",
        "outputId": "c937b4b1-feb2-4b93-99ed-0707f2832f80"
      },
      "outputs": [
        {
          "name": "stdout",
          "output_type": "stream",
          "text": [
            "apple\n",
            "apple\n",
            "banana\n",
            "orange\n",
            "orange\n",
            "pear\n"
          ]
        }
      ],
      "source": [
        "basket = ['apple', 'orange', 'apple', 'pear', 'orange', 'banana']\n",
        "for i in sorted(basket):\n",
        "  print(i)"
      ]
    },
    {
      "cell_type": "code",
      "execution_count": null,
      "metadata": {
        "colab": {
          "base_uri": "https://localhost:8080/"
        },
        "id": "XlyTYmy1dLJM",
        "outputId": "6a91154e-5d7b-4462-a251-50f10ab692f6"
      },
      "outputs": [
        {
          "name": "stdout",
          "output_type": "stream",
          "text": [
            "apple\n",
            "banana\n",
            "orange\n",
            "pear\n"
          ]
        }
      ],
      "source": [
        "basket = ['apple', 'orange', 'apple', 'pear', 'orange', 'banana']\n",
        "for i in sorted(set(basket)):\n",
        "  print(i)"
      ]
    },
    {
      "cell_type": "code",
      "execution_count": null,
      "metadata": {
        "colab": {
          "base_uri": "https://localhost:8080/"
        },
        "id": "hthMgaCddfQ3",
        "outputId": "39a227b9-f1fb-4f6b-8520-30e50ab7557a"
      },
      "outputs": [
        {
          "name": "stdout",
          "output_type": "stream",
          "text": [
            "[56.2, 51.7, 55.3, 52.5, 47.8]\n"
          ]
        }
      ],
      "source": [
        "import math\n",
        "raw_data = [56.2, float('NaN'), 51.7, 55.3, 52.5, float('NaN'), 47.8]\n",
        "filts = []\n",
        "\n",
        "for i in raw_data:\n",
        "  if not math.isnan(i):\n",
        "    filts.append(i)\n",
        "\n",
        "print(filts)"
      ]
    },
    {
      "cell_type": "code",
      "execution_count": null,
      "metadata": {
        "colab": {
          "base_uri": "https://localhost:8080/"
        },
        "id": "paSOkgjUf65s",
        "outputId": "de19b526-d534-47c6-e77b-d7c399397a7e"
      },
      "outputs": [
        {
          "name": "stdout",
          "output_type": "stream",
          "text": [
            "{'name': 'Alice', 1: 'Python', (1, 2): [1, 2, 4], 'city': 'baghdad'}\n"
          ]
        }
      ],
      "source": [
        "d = { \"name\": \"Alice\", 1: \"Python\", (1, 2): [1,2,4] }\n",
        "\n",
        "# print(d['name'])\n",
        "# print(d.get('name'))\n",
        "\n",
        "d['city'] = 'baghdad'\n",
        "print(d)"
      ]
    },
    {
      "cell_type": "code",
      "execution_count": null,
      "metadata": {
        "colab": {
          "base_uri": "https://localhost:8080/"
        },
        "id": "1eXYUkvahZjc",
        "outputId": "7287c9fa-5f0a-463b-9403-9d00c9997ece"
      },
      "outputs": [
        {
          "data": {
            "text/plain": [
              "{'name': 'Alice', 1: 'Python', (1, 2): [1, 2, 4]}"
            ]
          },
          "execution_count": 95,
          "metadata": {},
          "output_type": "execute_result"
        }
      ],
      "source": [
        "d.popitem()\n",
        "d"
      ]
    },
    {
      "cell_type": "code",
      "execution_count": null,
      "metadata": {
        "colab": {
          "base_uri": "https://localhost:8080/"
        },
        "id": "-u5ta8U6hLh1",
        "outputId": "6a8511b1-fecc-4b7b-d0c6-1b2b5e5c5084"
      },
      "outputs": [
        {
          "data": {
            "text/plain": [
              "{1: 'Python', (1, 2): [1, 2, 4], 'city': 'baghdad'}"
            ]
          },
          "execution_count": 90,
          "metadata": {},
          "output_type": "execute_result"
        }
      ],
      "source": [
        "del d['name']\n",
        "d"
      ]
    },
    {
      "cell_type": "code",
      "execution_count": null,
      "metadata": {
        "colab": {
          "base_uri": "https://localhost:8080/"
        },
        "id": "RgmSejzXgjjS",
        "outputId": "ad70ff4b-3369-49bb-81da-e9b94cdbc0b1"
      },
      "outputs": [
        {
          "data": {
            "text/plain": [
              "{'name': 'Alice', 1: 'Python', (1, 2): [1, 2, 4], 'city': 'Iraq'}"
            ]
          },
          "execution_count": 82,
          "metadata": {},
          "output_type": "execute_result"
        }
      ],
      "source": [
        "d['city'] = 'Iraq'\n",
        "d"
      ]
    },
    {
      "cell_type": "code",
      "execution_count": null,
      "metadata": {
        "colab": {
          "base_uri": "https://localhost:8080/"
        },
        "id": "kuonTY4zgqSV",
        "outputId": "4db065df-d105-4fec-a6c4-29508eec39e8"
      },
      "outputs": [
        {
          "name": "stdout",
          "output_type": "stream",
          "text": [
            "baghdad\n"
          ]
        }
      ],
      "source": [
        "print(d.pop('city'))"
      ]
    },
    {
      "cell_type": "code",
      "execution_count": null,
      "metadata": {
        "colab": {
          "base_uri": "https://localhost:8080/"
        },
        "id": "tzaOBt4bhScL",
        "outputId": "6159a6ac-5f08-4407-b97f-14db2361ccae"
      },
      "outputs": [
        {
          "data": {
            "text/plain": [
              "{}"
            ]
          },
          "execution_count": 91,
          "metadata": {},
          "output_type": "execute_result"
        }
      ],
      "source": [
        "d.clear()\n",
        "d"
      ]
    },
    {
      "cell_type": "code",
      "execution_count": null,
      "metadata": {
        "colab": {
          "base_uri": "https://localhost:8080/"
        },
        "id": "dIS8OyiEh77d",
        "outputId": "c3dffb37-d1a3-4fe5-cf5b-ab7f4a3fce8d"
      },
      "outputs": [
        {
          "name": "stdout",
          "output_type": "stream",
          "text": [
            "1\n",
            "2\n",
            "age\n"
          ]
        }
      ],
      "source": [
        "d = {1: 'Geeks', 2: 'For', 'age':22}\n",
        "\n",
        "for key in d:\n",
        "  print(key)"
      ]
    },
    {
      "cell_type": "code",
      "execution_count": null,
      "metadata": {
        "colab": {
          "base_uri": "https://localhost:8080/"
        },
        "id": "0K3OATZfiKGO",
        "outputId": "6ba2b81d-bfd7-4794-e383-8c9e860b593e"
      },
      "outputs": [
        {
          "name": "stdout",
          "output_type": "stream",
          "text": [
            "Geeks\n",
            "For\n",
            "22\n"
          ]
        }
      ],
      "source": [
        "for value in d.values():\n",
        "  print(value)"
      ]
    },
    {
      "cell_type": "code",
      "execution_count": null,
      "metadata": {
        "colab": {
          "base_uri": "https://localhost:8080/"
        },
        "id": "6vxKPnU_iTFx",
        "outputId": "82556987-3ee3-4a20-b0d3-4c3f601b2c22"
      },
      "outputs": [
        {
          "name": "stdout",
          "output_type": "stream",
          "text": [
            "1 Geeks\n",
            "2 For\n",
            "age 22\n"
          ]
        }
      ],
      "source": [
        "for key, value in d.items():\n",
        "  print(key, value)"
      ]
    },
    {
      "cell_type": "code",
      "execution_count": null,
      "metadata": {
        "colab": {
          "base_uri": "https://localhost:8080/"
        },
        "id": "sJkxSco5irBF",
        "outputId": "e95236f8-45be-4aca-9bf3-28fe9823f178"
      },
      "outputs": [
        {
          "name": "stdout",
          "output_type": "stream",
          "text": [
            "3\n"
          ]
        }
      ],
      "source": [
        "print(len(d))"
      ]
    },
    {
      "cell_type": "code",
      "execution_count": null,
      "metadata": {
        "colab": {
          "base_uri": "https://localhost:8080/"
        },
        "id": "xSj6jZzjivyy",
        "outputId": "ba1e2a7c-1afa-4029-f0ec-ee1777d58b52"
      },
      "outputs": [
        {
          "name": "stdout",
          "output_type": "stream",
          "text": [
            "<class 'dict'>\n"
          ]
        }
      ],
      "source": [
        "print(type(d))"
      ]
    },
    {
      "cell_type": "code",
      "execution_count": null,
      "metadata": {
        "colab": {
          "base_uri": "https://localhost:8080/"
        },
        "id": "HOfngvtzi0Ns",
        "outputId": "f3d76238-e092-41ff-c7a7-be66662b240c"
      },
      "outputs": [
        {
          "name": "stdout",
          "output_type": "stream",
          "text": [
            "{'a': '1', 'b': '2'}\n"
          ]
        }
      ],
      "source": [
        "d = dict(a = '1', b = '2')\n",
        "print(d)"
      ]
    },
    {
      "cell_type": "code",
      "execution_count": null,
      "metadata": {
        "colab": {
          "base_uri": "https://localhost:8080/"
        },
        "id": "NX32Ik9xkW3h",
        "outputId": "a4eaf192-24f7-45a5-adb5-35cca432ee6d"
      },
      "outputs": [
        {
          "data": {
            "text/plain": [
              "{'a': 55, 'b': '2'}"
            ]
          },
          "execution_count": 117,
          "metadata": {},
          "output_type": "execute_result"
        }
      ],
      "source": [
        "d['a'] = 55\n",
        "d"
      ]
    },
    {
      "cell_type": "code",
      "execution_count": null,
      "metadata": {
        "colab": {
          "base_uri": "https://localhost:8080/"
        },
        "id": "ROxWpvCSjX-t",
        "outputId": "7dd223f5-95fb-4eb5-a053-a83bd220baa9"
      },
      "outputs": [
        {
          "name": "stdout",
          "output_type": "stream",
          "text": [
            "dict_items([('a', '1'), ('b', '2')])\n"
          ]
        }
      ],
      "source": [
        "print(d.items())"
      ]
    },
    {
      "cell_type": "code",
      "execution_count": null,
      "metadata": {
        "colab": {
          "base_uri": "https://localhost:8080/"
        },
        "id": "G-MBLfIdjwhv",
        "outputId": "b8211a89-bdc5-48c7-d6f0-261c9584482c"
      },
      "outputs": [
        {
          "name": "stdout",
          "output_type": "stream",
          "text": [
            "False\n"
          ]
        }
      ],
      "source": [
        "if c in d:\n",
        "  print(True)\n",
        "else:\n",
        "  print(False)"
      ]
    },
    {
      "cell_type": "code",
      "execution_count": null,
      "metadata": {
        "colab": {
          "base_uri": "https://localhost:8080/"
        },
        "id": "18RggL6LkQ39",
        "outputId": "0f83f7b5-7528-4298-936d-932d06fe22c8"
      },
      "outputs": [
        {
          "name": "stdout",
          "output_type": "stream",
          "text": [
            "apple\n",
            "banana\n",
            "cherry\n"
          ]
        }
      ],
      "source": [
        "thistuple = (\"apple\", \"banana\", \"cherry\")\n",
        "\n",
        "t = 0\n",
        "\n",
        "while t < len(thistuple):\n",
        "  print(thistuple[t])\n",
        "  t += 1"
      ]
    },
    {
      "cell_type": "code",
      "execution_count": null,
      "metadata": {
        "colab": {
          "base_uri": "https://localhost:8080/"
        },
        "id": "yU8iZ9F9mo_a",
        "outputId": "f86c6a1d-966b-48dd-e222-d2aa4e5ab240"
      },
      "outputs": [
        {
          "name": "stdout",
          "output_type": "stream",
          "text": [
            "{'apple', 'papaya', 'pineapple', 'mango', 'banana', 'cherry'}\n"
          ]
        }
      ],
      "source": [
        "thisset = {\"apple\", \"banana\", \"cherry\"}\n",
        "tropical = {\"pineapple\", \"mango\", \"papaya\"}\n",
        "\n",
        "thisset.update(tropical)\n",
        "print(thisset)"
      ]
    },
    {
      "cell_type": "code",
      "execution_count": null,
      "metadata": {
        "id": "h-cP-MxsrYnq"
      },
      "outputs": [],
      "source": []
    },
    {
      "cell_type": "code",
      "execution_count": null,
      "metadata": {
        "colab": {
          "base_uri": "https://localhost:8080/"
        },
        "id": "fmep0glTrYrF",
        "outputId": "2f7749c6-4b4f-46c9-8d6e-b0ca8b25bd50"
      },
      "outputs": [
        {
          "name": "stdout",
          "output_type": "stream",
          "text": [
            "Yes\n"
          ]
        }
      ],
      "source": [
        "x = 9\n",
        "\n",
        "if x > 8:\n",
        "  print('Yes')\n",
        "else:\n",
        "  print('No')"
      ]
    },
    {
      "cell_type": "code",
      "execution_count": null,
      "metadata": {
        "colab": {
          "base_uri": "https://localhost:8080/"
        },
        "id": "wCLHmwF8rYui",
        "outputId": "9d734264-1395-4c56-a2a8-3a8a8342ecfa"
      },
      "outputs": [
        {
          "name": "stdout",
          "output_type": "stream",
          "text": [
            "0\n",
            "1\n",
            "2\n",
            "3\n",
            "4\n",
            "5\n",
            "6\n",
            "7\n",
            "8\n"
          ]
        }
      ],
      "source": [
        "for i in range(9):\n",
        "  print(i)"
      ]
    },
    {
      "cell_type": "code",
      "execution_count": null,
      "metadata": {
        "id": "zDMUlTOgrY2O",
        "colab": {
          "base_uri": "https://localhost:8080/"
        },
        "outputId": "25373ba8-74a1-4d71-b744-ef8858f20832"
      },
      "outputs": [
        {
          "output_type": "stream",
          "name": "stdout",
          "text": [
            "9\n",
            "10\n",
            "11\n",
            "12\n",
            "13\n",
            "14\n",
            "15\n",
            "16\n",
            "17\n",
            "18\n",
            "19\n"
          ]
        }
      ],
      "source": [
        "x = 9\n",
        "\n",
        "while x < 20:\n",
        "  print(x)\n",
        "  x += 1"
      ]
    },
    {
      "cell_type": "code",
      "execution_count": null,
      "metadata": {
        "id": "HJr9i5ERrY56",
        "colab": {
          "base_uri": "https://localhost:8080/"
        },
        "outputId": "6036157d-2c9d-411c-d2b4-d221f38d1eee"
      },
      "outputs": [
        {
          "output_type": "stream",
          "name": "stdout",
          "text": [
            "None\n"
          ]
        }
      ],
      "source": [
        "l = [1, 2, 3, 4, 5]\n",
        "listt = l.append(6)\n",
        "print(listt)"
      ]
    },
    {
      "cell_type": "code",
      "execution_count": null,
      "metadata": {
        "id": "PXRkNE0TrY9W",
        "colab": {
          "base_uri": "https://localhost:8080/"
        },
        "outputId": "6bb3cb8d-6454-42bd-cb1d-7454d9fe746e"
      },
      "outputs": [
        {
          "output_type": "stream",
          "name": "stdout",
          "text": [
            "[1, 2, 3, 4, 5, 6]\n"
          ]
        }
      ],
      "source": [
        "listt = [1, 2, 3, 4, 5]\n",
        "listt.append(6)\n",
        "print(listt)"
      ]
    },
    {
      "cell_type": "code",
      "execution_count": null,
      "metadata": {
        "id": "IaPLBV_DrZMG",
        "colab": {
          "base_uri": "https://localhost:8080/"
        },
        "outputId": "fbd5029a-58f5-4527-8c67-20aba6242bf1"
      },
      "outputs": [
        {
          "output_type": "stream",
          "name": "stdout",
          "text": [
            "[1, 2, 3, 4, 5, 6]\n"
          ]
        }
      ],
      "source": [
        "print(sorted(listt))"
      ]
    },
    {
      "cell_type": "code",
      "execution_count": null,
      "metadata": {
        "id": "g53pET5SrZPl",
        "colab": {
          "base_uri": "https://localhost:8080/"
        },
        "outputId": "369e0cf8-6eac-47e4-c94f-a983fa13dcb8"
      },
      "outputs": [
        {
          "output_type": "stream",
          "name": "stdout",
          "text": [
            "5.0\n"
          ]
        }
      ],
      "source": [
        "x = 10\n",
        "\n",
        "if x < 12:\n",
        "  x = x / 2\n",
        "else:\n",
        "  x = x * 2\n",
        "\n",
        "print(x)"
      ]
    },
    {
      "cell_type": "code",
      "execution_count": null,
      "metadata": {
        "id": "hpztbx4srZTo",
        "colab": {
          "base_uri": "https://localhost:8080/"
        },
        "outputId": "511726af-5167-40c5-bc55-11a2e907d5f0"
      },
      "outputs": [
        {
          "output_type": "stream",
          "name": "stdout",
          "text": [
            "16\n"
          ]
        }
      ],
      "source": [
        "x = 8\n",
        "\n",
        "if x > 4 and x < 10:\n",
        "  x = x * 2\n",
        "else:\n",
        "  x = x / 2\n",
        "\n",
        "print(x)"
      ]
    },
    {
      "cell_type": "code",
      "execution_count": null,
      "metadata": {
        "id": "G9O9A7mvrZaH",
        "colab": {
          "base_uri": "https://localhost:8080/"
        },
        "outputId": "f0f5c41f-06b2-4656-aca7-c2c3f2684f9f"
      },
      "outputs": [
        {
          "output_type": "stream",
          "name": "stdout",
          "text": [
            "Enter some number: 10\n",
            "Result:  5.0\n"
          ]
        }
      ],
      "source": [
        "w = int(input('Enter some number: '))\n",
        "\n",
        "if w > 20 and w < 30:\n",
        "  R = w * 2\n",
        "else:\n",
        "  R = w / 2\n",
        "\n",
        "print('Result: ', R)"
      ]
    },
    {
      "cell_type": "code",
      "execution_count": null,
      "metadata": {
        "id": "SLcuM9pgrZeN",
        "colab": {
          "base_uri": "https://localhost:8080/"
        },
        "outputId": "abdd16aa-d5ef-45e5-9a68-b4fefdd59546"
      },
      "outputs": [
        {
          "output_type": "stream",
          "name": "stdout",
          "text": [
            "أدخل رقمًا صحيحًا (لإيقاف الحلقة، أدخل 0): 5\n",
            "الرقم موجب.\n",
            "أدخل رقمًا صحيحًا (لإيقاف الحلقة، أدخل 0): -5\n",
            "الرقم سالب.\n",
            "أدخل رقمًا صحيحًا (لإيقاف الحلقة، أدخل 0): 0\n",
            "تم إنهاء الحلقة.\n"
          ]
        }
      ],
      "source": [
        "x = int(input(\"أدخل رقمًا صحيحًا (لإيقاف الحلقة، أدخل 0): \"))\n",
        "\n",
        "# تشغيل الحلقة طالما أن المستخدم لم يدخل الرقم 0\n",
        "while x != 0:\n",
        "    if x > 0:\n",
        "        print(\"الرقم موجب.\")\n",
        "    else:\n",
        "        print(\"الرقم سالب.\")\n",
        "\n",
        "    # طلب إدخال جديد\n",
        "    x = int(input(\"أدخل رقمًا صحيحًا (لإيقاف الحلقة، أدخل 0): \"))\n",
        "\n",
        "print(\"تم إنهاء الحلقة.\")\n"
      ]
    },
    {
      "cell_type": "code",
      "source": [
        "x = int(input('Enter an integer number (enter 0 to exit): '))\n",
        "\n",
        "while x != 0:\n",
        "  if x > 0:\n",
        "    print('Plus')\n",
        "  else:\n",
        "    print('Minus')\n",
        "\n",
        "  x = int(input('Enter an integer number (enter 0 to exit): '))\n",
        "\n",
        "print('The loop is finish')"
      ],
      "metadata": {
        "colab": {
          "base_uri": "https://localhost:8080/"
        },
        "id": "LhL--dPN16f3",
        "outputId": "fe208bdb-669e-41d2-e28d-f1ddc908ba68"
      },
      "execution_count": null,
      "outputs": [
        {
          "output_type": "stream",
          "name": "stdout",
          "text": [
            "Enter an integer number (enter 0 to exit): 5\n",
            "Plus\n",
            "Enter an integer number (enter 0 to exit): -8\n",
            "Minus\n",
            "Enter an integer number (enter 0 to exit): 0\n",
            "The loop is finish\n"
          ]
        }
      ]
    },
    {
      "cell_type": "code",
      "source": [
        "x = float(input('Enter an integer number (enter 0 to exit): '))\n",
        "\n",
        "while x != 0:\n",
        "  if x > 0:\n",
        "    print('Plus')\n",
        "  else:\n",
        "    print('Minus')\n",
        "\n",
        "  x = float(input('Enter an integer number (enter 0 to exit): '))\n",
        "\n",
        "print('The loop is finish')"
      ],
      "metadata": {
        "colab": {
          "base_uri": "https://localhost:8080/"
        },
        "id": "qz6k7A8k16jm",
        "outputId": "c465eaf1-eb3c-4adc-d61c-4f00083a4a76"
      },
      "execution_count": null,
      "outputs": [
        {
          "output_type": "stream",
          "name": "stdout",
          "text": [
            "Enter an integer number (enter 0 to exit): 5\n",
            "Plus\n",
            "Enter an integer number (enter 0 to exit): -5\n",
            "Minus\n",
            "Enter an integer number (enter 0 to exit): 5.5\n",
            "Plus\n",
            "Enter an integer number (enter 0 to exit): 0\n",
            "The loop is finish\n"
          ]
        }
      ]
    },
    {
      "cell_type": "code",
      "source": [
        "# while True:\n",
        "  # print('هذه حلقة لا نهائية')"
      ],
      "metadata": {
        "id": "HNZOA6iP16nY"
      },
      "execution_count": 1,
      "outputs": []
    },
    {
      "cell_type": "code",
      "source": [
        "while True:\n",
        "  x = int(input('Enter number: '))\n",
        "  if x > 9:\n",
        "    print(\"Yes\")\n",
        "  elif x < 9 and x > 0:\n",
        "    # print('No')\n",
        "    continue\n",
        "  elif x == 0:\n",
        "    print('Good bye')\n",
        "    break\n",
        "  else:\n",
        "    print('wtf')"
      ],
      "metadata": {
        "id": "D9KmD8Sz16q5",
        "colab": {
          "base_uri": "https://localhost:8080/"
        },
        "outputId": "09665a28-fbc8-42a7-e82f-ce16dc78a715"
      },
      "execution_count": 8,
      "outputs": [
        {
          "output_type": "stream",
          "name": "stdout",
          "text": [
            "Enter number: 0\n",
            "Good bye\n"
          ]
        }
      ]
    },
    {
      "cell_type": "code",
      "source": [
        "names = ['Moohamed', 'Ahmed', 'Ali']\n",
        "\n",
        "for name in names:\n",
        "  print(name)"
      ],
      "metadata": {
        "id": "PKUK7SNa163_",
        "colab": {
          "base_uri": "https://localhost:8080/"
        },
        "outputId": "efa5a07b-c71a-4fbd-9c79-46fa13ce9da6"
      },
      "execution_count": 10,
      "outputs": [
        {
          "output_type": "stream",
          "name": "stdout",
          "text": [
            "Moohamed\n",
            "Ahmed\n",
            "Ali\n"
          ]
        }
      ]
    },
    {
      "cell_type": "code",
      "source": [
        "for i in range(5):\n",
        "    print(i)"
      ],
      "metadata": {
        "id": "gxO4DvG7168E",
        "colab": {
          "base_uri": "https://localhost:8080/"
        },
        "outputId": "28f33b8f-f72c-4d47-8698-862d8cb9d73c"
      },
      "execution_count": 12,
      "outputs": [
        {
          "output_type": "stream",
          "name": "stdout",
          "text": [
            "0\n",
            "1\n",
            "2\n",
            "3\n",
            "4\n"
          ]
        }
      ]
    },
    {
      "cell_type": "code",
      "source": [
        "for i in range(3, 9):\n",
        "  print(i)"
      ],
      "metadata": {
        "colab": {
          "base_uri": "https://localhost:8080/"
        },
        "id": "2l_SolZA6pIH",
        "outputId": "29f23a13-2df3-482c-d8cd-dd9dfc4376a4"
      },
      "execution_count": 14,
      "outputs": [
        {
          "output_type": "stream",
          "name": "stdout",
          "text": [
            "3\n",
            "4\n",
            "5\n",
            "6\n",
            "7\n",
            "8\n"
          ]
        }
      ]
    },
    {
      "cell_type": "code",
      "source": [
        "for i in range(2, 8, 2):\n",
        "  print(i)"
      ],
      "metadata": {
        "colab": {
          "base_uri": "https://localhost:8080/"
        },
        "id": "aAkPhsXX6oFo",
        "outputId": "b107ee05-8614-4996-ce60-d3ebe3cb4009"
      },
      "execution_count": 15,
      "outputs": [
        {
          "output_type": "stream",
          "name": "stdout",
          "text": [
            "2\n",
            "4\n",
            "6\n"
          ]
        }
      ]
    },
    {
      "cell_type": "code",
      "source": [
        "# طباعة الأرقام القابلة للقسمة على 3 حتى الرقم المدخل\n",
        "limit = int(input(\"أدخل رقمًا: \"))\n",
        "print(f\"الأرقام القابلة للقسمة على 3 حتى {limit}:\")\n",
        "for i in range(3, limit + 1, 3):\n",
        "    print(i)"
      ],
      "metadata": {
        "colab": {
          "base_uri": "https://localhost:8080/"
        },
        "id": "2ZgkqTJD6oJa",
        "outputId": "15369e55-d018-4159-f07c-93c06919b517"
      },
      "execution_count": 16,
      "outputs": [
        {
          "output_type": "stream",
          "name": "stdout",
          "text": [
            "أدخل رقمًا: 9\n",
            "الأرقام القابلة للقسمة على 3 حتى 9:\n",
            "3\n",
            "6\n",
            "9\n"
          ]
        }
      ]
    },
    {
      "cell_type": "code",
      "source": [
        "limit = int(input('Enter your limit number: '))\n",
        "print(f'Nums which we can make it on {limit} without elsing:')\n",
        "for i in range(3, limit + 1, 3):\n",
        "    print(i)"
      ],
      "metadata": {
        "colab": {
          "base_uri": "https://localhost:8080/"
        },
        "id": "GJQyv5Kj6oMq",
        "outputId": "112f6dcd-7c4a-4c49-a4a0-39a87b7be889"
      },
      "execution_count": 22,
      "outputs": [
        {
          "output_type": "stream",
          "name": "stdout",
          "text": [
            "Enter your limit number: 29\n",
            "Nums which we can make it on 29 without elsing:\n",
            "3\n",
            "6\n",
            "9\n",
            "12\n",
            "15\n",
            "18\n",
            "21\n",
            "24\n",
            "27\n"
          ]
        }
      ]
    },
    {
      "cell_type": "code",
      "source": [
        "# charecter = 'Ahmed'\n",
        "for charecter in 'Ahmed':\n",
        "  print(charecter)"
      ],
      "metadata": {
        "colab": {
          "base_uri": "https://localhost:8080/"
        },
        "id": "AHfzyqt36oQW",
        "outputId": "9df7030a-2e5e-48f1-c95a-707b884a492d"
      },
      "execution_count": 24,
      "outputs": [
        {
          "output_type": "stream",
          "name": "stdout",
          "text": [
            "A\n",
            "h\n",
            "m\n",
            "e\n",
            "d\n"
          ]
        }
      ]
    },
    {
      "cell_type": "code",
      "source": [
        "for char in 'Fadilsa':\n",
        "  print(char)"
      ],
      "metadata": {
        "id": "exssOA9116_r",
        "colab": {
          "base_uri": "https://localhost:8080/"
        },
        "outputId": "d2c8be55-b6d2-4286-e48a-48ece330e65e"
      },
      "execution_count": 25,
      "outputs": [
        {
          "output_type": "stream",
          "name": "stdout",
          "text": [
            "F\n",
            "a\n",
            "d\n",
            "i\n",
            "l\n",
            "s\n",
            "a\n"
          ]
        }
      ]
    },
    {
      "cell_type": "code",
      "source": [
        "listt = [1, 2, 3, 4, 5]\n",
        "for i in listt:\n",
        "  print(i)"
      ],
      "metadata": {
        "colab": {
          "base_uri": "https://localhost:8080/"
        },
        "id": "1jjFSSSw92Qj",
        "outputId": "cfc9d494-e568-428a-be68-2a7e52f2f30d"
      },
      "execution_count": 26,
      "outputs": [
        {
          "output_type": "stream",
          "name": "stdout",
          "text": [
            "1\n",
            "2\n",
            "3\n",
            "4\n",
            "5\n"
          ]
        }
      ]
    },
    {
      "cell_type": "code",
      "source": [
        "for i in range(19, 9, -2):\n",
        "  print(i)"
      ],
      "metadata": {
        "colab": {
          "base_uri": "https://localhost:8080/"
        },
        "id": "0us43EKp92VA",
        "outputId": "e6cfa78c-2bce-4ccd-f38b-30eeb5c78341"
      },
      "execution_count": 28,
      "outputs": [
        {
          "output_type": "stream",
          "name": "stdout",
          "text": [
            "19\n",
            "17\n",
            "15\n",
            "13\n",
            "11\n"
          ]
        }
      ]
    },
    {
      "cell_type": "code",
      "source": [
        "for i in range(19, 9, -2):\n",
        "  # print(i)\n",
        "  if i == 13:\n",
        "    break\n",
        "  print(i)"
      ],
      "metadata": {
        "colab": {
          "base_uri": "https://localhost:8080/"
        },
        "id": "HIz00E1S92Y5",
        "outputId": "a1cc5e54-ce45-410d-8479-2b5f7bedcc24"
      },
      "execution_count": 39,
      "outputs": [
        {
          "output_type": "stream",
          "name": "stdout",
          "text": [
            "19\n",
            "17\n",
            "15\n"
          ]
        }
      ]
    },
    {
      "cell_type": "code",
      "source": [
        "for i in range(19, 9, -2):\n",
        "  # print(i)\n",
        "  if i == 15:\n",
        "    continue\n",
        "  print(i)"
      ],
      "metadata": {
        "colab": {
          "base_uri": "https://localhost:8080/"
        },
        "id": "mj1BAUif92fl",
        "outputId": "01ee7426-5f21-4cf7-b24a-64ffe0016087"
      },
      "execution_count": 38,
      "outputs": [
        {
          "output_type": "stream",
          "name": "stdout",
          "text": [
            "19\n",
            "17\n",
            "13\n",
            "11\n"
          ]
        }
      ]
    },
    {
      "cell_type": "code",
      "source": [
        "message = input('Enter message (or let it empty to exite): ')\n",
        "\n",
        "while message != '':\n",
        "  n = int(input('How many time u want to repeat the message (Enter 0 to exite): '))\n",
        "  if n < 0:\n",
        "    print('n should be positive')\n",
        "    continue\n",
        "  elif n == 0:\n",
        "    break\n",
        "  for i in range(n):\n",
        "    print(message)\n",
        "  message = input('Enter message (or let it empty to exite): ')"
      ],
      "metadata": {
        "colab": {
          "base_uri": "https://localhost:8080/"
        },
        "id": "iOPsVe8q92i-",
        "outputId": "660637da-ecda-454c-cb31-791e0d2d07e4"
      },
      "execution_count": 45,
      "outputs": [
        {
          "name": "stdout",
          "output_type": "stream",
          "text": [
            "Enter message (or let it empty to exite): Hiii\n",
            "How many time u want to repeat the message (Enter 0 to exite): 9\n",
            "Hiii\n",
            "Hiii\n",
            "Hiii\n",
            "Hiii\n",
            "Hiii\n",
            "Hiii\n",
            "Hiii\n",
            "Hiii\n",
            "Hiii\n",
            "Enter message (or let it empty to exite): Fadilsa\n",
            "How many time u want to repeat the message (Enter 0 to exite): 3\n",
            "Fadilsa\n",
            "Fadilsa\n",
            "Fadilsa\n",
            "Enter message (or let it empty to exite): Sooo\n",
            "How many time u want to repeat the message (Enter 0 to exite): 0\n"
          ]
        }
      ]
    },
    {
      "cell_type": "code",
      "source": [
        "m = 'hiii'\n",
        "n = 5\n",
        "for i in range(n):\n",
        "  print(m)"
      ],
      "metadata": {
        "colab": {
          "base_uri": "https://localhost:8080/"
        },
        "id": "lsMpdb1f92mw",
        "outputId": "b1d2191c-a80c-4228-8db8-bcf45c5f76d1"
      },
      "execution_count": 46,
      "outputs": [
        {
          "output_type": "stream",
          "name": "stdout",
          "text": [
            "hiii\n",
            "hiii\n",
            "hiii\n",
            "hiii\n",
            "hiii\n"
          ]
        }
      ]
    },
    {
      "cell_type": "code",
      "source": [
        "m = 'hiii'\n",
        "n = 5\n",
        "for _ in range(n):\n",
        "  print(m)"
      ],
      "metadata": {
        "colab": {
          "base_uri": "https://localhost:8080/"
        },
        "id": "9RxD7PGL92qL",
        "outputId": "d7a2f16d-ecc9-4563-c5f2-028b05105b9d"
      },
      "execution_count": 47,
      "outputs": [
        {
          "output_type": "stream",
          "name": "stdout",
          "text": [
            "hiii\n",
            "hiii\n",
            "hiii\n",
            "hiii\n",
            "hiii\n"
          ]
        }
      ]
    },
    {
      "cell_type": "code",
      "source": [
        "l = []\n",
        "print(l)"
      ],
      "metadata": {
        "colab": {
          "base_uri": "https://localhost:8080/"
        },
        "id": "4-wGcJAWNmzx",
        "outputId": "aebf0785-6f85-46ac-dac2-5fc983307311"
      },
      "execution_count": 51,
      "outputs": [
        {
          "output_type": "stream",
          "name": "stdout",
          "text": [
            "[]\n"
          ]
        }
      ]
    },
    {
      "cell_type": "code",
      "source": [
        "listt = [1, 'hi', True, 1.5]\n",
        "\n",
        "print(listt)\n",
        "\n",
        "print(listt[2])\n",
        "\n",
        "listt[2] = False\n",
        "print(listt)\n",
        "\n",
        "listt.append(True)\n",
        "print(listt)\n",
        "\n",
        "listt[1] = 99\n",
        "print(listt)\n",
        "\n",
        "listt.remove(False)\n",
        "print(listt)\n",
        "\n",
        "listt.pop(1)\n",
        "print(listt)"
      ],
      "metadata": {
        "colab": {
          "base_uri": "https://localhost:8080/"
        },
        "id": "va-mRyMP92tt",
        "outputId": "1efac6ff-024d-4821-e70f-bf9766c26ff9"
      },
      "execution_count": 58,
      "outputs": [
        {
          "output_type": "stream",
          "name": "stdout",
          "text": [
            "[1, 'hi', True, 1.5]\n",
            "True\n",
            "[1, 'hi', False, 1.5]\n",
            "[1, 'hi', False, 1.5, True]\n",
            "[1, 99, False, 1.5, True]\n",
            "[1, 99, 1.5, True]\n",
            "[1, 1.5, True]\n"
          ]
        }
      ]
    },
    {
      "cell_type": "code",
      "source": [],
      "metadata": {
        "id": "gf6tt1vzNWwZ"
      },
      "execution_count": null,
      "outputs": []
    },
    {
      "cell_type": "code",
      "source": [],
      "metadata": {
        "id": "CQ7SbnJqNW0i"
      },
      "execution_count": null,
      "outputs": []
    },
    {
      "cell_type": "code",
      "source": [],
      "metadata": {
        "id": "iJQsfRNdNW3-"
      },
      "execution_count": null,
      "outputs": []
    },
    {
      "cell_type": "code",
      "source": [],
      "metadata": {
        "id": "w9Yghy2ONW_B"
      },
      "execution_count": null,
      "outputs": []
    },
    {
      "cell_type": "code",
      "source": [],
      "metadata": {
        "id": "MZID5IoFNXC_"
      },
      "execution_count": null,
      "outputs": []
    },
    {
      "cell_type": "code",
      "source": [],
      "metadata": {
        "id": "DkwyTQU6NXG-"
      },
      "execution_count": null,
      "outputs": []
    },
    {
      "cell_type": "code",
      "source": [],
      "metadata": {
        "id": "hGDJnTZSNXKm"
      },
      "execution_count": null,
      "outputs": []
    },
    {
      "cell_type": "code",
      "source": [],
      "metadata": {
        "id": "jbFzn3BNNXOV"
      },
      "execution_count": null,
      "outputs": []
    },
    {
      "cell_type": "code",
      "source": [],
      "metadata": {
        "id": "qqKAQngcNXRu"
      },
      "execution_count": null,
      "outputs": []
    }
  ],
  "metadata": {
    "colab": {
      "provenance": [],
      "authorship_tag": "ABX9TyPxoziuisnIGFEsxg4mHxFS"
    },
    "kernelspec": {
      "display_name": "Python 3",
      "name": "python3"
    },
    "language_info": {
      "name": "python"
    }
  },
  "nbformat": 4,
  "nbformat_minor": 0
}