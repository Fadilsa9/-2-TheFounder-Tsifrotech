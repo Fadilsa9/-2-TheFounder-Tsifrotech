{
  "nbformat": 4,
  "nbformat_minor": 0,
  "metadata": {
    "colab": {
      "provenance": [],
      "authorship_tag": "ABX9TyPTsw7GomUMf3Z++tScEY4Q"
    },
    "kernelspec": {
      "name": "python3",
      "display_name": "Python 3"
    },
    "language_info": {
      "name": "python"
    }
  },
  "cells": [
    {
      "cell_type": "markdown",
      "source": [
        "У пользователя запрашивается число, и в результате программа сообщает, является ли это число положительным четным, положительным нечетным, отрицательным или нулём."
      ],
      "metadata": {
        "id": "ty7sEDzSgFu9"
      }
    },
    {
      "cell_type": "code",
      "source": [
        "num = float(input(\"Введите число: \"))\n",
        "\n",
        "if num > 0:\n",
        "  # Определяем четное или не четное число\n",
        "  adjective = \" \"\n",
        "  if num % 2 == 0:\n",
        "    adjective = \"четное\"\n",
        "  else:\n",
        "    adjective = \"нечетное\"\n",
        "  res = \"Это \" + adjective + \" положительное число\"\n",
        "elif  num < 0:\n",
        "  res = \"Введено отрицательное число\"\n",
        "else:\n",
        "  res = \"Введен ноль\"\n",
        "\n",
        "print(res)"
      ],
      "metadata": {
        "colab": {
          "base_uri": "https://localhost:8080/"
        },
        "id": "hZffUZEnhRni",
        "outputId": "e7a23e89-41d1-45c0-f822-424a636714cf"
      },
      "execution_count": null,
      "outputs": [
        {
          "output_type": "stream",
          "name": "stdout",
          "text": [
            "Введите число: 99\n",
            "Это нечетное положительное число\n"
          ]
        }
      ]
    },
    {
      "cell_type": "markdown",
      "source": [
        "Здесь ползователь будет вводить число, и получать сообщение, положительное или отрициательное число он ввел, до тех пор, пока не введет нель."
      ],
      "metadata": {
        "id": "RR108DeEp39F"
      }
    },
    {
      "cell_type": "code",
      "source": [
        "num = int(input(\"Inter a number (0 to exit) \"))\n",
        "\n",
        "while num != 0:\n",
        "    if num > 0:\n",
        "        print(\"This is a positive number\")\n",
        "    else:\n",
        "        print(\"This is a negative number\")\n",
        "\n",
        "    num = int(input(\"Inter a number (0 to exit) \"))"
      ],
      "metadata": {
        "colab": {
          "base_uri": "https://localhost:8080/"
        },
        "id": "FbErBTdAo-LS",
        "outputId": "50d7d509-45ad-43ee-cac7-cbe449d5f522"
      },
      "execution_count": null,
      "outputs": [
        {
          "name": "stdout",
          "output_type": "stream",
          "text": [
            "Inter a number (0 to exit) 99\n",
            "This is a positive number\n",
            "Inter a number (0 to exit) -99\n",
            "This is a negative number\n",
            "Inter a number (0 to exit) 0\n"
          ]
        }
      ]
    },
    {
      "cell_type": "markdown",
      "source": [
        "Используем цикл for совместно с функцией range для вывода на экран всех значений, кратных трем, от нуля и до введенного пользователем числа, включая его:"
      ],
      "metadata": {
        "id": "7a58hLJpfjOW"
      }
    },
    {
      "cell_type": "code",
      "execution_count": null,
      "metadata": {
        "colab": {
          "base_uri": "https://localhost:8080/"
        },
        "id": "r_Zgac61fBlu",
        "outputId": "cc2d4334-8835-4f98-b04b-ece50aa74417"
      },
      "outputs": [
        {
          "output_type": "stream",
          "name": "stdout",
          "text": [
            "Введите целое число: 21\n",
            "Все числа, кратные трем до 21 :\n",
            "3\n",
            "6\n",
            "9\n",
            "12\n",
            "15\n",
            "18\n",
            "21\n"
          ]
        }
      ],
      "source": [
        "limit = int(input(\"Введите целое число: \"))\n",
        "print(\"Все числа, кратные трем до\", limit, \":\")\n",
        "\n",
        "for i in range(3, limit + 1, 3):\n",
        "    print(i)"
      ]
    },
    {
      "cell_type": "markdown",
      "source": [
        "В следующем фрагменте кода цикл for вложен в тело цикла while для повторения фразы, введенной пользователем, определенное количество раз, пока им не будет введена пустая строка."
      ],
      "metadata": {
        "id": "tfaUQIYozKJY"
      }
    },
    {
      "cell_type": "code",
      "source": [
        "message = input(\"Введите сообщение, или оставьте его пустым для выхода: \")\n",
        "\n",
        "while message != \"\":\n",
        "    nm = int(input(\"Сколько раз повторить сообщение? нажмите 0 для выхода \"))\n",
        "\n",
        "    if nm < 0:\n",
        "        print(\"Число повторений должно быть положительним\")\n",
        "        continue\n",
        "    elif nm == 0:\n",
        "        break\n",
        "\n",
        "    for i in range(nm):\n",
        "        print(message)\n",
        "\n",
        "    message = input(\"Введите сообщение, или оставьте его пустым для выхода: \")"
      ],
      "metadata": {
        "colab": {
          "base_uri": "https://localhost:8080/"
        },
        "id": "7kJImf4YzBIa",
        "outputId": "379781d5-61a1-4cc5-ac39-53c8ac8e94d4"
      },
      "execution_count": null,
      "outputs": [
        {
          "name": "stdout",
          "output_type": "stream",
          "text": [
            "Введите сообщение, или оставьте его пустым для выхода: Baghdad\n",
            "Сколько раз повторить сообщение? нажмите 0 для выхода 3\n",
            "Baghdad\n",
            "Baghdad\n",
            "Baghdad\n",
            "Введите сообщение, или оставьте его пустым для выхода: Iraq\n",
            "Сколько раз повторить сообщение? нажмите 0 для выхода 0\n"
          ]
        }
      ]
    },
    {
      "cell_type": "markdown",
      "source": [
        "В следующем фрагменте кода цикл for используется для суммирования элементов из списка:"
      ],
      "metadata": {
        "id": "kBgXpcYr6tqT"
      }
    },
    {
      "cell_type": "code",
      "source": [
        "# Инициализируем переменные list_nums and sum\n",
        "list_nums = [1, 2, 3, 4, 5, 6, 7, 8, 9]\n",
        "sum = 0\n",
        "\n",
        "# Сумируем значения в списке\n",
        "for value in list_nums:\n",
        "    sum = sum + value\n",
        "\n",
        "print(\"Сумма элиментов списка list_nums = \", sum)"
      ],
      "metadata": {
        "colab": {
          "base_uri": "https://localhost:8080/"
        },
        "id": "wR404p196tJ0",
        "outputId": "6aea2741-8187-4066-8534-10422151c362"
      },
      "execution_count": null,
      "outputs": [
        {
          "output_type": "stream",
          "name": "stdout",
          "text": [
            "Сумма элиментов списка list_nums =  45\n"
          ]
        }
      ]
    },
    {
      "cell_type": "markdown",
      "source": [
        " Нужно определить позицию элемента списка с наибольшим значением, для этого нам необходимо сделать перебор по индексам, пропустив нулевой индекс:"
      ],
      "metadata": {
        "id": "CNadF_JdM4EH"
      }
    },
    {
      "cell_type": "code",
      "source": [
        "# Инициализируем переменные data и largest_pos\n",
        "data = [2, 1, 3, 1.5]\n",
        "largest_pos = 0\n",
        "\n",
        "for i in range(1, len(data)):\n",
        "    if data[i] > data[largest_pos]:\n",
        "        largest_pos = i\n",
        "\n",
        "print('The largest position is', data[largest_pos], 'in the index', largest_pos)"
      ],
      "metadata": {
        "colab": {
          "base_uri": "https://localhost:8080/"
        },
        "id": "1cjh-4K1Muog",
        "outputId": "ac4a11ba-efd6-419c-ee9a-d6345be184c7"
      },
      "execution_count": null,
      "outputs": [
        {
          "output_type": "stream",
          "name": "stdout",
          "text": [
            "The largest position is 3 in the index 2\n"
          ]
        }
      ]
    },
    {
      "cell_type": "markdown",
      "source": [
        "Поиск наименьшего значения"
      ],
      "metadata": {
        "id": "bN3_OOhBZCbY"
      }
    },
    {
      "cell_type": "code",
      "source": [
        "# Инициализируем переменные data и smallest_pos\n",
        "\n",
        "data = [5.67, 4.32, 2.18, 3.99]\n",
        "smallest_pos = 0\n",
        "\n",
        "for i in range(1, len(data)):\n",
        "    if data[i] < data[smallest_pos]:\n",
        "        smallest_pos = i\n",
        "\n",
        "print('The smallest position is', data[smallest_pos], 'at the index', smallest_pos)"
      ],
      "metadata": {
        "colab": {
          "base_uri": "https://localhost:8080/"
        },
        "id": "5fWJPH_eZCHE",
        "outputId": "3e8b9285-fb79-4809-90d6-7a0a6d13acda"
      },
      "execution_count": null,
      "outputs": [
        {
          "output_type": "stream",
          "name": "stdout",
          "text": [
            "The smallest position is 2.18 at the index 2\n"
          ]
        }
      ]
    },
    {
      "cell_type": "markdown",
      "source": [
        "Поиск максимальной длины стракой"
      ],
      "metadata": {
        "id": "9iNDePLycLAW"
      }
    },
    {
      "cell_type": "code",
      "source": [
        "# Инициализируем переменные data и longest_pos\n",
        "data = [\"apple\", \"banana\", \"kiwi\", \"strawberry\"]\n",
        "longest_pos = 0\n",
        "\n",
        "for i in range(1, len(data)):\n",
        "    if len(data[i]) > len(data[largest_pos]):\n",
        "        longest_pos = i\n",
        "\n",
        "print('The maximum length of line is', len(data[longest_pos]), 'at the index', longest_pos)"
      ],
      "metadata": {
        "colab": {
          "base_uri": "https://localhost:8080/"
        },
        "id": "84GFP9z6cXt3",
        "outputId": "cc270916-2aac-41dc-c369-fd05e6f8b027"
      },
      "execution_count": null,
      "outputs": [
        {
          "output_type": "stream",
          "name": "stdout",
          "text": [
            "The maximum lingth of line is 10 at the index 3\n"
          ]
        }
      ]
    },
    {
      "cell_type": "markdown",
      "source": [
        "Поиск наибольшего числа в списке целых чисел"
      ],
      "metadata": {
        "id": "ZP4qwJ5nd1DA"
      }
    },
    {
      "cell_type": "code",
      "source": [
        "# Инициализируем переменные data и largest_pos\n",
        "data = [10, 20, 5, 30]\n",
        "largest_pos = 0\n",
        "\n",
        "for i in range(1, len(data)):\n",
        "    if data[i] > data[largest_pos]:\n",
        "        largest_pos = i\n",
        "\n",
        "print('The largest number in the list is', data[largest_pos], 'at the index', largest_pos)"
      ],
      "metadata": {
        "colab": {
          "base_uri": "https://localhost:8080/"
        },
        "id": "TEuUyxaKd1-5",
        "outputId": "adf3e003-93e0-4a62-ef5d-65b9322f1ef2"
      },
      "execution_count": null,
      "outputs": [
        {
          "output_type": "stream",
          "name": "stdout",
          "text": [
            "The largest number in the list is 30 at the index 3\n"
          ]
        }
      ]
    },
    {
      "cell_type": "markdown",
      "source": [
        "Let's make the same, using while"
      ],
      "metadata": {
        "id": "GNxkmID4odrG"
      }
    },
    {
      "cell_type": "code",
      "source": [
        "# Инициализируем переменные data и largest_pos\n",
        "data = [1.62, 1.41, 3.14, 2.71]\n",
        "largest_pos = 0\n",
        "i = 1\n",
        "\n",
        "# Находим позицию элемента с наибольшим значением\n",
        "while i < len(data):\n",
        "    if data[i] > data[largest_pos]:\n",
        "        largest_pos = i\n",
        "    i = i + 1\n",
        "\n",
        "print('The largest value is', data[largest_pos], 'at the index', largest_pos)"
      ],
      "metadata": {
        "colab": {
          "base_uri": "https://localhost:8080/"
        },
        "id": "Esa7Q9BqiGY9",
        "outputId": "34584051-024f-4339-b230-1525c963316c"
      },
      "execution_count": null,
      "outputs": [
        {
          "output_type": "stream",
          "name": "stdout",
          "text": [
            "The largest value is 3.14 at the index 2\n"
          ]
        }
      ]
    },
    {
      "cell_type": "markdown",
      "source": [
        "Some tasks using dictionaries"
      ],
      "metadata": {
        "id": "974XEKUax2c3"
      }
    },
    {
      "cell_type": "code",
      "source": [
        "mix = {\"fly\": 5, \"cutlet\": 6}\n",
        "total = 0\n",
        "\n",
        "for x in mix.values():\n",
        "    total = total + x\n",
        "\n",
        "print(\"The total of mix values =\", total)"
      ],
      "metadata": {
        "colab": {
          "base_uri": "https://localhost:8080/"
        },
        "id": "9AmF7NkJyMgV",
        "outputId": "644515ce-841e-48a1-ea6c-de97b87230fd"
      },
      "execution_count": null,
      "outputs": [
        {
          "output_type": "stream",
          "name": "stdout",
          "text": [
            "The total of mix values = 11\n"
          ]
        }
      ]
    },
    {
      "cell_type": "code",
      "source": [
        "# Сортировка словаря на основе функции len\n",
        "l1 = {'carrot': 'vegetable', 'red': 'color', 'apple': 'fruit'}\n",
        "\n",
        "print(sorted(l1, key=len))\n",
        "print(sorted(l1.values(), key=len))\n",
        "\n",
        "l1 = ['blue', 'green', 'red', 'orange']\n",
        "print(sorted(l1, key=len))"
      ],
      "metadata": {
        "colab": {
          "base_uri": "https://localhost:8080/"
        },
        "id": "KMhdJMw06tRV",
        "outputId": "2719a0bd-41f0-48b9-e149-600287595d35"
      },
      "execution_count": null,
      "outputs": [
        {
          "output_type": "stream",
          "name": "stdout",
          "text": [
            "['red', 'apple', 'carrot']\n",
            "['color', 'fruit', 'vegetable']\n",
            "['red', 'blue', 'green', 'orange']\n"
          ]
        }
      ]
    },
    {
      "cell_type": "code",
      "source": [
        "BABY_PRICE = 0.00\n",
        "CHILD_PEICE = 140\n",
        "ADULT_PRICE = 230\n",
        "SENIOR_PRICE = 180\n",
        "\n",
        "BABY_LIMIT = 2\n",
        "CHILD_LIMIT = 12\n",
        "ADULT_LIMIT = 64\n",
        "\n",
        "total = 0\n",
        "\n",
        "line = input('Inter your age (or a space to exit): ')\n",
        "\n",
        "while line != \"\":\n",
        "    age = int(line)\n",
        "\n",
        "    if age <= BABY_LIMIT:\n",
        "      total = total + BABY_PRICE\n",
        "    elif age <= CHILD_LIMIT:\n",
        "      total = total + CHILD_PEICE\n",
        "    elif age <= ADULT_LIMIT:\n",
        "      total = total + ADULT_PRICE\n",
        "    else:\n",
        "      total = total + SENIOR_PRICE\n",
        "\n",
        "    line = input('Inter your age (or a space to exit): ')\n",
        "\n",
        "print(total)"
      ],
      "metadata": {
        "colab": {
          "base_uri": "https://localhost:8080/"
        },
        "id": "-1-hO9JZ9ObZ",
        "outputId": "7013bccf-d7d8-4d73-f1c1-7da57a68dd7f"
      },
      "execution_count": null,
      "outputs": [
        {
          "output_type": "stream",
          "name": "stdout",
          "text": [
            "Inter your age (or a space to exit): 2\n",
            "Inter your age (or a space to exit): 12\n",
            "Inter your age (or a space to exit): 64\n",
            "Inter your age (or a space to exit): 99\n",
            "Inter your age (or a space to exit): \n",
            "550.0\n"
          ]
        }
      ]
    },
    {
      "cell_type": "markdown",
      "source": [
        " Билеты в зоопарк"
      ],
      "metadata": {
        "id": "NOGq93YXyROh"
      }
    },
    {
      "cell_type": "code",
      "source": [
        "BABY_PRICE = 0.00\n",
        "CHILD_PEICE = 140\n",
        "ADULT_PRICE = 230\n",
        "SENIOR_PRICE = 180\n",
        "\n",
        "BABY_LIMIT = 2\n",
        "CHILD_LIMIT = 12\n",
        "ADULT_LIMIT = 64\n",
        "\n",
        "total = 0\n",
        "\n",
        "age_line = input(\"Введите возраст посетителя (или пустая строка для оканчания ввода): \")\n",
        "while age_line != \"\":\n",
        "    age = int(age_line)\n",
        "\n",
        "    if age <= BABY_LIMIT:\n",
        "      total = total + BABY_PRICE\n",
        "    elif age <= CHILD_LIMIT:\n",
        "      total = total + CHILD_PEICE\n",
        "    elif age <= ADULT_LIMIT:\n",
        "      total = total + ADULT_PRICE\n",
        "    else:\n",
        "      total = total + SENIOR_PRICE\n",
        "\n",
        "    age_line = input(\"Введите возраст посетителя (или пустая строка для оканчания ввода): \")\n",
        "\n",
        "print(\"The total price of visitors: \", total, \"₽\")\n",
        "print(\"The total price for this group of visitors is %.2f rubles\" % total)"
      ],
      "metadata": {
        "colab": {
          "base_uri": "https://localhost:8080/"
        },
        "id": "1PBPl1pJyUPY",
        "outputId": "9db2bbe8-26f5-4f48-ddb3-e8690b5fec9d"
      },
      "execution_count": null,
      "outputs": [
        {
          "output_type": "stream",
          "name": "stdout",
          "text": [
            "Введите возраст посетителя (или пустая строка для оканчания ввода): 2\n",
            "Введите возраст посетителя (или пустая строка для оканчания ввода): 12\n",
            "Введите возраст посетителя (или пустая строка для оканчания ввода): 64\n",
            "Введите возраст посетителя (или пустая строка для оканчания ввода): 99\n",
            "Введите возраст посетителя (или пустая строка для оканчания ввода): \n",
            "The total price of visitors:  550.0 ₽\n",
            "The total price for this group of visitors is 550.00 rubles\n"
          ]
        }
      ]
    },
    {
      "cell_type": "code",
      "source": [
        "## Порядок сортировки\n",
        "\n",
        "nums = []\n",
        "\n",
        "ints = int(input(\"Input ints nums (or 0 to exit): \"))\n",
        "\n",
        "while ints != 0:\n",
        "    nums.append(ints)\n",
        "    ints = int(input(\"Input ints nums (or 0 to exit): \"))\n",
        "\n",
        "nums.sort()\n",
        "\n",
        "for ints in nums:\n",
        "    print(ints)\n",
        "\n"
      ],
      "metadata": {
        "colab": {
          "base_uri": "https://localhost:8080/"
        },
        "id": "Y6HPcoB1E-S4",
        "outputId": "a75f77fa-a60d-4ba3-cb84-1945101d85ed"
      },
      "execution_count": null,
      "outputs": [
        {
          "output_type": "stream",
          "name": "stdout",
          "text": [
            "Input ints nums (or 0 to exit): 9\n",
            "Input ints nums (or 0 to exit): 8\n",
            "Input ints nums (or 0 to exit): 7\n",
            "Input ints nums (or 0 to exit): 0\n",
            "7\n",
            "8\n",
            "9\n"
          ]
        }
      ]
    },
    {
      "cell_type": "code",
      "source": [
        "# Случайные лотерейные номера\n",
        "\n",
        "import random\n",
        "\n",
        "# Задаем диапазон\n",
        "n = 49  # Максимальное число\n",
        "k = 6   # Количество случайных чисел\n",
        "\n",
        "# Генерируем случайные числа без дубликатов\n",
        "random_numbers = random.sample(range(1, n + 1), k)\n",
        "\n",
        "print(random_numbers)\n"
      ],
      "metadata": {
        "colab": {
          "base_uri": "https://localhost:8080/"
        },
        "id": "ZJUB5NTFHQcQ",
        "outputId": "d8d7022a-32e4-4fb0-c962-434534d0d44d"
      },
      "execution_count": null,
      "outputs": [
        {
          "output_type": "stream",
          "name": "stdout",
          "text": [
            "[11, 17, 30, 43, 10, 2]\n"
          ]
        }
      ]
    },
    {
      "cell_type": "markdown",
      "source": [
        "random.sample()"
      ],
      "metadata": {
        "id": "6R_vbXN6SaAJ"
      }
    },
    {
      "cell_type": "code",
      "source": [
        "import random\n",
        "\n",
        "listt = [1, 2, 3, 4, 5]\n",
        "print(random.sample(listt, 3)) # []"
      ],
      "metadata": {
        "colab": {
          "base_uri": "https://localhost:8080/"
        },
        "id": "EPZi8A5sPc8-",
        "outputId": "5d6fa46e-bdb1-48c1-8bc5-d0df990f899e"
      },
      "execution_count": null,
      "outputs": [
        {
          "output_type": "stream",
          "name": "stdout",
          "text": [
            "[1, 5, 4]\n"
          ]
        }
      ]
    },
    {
      "cell_type": "markdown",
      "source": [
        "Выбор случайных элементов из строки"
      ],
      "metadata": {
        "id": "Wtf0UM8yS-8a"
      }
    },
    {
      "cell_type": "code",
      "source": [
        "my_string = \"Ahmed Fadil yoo\"\n",
        "\n",
        "some_elemnts = random.sample(my_string, 9) # []\n",
        "print(some_elemnts)"
      ],
      "metadata": {
        "colab": {
          "base_uri": "https://localhost:8080/"
        },
        "id": "azQKtHbUS5JU",
        "outputId": "ea2c659a-0ab8-4fdf-c777-a2bf86d6f52f"
      },
      "execution_count": null,
      "outputs": [
        {
          "output_type": "stream",
          "name": "stdout",
          "text": [
            "['h', 'y', 'e', 'a', 'd', 'F', 'o', 'A', ' ']\n"
          ]
        }
      ]
    },
    {
      "cell_type": "code",
      "source": [
        "# Выбор из множство\n",
        "\n",
        "import random\n",
        "\n",
        "my_set = {10, 20, 30, 40, 50}\n",
        "\n",
        "sample_nums = random.sample(my_set, 3)\n",
        "print(sample_nums)"
      ],
      "metadata": {
        "colab": {
          "base_uri": "https://localhost:8080/"
        },
        "id": "m29-XKIaTjIi",
        "outputId": "a6f7c74d-5bb2-41ae-b885-05e90eb7192a"
      },
      "execution_count": null,
      "outputs": [
        {
          "output_type": "stream",
          "name": "stdout",
          "text": [
            "[10, 20, 30]\n"
          ]
        },
        {
          "output_type": "stream",
          "name": "stderr",
          "text": [
            "<ipython-input-6-3bc90c3a0f49>:7: DeprecationWarning: Sampling from a set deprecated\n",
            "since Python 3.9 and will be removed in a subsequent version.\n",
            "  sample_nums = random.sample(my_set, 3)\n"
          ]
        }
      ]
    },
    {
      "cell_type": "markdown",
      "source": [
        "random.randrange()"
      ],
      "metadata": {
        "id": "AgDoiWfGe7q-"
      }
    },
    {
      "cell_type": "code",
      "source": [
        "import random\n",
        "\n",
        "random_nums = random.randrange(1, 27, 3)\n",
        "print(random_nums)"
      ],
      "metadata": {
        "colab": {
          "base_uri": "https://localhost:8080/"
        },
        "id": "HuDv6jckfAcG",
        "outputId": "09c281fc-2405-49f2-edbf-612b0014d12e"
      },
      "execution_count": null,
      "outputs": [
        {
          "output_type": "stream",
          "name": "stdout",
          "text": [
            "25\n"
          ]
        }
      ]
    },
    {
      "cell_type": "code",
      "source": [
        "# Решение\n",
        "#@title Решение\n",
        "##\n",
        "# Собираем уникальные случайные номера для лотерейного билета\n",
        "#\n",
        "from random import randrange\n",
        "MIN_NUM = 1\n",
        "MAX_NUM = 49\n",
        "NUM_NUMS = 6\n",
        "\n",
        "# Используем список для хранения номеров лотерейного билета\n",
        "ticket_nums = []\n",
        "\n",
        "# Генерируем NUM_NUMS случайных, но уникальных значений\n",
        "for i in range(NUM_NUMS):\n",
        "    # Генерируем номер, которого еще нет в списке\n",
        "    rand = randrange(MIN_NUM, MAX_NUM + 1)\n",
        "    while rand in ticket_nums:\n",
        "        # Будем перегенерировать число, пока оно есть в списке\n",
        "        rand = randrange(MIN_NUM, MAX_NUM + 1)\n",
        "    ticket_nums.append(rand)\n",
        "\n",
        "# Сортируем номера по возрастанию и отображаем их\n",
        "ticket_nums.sort()\n",
        "# print(\"Номера вашего билета: \", end=\"\")\n",
        "# for n in ticket_nums:\n",
        "#     print(n, end=\" \")\n",
        "# print()\n",
        "\n",
        "print(\"Номера вашего билета: \", *ticket_nums)"
      ],
      "metadata": {
        "colab": {
          "base_uri": "https://localhost:8080/"
        },
        "id": "LXbytszljan2",
        "outputId": "2b25e03d-1d0f-4495-ad41-ad8716962919"
      },
      "execution_count": null,
      "outputs": [
        {
          "output_type": "stream",
          "name": "stdout",
          "text": [
            "Номера вашего билета:  7 12 14 16 37 42\n"
          ]
        }
      ]
    },
    {
      "cell_type": "code",
      "source": [
        "# Решение (более элегантное с применением множеств)\n",
        "\n",
        "# Собираем уникальные случайные номера для лотерейного билета\n",
        "from random import randrange\n",
        "MIN_NUM = 1\n",
        "MAX_NUM = 49\n",
        "NUM_NUMS = 6\n",
        "\n",
        "# Используем список для хранения номеров лотерейного билета\n",
        "ticket_nums = set()\n",
        "\n",
        "# Генерируем NUM_NUMS случайных, но уникальных значений\n",
        "while len(ticket_nums) < NUM_NUMS:\n",
        "    # Генерируем номер, которого еще нет в списке\n",
        "    ticket_nums.add(randrange(MIN_NUM, MAX_NUM + 1))\n",
        "\n",
        "# Сортируем номера по возрастанию и отображаем их\n",
        "ticket_nums = sorted(ticket_nums)\n",
        "\n",
        "print(\"Номера вашего билета: \", end=\"\")\n",
        "for n in ticket_nums:\n",
        "    print(n, end=\" \")\n"
      ],
      "metadata": {
        "id": "rFeMq3uKn77C"
      },
      "execution_count": null,
      "outputs": []
    },
    {
      "cell_type": "code",
      "source": [
        "#@title Решение (более элегантное с применением множеств)\n",
        "##\n",
        "# Собираем уникальные случайные номера для лотерейного билета\n",
        "#\n",
        "from random import randrange\n",
        "MIN_NUM = 1\n",
        "MAX_NUM = 49\n",
        "NUM_NUMS = 6\n",
        "\n",
        "# Используем список для хранения номеров лотерейного билета\n",
        "ticket_nums = set()\n",
        "# Генерируем NUM_NUMS случайных, но уникальных значений\n",
        "while len(ticket_nums) < NUM_NUMS:\n",
        "    # Генерируем номер, которого еще нет в списке\n",
        "    ticket_nums.add(randrange(MIN_NUM, MAX_NUM + 1))\n",
        "\n",
        "# Сортируем номера по возрастанию и отображаем их\n",
        "ticket_nums = sorted(ticket_nums)\n",
        "\n",
        "print(\"Номера вашего билета: \", end=\"\")\n",
        "for n in ticket_nums:\n",
        "    print(n, end=\" \")"
      ],
      "metadata": {
        "colab": {
          "base_uri": "https://localhost:8080/"
        },
        "id": "CzMoHOGj33Rt",
        "outputId": "55105e43-d8a6-4bab-fd47-5f015d015b15"
      },
      "execution_count": null,
      "outputs": [
        {
          "output_type": "stream",
          "name": "stdout",
          "text": [
            "Номера вашего билета: 6 9 13 19 25 42 "
          ]
        }
      ]
    },
    {
      "cell_type": "code",
      "source": [
        "# Уникальные символы\n",
        "\n",
        "s = input(\"Inter a string: \")\n",
        "\n",
        "dic_s = {}\n",
        "\n",
        "for i in s:\n",
        "  dic_s[i] = True\n",
        "\n",
        "print(\"Unique letters are \", len(dic_s))"
      ],
      "metadata": {
        "colab": {
          "base_uri": "https://localhost:8080/"
        },
        "id": "r-IRiqRS7WAS",
        "outputId": "3b7ad02d-7797-48a7-cf26-abb9aed002c4"
      },
      "execution_count": null,
      "outputs": [
        {
          "output_type": "stream",
          "name": "stdout",
          "text": [
            "Inter a string: Russian Federation \n",
            "Unique letters are  13\n"
          ]
        }
      ]
    },
    {
      "cell_type": "code",
      "source": [
        "s = input(\"Inter a string of letters, as a word: \")\n",
        "\n",
        "dic = {}\n",
        "\n",
        "for i in s:\n",
        "  dic[i] = True\n",
        "\n",
        "print(len(dic))"
      ],
      "metadata": {
        "colab": {
          "base_uri": "https://localhost:8080/"
        },
        "id": "pI-7oQJBFcKV",
        "outputId": "05470705-7809-43d8-ebfa-aaec3a2ab117"
      },
      "execution_count": null,
      "outputs": [
        {
          "output_type": "stream",
          "name": "stdout",
          "text": [
            "Inter a string of letters, as a word: Hello\n",
            "4\n"
          ]
        }
      ]
    },
    {
      "cell_type": "code",
      "source": [
        "if 3 < 5:\n",
        "  print(999)"
      ],
      "metadata": {
        "colab": {
          "base_uri": "https://localhost:8080/"
        },
        "id": "QvNhLl8Azei1",
        "outputId": "a92e56be-940d-47d4-cdd2-daa7f3774a47"
      },
      "execution_count": null,
      "outputs": [
        {
          "output_type": "stream",
          "name": "stdout",
          "text": [
            "999\n"
          ]
        }
      ]
    },
    {
      "cell_type": "code",
      "source": [
        "if not 3:\n",
        "  print(999)"
      ],
      "metadata": {
        "id": "eTaSnpWl1hXu"
      },
      "execution_count": null,
      "outputs": []
    },
    {
      "cell_type": "code",
      "source": [
        "s = False\n",
        "if not s:\n",
        "  print(999)"
      ],
      "metadata": {
        "colab": {
          "base_uri": "https://localhost:8080/"
        },
        "id": "IjJ0yQ8r0hME",
        "outputId": "040b1c05-3a61-4031-bba8-7a827c818134"
      },
      "execution_count": null,
      "outputs": [
        {
          "output_type": "stream",
          "name": "stdout",
          "text": [
            "999\n"
          ]
        }
      ]
    },
    {
      "cell_type": "code",
      "source": [
        "message = \"Hi there\"\n",
        "a = 0\n",
        "\n",
        "if a:\n",
        "  print(message)"
      ],
      "metadata": {
        "id": "oAqeaMBY1vpJ"
      },
      "execution_count": null,
      "outputs": []
    },
    {
      "cell_type": "code",
      "source": [
        "b = -1\n",
        "if b:\n",
        "  print(message)"
      ],
      "metadata": {
        "colab": {
          "base_uri": "https://localhost:8080/"
        },
        "id": "3wQ92Zn22BSM",
        "outputId": "d247fba9-8113-4f2a-95ab-84a71ec31e6f"
      },
      "execution_count": null,
      "outputs": [
        {
          "output_type": "stream",
          "name": "stdout",
          "text": [
            "Hi there\n"
          ]
        }
      ]
    },
    {
      "cell_type": "code",
      "source": [
        "x = 1\n",
        "if x:\n",
        "  print(message)"
      ],
      "metadata": {
        "colab": {
          "base_uri": "https://localhost:8080/"
        },
        "id": "dLcZFo7q2SlH",
        "outputId": "eab183e6-dbea-4609-9824-38da7a336928"
      },
      "execution_count": null,
      "outputs": [
        {
          "output_type": "stream",
          "name": "stdout",
          "text": [
            "Hi there\n"
          ]
        }
      ]
    },
    {
      "cell_type": "code",
      "source": [
        "def my_name(name):\n",
        "  if len(name) < 6:\n",
        "    return name.upper()\n",
        "  else:\n",
        "    return name.lower()\n",
        "\n",
        "name = \"Ahmed\"\n",
        "my_name(name)"
      ],
      "metadata": {
        "colab": {
          "base_uri": "https://localhost:8080/",
          "height": 35
        },
        "id": "1OvW5NMX4AMt",
        "outputId": "dc8b1b29-2d43-4c2b-8959-4c3f6b883220"
      },
      "execution_count": null,
      "outputs": [
        {
          "output_type": "execute_result",
          "data": {
            "text/plain": [
              "'AHMED'"
            ],
            "application/vnd.google.colaboratory.intrinsic+json": {
              "type": "string"
            }
          },
          "metadata": {},
          "execution_count": 9
        }
      ]
    },
    {
      "cell_type": "code",
      "source": [
        "def num_info(num):\n",
        "    if num > 0:\n",
        "        print(\"Greater than zero\")\n",
        "        if num > 9:\n",
        "            print(\"Alos greater than 9\")\n",
        "    num = 15\n",
        "\n",
        "num_info(num)\n",
        "\n",
        "# num = 15\n",
        "# num_info(15)"
      ],
      "metadata": {
        "colab": {
          "base_uri": "https://localhost:8080/"
        },
        "id": "0QMcCzRNA_pT",
        "outputId": "a00ec685-510f-40c1-db37-fb97f75f93c5"
      },
      "execution_count": 13,
      "outputs": [
        {
          "output_type": "stream",
          "name": "stdout",
          "text": [
            "Greater than zero\n",
            "Alos greater than 9\n"
          ]
        }
      ]
    },
    {
      "cell_type": "code",
      "source": [
        "a = True\n",
        "b = [1, 2, 3]\n",
        "\n",
        "\n",
        "if a and b:\n",
        "  print(True)\n",
        "\n",
        "\n",
        "if a is True:\n",
        "  print(True)\n",
        "\n",
        "\n",
        "if b is True:\n",
        "  print(True)\n",
        "else:\n",
        "  print(False) # False, because b does not contain the actual value of True"
      ],
      "metadata": {
        "colab": {
          "base_uri": "https://localhost:8080/"
        },
        "id": "9JNPdvGNCZtu",
        "outputId": "fff89b3e-19c1-4306-f8c9-a3cd642884a7"
      },
      "execution_count": 17,
      "outputs": [
        {
          "output_type": "stream",
          "name": "stdout",
          "text": [
            "True\n",
            "True\n",
            "False\n"
          ]
        }
      ]
    },
    {
      "cell_type": "code",
      "source": [
        "n = -9\n",
        "\n",
        "x = \"Positive\" if n >= 0 else \"Negative\"\n",
        "print(x)"
      ],
      "metadata": {
        "colab": {
          "base_uri": "https://localhost:8080/"
        },
        "id": "sZH6XwuqFH-2",
        "outputId": "719af63d-c51f-4545-d7a8-a478792249bc"
      },
      "execution_count": 18,
      "outputs": [
        {
          "output_type": "stream",
          "name": "stdout",
          "text": [
            "Negative\n"
          ]
        }
      ]
    },
    {
      "cell_type": "code",
      "source": [
        "if n:\n",
        "  print(\"There is an abject\")"
      ],
      "metadata": {
        "colab": {
          "base_uri": "https://localhost:8080/"
        },
        "id": "219YOX3TP6VK",
        "outputId": "c5521e99-7bd5-4691-cd1b-1cc7847e0cf5"
      },
      "execution_count": 36,
      "outputs": [
        {
          "output_type": "stream",
          "name": "stdout",
          "text": [
            "There is an abject\n"
          ]
        }
      ]
    },
    {
      "cell_type": "code",
      "source": [
        "age = 27\n",
        "experience = 6\n",
        "\n",
        "if age >= 20 and experience >= 5:\n",
        "  print(\"We take this professional programmer\")\n",
        "else:\n",
        "  print(\"We don't take this programmer\")"
      ],
      "metadata": {
        "colab": {
          "base_uri": "https://localhost:8080/"
        },
        "id": "u9YcWdlvFeqk",
        "outputId": "a54afff7-e0d0-41c4-af1e-e9f405c0b51d"
      },
      "execution_count": 20,
      "outputs": [
        {
          "output_type": "stream",
          "name": "stdout",
          "text": [
            "We take this professional programmer\n"
          ]
        }
      ]
    },
    {
      "cell_type": "code",
      "source": [
        "if 30 <= age >= 27:\n",
        "    print(\"Hello\")\n",
        "else:\n",
        "    print(\"Hiiiiiiiiiiii\")"
      ],
      "metadata": {
        "colab": {
          "base_uri": "https://localhost:8080/"
        },
        "id": "QC4ezbQuKJFL",
        "outputId": "3ff9cf32-a476-4412-8483-356efa0e19c8"
      },
      "execution_count": 21,
      "outputs": [
        {
          "output_type": "stream",
          "name": "stdout",
          "text": [
            "Hiiiiiiiiiiii\n"
          ]
        }
      ]
    },
    {
      "cell_type": "code",
      "source": [
        "x = int(input())\n",
        "\n",
        "if x >= 27:\n",
        "  if x > 27:\n",
        "    print(\"x is greater than 27\")\n",
        "  else:\n",
        "    print(\"x is equal to 27\")\n",
        "else:\n",
        "  print(\"x is less than 27\")"
      ],
      "metadata": {
        "colab": {
          "base_uri": "https://localhost:8080/"
        },
        "id": "j1x5v-nsL_em",
        "outputId": "a0687046-f2f0-49fb-d75c-689441952e5c"
      },
      "execution_count": 34,
      "outputs": [
        {
          "output_type": "stream",
          "name": "stdout",
          "text": [
            "30\n",
            "x is greater than 27\n"
          ]
        }
      ]
    },
    {
      "cell_type": "code",
      "source": [
        "# Код определяющий четверть координатной плоскости\n",
        "\n",
        "x = int(input())\n",
        "y = int(input())\n",
        "if x > 0 and y > 0:\n",
        "    print(\"Первая четверть\")\n",
        "elif x > 0 and y < 0:\n",
        "    print(\"Четвертая четверть\")\n",
        "elif y > 0:\n",
        "    print(\"Вторая четверть\")\n",
        "else:\n",
        "    print(\"Третья четверть\")"
      ],
      "metadata": {
        "colab": {
          "base_uri": "https://localhost:8080/"
        },
        "id": "BP5h4iKyOqkh",
        "outputId": "003c6a10-a63d-4ec6-ec17-1a7582757a1a"
      },
      "execution_count": 35,
      "outputs": [
        {
          "output_type": "stream",
          "name": "stdout",
          "text": [
            "5\n",
            "6\n",
            "Первая четверть\n"
          ]
        }
      ]
    },
    {
      "cell_type": "code",
      "source": [
        "alist = [1, 2, 3, 4, 5]\n",
        "\n",
        "True if len(alist) > 4 else False"
      ],
      "metadata": {
        "colab": {
          "base_uri": "https://localhost:8080/"
        },
        "id": "54aW2gPgQpwr",
        "outputId": "37105945-f4e3-49cb-e415-dae9c6b87ac3"
      },
      "execution_count": 38,
      "outputs": [
        {
          "output_type": "execute_result",
          "data": {
            "text/plain": [
              "True"
            ]
          },
          "metadata": {},
          "execution_count": 38
        }
      ]
    },
    {
      "cell_type": "code",
      "source": [
        "# Угадайка\n",
        "\n",
        "x = 9\n",
        "y = int(input())\n",
        "\n",
        "if x == y:\n",
        "  print(\"Вы угадали\")\n",
        "else:\n",
        "  print(\"Вы не угадали\")"
      ],
      "metadata": {
        "colab": {
          "base_uri": "https://localhost:8080/"
        },
        "id": "ugrN6ugxRtJ6",
        "outputId": "ca82be32-3c0b-4e57-c3d9-c8967a404423"
      },
      "execution_count": 41,
      "outputs": [
        {
          "output_type": "stream",
          "name": "stdout",
          "text": [
            "27\n",
            "Вы не угадали\n"
          ]
        }
      ]
    },
    {
      "cell_type": "code",
      "source": [
        "a = 9\n",
        "b = 10\n",
        "\n",
        "print(\"A\") if a > b else print(\"=\") if a == b else print(\"B\")"
      ],
      "metadata": {
        "colab": {
          "base_uri": "https://localhost:8080/"
        },
        "id": "VVOFwKc3SgKK",
        "outputId": "a7ddae82-3793-457b-ef1c-9f788452844a"
      },
      "execution_count": 42,
      "outputs": [
        {
          "output_type": "stream",
          "name": "stdout",
          "text": [
            "B\n"
          ]
        }
      ]
    },
    {
      "cell_type": "code",
      "source": [
        "if a > b:\n",
        "  pass"
      ],
      "metadata": {
        "id": "rnxspp8ITo9d"
      },
      "execution_count": 45,
      "outputs": []
    },
    {
      "cell_type": "code",
      "source": [
        "print(ord(\"A\"))"
      ],
      "metadata": {
        "colab": {
          "base_uri": "https://localhost:8080/"
        },
        "id": "BpJ6RlO5ULyi",
        "outputId": "50042029-09de-4fdb-d749-f6d19a67c291"
      },
      "execution_count": 46,
      "outputs": [
        {
          "output_type": "stream",
          "name": "stdout",
          "text": [
            "65\n"
          ]
        }
      ]
    },
    {
      "cell_type": "code",
      "source": [
        "print(chr(65))"
      ],
      "metadata": {
        "colab": {
          "base_uri": "https://localhost:8080/"
        },
        "id": "dJiNtGctUbLG",
        "outputId": "af46c464-00bd-481c-f422-4e13dfff29d8"
      },
      "execution_count": 47,
      "outputs": [
        {
          "output_type": "stream",
          "name": "stdout",
          "text": [
            "A\n"
          ]
        }
      ]
    },
    {
      "cell_type": "code",
      "source": [
        "color = input()\n",
        "\n",
        "match color:\n",
        "    case \"red\" | \"green\":\n",
        "      print(1)\n",
        "    case \"white\" | \"black\":\n",
        "      print(2)\n",
        "    case _:\n",
        "      print(\"Another color\")"
      ],
      "metadata": {
        "colab": {
          "base_uri": "https://localhost:8080/"
        },
        "id": "zWPdinG0VLk8",
        "outputId": "e58ffd65-0f1f-4f32-ee40-81cc546f508b"
      },
      "execution_count": 51,
      "outputs": [
        {
          "output_type": "stream",
          "name": "stdout",
          "text": [
            "Yellow\n",
            "Another color\n"
          ]
        }
      ]
    },
    {
      "cell_type": "code",
      "source": [
        "a = 1\n",
        "b = 2\n",
        "c = 3\n",
        "\n",
        "print(max(a, b, c))\n",
        "print(min(a, b, c))\n",
        "print(max(1, 2, 3))\n",
        "print(min(1, 2, 3))"
      ],
      "metadata": {
        "colab": {
          "base_uri": "https://localhost:8080/"
        },
        "id": "VzHzuKqCXkPz",
        "outputId": "d4abb0e0-484c-47dc-e35a-169465a49c5b"
      },
      "execution_count": 56,
      "outputs": [
        {
          "output_type": "stream",
          "name": "stdout",
          "text": [
            "3\n",
            "1\n",
            "3\n",
            "1\n"
          ]
        }
      ]
    },
    {
      "cell_type": "code",
      "source": [
        "# RIGHT AND WRONG PASSOWRDS\n",
        "\n",
        "saved_pwd = \"right passowrd\"\n",
        "pwd = input(\"Inter your passowrd: \")\n",
        "\n",
        "while pwd != saved_pwd:\n",
        "    print(\"You entered a wrong passowrd\")\n",
        "    pwd = input(\"Inter your passowrd: \")\n",
        "\n",
        "print(\"The passowrd is correct, login is allowed\")"
      ],
      "metadata": {
        "colab": {
          "base_uri": "https://localhost:8080/"
        },
        "id": "JjO_Sjlrhe3_",
        "outputId": "5f831e55-2e87-42c9-ebe3-1dd6a14075eb"
      },
      "execution_count": 60,
      "outputs": [
        {
          "output_type": "stream",
          "name": "stdout",
          "text": [
            "Inter your passowrd: abcdef\n",
            "You entered a wrong passowrd\n",
            "Inter your passowrd: right passowrd\n",
            "The passowrd is correct, login is allowed\n"
          ]
        }
      ]
    },
    {
      "cell_type": "code",
      "source": [
        "saved_passowrd = \"right passowrd\"\n",
        "\n",
        "while input(\"inter your passowrd: \") != saved_passowrd:\n",
        "    pass\n",
        "\n",
        "print(\"The passowrd is corredt, login is allowed\")"
      ],
      "metadata": {
        "colab": {
          "base_uri": "https://localhost:8080/"
        },
        "id": "Y8tqbjeAjQyh",
        "outputId": "b4140bc6-10f7-4753-ac3c-ba3c11e644b7"
      },
      "execution_count": 62,
      "outputs": [
        {
          "output_type": "stream",
          "name": "stdout",
          "text": [
            "inter your passowrd: abcdef\n",
            "inter your passowrd: 12345\n",
            "inter your passowrd: right passowrd\n",
            "The passowrd is corredt, login is allowed\n"
          ]
        }
      ]
    },
    {
      "cell_type": "code",
      "source": [
        "name = input()\n",
        "\n",
        "while name != \"Finish\":\n",
        "  print(\"Hi\", name)\n",
        "  name = input()\n",
        "\n",
        "print(\"Good bye\")"
      ],
      "metadata": {
        "colab": {
          "base_uri": "https://localhost:8080/"
        },
        "id": "IfORPeU4lWar",
        "outputId": "e6f33630-3e3b-47ed-cc74-100222ee7681"
      },
      "execution_count": 65,
      "outputs": [
        {
          "output_type": "stream",
          "name": "stdout",
          "text": [
            "Ahmed\n",
            "Hi Ahmed\n",
            "Fadil\n",
            "Hi Fadil\n",
            "Finish\n",
            "Good bye\n"
          ]
        }
      ]
    },
    {
      "cell_type": "code",
      "source": [
        "while (name := input(\"Inter a name: \")) != \"stop\":\n",
        "  print(\"Hi\", name)\n",
        "\n",
        "print(\"bye\")"
      ],
      "metadata": {
        "colab": {
          "base_uri": "https://localhost:8080/"
        },
        "id": "5gXp0nxTmhxS",
        "outputId": "4cb9d455-445e-4984-8dfa-5b5ae72df856"
      },
      "execution_count": 66,
      "outputs": [
        {
          "output_type": "stream",
          "name": "stdout",
          "text": [
            "Inter a name: ahmed\n",
            "Hi ahmed\n",
            "Inter a name: fadilsa\n",
            "Hi fadilsa\n",
            "Inter a name: stop\n",
            "bye\n"
          ]
        }
      ]
    },
    {
      "cell_type": "code",
      "source": [
        "n = int(input(\"Inter a number: \"))\n",
        "for i in range(n):\n",
        "  print(i)"
      ],
      "metadata": {
        "colab": {
          "base_uri": "https://localhost:8080/"
        },
        "id": "WltQw-xT3snh",
        "outputId": "09636071-336f-4c05-fd77-6f1b500debf3"
      },
      "execution_count": 5,
      "outputs": [
        {
          "output_type": "stream",
          "name": "stdout",
          "text": [
            "Inter a number: 9\n",
            "0\n",
            "1\n",
            "2\n",
            "3\n",
            "4\n",
            "5\n",
            "6\n",
            "7\n",
            "8\n"
          ]
        }
      ]
    },
    {
      "cell_type": "code",
      "source": [
        "x = int(input(\"inter the start of the range: \"))\n",
        "y = int(input(\"inter the end of the range: \"))\n",
        "\n",
        "for i in range(x, y + 1):\n",
        "    print(i)"
      ],
      "metadata": {
        "colab": {
          "base_uri": "https://localhost:8080/"
        },
        "id": "RmCODjc94clC",
        "outputId": "3a29c630-ee76-447d-8fbc-de0a8cce2db8"
      },
      "execution_count": 8,
      "outputs": [
        {
          "output_type": "stream",
          "name": "stdout",
          "text": [
            "inter the start of the range: 2\n",
            "inter the end of the range: 9\n",
            "2\n",
            "3\n",
            "4\n",
            "5\n",
            "6\n",
            "7\n",
            "8\n",
            "9\n"
          ]
        }
      ]
    },
    {
      "cell_type": "code",
      "source": [
        "for i in range(x, y, 3):\n",
        "  print(i)"
      ],
      "metadata": {
        "colab": {
          "base_uri": "https://localhost:8080/"
        },
        "id": "eTt7-91Y5gJt",
        "outputId": "e41edeed-bb3b-4c0c-8c67-31a0adda95fc"
      },
      "execution_count": 10,
      "outputs": [
        {
          "output_type": "stream",
          "name": "stdout",
          "text": [
            "2\n",
            "5\n",
            "8\n"
          ]
        }
      ]
    },
    {
      "cell_type": "code",
      "source": [
        "w = int(input(\"inter a number: \"))\n",
        "for i in range(w, -1, -1):\n",
        "  print(i)"
      ],
      "metadata": {
        "colab": {
          "base_uri": "https://localhost:8080/"
        },
        "id": "a0noeoiX5wsd",
        "outputId": "3eeaea20-889b-4732-8901-bdfa84678944"
      },
      "execution_count": 23,
      "outputs": [
        {
          "output_type": "stream",
          "name": "stdout",
          "text": [
            "inter a number: 9\n",
            "9\n",
            "8\n",
            "7\n",
            "6\n",
            "5\n",
            "4\n",
            "3\n",
            "2\n",
            "1\n",
            "0\n"
          ]
        }
      ]
    },
    {
      "cell_type": "code",
      "source": [
        "# r = int(input(\"Inter a num: \"))\n",
        "for i in range(10, 1, -1):\n",
        "  print(i)"
      ],
      "metadata": {
        "colab": {
          "base_uri": "https://localhost:8080/"
        },
        "id": "GOrNrgiX8joI",
        "outputId": "f360c739-2868-41b1-b6bb-72878cd0f358"
      },
      "execution_count": 26,
      "outputs": [
        {
          "output_type": "stream",
          "name": "stdout",
          "text": [
            "10\n",
            "9\n",
            "8\n",
            "7\n",
            "6\n",
            "5\n",
            "4\n",
            "3\n",
            "2\n"
          ]
        }
      ]
    },
    {
      "cell_type": "code",
      "source": [
        "i = 1\n",
        "for color in 'red', 'orange', 'yellow', 'green', 'cyan', 'blue', 'violet':\n",
        "    print(i,'-th color of rainbow is ', color, sep = '')\n",
        "    i += 1"
      ],
      "metadata": {
        "colab": {
          "base_uri": "https://localhost:8080/"
        },
        "id": "BdAzJyLL-GmM",
        "outputId": "63f79887-3e9c-480a-c692-a41e1440e156"
      },
      "execution_count": 27,
      "outputs": [
        {
          "output_type": "stream",
          "name": "stdout",
          "text": [
            "1-th color of rainbow is red\n",
            "2-th color of rainbow is orange\n",
            "3-th color of rainbow is yellow\n",
            "4-th color of rainbow is green\n",
            "5-th color of rainbow is cyan\n",
            "6-th color of rainbow is blue\n",
            "7-th color of rainbow is violet\n"
          ]
        }
      ]
    },
    {
      "cell_type": "code",
      "source": [
        "n = 0\n",
        "l = ['aa', 'bb', 'cc', 'dd', 'ee']\n",
        "\n",
        "for letters in l:\n",
        "    print(n, letters)\n",
        "    n += 1"
      ],
      "metadata": {
        "colab": {
          "base_uri": "https://localhost:8080/"
        },
        "id": "888-FMY0-ZFh",
        "outputId": "6aa58acc-d843-4e81-c7d1-8d709cfbcead"
      },
      "execution_count": 28,
      "outputs": [
        {
          "output_type": "stream",
          "name": "stdout",
          "text": [
            "0 aa\n",
            "1 bb\n",
            "2 cc\n",
            "3 dd\n",
            "4 ee\n"
          ]
        }
      ]
    },
    {
      "cell_type": "code",
      "source": [
        "nums = 10\n",
        "for i in 'one', 'two', 'three', 'four', 'five':\n",
        "    print(f\"{nums} =========*=*=*=*=*=*=*=*=*=========> {i}\")\n",
        "    nums += 10"
      ],
      "metadata": {
        "colab": {
          "base_uri": "https://localhost:8080/"
        },
        "id": "Syz7dQs--_p3",
        "outputId": "c919f309-afec-4e5c-889a-1d692bbd6257"
      },
      "execution_count": 34,
      "outputs": [
        {
          "output_type": "stream",
          "name": "stdout",
          "text": [
            "10 =========*=*=*=*=*=*=*=*=*=========> one\n",
            "20 =========*=*=*=*=*=*=*=*=*=========> two\n",
            "30 =========*=*=*=*=*=*=*=*=*=========> three\n",
            "40 =========*=*=*=*=*=*=*=*=*=========> four\n",
            "50 =========*=*=*=*=*=*=*=*=*=========> five\n"
          ]
        }
      ]
    },
    {
      "cell_type": "code",
      "source": [
        "for i in range(9):\n",
        "    print(\"Python is the most using language in DATA SCIENCE\")"
      ],
      "metadata": {
        "colab": {
          "base_uri": "https://localhost:8080/"
        },
        "id": "rekTaRWaBSNL",
        "outputId": "f9c87938-3fab-4887-ff91-f4f89c7add71"
      },
      "execution_count": 36,
      "outputs": [
        {
          "output_type": "stream",
          "name": "stdout",
          "text": [
            "Python is the most using language in DATA SCIENCE\n",
            "Python is the most using language in DATA SCIENCE\n",
            "Python is the most using language in DATA SCIENCE\n",
            "Python is the most using language in DATA SCIENCE\n",
            "Python is the most using language in DATA SCIENCE\n",
            "Python is the most using language in DATA SCIENCE\n",
            "Python is the most using language in DATA SCIENCE\n",
            "Python is the most using language in DATA SCIENCE\n",
            "Python is the most using language in DATA SCIENCE\n"
          ]
        }
      ]
    },
    {
      "cell_type": "code",
      "source": [
        "for i in \"Python is the most using language in DATA SCIENCE\":\n",
        "    print(i, end=\" \")"
      ],
      "metadata": {
        "colab": {
          "base_uri": "https://localhost:8080/"
        },
        "id": "21hjzOPuCD0e",
        "outputId": "e24a835d-2d7e-47e5-9484-416ecd55c6d4"
      },
      "execution_count": 42,
      "outputs": [
        {
          "output_type": "stream",
          "name": "stdout",
          "text": [
            "P y t h o n   i s   t h e   m o s t   u s i n g   l a n g u a g e   i n   D A T A   S C I E N C E "
          ]
        }
      ]
    },
    {
      "cell_type": "code",
      "source": [
        "a1 = ['1', '2', '3', '4', '5']\n",
        "a2 = [' =========>>> a', ' =========>>> b', ' =========>>> c', ' =========>>> d', ' =========>>> e']\n",
        "\n",
        "for i in a1:\n",
        "  print(\"\\n\")\n",
        "  for s in a2:\n",
        "    print(i + s)"
      ],
      "metadata": {
        "colab": {
          "base_uri": "https://localhost:8080/"
        },
        "id": "b9CD1UsJCpWL",
        "outputId": "a264f14f-68f2-4b7e-d79e-29bd2b8f9939"
      },
      "execution_count": 55,
      "outputs": [
        {
          "output_type": "stream",
          "name": "stdout",
          "text": [
            "\n",
            "\n",
            "1 =========>>> a\n",
            "1 =========>>> b\n",
            "1 =========>>> c\n",
            "1 =========>>> d\n",
            "1 =========>>> e\n",
            "\n",
            "\n",
            "2 =========>>> a\n",
            "2 =========>>> b\n",
            "2 =========>>> c\n",
            "2 =========>>> d\n",
            "2 =========>>> e\n",
            "\n",
            "\n",
            "3 =========>>> a\n",
            "3 =========>>> b\n",
            "3 =========>>> c\n",
            "3 =========>>> d\n",
            "3 =========>>> e\n",
            "\n",
            "\n",
            "4 =========>>> a\n",
            "4 =========>>> b\n",
            "4 =========>>> c\n",
            "4 =========>>> d\n",
            "4 =========>>> e\n",
            "\n",
            "\n",
            "5 =========>>> a\n",
            "5 =========>>> b\n",
            "5 =========>>> c\n",
            "5 =========>>> d\n",
            "5 =========>>> e\n"
          ]
        }
      ]
    },
    {
      "cell_type": "code",
      "source": [
        "ss = 'a great play'\n",
        "\n",
        "for i in ss:\n",
        "    if not i.isalpha():\n",
        "      break\n",
        "      print(i, end=', ')"
      ],
      "metadata": {
        "id": "TQgh7vkJGGXX"
      },
      "execution_count": 61,
      "outputs": []
    },
    {
      "cell_type": "code",
      "source": [
        "st = '32ey.5yhsf$h%owe82038e-3q0dwaefsfdgfhyfWfd9fG'\n",
        "for i in st:\n",
        "    if i.isdigit() and int(i) > 8:\n",
        "        print('ss')"
      ],
      "metadata": {
        "colab": {
          "base_uri": "https://localhost:8080/"
        },
        "id": "l_QA945EHmRd",
        "outputId": "d5fdc855-9544-49eb-9ef6-93673259865c"
      },
      "execution_count": 64,
      "outputs": [
        {
          "output_type": "stream",
          "name": "stdout",
          "text": [
            "ss\n"
          ]
        }
      ]
    },
    {
      "cell_type": "code",
      "source": [
        "fruits = ['apple', 'banana', 'cherry']\n",
        "\n",
        "for i in fruits:\n",
        "  print(i)"
      ],
      "metadata": {
        "colab": {
          "base_uri": "https://localhost:8080/"
        },
        "id": "7euOBiRLnDC4",
        "outputId": "9e119f19-1275-4ede-d7a7-8bbc5eeeb039"
      },
      "execution_count": 1,
      "outputs": [
        {
          "output_type": "stream",
          "name": "stdout",
          "text": [
            "apple\n",
            "banana\n",
            "cherry\n"
          ]
        }
      ]
    },
    {
      "cell_type": "code",
      "source": [
        "for i in range(9):\n",
        "  print(i, end=' ')"
      ],
      "metadata": {
        "colab": {
          "base_uri": "https://localhost:8080/"
        },
        "id": "mvJjzJPknRAy",
        "outputId": "8771db6c-816a-4616-d3d4-77546333f498"
      },
      "execution_count": 3,
      "outputs": [
        {
          "output_type": "stream",
          "name": "stdout",
          "text": [
            "0 1 2 3 4 5 6 7 8 "
          ]
        }
      ]
    },
    {
      "cell_type": "code",
      "source": [
        "for i in 'Fadilsa':\n",
        "  print(i, end='')"
      ],
      "metadata": {
        "colab": {
          "base_uri": "https://localhost:8080/"
        },
        "id": "ebffOKdjnacA",
        "outputId": "e844dc90-9d9a-498a-dabf-85b245c61876"
      },
      "execution_count": 7,
      "outputs": [
        {
          "output_type": "stream",
          "name": "stdout",
          "text": [
            "Fadilsa"
          ]
        }
      ]
    },
    {
      "cell_type": "code",
      "source": [
        "dic = {'First': 111, 'Second': 222, 'Third': 333}\n",
        "\n",
        "for i in dic:\n",
        "  print(i)"
      ],
      "metadata": {
        "colab": {
          "base_uri": "https://localhost:8080/"
        },
        "id": "PMV6jyUXnpvW",
        "outputId": "17241324-5c8b-4928-ebd1-95f0818ad961"
      },
      "execution_count": 11,
      "outputs": [
        {
          "output_type": "stream",
          "name": "stdout",
          "text": [
            "First\n",
            "Second\n",
            "Third\n"
          ]
        }
      ]
    },
    {
      "cell_type": "code",
      "source": [
        "num = 0\n",
        "\n",
        "while num < 10:\n",
        "    print(num, end=' ')\n",
        "    num += 1"
      ],
      "metadata": {
        "colab": {
          "base_uri": "https://localhost:8080/"
        },
        "id": "LOLYLxBuocUM",
        "outputId": "c8e8a7ad-3def-4724-83b5-2bf621a2aea5"
      },
      "execution_count": 15,
      "outputs": [
        {
          "output_type": "stream",
          "name": "stdout",
          "text": [
            "0 1 2 3 4 5 6 7 8 9 "
          ]
        }
      ]
    },
    {
      "cell_type": "code",
      "source": [
        "while True:\n",
        "    print('Этот цикл без конечный!')\n",
        "    break # Прерывем цикл"
      ],
      "metadata": {
        "colab": {
          "base_uri": "https://localhost:8080/"
        },
        "id": "HF_y9bSupJdD",
        "outputId": "fcff095e-3bf2-4022-f49c-cdc710876638"
      },
      "execution_count": 17,
      "outputs": [
        {
          "output_type": "stream",
          "name": "stdout",
          "text": [
            "Этот цикл без конечный!\n"
          ]
        }
      ]
    },
    {
      "cell_type": "code",
      "source": [
        "i = 0\n",
        "\n",
        "while i < 10:\n",
        "  i += 1\n",
        "  if i % 2 == 0:\n",
        "      continue\n",
        "  print(i)"
      ],
      "metadata": {
        "colab": {
          "base_uri": "https://localhost:8080/"
        },
        "id": "tG6jfYzGpnz5",
        "outputId": "b39d3ddc-48d3-4e63-fceb-b57711d9ca6a"
      },
      "execution_count": 22,
      "outputs": [
        {
          "output_type": "stream",
          "name": "stdout",
          "text": [
            "1\n",
            "3\n",
            "5\n",
            "7\n",
            "9\n"
          ]
        }
      ]
    },
    {
      "cell_type": "code",
      "source": [
        "for i in range(10):\n",
        "    if i == 7:\n",
        "        break\n",
        "    print(i)"
      ],
      "metadata": {
        "colab": {
          "base_uri": "https://localhost:8080/"
        },
        "id": "HTq1WX1lrDH7",
        "outputId": "255c7368-1f2c-422b-bc83-2ef84396e607"
      },
      "execution_count": 24,
      "outputs": [
        {
          "output_type": "stream",
          "name": "stdout",
          "text": [
            "0\n",
            "1\n",
            "2\n",
            "3\n",
            "4\n",
            "5\n",
            "6\n"
          ]
        }
      ]
    },
    {
      "cell_type": "code",
      "source": [
        "for i in range(10):\n",
        "    if i == 5:\n",
        "        continue\n",
        "    print(i)"
      ],
      "metadata": {
        "colab": {
          "base_uri": "https://localhost:8080/"
        },
        "id": "Js1zUBODrUMy",
        "outputId": "abdcf477-d80e-40aa-ba17-0fb72f467a0b"
      },
      "execution_count": 25,
      "outputs": [
        {
          "output_type": "stream",
          "name": "stdout",
          "text": [
            "0\n",
            "1\n",
            "2\n",
            "3\n",
            "4\n",
            "6\n",
            "7\n",
            "8\n",
            "9\n"
          ]
        }
      ]
    },
    {
      "cell_type": "code",
      "source": [
        "for i in range(9):\n",
        "    print(i)\n",
        "else:\n",
        "    print('Цикл завершен без прерывания')"
      ],
      "metadata": {
        "colab": {
          "base_uri": "https://localhost:8080/"
        },
        "id": "zCMpmcVYrpRT",
        "outputId": "3cdd9b07-f6c2-4f9b-9bf3-6d5b8e047964"
      },
      "execution_count": 31,
      "outputs": [
        {
          "output_type": "stream",
          "name": "stdout",
          "text": [
            "0\n",
            "1\n",
            "2\n",
            "3\n",
            "4\n",
            "5\n",
            "6\n",
            "7\n",
            "8\n",
            "Цикл завершен без прерывания\n"
          ]
        }
      ]
    },
    {
      "cell_type": "code",
      "source": [
        "for i in range(9):\n",
        "    if i == 5:\n",
        "        break\n",
        "    print(i)\n",
        "else:\n",
        "    print('Цикл завершен без прерывания')"
      ],
      "metadata": {
        "colab": {
          "base_uri": "https://localhost:8080/"
        },
        "id": "JoE6EejfsSl1",
        "outputId": "649d1681-26c8-4816-8c75-516415fd51d7"
      },
      "execution_count": 32,
      "outputs": [
        {
          "output_type": "stream",
          "name": "stdout",
          "text": [
            "0\n",
            "1\n",
            "2\n",
            "3\n",
            "4\n"
          ]
        }
      ]
    },
    {
      "cell_type": "code",
      "source": [
        "for i in range(0, 5):\n",
        "    for j in range(0, 5):\n",
        "        print(f'{i} * {j} = {i * j}')\n",
        "    print('---------')"
      ],
      "metadata": {
        "colab": {
          "base_uri": "https://localhost:8080/"
        },
        "id": "STaArkJEs86b",
        "outputId": "22b387c2-9647-4670-fda1-18e5c934008e"
      },
      "execution_count": 39,
      "outputs": [
        {
          "output_type": "stream",
          "name": "stdout",
          "text": [
            "0 * 0 = 0\n",
            "0 * 1 = 0\n",
            "0 * 2 = 0\n",
            "0 * 3 = 0\n",
            "0 * 4 = 0\n",
            "---------\n",
            "1 * 0 = 0\n",
            "1 * 1 = 1\n",
            "1 * 2 = 2\n",
            "1 * 3 = 3\n",
            "1 * 4 = 4\n",
            "---------\n",
            "2 * 0 = 0\n",
            "2 * 1 = 2\n",
            "2 * 2 = 4\n",
            "2 * 3 = 6\n",
            "2 * 4 = 8\n",
            "---------\n",
            "3 * 0 = 0\n",
            "3 * 1 = 3\n",
            "3 * 2 = 6\n",
            "3 * 3 = 9\n",
            "3 * 4 = 12\n",
            "---------\n",
            "4 * 0 = 0\n",
            "4 * 1 = 4\n",
            "4 * 2 = 8\n",
            "4 * 3 = 12\n",
            "4 * 4 = 16\n",
            "---------\n"
          ]
        }
      ]
    },
    {
      "cell_type": "markdown",
      "source": [
        "Практическое задание\n",
        "Попробуйте написать программу, которая находит сумму всех чисел от 1 до 100, используя оба типа циклов."
      ],
      "metadata": {
        "id": "Mim2lvCRuneH"
      }
    },
    {
      "cell_type": "code",
      "source": [
        "total = 0\n",
        "for i in range(1, 100 + 1):\n",
        "    print(i, end=' ')\n",
        "    # total = total + i\n",
        "    total += i\n",
        "print('\\n', total)"
      ],
      "metadata": {
        "colab": {
          "base_uri": "https://localhost:8080/"
        },
        "id": "hSnE68GIumtS",
        "outputId": "1ec10174-d43b-4e1c-e6d7-2ac8ef70dfdb"
      },
      "execution_count": 52,
      "outputs": [
        {
          "output_type": "stream",
          "name": "stdout",
          "text": [
            "1 2 3 4 5 6 7 8 9 10 11 12 13 14 15 16 17 18 19 20 21 22 23 24 25 26 27 28 29 30 31 32 33 34 35 36 37 38 39 40 41 42 43 44 45 46 47 48 49 50 51 52 53 54 55 56 57 58 59 60 61 62 63 64 65 66 67 68 69 70 71 72 73 74 75 76 77 78 79 80 81 82 83 84 85 86 87 88 89 90 91 92 93 94 95 96 97 98 99 100 \n",
            " 5050\n"
          ]
        }
      ]
    },
    {
      "cell_type": "code",
      "source": [
        "total = 0\n",
        "i = 1\n",
        "while i < 101:\n",
        "    print(i, end=' ')\n",
        "    total += i\n",
        "    i += 1\n",
        "print('\\n', total)"
      ],
      "metadata": {
        "colab": {
          "base_uri": "https://localhost:8080/"
        },
        "id": "2zslKD_OvFad",
        "outputId": "d5c72922-18c8-47dc-a3b4-38117f8ef56a"
      },
      "execution_count": 53,
      "outputs": [
        {
          "output_type": "stream",
          "name": "stdout",
          "text": [
            "1 2 3 4 5 6 7 8 9 10 11 12 13 14 15 16 17 18 19 20 21 22 23 24 25 26 27 28 29 30 31 32 33 34 35 36 37 38 39 40 41 42 43 44 45 46 47 48 49 50 51 52 53 54 55 56 57 58 59 60 61 62 63 64 65 66 67 68 69 70 71 72 73 74 75 76 77 78 79 80 81 82 83 84 85 86 87 88 89 90 91 92 93 94 95 96 97 98 99 100 \n",
            " 5050\n"
          ]
        }
      ]
    }
  ]
}