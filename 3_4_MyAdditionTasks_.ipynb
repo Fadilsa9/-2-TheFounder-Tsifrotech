{
  "nbformat": 4,
  "nbformat_minor": 0,
  "metadata": {
    "colab": {
      "provenance": [],
      "authorship_tag": "ABX9TyMHZKpGeYtYb7V8yretejyC"
    },
    "kernelspec": {
      "name": "python3",
      "display_name": "Python 3"
    },
    "language_info": {
      "name": "python"
    }
  },
  "cells": [
    {
      "cell_type": "markdown",
      "source": [
        "У пользователя запрашивается число, и в результате программа сообщает, является ли это число положительным четным, положительным нечетным, отрицательным или нулём."
      ],
      "metadata": {
        "id": "ty7sEDzSgFu9"
      }
    },
    {
      "cell_type": "code",
      "source": [
        "num = float(input(\"Введите число: \"))\n",
        "\n",
        "if num > 0:\n",
        "  # Определяем четное или не четное число\n",
        "  adjective = \" \"\n",
        "  if num % 2 == 0:\n",
        "    adjective = \"четное\"\n",
        "  else:\n",
        "    adjective = \"нечетное\"\n",
        "  res = \"Это \" + adjective + \" положительное число\"\n",
        "elif  num < 0:\n",
        "  res = \"Введено отрицательное число\"\n",
        "else:\n",
        "  res = \"Введен ноль\"\n",
        "\n",
        "print(res)"
      ],
      "metadata": {
        "colab": {
          "base_uri": "https://localhost:8080/"
        },
        "id": "hZffUZEnhRni",
        "outputId": "e7a23e89-41d1-45c0-f822-424a636714cf"
      },
      "execution_count": 9,
      "outputs": [
        {
          "output_type": "stream",
          "name": "stdout",
          "text": [
            "Введите число: 99\n",
            "Это нечетное положительное число\n"
          ]
        }
      ]
    },
    {
      "cell_type": "markdown",
      "source": [
        "Здесь ползователь будет вводить число, и получать сообщение, положительное или отрициательное число он ввел, до тех пор, пока не введет нель."
      ],
      "metadata": {
        "id": "RR108DeEp39F"
      }
    },
    {
      "cell_type": "code",
      "source": [
        "num = int(input(\"Inter a number (0 to exit) \"))\n",
        "\n",
        "while num != 0:\n",
        "    if num > 0:\n",
        "        print(\"This is a positive number\")\n",
        "    else:\n",
        "        print(\"This is a negative number\")\n",
        "\n",
        "    num = int(input(\"Inter a number (0 to exit) \"))"
      ],
      "metadata": {
        "colab": {
          "base_uri": "https://localhost:8080/"
        },
        "id": "FbErBTdAo-LS",
        "outputId": "50d7d509-45ad-43ee-cac7-cbe449d5f522"
      },
      "execution_count": 11,
      "outputs": [
        {
          "name": "stdout",
          "output_type": "stream",
          "text": [
            "Inter a number (0 to exit) 99\n",
            "This is a positive number\n",
            "Inter a number (0 to exit) -99\n",
            "This is a negative number\n",
            "Inter a number (0 to exit) 0\n"
          ]
        }
      ]
    },
    {
      "cell_type": "markdown",
      "source": [
        "Используем цикл for совместно с функцией range для вывода на экран всех значений, кратных трем, от нуля и до введенного пользователем числа, включая его:"
      ],
      "metadata": {
        "id": "7a58hLJpfjOW"
      }
    },
    {
      "cell_type": "code",
      "execution_count": 2,
      "metadata": {
        "colab": {
          "base_uri": "https://localhost:8080/"
        },
        "id": "r_Zgac61fBlu",
        "outputId": "cc2d4334-8835-4f98-b04b-ece50aa74417"
      },
      "outputs": [
        {
          "output_type": "stream",
          "name": "stdout",
          "text": [
            "Введите целое число: 21\n",
            "Все числа, кратные трем до 21 :\n",
            "3\n",
            "6\n",
            "9\n",
            "12\n",
            "15\n",
            "18\n",
            "21\n"
          ]
        }
      ],
      "source": [
        "limit = int(input(\"Введите целое число: \"))\n",
        "print(\"Все числа, кратные трем до\", limit, \":\")\n",
        "\n",
        "for i in range(3, limit + 1, 3):\n",
        "    print(i)"
      ]
    },
    {
      "cell_type": "markdown",
      "source": [
        "В следующем фрагменте кода цикл for вложен в тело цикла while для повторения фразы, введенной пользователем, определенное количество раз, пока им не будет введена пустая строка."
      ],
      "metadata": {
        "id": "tfaUQIYozKJY"
      }
    },
    {
      "cell_type": "code",
      "source": [
        "message = input(\"Введите сообщение, или оставьте его пустым для выхода: \")\n",
        "\n",
        "while message != \"\":\n",
        "    nm = int(input(\"Сколько раз повторить сообщение? нажмите 0 для выхода \"))\n",
        "\n",
        "    if nm < 0:\n",
        "        print(\"Число повторений должно быть положительним\")\n",
        "        continue\n",
        "    elif nm == 0:\n",
        "        break\n",
        "\n",
        "    for i in range(nm):\n",
        "        print(message)\n",
        "\n",
        "    message = input(\"Введите сообщение, или оставьте его пустым для выхода: \")"
      ],
      "metadata": {
        "colab": {
          "base_uri": "https://localhost:8080/"
        },
        "id": "7kJImf4YzBIa",
        "outputId": "379781d5-61a1-4cc5-ac39-53c8ac8e94d4"
      },
      "execution_count": 16,
      "outputs": [
        {
          "name": "stdout",
          "output_type": "stream",
          "text": [
            "Введите сообщение, или оставьте его пустым для выхода: Baghdad\n",
            "Сколько раз повторить сообщение? нажмите 0 для выхода 3\n",
            "Baghdad\n",
            "Baghdad\n",
            "Baghdad\n",
            "Введите сообщение, или оставьте его пустым для выхода: Iraq\n",
            "Сколько раз повторить сообщение? нажмите 0 для выхода 0\n"
          ]
        }
      ]
    },
    {
      "cell_type": "markdown",
      "source": [
        "В следующем фрагменте кода цикл for используется для суммирования элементов из списка:"
      ],
      "metadata": {
        "id": "kBgXpcYr6tqT"
      }
    },
    {
      "cell_type": "code",
      "source": [
        "# Инициализируем переменные list_nums and sum\n",
        "list_nums = [1, 2, 3, 4, 5, 6, 7, 8, 9]\n",
        "sum = 0\n",
        "\n",
        "# Сумируем значения в списке\n",
        "for value in list_nums:\n",
        "    sum = sum + value\n",
        "\n",
        "print(\"Сумма элиментов списка list_nums = \", sum)"
      ],
      "metadata": {
        "colab": {
          "base_uri": "https://localhost:8080/"
        },
        "id": "wR404p196tJ0",
        "outputId": "6aea2741-8187-4066-8534-10422151c362"
      },
      "execution_count": 18,
      "outputs": [
        {
          "output_type": "stream",
          "name": "stdout",
          "text": [
            "Сумма элиментов списка list_nums =  45\n"
          ]
        }
      ]
    },
    {
      "cell_type": "markdown",
      "source": [
        " Нужно определить позицию элемента списка с наибольшим значением, для этого нам необходимо сделать перебор по индексам, пропустив нулевой индекс:"
      ],
      "metadata": {
        "id": "CNadF_JdM4EH"
      }
    },
    {
      "cell_type": "code",
      "source": [
        "# Инициализируем переменные data и largest_pos\n",
        "data = [2, 1, 3, 1.5]\n",
        "largest_pos = 0\n",
        "\n",
        "for i in range(1, len(data)):\n",
        "    if data[i] > data[largest_pos]:\n",
        "        largest_pos = i\n",
        "\n",
        "print('The largest position is', data[largest_pos], 'in the index', largest_pos)"
      ],
      "metadata": {
        "colab": {
          "base_uri": "https://localhost:8080/"
        },
        "id": "1cjh-4K1Muog",
        "outputId": "ac4a11ba-efd6-419c-ee9a-d6345be184c7"
      },
      "execution_count": 3,
      "outputs": [
        {
          "output_type": "stream",
          "name": "stdout",
          "text": [
            "The largest position is 3 in the index 2\n"
          ]
        }
      ]
    },
    {
      "cell_type": "markdown",
      "source": [
        "Поиск наименьшего значения"
      ],
      "metadata": {
        "id": "bN3_OOhBZCbY"
      }
    },
    {
      "cell_type": "code",
      "source": [
        "# Инициализируем переменные data и smallest_pos\n",
        "\n",
        "data = [5.67, 4.32, 2.18, 3.99]\n",
        "smallest_pos = 0\n",
        "\n",
        "for i in range(1, len(data)):\n",
        "    if data[i] < data[smallest_pos]:\n",
        "        smallest_pos = i\n",
        "\n",
        "print('The smallest position is', data[smallest_pos], 'at the index', smallest_pos)"
      ],
      "metadata": {
        "colab": {
          "base_uri": "https://localhost:8080/"
        },
        "id": "5fWJPH_eZCHE",
        "outputId": "3e8b9285-fb79-4809-90d6-7a0a6d13acda"
      },
      "execution_count": 5,
      "outputs": [
        {
          "output_type": "stream",
          "name": "stdout",
          "text": [
            "The smallest position is 2.18 at the index 2\n"
          ]
        }
      ]
    },
    {
      "cell_type": "markdown",
      "source": [
        "Поиск максимальной длины стракой"
      ],
      "metadata": {
        "id": "9iNDePLycLAW"
      }
    },
    {
      "cell_type": "code",
      "source": [
        "# Инициализируем переменные data и longest_pos\n",
        "data = [\"apple\", \"banana\", \"kiwi\", \"strawberry\"]\n",
        "longest_pos = 0\n",
        "\n",
        "for i in range(1, len(data)):\n",
        "    if len(data[i]) > len(data[largest_pos]):\n",
        "        longest_pos = i\n",
        "\n",
        "print('The maximum length of line is', len(data[longest_pos]), 'at the index', longest_pos)"
      ],
      "metadata": {
        "colab": {
          "base_uri": "https://localhost:8080/"
        },
        "id": "84GFP9z6cXt3",
        "outputId": "cc270916-2aac-41dc-c369-fd05e6f8b027"
      },
      "execution_count": 7,
      "outputs": [
        {
          "output_type": "stream",
          "name": "stdout",
          "text": [
            "The maximum lingth of line is 10 at the index 3\n"
          ]
        }
      ]
    },
    {
      "cell_type": "markdown",
      "source": [
        "Поиск наибольшего числа в списке целых чисел"
      ],
      "metadata": {
        "id": "ZP4qwJ5nd1DA"
      }
    },
    {
      "cell_type": "code",
      "source": [
        "# Инициализируем переменные data и largest_pos\n",
        "data = [10, 20, 5, 30]\n",
        "largest_pos = 0\n",
        "\n",
        "for i in range(1, len(data)):\n",
        "    if data[i] > data[largest_pos]:\n",
        "        largest_pos = i\n",
        "\n",
        "print('The largest number in the list is', data[largest_pos], 'at the index', largest_pos)"
      ],
      "metadata": {
        "colab": {
          "base_uri": "https://localhost:8080/"
        },
        "id": "TEuUyxaKd1-5",
        "outputId": "adf3e003-93e0-4a62-ef5d-65b9322f1ef2"
      },
      "execution_count": 9,
      "outputs": [
        {
          "output_type": "stream",
          "name": "stdout",
          "text": [
            "The largest number in the list is 30 at the index 3\n"
          ]
        }
      ]
    },
    {
      "cell_type": "markdown",
      "source": [
        "Let's make the same, using while"
      ],
      "metadata": {
        "id": "GNxkmID4odrG"
      }
    },
    {
      "cell_type": "code",
      "source": [
        "# Инициализируем переменные data и largest_pos\n",
        "data = [1.62, 1.41, 3.14, 2.71]\n",
        "largest_pos = 0\n",
        "i = 1\n",
        "\n",
        "# Находим позицию элемента с наибольшим значением\n",
        "while i < len(data):\n",
        "    if data[i] > data[largest_pos]:\n",
        "        largest_pos = i\n",
        "    i = i + 1\n",
        "\n",
        "print('The largest value is', data[largest_pos], 'at the index', largest_pos)"
      ],
      "metadata": {
        "colab": {
          "base_uri": "https://localhost:8080/"
        },
        "id": "Esa7Q9BqiGY9",
        "outputId": "34584051-024f-4339-b230-1525c963316c"
      },
      "execution_count": 10,
      "outputs": [
        {
          "output_type": "stream",
          "name": "stdout",
          "text": [
            "The largest value is 3.14 at the index 2\n"
          ]
        }
      ]
    },
    {
      "cell_type": "markdown",
      "source": [
        "Some tasks using dictionaries"
      ],
      "metadata": {
        "id": "974XEKUax2c3"
      }
    },
    {
      "cell_type": "code",
      "source": [
        "mix = {\"fly\": 5, \"cutlet\": 6}\n",
        "total = 0\n",
        "\n",
        "for x in mix.values():\n",
        "    total = total + x\n",
        "\n",
        "print(\"The total of mix values =\", total)"
      ],
      "metadata": {
        "colab": {
          "base_uri": "https://localhost:8080/"
        },
        "id": "9AmF7NkJyMgV",
        "outputId": "644515ce-841e-48a1-ea6c-de97b87230fd"
      },
      "execution_count": 13,
      "outputs": [
        {
          "output_type": "stream",
          "name": "stdout",
          "text": [
            "The total of mix values = 11\n"
          ]
        }
      ]
    }
  ]
}