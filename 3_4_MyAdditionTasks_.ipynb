{
  "nbformat": 4,
  "nbformat_minor": 0,
  "metadata": {
    "colab": {
      "provenance": [],
      "authorship_tag": "ABX9TyPshPrprXPniHRAKkUcCIvD"
    },
    "kernelspec": {
      "name": "python3",
      "display_name": "Python 3"
    },
    "language_info": {
      "name": "python"
    }
  },
  "cells": [
    {
      "cell_type": "code",
      "source": [
        "num = float(input(\"Введите число: \"))\n",
        "\n",
        "if num > 0:\n",
        "  # Определяем четное или не четное число\n",
        "  adjective = \" \"\n",
        "  if num % 2 == 0:\n",
        "    adjective = \"четное\"\n",
        "  else:\n",
        "    adjective = \"нечетное\"\n",
        "  res = \"Это \" + adjective + \" положительное число\"\n",
        "elif  num < 0:\n",
        "  res = \"Введено отрицательное число\"\n",
        "else:\n",
        "  res = \"Введен ноль\"\n",
        "\n",
        "print(res)"
      ],
      "metadata": {
        "colab": {
          "base_uri": "https://localhost:8080/"
        },
        "id": "hZffUZEnhRni",
        "outputId": "e7a23e89-41d1-45c0-f822-424a636714cf"
      },
      "execution_count": 9,
      "outputs": [
        {
          "output_type": "stream",
          "name": "stdout",
          "text": [
            "Введите число: 99\n",
            "Это нечетное положительное число\n"
          ]
        }
      ]
    },
    {
      "cell_type": "markdown",
      "source": [
        "Здесь ползователь будет вводить число, и получать сообщение, положительное или отрициательное число он ввел, до тех пор, пока не введет нель."
      ],
      "metadata": {
        "id": "RR108DeEp39F"
      }
    },
    {
      "cell_type": "code",
      "source": [
        "num = int(input(\"Inter a number (0 to exit) \"))\n",
        "\n",
        "while num != 0:\n",
        "    if num > 0:\n",
        "        print(\"This is a positive number\")\n",
        "    else:\n",
        "        print(\"This is a negative number\")\n",
        "\n",
        "    num = int(input(\"Inter a number (0 to exit) \"))"
      ],
      "metadata": {
        "colab": {
          "base_uri": "https://localhost:8080/"
        },
        "id": "FbErBTdAo-LS",
        "outputId": "50d7d509-45ad-43ee-cac7-cbe449d5f522"
      },
      "execution_count": 11,
      "outputs": [
        {
          "name": "stdout",
          "output_type": "stream",
          "text": [
            "Inter a number (0 to exit) 99\n",
            "This is a positive number\n",
            "Inter a number (0 to exit) -99\n",
            "This is a negative number\n",
            "Inter a number (0 to exit) 0\n"
          ]
        }
      ]
    },
    {
      "cell_type": "markdown",
      "source": [
        "Используем цикл for совместно с функцией range для вывода на экран всех значений, кратных трем, от нуля и до введенного пользователем числа, включая его:"
      ],
      "metadata": {
        "id": "7a58hLJpfjOW"
      }
    },
    {
      "cell_type": "code",
      "execution_count": 2,
      "metadata": {
        "colab": {
          "base_uri": "https://localhost:8080/"
        },
        "id": "r_Zgac61fBlu",
        "outputId": "cc2d4334-8835-4f98-b04b-ece50aa74417"
      },
      "outputs": [
        {
          "output_type": "stream",
          "name": "stdout",
          "text": [
            "Введите целое число: 21\n",
            "Все числа, кратные трем до 21 :\n",
            "3\n",
            "6\n",
            "9\n",
            "12\n",
            "15\n",
            "18\n",
            "21\n"
          ]
        }
      ],
      "source": [
        "limit = int(input(\"Введите целое число: \"))\n",
        "print(\"Все числа, кратные трем до\", limit, \":\")\n",
        "\n",
        "for i in range(3, limit + 1, 3):\n",
        "    print(i)"
      ]
    },
    {
      "cell_type": "markdown",
      "source": [
        "В следующем фрагменте кода цикл for вложен в тело цикла while для повторения фразы, введенной пользователем, определенное количество раз, пока им не будет введена пустая строка."
      ],
      "metadata": {
        "id": "tfaUQIYozKJY"
      }
    },
    {
      "cell_type": "code",
      "source": [
        "message = input(\"Введите сообщение, или оставьте его пустым для выхода: \")\n",
        "\n",
        "while message != \"\":\n",
        "    nm = int(input(\"Сколько раз повторить сообщение? нажмите 0 для выхода \"))\n",
        "\n",
        "    if nm < 0:\n",
        "        print(\"Число повторений должно быть положительним\")\n",
        "        continue\n",
        "    elif nm == 0:\n",
        "        break\n",
        "\n",
        "    for i in range(nm):\n",
        "        print(message)\n",
        "\n",
        "    message = input(\"Введите сообщение, или оставьте его пустым для выхода: \")"
      ],
      "metadata": {
        "colab": {
          "base_uri": "https://localhost:8080/"
        },
        "id": "7kJImf4YzBIa",
        "outputId": "379781d5-61a1-4cc5-ac39-53c8ac8e94d4"
      },
      "execution_count": 16,
      "outputs": [
        {
          "name": "stdout",
          "output_type": "stream",
          "text": [
            "Введите сообщение, или оставьте его пустым для выхода: Baghdad\n",
            "Сколько раз повторить сообщение? нажмите 0 для выхода 3\n",
            "Baghdad\n",
            "Baghdad\n",
            "Baghdad\n",
            "Введите сообщение, или оставьте его пустым для выхода: Iraq\n",
            "Сколько раз повторить сообщение? нажмите 0 для выхода 0\n"
          ]
        }
      ]
    }
  ]
}