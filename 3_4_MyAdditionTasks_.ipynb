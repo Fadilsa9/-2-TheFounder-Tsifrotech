{
  "nbformat": 4,
  "nbformat_minor": 0,
  "metadata": {
    "colab": {
      "provenance": [],
      "authorship_tag": "ABX9TyN+cC47pCqaiUVkEUptw9Xv"
    },
    "kernelspec": {
      "name": "python3",
      "display_name": "Python 3"
    },
    "language_info": {
      "name": "python"
    }
  },
  "cells": [
    {
      "cell_type": "markdown",
      "source": [
        "У пользователя запрашивается число, и в результате программа сообщает, является ли это число положительным четным, положительным нечетным, отрицательным или нулём."
      ],
      "metadata": {
        "id": "ty7sEDzSgFu9"
      }
    },
    {
      "cell_type": "code",
      "source": [
        "num = float(input(\"Введите число: \"))\n",
        "\n",
        "if num > 0:\n",
        "  # Определяем четное или не четное число\n",
        "  adjective = \" \"\n",
        "  if num % 2 == 0:\n",
        "    adjective = \"четное\"\n",
        "  else:\n",
        "    adjective = \"нечетное\"\n",
        "  res = \"Это \" + adjective + \" положительное число\"\n",
        "elif  num < 0:\n",
        "  res = \"Введено отрицательное число\"\n",
        "else:\n",
        "  res = \"Введен ноль\"\n",
        "\n",
        "print(res)"
      ],
      "metadata": {
        "colab": {
          "base_uri": "https://localhost:8080/"
        },
        "id": "hZffUZEnhRni",
        "outputId": "e7a23e89-41d1-45c0-f822-424a636714cf"
      },
      "execution_count": null,
      "outputs": [
        {
          "output_type": "stream",
          "name": "stdout",
          "text": [
            "Введите число: 99\n",
            "Это нечетное положительное число\n"
          ]
        }
      ]
    },
    {
      "cell_type": "markdown",
      "source": [
        "Здесь ползователь будет вводить число, и получать сообщение, положительное или отрициательное число он ввел, до тех пор, пока не введет нель."
      ],
      "metadata": {
        "id": "RR108DeEp39F"
      }
    },
    {
      "cell_type": "code",
      "source": [
        "num = int(input(\"Inter a number (0 to exit) \"))\n",
        "\n",
        "while num != 0:\n",
        "    if num > 0:\n",
        "        print(\"This is a positive number\")\n",
        "    else:\n",
        "        print(\"This is a negative number\")\n",
        "\n",
        "    num = int(input(\"Inter a number (0 to exit) \"))"
      ],
      "metadata": {
        "colab": {
          "base_uri": "https://localhost:8080/"
        },
        "id": "FbErBTdAo-LS",
        "outputId": "50d7d509-45ad-43ee-cac7-cbe449d5f522"
      },
      "execution_count": null,
      "outputs": [
        {
          "name": "stdout",
          "output_type": "stream",
          "text": [
            "Inter a number (0 to exit) 99\n",
            "This is a positive number\n",
            "Inter a number (0 to exit) -99\n",
            "This is a negative number\n",
            "Inter a number (0 to exit) 0\n"
          ]
        }
      ]
    },
    {
      "cell_type": "markdown",
      "source": [
        "Используем цикл for совместно с функцией range для вывода на экран всех значений, кратных трем, от нуля и до введенного пользователем числа, включая его:"
      ],
      "metadata": {
        "id": "7a58hLJpfjOW"
      }
    },
    {
      "cell_type": "code",
      "execution_count": null,
      "metadata": {
        "colab": {
          "base_uri": "https://localhost:8080/"
        },
        "id": "r_Zgac61fBlu",
        "outputId": "cc2d4334-8835-4f98-b04b-ece50aa74417"
      },
      "outputs": [
        {
          "output_type": "stream",
          "name": "stdout",
          "text": [
            "Введите целое число: 21\n",
            "Все числа, кратные трем до 21 :\n",
            "3\n",
            "6\n",
            "9\n",
            "12\n",
            "15\n",
            "18\n",
            "21\n"
          ]
        }
      ],
      "source": [
        "limit = int(input(\"Введите целое число: \"))\n",
        "print(\"Все числа, кратные трем до\", limit, \":\")\n",
        "\n",
        "for i in range(3, limit + 1, 3):\n",
        "    print(i)"
      ]
    },
    {
      "cell_type": "markdown",
      "source": [
        "В следующем фрагменте кода цикл for вложен в тело цикла while для повторения фразы, введенной пользователем, определенное количество раз, пока им не будет введена пустая строка."
      ],
      "metadata": {
        "id": "tfaUQIYozKJY"
      }
    },
    {
      "cell_type": "code",
      "source": [
        "message = input(\"Введите сообщение, или оставьте его пустым для выхода: \")\n",
        "\n",
        "while message != \"\":\n",
        "    nm = int(input(\"Сколько раз повторить сообщение? нажмите 0 для выхода \"))\n",
        "\n",
        "    if nm < 0:\n",
        "        print(\"Число повторений должно быть положительним\")\n",
        "        continue\n",
        "    elif nm == 0:\n",
        "        break\n",
        "\n",
        "    for i in range(nm):\n",
        "        print(message)\n",
        "\n",
        "    message = input(\"Введите сообщение, или оставьте его пустым для выхода: \")"
      ],
      "metadata": {
        "colab": {
          "base_uri": "https://localhost:8080/"
        },
        "id": "7kJImf4YzBIa",
        "outputId": "379781d5-61a1-4cc5-ac39-53c8ac8e94d4"
      },
      "execution_count": null,
      "outputs": [
        {
          "name": "stdout",
          "output_type": "stream",
          "text": [
            "Введите сообщение, или оставьте его пустым для выхода: Baghdad\n",
            "Сколько раз повторить сообщение? нажмите 0 для выхода 3\n",
            "Baghdad\n",
            "Baghdad\n",
            "Baghdad\n",
            "Введите сообщение, или оставьте его пустым для выхода: Iraq\n",
            "Сколько раз повторить сообщение? нажмите 0 для выхода 0\n"
          ]
        }
      ]
    },
    {
      "cell_type": "markdown",
      "source": [
        "В следующем фрагменте кода цикл for используется для суммирования элементов из списка:"
      ],
      "metadata": {
        "id": "kBgXpcYr6tqT"
      }
    },
    {
      "cell_type": "code",
      "source": [
        "# Инициализируем переменные list_nums and sum\n",
        "list_nums = [1, 2, 3, 4, 5, 6, 7, 8, 9]\n",
        "sum = 0\n",
        "\n",
        "# Сумируем значения в списке\n",
        "for value in list_nums:\n",
        "    sum = sum + value\n",
        "\n",
        "print(\"Сумма элиментов списка list_nums = \", sum)"
      ],
      "metadata": {
        "colab": {
          "base_uri": "https://localhost:8080/"
        },
        "id": "wR404p196tJ0",
        "outputId": "6aea2741-8187-4066-8534-10422151c362"
      },
      "execution_count": null,
      "outputs": [
        {
          "output_type": "stream",
          "name": "stdout",
          "text": [
            "Сумма элиментов списка list_nums =  45\n"
          ]
        }
      ]
    },
    {
      "cell_type": "markdown",
      "source": [
        " Нужно определить позицию элемента списка с наибольшим значением, для этого нам необходимо сделать перебор по индексам, пропустив нулевой индекс:"
      ],
      "metadata": {
        "id": "CNadF_JdM4EH"
      }
    },
    {
      "cell_type": "code",
      "source": [
        "# Инициализируем переменные data и largest_pos\n",
        "data = [2, 1, 3, 1.5]\n",
        "largest_pos = 0\n",
        "\n",
        "for i in range(1, len(data)):\n",
        "    if data[i] > data[largest_pos]:\n",
        "        largest_pos = i\n",
        "\n",
        "print('The largest position is', data[largest_pos], 'in the index', largest_pos)"
      ],
      "metadata": {
        "colab": {
          "base_uri": "https://localhost:8080/"
        },
        "id": "1cjh-4K1Muog",
        "outputId": "ac4a11ba-efd6-419c-ee9a-d6345be184c7"
      },
      "execution_count": null,
      "outputs": [
        {
          "output_type": "stream",
          "name": "stdout",
          "text": [
            "The largest position is 3 in the index 2\n"
          ]
        }
      ]
    },
    {
      "cell_type": "markdown",
      "source": [
        "Поиск наименьшего значения"
      ],
      "metadata": {
        "id": "bN3_OOhBZCbY"
      }
    },
    {
      "cell_type": "code",
      "source": [
        "# Инициализируем переменные data и smallest_pos\n",
        "\n",
        "data = [5.67, 4.32, 2.18, 3.99]\n",
        "smallest_pos = 0\n",
        "\n",
        "for i in range(1, len(data)):\n",
        "    if data[i] < data[smallest_pos]:\n",
        "        smallest_pos = i\n",
        "\n",
        "print('The smallest position is', data[smallest_pos], 'at the index', smallest_pos)"
      ],
      "metadata": {
        "colab": {
          "base_uri": "https://localhost:8080/"
        },
        "id": "5fWJPH_eZCHE",
        "outputId": "3e8b9285-fb79-4809-90d6-7a0a6d13acda"
      },
      "execution_count": null,
      "outputs": [
        {
          "output_type": "stream",
          "name": "stdout",
          "text": [
            "The smallest position is 2.18 at the index 2\n"
          ]
        }
      ]
    },
    {
      "cell_type": "markdown",
      "source": [
        "Поиск максимальной длины стракой"
      ],
      "metadata": {
        "id": "9iNDePLycLAW"
      }
    },
    {
      "cell_type": "code",
      "source": [
        "# Инициализируем переменные data и longest_pos\n",
        "data = [\"apple\", \"banana\", \"kiwi\", \"strawberry\"]\n",
        "longest_pos = 0\n",
        "\n",
        "for i in range(1, len(data)):\n",
        "    if len(data[i]) > len(data[largest_pos]):\n",
        "        longest_pos = i\n",
        "\n",
        "print('The maximum length of line is', len(data[longest_pos]), 'at the index', longest_pos)"
      ],
      "metadata": {
        "colab": {
          "base_uri": "https://localhost:8080/"
        },
        "id": "84GFP9z6cXt3",
        "outputId": "cc270916-2aac-41dc-c369-fd05e6f8b027"
      },
      "execution_count": null,
      "outputs": [
        {
          "output_type": "stream",
          "name": "stdout",
          "text": [
            "The maximum lingth of line is 10 at the index 3\n"
          ]
        }
      ]
    },
    {
      "cell_type": "markdown",
      "source": [
        "Поиск наибольшего числа в списке целых чисел"
      ],
      "metadata": {
        "id": "ZP4qwJ5nd1DA"
      }
    },
    {
      "cell_type": "code",
      "source": [
        "# Инициализируем переменные data и largest_pos\n",
        "data = [10, 20, 5, 30]\n",
        "largest_pos = 0\n",
        "\n",
        "for i in range(1, len(data)):\n",
        "    if data[i] > data[largest_pos]:\n",
        "        largest_pos = i\n",
        "\n",
        "print('The largest number in the list is', data[largest_pos], 'at the index', largest_pos)"
      ],
      "metadata": {
        "colab": {
          "base_uri": "https://localhost:8080/"
        },
        "id": "TEuUyxaKd1-5",
        "outputId": "adf3e003-93e0-4a62-ef5d-65b9322f1ef2"
      },
      "execution_count": null,
      "outputs": [
        {
          "output_type": "stream",
          "name": "stdout",
          "text": [
            "The largest number in the list is 30 at the index 3\n"
          ]
        }
      ]
    },
    {
      "cell_type": "markdown",
      "source": [
        "Let's make the same, using while"
      ],
      "metadata": {
        "id": "GNxkmID4odrG"
      }
    },
    {
      "cell_type": "code",
      "source": [
        "# Инициализируем переменные data и largest_pos\n",
        "data = [1.62, 1.41, 3.14, 2.71]\n",
        "largest_pos = 0\n",
        "i = 1\n",
        "\n",
        "# Находим позицию элемента с наибольшим значением\n",
        "while i < len(data):\n",
        "    if data[i] > data[largest_pos]:\n",
        "        largest_pos = i\n",
        "    i = i + 1\n",
        "\n",
        "print('The largest value is', data[largest_pos], 'at the index', largest_pos)"
      ],
      "metadata": {
        "colab": {
          "base_uri": "https://localhost:8080/"
        },
        "id": "Esa7Q9BqiGY9",
        "outputId": "34584051-024f-4339-b230-1525c963316c"
      },
      "execution_count": null,
      "outputs": [
        {
          "output_type": "stream",
          "name": "stdout",
          "text": [
            "The largest value is 3.14 at the index 2\n"
          ]
        }
      ]
    },
    {
      "cell_type": "markdown",
      "source": [
        "Some tasks using dictionaries"
      ],
      "metadata": {
        "id": "974XEKUax2c3"
      }
    },
    {
      "cell_type": "code",
      "source": [
        "mix = {\"fly\": 5, \"cutlet\": 6}\n",
        "total = 0\n",
        "\n",
        "for x in mix.values():\n",
        "    total = total + x\n",
        "\n",
        "print(\"The total of mix values =\", total)"
      ],
      "metadata": {
        "colab": {
          "base_uri": "https://localhost:8080/"
        },
        "id": "9AmF7NkJyMgV",
        "outputId": "644515ce-841e-48a1-ea6c-de97b87230fd"
      },
      "execution_count": null,
      "outputs": [
        {
          "output_type": "stream",
          "name": "stdout",
          "text": [
            "The total of mix values = 11\n"
          ]
        }
      ]
    },
    {
      "cell_type": "code",
      "source": [
        "# Сортировка словаря на основе функции len\n",
        "l1 = {'carrot': 'vegetable', 'red': 'color', 'apple': 'fruit'}\n",
        "\n",
        "print(sorted(l1, key=len))\n",
        "print(sorted(l1.values(), key=len))\n",
        "\n",
        "l1 = ['blue', 'green', 'red', 'orange']\n",
        "print(sorted(l1, key=len))"
      ],
      "metadata": {
        "colab": {
          "base_uri": "https://localhost:8080/"
        },
        "id": "KMhdJMw06tRV",
        "outputId": "2719a0bd-41f0-48b9-e149-600287595d35"
      },
      "execution_count": null,
      "outputs": [
        {
          "output_type": "stream",
          "name": "stdout",
          "text": [
            "['red', 'apple', 'carrot']\n",
            "['color', 'fruit', 'vegetable']\n",
            "['red', 'blue', 'green', 'orange']\n"
          ]
        }
      ]
    },
    {
      "cell_type": "code",
      "source": [
        "BABY_PRICE = 0.00\n",
        "CHILD_PEICE = 140\n",
        "ADULT_PRICE = 230\n",
        "SENIOR_PRICE = 180\n",
        "\n",
        "BABY_LIMIT = 2\n",
        "CHILD_LIMIT = 12\n",
        "ADULT_LIMIT = 64\n",
        "\n",
        "total = 0\n",
        "\n",
        "line = input('Inter your age (or a space to exit): ')\n",
        "\n",
        "while line != \"\":\n",
        "    age = int(line)\n",
        "\n",
        "    if age <= BABY_LIMIT:\n",
        "      total = total + BABY_PRICE\n",
        "    elif age <= CHILD_LIMIT:\n",
        "      total = total + CHILD_PEICE\n",
        "    elif age <= ADULT_LIMIT:\n",
        "      total = total + ADULT_PRICE\n",
        "    else:\n",
        "      total = total + SENIOR_PRICE\n",
        "\n",
        "    line = input('Inter your age (or a space to exit): ')\n",
        "\n",
        "print(total)"
      ],
      "metadata": {
        "colab": {
          "base_uri": "https://localhost:8080/"
        },
        "id": "-1-hO9JZ9ObZ",
        "outputId": "7013bccf-d7d8-4d73-f1c1-7da57a68dd7f"
      },
      "execution_count": null,
      "outputs": [
        {
          "output_type": "stream",
          "name": "stdout",
          "text": [
            "Inter your age (or a space to exit): 2\n",
            "Inter your age (or a space to exit): 12\n",
            "Inter your age (or a space to exit): 64\n",
            "Inter your age (or a space to exit): 99\n",
            "Inter your age (or a space to exit): \n",
            "550.0\n"
          ]
        }
      ]
    },
    {
      "cell_type": "markdown",
      "source": [
        " Билеты в зоопарк"
      ],
      "metadata": {
        "id": "NOGq93YXyROh"
      }
    },
    {
      "cell_type": "code",
      "source": [
        "BABY_PRICE = 0.00\n",
        "CHILD_PEICE = 140\n",
        "ADULT_PRICE = 230\n",
        "SENIOR_PRICE = 180\n",
        "\n",
        "BABY_LIMIT = 2\n",
        "CHILD_LIMIT = 12\n",
        "ADULT_LIMIT = 64\n",
        "\n",
        "total = 0\n",
        "\n",
        "age_line = input(\"Введите возраст посетителя (или пустая строка для оканчания ввода): \")\n",
        "while age_line != \"\":\n",
        "    age = int(age_line)\n",
        "\n",
        "    if age <= BABY_LIMIT:\n",
        "      total = total + BABY_PRICE\n",
        "    elif age <= CHILD_LIMIT:\n",
        "      total = total + CHILD_PEICE\n",
        "    elif age <= ADULT_LIMIT:\n",
        "      total = total + ADULT_PRICE\n",
        "    else:\n",
        "      total = total + SENIOR_PRICE\n",
        "\n",
        "    age_line = input(\"Введите возраст посетителя (или пустая строка для оканчания ввода): \")\n",
        "\n",
        "print(\"The total price of visitors: \", total, \"₽\")\n",
        "print(\"The total price for this group of visitors is %.2f rubles\" % total)"
      ],
      "metadata": {
        "colab": {
          "base_uri": "https://localhost:8080/"
        },
        "id": "1PBPl1pJyUPY",
        "outputId": "9db2bbe8-26f5-4f48-ddb3-e8690b5fec9d"
      },
      "execution_count": null,
      "outputs": [
        {
          "output_type": "stream",
          "name": "stdout",
          "text": [
            "Введите возраст посетителя (или пустая строка для оканчания ввода): 2\n",
            "Введите возраст посетителя (или пустая строка для оканчания ввода): 12\n",
            "Введите возраст посетителя (или пустая строка для оканчания ввода): 64\n",
            "Введите возраст посетителя (или пустая строка для оканчания ввода): 99\n",
            "Введите возраст посетителя (или пустая строка для оканчания ввода): \n",
            "The total price of visitors:  550.0 ₽\n",
            "The total price for this group of visitors is 550.00 rubles\n"
          ]
        }
      ]
    },
    {
      "cell_type": "code",
      "source": [
        "## Порядок сортировки\n",
        "\n",
        "nums = []\n",
        "\n",
        "ints = int(input(\"Input ints nums (or 0 to exit): \"))\n",
        "\n",
        "while ints != 0:\n",
        "    nums.append(ints)\n",
        "    ints = int(input(\"Input ints nums (or 0 to exit): \"))\n",
        "\n",
        "nums.sort()\n",
        "\n",
        "for ints in nums:\n",
        "    print(ints)\n",
        "\n"
      ],
      "metadata": {
        "colab": {
          "base_uri": "https://localhost:8080/"
        },
        "id": "Y6HPcoB1E-S4",
        "outputId": "a75f77fa-a60d-4ba3-cb84-1945101d85ed"
      },
      "execution_count": null,
      "outputs": [
        {
          "output_type": "stream",
          "name": "stdout",
          "text": [
            "Input ints nums (or 0 to exit): 9\n",
            "Input ints nums (or 0 to exit): 8\n",
            "Input ints nums (or 0 to exit): 7\n",
            "Input ints nums (or 0 to exit): 0\n",
            "7\n",
            "8\n",
            "9\n"
          ]
        }
      ]
    },
    {
      "cell_type": "code",
      "source": [
        "# Случайные лотерейные номера\n",
        "\n",
        "import random\n",
        "\n",
        "# Задаем диапазон\n",
        "n = 49  # Максимальное число\n",
        "k = 6   # Количество случайных чисел\n",
        "\n",
        "# Генерируем случайные числа без дубликатов\n",
        "random_numbers = random.sample(range(1, n + 1), k)\n",
        "\n",
        "print(random_numbers)\n"
      ],
      "metadata": {
        "colab": {
          "base_uri": "https://localhost:8080/"
        },
        "id": "ZJUB5NTFHQcQ",
        "outputId": "d8d7022a-32e4-4fb0-c962-434534d0d44d"
      },
      "execution_count": null,
      "outputs": [
        {
          "output_type": "stream",
          "name": "stdout",
          "text": [
            "[11, 17, 30, 43, 10, 2]\n"
          ]
        }
      ]
    },
    {
      "cell_type": "markdown",
      "source": [
        "random.sample()"
      ],
      "metadata": {
        "id": "6R_vbXN6SaAJ"
      }
    },
    {
      "cell_type": "code",
      "source": [
        "import random\n",
        "\n",
        "listt = [1, 2, 3, 4, 5]\n",
        "print(random.sample(listt, 3)) # []"
      ],
      "metadata": {
        "colab": {
          "base_uri": "https://localhost:8080/"
        },
        "id": "EPZi8A5sPc8-",
        "outputId": "5d6fa46e-bdb1-48c1-8bc5-d0df990f899e"
      },
      "execution_count": null,
      "outputs": [
        {
          "output_type": "stream",
          "name": "stdout",
          "text": [
            "[1, 5, 4]\n"
          ]
        }
      ]
    },
    {
      "cell_type": "markdown",
      "source": [
        "Выбор случайных элементов из строки"
      ],
      "metadata": {
        "id": "Wtf0UM8yS-8a"
      }
    },
    {
      "cell_type": "code",
      "source": [
        "my_string = \"Ahmed Fadil yoo\"\n",
        "\n",
        "some_elemnts = random.sample(my_string, 9) # []\n",
        "print(some_elemnts)"
      ],
      "metadata": {
        "colab": {
          "base_uri": "https://localhost:8080/"
        },
        "id": "azQKtHbUS5JU",
        "outputId": "ea2c659a-0ab8-4fdf-c777-a2bf86d6f52f"
      },
      "execution_count": null,
      "outputs": [
        {
          "output_type": "stream",
          "name": "stdout",
          "text": [
            "['h', 'y', 'e', 'a', 'd', 'F', 'o', 'A', ' ']\n"
          ]
        }
      ]
    },
    {
      "cell_type": "code",
      "source": [
        "# Выбор из множство\n",
        "\n",
        "import random\n",
        "\n",
        "my_set = {10, 20, 30, 40, 50}\n",
        "\n",
        "sample_nums = random.sample(my_set, 3)\n",
        "print(sample_nums)"
      ],
      "metadata": {
        "colab": {
          "base_uri": "https://localhost:8080/"
        },
        "id": "m29-XKIaTjIi",
        "outputId": "a6f7c74d-5bb2-41ae-b885-05e90eb7192a"
      },
      "execution_count": null,
      "outputs": [
        {
          "output_type": "stream",
          "name": "stdout",
          "text": [
            "[10, 20, 30]\n"
          ]
        },
        {
          "output_type": "stream",
          "name": "stderr",
          "text": [
            "<ipython-input-6-3bc90c3a0f49>:7: DeprecationWarning: Sampling from a set deprecated\n",
            "since Python 3.9 and will be removed in a subsequent version.\n",
            "  sample_nums = random.sample(my_set, 3)\n"
          ]
        }
      ]
    },
    {
      "cell_type": "markdown",
      "source": [
        "random.randrange()"
      ],
      "metadata": {
        "id": "AgDoiWfGe7q-"
      }
    },
    {
      "cell_type": "code",
      "source": [
        "import random\n",
        "\n",
        "random_nums = random.randrange(1, 27, 3)\n",
        "print(random_nums)"
      ],
      "metadata": {
        "colab": {
          "base_uri": "https://localhost:8080/"
        },
        "id": "HuDv6jckfAcG",
        "outputId": "09c281fc-2405-49f2-edbf-612b0014d12e"
      },
      "execution_count": null,
      "outputs": [
        {
          "output_type": "stream",
          "name": "stdout",
          "text": [
            "25\n"
          ]
        }
      ]
    },
    {
      "cell_type": "code",
      "source": [
        "# Решение\n",
        "#@title Решение\n",
        "##\n",
        "# Собираем уникальные случайные номера для лотерейного билета\n",
        "#\n",
        "from random import randrange\n",
        "MIN_NUM = 1\n",
        "MAX_NUM = 49\n",
        "NUM_NUMS = 6\n",
        "\n",
        "# Используем список для хранения номеров лотерейного билета\n",
        "ticket_nums = []\n",
        "\n",
        "# Генерируем NUM_NUMS случайных, но уникальных значений\n",
        "for i in range(NUM_NUMS):\n",
        "    # Генерируем номер, которого еще нет в списке\n",
        "    rand = randrange(MIN_NUM, MAX_NUM + 1)\n",
        "    while rand in ticket_nums:\n",
        "        # Будем перегенерировать число, пока оно есть в списке\n",
        "        rand = randrange(MIN_NUM, MAX_NUM + 1)\n",
        "    ticket_nums.append(rand)\n",
        "\n",
        "# Сортируем номера по возрастанию и отображаем их\n",
        "ticket_nums.sort()\n",
        "# print(\"Номера вашего билета: \", end=\"\")\n",
        "# for n in ticket_nums:\n",
        "#     print(n, end=\" \")\n",
        "# print()\n",
        "\n",
        "print(\"Номера вашего билета: \", *ticket_nums)"
      ],
      "metadata": {
        "colab": {
          "base_uri": "https://localhost:8080/"
        },
        "id": "LXbytszljan2",
        "outputId": "2b25e03d-1d0f-4495-ad41-ad8716962919"
      },
      "execution_count": null,
      "outputs": [
        {
          "output_type": "stream",
          "name": "stdout",
          "text": [
            "Номера вашего билета:  7 12 14 16 37 42\n"
          ]
        }
      ]
    },
    {
      "cell_type": "code",
      "source": [
        "# Решение (более элегантное с применением множеств)\n",
        "\n",
        "# Собираем уникальные случайные номера для лотерейного билета\n",
        "from random import randrange\n",
        "MIN_NUM = 1\n",
        "MAX_NUM = 49\n",
        "NUM_NUMS = 6\n",
        "\n",
        "# Используем список для хранения номеров лотерейного билета\n",
        "ticket_nums = set()\n",
        "\n",
        "# Генерируем NUM_NUMS случайных, но уникальных значений\n",
        "while len(ticket_nums) < NUM_NUMS:\n",
        "    # Генерируем номер, которого еще нет в списке\n",
        "    ticket_nums.add(randrange(MIN_NUM, MAX_NUM + 1))\n",
        "\n",
        "# Сортируем номера по возрастанию и отображаем их\n",
        "ticket_nums = sorted(ticket_nums)\n",
        "\n",
        "print(\"Номера вашего билета: \", end=\"\")\n",
        "for n in ticket_nums:\n",
        "    print(n, end=\" \")\n"
      ],
      "metadata": {
        "id": "rFeMq3uKn77C"
      },
      "execution_count": null,
      "outputs": []
    },
    {
      "cell_type": "code",
      "source": [
        "#@title Решение (более элегантное с применением множеств)\n",
        "##\n",
        "# Собираем уникальные случайные номера для лотерейного билета\n",
        "#\n",
        "from random import randrange\n",
        "MIN_NUM = 1\n",
        "MAX_NUM = 49\n",
        "NUM_NUMS = 6\n",
        "\n",
        "# Используем список для хранения номеров лотерейного билета\n",
        "ticket_nums = set()\n",
        "# Генерируем NUM_NUMS случайных, но уникальных значений\n",
        "while len(ticket_nums) < NUM_NUMS:\n",
        "    # Генерируем номер, которого еще нет в списке\n",
        "    ticket_nums.add(randrange(MIN_NUM, MAX_NUM + 1))\n",
        "\n",
        "# Сортируем номера по возрастанию и отображаем их\n",
        "ticket_nums = sorted(ticket_nums)\n",
        "\n",
        "print(\"Номера вашего билета: \", end=\"\")\n",
        "for n in ticket_nums:\n",
        "    print(n, end=\" \")"
      ],
      "metadata": {
        "colab": {
          "base_uri": "https://localhost:8080/"
        },
        "id": "CzMoHOGj33Rt",
        "outputId": "55105e43-d8a6-4bab-fd47-5f015d015b15"
      },
      "execution_count": 21,
      "outputs": [
        {
          "output_type": "stream",
          "name": "stdout",
          "text": [
            "Номера вашего билета: 6 9 13 19 25 42 "
          ]
        }
      ]
    },
    {
      "cell_type": "code",
      "source": [
        "# Уникальные символы\n",
        "\n",
        "s = input(\"Inter a string: \")\n",
        "\n",
        "dic_s = {}\n",
        "\n",
        "for i in s:\n",
        "  dic_s[i] = True\n",
        "\n",
        "print(\"Unique letters are \", len(dic_s))"
      ],
      "metadata": {
        "colab": {
          "base_uri": "https://localhost:8080/"
        },
        "id": "r-IRiqRS7WAS",
        "outputId": "3b7ad02d-7797-48a7-cf26-abb9aed002c4"
      },
      "execution_count": 35,
      "outputs": [
        {
          "output_type": "stream",
          "name": "stdout",
          "text": [
            "Inter a string: Russian Federation \n",
            "Unique letters are  13\n"
          ]
        }
      ]
    }
  ]
}