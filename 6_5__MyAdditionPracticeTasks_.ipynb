{
  "nbformat": 4,
  "nbformat_minor": 0,
  "metadata": {
    "colab": {
      "provenance": [],
      "authorship_tag": "ABX9TyMVIm2tJdLhrlHmn4FOH7Q1"
    },
    "kernelspec": {
      "name": "python3",
      "display_name": "Python 3"
    },
    "language_info": {
      "name": "python"
    }
  },
  "cells": [
    {
      "cell_type": "code",
      "execution_count": 35,
      "metadata": {
        "id": "N1Xu1PpneybI"
      },
      "outputs": [],
      "source": [
        "file = open(\"input.txt\", \"w\") # мы открыли файл для записи, если он уже создан, то будет перезаписан\n",
        "# Для работы с многострочным текстом, его необходимо заключить в тройные одинарные кавычки.\n",
        "\n",
        "text = '''Это первая строка!\\n\n",
        "Это третья строка!\\n\n",
        "Это пятая строка!\\n\n",
        "Это седьмая строка!'''\n",
        "# мы получили в переменную file дескриптор файла (ссылку на файл) и теперь по нему можем работать с файлом\n",
        "file.write(text) # Записываем текст целиком в файл\n",
        "file.close() # Закрываем файл"
      ]
    },
    {
      "cell_type": "code",
      "source": [
        "file = open(\"input.txt\", \"w\")\n",
        "\n",
        "text = '''The first line\\n\n",
        "The therd line\\n\n",
        "The fifth line\\n\n",
        "The seventh line!'''\n",
        "\n",
        "file.write(text)\n",
        "file.close()"
      ],
      "metadata": {
        "id": "j26AcnTKZUzS"
      },
      "execution_count": 36,
      "outputs": []
    },
    {
      "cell_type": "code",
      "source": [
        "import os\n",
        "print(os.getcwd())"
      ],
      "metadata": {
        "colab": {
          "base_uri": "https://localhost:8080/"
        },
        "id": "xv58sVCFcjXK",
        "outputId": "116ed2d0-2236-4444-f91f-794d9816a3ed"
      },
      "execution_count": 37,
      "outputs": [
        {
          "output_type": "stream",
          "name": "stdout",
          "text": [
            "/content\n"
          ]
        }
      ]
    },
    {
      "cell_type": "code",
      "source": [
        "file = open(\"input.txt\", \"r\")\n",
        "\n",
        "lines = file.readlines()\n",
        "print(f'The file have {len(lines)} lines:\\n')\n",
        "for line in lines:\n",
        "  print(line)\n",
        "\n",
        "file.close()"
      ],
      "metadata": {
        "colab": {
          "base_uri": "https://localhost:8080/"
        },
        "id": "JPDWxCBOcwQw",
        "outputId": "ca918b4f-3595-48d3-8c59-5fcb02ced130"
      },
      "execution_count": 38,
      "outputs": [
        {
          "output_type": "stream",
          "name": "stdout",
          "text": [
            "The file have 7 lines:\n",
            "\n",
            "The first line\n",
            "\n",
            "\n",
            "\n",
            "The therd line\n",
            "\n",
            "\n",
            "\n",
            "The fifth line\n",
            "\n",
            "\n",
            "\n",
            "The seventh line!\n"
          ]
        }
      ]
    },
    {
      "cell_type": "code",
      "source": [
        "with open(\"input.txt\", \"a\") as file:\n",
        "    file.write('\\nThis is the eighth line')"
      ],
      "metadata": {
        "id": "6v4quhrnwaGe"
      },
      "execution_count": 39,
      "outputs": []
    },
    {
      "cell_type": "code",
      "source": [
        "with open(\"input.txt\", \"r\") as file:\n",
        "    read_file = file.read()\n",
        "    print(read_file)"
      ],
      "metadata": {
        "colab": {
          "base_uri": "https://localhost:8080/"
        },
        "id": "ABhru8Iaxf1K",
        "outputId": "781e8539-3fe7-4ef2-8c6a-9461876187f1"
      },
      "execution_count": 40,
      "outputs": [
        {
          "output_type": "stream",
          "name": "stdout",
          "text": [
            "The first line\n",
            "\n",
            "The therd line\n",
            "\n",
            "The fifth line\n",
            "\n",
            "The seventh line!\n",
            "This is the eighth line\n"
          ]
        }
      ]
    },
    {
      "cell_type": "code",
      "source": [
        "with open(\"input.txt\", \"r\") as file:\n",
        "    read_line = file.readline()\n",
        "    print(read_line)\n",
        "    print(read_line.rstrip())"
      ],
      "metadata": {
        "colab": {
          "base_uri": "https://localhost:8080/"
        },
        "id": "rrkgwO2GzGsg",
        "outputId": "1895bde1-2c9e-48c4-e48e-ca1a8541fb64"
      },
      "execution_count": 41,
      "outputs": [
        {
          "output_type": "stream",
          "name": "stdout",
          "text": [
            "The first line\n",
            "\n",
            "The first line\n"
          ]
        }
      ]
    },
    {
      "cell_type": "code",
      "source": [
        "with open(\"input.txt\", \"r\") as file:\n",
        "    read_lines = file.readlines()\n",
        "    print(f\"The file has {len(read_lines)} lines\")\n",
        "    print(read_lines)"
      ],
      "metadata": {
        "colab": {
          "base_uri": "https://localhost:8080/"
        },
        "id": "rZf8hAcI1gi7",
        "outputId": "5db97fdb-d148-4153-b0db-0b454540fa9e"
      },
      "execution_count": 42,
      "outputs": [
        {
          "output_type": "stream",
          "name": "stdout",
          "text": [
            "The file has 8 lines\n",
            "['The first line\\n', '\\n', 'The therd line\\n', '\\n', 'The fifth line\\n', '\\n', 'The seventh line!\\n', 'This is the eighth line']\n"
          ]
        }
      ]
    }
  ]
}