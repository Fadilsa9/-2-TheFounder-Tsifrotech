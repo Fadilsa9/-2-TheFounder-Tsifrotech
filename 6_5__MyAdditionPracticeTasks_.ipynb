{
  "nbformat": 4,
  "nbformat_minor": 0,
  "metadata": {
    "colab": {
      "provenance": [],
      "authorship_tag": "ABX9TyOvhXWrrFfz3qm9Uk41XEa4"
    },
    "kernelspec": {
      "name": "python3",
      "display_name": "Python 3"
    },
    "language_info": {
      "name": "python"
    }
  },
  "cells": [
    {
      "cell_type": "code",
      "execution_count": 2,
      "metadata": {
        "id": "N1Xu1PpneybI"
      },
      "outputs": [],
      "source": [
        "file = open(\"input.txt\", \"w\") # мы открыли файл для записи, если он уже создан, то будет перезаписан\n",
        "# Для работы с многострочным текстом, его необходимо заключить в тройные одинарные кавычки.\n",
        "\n",
        "text = '''Это первая строка!\\n\n",
        "Это третья строка!\\n\n",
        "Это пятая строка!\\n\n",
        "Это седьмая строка!'''\n",
        "# мы получили в переменную file дескриптор файла (ссылку на файл) и теперь по нему можем работать с файлом\n",
        "file.write(text) # Записываем текст целиком в файл\n",
        "file.close() # Закрываем файл"
      ]
    },
    {
      "cell_type": "code",
      "source": [
        "file = open(\"input.txt\", \"w\")\n",
        "\n",
        "text = '''The first line\\n\n",
        "The second line\\n\n",
        "The therd line\\n\n",
        "The forth line!'''\n",
        "\n",
        "file.write(text)\n",
        "file.close()"
      ],
      "metadata": {
        "id": "j26AcnTKZUzS"
      },
      "execution_count": 7,
      "outputs": []
    },
    {
      "cell_type": "code",
      "source": [
        "import os\n",
        "print(os.getcwd())"
      ],
      "metadata": {
        "colab": {
          "base_uri": "https://localhost:8080/"
        },
        "id": "xv58sVCFcjXK",
        "outputId": "79dcfa9e-9de2-452f-81a1-f8c6ff800c7d"
      },
      "execution_count": 8,
      "outputs": [
        {
          "output_type": "stream",
          "name": "stdout",
          "text": [
            "/content\n"
          ]
        }
      ]
    },
    {
      "cell_type": "code",
      "source": [
        "file = open(\"input.txt\", \"r\")\n",
        "\n",
        "lines = file.readlines()\n",
        "print(f'The file have {len(lines)} lines:\\n')\n",
        "for line in lines:\n",
        "  print(line)\n",
        "\n",
        "file.close()"
      ],
      "metadata": {
        "colab": {
          "base_uri": "https://localhost:8080/"
        },
        "id": "JPDWxCBOcwQw",
        "outputId": "c27c6cf8-6a59-4de3-f63b-ee2ac113b7fe"
      },
      "execution_count": 16,
      "outputs": [
        {
          "output_type": "stream",
          "name": "stdout",
          "text": [
            "The file have 7 lines:\n",
            "\n",
            "The first line\n",
            "\n",
            "\n",
            "\n",
            "The second line\n",
            "\n",
            "\n",
            "\n",
            "The therd line\n",
            "\n",
            "\n",
            "\n",
            "The forth line!\n"
          ]
        }
      ]
    }
  ]
}