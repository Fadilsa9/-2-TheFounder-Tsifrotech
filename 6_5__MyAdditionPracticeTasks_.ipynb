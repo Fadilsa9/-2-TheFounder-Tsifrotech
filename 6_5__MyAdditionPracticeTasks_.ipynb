{
  "nbformat": 4,
  "nbformat_minor": 0,
  "metadata": {
    "colab": {
      "provenance": [],
      "authorship_tag": "ABX9TyOUSMUkjPaYWlCWJRCu9sOf"
    },
    "kernelspec": {
      "name": "python3",
      "display_name": "Python 3"
    },
    "language_info": {
      "name": "python"
    }
  },
  "cells": [
    {
      "cell_type": "code",
      "execution_count": 23,
      "metadata": {
        "id": "N1Xu1PpneybI"
      },
      "outputs": [],
      "source": [
        "file = open(\"input.txt\", \"w\") # мы открыли файл для записи, если он уже создан, то будет перезаписан\n",
        "# Для работы с многострочным текстом, его необходимо заключить в тройные одинарные кавычки.\n",
        "\n",
        "text = '''Это первая строка!\\n\n",
        "Это третья строка!\\n\n",
        "Это пятая строка!\\n\n",
        "Это седьмая строка!'''\n",
        "# мы получили в переменную file дескриптор файла (ссылку на файл) и теперь по нему можем работать с файлом\n",
        "file.write(text) # Записываем текст целиком в файл\n",
        "file.close() # Закрываем файл"
      ]
    },
    {
      "cell_type": "code",
      "source": [
        "file = open(\"input.txt\", \"w\")\n",
        "\n",
        "text = '''The first line\\n\n",
        "The second line\\n\n",
        "The therd line\\n\n",
        "The forth line!'''\n",
        "\n",
        "file.write(text)\n",
        "file.close()"
      ],
      "metadata": {
        "id": "j26AcnTKZUzS"
      },
      "execution_count": 24,
      "outputs": []
    },
    {
      "cell_type": "code",
      "source": [
        "import os\n",
        "print(os.getcwd())"
      ],
      "metadata": {
        "colab": {
          "base_uri": "https://localhost:8080/"
        },
        "id": "xv58sVCFcjXK",
        "outputId": "5689e4b4-126b-462a-eb89-2bf1c1b587ce"
      },
      "execution_count": 25,
      "outputs": [
        {
          "output_type": "stream",
          "name": "stdout",
          "text": [
            "/content\n"
          ]
        }
      ]
    },
    {
      "cell_type": "code",
      "source": [
        "file = open(\"input.txt\", \"r\")\n",
        "\n",
        "lines = file.readlines()\n",
        "print(f'The file have {len(lines)} lines:\\n')\n",
        "for line in lines:\n",
        "  print(line)\n",
        "\n",
        "file.close()"
      ],
      "metadata": {
        "colab": {
          "base_uri": "https://localhost:8080/"
        },
        "id": "JPDWxCBOcwQw",
        "outputId": "e574e209-0088-48a1-9b0a-be7bc38ca4da"
      },
      "execution_count": 26,
      "outputs": [
        {
          "output_type": "stream",
          "name": "stdout",
          "text": [
            "The file have 7 lines:\n",
            "\n",
            "The first line\n",
            "\n",
            "\n",
            "\n",
            "The second line\n",
            "\n",
            "\n",
            "\n",
            "The therd line\n",
            "\n",
            "\n",
            "\n",
            "The forth line!\n"
          ]
        }
      ]
    },
    {
      "cell_type": "code",
      "source": [
        "with open(\"input.txt\", \"a\") as file:\n",
        "    file.write('\\nThis is the eighth line')"
      ],
      "metadata": {
        "id": "6v4quhrnwaGe"
      },
      "execution_count": 27,
      "outputs": []
    },
    {
      "cell_type": "code",
      "source": [
        "with open(\"input.txt\", \"r\") as file:\n",
        "    read_file = file.read()\n",
        "    print(read_file)"
      ],
      "metadata": {
        "colab": {
          "base_uri": "https://localhost:8080/"
        },
        "id": "ABhru8Iaxf1K",
        "outputId": "f36271b3-4918-48f2-b5d9-675a2a4c91a0"
      },
      "execution_count": 28,
      "outputs": [
        {
          "output_type": "stream",
          "name": "stdout",
          "text": [
            "The first line\n",
            "\n",
            "The second line\n",
            "\n",
            "The therd line\n",
            "\n",
            "The forth line!\n",
            "This is the eighth line\n"
          ]
        }
      ]
    },
    {
      "cell_type": "code",
      "source": [
        "with open(\"input.txt\", \"r\") as file:\n",
        "    read_line = file.readline()\n",
        "    print(read_line)\n",
        "    print(read_line.rstrip())"
      ],
      "metadata": {
        "colab": {
          "base_uri": "https://localhost:8080/"
        },
        "id": "rrkgwO2GzGsg",
        "outputId": "dff30904-13e8-4bda-b987-47a3a3e2ebcc"
      },
      "execution_count": 33,
      "outputs": [
        {
          "output_type": "stream",
          "name": "stdout",
          "text": [
            "The first line\n",
            "\n",
            "The first line\n"
          ]
        }
      ]
    }
  ]
}