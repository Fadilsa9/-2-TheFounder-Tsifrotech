{
  "nbformat": 4,
  "nbformat_minor": 0,
  "metadata": {
    "colab": {
      "provenance": [],
      "authorship_tag": "ABX9TyOYgnF7dftfAZhXmZdrDsha"
    },
    "kernelspec": {
      "name": "python3",
      "display_name": "Python 3"
    },
    "language_info": {
      "name": "python"
    }
  },
  "cells": [
    {
      "cell_type": "code",
      "execution_count": null,
      "metadata": {
        "id": "N1Xu1PpneybI"
      },
      "outputs": [],
      "source": [
        "file = open(\"input.txt\", \"w\") # мы открыли файл для записи, если он уже создан, то будет перезаписан\n",
        "# Для работы с многострочным текстом, его необходимо заключить в тройные одинарные кавычки.\n",
        "\n",
        "text = '''Это первая строка!\\n\n",
        "Это третья строка!\\n\n",
        "Это пятая строка!\\n\n",
        "Это седьмая строка!'''\n",
        "# мы получили в переменную file дескриптор файла (ссылку на файл) и теперь по нему можем работать с файлом\n",
        "file.write(text) # Записываем текст целиком в файл\n",
        "file.close() # Закрываем файл"
      ]
    },
    {
      "cell_type": "code",
      "source": [
        "file = open(\"input.txt\", \"w\")\n",
        "\n",
        "text = '''The first line\\n\n",
        "The therd line\\n\n",
        "The fifth line\\n\n",
        "The seventh line!'''\n",
        "\n",
        "file.write(text)\n",
        "file.close()"
      ],
      "metadata": {
        "id": "j26AcnTKZUzS"
      },
      "execution_count": null,
      "outputs": []
    },
    {
      "cell_type": "code",
      "source": [
        "import os\n",
        "print(os.getcwd())"
      ],
      "metadata": {
        "colab": {
          "base_uri": "https://localhost:8080/"
        },
        "id": "xv58sVCFcjXK",
        "outputId": "a88ab472-2588-430b-982a-b06eea6e6746"
      },
      "execution_count": null,
      "outputs": [
        {
          "output_type": "stream",
          "name": "stdout",
          "text": [
            "/content\n"
          ]
        }
      ]
    },
    {
      "cell_type": "code",
      "source": [
        "file = open(\"input.txt\", \"r\")\n",
        "\n",
        "lines = file.readlines()\n",
        "print(f'The file have {len(lines)} lines:\\n')\n",
        "for line in lines:\n",
        "  print(line)\n",
        "\n",
        "file.close()"
      ],
      "metadata": {
        "colab": {
          "base_uri": "https://localhost:8080/"
        },
        "id": "JPDWxCBOcwQw",
        "outputId": "a5a0cc4f-1d91-48d9-fa9b-3428c7f0b2b2"
      },
      "execution_count": null,
      "outputs": [
        {
          "output_type": "stream",
          "name": "stdout",
          "text": [
            "The file have 7 lines:\n",
            "\n",
            "The first line\n",
            "\n",
            "\n",
            "\n",
            "The therd line\n",
            "\n",
            "\n",
            "\n",
            "The fifth line\n",
            "\n",
            "\n",
            "\n",
            "The seventh line!\n"
          ]
        }
      ]
    },
    {
      "cell_type": "code",
      "source": [
        "with open(\"input.txt\", \"a\") as file:\n",
        "    file.write('\\nThis is the eighth line')"
      ],
      "metadata": {
        "id": "6v4quhrnwaGe"
      },
      "execution_count": null,
      "outputs": []
    },
    {
      "cell_type": "code",
      "source": [
        "with open(\"input.txt\", \"r\") as file:\n",
        "    read_file = file.read()\n",
        "    print(read_file)"
      ],
      "metadata": {
        "colab": {
          "base_uri": "https://localhost:8080/"
        },
        "id": "ABhru8Iaxf1K",
        "outputId": "adf7d159-1a84-4534-b454-27089e9afc30"
      },
      "execution_count": null,
      "outputs": [
        {
          "output_type": "stream",
          "name": "stdout",
          "text": [
            "The first line\n",
            "\n",
            "The therd line\n",
            "\n",
            "The fifth line\n",
            "\n",
            "The seventh line!\n",
            "This is the eighth line\n"
          ]
        }
      ]
    },
    {
      "cell_type": "code",
      "source": [
        "with open(\"input.txt\", \"r\") as file:\n",
        "    read_line = file.readline()\n",
        "    print(read_line)\n",
        "    print(read_line.rstrip())"
      ],
      "metadata": {
        "colab": {
          "base_uri": "https://localhost:8080/"
        },
        "id": "rrkgwO2GzGsg",
        "outputId": "eb3c0a62-b42a-486d-eb4c-e5f1a60b7f73"
      },
      "execution_count": null,
      "outputs": [
        {
          "output_type": "stream",
          "name": "stdout",
          "text": [
            "The first line\n",
            "\n",
            "The first line\n"
          ]
        }
      ]
    },
    {
      "cell_type": "code",
      "source": [
        "with open(\"input.txt\", \"r\") as file:\n",
        "    read_lines = file.readlines()\n",
        "    print(f\"The file has {len(read_lines)} lines\")\n",
        "    print(read_lines)"
      ],
      "metadata": {
        "colab": {
          "base_uri": "https://localhost:8080/"
        },
        "id": "rZf8hAcI1gi7",
        "outputId": "b7b76a01-2949-4a0e-9e89-61f4908eb442"
      },
      "execution_count": null,
      "outputs": [
        {
          "output_type": "stream",
          "name": "stdout",
          "text": [
            "The file has 8 lines\n",
            "['The first line\\n', '\\n', 'The therd line\\n', '\\n', 'The fifth line\\n', '\\n', 'The seventh line!\\n', 'This is the eighth line']\n"
          ]
        }
      ]
    },
    {
      "cell_type": "code",
      "source": [
        "line = \"This is a whole line\\n\"\n",
        "# print(line)\n",
        "print(line.rstrip())"
      ],
      "metadata": {
        "colab": {
          "base_uri": "https://localhost:8080/"
        },
        "id": "d3BPAXekDIyn",
        "outputId": "2a6645b3-80ad-4bdd-cf1a-68af14612527"
      },
      "execution_count": null,
      "outputs": [
        {
          "output_type": "stream",
          "name": "stdout",
          "text": [
            "This is a whole line\n"
          ]
        }
      ]
    },
    {
      "cell_type": "code",
      "source": [
        "line = \"      This is a whole line\\n\"\n",
        "print(line)"
      ],
      "metadata": {
        "colab": {
          "base_uri": "https://localhost:8080/"
        },
        "id": "VG8enKB3DlMJ",
        "outputId": "59689088-f3f9-498b-df4e-82d503907ac7"
      },
      "execution_count": null,
      "outputs": [
        {
          "output_type": "stream",
          "name": "stdout",
          "text": [
            "      This is a whole line\n",
            "\n"
          ]
        }
      ]
    },
    {
      "cell_type": "code",
      "source": [
        "print(line.lstrip())"
      ],
      "metadata": {
        "colab": {
          "base_uri": "https://localhost:8080/"
        },
        "id": "YCdelihKDleU",
        "outputId": "1eaa1bb6-729a-4b8c-d678-11fee6f4851e"
      },
      "execution_count": null,
      "outputs": [
        {
          "output_type": "stream",
          "name": "stdout",
          "text": [
            "This is a whole line\n",
            "\n"
          ]
        }
      ]
    },
    {
      "cell_type": "code",
      "source": [
        "line = \"      This is a whole line       \\n\"\n",
        "print(line)\n",
        "print(line.strip())"
      ],
      "metadata": {
        "colab": {
          "base_uri": "https://localhost:8080/"
        },
        "id": "KWF_3mHzDlrF",
        "outputId": "6a3795de-36d7-4883-90a8-5f700f35698b"
      },
      "execution_count": null,
      "outputs": [
        {
          "output_type": "stream",
          "name": "stdout",
          "text": [
            "      This is a whole line       \n",
            "\n",
            "This is a whole line\n"
          ]
        }
      ]
    },
    {
      "cell_type": "code",
      "source": [
        "from bs4 import BeautifulSoup\n",
        "import requests\n",
        "\n",
        "url = (\"https://rbc.ru/\")\n",
        "html = requests.get(url).text\n",
        "\n",
        "soup = BeautifulSoup(html, \"html5lib\")\n",
        "\n",
        "# البحث عن العناصر المطلوبه\n",
        "top_news = soup.find_all('a', class_='main_feed_link')\n",
        "filteredNews = []\n",
        "\n",
        "# تنقية البيانات\n",
        "for data in top_news:\n",
        "    if data.find('span', class_='main_feed_title') is not None:\n",
        "        filteredNews.append(data.text.strip())\n",
        "\n",
        "for i, news in enumerate(filteredNews):\n",
        "    print(i+1, news)"
      ],
      "metadata": {
        "id": "rV2j0xsdoGV2"
      },
      "execution_count": null,
      "outputs": []
    },
    {
      "cell_type": "code",
      "source": [
        "def func_1():\n",
        "    print(\"Сейчас отдам число\")\n",
        "    return\n",
        "\n",
        "def func_2():\n",
        "    print(\"Сейчас отдам число\")\n",
        "    yield 1\n",
        "\n",
        "print(func_1())  # выводит: Сейчас отдам число \\n 1\n",
        "\n",
        "print(\"\\n---------\\n\")\n",
        "\n",
        "print(func_2())  # выводит: Сейчас отдам число \\n <generator object func_2 at ...>"
      ],
      "metadata": {
        "id": "mkct4M6boHXZ",
        "colab": {
          "base_uri": "https://localhost:8080/"
        },
        "outputId": "e07c481d-7ee3-4ecb-a7f6-1486a7eee0ab"
      },
      "execution_count": null,
      "outputs": [
        {
          "output_type": "stream",
          "name": "stdout",
          "text": [
            "Сейчас отдам число\n",
            "None\n",
            "\n",
            "---------\n",
            "\n",
            "<generator object func_2 at 0x7e45ee64cdc0>\n"
          ]
        }
      ]
    },
    {
      "cell_type": "code",
      "source": [
        "def my_gen(x):\n",
        "    while x > 0:\n",
        "        if x % 2 == 0:\n",
        "            yield 'Even'\n",
        "        else:\n",
        "            yield 'Odd'\n",
        "        x -= 1\n",
        "\n",
        "for value in my_gen(7):\n",
        "    print(value)"
      ],
      "metadata": {
        "colab": {
          "base_uri": "https://localhost:8080/"
        },
        "id": "YyWFl2FREgkE",
        "outputId": "b82ef7c0-27ef-4437-e5e8-10333c9d9fdc"
      },
      "execution_count": null,
      "outputs": [
        {
          "output_type": "stream",
          "name": "stdout",
          "text": [
            "Odd\n",
            "Even\n",
            "Odd\n",
            "Even\n",
            "Odd\n",
            "Even\n",
            "Odd\n"
          ]
        }
      ]
    },
    {
      "cell_type": "code",
      "source": [
        "for i in my_gen(7):\n",
        "    print(i)"
      ],
      "metadata": {
        "id": "U9S8Upw6oIh0",
        "colab": {
          "base_uri": "https://localhost:8080/"
        },
        "outputId": "3144927a-2fb9-4b15-d9f4-8078c04ed2fc"
      },
      "execution_count": null,
      "outputs": [
        {
          "output_type": "stream",
          "name": "stdout",
          "text": [
            "Odd\n",
            "Even\n",
            "Odd\n",
            "Even\n",
            "Odd\n",
            "Even\n",
            "Odd\n"
          ]
        }
      ]
    },
    {
      "cell_type": "code",
      "source": [
        "gen = my_gen(7)\n",
        "print(next(gen))  # выводит: Odd\n",
        "print(next(gen))  # выводит: Even"
      ],
      "metadata": {
        "colab": {
          "base_uri": "https://localhost:8080/"
        },
        "id": "2_fHPexfEnA4",
        "outputId": "058c5799-4743-4f68-aaf3-4d315c1c4a4d"
      },
      "execution_count": null,
      "outputs": [
        {
          "output_type": "stream",
          "name": "stdout",
          "text": [
            "Odd\n",
            "Even\n"
          ]
        }
      ]
    },
    {
      "cell_type": "code",
      "source": [
        "# import pandas as pd\n",
        "\n",
        "# # Step 1: جمع البيانات\n",
        "# data = pd.read_csv(\"sales_data.csv\")\n",
        "\n",
        "# # Step 2: تنظيف البيانات\n",
        "# data = data.dropna()  # إزالة القيم المفقودة\n",
        "\n",
        "# # Step 3: تحليل البيانات\n",
        "# total_sales = data['sales'].sum()\n",
        "# print(f\"إجمالي المبيعات: {total_sales}\")"
      ],
      "metadata": {
        "id": "9Bzm19BQfgu6"
      },
      "execution_count": null,
      "outputs": []
    },
    {
      "cell_type": "code",
      "source": [
        "from sklearn.pipeline import Pipeline\n",
        "from sklearn.preprocessing import StandardScaler\n",
        "from sklearn.linear_model import LogisticRegression\n",
        "\n",
        "# تعريف الـ Pipeline\n",
        "pipeline = Pipeline([\n",
        "    ('scaler', StandardScaler()),  # خطوة التحجيم\n",
        "    ('classifier', LogisticRegression())  # خطوة التصنيف\n",
        "])\n",
        "\n",
        "# تدريب النموذج\n",
        "X_train = [[1, 2], [2, 3], [3, 4]]\n",
        "y_train = [0, 1, 0]\n",
        "pipeline.fit(X_train, y_train)\n",
        "\n",
        "# التنبؤ\n",
        "predictions = pipeline.predict([[1.5, 2.5]])\n",
        "print(predictions)"
      ],
      "metadata": {
        "colab": {
          "base_uri": "https://localhost:8080/"
        },
        "id": "j7uTs_Iffg6z",
        "outputId": "371a22e1-06a0-4243-e7bd-c5092b820d64"
      },
      "execution_count": null,
      "outputs": [
        {
          "output_type": "stream",
          "name": "stdout",
          "text": [
            "[0]\n"
          ]
        }
      ]
    },
    {
      "cell_type": "code",
      "source": [
        "# import pandas as pd\n",
        "\n",
        "# # Extract: استخراج البيانات من ملف CSV\n",
        "# data = pd.read_csv(\"customer_data.csv\")\n",
        "\n",
        "# # Transform: تحويل البيانات (إزالة القيم المفقودة)\n",
        "# data_cleaned = data.dropna()\n",
        "\n",
        "# # Load: تحميل البيانات إلى ملف جديد\n",
        "# data_cleaned.to_csv(\"cleaned_customer_data.csv\", index=False)\n",
        "# print(\"تمت معالجة البيانات وتحميلها.\")"
      ],
      "metadata": {
        "id": "B-wkYCzffhDB"
      },
      "execution_count": null,
      "outputs": []
    },
    {
      "cell_type": "code",
      "source": [
        "# from sqlalchemy import create_engine\n",
        "# import pandas as pd\n",
        "\n",
        "# # Extract: استخراج البيانات من قاعدة بيانات\n",
        "# engine = create_engine('sqlite:///sales.db')\n",
        "# data = pd.read_sql(\"SELECT * FROM sales\", engine)\n",
        "\n",
        "# # Transform: تحويل البيانات (إضافة عمود جديد)\n",
        "# data['total'] = data['quantity'] * data['price']\n",
        "\n",
        "# # Load: تحميل البيانات إلى قاعدة جديدة\n",
        "# data.to_sql(\"processed_sales\", engine, if_exists=\"replace\", index=False)\n",
        "# print(\"تمت معالجة البيانات وتحميلها إلى قاعدة جديدة.\")\n"
      ],
      "metadata": {
        "id": "YWlYeLH_fhMX"
      },
      "execution_count": null,
      "outputs": []
    },
    {
      "cell_type": "code",
      "source": [
        "file = open(\"questions.txt\", \"r\")\n",
        "content = file.read()\n",
        "print(content)\n",
        "file.close()"
      ],
      "metadata": {
        "colab": {
          "base_uri": "https://localhost:8080/",
          "height": 193
        },
        "id": "OaJ8gD3SfhUa",
        "outputId": "2ad7e155-6f29-4274-f430-ad8d20d6bc78"
      },
      "execution_count": null,
      "outputs": [
        {
          "output_type": "error",
          "ename": "FileNotFoundError",
          "evalue": "[Errno 2] No such file or directory: 'questions.txt'",
          "traceback": [
            "\u001b[0;31m---------------------------------------------------------------------------\u001b[0m",
            "\u001b[0;31mFileNotFoundError\u001b[0m                         Traceback (most recent call last)",
            "\u001b[0;32m<ipython-input-1-1e7dfafdecfc>\u001b[0m in \u001b[0;36m<cell line: 0>\u001b[0;34m()\u001b[0m\n\u001b[0;32m----> 1\u001b[0;31m \u001b[0mfile\u001b[0m \u001b[0;34m=\u001b[0m \u001b[0mopen\u001b[0m\u001b[0;34m(\u001b[0m\u001b[0;34m\"questions.txt\"\u001b[0m\u001b[0;34m,\u001b[0m \u001b[0;34m\"r\"\u001b[0m\u001b[0;34m)\u001b[0m\u001b[0;34m\u001b[0m\u001b[0;34m\u001b[0m\u001b[0m\n\u001b[0m\u001b[1;32m      2\u001b[0m \u001b[0mcontent\u001b[0m \u001b[0;34m=\u001b[0m \u001b[0mfile\u001b[0m\u001b[0;34m.\u001b[0m\u001b[0mread\u001b[0m\u001b[0;34m(\u001b[0m\u001b[0;34m)\u001b[0m\u001b[0;34m\u001b[0m\u001b[0;34m\u001b[0m\u001b[0m\n\u001b[1;32m      3\u001b[0m \u001b[0mprint\u001b[0m\u001b[0;34m(\u001b[0m\u001b[0mcontent\u001b[0m\u001b[0;34m)\u001b[0m\u001b[0;34m\u001b[0m\u001b[0;34m\u001b[0m\u001b[0m\n\u001b[1;32m      4\u001b[0m \u001b[0mfile\u001b[0m\u001b[0;34m.\u001b[0m\u001b[0mclose\u001b[0m\u001b[0;34m(\u001b[0m\u001b[0;34m)\u001b[0m\u001b[0;34m\u001b[0m\u001b[0;34m\u001b[0m\u001b[0m\n",
            "\u001b[0;31mFileNotFoundError\u001b[0m: [Errno 2] No such file or directory: 'questions.txt'"
          ]
        }
      ]
    },
    {
      "cell_type": "code",
      "source": [
        "from google.colab import files\n",
        "\n",
        "# رفع الملف\n",
        "uploaded = files.upload()\n",
        "\n",
        "# قراءة محتوى الملف\n",
        "filename = list(uploaded.keys())[0]  # الحصول على اسم الملف\n",
        "with open(\"sss.txt\", 'r') as file:\n",
        "    content = file.read()\n",
        "    print(content)\n"
      ],
      "metadata": {
        "colab": {
          "base_uri": "https://localhost:8080/",
          "height": 246
        },
        "id": "eLz0tzO1fhbY",
        "outputId": "a23cdbd8-e9bd-4d69-dbd4-9790b5584c72"
      },
      "execution_count": null,
      "outputs": [
        {
          "output_type": "display_data",
          "data": {
            "text/plain": [
              "<IPython.core.display.HTML object>"
            ],
            "text/html": [
              "\n",
              "     <input type=\"file\" id=\"files-224d4c11-522b-48e5-af29-9dfdae0e9a4f\" name=\"files[]\" multiple disabled\n",
              "        style=\"border:none\" />\n",
              "     <output id=\"result-224d4c11-522b-48e5-af29-9dfdae0e9a4f\">\n",
              "      Upload widget is only available when the cell has been executed in the\n",
              "      current browser session. Please rerun this cell to enable.\n",
              "      </output>\n",
              "      <script>// Copyright 2017 Google LLC\n",
              "//\n",
              "// Licensed under the Apache License, Version 2.0 (the \"License\");\n",
              "// you may not use this file except in compliance with the License.\n",
              "// You may obtain a copy of the License at\n",
              "//\n",
              "//      http://www.apache.org/licenses/LICENSE-2.0\n",
              "//\n",
              "// Unless required by applicable law or agreed to in writing, software\n",
              "// distributed under the License is distributed on an \"AS IS\" BASIS,\n",
              "// WITHOUT WARRANTIES OR CONDITIONS OF ANY KIND, either express or implied.\n",
              "// See the License for the specific language governing permissions and\n",
              "// limitations under the License.\n",
              "\n",
              "/**\n",
              " * @fileoverview Helpers for google.colab Python module.\n",
              " */\n",
              "(function(scope) {\n",
              "function span(text, styleAttributes = {}) {\n",
              "  const element = document.createElement('span');\n",
              "  element.textContent = text;\n",
              "  for (const key of Object.keys(styleAttributes)) {\n",
              "    element.style[key] = styleAttributes[key];\n",
              "  }\n",
              "  return element;\n",
              "}\n",
              "\n",
              "// Max number of bytes which will be uploaded at a time.\n",
              "const MAX_PAYLOAD_SIZE = 100 * 1024;\n",
              "\n",
              "function _uploadFiles(inputId, outputId) {\n",
              "  const steps = uploadFilesStep(inputId, outputId);\n",
              "  const outputElement = document.getElementById(outputId);\n",
              "  // Cache steps on the outputElement to make it available for the next call\n",
              "  // to uploadFilesContinue from Python.\n",
              "  outputElement.steps = steps;\n",
              "\n",
              "  return _uploadFilesContinue(outputId);\n",
              "}\n",
              "\n",
              "// This is roughly an async generator (not supported in the browser yet),\n",
              "// where there are multiple asynchronous steps and the Python side is going\n",
              "// to poll for completion of each step.\n",
              "// This uses a Promise to block the python side on completion of each step,\n",
              "// then passes the result of the previous step as the input to the next step.\n",
              "function _uploadFilesContinue(outputId) {\n",
              "  const outputElement = document.getElementById(outputId);\n",
              "  const steps = outputElement.steps;\n",
              "\n",
              "  const next = steps.next(outputElement.lastPromiseValue);\n",
              "  return Promise.resolve(next.value.promise).then((value) => {\n",
              "    // Cache the last promise value to make it available to the next\n",
              "    // step of the generator.\n",
              "    outputElement.lastPromiseValue = value;\n",
              "    return next.value.response;\n",
              "  });\n",
              "}\n",
              "\n",
              "/**\n",
              " * Generator function which is called between each async step of the upload\n",
              " * process.\n",
              " * @param {string} inputId Element ID of the input file picker element.\n",
              " * @param {string} outputId Element ID of the output display.\n",
              " * @return {!Iterable<!Object>} Iterable of next steps.\n",
              " */\n",
              "function* uploadFilesStep(inputId, outputId) {\n",
              "  const inputElement = document.getElementById(inputId);\n",
              "  inputElement.disabled = false;\n",
              "\n",
              "  const outputElement = document.getElementById(outputId);\n",
              "  outputElement.innerHTML = '';\n",
              "\n",
              "  const pickedPromise = new Promise((resolve) => {\n",
              "    inputElement.addEventListener('change', (e) => {\n",
              "      resolve(e.target.files);\n",
              "    });\n",
              "  });\n",
              "\n",
              "  const cancel = document.createElement('button');\n",
              "  inputElement.parentElement.appendChild(cancel);\n",
              "  cancel.textContent = 'Cancel upload';\n",
              "  const cancelPromise = new Promise((resolve) => {\n",
              "    cancel.onclick = () => {\n",
              "      resolve(null);\n",
              "    };\n",
              "  });\n",
              "\n",
              "  // Wait for the user to pick the files.\n",
              "  const files = yield {\n",
              "    promise: Promise.race([pickedPromise, cancelPromise]),\n",
              "    response: {\n",
              "      action: 'starting',\n",
              "    }\n",
              "  };\n",
              "\n",
              "  cancel.remove();\n",
              "\n",
              "  // Disable the input element since further picks are not allowed.\n",
              "  inputElement.disabled = true;\n",
              "\n",
              "  if (!files) {\n",
              "    return {\n",
              "      response: {\n",
              "        action: 'complete',\n",
              "      }\n",
              "    };\n",
              "  }\n",
              "\n",
              "  for (const file of files) {\n",
              "    const li = document.createElement('li');\n",
              "    li.append(span(file.name, {fontWeight: 'bold'}));\n",
              "    li.append(span(\n",
              "        `(${file.type || 'n/a'}) - ${file.size} bytes, ` +\n",
              "        `last modified: ${\n",
              "            file.lastModifiedDate ? file.lastModifiedDate.toLocaleDateString() :\n",
              "                                    'n/a'} - `));\n",
              "    const percent = span('0% done');\n",
              "    li.appendChild(percent);\n",
              "\n",
              "    outputElement.appendChild(li);\n",
              "\n",
              "    const fileDataPromise = new Promise((resolve) => {\n",
              "      const reader = new FileReader();\n",
              "      reader.onload = (e) => {\n",
              "        resolve(e.target.result);\n",
              "      };\n",
              "      reader.readAsArrayBuffer(file);\n",
              "    });\n",
              "    // Wait for the data to be ready.\n",
              "    let fileData = yield {\n",
              "      promise: fileDataPromise,\n",
              "      response: {\n",
              "        action: 'continue',\n",
              "      }\n",
              "    };\n",
              "\n",
              "    // Use a chunked sending to avoid message size limits. See b/62115660.\n",
              "    let position = 0;\n",
              "    do {\n",
              "      const length = Math.min(fileData.byteLength - position, MAX_PAYLOAD_SIZE);\n",
              "      const chunk = new Uint8Array(fileData, position, length);\n",
              "      position += length;\n",
              "\n",
              "      const base64 = btoa(String.fromCharCode.apply(null, chunk));\n",
              "      yield {\n",
              "        response: {\n",
              "          action: 'append',\n",
              "          file: file.name,\n",
              "          data: base64,\n",
              "        },\n",
              "      };\n",
              "\n",
              "      let percentDone = fileData.byteLength === 0 ?\n",
              "          100 :\n",
              "          Math.round((position / fileData.byteLength) * 100);\n",
              "      percent.textContent = `${percentDone}% done`;\n",
              "\n",
              "    } while (position < fileData.byteLength);\n",
              "  }\n",
              "\n",
              "  // All done.\n",
              "  yield {\n",
              "    response: {\n",
              "      action: 'complete',\n",
              "    }\n",
              "  };\n",
              "}\n",
              "\n",
              "scope.google = scope.google || {};\n",
              "scope.google.colab = scope.google.colab || {};\n",
              "scope.google.colab._files = {\n",
              "  _uploadFiles,\n",
              "  _uploadFilesContinue,\n",
              "};\n",
              "})(self);\n",
              "</script> "
            ]
          },
          "metadata": {}
        },
        {
          "output_type": "stream",
          "name": "stdout",
          "text": [
            "Saving sss.txt to sss.txt\n",
            "# from sqlalchemy import create_engine\n",
            "# import pandas as pd\n",
            "\n",
            "# engine = create_engine('sqlite:///sales.db')\n",
            "# data = pd.read_sql(\"SELECT * FROM sales\", engine)\n",
            "\n",
            "# data['total'] = data['quantity'] * data['price']\n",
            "\n",
            "# data.to_sql(\"processed_sales\", engine, if_exists=\"replace\", index=False)\n",
            "\n"
          ]
        }
      ]
    },
    {
      "cell_type": "code",
      "source": [
        "from functools import reduce\n",
        "\n",
        "# قائمة الأعداد\n",
        "numbers = [1, 2, 3, 4, 5]\n",
        "\n",
        "# دالة لجمع الأعداد\n",
        "sum_result = reduce(lambda x, y: x + y, numbers)\n",
        "# sum_result = lambda x, y: x + y, numbers\n",
        "print(sum_result)"
      ],
      "metadata": {
        "colab": {
          "base_uri": "https://localhost:8080/"
        },
        "id": "-KlpDRhs2i9o",
        "outputId": "261f90f3-3457-41bb-8293-415e1936dff6"
      },
      "execution_count": 7,
      "outputs": [
        {
          "output_type": "stream",
          "name": "stdout",
          "text": [
            "15\n"
          ]
        }
      ]
    },
    {
      "cell_type": "code",
      "source": [
        "import requests\n",
        "\n",
        "# عنوان API الخاص بالطقس\n",
        "url = \"https://api.openweathermap.org/data/2.5/weather\"\n",
        "params = {\n",
        "    \"q\": \"Riyadh\",  # اسم المدينة\n",
        "    \"appid\": \"#####\",  # مفتاح API الخاص بك\n",
        "    \"units\": \"metric\"  # الوحدة (مئوية)\n",
        "}\n",
        "\n",
        "# إرسال الطلب والحصول على الرد\n",
        "response = requests.get(url, params=params)\n",
        "\n",
        "# تحويل الرد إلى JSON\n",
        "data = response.json()\n",
        "\n",
        "# طباعة درجة الحرارة وحالة الطقس\n",
        "print(f\"درجة الحرارة في {data['name']}: {data['main']['temp']}°C\")\n",
        "print(f\"حالة الطقس: {data['weather'][0]['description']}\")"
      ],
      "metadata": {
        "id": "K-eVb6v3Tp41"
      },
      "execution_count": null,
      "outputs": []
    },
    {
      "cell_type": "code",
      "source": [
        "from twilio.rest import Client\n",
        "\n",
        "# بيانات الحساب\n",
        "account_sid = \"YOUR_ACCOUNT_SID\"\n",
        "auth_token = \"#########\"\n",
        "\n",
        "# إنشاء عميل Twilio\n",
        "client = Client(account_sid, auth_token)\n",
        "\n",
        "# إرسال الرسالة\n",
        "message = client.messages.create(\n",
        "    body=\"مرحبًا، كيف حالك؟\",  # نص الرسالة\n",
        "    from_=\"+1234567890\",  # رقم الهاتف المُرسل منه\n",
        "    to=\"+966500000000\"  # رقم الهاتف المُرسل إليه\n",
        ")\n",
        "\n",
        "# طباعة معرف الرسالة\n",
        "print(f\"تم إرسال الرسالة بنجاح! معرف الرسالة: {message.sid}\")\n"
      ],
      "metadata": {
        "id": "keHSEqsTUFTH"
      },
      "execution_count": null,
      "outputs": []
    }
  ]
}