{
  "nbformat": 4,
  "nbformat_minor": 0,
  "metadata": {
    "colab": {
      "provenance": [],
      "authorship_tag": "ABX9TyMzxlO9UQjFxJebaNfPMRYu"
    },
    "kernelspec": {
      "name": "python3",
      "display_name": "Python 3"
    },
    "language_info": {
      "name": "python"
    }
  },
  "cells": [
    {
      "cell_type": "code",
      "execution_count": null,
      "metadata": {
        "id": "N1Xu1PpneybI"
      },
      "outputs": [],
      "source": [
        "file = open(\"input.txt\", \"w\") # мы открыли файл для записи, если он уже создан, то будет перезаписан\n",
        "# Для работы с многострочным текстом, его необходимо заключить в тройные одинарные кавычки.\n",
        "\n",
        "text = '''Это первая строка!\\n\n",
        "Это третья строка!\\n\n",
        "Это пятая строка!\\n\n",
        "Это седьмая строка!'''\n",
        "# мы получили в переменную file дескриптор файла (ссылку на файл) и теперь по нему можем работать с файлом\n",
        "file.write(text) # Записываем текст целиком в файл\n",
        "file.close() # Закрываем файл"
      ]
    },
    {
      "cell_type": "code",
      "source": [
        "file = open(\"input.txt\", \"w\")\n",
        "\n",
        "text = '''The first line\\n\n",
        "The therd line\\n\n",
        "The fifth line\\n\n",
        "The seventh line!'''\n",
        "\n",
        "file.write(text)\n",
        "file.close()"
      ],
      "metadata": {
        "id": "j26AcnTKZUzS"
      },
      "execution_count": null,
      "outputs": []
    },
    {
      "cell_type": "code",
      "source": [
        "import os\n",
        "print(os.getcwd())"
      ],
      "metadata": {
        "colab": {
          "base_uri": "https://localhost:8080/"
        },
        "id": "xv58sVCFcjXK",
        "outputId": "a88ab472-2588-430b-982a-b06eea6e6746"
      },
      "execution_count": null,
      "outputs": [
        {
          "output_type": "stream",
          "name": "stdout",
          "text": [
            "/content\n"
          ]
        }
      ]
    },
    {
      "cell_type": "code",
      "source": [
        "file = open(\"input.txt\", \"r\")\n",
        "\n",
        "lines = file.readlines()\n",
        "print(f'The file have {len(lines)} lines:\\n')\n",
        "for line in lines:\n",
        "  print(line)\n",
        "\n",
        "file.close()"
      ],
      "metadata": {
        "colab": {
          "base_uri": "https://localhost:8080/"
        },
        "id": "JPDWxCBOcwQw",
        "outputId": "a5a0cc4f-1d91-48d9-fa9b-3428c7f0b2b2"
      },
      "execution_count": null,
      "outputs": [
        {
          "output_type": "stream",
          "name": "stdout",
          "text": [
            "The file have 7 lines:\n",
            "\n",
            "The first line\n",
            "\n",
            "\n",
            "\n",
            "The therd line\n",
            "\n",
            "\n",
            "\n",
            "The fifth line\n",
            "\n",
            "\n",
            "\n",
            "The seventh line!\n"
          ]
        }
      ]
    },
    {
      "cell_type": "code",
      "source": [
        "with open(\"input.txt\", \"a\") as file:\n",
        "    file.write('\\nThis is the eighth line')"
      ],
      "metadata": {
        "id": "6v4quhrnwaGe"
      },
      "execution_count": null,
      "outputs": []
    },
    {
      "cell_type": "code",
      "source": [
        "with open(\"input.txt\", \"r\") as file:\n",
        "    read_file = file.read()\n",
        "    print(read_file)"
      ],
      "metadata": {
        "colab": {
          "base_uri": "https://localhost:8080/"
        },
        "id": "ABhru8Iaxf1K",
        "outputId": "adf7d159-1a84-4534-b454-27089e9afc30"
      },
      "execution_count": null,
      "outputs": [
        {
          "output_type": "stream",
          "name": "stdout",
          "text": [
            "The first line\n",
            "\n",
            "The therd line\n",
            "\n",
            "The fifth line\n",
            "\n",
            "The seventh line!\n",
            "This is the eighth line\n"
          ]
        }
      ]
    },
    {
      "cell_type": "code",
      "source": [
        "with open(\"input.txt\", \"r\") as file:\n",
        "    read_line = file.readline()\n",
        "    print(read_line)\n",
        "    print(read_line.rstrip())"
      ],
      "metadata": {
        "colab": {
          "base_uri": "https://localhost:8080/"
        },
        "id": "rrkgwO2GzGsg",
        "outputId": "eb3c0a62-b42a-486d-eb4c-e5f1a60b7f73"
      },
      "execution_count": null,
      "outputs": [
        {
          "output_type": "stream",
          "name": "stdout",
          "text": [
            "The first line\n",
            "\n",
            "The first line\n"
          ]
        }
      ]
    },
    {
      "cell_type": "code",
      "source": [
        "with open(\"input.txt\", \"r\") as file:\n",
        "    read_lines = file.readlines()\n",
        "    print(f\"The file has {len(read_lines)} lines\")\n",
        "    print(read_lines)"
      ],
      "metadata": {
        "colab": {
          "base_uri": "https://localhost:8080/"
        },
        "id": "rZf8hAcI1gi7",
        "outputId": "b7b76a01-2949-4a0e-9e89-61f4908eb442"
      },
      "execution_count": null,
      "outputs": [
        {
          "output_type": "stream",
          "name": "stdout",
          "text": [
            "The file has 8 lines\n",
            "['The first line\\n', '\\n', 'The therd line\\n', '\\n', 'The fifth line\\n', '\\n', 'The seventh line!\\n', 'This is the eighth line']\n"
          ]
        }
      ]
    },
    {
      "cell_type": "code",
      "source": [
        "line = \"This is a whole line\\n\"\n",
        "# print(line)\n",
        "print(line.rstrip())"
      ],
      "metadata": {
        "colab": {
          "base_uri": "https://localhost:8080/"
        },
        "id": "d3BPAXekDIyn",
        "outputId": "2a6645b3-80ad-4bdd-cf1a-68af14612527"
      },
      "execution_count": null,
      "outputs": [
        {
          "output_type": "stream",
          "name": "stdout",
          "text": [
            "This is a whole line\n"
          ]
        }
      ]
    },
    {
      "cell_type": "code",
      "source": [
        "line = \"      This is a whole line\\n\"\n",
        "print(line)"
      ],
      "metadata": {
        "colab": {
          "base_uri": "https://localhost:8080/"
        },
        "id": "VG8enKB3DlMJ",
        "outputId": "59689088-f3f9-498b-df4e-82d503907ac7"
      },
      "execution_count": null,
      "outputs": [
        {
          "output_type": "stream",
          "name": "stdout",
          "text": [
            "      This is a whole line\n",
            "\n"
          ]
        }
      ]
    },
    {
      "cell_type": "code",
      "source": [
        "print(line.lstrip())"
      ],
      "metadata": {
        "colab": {
          "base_uri": "https://localhost:8080/"
        },
        "id": "YCdelihKDleU",
        "outputId": "1eaa1bb6-729a-4b8c-d678-11fee6f4851e"
      },
      "execution_count": null,
      "outputs": [
        {
          "output_type": "stream",
          "name": "stdout",
          "text": [
            "This is a whole line\n",
            "\n"
          ]
        }
      ]
    },
    {
      "cell_type": "code",
      "source": [
        "line = \"      This is a whole line       \\n\"\n",
        "print(line)\n",
        "print(line.strip())"
      ],
      "metadata": {
        "colab": {
          "base_uri": "https://localhost:8080/"
        },
        "id": "KWF_3mHzDlrF",
        "outputId": "6a3795de-36d7-4883-90a8-5f700f35698b"
      },
      "execution_count": null,
      "outputs": [
        {
          "output_type": "stream",
          "name": "stdout",
          "text": [
            "      This is a whole line       \n",
            "\n",
            "This is a whole line\n"
          ]
        }
      ]
    },
    {
      "cell_type": "code",
      "source": [
        "from bs4 import BeautifulSoup\n",
        "import requests\n",
        "\n",
        "url = (\"https://rbc.ru/\")\n",
        "html = requests.get(url).text\n",
        "\n",
        "soup = BeautifulSoup(html, \"html5lib\")\n",
        "\n",
        "# البحث عن العناصر المطلوبه\n",
        "top_news = soup.find_all('a', class_='main_feed_link')\n",
        "filteredNews = []\n",
        "\n",
        "# تنقية البيانات\n",
        "for data in top_news:\n",
        "    if data.find('span', class_='main_feed_title') is not None:\n",
        "        filteredNews.append(data.text.strip())\n",
        "\n",
        "for i, news in enumerate(filteredNews):\n",
        "    print(i+1, news)"
      ],
      "metadata": {
        "id": "rV2j0xsdoGV2"
      },
      "execution_count": null,
      "outputs": []
    },
    {
      "cell_type": "code",
      "source": [
        "def func_1():\n",
        "    print(\"Сейчас отдам число\")\n",
        "    return\n",
        "\n",
        "def func_2():\n",
        "    print(\"Сейчас отдам число\")\n",
        "    yield 1\n",
        "\n",
        "print(func_1())  # выводит: Сейчас отдам число \\n 1\n",
        "\n",
        "print(\"\\n---------\\n\")\n",
        "\n",
        "print(func_2())  # выводит: Сейчас отдам число \\n <generator object func_2 at ...>"
      ],
      "metadata": {
        "id": "mkct4M6boHXZ",
        "colab": {
          "base_uri": "https://localhost:8080/"
        },
        "outputId": "e07c481d-7ee3-4ecb-a7f6-1486a7eee0ab"
      },
      "execution_count": null,
      "outputs": [
        {
          "output_type": "stream",
          "name": "stdout",
          "text": [
            "Сейчас отдам число\n",
            "None\n",
            "\n",
            "---------\n",
            "\n",
            "<generator object func_2 at 0x7e45ee64cdc0>\n"
          ]
        }
      ]
    },
    {
      "cell_type": "code",
      "source": [
        "def my_gen(x):\n",
        "    while x > 0:\n",
        "        if x % 2 == 0:\n",
        "            yield 'Even'\n",
        "        else:\n",
        "            yield 'Odd'\n",
        "        x -= 1\n",
        "\n",
        "for value in my_gen(7):\n",
        "    print(value)"
      ],
      "metadata": {
        "colab": {
          "base_uri": "https://localhost:8080/"
        },
        "id": "YyWFl2FREgkE",
        "outputId": "b82ef7c0-27ef-4437-e5e8-10333c9d9fdc"
      },
      "execution_count": null,
      "outputs": [
        {
          "output_type": "stream",
          "name": "stdout",
          "text": [
            "Odd\n",
            "Even\n",
            "Odd\n",
            "Even\n",
            "Odd\n",
            "Even\n",
            "Odd\n"
          ]
        }
      ]
    },
    {
      "cell_type": "code",
      "source": [
        "for i in my_gen(7):\n",
        "    print(i)"
      ],
      "metadata": {
        "id": "U9S8Upw6oIh0",
        "colab": {
          "base_uri": "https://localhost:8080/"
        },
        "outputId": "3144927a-2fb9-4b15-d9f4-8078c04ed2fc"
      },
      "execution_count": null,
      "outputs": [
        {
          "output_type": "stream",
          "name": "stdout",
          "text": [
            "Odd\n",
            "Even\n",
            "Odd\n",
            "Even\n",
            "Odd\n",
            "Even\n",
            "Odd\n"
          ]
        }
      ]
    },
    {
      "cell_type": "code",
      "source": [
        "gen = my_gen(7)\n",
        "print(next(gen))  # выводит: Odd\n",
        "print(next(gen))  # выводит: Even"
      ],
      "metadata": {
        "colab": {
          "base_uri": "https://localhost:8080/"
        },
        "id": "2_fHPexfEnA4",
        "outputId": "058c5799-4743-4f68-aaf3-4d315c1c4a4d"
      },
      "execution_count": null,
      "outputs": [
        {
          "output_type": "stream",
          "name": "stdout",
          "text": [
            "Odd\n",
            "Even\n"
          ]
        }
      ]
    },
    {
      "cell_type": "code",
      "source": [
        "# import pandas as pd\n",
        "\n",
        "# # Step 1: جمع البيانات\n",
        "# data = pd.read_csv(\"sales_data.csv\")\n",
        "\n",
        "# # Step 2: تنظيف البيانات\n",
        "# data = data.dropna()  # إزالة القيم المفقودة\n",
        "\n",
        "# # Step 3: تحليل البيانات\n",
        "# total_sales = data['sales'].sum()\n",
        "# print(f\"إجمالي المبيعات: {total_sales}\")"
      ],
      "metadata": {
        "id": "9Bzm19BQfgu6"
      },
      "execution_count": 2,
      "outputs": []
    },
    {
      "cell_type": "code",
      "source": [],
      "metadata": {
        "id": "j7uTs_Iffg6z"
      },
      "execution_count": null,
      "outputs": []
    },
    {
      "cell_type": "code",
      "source": [],
      "metadata": {
        "id": "B-wkYCzffhDB"
      },
      "execution_count": null,
      "outputs": []
    },
    {
      "cell_type": "code",
      "source": [],
      "metadata": {
        "id": "YWlYeLH_fhMX"
      },
      "execution_count": null,
      "outputs": []
    },
    {
      "cell_type": "code",
      "source": [],
      "metadata": {
        "id": "OaJ8gD3SfhUa"
      },
      "execution_count": null,
      "outputs": []
    },
    {
      "cell_type": "code",
      "source": [],
      "metadata": {
        "id": "eLz0tzO1fhbY"
      },
      "execution_count": null,
      "outputs": []
    },
    {
      "cell_type": "code",
      "source": [],
      "metadata": {
        "id": "dWDHzVoyfhkP"
      },
      "execution_count": null,
      "outputs": []
    }
  ]
}